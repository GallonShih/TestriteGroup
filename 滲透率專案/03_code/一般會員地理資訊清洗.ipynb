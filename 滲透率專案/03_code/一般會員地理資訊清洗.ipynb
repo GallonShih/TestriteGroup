{
 "cells": [
  {
   "cell_type": "code",
   "execution_count": 1,
   "metadata": {},
   "outputs": [],
   "source": [
    "%matplotlib inline\n",
    "import numpy as np\n",
    "import pandas as pd\n",
    "import matplotlib.pyplot as plt"
   ]
  },
  {
   "cell_type": "code",
   "execution_count": 2,
   "metadata": {},
   "outputs": [],
   "source": [
    "import re\n",
    "\n",
    "import geopandas as gpd\n",
    "import requests,json\n",
    "\n",
    "\n",
    "from shapely import geos\n",
    "from shapely.geometry import Point\n",
    "import fiona\n",
    "from fiona.crs import from_epsg,from_string\n",
    "\n",
    "from geopandas import GeoDataFrame\n",
    "from shapely.geometry import Polygon\n",
    "from geopandas import GeoSeries\n",
    "\n",
    "\n",
    "from shapely import geometry\n",
    "from shapely.geometry import shape,LineString,Point,Polygon\n",
    "\n",
    "import osmnx as ox\n",
    "import networkx as nx\n",
    "\n",
    "import folium\n",
    "\n",
    "from folium import IFrame"
   ]
  },
  {
   "cell_type": "code",
   "execution_count": 3,
   "metadata": {},
   "outputs": [],
   "source": [
    "def rest(address):\n",
    "    try:\n",
    "        url = 'https://api.tomtom.com/search/2/geocode/{}.json?&key=h2n93GznJsnsDHtv2vPpdT9GmJijp9o9&countrySet=TWN&language=zh-TW&limit=1'.format(address)\n",
    "        response = requests.get(url)\n",
    "        data = response.text\n",
    "        js = json.loads(str(data))\n",
    "        return js['results'][0]['position']\n",
    "    except Exception as e:\n",
    "        print(f'An Error occurred: {e}')\n",
    "        return {'lat':0,'lon':0}\n",
    "    \n",
    "def trans(gdf):\n",
    "    gdf.crs = {'init' :'epsg:3824'} # 避免資料沒設，這邊再重新給一次\n",
    "    gdf=gdf.to_crs({'init' :'epsg:4326'})\n",
    "    return gdf\n",
    "\n",
    "def utf2asc(s):\n",
    "    return str(str(s).encode('ascii', 'xmlcharrefreplace'))[2:-1]\n",
    "\n",
    "heading3 = \"\"\"<h3>{}</h3>\"\"\".format"
   ]
  },
  {
   "cell_type": "code",
   "execution_count": 4,
   "metadata": {},
   "outputs": [],
   "source": [
    "import warnings\n",
    "warnings.filterwarnings(\"ignore\")"
   ]
  },
  {
   "cell_type": "markdown",
   "metadata": {},
   "source": [
    "# 設定row data的資料夾"
   ]
  },
  {
   "cell_type": "code",
   "execution_count": 79,
   "metadata": {},
   "outputs": [],
   "source": [
    "import os\n",
    "os.chdir(r'C:\\Users\\RT009223\\TestriteGroup\\滲透率專案\\01_raw data')"
   ]
  },
  {
   "cell_type": "code",
   "execution_count": 80,
   "metadata": {},
   "outputs": [],
   "source": [
    "filename='1WZ9hoi2020H1'\n",
    "save_file='1WZ9hoi'\n",
    "save_year='2020H1'"
   ]
  },
  {
   "cell_type": "markdown",
   "metadata": {},
   "source": [
    "# SQL有正確地址的資料"
   ]
  },
  {
   "cell_type": "code",
   "execution_count": 81,
   "metadata": {},
   "outputs": [
    {
     "data": {
      "text/plain": [
       "(18149, 4)"
      ]
     },
     "execution_count": 81,
     "metadata": {},
     "output_type": "execute_result"
    }
   ],
   "source": [
    "df_01=pd.read_csv(filename+\"一般卡會員(有完整地址).csv\",error_bad_lines=False,header=None)\n",
    "df_01.columns=['id','addr','lon','lat']\n",
    "df_01.shape"
   ]
  },
  {
   "cell_type": "markdown",
   "metadata": {},
   "source": [
    "## 第一次抓取 村里"
   ]
  },
  {
   "cell_type": "code",
   "execution_count": 82,
   "metadata": {},
   "outputs": [],
   "source": [
    "pattern = re.compile(r'(..[市,縣])(.{1,2}[市,區,鄉,鎮])(.{2,3}[里,村])')\n",
    "location=df_01.addr.apply(lambda x:pattern.findall(x))\n",
    "\n",
    "addr01=[]\n",
    "addr02=[]\n",
    "addr03=[]\n",
    "for i in location:\n",
    "    if len(i)==1:\n",
    "        addr01.append(i[0][0])\n",
    "        addr02.append(i[0][1])\n",
    "        addr03.append(i[0][2])        \n",
    "    else:\n",
    "        addr01.append(np.nan)\n",
    "        addr02.append(np.nan)\n",
    "        addr03.append(np.nan)  "
   ]
  },
  {
   "cell_type": "code",
   "execution_count": 83,
   "metadata": {},
   "outputs": [],
   "source": [
    "df_01['縣市']=addr01\n",
    "df_01['行政區']=addr02\n",
    "df_01['村里']=addr03"
   ]
  },
  {
   "cell_type": "markdown",
   "metadata": {},
   "source": [
    "### 第一次 有村里 資料"
   ]
  },
  {
   "cell_type": "code",
   "execution_count": 84,
   "metadata": {},
   "outputs": [
    {
     "data": {
      "text/plain": [
       "(18147, 7)"
      ]
     },
     "execution_count": 84,
     "metadata": {},
     "output_type": "execute_result"
    }
   ],
   "source": [
    "df_02=df_01.dropna()\n",
    "df_02.shape"
   ]
  },
  {
   "cell_type": "code",
   "execution_count": null,
   "metadata": {},
   "outputs": [],
   "source": []
  },
  {
   "cell_type": "markdown",
   "metadata": {},
   "source": [
    "### 村里邊界資料"
   ]
  },
  {
   "cell_type": "code",
   "execution_count": 85,
   "metadata": {},
   "outputs": [
    {
     "name": "stdout",
     "output_type": "stream",
     "text": [
      "(7760, 4)\n"
     ]
    },
    {
     "data": {
      "text/html": [
       "<div>\n",
       "<style scoped>\n",
       "    .dataframe tbody tr th:only-of-type {\n",
       "        vertical-align: middle;\n",
       "    }\n",
       "\n",
       "    .dataframe tbody tr th {\n",
       "        vertical-align: top;\n",
       "    }\n",
       "\n",
       "    .dataframe thead th {\n",
       "        text-align: right;\n",
       "    }\n",
       "</style>\n",
       "<table border=\"1\" class=\"dataframe\">\n",
       "  <thead>\n",
       "    <tr style=\"text-align: right;\">\n",
       "      <th></th>\n",
       "      <th>縣市</th>\n",
       "      <th>行政區</th>\n",
       "      <th>村里</th>\n",
       "      <th>geometry</th>\n",
       "    </tr>\n",
       "  </thead>\n",
       "  <tbody>\n",
       "    <tr>\n",
       "      <th>0</th>\n",
       "      <td>高雄市</td>\n",
       "      <td>林園區</td>\n",
       "      <td>中門里</td>\n",
       "      <td>POLYGON ((120.36772 22.49564, 120.36427 22.498...</td>\n",
       "    </tr>\n",
       "    <tr>\n",
       "      <th>1</th>\n",
       "      <td>高雄市</td>\n",
       "      <td>林園區</td>\n",
       "      <td>港埔里</td>\n",
       "      <td>POLYGON ((120.37325 22.49123, 120.37147 22.492...</td>\n",
       "    </tr>\n",
       "    <tr>\n",
       "      <th>2</th>\n",
       "      <td>高雄市</td>\n",
       "      <td>旗津區</td>\n",
       "      <td>上竹里</td>\n",
       "      <td>POLYGON ((120.28976 22.57317, 120.28577 22.577...</td>\n",
       "    </tr>\n",
       "    <tr>\n",
       "      <th>3</th>\n",
       "      <td>高雄市</td>\n",
       "      <td>旗津區</td>\n",
       "      <td>中興里</td>\n",
       "      <td>POLYGON ((120.30320 22.55568, 120.30284 22.557...</td>\n",
       "    </tr>\n",
       "    <tr>\n",
       "      <th>4</th>\n",
       "      <td>連江縣</td>\n",
       "      <td>南竿鄉</td>\n",
       "      <td>津沙村</td>\n",
       "      <td>POLYGON ((119.91684 26.14109, 119.91683 26.141...</td>\n",
       "    </tr>\n",
       "  </tbody>\n",
       "</table>\n",
       "</div>"
      ],
      "text/plain": [
       "    縣市  行政區   村里                                           geometry\n",
       "0  高雄市  林園區  中門里  POLYGON ((120.36772 22.49564, 120.36427 22.498...\n",
       "1  高雄市  林園區  港埔里  POLYGON ((120.37325 22.49123, 120.37147 22.492...\n",
       "2  高雄市  旗津區  上竹里  POLYGON ((120.28976 22.57317, 120.28577 22.577...\n",
       "3  高雄市  旗津區  中興里  POLYGON ((120.30320 22.55568, 120.30284 22.557...\n",
       "4  連江縣  南竿鄉  津沙村  POLYGON ((119.91684 26.14109, 119.91683 26.141..."
      ]
     },
     "execution_count": 85,
     "metadata": {},
     "output_type": "execute_result"
    }
   ],
   "source": [
    "gdf=gpd.read_file(r'C:\\Users\\RT009223\\TestriteGroup\\滲透率專案\\02_adjusted data\\geo data\\VILLAGE_MOI_1090423.shp',encoding='utf-8')\n",
    "gdf=gdf.loc[:,['COUNTYNAME','TOWNNAME','VILLNAME','geometry']]\n",
    "gdf=trans(gdf)\n",
    "gdf=gdf.dropna().reset_index(drop=True)\n",
    "print(gdf.shape)\n",
    "\n",
    "gdf.columns=['縣市','行政區','村里','geometry']\n",
    "gdf['縣市']=list(gdf['縣市'].apply(lambda x:x.replace('臺','台')))\n",
    "gdf['行政區']=list(gdf['行政區'].apply(lambda x:x.replace('臺','台')))\n",
    "gdf['村里']=list(gdf['村里'].apply(lambda x:x.replace('臺','台')))\n",
    "\n",
    "df_02['縣市']=list(df_02['縣市'].apply(lambda x:x.replace('臺','台')))\n",
    "df_02['行政區']=list(df_02['行政區'].apply(lambda x:x.replace('臺','台')))\n",
    "df_02['村里']=list(df_02['村里'].apply(lambda x:x.replace('臺','台')))\n",
    "\n",
    "gdf['村里']=gdf['村里'].apply(lambda x:x.replace('舘','館'))\n",
    "df_02['村里']=df_02['村里'].apply(lambda x:x.replace('舘','館'))\n",
    "gdf['村里']=gdf['村里'].apply(lambda x:x.replace('双','雙'))\n",
    "df_02['村里']=df_02['村里'].apply(lambda x:x.replace('双','雙'))\n",
    "gdf['村里']=gdf['村里'].apply(lambda x:x.replace('石[曹]里','石𥕢里'))\n",
    "gdf['村里']=gdf['村里'].apply(lambda x:x.replace('鷄林里','雞林里'))\n",
    "gdf['村里']=gdf['村里'].apply(lambda x:x.replace('水磜村','水祭村'))\n",
    "gdf['村里']=gdf['村里'].apply(lambda x:x.replace('珊湖里','珊瑚里'))\n",
    "\n",
    "gdf['村里']=gdf['村里'].apply(lambda x:x.replace('欍','瓊'))\n",
    "df_02['村里']=df_02['村里'].apply(lambda x:x.replace('溝垻里','溝埧里'))\n",
    "df_02['村里']=df_02['村里'].apply(lambda x:x.replace('崙峰里','崙峯里'))\n",
    "gdf.head()"
   ]
  },
  {
   "cell_type": "markdown",
   "metadata": {},
   "source": [
    "### 檢查1"
   ]
  },
  {
   "cell_type": "code",
   "execution_count": 91,
   "metadata": {},
   "outputs": [
    {
     "data": {
      "text/html": [
       "<div>\n",
       "<style scoped>\n",
       "    .dataframe tbody tr th:only-of-type {\n",
       "        vertical-align: middle;\n",
       "    }\n",
       "\n",
       "    .dataframe tbody tr th {\n",
       "        vertical-align: top;\n",
       "    }\n",
       "\n",
       "    .dataframe thead th {\n",
       "        text-align: right;\n",
       "    }\n",
       "</style>\n",
       "<table border=\"1\" class=\"dataframe\">\n",
       "  <thead>\n",
       "    <tr style=\"text-align: right;\">\n",
       "      <th></th>\n",
       "      <th>村里</th>\n",
       "      <th>n</th>\n",
       "    </tr>\n",
       "  </thead>\n",
       "  <tbody>\n",
       "    <tr>\n",
       "      <th>0</th>\n",
       "      <td>?南村</td>\n",
       "      <td>1</td>\n",
       "    </tr>\n",
       "    <tr>\n",
       "      <th>1</th>\n",
       "      <td>和興里</td>\n",
       "      <td>1</td>\n",
       "    </tr>\n",
       "    <tr>\n",
       "      <th>2</th>\n",
       "      <td>山腳里</td>\n",
       "      <td>1</td>\n",
       "    </tr>\n",
       "    <tr>\n",
       "      <th>3</th>\n",
       "      <td>那拔里</td>\n",
       "      <td>1</td>\n",
       "    </tr>\n",
       "    <tr>\n",
       "      <th>4</th>\n",
       "      <td>里?里</td>\n",
       "      <td>1</td>\n",
       "    </tr>\n",
       "  </tbody>\n",
       "</table>\n",
       "</div>"
      ],
      "text/plain": [
       "    村里  n\n",
       "0  ?南村  1\n",
       "1  和興里  1\n",
       "2  山腳里  1\n",
       "3  那拔里  1\n",
       "4  里?里  1"
      ]
     },
     "execution_count": 91,
     "metadata": {},
     "output_type": "execute_result"
    }
   ],
   "source": [
    "site1=df_02[-(df_02['縣市']+df_02['行政區']+df_02['村里']).isin(gdf['縣市']+gdf['行政區']+gdf['村里'])].groupby(['村里'])['行政區'].nunique().reset_index(name='n').sort_values(by='n',ascending=False).reset_index(drop=True)\n",
    "site1.head(6)"
   ]
  },
  {
   "cell_type": "code",
   "execution_count": 89,
   "metadata": {},
   "outputs": [
    {
     "name": "stdout",
     "output_type": "stream",
     "text": [
      "0 ?南村 ['萬丹鄉']\n",
      "1 和興里 ['鳳山區' '中和區' '中埔鄉']\n",
      "2 山腳里 ['蘆竹區' '泰山區' '草屯鎮' '龍井區' '苑裡鎮' '恆春鎮']\n",
      "3 那拔里 ['新化區']\n",
      "4 里?里 ['關山鎮']\n"
     ]
    }
   ],
   "source": [
    "number=0\n",
    "for i in site1[site1.n>0]['村里']:\n",
    "    print(number,i, df_02[df_02['村里']==i]['行政區'].unique())\n",
    "    number+=1"
   ]
  },
  {
   "cell_type": "code",
   "execution_count": 24,
   "metadata": {},
   "outputs": [
    {
     "name": "stdout",
     "output_type": "stream",
     "text": [
      "瑞芳區 ['濂洞里']\n"
     ]
    }
   ],
   "source": [
    "site2=site1[site1.n>0]['村里'][0]\n",
    "site3=df_02[df_02['村里']==site2]['行政區'].unique()\n",
    "\n",
    "for i in site3:\n",
    "    print(i,list(gdf[gdf['行政區']==i]['村里'][gdf[gdf['行政區']==i]['村里'].str.contains('洞里')]))"
   ]
  },
  {
   "cell_type": "code",
   "execution_count": null,
   "metadata": {},
   "outputs": [],
   "source": []
  },
  {
   "cell_type": "code",
   "execution_count": 48,
   "metadata": {},
   "outputs": [
    {
     "data": {
      "text/html": [
       "<div>\n",
       "<style scoped>\n",
       "    .dataframe tbody tr th:only-of-type {\n",
       "        vertical-align: middle;\n",
       "    }\n",
       "\n",
       "    .dataframe tbody tr th {\n",
       "        vertical-align: top;\n",
       "    }\n",
       "\n",
       "    .dataframe thead th {\n",
       "        text-align: right;\n",
       "    }\n",
       "</style>\n",
       "<table border=\"1\" class=\"dataframe\">\n",
       "  <thead>\n",
       "    <tr style=\"text-align: right;\">\n",
       "      <th></th>\n",
       "      <th>id</th>\n",
       "      <th>addr</th>\n",
       "      <th>lon</th>\n",
       "      <th>lat</th>\n",
       "      <th>縣市</th>\n",
       "      <th>行政區</th>\n",
       "      <th>村里</th>\n",
       "    </tr>\n",
       "  </thead>\n",
       "  <tbody>\n",
       "    <tr>\n",
       "      <th>16669</th>\n",
       "      <td>20120525000624</td>\n",
       "      <td>新北市林口區公西里1 244                                ...</td>\n",
       "      <td>121.362176</td>\n",
       "      <td>25.065314</td>\n",
       "      <td>新北市</td>\n",
       "      <td>林口區</td>\n",
       "      <td>公西里</td>\n",
       "    </tr>\n",
       "  </tbody>\n",
       "</table>\n",
       "</div>"
      ],
      "text/plain": [
       "                   id                                               addr  \\\n",
       "16669  20120525000624  新北市林口區公西里1 244                                ...   \n",
       "\n",
       "              lon        lat   縣市  行政區   村里  \n",
       "16669  121.362176  25.065314  新北市  林口區  公西里  "
      ]
     },
     "execution_count": 48,
     "metadata": {},
     "output_type": "execute_result"
    }
   ],
   "source": [
    "df_02[-(df_02['縣市']+df_02['行政區']+df_02['村里']).isin(gdf['縣市']+gdf['行政區']+gdf['村里'])]\n",
    "df_02[(df_02['行政區']+df_02['村里'])=='林口區公西里']"
   ]
  },
  {
   "cell_type": "code",
   "execution_count": 49,
   "metadata": {},
   "outputs": [
    {
     "data": {
      "text/html": [
       "<div>\n",
       "<style scoped>\n",
       "    .dataframe tbody tr th:only-of-type {\n",
       "        vertical-align: middle;\n",
       "    }\n",
       "\n",
       "    .dataframe tbody tr th {\n",
       "        vertical-align: top;\n",
       "    }\n",
       "\n",
       "    .dataframe thead th {\n",
       "        text-align: right;\n",
       "    }\n",
       "</style>\n",
       "<table border=\"1\" class=\"dataframe\">\n",
       "  <thead>\n",
       "    <tr style=\"text-align: right;\">\n",
       "      <th></th>\n",
       "      <th>縣市</th>\n",
       "      <th>行政區</th>\n",
       "      <th>村里</th>\n",
       "      <th>geometry</th>\n",
       "    </tr>\n",
       "  </thead>\n",
       "  <tbody>\n",
       "  </tbody>\n",
       "</table>\n",
       "</div>"
      ],
      "text/plain": [
       "Empty GeoDataFrame\n",
       "Columns: [縣市, 行政區, 村里, geometry]\n",
       "Index: []"
      ]
     },
     "execution_count": 49,
     "metadata": {},
     "output_type": "execute_result"
    }
   ],
   "source": [
    "gdf[(gdf['行政區']+gdf['村里'])=='林口區公西里']"
   ]
  },
  {
   "cell_type": "code",
   "execution_count": 50,
   "metadata": {},
   "outputs": [
    {
     "data": {
      "text/html": [
       "<div>\n",
       "<style scoped>\n",
       "    .dataframe tbody tr th:only-of-type {\n",
       "        vertical-align: middle;\n",
       "    }\n",
       "\n",
       "    .dataframe tbody tr th {\n",
       "        vertical-align: top;\n",
       "    }\n",
       "\n",
       "    .dataframe thead th {\n",
       "        text-align: right;\n",
       "    }\n",
       "</style>\n",
       "<table border=\"1\" class=\"dataframe\">\n",
       "  <thead>\n",
       "    <tr style=\"text-align: right;\">\n",
       "      <th></th>\n",
       "      <th></th>\n",
       "      <th>id</th>\n",
       "      <th>addr</th>\n",
       "      <th>lon</th>\n",
       "      <th>lat</th>\n",
       "      <th>縣市</th>\n",
       "    </tr>\n",
       "    <tr>\n",
       "      <th>行政區</th>\n",
       "      <th>村里</th>\n",
       "      <th></th>\n",
       "      <th></th>\n",
       "      <th></th>\n",
       "      <th></th>\n",
       "      <th></th>\n",
       "    </tr>\n",
       "  </thead>\n",
       "  <tbody>\n",
       "    <tr>\n",
       "      <th>竹東鎮</th>\n",
       "      <th>上?里</th>\n",
       "      <td>11</td>\n",
       "      <td>11</td>\n",
       "      <td>11</td>\n",
       "      <td>11</td>\n",
       "      <td>11</td>\n",
       "    </tr>\n",
       "    <tr>\n",
       "      <th>三峽區</th>\n",
       "      <th>永?里</th>\n",
       "      <td>6</td>\n",
       "      <td>6</td>\n",
       "      <td>6</td>\n",
       "      <td>6</td>\n",
       "      <td>6</td>\n",
       "    </tr>\n",
       "    <tr>\n",
       "      <th>樹林區</th>\n",
       "      <th>?寮里</th>\n",
       "      <td>6</td>\n",
       "      <td>6</td>\n",
       "      <td>6</td>\n",
       "      <td>6</td>\n",
       "      <td>6</td>\n",
       "    </tr>\n",
       "    <tr>\n",
       "      <th>彰化市</th>\n",
       "      <th>下?里</th>\n",
       "      <td>3</td>\n",
       "      <td>3</td>\n",
       "      <td>3</td>\n",
       "      <td>3</td>\n",
       "      <td>3</td>\n",
       "    </tr>\n",
       "    <tr>\n",
       "      <th>萬華區</th>\n",
       "      <th>糖?里</th>\n",
       "      <td>3</td>\n",
       "      <td>3</td>\n",
       "      <td>3</td>\n",
       "      <td>3</td>\n",
       "      <td>3</td>\n",
       "    </tr>\n",
       "    <tr>\n",
       "      <th>板橋區</th>\n",
       "      <th>公?里</th>\n",
       "      <td>3</td>\n",
       "      <td>3</td>\n",
       "      <td>3</td>\n",
       "      <td>3</td>\n",
       "      <td>3</td>\n",
       "    </tr>\n",
       "    <tr>\n",
       "      <th>新店區</th>\n",
       "      <th>五?里</th>\n",
       "      <td>3</td>\n",
       "      <td>3</td>\n",
       "      <td>3</td>\n",
       "      <td>3</td>\n",
       "      <td>3</td>\n",
       "    </tr>\n",
       "    <tr>\n",
       "      <th>土城區</th>\n",
       "      <th>?廷里</th>\n",
       "      <td>3</td>\n",
       "      <td>3</td>\n",
       "      <td>3</td>\n",
       "      <td>3</td>\n",
       "      <td>3</td>\n",
       "    </tr>\n",
       "    <tr>\n",
       "      <th>中和區</th>\n",
       "      <th>瓦?里</th>\n",
       "      <td>2</td>\n",
       "      <td>2</td>\n",
       "      <td>2</td>\n",
       "      <td>2</td>\n",
       "      <td>2</td>\n",
       "    </tr>\n",
       "    <tr>\n",
       "      <th>民雄鄉</th>\n",
       "      <th>?福村</th>\n",
       "      <td>2</td>\n",
       "      <td>2</td>\n",
       "      <td>2</td>\n",
       "      <td>2</td>\n",
       "      <td>2</td>\n",
       "    </tr>\n",
       "    <tr>\n",
       "      <th>永和區</th>\n",
       "      <th>新?里</th>\n",
       "      <td>2</td>\n",
       "      <td>2</td>\n",
       "      <td>2</td>\n",
       "      <td>2</td>\n",
       "      <td>2</td>\n",
       "    </tr>\n",
       "    <tr>\n",
       "      <th>大園區</th>\n",
       "      <th>?林里</th>\n",
       "      <td>1</td>\n",
       "      <td>1</td>\n",
       "      <td>1</td>\n",
       "      <td>1</td>\n",
       "      <td>1</td>\n",
       "    </tr>\n",
       "    <tr>\n",
       "      <th>埔心鄉</th>\n",
       "      <th>舊?村</th>\n",
       "      <td>1</td>\n",
       "      <td>1</td>\n",
       "      <td>1</td>\n",
       "      <td>1</td>\n",
       "      <td>1</td>\n",
       "    </tr>\n",
       "    <tr>\n",
       "      <th>彰化市</th>\n",
       "      <th>南?里</th>\n",
       "      <td>1</td>\n",
       "      <td>1</td>\n",
       "      <td>1</td>\n",
       "      <td>1</td>\n",
       "      <td>1</td>\n",
       "    </tr>\n",
       "    <tr>\n",
       "      <th>斗六市</th>\n",
       "      <th>崙?里</th>\n",
       "      <td>1</td>\n",
       "      <td>1</td>\n",
       "      <td>1</td>\n",
       "      <td>1</td>\n",
       "      <td>1</td>\n",
       "    </tr>\n",
       "  </tbody>\n",
       "</table>\n",
       "</div>"
      ],
      "text/plain": [
       "         id  addr  lon  lat  縣市\n",
       "行政區 村里                         \n",
       "竹東鎮 上?里  11    11   11   11  11\n",
       "三峽區 永?里   6     6    6    6   6\n",
       "樹林區 ?寮里   6     6    6    6   6\n",
       "彰化市 下?里   3     3    3    3   3\n",
       "萬華區 糖?里   3     3    3    3   3\n",
       "板橋區 公?里   3     3    3    3   3\n",
       "新店區 五?里   3     3    3    3   3\n",
       "土城區 ?廷里   3     3    3    3   3\n",
       "中和區 瓦?里   2     2    2    2   2\n",
       "民雄鄉 ?福村   2     2    2    2   2\n",
       "永和區 新?里   2     2    2    2   2\n",
       "大園區 ?林里   1     1    1    1   1\n",
       "埔心鄉 舊?村   1     1    1    1   1\n",
       "彰化市 南?里   1     1    1    1   1\n",
       "斗六市 崙?里   1     1    1    1   1"
      ]
     },
     "execution_count": 50,
     "metadata": {},
     "output_type": "execute_result"
    }
   ],
   "source": [
    "df_02[-(df_02['縣市']+df_02['行政區']+df_02['村里']).isin(gdf['縣市']+gdf['行政區']+gdf['村里'])].groupby(['行政區','村里']).count().sort_values(by='id',ascending=False).head(15)"
   ]
  },
  {
   "cell_type": "code",
   "execution_count": 51,
   "metadata": {},
   "outputs": [
    {
     "data": {
      "text/html": [
       "<div>\n",
       "<style scoped>\n",
       "    .dataframe tbody tr th:only-of-type {\n",
       "        vertical-align: middle;\n",
       "    }\n",
       "\n",
       "    .dataframe tbody tr th {\n",
       "        vertical-align: top;\n",
       "    }\n",
       "\n",
       "    .dataframe thead th {\n",
       "        text-align: right;\n",
       "    }\n",
       "</style>\n",
       "<table border=\"1\" class=\"dataframe\">\n",
       "  <thead>\n",
       "    <tr style=\"text-align: right;\">\n",
       "      <th></th>\n",
       "      <th>縣市</th>\n",
       "      <th>行政區</th>\n",
       "      <th>村里</th>\n",
       "      <th>geometry</th>\n",
       "    </tr>\n",
       "  </thead>\n",
       "  <tbody>\n",
       "    <tr>\n",
       "      <th>119</th>\n",
       "      <td>屏東縣</td>\n",
       "      <td>里港鄉</td>\n",
       "      <td>三廍村</td>\n",
       "      <td>POLYGON ((120.52497 22.79960, 120.52385 22.799...</td>\n",
       "    </tr>\n",
       "  </tbody>\n",
       "</table>\n",
       "</div>"
      ],
      "text/plain": [
       "      縣市  行政區   村里                                           geometry\n",
       "119  屏東縣  里港鄉  三廍村  POLYGON ((120.52497 22.79960, 120.52385 22.799..."
      ]
     },
     "execution_count": 51,
     "metadata": {},
     "output_type": "execute_result"
    }
   ],
   "source": [
    "gdf[gdf['村里']=='三廍村']"
   ]
  },
  {
   "cell_type": "code",
   "execution_count": 52,
   "metadata": {},
   "outputs": [
    {
     "data": {
      "text/plain": [
       "array(['新店區'], dtype=object)"
      ]
     },
     "execution_count": 52,
     "metadata": {},
     "output_type": "execute_result"
    }
   ],
   "source": [
    "df_02[df_02['村里']=='五?里']['行政區'].unique()"
   ]
  },
  {
   "cell_type": "code",
   "execution_count": null,
   "metadata": {},
   "outputs": [],
   "source": []
  },
  {
   "cell_type": "markdown",
   "metadata": {},
   "source": [
    "### 字元調整"
   ]
  },
  {
   "cell_type": "code",
   "execution_count": 87,
   "metadata": {},
   "outputs": [],
   "source": [
    "df_02['村里']=df_02['村里'].apply(lambda x:x.replace('糖部里','糖廍里'))\n",
    "df_02['村里']=df_02['村里'].apply(lambda x:x.replace('糖?里','糖廍里'))\n",
    "df_02['村里']=df_02['村里'].apply(lambda x:x.replace('磚?里','磚磘里'))\n",
    "df_02['村里']=df_02['村里'].apply(lambda x:x.replace('磚瑤里','磚磘里'))\n",
    "df_02['村里']=df_02['村里'].apply(lambda x:x.replace('珊湖里','珊瑚里'))\n",
    "df_02['村里']=df_02['村里'].apply(lambda x:x.replace('下?里','下廍里'))\n",
    "\n",
    "df_02.loc[df_02['行政區']=='彰化市',['村里']]=df_02.loc[df_02['行政區']=='彰化市',['村里']].apply(lambda x:x.replace('南?里','南瑶里'))\n",
    "df_02.loc[df_02['行政區']=='官田區',['村里']]=df_02.loc[df_02['行政區']=='官田區',['村里']].apply(lambda x:x.replace('南?里','南廍里'))\n",
    "#df_02['村里']=df_02['村里'].apply(lambda x:x.replace('南?里','南瑶里'))\n",
    "\n",
    "\n",
    "df_02['村里']=df_02['村里'].apply(lambda x:x.replace('崙?里','崙峯里'))\n",
    "df_02['村里']=df_02['村里'].apply(lambda x:x.replace('?子里','廍子里'))\n",
    "\n",
    "df_02['村里']=df_02['村里'].apply(lambda x:x.replace('石?村','石硦村'))\n",
    "df_02['村里']=df_02['村里'].apply(lambda x:x.replace('上?里','上館里'))\n",
    "df_02['村里']=df_02['村里'].apply(lambda x:x.replace('永?里','永館里'))\n",
    "\n",
    "df_02['村里']=df_02['村里'].apply(lambda x:x.replace('瓦?村','瓦磘村'))\n",
    "df_02['村里']=df_02['村里'].apply(lambda x:x.replace('瓦?里','瓦磘里'))\n",
    "df_02['村里']=df_02['村里'].apply(lambda x:x.replace('五?里','五峯里'))\n",
    "df_02['村里']=df_02['村里'].apply(lambda x:x.replace('?行里','塩行里'))\n",
    "df_02['村里']=df_02['村里'].apply(lambda x:x.replace('?廷里','峯廷里'))\n",
    "\n",
    "df_02['村里']=df_02['村里'].apply(lambda x:x.replace('?興里','塩興里'))\n",
    "df_02['村里']=df_02['村里'].apply(lambda x:x.replace('?廷里','峯廷里'))\n",
    "\n",
    "df_02['村里']=df_02['村里'].apply(lambda x:x.replace('公?里','公館里'))\n",
    "\n",
    "df_02['村里']=df_02['村里'].apply(lambda x:x.replace('?洲里','塩洲里'))\n",
    "df_02['村里']=df_02['村里'].apply(lambda x:x.replace('?龍里','雙龍里'))\n",
    "\n",
    "#df_02['村里']=df_02['村里'].apply(lambda x:x.replace('?林里','雞林里'))\n",
    "df_02.loc[df_02['行政區']=='竹東鎮',['村里']]=df_02.loc[df_02['行政區']=='竹東鎮',['村里']].apply(lambda x:x.replace('?林里','雞林里'))\n",
    "\n",
    "df_02.loc[df_02['行政區']=='大園區',['村里']]=df_02.loc[df_02['行政區']=='大園區',['村里']].apply(lambda x:x.replace('?林里','菓林里'))\n",
    "\n",
    "df_02['村里']=df_02['村里'].apply(lambda x:x.replace('?寮里','獇寮里'))\n",
    "df_02['村里']=df_02['村里'].apply(lambda x:x.replace('新?里','新廍里'))\n",
    "\n",
    "df_02['村里']=df_02['村里'].apply(lambda x:x.replace('蔗?里','蔗廍里'))\n",
    "df_02['村里']=df_02['村里'].apply(lambda x:x.replace('?埔里','坔埔里'))\n",
    "df_02['村里']=df_02['村里'].apply(lambda x:x.replace('?榔里','槺榔里'))\n",
    "df_02['村里']=df_02['村里'].apply(lambda x:x.replace('?江里','晋江里'))\n",
    "df_02['村里']=df_02['村里'].apply(lambda x:x.replace('?福村','雙福村'))\n",
    "df_02['村里']=df_02['村里'].apply(lambda x:x.replace('爪?里','爪峯里'))\n",
    "\n",
    "df_02['村里']=df_02['村里'].apply(lambda x:x.replace('舊?村','舊館村'))\n",
    "df_02['村里']=df_02['村里'].apply(lambda x:x.replace('南?村','南館村'))\n",
    "\n",
    "df_02['村里']=df_02['村里'].apply(lambda x:x.replace('灰?里','灰磘里'))\n",
    "df_02['村里']=df_02['村里'].apply(lambda x:x.replace('三?村','三廍村'))\n",
    "\n",
    "\n",
    "df_02.loc[df_02['行政區']=='將軍區',['村里']]=df_02.loc[df_02['行政區']=='將軍區',['村里']].apply(lambda x:x.replace('忠興里','忠嘉里'))\n",
    "\n",
    "df_02['村里']=df_02['村里'].apply(lambda x:x.replace('下部里','下廍里'))\n",
    "df_02.loc[df_02['行政區']=='埔鹽鄉',['村里']]=df_02.loc[df_02['行政區']=='埔鹽鄉',['村里']].apply(lambda x:x.replace('?子村','廍子村'))\n",
    "df_02.loc[df_02['行政區']=='四湖鄉',['村里']]=df_02.loc[df_02['行政區']=='四湖鄉',['村里']].apply(lambda x:x.replace('?子村','萡子村'))\n",
    "\n",
    "df_02['村里']=df_02['村里'].apply(lambda x:x.replace('?田里','塩田里'))\n",
    "df_02['村里']=df_02['村里'].apply(lambda x:x.replace('山?里','山脚里'))\n",
    "\n",
    "df_02.loc[df_02['行政區']=='北埔鄉',['村里']]=df_02.loc[df_02['行政區']=='北埔鄉',['村里']].apply(lambda x:x.replace('水?村','水祭村'))\n",
    "df_02.loc[df_02['行政區']=='北埔鄉',['村里']]=df_02.loc[df_02['行政區']=='北埔鄉',['村里']].apply(lambda x:x.replace('水？村','水祭村'))\n",
    "df_02.loc[df_02['行政區']=='瑞芳區',['村里']]=df_02.loc[df_02['行政區']=='瑞芳區',['村里']].apply(lambda x:x.replace('?洞里','濂洞里'))"
   ]
  },
  {
   "cell_type": "code",
   "execution_count": null,
   "metadata": {},
   "outputs": [],
   "source": []
  },
  {
   "cell_type": "markdown",
   "metadata": {},
   "source": [
    "### 第一次抓取 村里 與 geo data 合不合"
   ]
  },
  {
   "cell_type": "code",
   "execution_count": 90,
   "metadata": {},
   "outputs": [
    {
     "name": "stdout",
     "output_type": "stream",
     "text": [
      "(18141, 7)\n",
      "(6, 7)\n"
     ]
    }
   ],
   "source": [
    "#合\n",
    "df_02_1=df_02[(df_02['縣市']+df_02['行政區']+df_02['村里']).isin(gdf['縣市']+gdf['行政區']+gdf['村里'])].reset_index(drop=True)\n",
    "\n",
    "#不合\n",
    "df_02_2=df_02[-(df_02['縣市']+df_02['行政區']+df_02['村里']).isin(gdf['縣市']+gdf['行政區']+gdf['村里'])].reset_index(drop=True)\n",
    "print(df_02_1.shape)\n",
    "print(df_02_2.shape)"
   ]
  },
  {
   "cell_type": "markdown",
   "metadata": {},
   "source": [
    "### 不合的資料用經緯度 與村里邊界資料mapping"
   ]
  },
  {
   "cell_type": "code",
   "execution_count": 92,
   "metadata": {},
   "outputs": [],
   "source": [
    "df_02_2.lon=df_02_2.lon.apply(lambda x:float(x))\n",
    "df_02_2.lat=df_02_2.lat.apply(lambda x:float(x))"
   ]
  },
  {
   "cell_type": "code",
   "execution_count": 93,
   "metadata": {},
   "outputs": [
    {
     "data": {
      "text/html": [
       "<div>\n",
       "<style scoped>\n",
       "    .dataframe tbody tr th:only-of-type {\n",
       "        vertical-align: middle;\n",
       "    }\n",
       "\n",
       "    .dataframe tbody tr th {\n",
       "        vertical-align: top;\n",
       "    }\n",
       "\n",
       "    .dataframe thead th {\n",
       "        text-align: right;\n",
       "    }\n",
       "</style>\n",
       "<table border=\"1\" class=\"dataframe\">\n",
       "  <thead>\n",
       "    <tr style=\"text-align: right;\">\n",
       "      <th></th>\n",
       "      <th>id</th>\n",
       "      <th>addr</th>\n",
       "      <th>lon</th>\n",
       "      <th>lat</th>\n",
       "      <th>縣市</th>\n",
       "      <th>行政區</th>\n",
       "      <th>村里</th>\n",
       "    </tr>\n",
       "  </thead>\n",
       "  <tbody>\n",
       "    <tr>\n",
       "      <th>0</th>\n",
       "      <td>20141011000055</td>\n",
       "      <td>屏東縣萬丹鄉?南村10鄰下蚶路257巷2號                         ...</td>\n",
       "      <td>120.463247</td>\n",
       "      <td>22.598741</td>\n",
       "      <td>屏東縣</td>\n",
       "      <td>萬丹鄉</td>\n",
       "      <td>?南村</td>\n",
       "    </tr>\n",
       "    <tr>\n",
       "      <th>1</th>\n",
       "      <td>20190815000683</td>\n",
       "      <td>臺南市新化區那拔里1鄰那拔林21號之4                           ...</td>\n",
       "      <td>120.347761</td>\n",
       "      <td>23.066863</td>\n",
       "      <td>台南市</td>\n",
       "      <td>新化區</td>\n",
       "      <td>那拔里</td>\n",
       "    </tr>\n",
       "    <tr>\n",
       "      <th>2</th>\n",
       "      <td>20200209001274</td>\n",
       "      <td>苗栗縣苑裡鎮山腳里13鄰山腳358之36                          ...</td>\n",
       "      <td>120.686828</td>\n",
       "      <td>24.415751</td>\n",
       "      <td>苗栗縣</td>\n",
       "      <td>苑裡鎮</td>\n",
       "      <td>山腳里</td>\n",
       "    </tr>\n",
       "    <tr>\n",
       "      <th>3</th>\n",
       "      <td>20200109000388</td>\n",
       "      <td>臺東縣關山鎮里?里8鄰自強路64號                             ...</td>\n",
       "      <td>121.161778</td>\n",
       "      <td>23.044377</td>\n",
       "      <td>台東縣</td>\n",
       "      <td>關山鎮</td>\n",
       "      <td>里?里</td>\n",
       "    </tr>\n",
       "    <tr>\n",
       "      <th>4</th>\n",
       "      <td>19991211002418</td>\n",
       "      <td>嘉義縣中埔鄉和興里中華路326-9號 606                        ...</td>\n",
       "      <td>120.452264</td>\n",
       "      <td>23.436966</td>\n",
       "      <td>嘉義縣</td>\n",
       "      <td>中埔鄉</td>\n",
       "      <td>和興里</td>\n",
       "    </tr>\n",
       "    <tr>\n",
       "      <th>5</th>\n",
       "      <td>20200109000316</td>\n",
       "      <td>臺南市新化區那拔里4鄰那拔林156號之3                          ...</td>\n",
       "      <td>120.355749</td>\n",
       "      <td>23.070499</td>\n",
       "      <td>台南市</td>\n",
       "      <td>新化區</td>\n",
       "      <td>那拔里</td>\n",
       "    </tr>\n",
       "  </tbody>\n",
       "</table>\n",
       "</div>"
      ],
      "text/plain": [
       "               id                                               addr  \\\n",
       "0  20141011000055  屏東縣萬丹鄉?南村10鄰下蚶路257巷2號                         ...   \n",
       "1  20190815000683  臺南市新化區那拔里1鄰那拔林21號之4                           ...   \n",
       "2  20200209001274  苗栗縣苑裡鎮山腳里13鄰山腳358之36                          ...   \n",
       "3  20200109000388  臺東縣關山鎮里?里8鄰自強路64號                             ...   \n",
       "4  19991211002418  嘉義縣中埔鄉和興里中華路326-9號 606                        ...   \n",
       "5  20200109000316  臺南市新化區那拔里4鄰那拔林156號之3                          ...   \n",
       "\n",
       "          lon        lat   縣市  行政區   村里  \n",
       "0  120.463247  22.598741  屏東縣  萬丹鄉  ?南村  \n",
       "1  120.347761  23.066863  台南市  新化區  那拔里  \n",
       "2  120.686828  24.415751  苗栗縣  苑裡鎮  山腳里  \n",
       "3  121.161778  23.044377  台東縣  關山鎮  里?里  \n",
       "4  120.452264  23.436966  嘉義縣  中埔鄉  和興里  \n",
       "5  120.355749  23.070499  台南市  新化區  那拔里  "
      ]
     },
     "execution_count": 93,
     "metadata": {},
     "output_type": "execute_result"
    }
   ],
   "source": [
    "df_02_2"
   ]
  },
  {
   "cell_type": "code",
   "execution_count": 98,
   "metadata": {},
   "outputs": [
    {
     "name": "stdout",
     "output_type": "stream",
     "text": [
      "(6, 8)\n"
     ]
    }
   ],
   "source": [
    "geom=[Point(data.lon,data.lat) for idx, data in df_02_2.iterrows()]\n",
    "crs = {'init': 'epsg:4326'}\n",
    "df_02_2 = gpd.GeoDataFrame(df_02_2, crs=crs, geometry=geom)\n",
    "print(df_02_2.shape)"
   ]
  },
  {
   "cell_type": "code",
   "execution_count": 99,
   "metadata": {},
   "outputs": [
    {
     "data": {
      "text/plain": [
       "(6, 12)"
      ]
     },
     "execution_count": 99,
     "metadata": {},
     "output_type": "execute_result"
    }
   ],
   "source": [
    "df_02_3 = gpd.tools.sjoin(df_02_2,gdf, how=\"inner\", op='intersects')\n",
    "df_02_3.shape"
   ]
  },
  {
   "cell_type": "code",
   "execution_count": 100,
   "metadata": {},
   "outputs": [
    {
     "data": {
      "text/html": [
       "<div>\n",
       "<style scoped>\n",
       "    .dataframe tbody tr th:only-of-type {\n",
       "        vertical-align: middle;\n",
       "    }\n",
       "\n",
       "    .dataframe tbody tr th {\n",
       "        vertical-align: top;\n",
       "    }\n",
       "\n",
       "    .dataframe thead th {\n",
       "        text-align: right;\n",
       "    }\n",
       "</style>\n",
       "<table border=\"1\" class=\"dataframe\">\n",
       "  <thead>\n",
       "    <tr style=\"text-align: right;\">\n",
       "      <th></th>\n",
       "      <th>id</th>\n",
       "      <th>addr</th>\n",
       "      <th>lon</th>\n",
       "      <th>lat</th>\n",
       "      <th>縣市</th>\n",
       "      <th>行政區</th>\n",
       "      <th>村里</th>\n",
       "    </tr>\n",
       "  </thead>\n",
       "  <tbody>\n",
       "    <tr>\n",
       "      <th>0</th>\n",
       "      <td>20141011000055</td>\n",
       "      <td>屏東縣萬丹鄉?南村10鄰下蚶路257巷2號                         ...</td>\n",
       "      <td>120.463247</td>\n",
       "      <td>22.598741</td>\n",
       "      <td>屏東縣</td>\n",
       "      <td>萬丹鄉</td>\n",
       "      <td>厦南村</td>\n",
       "    </tr>\n",
       "    <tr>\n",
       "      <th>1</th>\n",
       "      <td>20190815000683</td>\n",
       "      <td>臺南市新化區那拔里1鄰那拔林21號之4                           ...</td>\n",
       "      <td>120.347761</td>\n",
       "      <td>23.066863</td>\n",
       "      <td>台南市</td>\n",
       "      <td>新化區</td>\n",
       "      <td>[那]拔里</td>\n",
       "    </tr>\n",
       "    <tr>\n",
       "      <th>2</th>\n",
       "      <td>20200109000316</td>\n",
       "      <td>臺南市新化區那拔里4鄰那拔林156號之3                          ...</td>\n",
       "      <td>120.355749</td>\n",
       "      <td>23.070499</td>\n",
       "      <td>台南市</td>\n",
       "      <td>新化區</td>\n",
       "      <td>[那]拔里</td>\n",
       "    </tr>\n",
       "    <tr>\n",
       "      <th>3</th>\n",
       "      <td>20200209001274</td>\n",
       "      <td>苗栗縣苑裡鎮山腳里13鄰山腳358之36                          ...</td>\n",
       "      <td>120.686828</td>\n",
       "      <td>24.415751</td>\n",
       "      <td>苗栗縣</td>\n",
       "      <td>苑裡鎮</td>\n",
       "      <td>山脚里</td>\n",
       "    </tr>\n",
       "    <tr>\n",
       "      <th>4</th>\n",
       "      <td>20200109000388</td>\n",
       "      <td>臺東縣關山鎮里?里8鄰自強路64號                             ...</td>\n",
       "      <td>121.161778</td>\n",
       "      <td>23.044377</td>\n",
       "      <td>台東縣</td>\n",
       "      <td>關山鎮</td>\n",
       "      <td>里壠里</td>\n",
       "    </tr>\n",
       "    <tr>\n",
       "      <th>5</th>\n",
       "      <td>19991211002418</td>\n",
       "      <td>嘉義縣中埔鄉和興里中華路326-9號 606                        ...</td>\n",
       "      <td>120.452264</td>\n",
       "      <td>23.436966</td>\n",
       "      <td>嘉義縣</td>\n",
       "      <td>中埔鄉</td>\n",
       "      <td>和興村</td>\n",
       "    </tr>\n",
       "  </tbody>\n",
       "</table>\n",
       "</div>"
      ],
      "text/plain": [
       "               id                                               addr  \\\n",
       "0  20141011000055  屏東縣萬丹鄉?南村10鄰下蚶路257巷2號                         ...   \n",
       "1  20190815000683  臺南市新化區那拔里1鄰那拔林21號之4                           ...   \n",
       "2  20200109000316  臺南市新化區那拔里4鄰那拔林156號之3                          ...   \n",
       "3  20200209001274  苗栗縣苑裡鎮山腳里13鄰山腳358之36                          ...   \n",
       "4  20200109000388  臺東縣關山鎮里?里8鄰自強路64號                             ...   \n",
       "5  19991211002418  嘉義縣中埔鄉和興里中華路326-9號 606                        ...   \n",
       "\n",
       "          lon        lat   縣市  行政區     村里  \n",
       "0  120.463247  22.598741  屏東縣  萬丹鄉    厦南村  \n",
       "1  120.347761  23.066863  台南市  新化區  [那]拔里  \n",
       "2  120.355749  23.070499  台南市  新化區  [那]拔里  \n",
       "3  120.686828  24.415751  苗栗縣  苑裡鎮    山脚里  \n",
       "4  121.161778  23.044377  台東縣  關山鎮    里壠里  \n",
       "5  120.452264  23.436966  嘉義縣  中埔鄉    和興村  "
      ]
     },
     "execution_count": 100,
     "metadata": {},
     "output_type": "execute_result"
    }
   ],
   "source": [
    "df_02_3=df_02_3.iloc[:,[0,1,2,3,9,10,11]].reset_index(drop=True)\n",
    "df_02_3.columns=['id','addr','lon','lat','縣市','行政區','村里']\n",
    "df_02_3.head(6)"
   ]
  },
  {
   "cell_type": "markdown",
   "metadata": {},
   "source": [
    "## 合併 合與不合的資料\n",
    "## 獲得完整的第一次抓取 村里"
   ]
  },
  {
   "cell_type": "code",
   "execution_count": 101,
   "metadata": {},
   "outputs": [
    {
     "data": {
      "text/plain": [
       "(18147, 7)"
      ]
     },
     "execution_count": 101,
     "metadata": {},
     "output_type": "execute_result"
    }
   ],
   "source": [
    "df_02=pd.concat([df_02_1,df_02_3]).reset_index(drop=True)\n",
    "df_02.shape"
   ]
  },
  {
   "cell_type": "code",
   "execution_count": null,
   "metadata": {},
   "outputs": [],
   "source": []
  },
  {
   "cell_type": "markdown",
   "metadata": {},
   "source": [
    "## 第一次抓取 無村里的資料"
   ]
  },
  {
   "cell_type": "code",
   "execution_count": 102,
   "metadata": {},
   "outputs": [
    {
     "data": {
      "text/plain": [
       "(2, 7)"
      ]
     },
     "execution_count": 102,
     "metadata": {},
     "output_type": "execute_result"
    }
   ],
   "source": [
    "df_03=df_01[-df_01.id.isin(df_02.id)].dropna(subset=['lon'])\n",
    "df_03.shape"
   ]
  },
  {
   "cell_type": "markdown",
   "metadata": {},
   "source": [
    "### 第二次抓取 村里"
   ]
  },
  {
   "cell_type": "code",
   "execution_count": 103,
   "metadata": {},
   "outputs": [],
   "source": [
    "pattern = re.compile(r'(..[市,縣])(.{2,3}[市,區,鄉,鎮])(.{1,2}[里,村])')\n",
    "location=df_03.addr.apply(lambda x:pattern.findall(x))\n",
    "\n",
    "addr01=[]\n",
    "addr02=[]\n",
    "addr03=[]\n",
    "for i in location:\n",
    "    if len(i)==1:\n",
    "        addr01.append(i[0][0])\n",
    "        addr02.append(i[0][1])\n",
    "        addr03.append(i[0][2])        \n",
    "    else:\n",
    "        addr01.append(np.nan)\n",
    "        addr02.append(np.nan)\n",
    "        addr03.append(np.nan)  "
   ]
  },
  {
   "cell_type": "code",
   "execution_count": 104,
   "metadata": {},
   "outputs": [],
   "source": [
    "df_03['縣市']=addr01\n",
    "df_03['行政區']=addr02\n",
    "df_03['村里']=addr03"
   ]
  },
  {
   "cell_type": "markdown",
   "metadata": {},
   "source": [
    "### 第二次抓取 村里 與 geo data 合不合"
   ]
  },
  {
   "cell_type": "code",
   "execution_count": 105,
   "metadata": {},
   "outputs": [
    {
     "name": "stdout",
     "output_type": "stream",
     "text": [
      "(0, 7)\n",
      "(2, 7)\n"
     ]
    }
   ],
   "source": [
    "#合\n",
    "df_03_1=df_03[(df_03['縣市']+df_03['行政區']+df_03['村里']).isin(gdf['縣市']+gdf['行政區']+gdf['村里'])].reset_index(drop=True)\n",
    "print(df_03_1.shape)\n",
    "\n",
    "#不合\n",
    "df_03_2=df_03[-(df_03['縣市']+df_03['行政區']+df_03['村里']).isin(gdf['縣市']+gdf['行政區']+gdf['村里'])].reset_index(drop=True)\n",
    "print(df_03_2.shape)\n"
   ]
  },
  {
   "cell_type": "markdown",
   "metadata": {},
   "source": [
    "### 不合的資料用經緯度 與村里邊界資料mapping"
   ]
  },
  {
   "cell_type": "code",
   "execution_count": 106,
   "metadata": {},
   "outputs": [],
   "source": [
    "def to_float(x):\n",
    "    try:\n",
    "        return float(x)\n",
    "    except:\n",
    "        return 0"
   ]
  },
  {
   "cell_type": "code",
   "execution_count": 107,
   "metadata": {},
   "outputs": [],
   "source": [
    "df_03_2.lon=df_03_2.lon.apply(to_float)\n",
    "df_03_2.lat=df_03_2.lat.apply(to_float)"
   ]
  },
  {
   "cell_type": "code",
   "execution_count": 108,
   "metadata": {},
   "outputs": [
    {
     "name": "stdout",
     "output_type": "stream",
     "text": [
      "(2, 8)\n"
     ]
    }
   ],
   "source": [
    "geom=[Point(data.lon,data.lat) for idx, data in df_03_2.iterrows()]\n",
    "crs = {'init': 'epsg:4326'}\n",
    "df_03_2 = gpd.GeoDataFrame(df_03_2, crs=crs, geometry=geom)\n",
    "print(df_03_2.shape)"
   ]
  },
  {
   "cell_type": "code",
   "execution_count": 109,
   "metadata": {},
   "outputs": [
    {
     "data": {
      "text/plain": [
       "(2, 12)"
      ]
     },
     "execution_count": 109,
     "metadata": {},
     "output_type": "execute_result"
    }
   ],
   "source": [
    "df_03_3 = gpd.tools.sjoin(df_03_2,gdf, how=\"inner\", op='intersects')\n",
    "df_03_3.shape"
   ]
  },
  {
   "cell_type": "code",
   "execution_count": 110,
   "metadata": {},
   "outputs": [
    {
     "data": {
      "text/html": [
       "<div>\n",
       "<style scoped>\n",
       "    .dataframe tbody tr th:only-of-type {\n",
       "        vertical-align: middle;\n",
       "    }\n",
       "\n",
       "    .dataframe tbody tr th {\n",
       "        vertical-align: top;\n",
       "    }\n",
       "\n",
       "    .dataframe thead th {\n",
       "        text-align: right;\n",
       "    }\n",
       "</style>\n",
       "<table border=\"1\" class=\"dataframe\">\n",
       "  <thead>\n",
       "    <tr style=\"text-align: right;\">\n",
       "      <th></th>\n",
       "      <th>id</th>\n",
       "      <th>addr</th>\n",
       "      <th>lon</th>\n",
       "      <th>lat</th>\n",
       "      <th>縣市</th>\n",
       "      <th>行政區</th>\n",
       "      <th>村里</th>\n",
       "      <th>geometry</th>\n",
       "    </tr>\n",
       "  </thead>\n",
       "  <tbody>\n",
       "  </tbody>\n",
       "</table>\n",
       "</div>"
      ],
      "text/plain": [
       "Empty GeoDataFrame\n",
       "Columns: [id, addr, lon, lat, 縣市, 行政區, 村里, geometry]\n",
       "Index: []"
      ]
     },
     "execution_count": 110,
     "metadata": {},
     "output_type": "execute_result"
    }
   ],
   "source": [
    "df_03_2[-df_03_2.id.isin(df_03_3.id)]"
   ]
  },
  {
   "cell_type": "code",
   "execution_count": 111,
   "metadata": {},
   "outputs": [
    {
     "data": {
      "text/plain": [
       "(2, 7)"
      ]
     },
     "execution_count": 111,
     "metadata": {},
     "output_type": "execute_result"
    }
   ],
   "source": [
    "df_03_3=df_03_3.iloc[:,[0,1,2,3,9,10,11]].reset_index(drop=True)\n",
    "df_03_3.columns=['id','addr','lon','lat','縣市','行政區','村里']\n",
    "df_03_3.shape"
   ]
  },
  {
   "cell_type": "markdown",
   "metadata": {},
   "source": [
    "## 合併 合與不合的資料\n",
    "## 獲得完整的第二次抓取 村里"
   ]
  },
  {
   "cell_type": "code",
   "execution_count": 112,
   "metadata": {},
   "outputs": [],
   "source": [
    "#df_03=df_03_1.copy()\n",
    "df_03=pd.concat([df_03_1,df_03_3]).reset_index(drop=True)"
   ]
  },
  {
   "cell_type": "markdown",
   "metadata": {},
   "source": [
    "## 合併 第一次抓取 有村里 與 無村里 資料，獲得SLQ有正確地址的資料"
   ]
  },
  {
   "cell_type": "code",
   "execution_count": 113,
   "metadata": {},
   "outputs": [
    {
     "data": {
      "text/plain": [
       "(18149, 7)"
      ]
     },
     "execution_count": 113,
     "metadata": {},
     "output_type": "execute_result"
    }
   ],
   "source": [
    "df_01=pd.concat([df_02,df_03]).reset_index(drop=True)\n",
    "df_01.shape"
   ]
  },
  {
   "cell_type": "code",
   "execution_count": null,
   "metadata": {},
   "outputs": [],
   "source": []
  },
  {
   "cell_type": "markdown",
   "metadata": {},
   "source": [
    "# 存檔"
   ]
  },
  {
   "cell_type": "code",
   "execution_count": 114,
   "metadata": {},
   "outputs": [],
   "source": [
    "df_01.to_csv('C:/Users/RT009223/TestriteGroup/滲透率專案/02_adjusted data/'+save_file+'會員位置(經整理_配對村里)_一般卡_'+save_year+'.txt',index=0)"
   ]
  },
  {
   "cell_type": "code",
   "execution_count": null,
   "metadata": {},
   "outputs": [],
   "source": []
  },
  {
   "cell_type": "code",
   "execution_count": null,
   "metadata": {},
   "outputs": [],
   "source": []
  },
  {
   "cell_type": "markdown",
   "metadata": {},
   "source": [
    "# SLQ無正確地址的資料"
   ]
  },
  {
   "cell_type": "code",
   "execution_count": 115,
   "metadata": {},
   "outputs": [
    {
     "data": {
      "text/plain": [
       "(1000, 3)"
      ]
     },
     "execution_count": 115,
     "metadata": {},
     "output_type": "execute_result"
    }
   ],
   "source": [
    "df_04=pd.read_excel(filename+'一般卡會員(無完整地址).xlsx')\n",
    "df_04.shape"
   ]
  },
  {
   "cell_type": "code",
   "execution_count": 116,
   "metadata": {},
   "outputs": [],
   "source": [
    "df_04['addr']=df_04.addr.apply(lambda x:str(x))"
   ]
  },
  {
   "cell_type": "markdown",
   "metadata": {},
   "source": [
    "# 區分有可用的地址 與 無可用的地址\n",
    "## 有可用的地址"
   ]
  },
  {
   "cell_type": "code",
   "execution_count": 117,
   "metadata": {},
   "outputs": [
    {
     "data": {
      "text/plain": [
       "(977, 3)"
      ]
     },
     "execution_count": 117,
     "metadata": {},
     "output_type": "execute_result"
    }
   ],
   "source": [
    "df_04_1=df_04[df_04.addr.apply(lambda x:len(x)>9)].reset_index(drop=True)\n",
    "df_04_1.shape"
   ]
  },
  {
   "cell_type": "code",
   "execution_count": 118,
   "metadata": {},
   "outputs": [],
   "source": [
    "pattern = re.compile(r'..[市,縣].+[路,街].+')\n",
    "location=df_04_1.addr.apply(lambda x:pattern.findall((x)))\n",
    "\n",
    "addr01=[]\n",
    "for i in location:\n",
    "    if len(i)==1:\n",
    "        addr01.append(i[0])      \n",
    "    else:\n",
    "        addr01.append(np.nan)"
   ]
  },
  {
   "cell_type": "code",
   "execution_count": 119,
   "metadata": {},
   "outputs": [
    {
     "data": {
      "text/plain": [
       "(798, 3)"
      ]
     },
     "execution_count": 119,
     "metadata": {},
     "output_type": "execute_result"
    }
   ],
   "source": [
    "df_04_1.addr=addr01\n",
    "df_04_1=df_04_1.dropna(subset=['addr']).reset_index(drop=True)\n",
    "df_04_1.shape"
   ]
  },
  {
   "cell_type": "code",
   "execution_count": 120,
   "metadata": {},
   "outputs": [
    {
     "data": {
      "text/html": [
       "<div>\n",
       "<style scoped>\n",
       "    .dataframe tbody tr th:only-of-type {\n",
       "        vertical-align: middle;\n",
       "    }\n",
       "\n",
       "    .dataframe tbody tr th {\n",
       "        vertical-align: top;\n",
       "    }\n",
       "\n",
       "    .dataframe thead th {\n",
       "        text-align: right;\n",
       "    }\n",
       "</style>\n",
       "<table border=\"1\" class=\"dataframe\">\n",
       "  <thead>\n",
       "    <tr style=\"text-align: right;\">\n",
       "      <th></th>\n",
       "      <th>id</th>\n",
       "      <th>addr</th>\n",
       "      <th>zone</th>\n",
       "      <th>lon</th>\n",
       "      <th>lat</th>\n",
       "      <th>check</th>\n",
       "    </tr>\n",
       "  </thead>\n",
       "  <tbody>\n",
       "    <tr>\n",
       "      <th>0</th>\n",
       "      <td>20110118000507</td>\n",
       "      <td>新北市永和區福祥路68號14樓之5</td>\n",
       "      <td>234.0</td>\n",
       "      <td>0.0</td>\n",
       "      <td>0.0</td>\n",
       "      <td>0</td>\n",
       "    </tr>\n",
       "    <tr>\n",
       "      <th>1</th>\n",
       "      <td>20200406000171</td>\n",
       "      <td>台北市內湖區54民權東路六段90巷25弄29號2樓</td>\n",
       "      <td>114.0</td>\n",
       "      <td>0.0</td>\n",
       "      <td>0.0</td>\n",
       "      <td>0</td>\n",
       "    </tr>\n",
       "    <tr>\n",
       "      <th>2</th>\n",
       "      <td>20190405000101</td>\n",
       "      <td>宜蘭縣羅東鎮羅東鎮公正路317巷3號</td>\n",
       "      <td>265.0</td>\n",
       "      <td>0.0</td>\n",
       "      <td>0.0</td>\n",
       "      <td>0</td>\n",
       "    </tr>\n",
       "    <tr>\n",
       "      <th>3</th>\n",
       "      <td>20191128000676</td>\n",
       "      <td>台北市南港區台北市南港區玉成街87號16樓之1</td>\n",
       "      <td>115.0</td>\n",
       "      <td>0.0</td>\n",
       "      <td>0.0</td>\n",
       "      <td>0</td>\n",
       "    </tr>\n",
       "    <tr>\n",
       "      <th>4</th>\n",
       "      <td>20190424000549</td>\n",
       "      <td>新北市永和區新北市永和區仁愛路141巷30弄2號5樓</td>\n",
       "      <td>234.0</td>\n",
       "      <td>0.0</td>\n",
       "      <td>0.0</td>\n",
       "      <td>0</td>\n",
       "    </tr>\n",
       "  </tbody>\n",
       "</table>\n",
       "</div>"
      ],
      "text/plain": [
       "               id                        addr   zone  lon  lat  check\n",
       "0  20110118000507           新北市永和區福祥路68號14樓之5  234.0  0.0  0.0      0\n",
       "1  20200406000171   台北市內湖區54民權東路六段90巷25弄29號2樓  114.0  0.0  0.0      0\n",
       "2  20190405000101          宜蘭縣羅東鎮羅東鎮公正路317巷3號  265.0  0.0  0.0      0\n",
       "3  20191128000676     台北市南港區台北市南港區玉成街87號16樓之1  115.0  0.0  0.0      0\n",
       "4  20190424000549  新北市永和區新北市永和區仁愛路141巷30弄2號5樓  234.0  0.0  0.0      0"
      ]
     },
     "execution_count": 120,
     "metadata": {},
     "output_type": "execute_result"
    }
   ],
   "source": [
    "df_04_1['lon']=float(0)\n",
    "df_04_1['lat']=float(0)\n",
    "df_04_1['check']=0\n",
    "df_04_1.head()"
   ]
  },
  {
   "cell_type": "markdown",
   "metadata": {},
   "source": [
    "## 與現有 搜尋過 經緯度的資料 比對"
   ]
  },
  {
   "cell_type": "code",
   "execution_count": 121,
   "metadata": {},
   "outputs": [
    {
     "name": "stdout",
     "output_type": "stream",
     "text": [
      "(133014, 6)\n"
     ]
    },
    {
     "data": {
      "text/html": [
       "<div>\n",
       "<style scoped>\n",
       "    .dataframe tbody tr th:only-of-type {\n",
       "        vertical-align: middle;\n",
       "    }\n",
       "\n",
       "    .dataframe tbody tr th {\n",
       "        vertical-align: top;\n",
       "    }\n",
       "\n",
       "    .dataframe thead th {\n",
       "        text-align: right;\n",
       "    }\n",
       "</style>\n",
       "<table border=\"1\" class=\"dataframe\">\n",
       "  <thead>\n",
       "    <tr style=\"text-align: right;\">\n",
       "      <th></th>\n",
       "      <th>id</th>\n",
       "      <th>addr</th>\n",
       "      <th>zone</th>\n",
       "      <th>lon</th>\n",
       "      <th>lat</th>\n",
       "      <th>check</th>\n",
       "    </tr>\n",
       "  </thead>\n",
       "  <tbody>\n",
       "    <tr>\n",
       "      <th>0</th>\n",
       "      <td>30012476701000</td>\n",
       "      <td>新北市貢寮區鳥崗街13號</td>\n",
       "      <td>228.0</td>\n",
       "      <td>122.00193</td>\n",
       "      <td>25.01326</td>\n",
       "      <td>1</td>\n",
       "    </tr>\n",
       "    <tr>\n",
       "      <th>1</th>\n",
       "      <td>20051030000358</td>\n",
       "      <td>新北市貢寮區福興村東興街４７號</td>\n",
       "      <td>228.0</td>\n",
       "      <td>121.99057</td>\n",
       "      <td>25.01205</td>\n",
       "      <td>1</td>\n",
       "    </tr>\n",
       "    <tr>\n",
       "      <th>2</th>\n",
       "      <td>20011022000749</td>\n",
       "      <td>新北市貢寮區春福連村臉香蘭街９號</td>\n",
       "      <td>228.0</td>\n",
       "      <td>121.98674</td>\n",
       "      <td>25.01985</td>\n",
       "      <td>1</td>\n",
       "    </tr>\n",
       "    <tr>\n",
       "      <th>3</th>\n",
       "      <td>20051219001868</td>\n",
       "      <td>新北市新店區東興街22號3樓DM退件</td>\n",
       "      <td>231.0</td>\n",
       "      <td>121.94981</td>\n",
       "      <td>25.01872</td>\n",
       "      <td>1</td>\n",
       "    </tr>\n",
       "    <tr>\n",
       "      <th>4</th>\n",
       "      <td>19980808000468</td>\n",
       "      <td>新北市貢寮區惠牴街25-2號</td>\n",
       "      <td>228.0</td>\n",
       "      <td>121.94576</td>\n",
       "      <td>25.01659</td>\n",
       "      <td>1</td>\n",
       "    </tr>\n",
       "  </tbody>\n",
       "</table>\n",
       "</div>"
      ],
      "text/plain": [
       "               id                addr   zone        lon       lat  check\n",
       "0  30012476701000        新北市貢寮區鳥崗街13號  228.0  122.00193  25.01326      1\n",
       "1  20051030000358     新北市貢寮區福興村東興街４７號  228.0  121.99057  25.01205      1\n",
       "2  20011022000749    新北市貢寮區春福連村臉香蘭街９號  228.0  121.98674  25.01985      1\n",
       "3  20051219001868  新北市新店區東興街22號3樓DM退件  231.0  121.94981  25.01872      1\n",
       "4  19980808000468      新北市貢寮區惠牴街25-2號  228.0  121.94576  25.01659      1"
      ]
     },
     "execution_count": 121,
     "metadata": {},
     "output_type": "execute_result"
    }
   ],
   "source": [
    "df_get_back=pd.read_excel(r'C:\\Users\\RT009223\\TestriteGroup\\滲透率專案\\02_adjusted data\\get back.xlsx')\n",
    "print(df_get_back.shape)\n",
    "df_get_back.head()"
   ]
  },
  {
   "cell_type": "code",
   "execution_count": 122,
   "metadata": {},
   "outputs": [],
   "source": [
    "df_get_back=df_get_back=df_get_back.loc[:,['id','lon','lat','check']]"
   ]
  },
  {
   "cell_type": "code",
   "execution_count": 123,
   "metadata": {},
   "outputs": [],
   "source": [
    "df_04_1=pd.merge(df_04_1.loc[:,['id','addr','zone']],df_get_back,on='id',how='left')"
   ]
  },
  {
   "cell_type": "code",
   "execution_count": 124,
   "metadata": {},
   "outputs": [],
   "source": [
    "df_04_1.lon[df_04_1.lon.isna()]=0\n",
    "df_04_1.lat[df_04_1.lat.isna()]=0\n",
    "df_04_1.check[df_04_1.check.isna()]=0"
   ]
  },
  {
   "cell_type": "code",
   "execution_count": 125,
   "metadata": {},
   "outputs": [
    {
     "data": {
      "text/html": [
       "<div>\n",
       "<style scoped>\n",
       "    .dataframe tbody tr th:only-of-type {\n",
       "        vertical-align: middle;\n",
       "    }\n",
       "\n",
       "    .dataframe tbody tr th {\n",
       "        vertical-align: top;\n",
       "    }\n",
       "\n",
       "    .dataframe thead th {\n",
       "        text-align: right;\n",
       "    }\n",
       "</style>\n",
       "<table border=\"1\" class=\"dataframe\">\n",
       "  <thead>\n",
       "    <tr style=\"text-align: right;\">\n",
       "      <th></th>\n",
       "      <th>id</th>\n",
       "      <th>addr</th>\n",
       "      <th>zone</th>\n",
       "      <th>lon</th>\n",
       "      <th>lat</th>\n",
       "      <th>check</th>\n",
       "    </tr>\n",
       "  </thead>\n",
       "  <tbody>\n",
       "    <tr>\n",
       "      <th>0</th>\n",
       "      <td>20110118000507</td>\n",
       "      <td>新北市永和區福祥路68號14樓之5</td>\n",
       "      <td>234.0</td>\n",
       "      <td>0.0</td>\n",
       "      <td>0.0</td>\n",
       "      <td>0.0</td>\n",
       "    </tr>\n",
       "    <tr>\n",
       "      <th>1</th>\n",
       "      <td>20200406000171</td>\n",
       "      <td>台北市內湖區54民權東路六段90巷25弄29號2樓</td>\n",
       "      <td>114.0</td>\n",
       "      <td>0.0</td>\n",
       "      <td>0.0</td>\n",
       "      <td>0.0</td>\n",
       "    </tr>\n",
       "    <tr>\n",
       "      <th>2</th>\n",
       "      <td>20190405000101</td>\n",
       "      <td>宜蘭縣羅東鎮羅東鎮公正路317巷3號</td>\n",
       "      <td>265.0</td>\n",
       "      <td>0.0</td>\n",
       "      <td>0.0</td>\n",
       "      <td>0.0</td>\n",
       "    </tr>\n",
       "    <tr>\n",
       "      <th>3</th>\n",
       "      <td>20191128000676</td>\n",
       "      <td>台北市南港區台北市南港區玉成街87號16樓之1</td>\n",
       "      <td>115.0</td>\n",
       "      <td>0.0</td>\n",
       "      <td>0.0</td>\n",
       "      <td>0.0</td>\n",
       "    </tr>\n",
       "    <tr>\n",
       "      <th>4</th>\n",
       "      <td>20190424000549</td>\n",
       "      <td>新北市永和區新北市永和區仁愛路141巷30弄2號5樓</td>\n",
       "      <td>234.0</td>\n",
       "      <td>0.0</td>\n",
       "      <td>0.0</td>\n",
       "      <td>0.0</td>\n",
       "    </tr>\n",
       "  </tbody>\n",
       "</table>\n",
       "</div>"
      ],
      "text/plain": [
       "               id                        addr   zone  lon  lat  check\n",
       "0  20110118000507           新北市永和區福祥路68號14樓之5  234.0  0.0  0.0    0.0\n",
       "1  20200406000171   台北市內湖區54民權東路六段90巷25弄29號2樓  114.0  0.0  0.0    0.0\n",
       "2  20190405000101          宜蘭縣羅東鎮羅東鎮公正路317巷3號  265.0  0.0  0.0    0.0\n",
       "3  20191128000676     台北市南港區台北市南港區玉成街87號16樓之1  115.0  0.0  0.0    0.0\n",
       "4  20190424000549  新北市永和區新北市永和區仁愛路141巷30弄2號5樓  234.0  0.0  0.0    0.0"
      ]
     },
     "execution_count": 125,
     "metadata": {},
     "output_type": "execute_result"
    }
   ],
   "source": [
    "df_04_1.head()"
   ]
  },
  {
   "cell_type": "markdown",
   "metadata": {},
   "source": [
    "## 與郵遞區號配對"
   ]
  },
  {
   "cell_type": "code",
   "execution_count": 126,
   "metadata": {},
   "outputs": [],
   "source": [
    "df_zone=pd.read_excel(r'C:\\Users\\RT009223\\TestriteGroup\\滲透率專案\\02_adjusted data\\郵遞區代碼.xlsx')"
   ]
  },
  {
   "cell_type": "code",
   "execution_count": 127,
   "metadata": {},
   "outputs": [],
   "source": [
    "df_04_1=pd.merge(df_04_1,df_zone,on='zone',how='left')"
   ]
  },
  {
   "cell_type": "code",
   "execution_count": 128,
   "metadata": {},
   "outputs": [
    {
     "data": {
      "text/plain": [
       "(798, 9)"
      ]
     },
     "execution_count": 128,
     "metadata": {},
     "output_type": "execute_result"
    }
   ],
   "source": [
    "geom=[Point(data.lon,data.lat) for idx, data in df_04_1.iterrows()]\n",
    "crs = {'init': 'epsg:4326'}\n",
    "df_04_1 = gpd.GeoDataFrame(df_04_1, crs=crs, geometry=geom)\n",
    "df_04_1.shape"
   ]
  },
  {
   "cell_type": "code",
   "execution_count": 129,
   "metadata": {},
   "outputs": [
    {
     "data": {
      "text/plain": [
       "(798, 13)"
      ]
     },
     "execution_count": 129,
     "metadata": {},
     "output_type": "execute_result"
    }
   ],
   "source": [
    "df_04_1= gpd.tools.sjoin(df_04_1,gdf, how=\"left\", op='intersects')\n",
    "df_04_1.shape"
   ]
  },
  {
   "cell_type": "code",
   "execution_count": 130,
   "metadata": {},
   "outputs": [
    {
     "data": {
      "text/html": [
       "<div>\n",
       "<style scoped>\n",
       "    .dataframe tbody tr th:only-of-type {\n",
       "        vertical-align: middle;\n",
       "    }\n",
       "\n",
       "    .dataframe tbody tr th {\n",
       "        vertical-align: top;\n",
       "    }\n",
       "\n",
       "    .dataframe thead th {\n",
       "        text-align: right;\n",
       "    }\n",
       "</style>\n",
       "<table border=\"1\" class=\"dataframe\">\n",
       "  <thead>\n",
       "    <tr style=\"text-align: right;\">\n",
       "      <th></th>\n",
       "      <th>id</th>\n",
       "      <th>addr</th>\n",
       "      <th>zone</th>\n",
       "      <th>lon</th>\n",
       "      <th>lat</th>\n",
       "      <th>check</th>\n",
       "      <th>縣市_left</th>\n",
       "      <th>行政區_left</th>\n",
       "      <th>geometry</th>\n",
       "      <th>index_right</th>\n",
       "      <th>縣市_right</th>\n",
       "      <th>行政區_right</th>\n",
       "      <th>村里</th>\n",
       "    </tr>\n",
       "  </thead>\n",
       "  <tbody>\n",
       "    <tr>\n",
       "      <th>0</th>\n",
       "      <td>20110118000507</td>\n",
       "      <td>新北市永和區福祥路68號14樓之5</td>\n",
       "      <td>234.0</td>\n",
       "      <td>0.0</td>\n",
       "      <td>0.0</td>\n",
       "      <td>0.0</td>\n",
       "      <td>新北市</td>\n",
       "      <td>永和區</td>\n",
       "      <td>POINT (0.00000 0.00000)</td>\n",
       "      <td>NaN</td>\n",
       "      <td>NaN</td>\n",
       "      <td>NaN</td>\n",
       "      <td>NaN</td>\n",
       "    </tr>\n",
       "    <tr>\n",
       "      <th>1</th>\n",
       "      <td>20200406000171</td>\n",
       "      <td>台北市內湖區54民權東路六段90巷25弄29號2樓</td>\n",
       "      <td>114.0</td>\n",
       "      <td>0.0</td>\n",
       "      <td>0.0</td>\n",
       "      <td>0.0</td>\n",
       "      <td>台北市</td>\n",
       "      <td>內湖區</td>\n",
       "      <td>POINT (0.00000 0.00000)</td>\n",
       "      <td>NaN</td>\n",
       "      <td>NaN</td>\n",
       "      <td>NaN</td>\n",
       "      <td>NaN</td>\n",
       "    </tr>\n",
       "    <tr>\n",
       "      <th>2</th>\n",
       "      <td>20190405000101</td>\n",
       "      <td>宜蘭縣羅東鎮羅東鎮公正路317巷3號</td>\n",
       "      <td>265.0</td>\n",
       "      <td>0.0</td>\n",
       "      <td>0.0</td>\n",
       "      <td>0.0</td>\n",
       "      <td>宜蘭縣</td>\n",
       "      <td>羅東鎮</td>\n",
       "      <td>POINT (0.00000 0.00000)</td>\n",
       "      <td>NaN</td>\n",
       "      <td>NaN</td>\n",
       "      <td>NaN</td>\n",
       "      <td>NaN</td>\n",
       "    </tr>\n",
       "    <tr>\n",
       "      <th>3</th>\n",
       "      <td>20191128000676</td>\n",
       "      <td>台北市南港區台北市南港區玉成街87號16樓之1</td>\n",
       "      <td>115.0</td>\n",
       "      <td>0.0</td>\n",
       "      <td>0.0</td>\n",
       "      <td>0.0</td>\n",
       "      <td>台北市</td>\n",
       "      <td>南港區</td>\n",
       "      <td>POINT (0.00000 0.00000)</td>\n",
       "      <td>NaN</td>\n",
       "      <td>NaN</td>\n",
       "      <td>NaN</td>\n",
       "      <td>NaN</td>\n",
       "    </tr>\n",
       "    <tr>\n",
       "      <th>4</th>\n",
       "      <td>20190424000549</td>\n",
       "      <td>新北市永和區新北市永和區仁愛路141巷30弄2號5樓</td>\n",
       "      <td>234.0</td>\n",
       "      <td>0.0</td>\n",
       "      <td>0.0</td>\n",
       "      <td>0.0</td>\n",
       "      <td>新北市</td>\n",
       "      <td>永和區</td>\n",
       "      <td>POINT (0.00000 0.00000)</td>\n",
       "      <td>NaN</td>\n",
       "      <td>NaN</td>\n",
       "      <td>NaN</td>\n",
       "      <td>NaN</td>\n",
       "    </tr>\n",
       "  </tbody>\n",
       "</table>\n",
       "</div>"
      ],
      "text/plain": [
       "               id                        addr   zone  lon  lat  check 縣市_left  \\\n",
       "0  20110118000507           新北市永和區福祥路68號14樓之5  234.0  0.0  0.0    0.0     新北市   \n",
       "1  20200406000171   台北市內湖區54民權東路六段90巷25弄29號2樓  114.0  0.0  0.0    0.0     台北市   \n",
       "2  20190405000101          宜蘭縣羅東鎮羅東鎮公正路317巷3號  265.0  0.0  0.0    0.0     宜蘭縣   \n",
       "3  20191128000676     台北市南港區台北市南港區玉成街87號16樓之1  115.0  0.0  0.0    0.0     台北市   \n",
       "4  20190424000549  新北市永和區新北市永和區仁愛路141巷30弄2號5樓  234.0  0.0  0.0    0.0     新北市   \n",
       "\n",
       "  行政區_left                 geometry  index_right 縣市_right 行政區_right   村里  \n",
       "0      永和區  POINT (0.00000 0.00000)          NaN      NaN       NaN  NaN  \n",
       "1      內湖區  POINT (0.00000 0.00000)          NaN      NaN       NaN  NaN  \n",
       "2      羅東鎮  POINT (0.00000 0.00000)          NaN      NaN       NaN  NaN  \n",
       "3      南港區  POINT (0.00000 0.00000)          NaN      NaN       NaN  NaN  \n",
       "4      永和區  POINT (0.00000 0.00000)          NaN      NaN       NaN  NaN  "
      ]
     },
     "execution_count": 130,
     "metadata": {},
     "output_type": "execute_result"
    }
   ],
   "source": [
    "df_04_1.head()"
   ]
  },
  {
   "cell_type": "code",
   "execution_count": 131,
   "metadata": {},
   "outputs": [
    {
     "name": "stdout",
     "output_type": "stream",
     "text": [
      "(42, 13)\n",
      "(625, 13)\n",
      "(30, 13)\n",
      "(101, 13)\n"
     ]
    }
   ],
   "source": [
    "# 無 map 無 zone\n",
    "df_04_1_1=df_04_1[(df_04_1['行政區_left'].isna()&df_04_1['村里'].isna())]\n",
    "print(df_04_1_1.shape)\n",
    "\n",
    "# 無 map 有 zone\n",
    "df_04_1_2=df_04_1[(-(df_04_1['行政區_left'].isna())&(df_04_1['村里'].isna()))]\n",
    "print(df_04_1_2.shape)\n",
    "\n",
    "# 有 map 無有 zone\n",
    "df_04_1_3=df_04_1[(df_04_1['行政區_left'].isna()&(-df_04_1['村里'].isna()))]\n",
    "print(df_04_1_3.shape)\n",
    "\n",
    "# 有 map 有 zone\n",
    "df_04_1_4=df_04_1[(-(df_04_1['行政區_left'].isna())&(-df_04_1['村里'].isna()))]\n",
    "print(df_04_1_4.shape)"
   ]
  },
  {
   "cell_type": "markdown",
   "metadata": {},
   "source": [
    "###  有 map 有 zone 合不合"
   ]
  },
  {
   "cell_type": "code",
   "execution_count": 132,
   "metadata": {},
   "outputs": [
    {
     "name": "stdout",
     "output_type": "stream",
     "text": [
      "(82, 13)\n",
      "(19, 13)\n"
     ]
    }
   ],
   "source": [
    "df_04_1_4_1=df_04_1_4[(df_04_1_4['行政區_left']==df_04_1_4['行政區_right'])]\n",
    "print(df_04_1_4_1.shape)\n",
    "\n",
    "df_04_1_4_2=df_04_1_4[-(df_04_1_4['行政區_left']==df_04_1_4['行政區_right'])]\n",
    "print(df_04_1_4_2.shape)"
   ]
  },
  {
   "cell_type": "markdown",
   "metadata": {},
   "source": [
    "### 調整各組資料"
   ]
  },
  {
   "cell_type": "code",
   "execution_count": 133,
   "metadata": {},
   "outputs": [],
   "source": [
    "df_04_1_1=df_04_1_1.loc[:,['id']]\n",
    "\n",
    "df_04_1_2=df_04_1_2.loc[:,['id','縣市_left','行政區_left']]\n",
    "df_04_1_2.columns=['id','縣市','行政區']\n",
    "\n",
    "df_04_1_3=df_04_1_3.loc[:,['id','縣市_right','行政區_right','村里']]\n",
    "df_04_1_3.columns=['id','縣市','行政區','村里']\n",
    "\n",
    "df_04_1_4_1=df_04_1_4_1.loc[:,['id','縣市_right','行政區_right','村里']]\n",
    "df_04_1_4_1.columns=['id','縣市','行政區','村里']\n",
    "\n",
    "df_04_1_4_2=df_04_1_4_2.loc[:,['id','縣市_left','行政區_left']]\n",
    "df_04_1_4_2.columns=['id','縣市','行政區']"
   ]
  },
  {
   "cell_type": "code",
   "execution_count": 134,
   "metadata": {},
   "outputs": [
    {
     "data": {
      "text/plain": [
       "(798, 4)"
      ]
     },
     "execution_count": 134,
     "metadata": {},
     "output_type": "execute_result"
    }
   ],
   "source": [
    "df_04_2=pd.concat([df_04_1_4_1,df_04_1_3,df_04_1_4_2,df_04_1_2,df_04_1_1])\n",
    "df_04_2.shape"
   ]
  },
  {
   "cell_type": "code",
   "execution_count": 135,
   "metadata": {},
   "outputs": [
    {
     "data": {
      "text/plain": [
       "(798, 4)"
      ]
     },
     "execution_count": 135,
     "metadata": {},
     "output_type": "execute_result"
    }
   ],
   "source": [
    "df_04_2.drop_duplicates(subset=['id']).shape"
   ]
  },
  {
   "cell_type": "code",
   "execution_count": null,
   "metadata": {},
   "outputs": [],
   "source": []
  },
  {
   "cell_type": "markdown",
   "metadata": {},
   "source": [
    "## 無可用地址"
   ]
  },
  {
   "cell_type": "code",
   "execution_count": 136,
   "metadata": {},
   "outputs": [
    {
     "data": {
      "text/plain": [
       "(202, 3)"
      ]
     },
     "execution_count": 136,
     "metadata": {},
     "output_type": "execute_result"
    }
   ],
   "source": [
    "df_04_3=df_04[-df_04.id.isin(df_04_2.id)]\n",
    "df_04_3.shape"
   ]
  },
  {
   "cell_type": "code",
   "execution_count": 137,
   "metadata": {},
   "outputs": [],
   "source": [
    "df_04_3=pd.merge(df_04_3,df_zone,on='zone',how='left')"
   ]
  },
  {
   "cell_type": "code",
   "execution_count": 138,
   "metadata": {},
   "outputs": [
    {
     "name": "stdout",
     "output_type": "stream",
     "text": [
      "(188, 5)\n",
      "(14, 5)\n"
     ]
    }
   ],
   "source": [
    "df_04_3_1=df_04_3[-df_04_3['行政區'].isna()]\n",
    "print(df_04_3_1.shape)\n",
    "\n",
    "df_04_3_2=df_04_3[df_04_3['行政區'].isna()]\n",
    "print(df_04_3_2.shape)"
   ]
  },
  {
   "cell_type": "code",
   "execution_count": 139,
   "metadata": {},
   "outputs": [],
   "source": [
    "df_04_3_1=df_04_3_1.loc[:,['id','縣市','行政區']]\n",
    "df_04_3_2=df_04_3_2.loc[:,['id']]"
   ]
  },
  {
   "cell_type": "markdown",
   "metadata": {},
   "source": [
    "# 完整 SLQ無正確地址的資料"
   ]
  },
  {
   "cell_type": "code",
   "execution_count": 140,
   "metadata": {},
   "outputs": [
    {
     "name": "stdout",
     "output_type": "stream",
     "text": [
      "(1000, 4)\n",
      "(1000, 4)\n"
     ]
    }
   ],
   "source": [
    "df_04=pd.concat([df_04_2,df_04_3_1,df_04_3_2])\n",
    "print(df_04.shape)\n",
    "print(df_04.drop_duplicates(subset=['id']).shape)"
   ]
  },
  {
   "cell_type": "markdown",
   "metadata": {},
   "source": [
    "# 存檔"
   ]
  },
  {
   "cell_type": "code",
   "execution_count": 141,
   "metadata": {},
   "outputs": [],
   "source": [
    "df_04.to_csv('C:/Users/RT009223/TestriteGroup/滲透率專案/02_adjusted data/'+save_file+'會員位置(無正確地址的資料)_一般卡_'+save_year+'.txt',index=0)"
   ]
  },
  {
   "cell_type": "code",
   "execution_count": null,
   "metadata": {},
   "outputs": [],
   "source": []
  }
 ],
 "metadata": {
  "kernelspec": {
   "display_name": "Python 3",
   "language": "python",
   "name": "python3"
  },
  "language_info": {
   "codemirror_mode": {
    "name": "ipython",
    "version": 3
   },
   "file_extension": ".py",
   "mimetype": "text/x-python",
   "name": "python",
   "nbconvert_exporter": "python",
   "pygments_lexer": "ipython3",
   "version": "3.7.6"
  }
 },
 "nbformat": 4,
 "nbformat_minor": 4
}

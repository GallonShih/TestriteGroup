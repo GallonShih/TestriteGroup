{
 "cells": [
  {
   "cell_type": "code",
   "execution_count": 1,
   "metadata": {},
   "outputs": [],
   "source": [
    "%matplotlib inline\n",
    "import numpy as np\n",
    "import pandas as pd\n",
    "import matplotlib.pyplot as plt"
   ]
  },
  {
   "cell_type": "code",
   "execution_count": 2,
   "metadata": {},
   "outputs": [],
   "source": [
    "import re\n",
    "\n",
    "import geopandas as gpd\n",
    "import requests,json\n",
    "\n",
    "\n",
    "from shapely import geos\n",
    "from shapely.geometry import Point\n",
    "import fiona\n",
    "from fiona.crs import from_epsg,from_string\n",
    "\n",
    "from geopandas import GeoDataFrame\n",
    "from shapely.geometry import Polygon\n",
    "from geopandas import GeoSeries\n",
    "\n",
    "\n",
    "from shapely import geometry\n",
    "from shapely.geometry import shape,LineString,Point,Polygon\n",
    "\n",
    "import osmnx as ox\n",
    "import networkx as nx\n",
    "\n",
    "import folium\n",
    "\n",
    "from folium import IFrame"
   ]
  },
  {
   "cell_type": "code",
   "execution_count": 3,
   "metadata": {},
   "outputs": [],
   "source": [
    "def rest(address):\n",
    "    try:\n",
    "        url = 'https://api.tomtom.com/search/2/geocode/{}.json?&key=h2n93GznJsnsDHtv2vPpdT9GmJijp9o9&countrySet=TWN&language=zh-TW&limit=1'.format(address)\n",
    "        response = requests.get(url)\n",
    "        data = response.text\n",
    "        js = json.loads(str(data))\n",
    "        return js['results'][0]['position']\n",
    "    except Exception as e:\n",
    "        print(f'An Error occurred: {e}')\n",
    "        return {'lat':0,'lon':0}\n",
    "    \n",
    "def trans(gdf):\n",
    "    gdf.crs = {'init' :'epsg:3824'} # 避免資料沒設，這邊再重新給一次\n",
    "    gdf=gdf.to_crs({'init' :'epsg:4326'})\n",
    "    return gdf\n",
    "\n",
    "def utf2asc(s):\n",
    "    return str(str(s).encode('ascii', 'xmlcharrefreplace'))[2:-1]\n",
    "\n",
    "heading3 = \"\"\"<h3>{}</h3>\"\"\".format"
   ]
  },
  {
   "cell_type": "code",
   "execution_count": 4,
   "metadata": {},
   "outputs": [],
   "source": [
    "import warnings\n",
    "warnings.filterwarnings(\"ignore\")"
   ]
  },
  {
   "cell_type": "markdown",
   "metadata": {},
   "source": [
    "# 設定row data的資料夾"
   ]
  },
  {
   "cell_type": "code",
   "execution_count": 183,
   "metadata": {},
   "outputs": [],
   "source": [
    "import os\n",
    "os.chdir(r'C:\\Users\\RT009223\\TestriteGroup\\滲透率專案\\01_raw data')"
   ]
  },
  {
   "cell_type": "code",
   "execution_count": 184,
   "metadata": {},
   "outputs": [],
   "source": [
    "filename='1A35_2020Q3'\n",
    "save_file='1A35_'\n",
    "save_year='2020Q3'"
   ]
  },
  {
   "cell_type": "markdown",
   "metadata": {},
   "source": [
    "# SQL有正確地址的資料"
   ]
  },
  {
   "cell_type": "code",
   "execution_count": 185,
   "metadata": {},
   "outputs": [
    {
     "data": {
      "text/plain": [
       "(22884, 4)"
      ]
     },
     "execution_count": 185,
     "metadata": {},
     "output_type": "execute_result"
    }
   ],
   "source": [
    "df_01=pd.read_csv(filename+\"一般卡會員(有完整地址).csv\",error_bad_lines=False,header=None)\n",
    "df_01.columns=['id','addr','lon','lat']\n",
    "df_01.shape"
   ]
  },
  {
   "cell_type": "markdown",
   "metadata": {},
   "source": [
    "## 第一次抓取 村里"
   ]
  },
  {
   "cell_type": "code",
   "execution_count": 186,
   "metadata": {},
   "outputs": [],
   "source": [
    "pattern = re.compile(r'(..[市,縣])(.{1,2}[市,區,鄉,鎮])(.{2,3}[里,村])')\n",
    "location=df_01.addr.apply(lambda x:pattern.findall(x))\n",
    "\n",
    "addr01=[]\n",
    "addr02=[]\n",
    "addr03=[]\n",
    "for i in location:\n",
    "    if len(i)==1:\n",
    "        addr01.append(i[0][0])\n",
    "        addr02.append(i[0][1])\n",
    "        addr03.append(i[0][2])        \n",
    "    else:\n",
    "        addr01.append(np.nan)\n",
    "        addr02.append(np.nan)\n",
    "        addr03.append(np.nan)  "
   ]
  },
  {
   "cell_type": "code",
   "execution_count": 187,
   "metadata": {},
   "outputs": [],
   "source": [
    "df_01['縣市']=addr01\n",
    "df_01['行政區']=addr02\n",
    "df_01['村里']=addr03"
   ]
  },
  {
   "cell_type": "markdown",
   "metadata": {},
   "source": [
    "### 第一次 有村里 資料"
   ]
  },
  {
   "cell_type": "code",
   "execution_count": 188,
   "metadata": {},
   "outputs": [
    {
     "data": {
      "text/plain": [
       "(22884, 7)"
      ]
     },
     "execution_count": 188,
     "metadata": {},
     "output_type": "execute_result"
    }
   ],
   "source": [
    "df_02=df_01.dropna()\n",
    "df_02.shape"
   ]
  },
  {
   "cell_type": "code",
   "execution_count": null,
   "metadata": {},
   "outputs": [],
   "source": []
  },
  {
   "cell_type": "markdown",
   "metadata": {},
   "source": [
    "### 村里邊界資料"
   ]
  },
  {
   "cell_type": "code",
   "execution_count": 189,
   "metadata": {},
   "outputs": [
    {
     "name": "stdout",
     "output_type": "stream",
     "text": [
      "(7760, 4)\n"
     ]
    },
    {
     "data": {
      "text/html": [
       "<div>\n",
       "<style scoped>\n",
       "    .dataframe tbody tr th:only-of-type {\n",
       "        vertical-align: middle;\n",
       "    }\n",
       "\n",
       "    .dataframe tbody tr th {\n",
       "        vertical-align: top;\n",
       "    }\n",
       "\n",
       "    .dataframe thead th {\n",
       "        text-align: right;\n",
       "    }\n",
       "</style>\n",
       "<table border=\"1\" class=\"dataframe\">\n",
       "  <thead>\n",
       "    <tr style=\"text-align: right;\">\n",
       "      <th></th>\n",
       "      <th>縣市</th>\n",
       "      <th>行政區</th>\n",
       "      <th>村里</th>\n",
       "      <th>geometry</th>\n",
       "    </tr>\n",
       "  </thead>\n",
       "  <tbody>\n",
       "    <tr>\n",
       "      <th>0</th>\n",
       "      <td>高雄市</td>\n",
       "      <td>林園區</td>\n",
       "      <td>中門里</td>\n",
       "      <td>POLYGON ((120.36772 22.49564, 120.36427 22.498...</td>\n",
       "    </tr>\n",
       "    <tr>\n",
       "      <th>1</th>\n",
       "      <td>高雄市</td>\n",
       "      <td>林園區</td>\n",
       "      <td>港埔里</td>\n",
       "      <td>POLYGON ((120.37325 22.49123, 120.37147 22.492...</td>\n",
       "    </tr>\n",
       "    <tr>\n",
       "      <th>2</th>\n",
       "      <td>高雄市</td>\n",
       "      <td>旗津區</td>\n",
       "      <td>上竹里</td>\n",
       "      <td>POLYGON ((120.28976 22.57317, 120.28577 22.577...</td>\n",
       "    </tr>\n",
       "    <tr>\n",
       "      <th>3</th>\n",
       "      <td>高雄市</td>\n",
       "      <td>旗津區</td>\n",
       "      <td>中興里</td>\n",
       "      <td>POLYGON ((120.30320 22.55568, 120.30284 22.557...</td>\n",
       "    </tr>\n",
       "    <tr>\n",
       "      <th>4</th>\n",
       "      <td>連江縣</td>\n",
       "      <td>南竿鄉</td>\n",
       "      <td>津沙村</td>\n",
       "      <td>POLYGON ((119.91684 26.14109, 119.91683 26.141...</td>\n",
       "    </tr>\n",
       "  </tbody>\n",
       "</table>\n",
       "</div>"
      ],
      "text/plain": [
       "    縣市  行政區   村里                                           geometry\n",
       "0  高雄市  林園區  中門里  POLYGON ((120.36772 22.49564, 120.36427 22.498...\n",
       "1  高雄市  林園區  港埔里  POLYGON ((120.37325 22.49123, 120.37147 22.492...\n",
       "2  高雄市  旗津區  上竹里  POLYGON ((120.28976 22.57317, 120.28577 22.577...\n",
       "3  高雄市  旗津區  中興里  POLYGON ((120.30320 22.55568, 120.30284 22.557...\n",
       "4  連江縣  南竿鄉  津沙村  POLYGON ((119.91684 26.14109, 119.91683 26.141..."
      ]
     },
     "execution_count": 189,
     "metadata": {},
     "output_type": "execute_result"
    }
   ],
   "source": [
    "gdf=gpd.read_file(r'C:\\Users\\RT009223\\TestriteGroup\\滲透率專案\\02_adjusted data\\geo data\\VILLAGE_MOI_1090423.shp',encoding='utf-8')\n",
    "gdf=gdf.loc[:,['COUNTYNAME','TOWNNAME','VILLNAME','geometry']]\n",
    "gdf=trans(gdf)\n",
    "gdf=gdf.dropna().reset_index(drop=True)\n",
    "print(gdf.shape)\n",
    "\n",
    "gdf.columns=['縣市','行政區','村里','geometry']\n",
    "gdf['縣市']=list(gdf['縣市'].apply(lambda x:x.replace('臺','台')))\n",
    "gdf['行政區']=list(gdf['行政區'].apply(lambda x:x.replace('臺','台')))\n",
    "gdf['村里']=list(gdf['村里'].apply(lambda x:x.replace('臺','台')))\n",
    "\n",
    "df_02['縣市']=list(df_02['縣市'].apply(lambda x:x.replace('臺','台')))\n",
    "df_02['行政區']=list(df_02['行政區'].apply(lambda x:x.replace('臺','台')))\n",
    "df_02['村里']=list(df_02['村里'].apply(lambda x:x.replace('臺','台')))\n",
    "\n",
    "gdf['村里']=gdf['村里'].apply(lambda x:x.replace('舘','館'))\n",
    "df_02['村里']=df_02['村里'].apply(lambda x:x.replace('舘','館'))\n",
    "gdf['村里']=gdf['村里'].apply(lambda x:x.replace('双','雙'))\n",
    "df_02['村里']=df_02['村里'].apply(lambda x:x.replace('双','雙'))\n",
    "gdf['村里']=gdf['村里'].apply(lambda x:x.replace('石[曹]里','石𥕢里'))\n",
    "gdf['村里']=gdf['村里'].apply(lambda x:x.replace('鷄林里','雞林里'))\n",
    "gdf['村里']=gdf['村里'].apply(lambda x:x.replace('水磜村','水祭村'))\n",
    "gdf['村里']=gdf['村里'].apply(lambda x:x.replace('珊湖里','珊瑚里'))\n",
    "\n",
    "gdf['村里']=gdf['村里'].apply(lambda x:x.replace('欍','瓊'))\n",
    "df_02['村里']=df_02['村里'].apply(lambda x:x.replace('溝垻里','溝埧里'))\n",
    "df_02['村里']=df_02['村里'].apply(lambda x:x.replace('崙峰里','崙峯里'))\n",
    "gdf.head()"
   ]
  },
  {
   "cell_type": "markdown",
   "metadata": {},
   "source": [
    "### 檢查1"
   ]
  },
  {
   "cell_type": "code",
   "execution_count": 190,
   "metadata": {},
   "outputs": [
    {
     "data": {
      "text/html": [
       "<div>\n",
       "<style scoped>\n",
       "    .dataframe tbody tr th:only-of-type {\n",
       "        vertical-align: middle;\n",
       "    }\n",
       "\n",
       "    .dataframe tbody tr th {\n",
       "        vertical-align: top;\n",
       "    }\n",
       "\n",
       "    .dataframe thead th {\n",
       "        text-align: right;\n",
       "    }\n",
       "</style>\n",
       "<table border=\"1\" class=\"dataframe\">\n",
       "  <thead>\n",
       "    <tr style=\"text-align: right;\">\n",
       "      <th></th>\n",
       "      <th>村里</th>\n",
       "      <th>n</th>\n",
       "    </tr>\n",
       "  </thead>\n",
       "  <tbody>\n",
       "    <tr>\n",
       "      <th>0</th>\n",
       "      <td>??村</td>\n",
       "      <td>1</td>\n",
       "    </tr>\n",
       "    <tr>\n",
       "      <th>1</th>\n",
       "      <td>?子里</td>\n",
       "      <td>1</td>\n",
       "    </tr>\n",
       "    <tr>\n",
       "      <th>2</th>\n",
       "      <td>糖?里</td>\n",
       "      <td>1</td>\n",
       "    </tr>\n",
       "    <tr>\n",
       "      <th>3</th>\n",
       "      <td>磚?里</td>\n",
       "      <td>1</td>\n",
       "    </tr>\n",
       "    <tr>\n",
       "      <th>4</th>\n",
       "      <td>瓦?里</td>\n",
       "      <td>1</td>\n",
       "    </tr>\n",
       "    <tr>\n",
       "      <th>5</th>\n",
       "      <td>瓦?村</td>\n",
       "      <td>1</td>\n",
       "    </tr>\n",
       "    <tr>\n",
       "      <th>6</th>\n",
       "      <td>灰?里</td>\n",
       "      <td>1</td>\n",
       "    </tr>\n",
       "    <tr>\n",
       "      <th>7</th>\n",
       "      <td>永?里</td>\n",
       "      <td>1</td>\n",
       "    </tr>\n",
       "    <tr>\n",
       "      <th>8</th>\n",
       "      <td>新?里</td>\n",
       "      <td>1</td>\n",
       "    </tr>\n",
       "    <tr>\n",
       "      <th>9</th>\n",
       "      <td>南?里</td>\n",
       "      <td>1</td>\n",
       "    </tr>\n",
       "  </tbody>\n",
       "</table>\n",
       "</div>"
      ],
      "text/plain": [
       "    村里  n\n",
       "0  ??村  1\n",
       "1  ?子里  1\n",
       "2  糖?里  1\n",
       "3  磚?里  1\n",
       "4  瓦?里  1\n",
       "5  瓦?村  1\n",
       "6  灰?里  1\n",
       "7  永?里  1\n",
       "8  新?里  1\n",
       "9  南?里  1"
      ]
     },
     "execution_count": 190,
     "metadata": {},
     "output_type": "execute_result"
    }
   ],
   "source": [
    "site1=df_02[-(df_02['縣市']+df_02['行政區']+df_02['村里']).isin(gdf['縣市']+gdf['行政區']+gdf['村里'])].groupby(['村里'])['行政區'].nunique().reset_index(name='n').sort_values(by='n',ascending=False).reset_index(drop=True)\n",
    "site1.head(10)"
   ]
  },
  {
   "cell_type": "code",
   "execution_count": 191,
   "metadata": {},
   "outputs": [
    {
     "name": "stdout",
     "output_type": "stream",
     "text": [
      "0 ??村 ['中埔鄉']\n",
      "1 ?子里 ['北屯區']\n",
      "2 糖?里 ['萬華區']\n",
      "3 磚?里 ['西區']\n",
      "4 瓦?里 ['中和區']\n",
      "5 瓦?村 ['元長鄉']\n",
      "6 灰?里 ['中和區']\n",
      "7 永?里 ['三峽區']\n",
      "8 新?里 ['永和區']\n",
      "9 南?里 ['彰化市']\n",
      "10 公?里 ['板橋區']\n",
      "11 五?里 ['新店區']\n",
      "12 ?行里 ['永康區']\n",
      "13 ?榔里 ['新屋區']\n",
      "14 ?林里 ['大園區']\n",
      "15 ?廷里 ['土城區']\n",
      "16 ?寮里 ['樹林區']\n",
      "17 蔗?里 ['大肚區']\n"
     ]
    }
   ],
   "source": [
    "number=0\n",
    "for i in site1[site1.n>0]['村里']:\n",
    "    print(number,i, df_02[df_02['村里']==i]['行政區'].unique())\n",
    "    number+=1"
   ]
  },
  {
   "cell_type": "code",
   "execution_count": 192,
   "metadata": {},
   "outputs": [
    {
     "ename": "KeyError",
     "evalue": "48",
     "output_type": "error",
     "traceback": [
      "\u001b[1;31m---------------------------------------------------------------------------\u001b[0m",
      "\u001b[1;31mKeyError\u001b[0m                                  Traceback (most recent call last)",
      "\u001b[1;32m<ipython-input-192-caed33d4792d>\u001b[0m in \u001b[0;36m<module>\u001b[1;34m\u001b[0m\n\u001b[1;32m----> 1\u001b[1;33m \u001b[0msite2\u001b[0m\u001b[1;33m=\u001b[0m\u001b[0msite1\u001b[0m\u001b[1;33m[\u001b[0m\u001b[0msite1\u001b[0m\u001b[1;33m.\u001b[0m\u001b[0mn\u001b[0m\u001b[1;33m>\u001b[0m\u001b[1;36m0\u001b[0m\u001b[1;33m]\u001b[0m\u001b[1;33m[\u001b[0m\u001b[1;34m'村里'\u001b[0m\u001b[1;33m]\u001b[0m\u001b[1;33m[\u001b[0m\u001b[1;36m48\u001b[0m\u001b[1;33m]\u001b[0m\u001b[1;33m\u001b[0m\u001b[1;33m\u001b[0m\u001b[0m\n\u001b[0m\u001b[0;32m      2\u001b[0m \u001b[0msite3\u001b[0m\u001b[1;33m=\u001b[0m\u001b[0mdf_02\u001b[0m\u001b[1;33m[\u001b[0m\u001b[0mdf_02\u001b[0m\u001b[1;33m[\u001b[0m\u001b[1;34m'村里'\u001b[0m\u001b[1;33m]\u001b[0m\u001b[1;33m==\u001b[0m\u001b[0msite2\u001b[0m\u001b[1;33m]\u001b[0m\u001b[1;33m[\u001b[0m\u001b[1;34m'行政區'\u001b[0m\u001b[1;33m]\u001b[0m\u001b[1;33m.\u001b[0m\u001b[0munique\u001b[0m\u001b[1;33m(\u001b[0m\u001b[1;33m)\u001b[0m\u001b[1;33m\u001b[0m\u001b[1;33m\u001b[0m\u001b[0m\n\u001b[0;32m      3\u001b[0m \u001b[1;33m\u001b[0m\u001b[0m\n\u001b[0;32m      4\u001b[0m \u001b[1;32mfor\u001b[0m \u001b[0mi\u001b[0m \u001b[1;32min\u001b[0m \u001b[0msite3\u001b[0m\u001b[1;33m:\u001b[0m\u001b[1;33m\u001b[0m\u001b[1;33m\u001b[0m\u001b[0m\n\u001b[0;32m      5\u001b[0m     \u001b[0mprint\u001b[0m\u001b[1;33m(\u001b[0m\u001b[0mi\u001b[0m\u001b[1;33m,\u001b[0m\u001b[0mlist\u001b[0m\u001b[1;33m(\u001b[0m\u001b[0mgdf\u001b[0m\u001b[1;33m[\u001b[0m\u001b[0mgdf\u001b[0m\u001b[1;33m[\u001b[0m\u001b[1;34m'行政區'\u001b[0m\u001b[1;33m]\u001b[0m\u001b[1;33m==\u001b[0m\u001b[0mi\u001b[0m\u001b[1;33m]\u001b[0m\u001b[1;33m[\u001b[0m\u001b[1;34m'村里'\u001b[0m\u001b[1;33m]\u001b[0m\u001b[1;33m[\u001b[0m\u001b[0mgdf\u001b[0m\u001b[1;33m[\u001b[0m\u001b[0mgdf\u001b[0m\u001b[1;33m[\u001b[0m\u001b[1;34m'行政區'\u001b[0m\u001b[1;33m]\u001b[0m\u001b[1;33m==\u001b[0m\u001b[0mi\u001b[0m\u001b[1;33m]\u001b[0m\u001b[1;33m[\u001b[0m\u001b[1;34m'村里'\u001b[0m\u001b[1;33m]\u001b[0m\u001b[1;33m.\u001b[0m\u001b[0mstr\u001b[0m\u001b[1;33m.\u001b[0m\u001b[0mcontains\u001b[0m\u001b[1;33m(\u001b[0m\u001b[1;34m'龜'\u001b[0m\u001b[1;33m)\u001b[0m\u001b[1;33m]\u001b[0m\u001b[1;33m)\u001b[0m\u001b[1;33m)\u001b[0m\u001b[1;33m\u001b[0m\u001b[1;33m\u001b[0m\u001b[0m\n",
      "\u001b[1;32mC:\\ProgramData\\Anaconda3\\lib\\site-packages\\pandas\\core\\series.py\u001b[0m in \u001b[0;36m__getitem__\u001b[1;34m(self, key)\u001b[0m\n\u001b[0;32m    869\u001b[0m         \u001b[0mkey\u001b[0m \u001b[1;33m=\u001b[0m \u001b[0mcom\u001b[0m\u001b[1;33m.\u001b[0m\u001b[0mapply_if_callable\u001b[0m\u001b[1;33m(\u001b[0m\u001b[0mkey\u001b[0m\u001b[1;33m,\u001b[0m \u001b[0mself\u001b[0m\u001b[1;33m)\u001b[0m\u001b[1;33m\u001b[0m\u001b[1;33m\u001b[0m\u001b[0m\n\u001b[0;32m    870\u001b[0m         \u001b[1;32mtry\u001b[0m\u001b[1;33m:\u001b[0m\u001b[1;33m\u001b[0m\u001b[1;33m\u001b[0m\u001b[0m\n\u001b[1;32m--> 871\u001b[1;33m             \u001b[0mresult\u001b[0m \u001b[1;33m=\u001b[0m \u001b[0mself\u001b[0m\u001b[1;33m.\u001b[0m\u001b[0mindex\u001b[0m\u001b[1;33m.\u001b[0m\u001b[0mget_value\u001b[0m\u001b[1;33m(\u001b[0m\u001b[0mself\u001b[0m\u001b[1;33m,\u001b[0m \u001b[0mkey\u001b[0m\u001b[1;33m)\u001b[0m\u001b[1;33m\u001b[0m\u001b[1;33m\u001b[0m\u001b[0m\n\u001b[0m\u001b[0;32m    872\u001b[0m \u001b[1;33m\u001b[0m\u001b[0m\n\u001b[0;32m    873\u001b[0m             \u001b[1;32mif\u001b[0m \u001b[1;32mnot\u001b[0m \u001b[0mis_scalar\u001b[0m\u001b[1;33m(\u001b[0m\u001b[0mresult\u001b[0m\u001b[1;33m)\u001b[0m\u001b[1;33m:\u001b[0m\u001b[1;33m\u001b[0m\u001b[1;33m\u001b[0m\u001b[0m\n",
      "\u001b[1;32mC:\\ProgramData\\Anaconda3\\lib\\site-packages\\pandas\\core\\indexes\\base.py\u001b[0m in \u001b[0;36mget_value\u001b[1;34m(self, series, key)\u001b[0m\n\u001b[0;32m   4403\u001b[0m         \u001b[0mk\u001b[0m \u001b[1;33m=\u001b[0m \u001b[0mself\u001b[0m\u001b[1;33m.\u001b[0m\u001b[0m_convert_scalar_indexer\u001b[0m\u001b[1;33m(\u001b[0m\u001b[0mk\u001b[0m\u001b[1;33m,\u001b[0m \u001b[0mkind\u001b[0m\u001b[1;33m=\u001b[0m\u001b[1;34m\"getitem\"\u001b[0m\u001b[1;33m)\u001b[0m\u001b[1;33m\u001b[0m\u001b[1;33m\u001b[0m\u001b[0m\n\u001b[0;32m   4404\u001b[0m         \u001b[1;32mtry\u001b[0m\u001b[1;33m:\u001b[0m\u001b[1;33m\u001b[0m\u001b[1;33m\u001b[0m\u001b[0m\n\u001b[1;32m-> 4405\u001b[1;33m             \u001b[1;32mreturn\u001b[0m \u001b[0mself\u001b[0m\u001b[1;33m.\u001b[0m\u001b[0m_engine\u001b[0m\u001b[1;33m.\u001b[0m\u001b[0mget_value\u001b[0m\u001b[1;33m(\u001b[0m\u001b[0ms\u001b[0m\u001b[1;33m,\u001b[0m \u001b[0mk\u001b[0m\u001b[1;33m,\u001b[0m \u001b[0mtz\u001b[0m\u001b[1;33m=\u001b[0m\u001b[0mgetattr\u001b[0m\u001b[1;33m(\u001b[0m\u001b[0mseries\u001b[0m\u001b[1;33m.\u001b[0m\u001b[0mdtype\u001b[0m\u001b[1;33m,\u001b[0m \u001b[1;34m\"tz\"\u001b[0m\u001b[1;33m,\u001b[0m \u001b[1;32mNone\u001b[0m\u001b[1;33m)\u001b[0m\u001b[1;33m)\u001b[0m\u001b[1;33m\u001b[0m\u001b[1;33m\u001b[0m\u001b[0m\n\u001b[0m\u001b[0;32m   4406\u001b[0m         \u001b[1;32mexcept\u001b[0m \u001b[0mKeyError\u001b[0m \u001b[1;32mas\u001b[0m \u001b[0me1\u001b[0m\u001b[1;33m:\u001b[0m\u001b[1;33m\u001b[0m\u001b[1;33m\u001b[0m\u001b[0m\n\u001b[0;32m   4407\u001b[0m             \u001b[1;32mif\u001b[0m \u001b[0mlen\u001b[0m\u001b[1;33m(\u001b[0m\u001b[0mself\u001b[0m\u001b[1;33m)\u001b[0m \u001b[1;33m>\u001b[0m \u001b[1;36m0\u001b[0m \u001b[1;32mand\u001b[0m \u001b[1;33m(\u001b[0m\u001b[0mself\u001b[0m\u001b[1;33m.\u001b[0m\u001b[0mholds_integer\u001b[0m\u001b[1;33m(\u001b[0m\u001b[1;33m)\u001b[0m \u001b[1;32mor\u001b[0m \u001b[0mself\u001b[0m\u001b[1;33m.\u001b[0m\u001b[0mis_boolean\u001b[0m\u001b[1;33m(\u001b[0m\u001b[1;33m)\u001b[0m\u001b[1;33m)\u001b[0m\u001b[1;33m:\u001b[0m\u001b[1;33m\u001b[0m\u001b[1;33m\u001b[0m\u001b[0m\n",
      "\u001b[1;32mpandas\\_libs\\index.pyx\u001b[0m in \u001b[0;36mpandas._libs.index.IndexEngine.get_value\u001b[1;34m()\u001b[0m\n",
      "\u001b[1;32mpandas\\_libs\\index.pyx\u001b[0m in \u001b[0;36mpandas._libs.index.IndexEngine.get_value\u001b[1;34m()\u001b[0m\n",
      "\u001b[1;32mpandas\\_libs\\index.pyx\u001b[0m in \u001b[0;36mpandas._libs.index.IndexEngine.get_loc\u001b[1;34m()\u001b[0m\n",
      "\u001b[1;32mpandas\\_libs\\hashtable_class_helper.pxi\u001b[0m in \u001b[0;36mpandas._libs.hashtable.Int64HashTable.get_item\u001b[1;34m()\u001b[0m\n",
      "\u001b[1;32mpandas\\_libs\\hashtable_class_helper.pxi\u001b[0m in \u001b[0;36mpandas._libs.hashtable.Int64HashTable.get_item\u001b[1;34m()\u001b[0m\n",
      "\u001b[1;31mKeyError\u001b[0m: 48"
     ]
    }
   ],
   "source": [
    "site2=site1[site1.n>0]['村里'][48]\n",
    "site3=df_02[df_02['村里']==site2]['行政區'].unique()\n",
    "\n",
    "for i in site3:\n",
    "    print(i,list(gdf[gdf['行政區']==i]['村里'][gdf[gdf['行政區']==i]['村里'].str.contains('龜')]))"
   ]
  },
  {
   "cell_type": "code",
   "execution_count": null,
   "metadata": {},
   "outputs": [],
   "source": []
  },
  {
   "cell_type": "code",
   "execution_count": null,
   "metadata": {},
   "outputs": [],
   "source": [
    "df_02[-(df_02['縣市']+df_02['行政區']+df_02['村里']).isin(gdf['縣市']+gdf['行政區']+gdf['村里'])]\n",
    "df_02[(df_02['行政區']+df_02['村里'])=='埔心鄉埤脚村']"
   ]
  },
  {
   "cell_type": "code",
   "execution_count": null,
   "metadata": {},
   "outputs": [],
   "source": [
    "gdf[(gdf['行政區']+gdf['村里'])=='埔心鄉埤霞村']"
   ]
  },
  {
   "cell_type": "code",
   "execution_count": null,
   "metadata": {},
   "outputs": [],
   "source": [
    "df_02[-(df_02['縣市']+df_02['行政區']+df_02['村里']).isin(gdf['縣市']+gdf['行政區']+gdf['村里'])].groupby(['行政區','村里']).count().sort_values(by='id',ascending=False).head(15)"
   ]
  },
  {
   "cell_type": "code",
   "execution_count": null,
   "metadata": {},
   "outputs": [],
   "source": [
    "gdf[gdf['村里']=='三廍村']"
   ]
  },
  {
   "cell_type": "code",
   "execution_count": null,
   "metadata": {},
   "outputs": [],
   "source": [
    "df_02[df_02['村里']=='五?里']['行政區'].unique()"
   ]
  },
  {
   "cell_type": "code",
   "execution_count": null,
   "metadata": {},
   "outputs": [],
   "source": []
  },
  {
   "cell_type": "markdown",
   "metadata": {},
   "source": [
    "### 字元調整"
   ]
  },
  {
   "cell_type": "code",
   "execution_count": null,
   "metadata": {},
   "outputs": [],
   "source": [
    "df_02['村里']=df_02['村里'].apply(lambda x:x.replace('糖部里','糖廍里'))\n",
    "df_02['村里']=df_02['村里'].apply(lambda x:x.replace('糖?里','糖廍里'))\n",
    "df_02['村里']=df_02['村里'].apply(lambda x:x.replace('磚?里','磚磘里'))\n",
    "df_02['村里']=df_02['村里'].apply(lambda x:x.replace('磚瑤里','磚磘里'))\n",
    "df_02['村里']=df_02['村里'].apply(lambda x:x.replace('珊湖里','珊瑚里'))\n",
    "df_02['村里']=df_02['村里'].apply(lambda x:x.replace('下?里','下廍里'))\n",
    "\n",
    "df_02.loc[df_02['行政區']=='彰化市',['村里']]=df_02.loc[df_02['行政區']=='彰化市',['村里']].apply(lambda x:x.replace('南?里','南瑶里'))\n",
    "df_02.loc[df_02['行政區']=='官田區',['村里']]=df_02.loc[df_02['行政區']=='官田區',['村里']].apply(lambda x:x.replace('南?里','南廍里'))\n",
    "#df_02['村里']=df_02['村里'].apply(lambda x:x.replace('南?里','南瑶里'))\n",
    "\n",
    "\n",
    "df_02['村里']=df_02['村里'].apply(lambda x:x.replace('崙?里','崙峯里'))\n",
    "df_02['村里']=df_02['村里'].apply(lambda x:x.replace('?子里','廍子里'))\n",
    "\n",
    "df_02['村里']=df_02['村里'].apply(lambda x:x.replace('石?村','石硦村'))\n",
    "df_02['村里']=df_02['村里'].apply(lambda x:x.replace('上?里','上館里'))\n",
    "df_02['村里']=df_02['村里'].apply(lambda x:x.replace('永?里','永館里'))\n",
    "\n",
    "df_02['村里']=df_02['村里'].apply(lambda x:x.replace('瓦?村','瓦磘村'))\n",
    "df_02['村里']=df_02['村里'].apply(lambda x:x.replace('瓦?里','瓦磘里'))\n",
    "df_02['村里']=df_02['村里'].apply(lambda x:x.replace('五?里','五峯里'))\n",
    "df_02['村里']=df_02['村里'].apply(lambda x:x.replace('?行里','塩行里'))\n",
    "df_02['村里']=df_02['村里'].apply(lambda x:x.replace('?廷里','峯廷里'))\n",
    "\n",
    "df_02['村里']=df_02['村里'].apply(lambda x:x.replace('?興里','塩興里'))\n",
    "df_02['村里']=df_02['村里'].apply(lambda x:x.replace('?廷里','峯廷里'))\n",
    "\n",
    "df_02['村里']=df_02['村里'].apply(lambda x:x.replace('公?里','公館里'))\n",
    "\n",
    "df_02['村里']=df_02['村里'].apply(lambda x:x.replace('?洲里','塩洲里'))\n",
    "df_02['村里']=df_02['村里'].apply(lambda x:x.replace('?龍里','雙龍里'))\n",
    "\n",
    "#df_02['村里']=df_02['村里'].apply(lambda x:x.replace('?林里','雞林里'))\n",
    "df_02.loc[df_02['行政區']=='竹東鎮',['村里']]=df_02.loc[df_02['行政區']=='竹東鎮',['村里']].apply(lambda x:x.replace('?林里','雞林里'))\n",
    "\n",
    "df_02.loc[df_02['行政區']=='大園區',['村里']]=df_02.loc[df_02['行政區']=='大園區',['村里']].apply(lambda x:x.replace('?林里','菓林里'))\n",
    "\n",
    "df_02['村里']=df_02['村里'].apply(lambda x:x.replace('?寮里','獇寮里'))\n",
    "df_02['村里']=df_02['村里'].apply(lambda x:x.replace('新?里','新廍里'))\n",
    "\n",
    "df_02['村里']=df_02['村里'].apply(lambda x:x.replace('蔗?里','蔗廍里'))\n",
    "df_02['村里']=df_02['村里'].apply(lambda x:x.replace('?埔里','坔埔里'))\n",
    "df_02['村里']=df_02['村里'].apply(lambda x:x.replace('?榔里','槺榔里'))\n",
    "df_02['村里']=df_02['村里'].apply(lambda x:x.replace('?江里','晋江里'))\n",
    "df_02['村里']=df_02['村里'].apply(lambda x:x.replace('?福村','雙福村'))\n",
    "df_02['村里']=df_02['村里'].apply(lambda x:x.replace('爪?里','爪峯里'))\n",
    "\n",
    "df_02['村里']=df_02['村里'].apply(lambda x:x.replace('舊?村','舊館村'))\n",
    "df_02['村里']=df_02['村里'].apply(lambda x:x.replace('南?村','南館村'))\n",
    "\n",
    "df_02['村里']=df_02['村里'].apply(lambda x:x.replace('灰?里','灰磘里'))\n",
    "df_02['村里']=df_02['村里'].apply(lambda x:x.replace('三?村','三廍村'))\n",
    "\n",
    "\n",
    "df_02.loc[df_02['行政區']=='將軍區',['村里']]=df_02.loc[df_02['行政區']=='將軍區',['村里']].apply(lambda x:x.replace('忠興里','忠嘉里'))\n",
    "\n",
    "df_02['村里']=df_02['村里'].apply(lambda x:x.replace('下部里','下廍里'))\n",
    "df_02.loc[df_02['行政區']=='埔鹽鄉',['村里']]=df_02.loc[df_02['行政區']=='埔鹽鄉',['村里']].apply(lambda x:x.replace('?子村','廍子村'))\n",
    "df_02.loc[df_02['行政區']=='四湖鄉',['村里']]=df_02.loc[df_02['行政區']=='四湖鄉',['村里']].apply(lambda x:x.replace('?子村','萡子村'))\n",
    "\n",
    "df_02['村里']=df_02['村里'].apply(lambda x:x.replace('?田里','塩田里'))\n",
    "df_02['村里']=df_02['村里'].apply(lambda x:x.replace('山?里','山脚里'))\n",
    "\n",
    "df_02.loc[df_02['行政區']=='北埔鄉',['村里']]=df_02.loc[df_02['行政區']=='北埔鄉',['村里']].apply(lambda x:x.replace('水?村','水祭村'))\n",
    "df_02.loc[df_02['行政區']=='北埔鄉',['村里']]=df_02.loc[df_02['行政區']=='北埔鄉',['村里']].apply(lambda x:x.replace('水？村','水祭村'))\n",
    "df_02.loc[df_02['行政區']=='瑞芳區',['村里']]=df_02.loc[df_02['行政區']=='瑞芳區',['村里']].apply(lambda x:x.replace('?洞里','濂洞里'))\n",
    "\n",
    "df_02.loc[df_02['行政區']=='埔心鄉',['村里']]=df_02.loc[df_02['行政區']=='埔心鄉',['村里']].apply(lambda x:x.replace('埤?村','埤脚村'))"
   ]
  },
  {
   "cell_type": "code",
   "execution_count": null,
   "metadata": {},
   "outputs": [],
   "source": []
  },
  {
   "cell_type": "markdown",
   "metadata": {},
   "source": [
    "### 第一次抓取 村里 與 geo data 合不合"
   ]
  },
  {
   "cell_type": "code",
   "execution_count": 193,
   "metadata": {},
   "outputs": [
    {
     "name": "stdout",
     "output_type": "stream",
     "text": [
      "(22294, 7)\n",
      "(590, 7)\n"
     ]
    }
   ],
   "source": [
    "#合\n",
    "df_02_1=df_02[(df_02['縣市']+df_02['行政區']+df_02['村里']).isin(gdf['縣市']+gdf['行政區']+gdf['村里'])].reset_index(drop=True)\n",
    "\n",
    "#不合\n",
    "df_02_2=df_02[-(df_02['縣市']+df_02['行政區']+df_02['村里']).isin(gdf['縣市']+gdf['行政區']+gdf['村里'])].reset_index(drop=True)\n",
    "print(df_02_1.shape)\n",
    "print(df_02_2.shape)"
   ]
  },
  {
   "cell_type": "markdown",
   "metadata": {},
   "source": [
    "### 不合的資料用經緯度 與村里邊界資料mapping"
   ]
  },
  {
   "cell_type": "code",
   "execution_count": 194,
   "metadata": {},
   "outputs": [],
   "source": [
    "df_02_2.lon=df_02_2.lon.apply(lambda x:float(x))\n",
    "df_02_2.lat=df_02_2.lat.apply(lambda x:float(x))"
   ]
  },
  {
   "cell_type": "code",
   "execution_count": 195,
   "metadata": {},
   "outputs": [
    {
     "data": {
      "text/html": [
       "<div>\n",
       "<style scoped>\n",
       "    .dataframe tbody tr th:only-of-type {\n",
       "        vertical-align: middle;\n",
       "    }\n",
       "\n",
       "    .dataframe tbody tr th {\n",
       "        vertical-align: top;\n",
       "    }\n",
       "\n",
       "    .dataframe thead th {\n",
       "        text-align: right;\n",
       "    }\n",
       "</style>\n",
       "<table border=\"1\" class=\"dataframe\">\n",
       "  <thead>\n",
       "    <tr style=\"text-align: right;\">\n",
       "      <th></th>\n",
       "      <th>id</th>\n",
       "      <th>addr</th>\n",
       "      <th>lon</th>\n",
       "      <th>lat</th>\n",
       "      <th>縣市</th>\n",
       "      <th>行政區</th>\n",
       "      <th>村里</th>\n",
       "    </tr>\n",
       "  </thead>\n",
       "  <tbody>\n",
       "    <tr>\n",
       "      <th>0</th>\n",
       "      <td>20180730000668</td>\n",
       "      <td>新北市三峽區永?里22鄰復興路155號                           ...</td>\n",
       "      <td>121.370719</td>\n",
       "      <td>24.938186</td>\n",
       "      <td>新北市</td>\n",
       "      <td>三峽區</td>\n",
       "      <td>永?里</td>\n",
       "    </tr>\n",
       "    <tr>\n",
       "      <th>1</th>\n",
       "      <td>20051123000241</td>\n",
       "      <td>新北市土城區?廷里23鄰延吉街176號                           ...</td>\n",
       "      <td>121.468071</td>\n",
       "      <td>24.985241</td>\n",
       "      <td>新北市</td>\n",
       "      <td>土城區</td>\n",
       "      <td>?廷里</td>\n",
       "    </tr>\n",
       "    <tr>\n",
       "      <th>2</th>\n",
       "      <td>20151005000915</td>\n",
       "      <td>新北市三峽區永?里20鄰復興路177巷5號                         ...</td>\n",
       "      <td>121.369992</td>\n",
       "      <td>24.938096</td>\n",
       "      <td>新北市</td>\n",
       "      <td>三峽區</td>\n",
       "      <td>永?里</td>\n",
       "    </tr>\n",
       "    <tr>\n",
       "      <th>3</th>\n",
       "      <td>20180929000784</td>\n",
       "      <td>新北市三峽區永?里1鄰復興路43號                             ...</td>\n",
       "      <td>121.373493</td>\n",
       "      <td>24.936689</td>\n",
       "      <td>新北市</td>\n",
       "      <td>三峽區</td>\n",
       "      <td>永?里</td>\n",
       "    </tr>\n",
       "    <tr>\n",
       "      <th>4</th>\n",
       "      <td>20180205000423</td>\n",
       "      <td>新北市三峽區永?里12鄰民生街146巷8號                         ...</td>\n",
       "      <td>121.372375</td>\n",
       "      <td>24.935285</td>\n",
       "      <td>新北市</td>\n",
       "      <td>三峽區</td>\n",
       "      <td>永?里</td>\n",
       "    </tr>\n",
       "    <tr>\n",
       "      <th>...</th>\n",
       "      <td>...</td>\n",
       "      <td>...</td>\n",
       "      <td>...</td>\n",
       "      <td>...</td>\n",
       "      <td>...</td>\n",
       "      <td>...</td>\n",
       "      <td>...</td>\n",
       "    </tr>\n",
       "    <tr>\n",
       "      <th>585</th>\n",
       "      <td>19990124002328</td>\n",
       "      <td>新北市三峽區永?里9鄰民生街100號                            ...</td>\n",
       "      <td>121.373882</td>\n",
       "      <td>24.935603</td>\n",
       "      <td>新北市</td>\n",
       "      <td>三峽區</td>\n",
       "      <td>永?里</td>\n",
       "    </tr>\n",
       "    <tr>\n",
       "      <th>586</th>\n",
       "      <td>20010101001456</td>\n",
       "      <td>新北市三峽區永?里19鄰文化路120巷19號                        ...</td>\n",
       "      <td>121.370932</td>\n",
       "      <td>24.936760</td>\n",
       "      <td>新北市</td>\n",
       "      <td>三峽區</td>\n",
       "      <td>永?里</td>\n",
       "    </tr>\n",
       "    <tr>\n",
       "      <th>587</th>\n",
       "      <td>20030318046446</td>\n",
       "      <td>新北市三峽區永?里15鄰和平街7號                             ...</td>\n",
       "      <td>121.370320</td>\n",
       "      <td>24.934970</td>\n",
       "      <td>新北市</td>\n",
       "      <td>三峽區</td>\n",
       "      <td>永?里</td>\n",
       "    </tr>\n",
       "    <tr>\n",
       "      <th>588</th>\n",
       "      <td>19971010000337</td>\n",
       "      <td>新北市三峽區永?里1鄰復興路43號                             ...</td>\n",
       "      <td>121.373493</td>\n",
       "      <td>24.936689</td>\n",
       "      <td>新北市</td>\n",
       "      <td>三峽區</td>\n",
       "      <td>永?里</td>\n",
       "    </tr>\n",
       "    <tr>\n",
       "      <th>589</th>\n",
       "      <td>20150215000368</td>\n",
       "      <td>新北市三峽區永?里19鄰文化路120巷5號                         ...</td>\n",
       "      <td>121.370919</td>\n",
       "      <td>24.936554</td>\n",
       "      <td>新北市</td>\n",
       "      <td>三峽區</td>\n",
       "      <td>永?里</td>\n",
       "    </tr>\n",
       "  </tbody>\n",
       "</table>\n",
       "<p>590 rows × 7 columns</p>\n",
       "</div>"
      ],
      "text/plain": [
       "                 id                                               addr  \\\n",
       "0    20180730000668  新北市三峽區永?里22鄰復興路155號                           ...   \n",
       "1    20051123000241  新北市土城區?廷里23鄰延吉街176號                           ...   \n",
       "2    20151005000915  新北市三峽區永?里20鄰復興路177巷5號                         ...   \n",
       "3    20180929000784  新北市三峽區永?里1鄰復興路43號                             ...   \n",
       "4    20180205000423  新北市三峽區永?里12鄰民生街146巷8號                         ...   \n",
       "..              ...                                                ...   \n",
       "585  19990124002328  新北市三峽區永?里9鄰民生街100號                            ...   \n",
       "586  20010101001456  新北市三峽區永?里19鄰文化路120巷19號                        ...   \n",
       "587  20030318046446  新北市三峽區永?里15鄰和平街7號                             ...   \n",
       "588  19971010000337  新北市三峽區永?里1鄰復興路43號                             ...   \n",
       "589  20150215000368  新北市三峽區永?里19鄰文化路120巷5號                         ...   \n",
       "\n",
       "            lon        lat   縣市  行政區   村里  \n",
       "0    121.370719  24.938186  新北市  三峽區  永?里  \n",
       "1    121.468071  24.985241  新北市  土城區  ?廷里  \n",
       "2    121.369992  24.938096  新北市  三峽區  永?里  \n",
       "3    121.373493  24.936689  新北市  三峽區  永?里  \n",
       "4    121.372375  24.935285  新北市  三峽區  永?里  \n",
       "..          ...        ...  ...  ...  ...  \n",
       "585  121.373882  24.935603  新北市  三峽區  永?里  \n",
       "586  121.370932  24.936760  新北市  三峽區  永?里  \n",
       "587  121.370320  24.934970  新北市  三峽區  永?里  \n",
       "588  121.373493  24.936689  新北市  三峽區  永?里  \n",
       "589  121.370919  24.936554  新北市  三峽區  永?里  \n",
       "\n",
       "[590 rows x 7 columns]"
      ]
     },
     "execution_count": 195,
     "metadata": {},
     "output_type": "execute_result"
    }
   ],
   "source": [
    "df_02_2"
   ]
  },
  {
   "cell_type": "code",
   "execution_count": 196,
   "metadata": {},
   "outputs": [
    {
     "name": "stdout",
     "output_type": "stream",
     "text": [
      "(590, 8)\n"
     ]
    }
   ],
   "source": [
    "geom=[Point(data.lon,data.lat) for idx, data in df_02_2.iterrows()]\n",
    "crs = {'init': 'epsg:4326'}\n",
    "df_02_2 = gpd.GeoDataFrame(df_02_2, crs=crs, geometry=geom)\n",
    "print(df_02_2.shape)"
   ]
  },
  {
   "cell_type": "code",
   "execution_count": 197,
   "metadata": {},
   "outputs": [
    {
     "data": {
      "text/plain": [
       "(590, 12)"
      ]
     },
     "execution_count": 197,
     "metadata": {},
     "output_type": "execute_result"
    }
   ],
   "source": [
    "df_02_3 = gpd.tools.sjoin(df_02_2,gdf, how=\"inner\", op='intersects')\n",
    "df_02_3.shape"
   ]
  },
  {
   "cell_type": "code",
   "execution_count": 198,
   "metadata": {},
   "outputs": [
    {
     "data": {
      "text/html": [
       "<div>\n",
       "<style scoped>\n",
       "    .dataframe tbody tr th:only-of-type {\n",
       "        vertical-align: middle;\n",
       "    }\n",
       "\n",
       "    .dataframe tbody tr th {\n",
       "        vertical-align: top;\n",
       "    }\n",
       "\n",
       "    .dataframe thead th {\n",
       "        text-align: right;\n",
       "    }\n",
       "</style>\n",
       "<table border=\"1\" class=\"dataframe\">\n",
       "  <thead>\n",
       "    <tr style=\"text-align: right;\">\n",
       "      <th></th>\n",
       "      <th>id</th>\n",
       "      <th>addr</th>\n",
       "      <th>lon</th>\n",
       "      <th>lat</th>\n",
       "      <th>縣市</th>\n",
       "      <th>行政區</th>\n",
       "      <th>村里</th>\n",
       "    </tr>\n",
       "  </thead>\n",
       "  <tbody>\n",
       "    <tr>\n",
       "      <th>0</th>\n",
       "      <td>20180730000668</td>\n",
       "      <td>新北市三峽區永?里22鄰復興路155號                           ...</td>\n",
       "      <td>121.370719</td>\n",
       "      <td>24.938186</td>\n",
       "      <td>新北市</td>\n",
       "      <td>三峽區</td>\n",
       "      <td>永館里</td>\n",
       "    </tr>\n",
       "    <tr>\n",
       "      <th>1</th>\n",
       "      <td>20151005000915</td>\n",
       "      <td>新北市三峽區永?里20鄰復興路177巷5號                         ...</td>\n",
       "      <td>121.369992</td>\n",
       "      <td>24.938096</td>\n",
       "      <td>新北市</td>\n",
       "      <td>三峽區</td>\n",
       "      <td>永館里</td>\n",
       "    </tr>\n",
       "    <tr>\n",
       "      <th>2</th>\n",
       "      <td>20180929000784</td>\n",
       "      <td>新北市三峽區永?里1鄰復興路43號                             ...</td>\n",
       "      <td>121.373493</td>\n",
       "      <td>24.936689</td>\n",
       "      <td>新北市</td>\n",
       "      <td>三峽區</td>\n",
       "      <td>永館里</td>\n",
       "    </tr>\n",
       "    <tr>\n",
       "      <th>3</th>\n",
       "      <td>20180205000423</td>\n",
       "      <td>新北市三峽區永?里12鄰民生街146巷8號                         ...</td>\n",
       "      <td>121.372375</td>\n",
       "      <td>24.935285</td>\n",
       "      <td>新北市</td>\n",
       "      <td>三峽區</td>\n",
       "      <td>永館里</td>\n",
       "    </tr>\n",
       "    <tr>\n",
       "      <th>4</th>\n",
       "      <td>20170622000155</td>\n",
       "      <td>新北市三峽區永?里12鄰民生街146巷5號                         ...</td>\n",
       "      <td>121.372257</td>\n",
       "      <td>24.935159</td>\n",
       "      <td>新北市</td>\n",
       "      <td>三峽區</td>\n",
       "      <td>永館里</td>\n",
       "    </tr>\n",
       "    <tr>\n",
       "      <th>5</th>\n",
       "      <td>20020103004236</td>\n",
       "      <td>新北市三峽區永?里10鄰文化路76號                            ...</td>\n",
       "      <td>121.372052</td>\n",
       "      <td>24.936233</td>\n",
       "      <td>新北市</td>\n",
       "      <td>三峽區</td>\n",
       "      <td>永館里</td>\n",
       "    </tr>\n",
       "    <tr>\n",
       "      <th>6</th>\n",
       "      <td>20000407000307</td>\n",
       "      <td>新北市三峽區永?里12鄰民生街146巷8號                         ...</td>\n",
       "      <td>121.372375</td>\n",
       "      <td>24.935285</td>\n",
       "      <td>新北市</td>\n",
       "      <td>三峽區</td>\n",
       "      <td>永館里</td>\n",
       "    </tr>\n",
       "    <tr>\n",
       "      <th>7</th>\n",
       "      <td>20000605001045</td>\n",
       "      <td>新北市三峽區永?里25鄰復興路166號                           ...</td>\n",
       "      <td>121.371066</td>\n",
       "      <td>24.938472</td>\n",
       "      <td>新北市</td>\n",
       "      <td>三峽區</td>\n",
       "      <td>永館里</td>\n",
       "    </tr>\n",
       "    <tr>\n",
       "      <th>8</th>\n",
       "      <td>19990403000926</td>\n",
       "      <td>新北市三峽區永?里8鄰中山路67巷13號                          ...</td>\n",
       "      <td>121.366089</td>\n",
       "      <td>24.934238</td>\n",
       "      <td>新北市</td>\n",
       "      <td>三峽區</td>\n",
       "      <td>永館里</td>\n",
       "    </tr>\n",
       "  </tbody>\n",
       "</table>\n",
       "</div>"
      ],
      "text/plain": [
       "               id                                               addr  \\\n",
       "0  20180730000668  新北市三峽區永?里22鄰復興路155號                           ...   \n",
       "1  20151005000915  新北市三峽區永?里20鄰復興路177巷5號                         ...   \n",
       "2  20180929000784  新北市三峽區永?里1鄰復興路43號                             ...   \n",
       "3  20180205000423  新北市三峽區永?里12鄰民生街146巷8號                         ...   \n",
       "4  20170622000155  新北市三峽區永?里12鄰民生街146巷5號                         ...   \n",
       "5  20020103004236  新北市三峽區永?里10鄰文化路76號                            ...   \n",
       "6  20000407000307  新北市三峽區永?里12鄰民生街146巷8號                         ...   \n",
       "7  20000605001045  新北市三峽區永?里25鄰復興路166號                           ...   \n",
       "8  19990403000926  新北市三峽區永?里8鄰中山路67巷13號                          ...   \n",
       "\n",
       "          lon        lat   縣市  行政區   村里  \n",
       "0  121.370719  24.938186  新北市  三峽區  永館里  \n",
       "1  121.369992  24.938096  新北市  三峽區  永館里  \n",
       "2  121.373493  24.936689  新北市  三峽區  永館里  \n",
       "3  121.372375  24.935285  新北市  三峽區  永館里  \n",
       "4  121.372257  24.935159  新北市  三峽區  永館里  \n",
       "5  121.372052  24.936233  新北市  三峽區  永館里  \n",
       "6  121.372375  24.935285  新北市  三峽區  永館里  \n",
       "7  121.371066  24.938472  新北市  三峽區  永館里  \n",
       "8  121.366089  24.934238  新北市  三峽區  永館里  "
      ]
     },
     "execution_count": 198,
     "metadata": {},
     "output_type": "execute_result"
    }
   ],
   "source": [
    "df_02_3=df_02_3.iloc[:,[0,1,2,3,9,10,11]].reset_index(drop=True)\n",
    "df_02_3.columns=['id','addr','lon','lat','縣市','行政區','村里']\n",
    "df_02_3.head(9)"
   ]
  },
  {
   "cell_type": "markdown",
   "metadata": {},
   "source": [
    "## 合併 合與不合的資料\n",
    "## 獲得完整的第一次抓取 村里"
   ]
  },
  {
   "cell_type": "code",
   "execution_count": 199,
   "metadata": {},
   "outputs": [
    {
     "data": {
      "text/plain": [
       "(22884, 7)"
      ]
     },
     "execution_count": 199,
     "metadata": {},
     "output_type": "execute_result"
    }
   ],
   "source": [
    "df_02=pd.concat([df_02_1,df_02_3]).reset_index(drop=True)\n",
    "df_02.shape"
   ]
  },
  {
   "cell_type": "code",
   "execution_count": null,
   "metadata": {},
   "outputs": [],
   "source": []
  },
  {
   "cell_type": "markdown",
   "metadata": {},
   "source": [
    "## 第一次抓取 無村里的資料"
   ]
  },
  {
   "cell_type": "code",
   "execution_count": 200,
   "metadata": {},
   "outputs": [
    {
     "data": {
      "text/plain": [
       "(0, 7)"
      ]
     },
     "execution_count": 200,
     "metadata": {},
     "output_type": "execute_result"
    }
   ],
   "source": [
    "df_03=df_01[-df_01.id.isin(df_02.id)].dropna(subset=['lon'])\n",
    "df_03.shape"
   ]
  },
  {
   "cell_type": "markdown",
   "metadata": {},
   "source": [
    "### 第二次抓取 村里"
   ]
  },
  {
   "cell_type": "code",
   "execution_count": 201,
   "metadata": {},
   "outputs": [],
   "source": [
    "pattern = re.compile(r'(..[市,縣])(.{2,3}[市,區,鄉,鎮])(.{1,2}[里,村])')\n",
    "location=df_03.addr.apply(lambda x:pattern.findall(x))\n",
    "\n",
    "addr01=[]\n",
    "addr02=[]\n",
    "addr03=[]\n",
    "for i in location:\n",
    "    if len(i)==1:\n",
    "        addr01.append(i[0][0])\n",
    "        addr02.append(i[0][1])\n",
    "        addr03.append(i[0][2])        \n",
    "    else:\n",
    "        addr01.append(np.nan)\n",
    "        addr02.append(np.nan)\n",
    "        addr03.append(np.nan)  "
   ]
  },
  {
   "cell_type": "code",
   "execution_count": 202,
   "metadata": {},
   "outputs": [],
   "source": [
    "df_03['縣市']=addr01\n",
    "df_03['行政區']=addr02\n",
    "df_03['村里']=addr03"
   ]
  },
  {
   "cell_type": "markdown",
   "metadata": {},
   "source": [
    "### 第二次抓取 村里 與 geo data 合不合"
   ]
  },
  {
   "cell_type": "code",
   "execution_count": 203,
   "metadata": {},
   "outputs": [
    {
     "name": "stdout",
     "output_type": "stream",
     "text": [
      "(0, 7)\n",
      "(0, 7)\n"
     ]
    }
   ],
   "source": [
    "#合\n",
    "df_03_1=df_03[(df_03['縣市']+df_03['行政區']+df_03['村里']).isin(gdf['縣市']+gdf['行政區']+gdf['村里'])].reset_index(drop=True)\n",
    "print(df_03_1.shape)\n",
    "\n",
    "#不合\n",
    "df_03_2=df_03[-(df_03['縣市']+df_03['行政區']+df_03['村里']).isin(gdf['縣市']+gdf['行政區']+gdf['村里'])].reset_index(drop=True)\n",
    "print(df_03_2.shape)\n"
   ]
  },
  {
   "cell_type": "markdown",
   "metadata": {},
   "source": [
    "### 不合的資料用經緯度 與村里邊界資料mapping"
   ]
  },
  {
   "cell_type": "code",
   "execution_count": 204,
   "metadata": {},
   "outputs": [],
   "source": [
    "def to_float(x):\n",
    "    try:\n",
    "        return float(x)\n",
    "    except:\n",
    "        return 0"
   ]
  },
  {
   "cell_type": "code",
   "execution_count": 205,
   "metadata": {},
   "outputs": [],
   "source": [
    "df_03_2.lon=df_03_2.lon.apply(to_float)\n",
    "df_03_2.lat=df_03_2.lat.apply(to_float)"
   ]
  },
  {
   "cell_type": "code",
   "execution_count": 206,
   "metadata": {},
   "outputs": [],
   "source": [
    "if df_03_2.shape[0]>0:\n",
    "    geom=[Point(data.lon,data.lat) for idx, data in df_03_2.iterrows()]\n",
    "    crs = {'init': 'epsg:4326'}\n",
    "    df_03_2 = gpd.GeoDataFrame(df_03_2, crs=crs, geometry=geom)\n",
    "    print(df_03_2.shape)\n",
    "    df_03_3 = gpd.tools.sjoin(df_03_2,gdf, how=\"inner\", op='intersects')\n",
    "    print(df_03_3.shape)\n",
    "    df_03_3=df_03_3.iloc[:,[0,1,2,3,9,10,11]].reset_index(drop=True)\n",
    "    df_03_3.columns=['id','addr','lon','lat','縣市','行政區','村里']\n",
    "    print(df_03_3.shape)\n",
    "else:\n",
    "    df_03_3=df_03_2.copy()"
   ]
  },
  {
   "cell_type": "code",
   "execution_count": 207,
   "metadata": {},
   "outputs": [
    {
     "data": {
      "text/html": [
       "<div>\n",
       "<style scoped>\n",
       "    .dataframe tbody tr th:only-of-type {\n",
       "        vertical-align: middle;\n",
       "    }\n",
       "\n",
       "    .dataframe tbody tr th {\n",
       "        vertical-align: top;\n",
       "    }\n",
       "\n",
       "    .dataframe thead th {\n",
       "        text-align: right;\n",
       "    }\n",
       "</style>\n",
       "<table border=\"1\" class=\"dataframe\">\n",
       "  <thead>\n",
       "    <tr style=\"text-align: right;\">\n",
       "      <th></th>\n",
       "      <th>id</th>\n",
       "      <th>addr</th>\n",
       "      <th>lon</th>\n",
       "      <th>lat</th>\n",
       "      <th>縣市</th>\n",
       "      <th>行政區</th>\n",
       "      <th>村里</th>\n",
       "    </tr>\n",
       "  </thead>\n",
       "  <tbody>\n",
       "  </tbody>\n",
       "</table>\n",
       "</div>"
      ],
      "text/plain": [
       "Empty DataFrame\n",
       "Columns: [id, addr, lon, lat, 縣市, 行政區, 村里]\n",
       "Index: []"
      ]
     },
     "execution_count": 207,
     "metadata": {},
     "output_type": "execute_result"
    }
   ],
   "source": [
    "df_03_2[-df_03_2.id.isin(df_03_3.id)]"
   ]
  },
  {
   "cell_type": "markdown",
   "metadata": {},
   "source": [
    "## 合併 合與不合的資料\n",
    "## 獲得完整的第二次抓取 村里"
   ]
  },
  {
   "cell_type": "code",
   "execution_count": 208,
   "metadata": {},
   "outputs": [],
   "source": [
    "#df_03=df_03_1.copy()\n",
    "df_03=pd.concat([df_03_1,df_03_3]).reset_index(drop=True)"
   ]
  },
  {
   "cell_type": "markdown",
   "metadata": {},
   "source": [
    "## 合併 第一次抓取 有村里 與 無村里 資料，獲得SLQ有正確地址的資料"
   ]
  },
  {
   "cell_type": "code",
   "execution_count": 209,
   "metadata": {},
   "outputs": [
    {
     "data": {
      "text/plain": [
       "(22884, 7)"
      ]
     },
     "execution_count": 209,
     "metadata": {},
     "output_type": "execute_result"
    }
   ],
   "source": [
    "df_01=pd.concat([df_02,df_03]).reset_index(drop=True)\n",
    "df_01.shape"
   ]
  },
  {
   "cell_type": "code",
   "execution_count": null,
   "metadata": {},
   "outputs": [],
   "source": []
  },
  {
   "cell_type": "markdown",
   "metadata": {},
   "source": [
    "# 存檔"
   ]
  },
  {
   "cell_type": "code",
   "execution_count": 210,
   "metadata": {},
   "outputs": [],
   "source": [
    "df_01.to_csv('C:/Users/RT009223/TestriteGroup/滲透率專案/02_adjusted data/'+save_file+'會員位置(經整理_配對村里)_一般卡_'+save_year+'.txt',index=0)"
   ]
  },
  {
   "cell_type": "code",
   "execution_count": null,
   "metadata": {},
   "outputs": [],
   "source": []
  },
  {
   "cell_type": "code",
   "execution_count": null,
   "metadata": {},
   "outputs": [],
   "source": []
  },
  {
   "cell_type": "markdown",
   "metadata": {},
   "source": [
    "# SLQ無正確地址的資料"
   ]
  },
  {
   "cell_type": "code",
   "execution_count": 211,
   "metadata": {},
   "outputs": [
    {
     "data": {
      "text/plain": [
       "(2740, 3)"
      ]
     },
     "execution_count": 211,
     "metadata": {},
     "output_type": "execute_result"
    }
   ],
   "source": [
    "df_04=pd.read_excel(filename+'一般卡會員(無完整地址).xlsx')\n",
    "df_04.shape"
   ]
  },
  {
   "cell_type": "code",
   "execution_count": 212,
   "metadata": {},
   "outputs": [],
   "source": [
    "df_04['addr']=df_04.addr.apply(lambda x:str(x))"
   ]
  },
  {
   "cell_type": "markdown",
   "metadata": {},
   "source": [
    "# 區分有可用的地址 與 無可用的地址\n",
    "## 有可用的地址"
   ]
  },
  {
   "cell_type": "code",
   "execution_count": 213,
   "metadata": {},
   "outputs": [
    {
     "data": {
      "text/plain": [
       "(1355, 3)"
      ]
     },
     "execution_count": 213,
     "metadata": {},
     "output_type": "execute_result"
    }
   ],
   "source": [
    "df_04_1=df_04[df_04.addr.apply(lambda x:len(x)>9)].reset_index(drop=True)\n",
    "df_04_1.shape"
   ]
  },
  {
   "cell_type": "code",
   "execution_count": 214,
   "metadata": {},
   "outputs": [],
   "source": [
    "pattern = re.compile(r'..[市,縣].+[路,街].+')\n",
    "location=df_04_1.addr.apply(lambda x:pattern.findall((x)))\n",
    "\n",
    "addr01=[]\n",
    "for i in location:\n",
    "    if len(i)==1:\n",
    "        addr01.append(i[0])      \n",
    "    else:\n",
    "        addr01.append(np.nan)"
   ]
  },
  {
   "cell_type": "code",
   "execution_count": 215,
   "metadata": {},
   "outputs": [
    {
     "data": {
      "text/plain": [
       "(1108, 3)"
      ]
     },
     "execution_count": 215,
     "metadata": {},
     "output_type": "execute_result"
    }
   ],
   "source": [
    "df_04_1.addr=addr01\n",
    "df_04_1=df_04_1.dropna(subset=['addr']).reset_index(drop=True)\n",
    "df_04_1.shape"
   ]
  },
  {
   "cell_type": "code",
   "execution_count": 216,
   "metadata": {},
   "outputs": [
    {
     "data": {
      "text/html": [
       "<div>\n",
       "<style scoped>\n",
       "    .dataframe tbody tr th:only-of-type {\n",
       "        vertical-align: middle;\n",
       "    }\n",
       "\n",
       "    .dataframe tbody tr th {\n",
       "        vertical-align: top;\n",
       "    }\n",
       "\n",
       "    .dataframe thead th {\n",
       "        text-align: right;\n",
       "    }\n",
       "</style>\n",
       "<table border=\"1\" class=\"dataframe\">\n",
       "  <thead>\n",
       "    <tr style=\"text-align: right;\">\n",
       "      <th></th>\n",
       "      <th>id</th>\n",
       "      <th>addr</th>\n",
       "      <th>zone</th>\n",
       "      <th>lon</th>\n",
       "      <th>lat</th>\n",
       "      <th>check</th>\n",
       "    </tr>\n",
       "  </thead>\n",
       "  <tbody>\n",
       "    <tr>\n",
       "      <th>0</th>\n",
       "      <td>30014945802000</td>\n",
       "      <td>新北市鶯歌區三峽鎮復興路142號</td>\n",
       "      <td>239.0</td>\n",
       "      <td>0.0</td>\n",
       "      <td>0.0</td>\n",
       "      <td>0</td>\n",
       "    </tr>\n",
       "    <tr>\n",
       "      <th>1</th>\n",
       "      <td>20030318094413</td>\n",
       "      <td>新北市三峽區公壽路二段5</td>\n",
       "      <td>237.0</td>\n",
       "      <td>0.0</td>\n",
       "      <td>0.0</td>\n",
       "      <td>0</td>\n",
       "    </tr>\n",
       "    <tr>\n",
       "      <th>2</th>\n",
       "      <td>19990117000209</td>\n",
       "      <td>新北市板橋區板橋新海路72巷65號八樓</td>\n",
       "      <td>220.0</td>\n",
       "      <td>0.0</td>\n",
       "      <td>0.0</td>\n",
       "      <td>0</td>\n",
       "    </tr>\n",
       "    <tr>\n",
       "      <th>3</th>\n",
       "      <td>20180203000400</td>\n",
       "      <td>苗栗縣竹南鎮勝利路180巷2號</td>\n",
       "      <td>350.0</td>\n",
       "      <td>0.0</td>\n",
       "      <td>0.0</td>\n",
       "      <td>0</td>\n",
       "    </tr>\n",
       "    <tr>\n",
       "      <th>4</th>\n",
       "      <td>20071128000050</td>\n",
       "      <td>新北市土城區學勤路176號13樓</td>\n",
       "      <td>236.0</td>\n",
       "      <td>0.0</td>\n",
       "      <td>0.0</td>\n",
       "      <td>0</td>\n",
       "    </tr>\n",
       "  </tbody>\n",
       "</table>\n",
       "</div>"
      ],
      "text/plain": [
       "               id                 addr   zone  lon  lat  check\n",
       "0  30014945802000     新北市鶯歌區三峽鎮復興路142號  239.0  0.0  0.0      0\n",
       "1  20030318094413         新北市三峽區公壽路二段5  237.0  0.0  0.0      0\n",
       "2  19990117000209  新北市板橋區板橋新海路72巷65號八樓  220.0  0.0  0.0      0\n",
       "3  20180203000400      苗栗縣竹南鎮勝利路180巷2號  350.0  0.0  0.0      0\n",
       "4  20071128000050     新北市土城區學勤路176號13樓  236.0  0.0  0.0      0"
      ]
     },
     "execution_count": 216,
     "metadata": {},
     "output_type": "execute_result"
    }
   ],
   "source": [
    "df_04_1['lon']=float(0)\n",
    "df_04_1['lat']=float(0)\n",
    "df_04_1['check']=0\n",
    "df_04_1.head()"
   ]
  },
  {
   "cell_type": "markdown",
   "metadata": {},
   "source": [
    "## 與現有 搜尋過 經緯度的資料 比對"
   ]
  },
  {
   "cell_type": "code",
   "execution_count": 217,
   "metadata": {},
   "outputs": [
    {
     "name": "stdout",
     "output_type": "stream",
     "text": [
      "(133014, 6)\n"
     ]
    },
    {
     "data": {
      "text/html": [
       "<div>\n",
       "<style scoped>\n",
       "    .dataframe tbody tr th:only-of-type {\n",
       "        vertical-align: middle;\n",
       "    }\n",
       "\n",
       "    .dataframe tbody tr th {\n",
       "        vertical-align: top;\n",
       "    }\n",
       "\n",
       "    .dataframe thead th {\n",
       "        text-align: right;\n",
       "    }\n",
       "</style>\n",
       "<table border=\"1\" class=\"dataframe\">\n",
       "  <thead>\n",
       "    <tr style=\"text-align: right;\">\n",
       "      <th></th>\n",
       "      <th>id</th>\n",
       "      <th>addr</th>\n",
       "      <th>zone</th>\n",
       "      <th>lon</th>\n",
       "      <th>lat</th>\n",
       "      <th>check</th>\n",
       "    </tr>\n",
       "  </thead>\n",
       "  <tbody>\n",
       "    <tr>\n",
       "      <th>0</th>\n",
       "      <td>30012476701000</td>\n",
       "      <td>新北市貢寮區鳥崗街13號</td>\n",
       "      <td>228.0</td>\n",
       "      <td>122.00193</td>\n",
       "      <td>25.01326</td>\n",
       "      <td>1</td>\n",
       "    </tr>\n",
       "    <tr>\n",
       "      <th>1</th>\n",
       "      <td>20051030000358</td>\n",
       "      <td>新北市貢寮區福興村東興街４７號</td>\n",
       "      <td>228.0</td>\n",
       "      <td>121.99057</td>\n",
       "      <td>25.01205</td>\n",
       "      <td>1</td>\n",
       "    </tr>\n",
       "    <tr>\n",
       "      <th>2</th>\n",
       "      <td>20011022000749</td>\n",
       "      <td>新北市貢寮區春福連村臉香蘭街９號</td>\n",
       "      <td>228.0</td>\n",
       "      <td>121.98674</td>\n",
       "      <td>25.01985</td>\n",
       "      <td>1</td>\n",
       "    </tr>\n",
       "    <tr>\n",
       "      <th>3</th>\n",
       "      <td>20051219001868</td>\n",
       "      <td>新北市新店區東興街22號3樓DM退件</td>\n",
       "      <td>231.0</td>\n",
       "      <td>121.94981</td>\n",
       "      <td>25.01872</td>\n",
       "      <td>1</td>\n",
       "    </tr>\n",
       "    <tr>\n",
       "      <th>4</th>\n",
       "      <td>19980808000468</td>\n",
       "      <td>新北市貢寮區惠牴街25-2號</td>\n",
       "      <td>228.0</td>\n",
       "      <td>121.94576</td>\n",
       "      <td>25.01659</td>\n",
       "      <td>1</td>\n",
       "    </tr>\n",
       "  </tbody>\n",
       "</table>\n",
       "</div>"
      ],
      "text/plain": [
       "               id                addr   zone        lon       lat  check\n",
       "0  30012476701000        新北市貢寮區鳥崗街13號  228.0  122.00193  25.01326      1\n",
       "1  20051030000358     新北市貢寮區福興村東興街４７號  228.0  121.99057  25.01205      1\n",
       "2  20011022000749    新北市貢寮區春福連村臉香蘭街９號  228.0  121.98674  25.01985      1\n",
       "3  20051219001868  新北市新店區東興街22號3樓DM退件  231.0  121.94981  25.01872      1\n",
       "4  19980808000468      新北市貢寮區惠牴街25-2號  228.0  121.94576  25.01659      1"
      ]
     },
     "execution_count": 217,
     "metadata": {},
     "output_type": "execute_result"
    }
   ],
   "source": [
    "df_get_back=pd.read_excel(r'C:\\Users\\RT009223\\TestriteGroup\\滲透率專案\\02_adjusted data\\get back.xlsx')\n",
    "print(df_get_back.shape)\n",
    "df_get_back.head()"
   ]
  },
  {
   "cell_type": "code",
   "execution_count": 218,
   "metadata": {},
   "outputs": [],
   "source": [
    "df_get_back=df_get_back=df_get_back.loc[:,['id','lon','lat','check']]"
   ]
  },
  {
   "cell_type": "code",
   "execution_count": 219,
   "metadata": {},
   "outputs": [],
   "source": [
    "df_04_1=pd.merge(df_04_1.loc[:,['id','addr','zone']],df_get_back,on='id',how='left')"
   ]
  },
  {
   "cell_type": "code",
   "execution_count": 220,
   "metadata": {},
   "outputs": [],
   "source": [
    "df_04_1.lon[df_04_1.lon.isna()]=0\n",
    "df_04_1.lat[df_04_1.lat.isna()]=0\n",
    "df_04_1.check[df_04_1.check.isna()]=0"
   ]
  },
  {
   "cell_type": "code",
   "execution_count": 221,
   "metadata": {},
   "outputs": [
    {
     "data": {
      "text/html": [
       "<div>\n",
       "<style scoped>\n",
       "    .dataframe tbody tr th:only-of-type {\n",
       "        vertical-align: middle;\n",
       "    }\n",
       "\n",
       "    .dataframe tbody tr th {\n",
       "        vertical-align: top;\n",
       "    }\n",
       "\n",
       "    .dataframe thead th {\n",
       "        text-align: right;\n",
       "    }\n",
       "</style>\n",
       "<table border=\"1\" class=\"dataframe\">\n",
       "  <thead>\n",
       "    <tr style=\"text-align: right;\">\n",
       "      <th></th>\n",
       "      <th>id</th>\n",
       "      <th>addr</th>\n",
       "      <th>zone</th>\n",
       "      <th>lon</th>\n",
       "      <th>lat</th>\n",
       "      <th>check</th>\n",
       "    </tr>\n",
       "  </thead>\n",
       "  <tbody>\n",
       "    <tr>\n",
       "      <th>0</th>\n",
       "      <td>30014945802000</td>\n",
       "      <td>新北市鶯歌區三峽鎮復興路142號</td>\n",
       "      <td>239.0</td>\n",
       "      <td>121.37175</td>\n",
       "      <td>24.93830</td>\n",
       "      <td>1.0</td>\n",
       "    </tr>\n",
       "    <tr>\n",
       "      <th>1</th>\n",
       "      <td>20030318094413</td>\n",
       "      <td>新北市三峽區公壽路二段5</td>\n",
       "      <td>237.0</td>\n",
       "      <td>0.00000</td>\n",
       "      <td>0.00000</td>\n",
       "      <td>0.0</td>\n",
       "    </tr>\n",
       "    <tr>\n",
       "      <th>2</th>\n",
       "      <td>19990117000209</td>\n",
       "      <td>新北市板橋區板橋新海路72巷65號八樓</td>\n",
       "      <td>220.0</td>\n",
       "      <td>121.46136</td>\n",
       "      <td>25.02356</td>\n",
       "      <td>1.0</td>\n",
       "    </tr>\n",
       "    <tr>\n",
       "      <th>3</th>\n",
       "      <td>20180203000400</td>\n",
       "      <td>苗栗縣竹南鎮勝利路180巷2號</td>\n",
       "      <td>350.0</td>\n",
       "      <td>0.00000</td>\n",
       "      <td>0.00000</td>\n",
       "      <td>0.0</td>\n",
       "    </tr>\n",
       "    <tr>\n",
       "      <th>4</th>\n",
       "      <td>20071128000050</td>\n",
       "      <td>新北市土城區學勤路176號13樓</td>\n",
       "      <td>236.0</td>\n",
       "      <td>0.00000</td>\n",
       "      <td>0.00000</td>\n",
       "      <td>0.0</td>\n",
       "    </tr>\n",
       "  </tbody>\n",
       "</table>\n",
       "</div>"
      ],
      "text/plain": [
       "               id                 addr   zone        lon       lat  check\n",
       "0  30014945802000     新北市鶯歌區三峽鎮復興路142號  239.0  121.37175  24.93830    1.0\n",
       "1  20030318094413         新北市三峽區公壽路二段5  237.0    0.00000   0.00000    0.0\n",
       "2  19990117000209  新北市板橋區板橋新海路72巷65號八樓  220.0  121.46136  25.02356    1.0\n",
       "3  20180203000400      苗栗縣竹南鎮勝利路180巷2號  350.0    0.00000   0.00000    0.0\n",
       "4  20071128000050     新北市土城區學勤路176號13樓  236.0    0.00000   0.00000    0.0"
      ]
     },
     "execution_count": 221,
     "metadata": {},
     "output_type": "execute_result"
    }
   ],
   "source": [
    "df_04_1.head()"
   ]
  },
  {
   "cell_type": "markdown",
   "metadata": {},
   "source": [
    "## 與郵遞區號配對"
   ]
  },
  {
   "cell_type": "code",
   "execution_count": 222,
   "metadata": {},
   "outputs": [],
   "source": [
    "df_zone=pd.read_excel(r'C:\\Users\\RT009223\\TestriteGroup\\滲透率專案\\02_adjusted data\\郵遞區代碼.xlsx')"
   ]
  },
  {
   "cell_type": "code",
   "execution_count": 223,
   "metadata": {},
   "outputs": [],
   "source": [
    "df_04_1=pd.merge(df_04_1,df_zone,on='zone',how='left')"
   ]
  },
  {
   "cell_type": "code",
   "execution_count": 224,
   "metadata": {},
   "outputs": [
    {
     "data": {
      "text/plain": [
       "(1108, 9)"
      ]
     },
     "execution_count": 224,
     "metadata": {},
     "output_type": "execute_result"
    }
   ],
   "source": [
    "geom=[Point(data.lon,data.lat) for idx, data in df_04_1.iterrows()]\n",
    "crs = {'init': 'epsg:4326'}\n",
    "df_04_1 = gpd.GeoDataFrame(df_04_1, crs=crs, geometry=geom)\n",
    "df_04_1.shape"
   ]
  },
  {
   "cell_type": "code",
   "execution_count": 225,
   "metadata": {},
   "outputs": [
    {
     "data": {
      "text/plain": [
       "(1108, 13)"
      ]
     },
     "execution_count": 225,
     "metadata": {},
     "output_type": "execute_result"
    }
   ],
   "source": [
    "df_04_1= gpd.tools.sjoin(df_04_1,gdf, how=\"left\", op='intersects')\n",
    "df_04_1.shape"
   ]
  },
  {
   "cell_type": "code",
   "execution_count": 226,
   "metadata": {},
   "outputs": [
    {
     "data": {
      "text/html": [
       "<div>\n",
       "<style scoped>\n",
       "    .dataframe tbody tr th:only-of-type {\n",
       "        vertical-align: middle;\n",
       "    }\n",
       "\n",
       "    .dataframe tbody tr th {\n",
       "        vertical-align: top;\n",
       "    }\n",
       "\n",
       "    .dataframe thead th {\n",
       "        text-align: right;\n",
       "    }\n",
       "</style>\n",
       "<table border=\"1\" class=\"dataframe\">\n",
       "  <thead>\n",
       "    <tr style=\"text-align: right;\">\n",
       "      <th></th>\n",
       "      <th>id</th>\n",
       "      <th>addr</th>\n",
       "      <th>zone</th>\n",
       "      <th>lon</th>\n",
       "      <th>lat</th>\n",
       "      <th>check</th>\n",
       "      <th>縣市_left</th>\n",
       "      <th>行政區_left</th>\n",
       "      <th>geometry</th>\n",
       "      <th>index_right</th>\n",
       "      <th>縣市_right</th>\n",
       "      <th>行政區_right</th>\n",
       "      <th>村里</th>\n",
       "    </tr>\n",
       "  </thead>\n",
       "  <tbody>\n",
       "    <tr>\n",
       "      <th>0</th>\n",
       "      <td>30014945802000</td>\n",
       "      <td>新北市鶯歌區三峽鎮復興路142號</td>\n",
       "      <td>239.0</td>\n",
       "      <td>121.37175</td>\n",
       "      <td>24.93830</td>\n",
       "      <td>1.0</td>\n",
       "      <td>新北市</td>\n",
       "      <td>鶯歌區</td>\n",
       "      <td>POINT (121.37175 24.93830)</td>\n",
       "      <td>6191.0</td>\n",
       "      <td>新北市</td>\n",
       "      <td>三峽區</td>\n",
       "      <td>永館里</td>\n",
       "    </tr>\n",
       "    <tr>\n",
       "      <th>1</th>\n",
       "      <td>20030318094413</td>\n",
       "      <td>新北市三峽區公壽路二段5</td>\n",
       "      <td>237.0</td>\n",
       "      <td>0.00000</td>\n",
       "      <td>0.00000</td>\n",
       "      <td>0.0</td>\n",
       "      <td>新北市</td>\n",
       "      <td>三峽區</td>\n",
       "      <td>POINT (0.00000 0.00000)</td>\n",
       "      <td>NaN</td>\n",
       "      <td>NaN</td>\n",
       "      <td>NaN</td>\n",
       "      <td>NaN</td>\n",
       "    </tr>\n",
       "    <tr>\n",
       "      <th>2</th>\n",
       "      <td>19990117000209</td>\n",
       "      <td>新北市板橋區板橋新海路72巷65號八樓</td>\n",
       "      <td>220.0</td>\n",
       "      <td>121.46136</td>\n",
       "      <td>25.02356</td>\n",
       "      <td>1.0</td>\n",
       "      <td>新北市</td>\n",
       "      <td>板橋區</td>\n",
       "      <td>POINT (121.46136 25.02356)</td>\n",
       "      <td>6664.0</td>\n",
       "      <td>新北市</td>\n",
       "      <td>板橋區</td>\n",
       "      <td>文德里</td>\n",
       "    </tr>\n",
       "    <tr>\n",
       "      <th>3</th>\n",
       "      <td>20180203000400</td>\n",
       "      <td>苗栗縣竹南鎮勝利路180巷2號</td>\n",
       "      <td>350.0</td>\n",
       "      <td>0.00000</td>\n",
       "      <td>0.00000</td>\n",
       "      <td>0.0</td>\n",
       "      <td>苗栗縣</td>\n",
       "      <td>竹南鎮</td>\n",
       "      <td>POINT (0.00000 0.00000)</td>\n",
       "      <td>NaN</td>\n",
       "      <td>NaN</td>\n",
       "      <td>NaN</td>\n",
       "      <td>NaN</td>\n",
       "    </tr>\n",
       "    <tr>\n",
       "      <th>4</th>\n",
       "      <td>20071128000050</td>\n",
       "      <td>新北市土城區學勤路176號13樓</td>\n",
       "      <td>236.0</td>\n",
       "      <td>0.00000</td>\n",
       "      <td>0.00000</td>\n",
       "      <td>0.0</td>\n",
       "      <td>新北市</td>\n",
       "      <td>土城區</td>\n",
       "      <td>POINT (0.00000 0.00000)</td>\n",
       "      <td>NaN</td>\n",
       "      <td>NaN</td>\n",
       "      <td>NaN</td>\n",
       "      <td>NaN</td>\n",
       "    </tr>\n",
       "  </tbody>\n",
       "</table>\n",
       "</div>"
      ],
      "text/plain": [
       "               id                 addr   zone        lon       lat  check  \\\n",
       "0  30014945802000     新北市鶯歌區三峽鎮復興路142號  239.0  121.37175  24.93830    1.0   \n",
       "1  20030318094413         新北市三峽區公壽路二段5  237.0    0.00000   0.00000    0.0   \n",
       "2  19990117000209  新北市板橋區板橋新海路72巷65號八樓  220.0  121.46136  25.02356    1.0   \n",
       "3  20180203000400      苗栗縣竹南鎮勝利路180巷2號  350.0    0.00000   0.00000    0.0   \n",
       "4  20071128000050     新北市土城區學勤路176號13樓  236.0    0.00000   0.00000    0.0   \n",
       "\n",
       "  縣市_left 行政區_left                    geometry  index_right 縣市_right  \\\n",
       "0     新北市      鶯歌區  POINT (121.37175 24.93830)       6191.0      新北市   \n",
       "1     新北市      三峽區     POINT (0.00000 0.00000)          NaN      NaN   \n",
       "2     新北市      板橋區  POINT (121.46136 25.02356)       6664.0      新北市   \n",
       "3     苗栗縣      竹南鎮     POINT (0.00000 0.00000)          NaN      NaN   \n",
       "4     新北市      土城區     POINT (0.00000 0.00000)          NaN      NaN   \n",
       "\n",
       "  行政區_right   村里  \n",
       "0       三峽區  永館里  \n",
       "1       NaN  NaN  \n",
       "2       板橋區  文德里  \n",
       "3       NaN  NaN  \n",
       "4       NaN  NaN  "
      ]
     },
     "execution_count": 226,
     "metadata": {},
     "output_type": "execute_result"
    }
   ],
   "source": [
    "df_04_1.head()"
   ]
  },
  {
   "cell_type": "code",
   "execution_count": 227,
   "metadata": {},
   "outputs": [
    {
     "name": "stdout",
     "output_type": "stream",
     "text": [
      "(6, 13)\n",
      "(678, 13)\n",
      "(13, 13)\n",
      "(411, 13)\n"
     ]
    }
   ],
   "source": [
    "# 無 map 無 zone\n",
    "df_04_1_1=df_04_1[(df_04_1['行政區_left'].isna()&df_04_1['村里'].isna())]\n",
    "print(df_04_1_1.shape)\n",
    "\n",
    "# 無 map 有 zone\n",
    "df_04_1_2=df_04_1[(-(df_04_1['行政區_left'].isna())&(df_04_1['村里'].isna()))]\n",
    "print(df_04_1_2.shape)\n",
    "\n",
    "# 有 map 無有 zone\n",
    "df_04_1_3=df_04_1[(df_04_1['行政區_left'].isna()&(-df_04_1['村里'].isna()))]\n",
    "print(df_04_1_3.shape)\n",
    "\n",
    "# 有 map 有 zone\n",
    "df_04_1_4=df_04_1[(-(df_04_1['行政區_left'].isna())&(-df_04_1['村里'].isna()))]\n",
    "print(df_04_1_4.shape)"
   ]
  },
  {
   "cell_type": "markdown",
   "metadata": {},
   "source": [
    "###  有 map 有 zone 合不合"
   ]
  },
  {
   "cell_type": "code",
   "execution_count": 228,
   "metadata": {},
   "outputs": [
    {
     "name": "stdout",
     "output_type": "stream",
     "text": [
      "(350, 13)\n",
      "(61, 13)\n"
     ]
    }
   ],
   "source": [
    "df_04_1_4_1=df_04_1_4[(df_04_1_4['行政區_left']==df_04_1_4['行政區_right'])]\n",
    "print(df_04_1_4_1.shape)\n",
    "\n",
    "df_04_1_4_2=df_04_1_4[-(df_04_1_4['行政區_left']==df_04_1_4['行政區_right'])]\n",
    "print(df_04_1_4_2.shape)"
   ]
  },
  {
   "cell_type": "markdown",
   "metadata": {},
   "source": [
    "### 調整各組資料"
   ]
  },
  {
   "cell_type": "code",
   "execution_count": 229,
   "metadata": {},
   "outputs": [],
   "source": [
    "df_04_1_1=df_04_1_1.loc[:,['id']]\n",
    "\n",
    "df_04_1_2=df_04_1_2.loc[:,['id','縣市_left','行政區_left']]\n",
    "df_04_1_2.columns=['id','縣市','行政區']\n",
    "\n",
    "df_04_1_3=df_04_1_3.loc[:,['id','縣市_right','行政區_right','村里']]\n",
    "df_04_1_3.columns=['id','縣市','行政區','村里']\n",
    "\n",
    "df_04_1_4_1=df_04_1_4_1.loc[:,['id','縣市_right','行政區_right','村里']]\n",
    "df_04_1_4_1.columns=['id','縣市','行政區','村里']\n",
    "\n",
    "df_04_1_4_2=df_04_1_4_2.loc[:,['id','縣市_left','行政區_left']]\n",
    "df_04_1_4_2.columns=['id','縣市','行政區']"
   ]
  },
  {
   "cell_type": "code",
   "execution_count": 230,
   "metadata": {},
   "outputs": [
    {
     "data": {
      "text/plain": [
       "(1108, 4)"
      ]
     },
     "execution_count": 230,
     "metadata": {},
     "output_type": "execute_result"
    }
   ],
   "source": [
    "df_04_2=pd.concat([df_04_1_4_1,df_04_1_3,df_04_1_4_2,df_04_1_2,df_04_1_1])\n",
    "df_04_2.shape"
   ]
  },
  {
   "cell_type": "code",
   "execution_count": 231,
   "metadata": {},
   "outputs": [
    {
     "data": {
      "text/plain": [
       "(1108, 4)"
      ]
     },
     "execution_count": 231,
     "metadata": {},
     "output_type": "execute_result"
    }
   ],
   "source": [
    "df_04_2.drop_duplicates(subset=['id']).shape"
   ]
  },
  {
   "cell_type": "code",
   "execution_count": null,
   "metadata": {},
   "outputs": [],
   "source": []
  },
  {
   "cell_type": "markdown",
   "metadata": {},
   "source": [
    "## 無可用地址"
   ]
  },
  {
   "cell_type": "code",
   "execution_count": 232,
   "metadata": {},
   "outputs": [
    {
     "data": {
      "text/plain": [
       "(1632, 3)"
      ]
     },
     "execution_count": 232,
     "metadata": {},
     "output_type": "execute_result"
    }
   ],
   "source": [
    "df_04_3=df_04[-df_04.id.isin(df_04_2.id)]\n",
    "df_04_3.shape"
   ]
  },
  {
   "cell_type": "code",
   "execution_count": 233,
   "metadata": {},
   "outputs": [],
   "source": [
    "df_04_3=pd.merge(df_04_3,df_zone,on='zone',how='left')"
   ]
  },
  {
   "cell_type": "code",
   "execution_count": 234,
   "metadata": {},
   "outputs": [
    {
     "name": "stdout",
     "output_type": "stream",
     "text": [
      "(475, 5)\n",
      "(1157, 5)\n"
     ]
    }
   ],
   "source": [
    "df_04_3_1=df_04_3[-df_04_3['行政區'].isna()]\n",
    "print(df_04_3_1.shape)\n",
    "\n",
    "df_04_3_2=df_04_3[df_04_3['行政區'].isna()]\n",
    "print(df_04_3_2.shape)"
   ]
  },
  {
   "cell_type": "code",
   "execution_count": 235,
   "metadata": {},
   "outputs": [],
   "source": [
    "df_04_3_1=df_04_3_1.loc[:,['id','縣市','行政區']]\n",
    "df_04_3_2=df_04_3_2.loc[:,['id']]"
   ]
  },
  {
   "cell_type": "markdown",
   "metadata": {},
   "source": [
    "# 完整 SLQ無正確地址的資料"
   ]
  },
  {
   "cell_type": "code",
   "execution_count": 236,
   "metadata": {},
   "outputs": [
    {
     "name": "stdout",
     "output_type": "stream",
     "text": [
      "(2740, 4)\n",
      "(2740, 4)\n"
     ]
    }
   ],
   "source": [
    "df_04=pd.concat([df_04_2,df_04_3_1,df_04_3_2])\n",
    "print(df_04.shape)\n",
    "print(df_04.drop_duplicates(subset=['id']).shape)"
   ]
  },
  {
   "cell_type": "markdown",
   "metadata": {},
   "source": [
    "# 存檔"
   ]
  },
  {
   "cell_type": "code",
   "execution_count": 237,
   "metadata": {},
   "outputs": [],
   "source": [
    "df_04.to_csv('C:/Users/RT009223/TestriteGroup/滲透率專案/02_adjusted data/'+save_file+'會員位置(無正確地址的資料)_一般卡_'+save_year+'.txt',index=0)"
   ]
  },
  {
   "cell_type": "code",
   "execution_count": null,
   "metadata": {},
   "outputs": [],
   "source": []
  }
 ],
 "metadata": {
  "kernelspec": {
   "display_name": "Python 3",
   "language": "python",
   "name": "python3"
  },
  "language_info": {
   "codemirror_mode": {
    "name": "ipython",
    "version": 3
   },
   "file_extension": ".py",
   "mimetype": "text/x-python",
   "name": "python",
   "nbconvert_exporter": "python",
   "pygments_lexer": "ipython3",
   "version": "3.7.6"
  }
 },
 "nbformat": 4,
 "nbformat_minor": 4
}

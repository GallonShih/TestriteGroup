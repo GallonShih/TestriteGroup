{
 "cells": [
  {
   "cell_type": "code",
   "execution_count": 1,
   "metadata": {},
   "outputs": [],
   "source": [
    "%matplotlib inline\n",
    "import numpy as np\n",
    "import pandas as pd\n",
    "import matplotlib.pyplot as plt"
   ]
  },
  {
   "cell_type": "code",
   "execution_count": 2,
   "metadata": {},
   "outputs": [],
   "source": [
    "import re\n",
    "\n",
    "import geopandas as gpd\n",
    "import requests,json\n",
    "\n",
    "\n",
    "from shapely import geos\n",
    "from shapely.geometry import Point\n",
    "import fiona\n",
    "from fiona.crs import from_epsg,from_string\n",
    "\n",
    "from geopandas import GeoDataFrame\n",
    "from shapely.geometry import Polygon\n",
    "from geopandas import GeoSeries\n",
    "\n",
    "\n",
    "from shapely import geometry\n",
    "from shapely.geometry import shape,LineString,Point,Polygon\n",
    "\n",
    "import osmnx as ox\n",
    "import networkx as nx\n",
    "\n",
    "import folium\n",
    "\n",
    "from folium import IFrame"
   ]
  },
  {
   "cell_type": "code",
   "execution_count": 3,
   "metadata": {},
   "outputs": [],
   "source": [
    "def rest(address):\n",
    "    try:\n",
    "        url = 'https://api.tomtom.com/search/2/geocode/{}.json?&key=h2n93GznJsnsDHtv2vPpdT9GmJijp9o9&countrySet=TWN&language=zh-TW&limit=1'.format(address)\n",
    "        response = requests.get(url)\n",
    "        data = response.text\n",
    "        js = json.loads(str(data))\n",
    "        return js['results'][0]['position']\n",
    "    except Exception as e:\n",
    "        print(f'An Error occurred: {e}')\n",
    "        return {'lat':0,'lon':0}\n",
    "    \n",
    "def trans(gdf):\n",
    "    gdf.crs = {'init' :'epsg:3824'} # 避免資料沒設，這邊再重新給一次\n",
    "    gdf=gdf.to_crs({'init' :'epsg:4326'})\n",
    "    return gdf\n",
    "\n",
    "def utf2asc(s):\n",
    "    return str(str(s).encode('ascii', 'xmlcharrefreplace'))[2:-1]\n",
    "\n",
    "heading3 = \"\"\"<h3>{}</h3>\"\"\".format"
   ]
  },
  {
   "cell_type": "code",
   "execution_count": 4,
   "metadata": {},
   "outputs": [],
   "source": [
    "import warnings\n",
    "warnings.filterwarnings(\"ignore\")"
   ]
  },
  {
   "cell_type": "markdown",
   "metadata": {},
   "source": [
    "# 設定row data的資料夾"
   ]
  },
  {
   "cell_type": "code",
   "execution_count": 6,
   "metadata": {},
   "outputs": [],
   "source": [
    "import os\n",
    "os.chdir(r'C:\\Users\\RT009223\\TestriteGroup\\滲透率專案\\01_raw data')"
   ]
  },
  {
   "cell_type": "code",
   "execution_count": 7,
   "metadata": {},
   "outputs": [],
   "source": [
    "filename='1C2020H1'\n",
    "save_file='1C'\n",
    "save_year='2020H1'"
   ]
  },
  {
   "cell_type": "markdown",
   "metadata": {},
   "source": [
    "# SQL有正確地址的資料"
   ]
  },
  {
   "cell_type": "code",
   "execution_count": 8,
   "metadata": {},
   "outputs": [
    {
     "data": {
      "text/plain": [
       "(17538, 4)"
      ]
     },
     "execution_count": 8,
     "metadata": {},
     "output_type": "execute_result"
    }
   ],
   "source": [
    "df_01=pd.read_csv(filename+\"一般卡會員(有完整地址).csv\",error_bad_lines=False,header=None)\n",
    "df_01.columns=['id','addr','lon','lat']\n",
    "df_01.shape"
   ]
  },
  {
   "cell_type": "markdown",
   "metadata": {},
   "source": [
    "## 第一次抓取 村里"
   ]
  },
  {
   "cell_type": "code",
   "execution_count": 9,
   "metadata": {},
   "outputs": [],
   "source": [
    "pattern = re.compile(r'(..[市,縣])(.{1,2}[市,區,鄉,鎮])(.{2,3}[里,村])')\n",
    "location=df_01.addr.apply(lambda x:pattern.findall(x))\n",
    "\n",
    "addr01=[]\n",
    "addr02=[]\n",
    "addr03=[]\n",
    "for i in location:\n",
    "    if len(i)==1:\n",
    "        addr01.append(i[0][0])\n",
    "        addr02.append(i[0][1])\n",
    "        addr03.append(i[0][2])        \n",
    "    else:\n",
    "        addr01.append(np.nan)\n",
    "        addr02.append(np.nan)\n",
    "        addr03.append(np.nan)  "
   ]
  },
  {
   "cell_type": "code",
   "execution_count": 10,
   "metadata": {},
   "outputs": [],
   "source": [
    "df_01['縣市']=addr01\n",
    "df_01['行政區']=addr02\n",
    "df_01['村里']=addr03"
   ]
  },
  {
   "cell_type": "markdown",
   "metadata": {},
   "source": [
    "### 第一次 有村里 資料"
   ]
  },
  {
   "cell_type": "code",
   "execution_count": 11,
   "metadata": {},
   "outputs": [
    {
     "data": {
      "text/plain": [
       "(17535, 7)"
      ]
     },
     "execution_count": 11,
     "metadata": {},
     "output_type": "execute_result"
    }
   ],
   "source": [
    "df_02=df_01.dropna()\n",
    "df_02.shape"
   ]
  },
  {
   "cell_type": "code",
   "execution_count": null,
   "metadata": {},
   "outputs": [],
   "source": []
  },
  {
   "cell_type": "markdown",
   "metadata": {},
   "source": [
    "### 村里邊界資料"
   ]
  },
  {
   "cell_type": "code",
   "execution_count": 12,
   "metadata": {},
   "outputs": [
    {
     "name": "stdout",
     "output_type": "stream",
     "text": [
      "(7760, 4)\n"
     ]
    },
    {
     "data": {
      "text/html": [
       "<div>\n",
       "<style scoped>\n",
       "    .dataframe tbody tr th:only-of-type {\n",
       "        vertical-align: middle;\n",
       "    }\n",
       "\n",
       "    .dataframe tbody tr th {\n",
       "        vertical-align: top;\n",
       "    }\n",
       "\n",
       "    .dataframe thead th {\n",
       "        text-align: right;\n",
       "    }\n",
       "</style>\n",
       "<table border=\"1\" class=\"dataframe\">\n",
       "  <thead>\n",
       "    <tr style=\"text-align: right;\">\n",
       "      <th></th>\n",
       "      <th>縣市</th>\n",
       "      <th>行政區</th>\n",
       "      <th>村里</th>\n",
       "      <th>geometry</th>\n",
       "    </tr>\n",
       "  </thead>\n",
       "  <tbody>\n",
       "    <tr>\n",
       "      <th>0</th>\n",
       "      <td>高雄市</td>\n",
       "      <td>林園區</td>\n",
       "      <td>中門里</td>\n",
       "      <td>POLYGON ((120.36772 22.49564, 120.36427 22.498...</td>\n",
       "    </tr>\n",
       "    <tr>\n",
       "      <th>1</th>\n",
       "      <td>高雄市</td>\n",
       "      <td>林園區</td>\n",
       "      <td>港埔里</td>\n",
       "      <td>POLYGON ((120.37325 22.49123, 120.37147 22.492...</td>\n",
       "    </tr>\n",
       "    <tr>\n",
       "      <th>2</th>\n",
       "      <td>高雄市</td>\n",
       "      <td>旗津區</td>\n",
       "      <td>上竹里</td>\n",
       "      <td>POLYGON ((120.28976 22.57317, 120.28577 22.577...</td>\n",
       "    </tr>\n",
       "    <tr>\n",
       "      <th>3</th>\n",
       "      <td>高雄市</td>\n",
       "      <td>旗津區</td>\n",
       "      <td>中興里</td>\n",
       "      <td>POLYGON ((120.30320 22.55568, 120.30284 22.557...</td>\n",
       "    </tr>\n",
       "    <tr>\n",
       "      <th>4</th>\n",
       "      <td>連江縣</td>\n",
       "      <td>南竿鄉</td>\n",
       "      <td>津沙村</td>\n",
       "      <td>POLYGON ((119.91684 26.14109, 119.91683 26.141...</td>\n",
       "    </tr>\n",
       "  </tbody>\n",
       "</table>\n",
       "</div>"
      ],
      "text/plain": [
       "    縣市  行政區   村里                                           geometry\n",
       "0  高雄市  林園區  中門里  POLYGON ((120.36772 22.49564, 120.36427 22.498...\n",
       "1  高雄市  林園區  港埔里  POLYGON ((120.37325 22.49123, 120.37147 22.492...\n",
       "2  高雄市  旗津區  上竹里  POLYGON ((120.28976 22.57317, 120.28577 22.577...\n",
       "3  高雄市  旗津區  中興里  POLYGON ((120.30320 22.55568, 120.30284 22.557...\n",
       "4  連江縣  南竿鄉  津沙村  POLYGON ((119.91684 26.14109, 119.91683 26.141..."
      ]
     },
     "execution_count": 12,
     "metadata": {},
     "output_type": "execute_result"
    }
   ],
   "source": [
    "gdf=gpd.read_file(r'C:\\Users\\RT009223\\TestriteGroup\\滲透率專案\\02_adjusted data\\geo data\\VILLAGE_MOI_1090423.shp',encoding='utf-8')\n",
    "gdf=gdf.loc[:,['COUNTYNAME','TOWNNAME','VILLNAME','geometry']]\n",
    "gdf=trans(gdf)\n",
    "gdf=gdf.dropna().reset_index(drop=True)\n",
    "print(gdf.shape)\n",
    "\n",
    "gdf.columns=['縣市','行政區','村里','geometry']\n",
    "gdf['縣市']=list(gdf['縣市'].apply(lambda x:x.replace('臺','台')))\n",
    "gdf['行政區']=list(gdf['行政區'].apply(lambda x:x.replace('臺','台')))\n",
    "gdf['村里']=list(gdf['村里'].apply(lambda x:x.replace('臺','台')))\n",
    "\n",
    "df_02['縣市']=list(df_02['縣市'].apply(lambda x:x.replace('臺','台')))\n",
    "df_02['行政區']=list(df_02['行政區'].apply(lambda x:x.replace('臺','台')))\n",
    "df_02['村里']=list(df_02['村里'].apply(lambda x:x.replace('臺','台')))\n",
    "\n",
    "gdf['村里']=gdf['村里'].apply(lambda x:x.replace('舘','館'))\n",
    "df_02['村里']=df_02['村里'].apply(lambda x:x.replace('舘','館'))\n",
    "gdf['村里']=gdf['村里'].apply(lambda x:x.replace('双','雙'))\n",
    "df_02['村里']=df_02['村里'].apply(lambda x:x.replace('双','雙'))\n",
    "gdf['村里']=gdf['村里'].apply(lambda x:x.replace('石[曹]里','石𥕢里'))\n",
    "gdf['村里']=gdf['村里'].apply(lambda x:x.replace('鷄林里','雞林里'))\n",
    "gdf['村里']=gdf['村里'].apply(lambda x:x.replace('水磜村','水祭村'))\n",
    "gdf['村里']=gdf['村里'].apply(lambda x:x.replace('珊湖里','珊瑚里'))\n",
    "\n",
    "gdf['村里']=gdf['村里'].apply(lambda x:x.replace('欍','瓊'))\n",
    "df_02['村里']=df_02['村里'].apply(lambda x:x.replace('溝垻里','溝埧里'))\n",
    "df_02['村里']=df_02['村里'].apply(lambda x:x.replace('崙峰里','崙峯里'))\n",
    "gdf.head()"
   ]
  },
  {
   "cell_type": "markdown",
   "metadata": {},
   "source": [
    "### 檢查1"
   ]
  },
  {
   "cell_type": "code",
   "execution_count": 16,
   "metadata": {},
   "outputs": [
    {
     "data": {
      "text/html": [
       "<div>\n",
       "<style scoped>\n",
       "    .dataframe tbody tr th:only-of-type {\n",
       "        vertical-align: middle;\n",
       "    }\n",
       "\n",
       "    .dataframe tbody tr th {\n",
       "        vertical-align: top;\n",
       "    }\n",
       "\n",
       "    .dataframe thead th {\n",
       "        text-align: right;\n",
       "    }\n",
       "</style>\n",
       "<table border=\"1\" class=\"dataframe\">\n",
       "  <thead>\n",
       "    <tr style=\"text-align: right;\">\n",
       "      <th></th>\n",
       "      <th>村里</th>\n",
       "      <th>n</th>\n",
       "    </tr>\n",
       "  </thead>\n",
       "  <tbody>\n",
       "    <tr>\n",
       "      <th>0</th>\n",
       "      <td>?北村</td>\n",
       "      <td>1</td>\n",
       "    </tr>\n",
       "    <tr>\n",
       "      <th>1</th>\n",
       "      <td>?南村</td>\n",
       "      <td>1</td>\n",
       "    </tr>\n",
       "    <tr>\n",
       "      <th>2</th>\n",
       "      <td>上里</td>\n",
       "      <td>1</td>\n",
       "    </tr>\n",
       "    <tr>\n",
       "      <th>3</th>\n",
       "      <td>那拔里</td>\n",
       "      <td>1</td>\n",
       "    </tr>\n",
       "  </tbody>\n",
       "</table>\n",
       "</div>"
      ],
      "text/plain": [
       "    村里  n\n",
       "0  ?北村  1\n",
       "1  ?南村  1\n",
       "2  上里  1\n",
       "3  那拔里  1"
      ]
     },
     "execution_count": 16,
     "metadata": {},
     "output_type": "execute_result"
    }
   ],
   "source": [
    "site1=df_02[-(df_02['縣市']+df_02['行政區']+df_02['村里']).isin(gdf['縣市']+gdf['行政區']+gdf['村里'])].groupby(['村里'])['行政區'].nunique().reset_index(name='n').sort_values(by='n',ascending=False).reset_index(drop=True)\n",
    "site1.head(10)"
   ]
  },
  {
   "cell_type": "code",
   "execution_count": 78,
   "metadata": {},
   "outputs": [
    {
     "name": "stdout",
     "output_type": "stream",
     "text": [
      "0 ??村 ['中埔鄉']\n"
     ]
    }
   ],
   "source": [
    "number=0\n",
    "for i in site1[site1.n>0]['村里']:\n",
    "    print(number,i, df_02[df_02['村里']==i]['行政區'].unique())\n",
    "    number+=1"
   ]
  },
  {
   "cell_type": "code",
   "execution_count": 16,
   "metadata": {},
   "outputs": [
    {
     "ename": "KeyError",
     "evalue": "49",
     "output_type": "error",
     "traceback": [
      "\u001b[1;31m---------------------------------------------------------------------------\u001b[0m",
      "\u001b[1;31mKeyError\u001b[0m                                  Traceback (most recent call last)",
      "\u001b[1;32m<ipython-input-16-d88aa024b6a6>\u001b[0m in \u001b[0;36m<module>\u001b[1;34m\u001b[0m\n\u001b[1;32m----> 1\u001b[1;33m \u001b[0msite2\u001b[0m\u001b[1;33m=\u001b[0m\u001b[0msite1\u001b[0m\u001b[1;33m[\u001b[0m\u001b[0msite1\u001b[0m\u001b[1;33m.\u001b[0m\u001b[0mn\u001b[0m\u001b[1;33m>\u001b[0m\u001b[1;36m0\u001b[0m\u001b[1;33m]\u001b[0m\u001b[1;33m[\u001b[0m\u001b[1;34m'村里'\u001b[0m\u001b[1;33m]\u001b[0m\u001b[1;33m[\u001b[0m\u001b[1;36m49\u001b[0m\u001b[1;33m]\u001b[0m\u001b[1;33m\u001b[0m\u001b[1;33m\u001b[0m\u001b[0m\n\u001b[0m\u001b[0;32m      2\u001b[0m \u001b[0msite3\u001b[0m\u001b[1;33m=\u001b[0m\u001b[0mdf_02\u001b[0m\u001b[1;33m[\u001b[0m\u001b[0mdf_02\u001b[0m\u001b[1;33m[\u001b[0m\u001b[1;34m'村里'\u001b[0m\u001b[1;33m]\u001b[0m\u001b[1;33m==\u001b[0m\u001b[0msite2\u001b[0m\u001b[1;33m]\u001b[0m\u001b[1;33m[\u001b[0m\u001b[1;34m'行政區'\u001b[0m\u001b[1;33m]\u001b[0m\u001b[1;33m.\u001b[0m\u001b[0munique\u001b[0m\u001b[1;33m(\u001b[0m\u001b[1;33m)\u001b[0m\u001b[1;33m\u001b[0m\u001b[1;33m\u001b[0m\u001b[0m\n\u001b[0;32m      3\u001b[0m \u001b[1;33m\u001b[0m\u001b[0m\n\u001b[0;32m      4\u001b[0m \u001b[1;32mfor\u001b[0m \u001b[0mi\u001b[0m \u001b[1;32min\u001b[0m \u001b[0msite3\u001b[0m\u001b[1;33m:\u001b[0m\u001b[1;33m\u001b[0m\u001b[1;33m\u001b[0m\u001b[0m\n\u001b[0;32m      5\u001b[0m     \u001b[0mprint\u001b[0m\u001b[1;33m(\u001b[0m\u001b[0mi\u001b[0m\u001b[1;33m,\u001b[0m\u001b[0mlist\u001b[0m\u001b[1;33m(\u001b[0m\u001b[0mgdf\u001b[0m\u001b[1;33m[\u001b[0m\u001b[0mgdf\u001b[0m\u001b[1;33m[\u001b[0m\u001b[1;34m'行政區'\u001b[0m\u001b[1;33m]\u001b[0m\u001b[1;33m==\u001b[0m\u001b[0mi\u001b[0m\u001b[1;33m]\u001b[0m\u001b[1;33m[\u001b[0m\u001b[1;34m'村里'\u001b[0m\u001b[1;33m]\u001b[0m\u001b[1;33m[\u001b[0m\u001b[0mgdf\u001b[0m\u001b[1;33m[\u001b[0m\u001b[0mgdf\u001b[0m\u001b[1;33m[\u001b[0m\u001b[1;34m'行政區'\u001b[0m\u001b[1;33m]\u001b[0m\u001b[1;33m==\u001b[0m\u001b[0mi\u001b[0m\u001b[1;33m]\u001b[0m\u001b[1;33m[\u001b[0m\u001b[1;34m'村里'\u001b[0m\u001b[1;33m]\u001b[0m\u001b[1;33m.\u001b[0m\u001b[0mstr\u001b[0m\u001b[1;33m.\u001b[0m\u001b[0mcontains\u001b[0m\u001b[1;33m(\u001b[0m\u001b[1;34m'埤'\u001b[0m\u001b[1;33m)\u001b[0m\u001b[1;33m]\u001b[0m\u001b[1;33m)\u001b[0m\u001b[1;33m)\u001b[0m\u001b[1;33m\u001b[0m\u001b[1;33m\u001b[0m\u001b[0m\n",
      "\u001b[1;32mC:\\ProgramData\\Anaconda3\\lib\\site-packages\\pandas\\core\\series.py\u001b[0m in \u001b[0;36m__getitem__\u001b[1;34m(self, key)\u001b[0m\n\u001b[0;32m    869\u001b[0m         \u001b[0mkey\u001b[0m \u001b[1;33m=\u001b[0m \u001b[0mcom\u001b[0m\u001b[1;33m.\u001b[0m\u001b[0mapply_if_callable\u001b[0m\u001b[1;33m(\u001b[0m\u001b[0mkey\u001b[0m\u001b[1;33m,\u001b[0m \u001b[0mself\u001b[0m\u001b[1;33m)\u001b[0m\u001b[1;33m\u001b[0m\u001b[1;33m\u001b[0m\u001b[0m\n\u001b[0;32m    870\u001b[0m         \u001b[1;32mtry\u001b[0m\u001b[1;33m:\u001b[0m\u001b[1;33m\u001b[0m\u001b[1;33m\u001b[0m\u001b[0m\n\u001b[1;32m--> 871\u001b[1;33m             \u001b[0mresult\u001b[0m \u001b[1;33m=\u001b[0m \u001b[0mself\u001b[0m\u001b[1;33m.\u001b[0m\u001b[0mindex\u001b[0m\u001b[1;33m.\u001b[0m\u001b[0mget_value\u001b[0m\u001b[1;33m(\u001b[0m\u001b[0mself\u001b[0m\u001b[1;33m,\u001b[0m \u001b[0mkey\u001b[0m\u001b[1;33m)\u001b[0m\u001b[1;33m\u001b[0m\u001b[1;33m\u001b[0m\u001b[0m\n\u001b[0m\u001b[0;32m    872\u001b[0m \u001b[1;33m\u001b[0m\u001b[0m\n\u001b[0;32m    873\u001b[0m             \u001b[1;32mif\u001b[0m \u001b[1;32mnot\u001b[0m \u001b[0mis_scalar\u001b[0m\u001b[1;33m(\u001b[0m\u001b[0mresult\u001b[0m\u001b[1;33m)\u001b[0m\u001b[1;33m:\u001b[0m\u001b[1;33m\u001b[0m\u001b[1;33m\u001b[0m\u001b[0m\n",
      "\u001b[1;32mC:\\ProgramData\\Anaconda3\\lib\\site-packages\\pandas\\core\\indexes\\base.py\u001b[0m in \u001b[0;36mget_value\u001b[1;34m(self, series, key)\u001b[0m\n\u001b[0;32m   4403\u001b[0m         \u001b[0mk\u001b[0m \u001b[1;33m=\u001b[0m \u001b[0mself\u001b[0m\u001b[1;33m.\u001b[0m\u001b[0m_convert_scalar_indexer\u001b[0m\u001b[1;33m(\u001b[0m\u001b[0mk\u001b[0m\u001b[1;33m,\u001b[0m \u001b[0mkind\u001b[0m\u001b[1;33m=\u001b[0m\u001b[1;34m\"getitem\"\u001b[0m\u001b[1;33m)\u001b[0m\u001b[1;33m\u001b[0m\u001b[1;33m\u001b[0m\u001b[0m\n\u001b[0;32m   4404\u001b[0m         \u001b[1;32mtry\u001b[0m\u001b[1;33m:\u001b[0m\u001b[1;33m\u001b[0m\u001b[1;33m\u001b[0m\u001b[0m\n\u001b[1;32m-> 4405\u001b[1;33m             \u001b[1;32mreturn\u001b[0m \u001b[0mself\u001b[0m\u001b[1;33m.\u001b[0m\u001b[0m_engine\u001b[0m\u001b[1;33m.\u001b[0m\u001b[0mget_value\u001b[0m\u001b[1;33m(\u001b[0m\u001b[0ms\u001b[0m\u001b[1;33m,\u001b[0m \u001b[0mk\u001b[0m\u001b[1;33m,\u001b[0m \u001b[0mtz\u001b[0m\u001b[1;33m=\u001b[0m\u001b[0mgetattr\u001b[0m\u001b[1;33m(\u001b[0m\u001b[0mseries\u001b[0m\u001b[1;33m.\u001b[0m\u001b[0mdtype\u001b[0m\u001b[1;33m,\u001b[0m \u001b[1;34m\"tz\"\u001b[0m\u001b[1;33m,\u001b[0m \u001b[1;32mNone\u001b[0m\u001b[1;33m)\u001b[0m\u001b[1;33m)\u001b[0m\u001b[1;33m\u001b[0m\u001b[1;33m\u001b[0m\u001b[0m\n\u001b[0m\u001b[0;32m   4406\u001b[0m         \u001b[1;32mexcept\u001b[0m \u001b[0mKeyError\u001b[0m \u001b[1;32mas\u001b[0m \u001b[0me1\u001b[0m\u001b[1;33m:\u001b[0m\u001b[1;33m\u001b[0m\u001b[1;33m\u001b[0m\u001b[0m\n\u001b[0;32m   4407\u001b[0m             \u001b[1;32mif\u001b[0m \u001b[0mlen\u001b[0m\u001b[1;33m(\u001b[0m\u001b[0mself\u001b[0m\u001b[1;33m)\u001b[0m \u001b[1;33m>\u001b[0m \u001b[1;36m0\u001b[0m \u001b[1;32mand\u001b[0m \u001b[1;33m(\u001b[0m\u001b[0mself\u001b[0m\u001b[1;33m.\u001b[0m\u001b[0mholds_integer\u001b[0m\u001b[1;33m(\u001b[0m\u001b[1;33m)\u001b[0m \u001b[1;32mor\u001b[0m \u001b[0mself\u001b[0m\u001b[1;33m.\u001b[0m\u001b[0mis_boolean\u001b[0m\u001b[1;33m(\u001b[0m\u001b[1;33m)\u001b[0m\u001b[1;33m)\u001b[0m\u001b[1;33m:\u001b[0m\u001b[1;33m\u001b[0m\u001b[1;33m\u001b[0m\u001b[0m\n",
      "\u001b[1;32mpandas\\_libs\\index.pyx\u001b[0m in \u001b[0;36mpandas._libs.index.IndexEngine.get_value\u001b[1;34m()\u001b[0m\n",
      "\u001b[1;32mpandas\\_libs\\index.pyx\u001b[0m in \u001b[0;36mpandas._libs.index.IndexEngine.get_value\u001b[1;34m()\u001b[0m\n",
      "\u001b[1;32mpandas\\_libs\\index.pyx\u001b[0m in \u001b[0;36mpandas._libs.index.IndexEngine.get_loc\u001b[1;34m()\u001b[0m\n",
      "\u001b[1;32mpandas\\_libs\\hashtable_class_helper.pxi\u001b[0m in \u001b[0;36mpandas._libs.hashtable.Int64HashTable.get_item\u001b[1;34m()\u001b[0m\n",
      "\u001b[1;32mpandas\\_libs\\hashtable_class_helper.pxi\u001b[0m in \u001b[0;36mpandas._libs.hashtable.Int64HashTable.get_item\u001b[1;34m()\u001b[0m\n",
      "\u001b[1;31mKeyError\u001b[0m: 49"
     ]
    }
   ],
   "source": [
    "site2=site1[site1.n>0]['村里'][49]\n",
    "site3=df_02[df_02['村里']==site2]['行政區'].unique()\n",
    "\n",
    "for i in site3:\n",
    "    print(i,list(gdf[gdf['行政區']==i]['村里'][gdf[gdf['行政區']==i]['村里'].str.contains('埤')]))"
   ]
  },
  {
   "cell_type": "code",
   "execution_count": null,
   "metadata": {},
   "outputs": [],
   "source": []
  },
  {
   "cell_type": "code",
   "execution_count": 20,
   "metadata": {},
   "outputs": [
    {
     "data": {
      "text/html": [
       "<div>\n",
       "<style scoped>\n",
       "    .dataframe tbody tr th:only-of-type {\n",
       "        vertical-align: middle;\n",
       "    }\n",
       "\n",
       "    .dataframe tbody tr th {\n",
       "        vertical-align: top;\n",
       "    }\n",
       "\n",
       "    .dataframe thead th {\n",
       "        text-align: right;\n",
       "    }\n",
       "</style>\n",
       "<table border=\"1\" class=\"dataframe\">\n",
       "  <thead>\n",
       "    <tr style=\"text-align: right;\">\n",
       "      <th></th>\n",
       "      <th>id</th>\n",
       "      <th>addr</th>\n",
       "      <th>lon</th>\n",
       "      <th>lat</th>\n",
       "      <th>縣市</th>\n",
       "      <th>行政區</th>\n",
       "      <th>村里</th>\n",
       "    </tr>\n",
       "  </thead>\n",
       "  <tbody>\n",
       "    <tr>\n",
       "      <th>9184</th>\n",
       "      <td>20011222001264</td>\n",
       "      <td>彰化縣埔心鄉埤?村8鄰大溪路二段474號                          ...</td>\n",
       "      <td>120.515446</td>\n",
       "      <td>23.975426</td>\n",
       "      <td>彰化縣</td>\n",
       "      <td>埔心鄉</td>\n",
       "      <td>埤脚村</td>\n",
       "    </tr>\n",
       "  </tbody>\n",
       "</table>\n",
       "</div>"
      ],
      "text/plain": [
       "                  id                                               addr  \\\n",
       "9184  20011222001264  彰化縣埔心鄉埤?村8鄰大溪路二段474號                          ...   \n",
       "\n",
       "             lon        lat   縣市  行政區   村里  \n",
       "9184  120.515446  23.975426  彰化縣  埔心鄉  埤脚村  "
      ]
     },
     "execution_count": 20,
     "metadata": {},
     "output_type": "execute_result"
    }
   ],
   "source": [
    "df_02[-(df_02['縣市']+df_02['行政區']+df_02['村里']).isin(gdf['縣市']+gdf['行政區']+gdf['村里'])]\n",
    "df_02[(df_02['行政區']+df_02['村里'])=='埔心鄉埤脚村']"
   ]
  },
  {
   "cell_type": "code",
   "execution_count": 17,
   "metadata": {},
   "outputs": [
    {
     "data": {
      "text/html": [
       "<div>\n",
       "<style scoped>\n",
       "    .dataframe tbody tr th:only-of-type {\n",
       "        vertical-align: middle;\n",
       "    }\n",
       "\n",
       "    .dataframe tbody tr th {\n",
       "        vertical-align: top;\n",
       "    }\n",
       "\n",
       "    .dataframe thead th {\n",
       "        text-align: right;\n",
       "    }\n",
       "</style>\n",
       "<table border=\"1\" class=\"dataframe\">\n",
       "  <thead>\n",
       "    <tr style=\"text-align: right;\">\n",
       "      <th></th>\n",
       "      <th>縣市</th>\n",
       "      <th>行政區</th>\n",
       "      <th>村里</th>\n",
       "      <th>geometry</th>\n",
       "    </tr>\n",
       "  </thead>\n",
       "  <tbody>\n",
       "    <tr>\n",
       "      <th>3328</th>\n",
       "      <td>彰化縣</td>\n",
       "      <td>埔心鄉</td>\n",
       "      <td>埤霞村</td>\n",
       "      <td>POLYGON ((120.53146 23.97826, 120.53163 23.978...</td>\n",
       "    </tr>\n",
       "  </tbody>\n",
       "</table>\n",
       "</div>"
      ],
      "text/plain": [
       "       縣市  行政區   村里                                           geometry\n",
       "3328  彰化縣  埔心鄉  埤霞村  POLYGON ((120.53146 23.97826, 120.53163 23.978..."
      ]
     },
     "execution_count": 17,
     "metadata": {},
     "output_type": "execute_result"
    }
   ],
   "source": [
    "gdf[(gdf['行政區']+gdf['村里'])=='埔心鄉埤霞村']"
   ]
  },
  {
   "cell_type": "code",
   "execution_count": 17,
   "metadata": {},
   "outputs": [
    {
     "data": {
      "text/html": [
       "<div>\n",
       "<style scoped>\n",
       "    .dataframe tbody tr th:only-of-type {\n",
       "        vertical-align: middle;\n",
       "    }\n",
       "\n",
       "    .dataframe tbody tr th {\n",
       "        vertical-align: top;\n",
       "    }\n",
       "\n",
       "    .dataframe thead th {\n",
       "        text-align: right;\n",
       "    }\n",
       "</style>\n",
       "<table border=\"1\" class=\"dataframe\">\n",
       "  <thead>\n",
       "    <tr style=\"text-align: right;\">\n",
       "      <th></th>\n",
       "      <th></th>\n",
       "      <th>id</th>\n",
       "      <th>addr</th>\n",
       "      <th>lon</th>\n",
       "      <th>lat</th>\n",
       "      <th>縣市</th>\n",
       "    </tr>\n",
       "    <tr>\n",
       "      <th>行政區</th>\n",
       "      <th>村里</th>\n",
       "      <th></th>\n",
       "      <th></th>\n",
       "      <th></th>\n",
       "      <th></th>\n",
       "      <th></th>\n",
       "    </tr>\n",
       "  </thead>\n",
       "  <tbody>\n",
       "    <tr>\n",
       "      <th>新化區</th>\n",
       "      <th>那拔里</th>\n",
       "      <td>1</td>\n",
       "      <td>1</td>\n",
       "      <td>1</td>\n",
       "      <td>1</td>\n",
       "      <td>1</td>\n",
       "    </tr>\n",
       "    <tr>\n",
       "      <th>竹東鎮</th>\n",
       "      <th>上里</th>\n",
       "      <td>1</td>\n",
       "      <td>1</td>\n",
       "      <td>1</td>\n",
       "      <td>1</td>\n",
       "      <td>1</td>\n",
       "    </tr>\n",
       "    <tr>\n",
       "      <th rowspan=\"2\" valign=\"top\">萬丹鄉</th>\n",
       "      <th>?北村</th>\n",
       "      <td>1</td>\n",
       "      <td>1</td>\n",
       "      <td>1</td>\n",
       "      <td>1</td>\n",
       "      <td>1</td>\n",
       "    </tr>\n",
       "    <tr>\n",
       "      <th>?南村</th>\n",
       "      <td>1</td>\n",
       "      <td>1</td>\n",
       "      <td>1</td>\n",
       "      <td>1</td>\n",
       "      <td>1</td>\n",
       "    </tr>\n",
       "  </tbody>\n",
       "</table>\n",
       "</div>"
      ],
      "text/plain": [
       "         id  addr  lon  lat  縣市\n",
       "行政區 村里                         \n",
       "新化區 那拔里   1     1    1    1   1\n",
       "竹東鎮 上里   1     1    1    1   1\n",
       "萬丹鄉 ?北村   1     1    1    1   1\n",
       "    ?南村   1     1    1    1   1"
      ]
     },
     "execution_count": 17,
     "metadata": {},
     "output_type": "execute_result"
    }
   ],
   "source": [
    "df_02[-(df_02['縣市']+df_02['行政區']+df_02['村里']).isin(gdf['縣市']+gdf['行政區']+gdf['村里'])].groupby(['行政區','村里']).count().sort_values(by='id',ascending=False).head(15)"
   ]
  },
  {
   "cell_type": "code",
   "execution_count": 51,
   "metadata": {},
   "outputs": [
    {
     "data": {
      "text/html": [
       "<div>\n",
       "<style scoped>\n",
       "    .dataframe tbody tr th:only-of-type {\n",
       "        vertical-align: middle;\n",
       "    }\n",
       "\n",
       "    .dataframe tbody tr th {\n",
       "        vertical-align: top;\n",
       "    }\n",
       "\n",
       "    .dataframe thead th {\n",
       "        text-align: right;\n",
       "    }\n",
       "</style>\n",
       "<table border=\"1\" class=\"dataframe\">\n",
       "  <thead>\n",
       "    <tr style=\"text-align: right;\">\n",
       "      <th></th>\n",
       "      <th>縣市</th>\n",
       "      <th>行政區</th>\n",
       "      <th>村里</th>\n",
       "      <th>geometry</th>\n",
       "    </tr>\n",
       "  </thead>\n",
       "  <tbody>\n",
       "    <tr>\n",
       "      <th>119</th>\n",
       "      <td>屏東縣</td>\n",
       "      <td>里港鄉</td>\n",
       "      <td>三廍村</td>\n",
       "      <td>POLYGON ((120.52497 22.79960, 120.52385 22.799...</td>\n",
       "    </tr>\n",
       "  </tbody>\n",
       "</table>\n",
       "</div>"
      ],
      "text/plain": [
       "      縣市  行政區   村里                                           geometry\n",
       "119  屏東縣  里港鄉  三廍村  POLYGON ((120.52497 22.79960, 120.52385 22.799..."
      ]
     },
     "execution_count": 51,
     "metadata": {},
     "output_type": "execute_result"
    }
   ],
   "source": [
    "gdf[gdf['村里']=='三廍村']"
   ]
  },
  {
   "cell_type": "code",
   "execution_count": 52,
   "metadata": {},
   "outputs": [
    {
     "data": {
      "text/plain": [
       "array(['新店區'], dtype=object)"
      ]
     },
     "execution_count": 52,
     "metadata": {},
     "output_type": "execute_result"
    }
   ],
   "source": [
    "df_02[df_02['村里']=='五?里']['行政區'].unique()"
   ]
  },
  {
   "cell_type": "code",
   "execution_count": null,
   "metadata": {},
   "outputs": [],
   "source": []
  },
  {
   "cell_type": "markdown",
   "metadata": {},
   "source": [
    "### 字元調整"
   ]
  },
  {
   "cell_type": "code",
   "execution_count": 14,
   "metadata": {},
   "outputs": [],
   "source": [
    "df_02['村里']=df_02['村里'].apply(lambda x:x.replace('糖部里','糖廍里'))\n",
    "df_02['村里']=df_02['村里'].apply(lambda x:x.replace('糖?里','糖廍里'))\n",
    "df_02['村里']=df_02['村里'].apply(lambda x:x.replace('磚?里','磚磘里'))\n",
    "df_02['村里']=df_02['村里'].apply(lambda x:x.replace('磚瑤里','磚磘里'))\n",
    "df_02['村里']=df_02['村里'].apply(lambda x:x.replace('珊湖里','珊瑚里'))\n",
    "df_02['村里']=df_02['村里'].apply(lambda x:x.replace('下?里','下廍里'))\n",
    "\n",
    "df_02.loc[df_02['行政區']=='彰化市',['村里']]=df_02.loc[df_02['行政區']=='彰化市',['村里']].apply(lambda x:x.replace('南?里','南瑶里'))\n",
    "df_02.loc[df_02['行政區']=='官田區',['村里']]=df_02.loc[df_02['行政區']=='官田區',['村里']].apply(lambda x:x.replace('南?里','南廍里'))\n",
    "#df_02['村里']=df_02['村里'].apply(lambda x:x.replace('南?里','南瑶里'))\n",
    "\n",
    "\n",
    "df_02['村里']=df_02['村里'].apply(lambda x:x.replace('崙?里','崙峯里'))\n",
    "df_02['村里']=df_02['村里'].apply(lambda x:x.replace('?子里','廍子里'))\n",
    "\n",
    "df_02['村里']=df_02['村里'].apply(lambda x:x.replace('石?村','石硦村'))\n",
    "df_02['村里']=df_02['村里'].apply(lambda x:x.replace('上?里','上館里'))\n",
    "df_02['村里']=df_02['村里'].apply(lambda x:x.replace('永?里','永館里'))\n",
    "\n",
    "df_02['村里']=df_02['村里'].apply(lambda x:x.replace('瓦?村','瓦磘村'))\n",
    "df_02['村里']=df_02['村里'].apply(lambda x:x.replace('瓦?里','瓦磘里'))\n",
    "df_02['村里']=df_02['村里'].apply(lambda x:x.replace('五?里','五峯里'))\n",
    "df_02['村里']=df_02['村里'].apply(lambda x:x.replace('?行里','塩行里'))\n",
    "df_02['村里']=df_02['村里'].apply(lambda x:x.replace('?廷里','峯廷里'))\n",
    "\n",
    "df_02['村里']=df_02['村里'].apply(lambda x:x.replace('?興里','塩興里'))\n",
    "df_02['村里']=df_02['村里'].apply(lambda x:x.replace('?廷里','峯廷里'))\n",
    "\n",
    "df_02['村里']=df_02['村里'].apply(lambda x:x.replace('公?里','公館里'))\n",
    "\n",
    "df_02['村里']=df_02['村里'].apply(lambda x:x.replace('?洲里','塩洲里'))\n",
    "df_02['村里']=df_02['村里'].apply(lambda x:x.replace('?龍里','雙龍里'))\n",
    "\n",
    "#df_02['村里']=df_02['村里'].apply(lambda x:x.replace('?林里','雞林里'))\n",
    "df_02.loc[df_02['行政區']=='竹東鎮',['村里']]=df_02.loc[df_02['行政區']=='竹東鎮',['村里']].apply(lambda x:x.replace('?林里','雞林里'))\n",
    "\n",
    "df_02.loc[df_02['行政區']=='大園區',['村里']]=df_02.loc[df_02['行政區']=='大園區',['村里']].apply(lambda x:x.replace('?林里','菓林里'))\n",
    "\n",
    "df_02['村里']=df_02['村里'].apply(lambda x:x.replace('?寮里','獇寮里'))\n",
    "df_02['村里']=df_02['村里'].apply(lambda x:x.replace('新?里','新廍里'))\n",
    "\n",
    "df_02['村里']=df_02['村里'].apply(lambda x:x.replace('蔗?里','蔗廍里'))\n",
    "df_02['村里']=df_02['村里'].apply(lambda x:x.replace('?埔里','坔埔里'))\n",
    "df_02['村里']=df_02['村里'].apply(lambda x:x.replace('?榔里','槺榔里'))\n",
    "df_02['村里']=df_02['村里'].apply(lambda x:x.replace('?江里','晋江里'))\n",
    "df_02['村里']=df_02['村里'].apply(lambda x:x.replace('?福村','雙福村'))\n",
    "df_02['村里']=df_02['村里'].apply(lambda x:x.replace('爪?里','爪峯里'))\n",
    "\n",
    "df_02['村里']=df_02['村里'].apply(lambda x:x.replace('舊?村','舊館村'))\n",
    "df_02['村里']=df_02['村里'].apply(lambda x:x.replace('南?村','南館村'))\n",
    "\n",
    "df_02['村里']=df_02['村里'].apply(lambda x:x.replace('灰?里','灰磘里'))\n",
    "df_02['村里']=df_02['村里'].apply(lambda x:x.replace('三?村','三廍村'))\n",
    "\n",
    "\n",
    "df_02.loc[df_02['行政區']=='將軍區',['村里']]=df_02.loc[df_02['行政區']=='將軍區',['村里']].apply(lambda x:x.replace('忠興里','忠嘉里'))\n",
    "\n",
    "df_02['村里']=df_02['村里'].apply(lambda x:x.replace('下部里','下廍里'))\n",
    "df_02.loc[df_02['行政區']=='埔鹽鄉',['村里']]=df_02.loc[df_02['行政區']=='埔鹽鄉',['村里']].apply(lambda x:x.replace('?子村','廍子村'))\n",
    "df_02.loc[df_02['行政區']=='四湖鄉',['村里']]=df_02.loc[df_02['行政區']=='四湖鄉',['村里']].apply(lambda x:x.replace('?子村','萡子村'))\n",
    "\n",
    "df_02['村里']=df_02['村里'].apply(lambda x:x.replace('?田里','塩田里'))\n",
    "df_02['村里']=df_02['村里'].apply(lambda x:x.replace('山?里','山脚里'))\n",
    "\n",
    "df_02.loc[df_02['行政區']=='北埔鄉',['村里']]=df_02.loc[df_02['行政區']=='北埔鄉',['村里']].apply(lambda x:x.replace('水?村','水祭村'))\n",
    "df_02.loc[df_02['行政區']=='北埔鄉',['村里']]=df_02.loc[df_02['行政區']=='北埔鄉',['村里']].apply(lambda x:x.replace('水？村','水祭村'))\n",
    "df_02.loc[df_02['行政區']=='瑞芳區',['村里']]=df_02.loc[df_02['行政區']=='瑞芳區',['村里']].apply(lambda x:x.replace('?洞里','濂洞里'))\n",
    "\n",
    "df_02.loc[df_02['行政區']=='埔心鄉',['村里']]=df_02.loc[df_02['行政區']=='埔心鄉',['村里']].apply(lambda x:x.replace('埤?村','埤脚村'))"
   ]
  },
  {
   "cell_type": "code",
   "execution_count": null,
   "metadata": {},
   "outputs": [],
   "source": []
  },
  {
   "cell_type": "markdown",
   "metadata": {},
   "source": [
    "### 第一次抓取 村里 與 geo data 合不合"
   ]
  },
  {
   "cell_type": "code",
   "execution_count": 18,
   "metadata": {},
   "outputs": [
    {
     "name": "stdout",
     "output_type": "stream",
     "text": [
      "(17531, 7)\n",
      "(4, 7)\n"
     ]
    }
   ],
   "source": [
    "#合\n",
    "df_02_1=df_02[(df_02['縣市']+df_02['行政區']+df_02['村里']).isin(gdf['縣市']+gdf['行政區']+gdf['村里'])].reset_index(drop=True)\n",
    "\n",
    "#不合\n",
    "df_02_2=df_02[-(df_02['縣市']+df_02['行政區']+df_02['村里']).isin(gdf['縣市']+gdf['行政區']+gdf['村里'])].reset_index(drop=True)\n",
    "print(df_02_1.shape)\n",
    "print(df_02_2.shape)"
   ]
  },
  {
   "cell_type": "markdown",
   "metadata": {},
   "source": [
    "### 不合的資料用經緯度 與村里邊界資料mapping"
   ]
  },
  {
   "cell_type": "code",
   "execution_count": 19,
   "metadata": {},
   "outputs": [],
   "source": [
    "df_02_2.lon=df_02_2.lon.apply(lambda x:float(x))\n",
    "df_02_2.lat=df_02_2.lat.apply(lambda x:float(x))"
   ]
  },
  {
   "cell_type": "code",
   "execution_count": 20,
   "metadata": {},
   "outputs": [
    {
     "data": {
      "text/html": [
       "<div>\n",
       "<style scoped>\n",
       "    .dataframe tbody tr th:only-of-type {\n",
       "        vertical-align: middle;\n",
       "    }\n",
       "\n",
       "    .dataframe tbody tr th {\n",
       "        vertical-align: top;\n",
       "    }\n",
       "\n",
       "    .dataframe thead th {\n",
       "        text-align: right;\n",
       "    }\n",
       "</style>\n",
       "<table border=\"1\" class=\"dataframe\">\n",
       "  <thead>\n",
       "    <tr style=\"text-align: right;\">\n",
       "      <th></th>\n",
       "      <th>id</th>\n",
       "      <th>addr</th>\n",
       "      <th>lon</th>\n",
       "      <th>lat</th>\n",
       "      <th>縣市</th>\n",
       "      <th>行政區</th>\n",
       "      <th>村里</th>\n",
       "    </tr>\n",
       "  </thead>\n",
       "  <tbody>\n",
       "    <tr>\n",
       "      <th>0</th>\n",
       "      <td>20030318028412</td>\n",
       "      <td>新竹縣竹東鎮上里34鄰南寧路137巷3號                         ...</td>\n",
       "      <td>121.089683</td>\n",
       "      <td>24.725584</td>\n",
       "      <td>新竹縣</td>\n",
       "      <td>竹東鎮</td>\n",
       "      <td>上里</td>\n",
       "    </tr>\n",
       "    <tr>\n",
       "      <th>1</th>\n",
       "      <td>20130708000111</td>\n",
       "      <td>屏東縣萬丹鄉?北村1鄰普安路217號                            ...</td>\n",
       "      <td>120.461685</td>\n",
       "      <td>22.599166</td>\n",
       "      <td>屏東縣</td>\n",
       "      <td>萬丹鄉</td>\n",
       "      <td>?北村</td>\n",
       "    </tr>\n",
       "    <tr>\n",
       "      <th>2</th>\n",
       "      <td>20020912001028</td>\n",
       "      <td>屏東縣萬丹鄉?南村1鄰南北路二段133之1號                        ...</td>\n",
       "      <td>120.466620</td>\n",
       "      <td>22.594972</td>\n",
       "      <td>屏東縣</td>\n",
       "      <td>萬丹鄉</td>\n",
       "      <td>?南村</td>\n",
       "    </tr>\n",
       "    <tr>\n",
       "      <th>3</th>\n",
       "      <td>20030727001313</td>\n",
       "      <td>臺南市新化區那拔里1鄰那拔林23號之9                           ...</td>\n",
       "      <td>120.349435</td>\n",
       "      <td>23.067630</td>\n",
       "      <td>台南市</td>\n",
       "      <td>新化區</td>\n",
       "      <td>那拔里</td>\n",
       "    </tr>\n",
       "  </tbody>\n",
       "</table>\n",
       "</div>"
      ],
      "text/plain": [
       "               id                                               addr  \\\n",
       "0  20030318028412  新竹縣竹東鎮上里34鄰南寧路137巷3號                         ...   \n",
       "1  20130708000111  屏東縣萬丹鄉?北村1鄰普安路217號                            ...   \n",
       "2  20020912001028  屏東縣萬丹鄉?南村1鄰南北路二段133之1號                        ...   \n",
       "3  20030727001313  臺南市新化區那拔里1鄰那拔林23號之9                           ...   \n",
       "\n",
       "          lon        lat   縣市  行政區   村里  \n",
       "0  121.089683  24.725584  新竹縣  竹東鎮  上里  \n",
       "1  120.461685  22.599166  屏東縣  萬丹鄉  ?北村  \n",
       "2  120.466620  22.594972  屏東縣  萬丹鄉  ?南村  \n",
       "3  120.349435  23.067630  台南市  新化區  那拔里  "
      ]
     },
     "execution_count": 20,
     "metadata": {},
     "output_type": "execute_result"
    }
   ],
   "source": [
    "df_02_2"
   ]
  },
  {
   "cell_type": "code",
   "execution_count": 21,
   "metadata": {},
   "outputs": [
    {
     "name": "stdout",
     "output_type": "stream",
     "text": [
      "(4, 8)\n"
     ]
    }
   ],
   "source": [
    "geom=[Point(data.lon,data.lat) for idx, data in df_02_2.iterrows()]\n",
    "crs = {'init': 'epsg:4326'}\n",
    "df_02_2 = gpd.GeoDataFrame(df_02_2, crs=crs, geometry=geom)\n",
    "print(df_02_2.shape)"
   ]
  },
  {
   "cell_type": "code",
   "execution_count": 22,
   "metadata": {},
   "outputs": [
    {
     "data": {
      "text/plain": [
       "(4, 12)"
      ]
     },
     "execution_count": 22,
     "metadata": {},
     "output_type": "execute_result"
    }
   ],
   "source": [
    "df_02_3 = gpd.tools.sjoin(df_02_2,gdf, how=\"inner\", op='intersects')\n",
    "df_02_3.shape"
   ]
  },
  {
   "cell_type": "code",
   "execution_count": 23,
   "metadata": {},
   "outputs": [
    {
     "data": {
      "text/html": [
       "<div>\n",
       "<style scoped>\n",
       "    .dataframe tbody tr th:only-of-type {\n",
       "        vertical-align: middle;\n",
       "    }\n",
       "\n",
       "    .dataframe tbody tr th {\n",
       "        vertical-align: top;\n",
       "    }\n",
       "\n",
       "    .dataframe thead th {\n",
       "        text-align: right;\n",
       "    }\n",
       "</style>\n",
       "<table border=\"1\" class=\"dataframe\">\n",
       "  <thead>\n",
       "    <tr style=\"text-align: right;\">\n",
       "      <th></th>\n",
       "      <th>id</th>\n",
       "      <th>addr</th>\n",
       "      <th>lon</th>\n",
       "      <th>lat</th>\n",
       "      <th>縣市</th>\n",
       "      <th>行政區</th>\n",
       "      <th>村里</th>\n",
       "    </tr>\n",
       "  </thead>\n",
       "  <tbody>\n",
       "    <tr>\n",
       "      <th>0</th>\n",
       "      <td>20030318028412</td>\n",
       "      <td>新竹縣竹東鎮上里34鄰南寧路137巷3號                         ...</td>\n",
       "      <td>121.089683</td>\n",
       "      <td>24.725584</td>\n",
       "      <td>新竹縣</td>\n",
       "      <td>竹東鎮</td>\n",
       "      <td>上館里</td>\n",
       "    </tr>\n",
       "    <tr>\n",
       "      <th>1</th>\n",
       "      <td>20130708000111</td>\n",
       "      <td>屏東縣萬丹鄉?北村1鄰普安路217號                            ...</td>\n",
       "      <td>120.461685</td>\n",
       "      <td>22.599166</td>\n",
       "      <td>屏東縣</td>\n",
       "      <td>萬丹鄉</td>\n",
       "      <td>厦北村</td>\n",
       "    </tr>\n",
       "    <tr>\n",
       "      <th>2</th>\n",
       "      <td>20020912001028</td>\n",
       "      <td>屏東縣萬丹鄉?南村1鄰南北路二段133之1號                        ...</td>\n",
       "      <td>120.466620</td>\n",
       "      <td>22.594972</td>\n",
       "      <td>屏東縣</td>\n",
       "      <td>萬丹鄉</td>\n",
       "      <td>厦南村</td>\n",
       "    </tr>\n",
       "    <tr>\n",
       "      <th>3</th>\n",
       "      <td>20030727001313</td>\n",
       "      <td>臺南市新化區那拔里1鄰那拔林23號之9                           ...</td>\n",
       "      <td>120.349435</td>\n",
       "      <td>23.067630</td>\n",
       "      <td>台南市</td>\n",
       "      <td>新化區</td>\n",
       "      <td>[那]拔里</td>\n",
       "    </tr>\n",
       "  </tbody>\n",
       "</table>\n",
       "</div>"
      ],
      "text/plain": [
       "               id                                               addr  \\\n",
       "0  20030318028412  新竹縣竹東鎮上里34鄰南寧路137巷3號                         ...   \n",
       "1  20130708000111  屏東縣萬丹鄉?北村1鄰普安路217號                            ...   \n",
       "2  20020912001028  屏東縣萬丹鄉?南村1鄰南北路二段133之1號                        ...   \n",
       "3  20030727001313  臺南市新化區那拔里1鄰那拔林23號之9                           ...   \n",
       "\n",
       "          lon        lat   縣市  行政區     村里  \n",
       "0  121.089683  24.725584  新竹縣  竹東鎮    上館里  \n",
       "1  120.461685  22.599166  屏東縣  萬丹鄉    厦北村  \n",
       "2  120.466620  22.594972  屏東縣  萬丹鄉    厦南村  \n",
       "3  120.349435  23.067630  台南市  新化區  [那]拔里  "
      ]
     },
     "execution_count": 23,
     "metadata": {},
     "output_type": "execute_result"
    }
   ],
   "source": [
    "df_02_3=df_02_3.iloc[:,[0,1,2,3,9,10,11]].reset_index(drop=True)\n",
    "df_02_3.columns=['id','addr','lon','lat','縣市','行政區','村里']\n",
    "df_02_3.head(6)"
   ]
  },
  {
   "cell_type": "markdown",
   "metadata": {},
   "source": [
    "## 合併 合與不合的資料\n",
    "## 獲得完整的第一次抓取 村里"
   ]
  },
  {
   "cell_type": "code",
   "execution_count": 24,
   "metadata": {},
   "outputs": [
    {
     "data": {
      "text/plain": [
       "(17535, 7)"
      ]
     },
     "execution_count": 24,
     "metadata": {},
     "output_type": "execute_result"
    }
   ],
   "source": [
    "df_02=pd.concat([df_02_1,df_02_3]).reset_index(drop=True)\n",
    "df_02.shape"
   ]
  },
  {
   "cell_type": "code",
   "execution_count": null,
   "metadata": {},
   "outputs": [],
   "source": []
  },
  {
   "cell_type": "markdown",
   "metadata": {},
   "source": [
    "## 第一次抓取 無村里的資料"
   ]
  },
  {
   "cell_type": "code",
   "execution_count": 25,
   "metadata": {},
   "outputs": [
    {
     "data": {
      "text/plain": [
       "(3, 7)"
      ]
     },
     "execution_count": 25,
     "metadata": {},
     "output_type": "execute_result"
    }
   ],
   "source": [
    "df_03=df_01[-df_01.id.isin(df_02.id)].dropna(subset=['lon'])\n",
    "df_03.shape"
   ]
  },
  {
   "cell_type": "markdown",
   "metadata": {},
   "source": [
    "### 第二次抓取 村里"
   ]
  },
  {
   "cell_type": "code",
   "execution_count": 26,
   "metadata": {},
   "outputs": [],
   "source": [
    "pattern = re.compile(r'(..[市,縣])(.{2,3}[市,區,鄉,鎮])(.{1,2}[里,村])')\n",
    "location=df_03.addr.apply(lambda x:pattern.findall(x))\n",
    "\n",
    "addr01=[]\n",
    "addr02=[]\n",
    "addr03=[]\n",
    "for i in location:\n",
    "    if len(i)==1:\n",
    "        addr01.append(i[0][0])\n",
    "        addr02.append(i[0][1])\n",
    "        addr03.append(i[0][2])        \n",
    "    else:\n",
    "        addr01.append(np.nan)\n",
    "        addr02.append(np.nan)\n",
    "        addr03.append(np.nan)  "
   ]
  },
  {
   "cell_type": "code",
   "execution_count": 27,
   "metadata": {},
   "outputs": [],
   "source": [
    "df_03['縣市']=addr01\n",
    "df_03['行政區']=addr02\n",
    "df_03['村里']=addr03"
   ]
  },
  {
   "cell_type": "markdown",
   "metadata": {},
   "source": [
    "### 第二次抓取 村里 與 geo data 合不合"
   ]
  },
  {
   "cell_type": "code",
   "execution_count": 28,
   "metadata": {},
   "outputs": [
    {
     "name": "stdout",
     "output_type": "stream",
     "text": [
      "(2, 7)\n",
      "(1, 7)\n"
     ]
    }
   ],
   "source": [
    "#合\n",
    "df_03_1=df_03[(df_03['縣市']+df_03['行政區']+df_03['村里']).isin(gdf['縣市']+gdf['行政區']+gdf['村里'])].reset_index(drop=True)\n",
    "print(df_03_1.shape)\n",
    "\n",
    "#不合\n",
    "df_03_2=df_03[-(df_03['縣市']+df_03['行政區']+df_03['村里']).isin(gdf['縣市']+gdf['行政區']+gdf['村里'])].reset_index(drop=True)\n",
    "print(df_03_2.shape)\n"
   ]
  },
  {
   "cell_type": "markdown",
   "metadata": {},
   "source": [
    "### 不合的資料用經緯度 與村里邊界資料mapping"
   ]
  },
  {
   "cell_type": "code",
   "execution_count": 29,
   "metadata": {},
   "outputs": [],
   "source": [
    "def to_float(x):\n",
    "    try:\n",
    "        return float(x)\n",
    "    except:\n",
    "        return 0"
   ]
  },
  {
   "cell_type": "code",
   "execution_count": 30,
   "metadata": {},
   "outputs": [],
   "source": [
    "df_03_2.lon=df_03_2.lon.apply(to_float)\n",
    "df_03_2.lat=df_03_2.lat.apply(to_float)"
   ]
  },
  {
   "cell_type": "code",
   "execution_count": null,
   "metadata": {},
   "outputs": [],
   "source": [
    "if df_03_2.shape[0]>0:\n",
    "    geom=[Point(data.lon,data.lat) for idx, data in df_03_2.iterrows()]\n",
    "    crs = {'init': 'epsg:4326'}\n",
    "    df_03_2 = gpd.GeoDataFrame(df_03_2, crs=crs, geometry=geom)\n",
    "    print(df_03_2.shape)\n",
    "    df_03_3 = gpd.tools.sjoin(df_03_2,gdf, how=\"inner\", op='intersects')\n",
    "    print(df_03_3.shape)\n",
    "    df_03_3=df_03_3.iloc[:,[0,1,2,3,9,10,11]].reset_index(drop=True)\n",
    "    df_03_3.columns=['id','addr','lon','lat','縣市','行政區','村里']\n",
    "    print(df_03_3.shape)\n",
    "else:\n",
    "    df_03_3=df_03_2.copy()"
   ]
  },
  {
   "cell_type": "code",
   "execution_count": 33,
   "metadata": {},
   "outputs": [
    {
     "data": {
      "text/html": [
       "<div>\n",
       "<style scoped>\n",
       "    .dataframe tbody tr th:only-of-type {\n",
       "        vertical-align: middle;\n",
       "    }\n",
       "\n",
       "    .dataframe tbody tr th {\n",
       "        vertical-align: top;\n",
       "    }\n",
       "\n",
       "    .dataframe thead th {\n",
       "        text-align: right;\n",
       "    }\n",
       "</style>\n",
       "<table border=\"1\" class=\"dataframe\">\n",
       "  <thead>\n",
       "    <tr style=\"text-align: right;\">\n",
       "      <th></th>\n",
       "      <th>id</th>\n",
       "      <th>addr</th>\n",
       "      <th>lon</th>\n",
       "      <th>lat</th>\n",
       "      <th>縣市</th>\n",
       "      <th>行政區</th>\n",
       "      <th>村里</th>\n",
       "      <th>geometry</th>\n",
       "    </tr>\n",
       "  </thead>\n",
       "  <tbody>\n",
       "  </tbody>\n",
       "</table>\n",
       "</div>"
      ],
      "text/plain": [
       "Empty GeoDataFrame\n",
       "Columns: [id, addr, lon, lat, 縣市, 行政區, 村里, geometry]\n",
       "Index: []"
      ]
     },
     "execution_count": 33,
     "metadata": {},
     "output_type": "execute_result"
    }
   ],
   "source": [
    "df_03_2[-df_03_2.id.isin(df_03_3.id)]"
   ]
  },
  {
   "cell_type": "markdown",
   "metadata": {},
   "source": [
    "## 合併 合與不合的資料\n",
    "## 獲得完整的第二次抓取 村里"
   ]
  },
  {
   "cell_type": "code",
   "execution_count": 35,
   "metadata": {},
   "outputs": [],
   "source": [
    "#df_03=df_03_1.copy()\n",
    "df_03=pd.concat([df_03_1,df_03_3]).reset_index(drop=True)"
   ]
  },
  {
   "cell_type": "markdown",
   "metadata": {},
   "source": [
    "## 合併 第一次抓取 有村里 與 無村里 資料，獲得SLQ有正確地址的資料"
   ]
  },
  {
   "cell_type": "code",
   "execution_count": 36,
   "metadata": {},
   "outputs": [
    {
     "data": {
      "text/plain": [
       "(17538, 7)"
      ]
     },
     "execution_count": 36,
     "metadata": {},
     "output_type": "execute_result"
    }
   ],
   "source": [
    "df_01=pd.concat([df_02,df_03]).reset_index(drop=True)\n",
    "df_01.shape"
   ]
  },
  {
   "cell_type": "code",
   "execution_count": null,
   "metadata": {},
   "outputs": [],
   "source": []
  },
  {
   "cell_type": "markdown",
   "metadata": {},
   "source": [
    "# 存檔"
   ]
  },
  {
   "cell_type": "code",
   "execution_count": 37,
   "metadata": {},
   "outputs": [],
   "source": [
    "df_01.to_csv('C:/Users/RT009223/TestriteGroup/滲透率專案/02_adjusted data/'+save_file+'會員位置(經整理_配對村里)_一般卡_'+save_year+'.txt',index=0)"
   ]
  },
  {
   "cell_type": "code",
   "execution_count": null,
   "metadata": {},
   "outputs": [],
   "source": []
  },
  {
   "cell_type": "code",
   "execution_count": null,
   "metadata": {},
   "outputs": [],
   "source": []
  },
  {
   "cell_type": "markdown",
   "metadata": {},
   "source": [
    "# SLQ無正確地址的資料"
   ]
  },
  {
   "cell_type": "code",
   "execution_count": 38,
   "metadata": {},
   "outputs": [
    {
     "data": {
      "text/plain": [
       "(2766, 3)"
      ]
     },
     "execution_count": 38,
     "metadata": {},
     "output_type": "execute_result"
    }
   ],
   "source": [
    "df_04=pd.read_excel(filename+'一般卡會員(無完整地址).xlsx')\n",
    "df_04.shape"
   ]
  },
  {
   "cell_type": "code",
   "execution_count": 39,
   "metadata": {},
   "outputs": [],
   "source": [
    "df_04['addr']=df_04.addr.apply(lambda x:str(x))"
   ]
  },
  {
   "cell_type": "markdown",
   "metadata": {},
   "source": [
    "# 區分有可用的地址 與 無可用的地址\n",
    "## 有可用的地址"
   ]
  },
  {
   "cell_type": "code",
   "execution_count": 40,
   "metadata": {},
   "outputs": [
    {
     "data": {
      "text/plain": [
       "(1331, 3)"
      ]
     },
     "execution_count": 40,
     "metadata": {},
     "output_type": "execute_result"
    }
   ],
   "source": [
    "df_04_1=df_04[df_04.addr.apply(lambda x:len(x)>9)].reset_index(drop=True)\n",
    "df_04_1.shape"
   ]
  },
  {
   "cell_type": "code",
   "execution_count": 41,
   "metadata": {},
   "outputs": [],
   "source": [
    "pattern = re.compile(r'..[市,縣].+[路,街].+')\n",
    "location=df_04_1.addr.apply(lambda x:pattern.findall((x)))\n",
    "\n",
    "addr01=[]\n",
    "for i in location:\n",
    "    if len(i)==1:\n",
    "        addr01.append(i[0])      \n",
    "    else:\n",
    "        addr01.append(np.nan)"
   ]
  },
  {
   "cell_type": "code",
   "execution_count": 42,
   "metadata": {},
   "outputs": [
    {
     "data": {
      "text/plain": [
       "(1080, 3)"
      ]
     },
     "execution_count": 42,
     "metadata": {},
     "output_type": "execute_result"
    }
   ],
   "source": [
    "df_04_1.addr=addr01\n",
    "df_04_1=df_04_1.dropna(subset=['addr']).reset_index(drop=True)\n",
    "df_04_1.shape"
   ]
  },
  {
   "cell_type": "code",
   "execution_count": 43,
   "metadata": {},
   "outputs": [
    {
     "data": {
      "text/html": [
       "<div>\n",
       "<style scoped>\n",
       "    .dataframe tbody tr th:only-of-type {\n",
       "        vertical-align: middle;\n",
       "    }\n",
       "\n",
       "    .dataframe tbody tr th {\n",
       "        vertical-align: top;\n",
       "    }\n",
       "\n",
       "    .dataframe thead th {\n",
       "        text-align: right;\n",
       "    }\n",
       "</style>\n",
       "<table border=\"1\" class=\"dataframe\">\n",
       "  <thead>\n",
       "    <tr style=\"text-align: right;\">\n",
       "      <th></th>\n",
       "      <th>id</th>\n",
       "      <th>addr</th>\n",
       "      <th>zone</th>\n",
       "      <th>lon</th>\n",
       "      <th>lat</th>\n",
       "      <th>check</th>\n",
       "    </tr>\n",
       "  </thead>\n",
       "  <tbody>\n",
       "    <tr>\n",
       "      <th>0</th>\n",
       "      <td>20120822000423</td>\n",
       "      <td>台北市北投區石新路1巷14號2樓</td>\n",
       "      <td>112.0</td>\n",
       "      <td>0.0</td>\n",
       "      <td>0.0</td>\n",
       "      <td>0</td>\n",
       "    </tr>\n",
       "    <tr>\n",
       "      <th>1</th>\n",
       "      <td>30015368002000</td>\n",
       "      <td>台南市中西區西區保安路132號10樓-1</td>\n",
       "      <td>700.0</td>\n",
       "      <td>0.0</td>\n",
       "      <td>0.0</td>\n",
       "      <td>0</td>\n",
       "    </tr>\n",
       "    <tr>\n",
       "      <th>2</th>\n",
       "      <td>19990222000954</td>\n",
       "      <td>高雄市鳳山區漢唐街101巷5號</td>\n",
       "      <td>830.0</td>\n",
       "      <td>0.0</td>\n",
       "      <td>0.0</td>\n",
       "      <td>0</td>\n",
       "    </tr>\n",
       "    <tr>\n",
       "      <th>3</th>\n",
       "      <td>19961117000134</td>\n",
       "      <td>台北市中正區北安路821巷2弄13號4樓</td>\n",
       "      <td>100.0</td>\n",
       "      <td>0.0</td>\n",
       "      <td>0.0</td>\n",
       "      <td>0</td>\n",
       "    </tr>\n",
       "    <tr>\n",
       "      <th>4</th>\n",
       "      <td>20090708000406</td>\n",
       "      <td>新北市淡水區八里堆沙崙路一段55號6樓</td>\n",
       "      <td>251.0</td>\n",
       "      <td>0.0</td>\n",
       "      <td>0.0</td>\n",
       "      <td>0</td>\n",
       "    </tr>\n",
       "  </tbody>\n",
       "</table>\n",
       "</div>"
      ],
      "text/plain": [
       "               id                  addr   zone  lon  lat  check\n",
       "0  20120822000423      台北市北投區石新路1巷14號2樓  112.0  0.0  0.0      0\n",
       "1  30015368002000  台南市中西區西區保安路132號10樓-1  700.0  0.0  0.0      0\n",
       "2  19990222000954       高雄市鳳山區漢唐街101巷5號  830.0  0.0  0.0      0\n",
       "3  19961117000134  台北市中正區北安路821巷2弄13號4樓  100.0  0.0  0.0      0\n",
       "4  20090708000406   新北市淡水區八里堆沙崙路一段55號6樓  251.0  0.0  0.0      0"
      ]
     },
     "execution_count": 43,
     "metadata": {},
     "output_type": "execute_result"
    }
   ],
   "source": [
    "df_04_1['lon']=float(0)\n",
    "df_04_1['lat']=float(0)\n",
    "df_04_1['check']=0\n",
    "df_04_1.head()"
   ]
  },
  {
   "cell_type": "markdown",
   "metadata": {},
   "source": [
    "## 與現有 搜尋過 經緯度的資料 比對"
   ]
  },
  {
   "cell_type": "code",
   "execution_count": 44,
   "metadata": {},
   "outputs": [
    {
     "name": "stdout",
     "output_type": "stream",
     "text": [
      "(133014, 6)\n"
     ]
    },
    {
     "data": {
      "text/html": [
       "<div>\n",
       "<style scoped>\n",
       "    .dataframe tbody tr th:only-of-type {\n",
       "        vertical-align: middle;\n",
       "    }\n",
       "\n",
       "    .dataframe tbody tr th {\n",
       "        vertical-align: top;\n",
       "    }\n",
       "\n",
       "    .dataframe thead th {\n",
       "        text-align: right;\n",
       "    }\n",
       "</style>\n",
       "<table border=\"1\" class=\"dataframe\">\n",
       "  <thead>\n",
       "    <tr style=\"text-align: right;\">\n",
       "      <th></th>\n",
       "      <th>id</th>\n",
       "      <th>addr</th>\n",
       "      <th>zone</th>\n",
       "      <th>lon</th>\n",
       "      <th>lat</th>\n",
       "      <th>check</th>\n",
       "    </tr>\n",
       "  </thead>\n",
       "  <tbody>\n",
       "    <tr>\n",
       "      <th>0</th>\n",
       "      <td>30012476701000</td>\n",
       "      <td>新北市貢寮區鳥崗街13號</td>\n",
       "      <td>228.0</td>\n",
       "      <td>122.00193</td>\n",
       "      <td>25.01326</td>\n",
       "      <td>1</td>\n",
       "    </tr>\n",
       "    <tr>\n",
       "      <th>1</th>\n",
       "      <td>20051030000358</td>\n",
       "      <td>新北市貢寮區福興村東興街４７號</td>\n",
       "      <td>228.0</td>\n",
       "      <td>121.99057</td>\n",
       "      <td>25.01205</td>\n",
       "      <td>1</td>\n",
       "    </tr>\n",
       "    <tr>\n",
       "      <th>2</th>\n",
       "      <td>20011022000749</td>\n",
       "      <td>新北市貢寮區春福連村臉香蘭街９號</td>\n",
       "      <td>228.0</td>\n",
       "      <td>121.98674</td>\n",
       "      <td>25.01985</td>\n",
       "      <td>1</td>\n",
       "    </tr>\n",
       "    <tr>\n",
       "      <th>3</th>\n",
       "      <td>20051219001868</td>\n",
       "      <td>新北市新店區東興街22號3樓DM退件</td>\n",
       "      <td>231.0</td>\n",
       "      <td>121.94981</td>\n",
       "      <td>25.01872</td>\n",
       "      <td>1</td>\n",
       "    </tr>\n",
       "    <tr>\n",
       "      <th>4</th>\n",
       "      <td>19980808000468</td>\n",
       "      <td>新北市貢寮區惠牴街25-2號</td>\n",
       "      <td>228.0</td>\n",
       "      <td>121.94576</td>\n",
       "      <td>25.01659</td>\n",
       "      <td>1</td>\n",
       "    </tr>\n",
       "  </tbody>\n",
       "</table>\n",
       "</div>"
      ],
      "text/plain": [
       "               id                addr   zone        lon       lat  check\n",
       "0  30012476701000        新北市貢寮區鳥崗街13號  228.0  122.00193  25.01326      1\n",
       "1  20051030000358     新北市貢寮區福興村東興街４７號  228.0  121.99057  25.01205      1\n",
       "2  20011022000749    新北市貢寮區春福連村臉香蘭街９號  228.0  121.98674  25.01985      1\n",
       "3  20051219001868  新北市新店區東興街22號3樓DM退件  231.0  121.94981  25.01872      1\n",
       "4  19980808000468      新北市貢寮區惠牴街25-2號  228.0  121.94576  25.01659      1"
      ]
     },
     "execution_count": 44,
     "metadata": {},
     "output_type": "execute_result"
    }
   ],
   "source": [
    "df_get_back=pd.read_excel(r'C:\\Users\\RT009223\\TestriteGroup\\滲透率專案\\02_adjusted data\\get back.xlsx')\n",
    "print(df_get_back.shape)\n",
    "df_get_back.head()"
   ]
  },
  {
   "cell_type": "code",
   "execution_count": 45,
   "metadata": {},
   "outputs": [],
   "source": [
    "df_get_back=df_get_back=df_get_back.loc[:,['id','lon','lat','check']]"
   ]
  },
  {
   "cell_type": "code",
   "execution_count": 46,
   "metadata": {},
   "outputs": [],
   "source": [
    "df_04_1=pd.merge(df_04_1.loc[:,['id','addr','zone']],df_get_back,on='id',how='left')"
   ]
  },
  {
   "cell_type": "code",
   "execution_count": 47,
   "metadata": {},
   "outputs": [],
   "source": [
    "df_04_1.lon[df_04_1.lon.isna()]=0\n",
    "df_04_1.lat[df_04_1.lat.isna()]=0\n",
    "df_04_1.check[df_04_1.check.isna()]=0"
   ]
  },
  {
   "cell_type": "code",
   "execution_count": 48,
   "metadata": {},
   "outputs": [
    {
     "data": {
      "text/html": [
       "<div>\n",
       "<style scoped>\n",
       "    .dataframe tbody tr th:only-of-type {\n",
       "        vertical-align: middle;\n",
       "    }\n",
       "\n",
       "    .dataframe tbody tr th {\n",
       "        vertical-align: top;\n",
       "    }\n",
       "\n",
       "    .dataframe thead th {\n",
       "        text-align: right;\n",
       "    }\n",
       "</style>\n",
       "<table border=\"1\" class=\"dataframe\">\n",
       "  <thead>\n",
       "    <tr style=\"text-align: right;\">\n",
       "      <th></th>\n",
       "      <th>id</th>\n",
       "      <th>addr</th>\n",
       "      <th>zone</th>\n",
       "      <th>lon</th>\n",
       "      <th>lat</th>\n",
       "      <th>check</th>\n",
       "    </tr>\n",
       "  </thead>\n",
       "  <tbody>\n",
       "    <tr>\n",
       "      <th>0</th>\n",
       "      <td>20120822000423</td>\n",
       "      <td>台北市北投區石新路1巷14號2樓</td>\n",
       "      <td>112.0</td>\n",
       "      <td>0.00000</td>\n",
       "      <td>0.00000</td>\n",
       "      <td>0.0</td>\n",
       "    </tr>\n",
       "    <tr>\n",
       "      <th>1</th>\n",
       "      <td>30015368002000</td>\n",
       "      <td>台南市中西區西區保安路132號10樓-1</td>\n",
       "      <td>700.0</td>\n",
       "      <td>0.00000</td>\n",
       "      <td>0.00000</td>\n",
       "      <td>0.0</td>\n",
       "    </tr>\n",
       "    <tr>\n",
       "      <th>2</th>\n",
       "      <td>19990222000954</td>\n",
       "      <td>高雄市鳳山區漢唐街101巷5號</td>\n",
       "      <td>830.0</td>\n",
       "      <td>0.00000</td>\n",
       "      <td>0.00000</td>\n",
       "      <td>0.0</td>\n",
       "    </tr>\n",
       "    <tr>\n",
       "      <th>3</th>\n",
       "      <td>19961117000134</td>\n",
       "      <td>台北市中正區北安路821巷2弄13號4樓</td>\n",
       "      <td>100.0</td>\n",
       "      <td>121.51087</td>\n",
       "      <td>25.02624</td>\n",
       "      <td>1.0</td>\n",
       "    </tr>\n",
       "    <tr>\n",
       "      <th>4</th>\n",
       "      <td>20090708000406</td>\n",
       "      <td>新北市淡水區八里堆沙崙路一段55號6樓</td>\n",
       "      <td>251.0</td>\n",
       "      <td>121.42898</td>\n",
       "      <td>25.18813</td>\n",
       "      <td>1.0</td>\n",
       "    </tr>\n",
       "  </tbody>\n",
       "</table>\n",
       "</div>"
      ],
      "text/plain": [
       "               id                  addr   zone        lon       lat  check\n",
       "0  20120822000423      台北市北投區石新路1巷14號2樓  112.0    0.00000   0.00000    0.0\n",
       "1  30015368002000  台南市中西區西區保安路132號10樓-1  700.0    0.00000   0.00000    0.0\n",
       "2  19990222000954       高雄市鳳山區漢唐街101巷5號  830.0    0.00000   0.00000    0.0\n",
       "3  19961117000134  台北市中正區北安路821巷2弄13號4樓  100.0  121.51087  25.02624    1.0\n",
       "4  20090708000406   新北市淡水區八里堆沙崙路一段55號6樓  251.0  121.42898  25.18813    1.0"
      ]
     },
     "execution_count": 48,
     "metadata": {},
     "output_type": "execute_result"
    }
   ],
   "source": [
    "df_04_1.head()"
   ]
  },
  {
   "cell_type": "markdown",
   "metadata": {},
   "source": [
    "## 與郵遞區號配對"
   ]
  },
  {
   "cell_type": "code",
   "execution_count": 49,
   "metadata": {},
   "outputs": [],
   "source": [
    "df_zone=pd.read_excel(r'C:\\Users\\RT009223\\TestriteGroup\\滲透率專案\\02_adjusted data\\郵遞區代碼.xlsx')"
   ]
  },
  {
   "cell_type": "code",
   "execution_count": 50,
   "metadata": {},
   "outputs": [],
   "source": [
    "df_04_1=pd.merge(df_04_1,df_zone,on='zone',how='left')"
   ]
  },
  {
   "cell_type": "code",
   "execution_count": 51,
   "metadata": {},
   "outputs": [
    {
     "data": {
      "text/plain": [
       "(1080, 9)"
      ]
     },
     "execution_count": 51,
     "metadata": {},
     "output_type": "execute_result"
    }
   ],
   "source": [
    "geom=[Point(data.lon,data.lat) for idx, data in df_04_1.iterrows()]\n",
    "crs = {'init': 'epsg:4326'}\n",
    "df_04_1 = gpd.GeoDataFrame(df_04_1, crs=crs, geometry=geom)\n",
    "df_04_1.shape"
   ]
  },
  {
   "cell_type": "code",
   "execution_count": 52,
   "metadata": {},
   "outputs": [
    {
     "data": {
      "text/plain": [
       "(1080, 13)"
      ]
     },
     "execution_count": 52,
     "metadata": {},
     "output_type": "execute_result"
    }
   ],
   "source": [
    "df_04_1= gpd.tools.sjoin(df_04_1,gdf, how=\"left\", op='intersects')\n",
    "df_04_1.shape"
   ]
  },
  {
   "cell_type": "code",
   "execution_count": 53,
   "metadata": {},
   "outputs": [
    {
     "data": {
      "text/html": [
       "<div>\n",
       "<style scoped>\n",
       "    .dataframe tbody tr th:only-of-type {\n",
       "        vertical-align: middle;\n",
       "    }\n",
       "\n",
       "    .dataframe tbody tr th {\n",
       "        vertical-align: top;\n",
       "    }\n",
       "\n",
       "    .dataframe thead th {\n",
       "        text-align: right;\n",
       "    }\n",
       "</style>\n",
       "<table border=\"1\" class=\"dataframe\">\n",
       "  <thead>\n",
       "    <tr style=\"text-align: right;\">\n",
       "      <th></th>\n",
       "      <th>id</th>\n",
       "      <th>addr</th>\n",
       "      <th>zone</th>\n",
       "      <th>lon</th>\n",
       "      <th>lat</th>\n",
       "      <th>check</th>\n",
       "      <th>縣市_left</th>\n",
       "      <th>行政區_left</th>\n",
       "      <th>geometry</th>\n",
       "      <th>index_right</th>\n",
       "      <th>縣市_right</th>\n",
       "      <th>行政區_right</th>\n",
       "      <th>村里</th>\n",
       "    </tr>\n",
       "  </thead>\n",
       "  <tbody>\n",
       "    <tr>\n",
       "      <th>0</th>\n",
       "      <td>20120822000423</td>\n",
       "      <td>台北市北投區石新路1巷14號2樓</td>\n",
       "      <td>112.0</td>\n",
       "      <td>0.00000</td>\n",
       "      <td>0.00000</td>\n",
       "      <td>0.0</td>\n",
       "      <td>台北市</td>\n",
       "      <td>北投區</td>\n",
       "      <td>POINT (0.00000 0.00000)</td>\n",
       "      <td>NaN</td>\n",
       "      <td>NaN</td>\n",
       "      <td>NaN</td>\n",
       "      <td>NaN</td>\n",
       "    </tr>\n",
       "    <tr>\n",
       "      <th>1</th>\n",
       "      <td>30015368002000</td>\n",
       "      <td>台南市中西區西區保安路132號10樓-1</td>\n",
       "      <td>700.0</td>\n",
       "      <td>0.00000</td>\n",
       "      <td>0.00000</td>\n",
       "      <td>0.0</td>\n",
       "      <td>台南市</td>\n",
       "      <td>中西區</td>\n",
       "      <td>POINT (0.00000 0.00000)</td>\n",
       "      <td>NaN</td>\n",
       "      <td>NaN</td>\n",
       "      <td>NaN</td>\n",
       "      <td>NaN</td>\n",
       "    </tr>\n",
       "    <tr>\n",
       "      <th>2</th>\n",
       "      <td>19990222000954</td>\n",
       "      <td>高雄市鳳山區漢唐街101巷5號</td>\n",
       "      <td>830.0</td>\n",
       "      <td>0.00000</td>\n",
       "      <td>0.00000</td>\n",
       "      <td>0.0</td>\n",
       "      <td>高雄市</td>\n",
       "      <td>鳳山區</td>\n",
       "      <td>POINT (0.00000 0.00000)</td>\n",
       "      <td>NaN</td>\n",
       "      <td>NaN</td>\n",
       "      <td>NaN</td>\n",
       "      <td>NaN</td>\n",
       "    </tr>\n",
       "    <tr>\n",
       "      <th>3</th>\n",
       "      <td>19961117000134</td>\n",
       "      <td>台北市中正區北安路821巷2弄13號4樓</td>\n",
       "      <td>100.0</td>\n",
       "      <td>121.51087</td>\n",
       "      <td>25.02624</td>\n",
       "      <td>1.0</td>\n",
       "      <td>台北市</td>\n",
       "      <td>中正區</td>\n",
       "      <td>POINT (121.51087 25.02624)</td>\n",
       "      <td>7328.0</td>\n",
       "      <td>台北市</td>\n",
       "      <td>中正區</td>\n",
       "      <td>永功里</td>\n",
       "    </tr>\n",
       "    <tr>\n",
       "      <th>4</th>\n",
       "      <td>20090708000406</td>\n",
       "      <td>新北市淡水區八里堆沙崙路一段55號6樓</td>\n",
       "      <td>251.0</td>\n",
       "      <td>121.42898</td>\n",
       "      <td>25.18813</td>\n",
       "      <td>1.0</td>\n",
       "      <td>新北市</td>\n",
       "      <td>淡水區</td>\n",
       "      <td>POINT (121.42898 25.18813)</td>\n",
       "      <td>7139.0</td>\n",
       "      <td>新北市</td>\n",
       "      <td>淡水區</td>\n",
       "      <td>大庄里</td>\n",
       "    </tr>\n",
       "  </tbody>\n",
       "</table>\n",
       "</div>"
      ],
      "text/plain": [
       "               id                  addr   zone        lon       lat  check  \\\n",
       "0  20120822000423      台北市北投區石新路1巷14號2樓  112.0    0.00000   0.00000    0.0   \n",
       "1  30015368002000  台南市中西區西區保安路132號10樓-1  700.0    0.00000   0.00000    0.0   \n",
       "2  19990222000954       高雄市鳳山區漢唐街101巷5號  830.0    0.00000   0.00000    0.0   \n",
       "3  19961117000134  台北市中正區北安路821巷2弄13號4樓  100.0  121.51087  25.02624    1.0   \n",
       "4  20090708000406   新北市淡水區八里堆沙崙路一段55號6樓  251.0  121.42898  25.18813    1.0   \n",
       "\n",
       "  縣市_left 行政區_left                    geometry  index_right 縣市_right  \\\n",
       "0     台北市      北投區     POINT (0.00000 0.00000)          NaN      NaN   \n",
       "1     台南市      中西區     POINT (0.00000 0.00000)          NaN      NaN   \n",
       "2     高雄市      鳳山區     POINT (0.00000 0.00000)          NaN      NaN   \n",
       "3     台北市      中正區  POINT (121.51087 25.02624)       7328.0      台北市   \n",
       "4     新北市      淡水區  POINT (121.42898 25.18813)       7139.0      新北市   \n",
       "\n",
       "  行政區_right   村里  \n",
       "0       NaN  NaN  \n",
       "1       NaN  NaN  \n",
       "2       NaN  NaN  \n",
       "3       中正區  永功里  \n",
       "4       淡水區  大庄里  "
      ]
     },
     "execution_count": 53,
     "metadata": {},
     "output_type": "execute_result"
    }
   ],
   "source": [
    "df_04_1.head()"
   ]
  },
  {
   "cell_type": "code",
   "execution_count": 54,
   "metadata": {},
   "outputs": [
    {
     "name": "stdout",
     "output_type": "stream",
     "text": [
      "(53, 13)\n",
      "(779, 13)\n",
      "(65, 13)\n",
      "(183, 13)\n"
     ]
    }
   ],
   "source": [
    "# 無 map 無 zone\n",
    "df_04_1_1=df_04_1[(df_04_1['行政區_left'].isna()&df_04_1['村里'].isna())]\n",
    "print(df_04_1_1.shape)\n",
    "\n",
    "# 無 map 有 zone\n",
    "df_04_1_2=df_04_1[(-(df_04_1['行政區_left'].isna())&(df_04_1['村里'].isna()))]\n",
    "print(df_04_1_2.shape)\n",
    "\n",
    "# 有 map 無有 zone\n",
    "df_04_1_3=df_04_1[(df_04_1['行政區_left'].isna()&(-df_04_1['村里'].isna()))]\n",
    "print(df_04_1_3.shape)\n",
    "\n",
    "# 有 map 有 zone\n",
    "df_04_1_4=df_04_1[(-(df_04_1['行政區_left'].isna())&(-df_04_1['村里'].isna()))]\n",
    "print(df_04_1_4.shape)"
   ]
  },
  {
   "cell_type": "markdown",
   "metadata": {},
   "source": [
    "###  有 map 有 zone 合不合"
   ]
  },
  {
   "cell_type": "code",
   "execution_count": 55,
   "metadata": {},
   "outputs": [
    {
     "name": "stdout",
     "output_type": "stream",
     "text": [
      "(146, 13)\n",
      "(37, 13)\n"
     ]
    }
   ],
   "source": [
    "df_04_1_4_1=df_04_1_4[(df_04_1_4['行政區_left']==df_04_1_4['行政區_right'])]\n",
    "print(df_04_1_4_1.shape)\n",
    "\n",
    "df_04_1_4_2=df_04_1_4[-(df_04_1_4['行政區_left']==df_04_1_4['行政區_right'])]\n",
    "print(df_04_1_4_2.shape)"
   ]
  },
  {
   "cell_type": "markdown",
   "metadata": {},
   "source": [
    "### 調整各組資料"
   ]
  },
  {
   "cell_type": "code",
   "execution_count": 56,
   "metadata": {},
   "outputs": [],
   "source": [
    "df_04_1_1=df_04_1_1.loc[:,['id']]\n",
    "\n",
    "df_04_1_2=df_04_1_2.loc[:,['id','縣市_left','行政區_left']]\n",
    "df_04_1_2.columns=['id','縣市','行政區']\n",
    "\n",
    "df_04_1_3=df_04_1_3.loc[:,['id','縣市_right','行政區_right','村里']]\n",
    "df_04_1_3.columns=['id','縣市','行政區','村里']\n",
    "\n",
    "df_04_1_4_1=df_04_1_4_1.loc[:,['id','縣市_right','行政區_right','村里']]\n",
    "df_04_1_4_1.columns=['id','縣市','行政區','村里']\n",
    "\n",
    "df_04_1_4_2=df_04_1_4_2.loc[:,['id','縣市_left','行政區_left']]\n",
    "df_04_1_4_2.columns=['id','縣市','行政區']"
   ]
  },
  {
   "cell_type": "code",
   "execution_count": 57,
   "metadata": {},
   "outputs": [
    {
     "data": {
      "text/plain": [
       "(1080, 4)"
      ]
     },
     "execution_count": 57,
     "metadata": {},
     "output_type": "execute_result"
    }
   ],
   "source": [
    "df_04_2=pd.concat([df_04_1_4_1,df_04_1_3,df_04_1_4_2,df_04_1_2,df_04_1_1])\n",
    "df_04_2.shape"
   ]
  },
  {
   "cell_type": "code",
   "execution_count": 58,
   "metadata": {},
   "outputs": [
    {
     "data": {
      "text/plain": [
       "(1080, 4)"
      ]
     },
     "execution_count": 58,
     "metadata": {},
     "output_type": "execute_result"
    }
   ],
   "source": [
    "df_04_2.drop_duplicates(subset=['id']).shape"
   ]
  },
  {
   "cell_type": "code",
   "execution_count": null,
   "metadata": {},
   "outputs": [],
   "source": []
  },
  {
   "cell_type": "markdown",
   "metadata": {},
   "source": [
    "## 無可用地址"
   ]
  },
  {
   "cell_type": "code",
   "execution_count": 59,
   "metadata": {},
   "outputs": [
    {
     "data": {
      "text/plain": [
       "(1686, 3)"
      ]
     },
     "execution_count": 59,
     "metadata": {},
     "output_type": "execute_result"
    }
   ],
   "source": [
    "df_04_3=df_04[-df_04.id.isin(df_04_2.id)]\n",
    "df_04_3.shape"
   ]
  },
  {
   "cell_type": "code",
   "execution_count": 60,
   "metadata": {},
   "outputs": [],
   "source": [
    "df_04_3=pd.merge(df_04_3,df_zone,on='zone',how='left')"
   ]
  },
  {
   "cell_type": "code",
   "execution_count": 61,
   "metadata": {},
   "outputs": [
    {
     "name": "stdout",
     "output_type": "stream",
     "text": [
      "(363, 5)\n",
      "(1323, 5)\n"
     ]
    }
   ],
   "source": [
    "df_04_3_1=df_04_3[-df_04_3['行政區'].isna()]\n",
    "print(df_04_3_1.shape)\n",
    "\n",
    "df_04_3_2=df_04_3[df_04_3['行政區'].isna()]\n",
    "print(df_04_3_2.shape)"
   ]
  },
  {
   "cell_type": "code",
   "execution_count": 62,
   "metadata": {},
   "outputs": [],
   "source": [
    "df_04_3_1=df_04_3_1.loc[:,['id','縣市','行政區']]\n",
    "df_04_3_2=df_04_3_2.loc[:,['id']]"
   ]
  },
  {
   "cell_type": "markdown",
   "metadata": {},
   "source": [
    "# 完整 SLQ無正確地址的資料"
   ]
  },
  {
   "cell_type": "code",
   "execution_count": 63,
   "metadata": {},
   "outputs": [
    {
     "name": "stdout",
     "output_type": "stream",
     "text": [
      "(2766, 4)\n",
      "(2766, 4)\n"
     ]
    }
   ],
   "source": [
    "df_04=pd.concat([df_04_2,df_04_3_1,df_04_3_2])\n",
    "print(df_04.shape)\n",
    "print(df_04.drop_duplicates(subset=['id']).shape)"
   ]
  },
  {
   "cell_type": "markdown",
   "metadata": {},
   "source": [
    "# 存檔"
   ]
  },
  {
   "cell_type": "code",
   "execution_count": 64,
   "metadata": {},
   "outputs": [],
   "source": [
    "df_04.to_csv('C:/Users/RT009223/TestriteGroup/滲透率專案/02_adjusted data/'+save_file+'會員位置(無正確地址的資料)_一般卡_'+save_year+'.txt',index=0)"
   ]
  },
  {
   "cell_type": "code",
   "execution_count": null,
   "metadata": {},
   "outputs": [],
   "source": []
  }
 ],
 "metadata": {
  "kernelspec": {
   "display_name": "Python 3",
   "language": "python",
   "name": "python3"
  },
  "language_info": {
   "codemirror_mode": {
    "name": "ipython",
    "version": 3
   },
   "file_extension": ".py",
   "mimetype": "text/x-python",
   "name": "python",
   "nbconvert_exporter": "python",
   "pygments_lexer": "ipython3",
   "version": "3.7.6"
  }
 },
 "nbformat": 4,
 "nbformat_minor": 4
}

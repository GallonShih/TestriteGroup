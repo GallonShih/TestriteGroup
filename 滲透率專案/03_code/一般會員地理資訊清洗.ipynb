{
 "cells": [
  {
   "cell_type": "code",
   "execution_count": 1,
   "metadata": {},
   "outputs": [],
   "source": [
    "%matplotlib inline\n",
    "import numpy as np\n",
    "import pandas as pd\n",
    "import matplotlib.pyplot as plt"
   ]
  },
  {
   "cell_type": "code",
   "execution_count": 2,
   "metadata": {},
   "outputs": [],
   "source": [
    "import re\n",
    "\n",
    "import geopandas as gpd\n",
    "import requests,json\n",
    "\n",
    "\n",
    "from shapely import geos\n",
    "from shapely.geometry import Point\n",
    "import fiona\n",
    "from fiona.crs import from_epsg,from_string\n",
    "\n",
    "from geopandas import GeoDataFrame\n",
    "from shapely.geometry import Polygon\n",
    "from geopandas import GeoSeries\n",
    "\n",
    "\n",
    "from shapely import geometry\n",
    "from shapely.geometry import shape,LineString,Point,Polygon\n",
    "\n",
    "import osmnx as ox\n",
    "import networkx as nx\n",
    "\n",
    "import folium\n",
    "\n",
    "from folium import IFrame"
   ]
  },
  {
   "cell_type": "code",
   "execution_count": 3,
   "metadata": {},
   "outputs": [],
   "source": [
    "def rest(address):\n",
    "    try:\n",
    "        url = 'https://api.tomtom.com/search/2/geocode/{}.json?&key=h2n93GznJsnsDHtv2vPpdT9GmJijp9o9&countrySet=TWN&language=zh-TW&limit=1'.format(address)\n",
    "        response = requests.get(url)\n",
    "        data = response.text\n",
    "        js = json.loads(str(data))\n",
    "        return js['results'][0]['position']\n",
    "    except Exception as e:\n",
    "        print(f'An Error occurred: {e}')\n",
    "        return {'lat':0,'lon':0}\n",
    "    \n",
    "def trans(gdf):\n",
    "    gdf.crs = {'init' :'epsg:3824'} # 避免資料沒設，這邊再重新給一次\n",
    "    gdf=gdf.to_crs({'init' :'epsg:4326'})\n",
    "    return gdf\n",
    "\n",
    "def utf2asc(s):\n",
    "    return str(str(s).encode('ascii', 'xmlcharrefreplace'))[2:-1]\n",
    "\n",
    "heading3 = \"\"\"<h3>{}</h3>\"\"\".format"
   ]
  },
  {
   "cell_type": "code",
   "execution_count": 4,
   "metadata": {},
   "outputs": [],
   "source": [
    "import warnings\n",
    "warnings.filterwarnings(\"ignore\")"
   ]
  },
  {
   "cell_type": "markdown",
   "metadata": {},
   "source": [
    "# 設定row data的資料夾"
   ]
  },
  {
   "cell_type": "code",
   "execution_count": 5,
   "metadata": {},
   "outputs": [],
   "source": [
    "import os\n",
    "os.chdir(r'C:\\Users\\RT009223\\TestriteGroup\\滲透率專案\\01_raw data')"
   ]
  },
  {
   "cell_type": "code",
   "execution_count": 8,
   "metadata": {},
   "outputs": [],
   "source": [
    "filename='HD_ALL'\n",
    "save_file='HD'\n",
    "save_year='ALL'"
   ]
  },
  {
   "cell_type": "markdown",
   "metadata": {},
   "source": [
    "# SQL有正確地址的資料"
   ]
  },
  {
   "cell_type": "code",
   "execution_count": 9,
   "metadata": {},
   "outputs": [
    {
     "data": {
      "text/plain": [
       "(8646, 4)"
      ]
     },
     "execution_count": 9,
     "metadata": {},
     "output_type": "execute_result"
    }
   ],
   "source": [
    "df_01=pd.read_csv(filename+\"一般卡會員(有完整地址).csv\",error_bad_lines=False,header=None)\n",
    "df_01.columns=['id','addr','lon','lat']\n",
    "df_01.shape"
   ]
  },
  {
   "cell_type": "markdown",
   "metadata": {},
   "source": [
    "## 第一次抓取 村里"
   ]
  },
  {
   "cell_type": "code",
   "execution_count": 10,
   "metadata": {},
   "outputs": [],
   "source": [
    "pattern = re.compile(r'(..[市,縣])(.{1,2}[市,區,鄉,鎮])(.{2,3}[里,村])')\n",
    "location=df_01.addr.apply(lambda x:pattern.findall(x))\n",
    "\n",
    "addr01=[]\n",
    "addr02=[]\n",
    "addr03=[]\n",
    "for i in location:\n",
    "    if len(i)==1:\n",
    "        addr01.append(i[0][0])\n",
    "        addr02.append(i[0][1])\n",
    "        addr03.append(i[0][2])        \n",
    "    else:\n",
    "        addr01.append(np.nan)\n",
    "        addr02.append(np.nan)\n",
    "        addr03.append(np.nan)  "
   ]
  },
  {
   "cell_type": "code",
   "execution_count": 11,
   "metadata": {},
   "outputs": [],
   "source": [
    "df_01['縣市']=addr01\n",
    "df_01['行政區']=addr02\n",
    "df_01['村里']=addr03"
   ]
  },
  {
   "cell_type": "markdown",
   "metadata": {},
   "source": [
    "### 第一次 有村里 資料"
   ]
  },
  {
   "cell_type": "code",
   "execution_count": 12,
   "metadata": {},
   "outputs": [
    {
     "data": {
      "text/plain": [
       "(8644, 7)"
      ]
     },
     "execution_count": 12,
     "metadata": {},
     "output_type": "execute_result"
    }
   ],
   "source": [
    "df_02=df_01.dropna()\n",
    "df_02.shape"
   ]
  },
  {
   "cell_type": "code",
   "execution_count": null,
   "metadata": {},
   "outputs": [],
   "source": []
  },
  {
   "cell_type": "markdown",
   "metadata": {},
   "source": [
    "### 村里邊界資料"
   ]
  },
  {
   "cell_type": "code",
   "execution_count": 13,
   "metadata": {},
   "outputs": [
    {
     "name": "stdout",
     "output_type": "stream",
     "text": [
      "(7760, 4)\n"
     ]
    },
    {
     "data": {
      "text/html": [
       "<div>\n",
       "<style scoped>\n",
       "    .dataframe tbody tr th:only-of-type {\n",
       "        vertical-align: middle;\n",
       "    }\n",
       "\n",
       "    .dataframe tbody tr th {\n",
       "        vertical-align: top;\n",
       "    }\n",
       "\n",
       "    .dataframe thead th {\n",
       "        text-align: right;\n",
       "    }\n",
       "</style>\n",
       "<table border=\"1\" class=\"dataframe\">\n",
       "  <thead>\n",
       "    <tr style=\"text-align: right;\">\n",
       "      <th></th>\n",
       "      <th>縣市</th>\n",
       "      <th>行政區</th>\n",
       "      <th>村里</th>\n",
       "      <th>geometry</th>\n",
       "    </tr>\n",
       "  </thead>\n",
       "  <tbody>\n",
       "    <tr>\n",
       "      <th>0</th>\n",
       "      <td>高雄市</td>\n",
       "      <td>林園區</td>\n",
       "      <td>中門里</td>\n",
       "      <td>POLYGON ((120.36772 22.49564, 120.36427 22.498...</td>\n",
       "    </tr>\n",
       "    <tr>\n",
       "      <th>1</th>\n",
       "      <td>高雄市</td>\n",
       "      <td>林園區</td>\n",
       "      <td>港埔里</td>\n",
       "      <td>POLYGON ((120.37325 22.49123, 120.37147 22.492...</td>\n",
       "    </tr>\n",
       "    <tr>\n",
       "      <th>2</th>\n",
       "      <td>高雄市</td>\n",
       "      <td>旗津區</td>\n",
       "      <td>上竹里</td>\n",
       "      <td>POLYGON ((120.28976 22.57317, 120.28577 22.577...</td>\n",
       "    </tr>\n",
       "    <tr>\n",
       "      <th>3</th>\n",
       "      <td>高雄市</td>\n",
       "      <td>旗津區</td>\n",
       "      <td>中興里</td>\n",
       "      <td>POLYGON ((120.30320 22.55568, 120.30284 22.557...</td>\n",
       "    </tr>\n",
       "    <tr>\n",
       "      <th>4</th>\n",
       "      <td>連江縣</td>\n",
       "      <td>南竿鄉</td>\n",
       "      <td>津沙村</td>\n",
       "      <td>POLYGON ((119.91684 26.14109, 119.91683 26.141...</td>\n",
       "    </tr>\n",
       "  </tbody>\n",
       "</table>\n",
       "</div>"
      ],
      "text/plain": [
       "    縣市  行政區   村里                                           geometry\n",
       "0  高雄市  林園區  中門里  POLYGON ((120.36772 22.49564, 120.36427 22.498...\n",
       "1  高雄市  林園區  港埔里  POLYGON ((120.37325 22.49123, 120.37147 22.492...\n",
       "2  高雄市  旗津區  上竹里  POLYGON ((120.28976 22.57317, 120.28577 22.577...\n",
       "3  高雄市  旗津區  中興里  POLYGON ((120.30320 22.55568, 120.30284 22.557...\n",
       "4  連江縣  南竿鄉  津沙村  POLYGON ((119.91684 26.14109, 119.91683 26.141..."
      ]
     },
     "execution_count": 13,
     "metadata": {},
     "output_type": "execute_result"
    }
   ],
   "source": [
    "gdf=gpd.read_file(r'C:\\Users\\RT009223\\TestriteGroup\\滲透率專案\\02_adjusted data\\geo data\\VILLAGE_MOI_1090423.shp',encoding='utf-8')\n",
    "gdf=gdf.loc[:,['COUNTYNAME','TOWNNAME','VILLNAME','geometry']]\n",
    "gdf=trans(gdf)\n",
    "gdf=gdf.dropna().reset_index(drop=True)\n",
    "print(gdf.shape)\n",
    "\n",
    "gdf.columns=['縣市','行政區','村里','geometry']\n",
    "gdf['縣市']=list(gdf['縣市'].apply(lambda x:x.replace('臺','台')))\n",
    "gdf['行政區']=list(gdf['行政區'].apply(lambda x:x.replace('臺','台')))\n",
    "gdf['村里']=list(gdf['村里'].apply(lambda x:x.replace('臺','台')))\n",
    "\n",
    "df_02['縣市']=list(df_02['縣市'].apply(lambda x:x.replace('臺','台')))\n",
    "df_02['行政區']=list(df_02['行政區'].apply(lambda x:x.replace('臺','台')))\n",
    "df_02['村里']=list(df_02['村里'].apply(lambda x:x.replace('臺','台')))\n",
    "\n",
    "gdf['村里']=gdf['村里'].apply(lambda x:x.replace('舘','館'))\n",
    "df_02['村里']=df_02['村里'].apply(lambda x:x.replace('舘','館'))\n",
    "gdf['村里']=gdf['村里'].apply(lambda x:x.replace('双','雙'))\n",
    "df_02['村里']=df_02['村里'].apply(lambda x:x.replace('双','雙'))\n",
    "gdf['村里']=gdf['村里'].apply(lambda x:x.replace('石[曹]里','石𥕢里'))\n",
    "gdf['村里']=gdf['村里'].apply(lambda x:x.replace('鷄林里','雞林里'))\n",
    "gdf['村里']=gdf['村里'].apply(lambda x:x.replace('水磜村','水祭村'))\n",
    "gdf['村里']=gdf['村里'].apply(lambda x:x.replace('珊湖里','珊瑚里'))\n",
    "\n",
    "gdf['村里']=gdf['村里'].apply(lambda x:x.replace('欍','瓊'))\n",
    "df_02['村里']=df_02['村里'].apply(lambda x:x.replace('溝垻里','溝埧里'))\n",
    "df_02['村里']=df_02['村里'].apply(lambda x:x.replace('崙峰里','崙峯里'))\n",
    "gdf.head()"
   ]
  },
  {
   "cell_type": "markdown",
   "metadata": {},
   "source": [
    "### 檢查1 & 字元調整"
   ]
  },
  {
   "cell_type": "code",
   "execution_count": 14,
   "metadata": {},
   "outputs": [],
   "source": [
    "df_02['村里']=df_02['村里'].apply(lambda x:x.replace('糖部里','糖廍里'))\n",
    "df_02['村里']=df_02['村里'].apply(lambda x:x.replace('糖?里','糖廍里'))\n",
    "df_02['村里']=df_02['村里'].apply(lambda x:x.replace('磚?里','磚磘里'))\n",
    "df_02['村里']=df_02['村里'].apply(lambda x:x.replace('磚瑤里','磚磘里'))\n",
    "df_02['村里']=df_02['村里'].apply(lambda x:x.replace('珊湖里','珊瑚里'))\n",
    "df_02['村里']=df_02['村里'].apply(lambda x:x.replace('下?里','下廍里'))\n",
    "\n",
    "df_02.loc[df_02['行政區']=='彰化市',['村里']]=df_02.loc[df_02['行政區']=='彰化市',['村里']].apply(lambda x:x.replace('南?里','南瑶里'))\n",
    "df_02.loc[df_02['行政區']=='官田區',['村里']]=df_02.loc[df_02['行政區']=='官田區',['村里']].apply(lambda x:x.replace('南?里','南廍里'))\n",
    "#df_02['村里']=df_02['村里'].apply(lambda x:x.replace('南?里','南瑶里'))\n",
    "\n",
    "\n",
    "df_02['村里']=df_02['村里'].apply(lambda x:x.replace('崙?里','崙峯里'))\n",
    "df_02['村里']=df_02['村里'].apply(lambda x:x.replace('?子里','廍子里'))\n",
    "\n",
    "df_02['村里']=df_02['村里'].apply(lambda x:x.replace('石?村','石硦村'))\n",
    "df_02['村里']=df_02['村里'].apply(lambda x:x.replace('上?里','上館里'))\n",
    "df_02['村里']=df_02['村里'].apply(lambda x:x.replace('永?里','永館里'))\n",
    "\n",
    "df_02['村里']=df_02['村里'].apply(lambda x:x.replace('瓦?村','瓦磘村'))\n",
    "df_02['村里']=df_02['村里'].apply(lambda x:x.replace('瓦?里','瓦磘里'))\n",
    "df_02['村里']=df_02['村里'].apply(lambda x:x.replace('五?里','五峯里'))\n",
    "df_02['村里']=df_02['村里'].apply(lambda x:x.replace('?行里','塩行里'))\n",
    "df_02['村里']=df_02['村里'].apply(lambda x:x.replace('?廷里','峯廷里'))\n",
    "\n",
    "df_02['村里']=df_02['村里'].apply(lambda x:x.replace('?興里','塩興里'))\n",
    "df_02['村里']=df_02['村里'].apply(lambda x:x.replace('?廷里','峯廷里'))\n",
    "\n",
    "df_02['村里']=df_02['村里'].apply(lambda x:x.replace('公?里','公館里'))\n",
    "\n",
    "df_02['村里']=df_02['村里'].apply(lambda x:x.replace('?洲里','塩洲里'))\n",
    "df_02['村里']=df_02['村里'].apply(lambda x:x.replace('?龍里','雙龍里'))\n",
    "\n",
    "#df_02['村里']=df_02['村里'].apply(lambda x:x.replace('?林里','雞林里'))\n",
    "df_02.loc[df_02['行政區']=='竹東鎮',['村里']]=df_02.loc[df_02['行政區']=='竹東鎮',['村里']].apply(lambda x:x.replace('?林里','雞林里'))\n",
    "\n",
    "df_02.loc[df_02['行政區']=='大園區',['村里']]=df_02.loc[df_02['行政區']=='大園區',['村里']].apply(lambda x:x.replace('?林里','菓林里'))\n",
    "\n",
    "df_02['村里']=df_02['村里'].apply(lambda x:x.replace('?寮里','獇寮里'))\n",
    "df_02['村里']=df_02['村里'].apply(lambda x:x.replace('新?里','新廍里'))\n",
    "\n",
    "df_02['村里']=df_02['村里'].apply(lambda x:x.replace('蔗?里','蔗廍里'))\n",
    "df_02['村里']=df_02['村里'].apply(lambda x:x.replace('?埔里','坔埔里'))\n",
    "df_02['村里']=df_02['村里'].apply(lambda x:x.replace('?榔里','槺榔里'))\n",
    "df_02['村里']=df_02['村里'].apply(lambda x:x.replace('?江里','晋江里'))\n",
    "df_02['村里']=df_02['村里'].apply(lambda x:x.replace('?福村','雙福村'))\n",
    "df_02['村里']=df_02['村里'].apply(lambda x:x.replace('爪?里','爪峯里'))\n",
    "\n",
    "df_02['村里']=df_02['村里'].apply(lambda x:x.replace('舊?村','舊館村'))\n",
    "df_02['村里']=df_02['村里'].apply(lambda x:x.replace('南?村','南館村'))\n",
    "\n",
    "df_02['村里']=df_02['村里'].apply(lambda x:x.replace('灰?里','灰磘里'))\n",
    "df_02['村里']=df_02['村里'].apply(lambda x:x.replace('三?村','三廍村'))\n",
    "\n",
    "\n",
    "df_02.loc[df_02['行政區']=='將軍區',['村里']]=df_02.loc[df_02['行政區']=='將軍區',['村里']].apply(lambda x:x.replace('忠興里','忠嘉里'))\n",
    "\n",
    "df_02['村里']=df_02['村里'].apply(lambda x:x.replace('下部里','下廍里'))\n",
    "df_02.loc[df_02['行政區']=='埔鹽鄉',['村里']]=df_02.loc[df_02['行政區']=='埔鹽鄉',['村里']].apply(lambda x:x.replace('?子村','廍子村'))\n",
    "df_02.loc[df_02['行政區']=='四湖鄉',['村里']]=df_02.loc[df_02['行政區']=='四湖鄉',['村里']].apply(lambda x:x.replace('?子村','萡子村'))\n",
    "\n",
    "df_02['村里']=df_02['村里'].apply(lambda x:x.replace('?田里','塩田里'))\n",
    "df_02['村里']=df_02['村里'].apply(lambda x:x.replace('山?里','山脚里'))\n",
    "\n",
    "df_02.loc[df_02['行政區']=='北埔鄉',['村里']]=df_02.loc[df_02['行政區']=='北埔鄉',['村里']].apply(lambda x:x.replace('水?村','水祭村'))\n",
    "df_02.loc[df_02['行政區']=='北埔鄉',['村里']]=df_02.loc[df_02['行政區']=='北埔鄉',['村里']].apply(lambda x:x.replace('水？村','水祭村'))\n",
    "df_02.loc[df_02['行政區']=='瑞芳區',['村里']]=df_02.loc[df_02['行政區']=='瑞芳區',['村里']].apply(lambda x:x.replace('?洞里','濂洞里'))\n",
    "\n",
    "df_02.loc[df_02['行政區']=='埔心鄉',['村里']]=df_02.loc[df_02['行政區']=='埔心鄉',['村里']].apply(lambda x:x.replace('埤?村','埤脚村'))\n",
    "df_02.loc[df_02['行政區']=='彰化市',['村里']]=df_02.loc[df_02['行政區']=='彰化市',['村里']].apply(lambda x:x.replace('寶?里','寶廍里'))"
   ]
  },
  {
   "cell_type": "code",
   "execution_count": 15,
   "metadata": {},
   "outputs": [
    {
     "data": {
      "text/html": [
       "<div>\n",
       "<style scoped>\n",
       "    .dataframe tbody tr th:only-of-type {\n",
       "        vertical-align: middle;\n",
       "    }\n",
       "\n",
       "    .dataframe tbody tr th {\n",
       "        vertical-align: top;\n",
       "    }\n",
       "\n",
       "    .dataframe thead th {\n",
       "        text-align: right;\n",
       "    }\n",
       "</style>\n",
       "<table border=\"1\" class=\"dataframe\">\n",
       "  <thead>\n",
       "    <tr style=\"text-align: right;\">\n",
       "      <th></th>\n",
       "      <th>村里</th>\n",
       "      <th>n</th>\n",
       "    </tr>\n",
       "  </thead>\n",
       "  <tbody>\n",
       "    <tr>\n",
       "      <th>0</th>\n",
       "      <td>?北里</td>\n",
       "      <td>1</td>\n",
       "    </tr>\n",
       "    <tr>\n",
       "      <th>1</th>\n",
       "      <td>上里</td>\n",
       "      <td>1</td>\n",
       "    </tr>\n",
       "  </tbody>\n",
       "</table>\n",
       "</div>"
      ],
      "text/plain": [
       "    村里  n\n",
       "0  ?北里  1\n",
       "1  上里  1"
      ]
     },
     "execution_count": 15,
     "metadata": {},
     "output_type": "execute_result"
    }
   ],
   "source": [
    "site1=df_02[-(df_02['縣市']+df_02['行政區']+df_02['村里']).isin(gdf['縣市']+gdf['行政區']+gdf['村里'])].groupby(['村里'])['行政區'].nunique().reset_index(name='n').sort_values(by='n',ascending=False).reset_index(drop=True)\n",
    "site1.head(10)"
   ]
  },
  {
   "cell_type": "code",
   "execution_count": 16,
   "metadata": {},
   "outputs": [
    {
     "name": "stdout",
     "output_type": "stream",
     "text": [
      "0 ?北里 ['左營區']\n",
      "1 上里 ['竹東鎮']\n"
     ]
    }
   ],
   "source": [
    "number=0\n",
    "for i in site1[site1.n>0]['村里']:\n",
    "    print(number,i, df_02[df_02['村里']==i]['行政區'].unique())\n",
    "    number+=1"
   ]
  },
  {
   "cell_type": "code",
   "execution_count": 17,
   "metadata": {},
   "outputs": [
    {
     "data": {
      "text/plain": [
       "\"\\nsite2=site1[site1.n>0]['村里'][48]\\nsite3=df_02[df_02['村里']==site2]['行政區'].unique()\\n\\nfor i in site3:\\n    print(i,list(gdf[gdf['行政區']==i]['村里'][gdf[gdf['行政區']==i]['村里'].str.contains('龜')]))\\n\""
      ]
     },
     "execution_count": 17,
     "metadata": {},
     "output_type": "execute_result"
    }
   ],
   "source": [
    "'''\n",
    "site2=site1[site1.n>0]['村里'][48]\n",
    "site3=df_02[df_02['村里']==site2]['行政區'].unique()\n",
    "\n",
    "for i in site3:\n",
    "    print(i,list(gdf[gdf['行政區']==i]['村里'][gdf[gdf['行政區']==i]['村里'].str.contains('龜')]))\n",
    "'''"
   ]
  },
  {
   "cell_type": "code",
   "execution_count": null,
   "metadata": {},
   "outputs": [],
   "source": []
  },
  {
   "cell_type": "code",
   "execution_count": 18,
   "metadata": {},
   "outputs": [],
   "source": [
    "#df_02[-(df_02['縣市']+df_02['行政區']+df_02['村里']).isin(gdf['縣市']+gdf['行政區']+gdf['村里'])]\n",
    "#df_02[(df_02['行政區']+df_02['村里'])=='埔心鄉埤脚村']"
   ]
  },
  {
   "cell_type": "code",
   "execution_count": 19,
   "metadata": {},
   "outputs": [],
   "source": [
    "#gdf[(gdf['行政區']+gdf['村里'])=='埔心鄉埤霞村']"
   ]
  },
  {
   "cell_type": "code",
   "execution_count": 20,
   "metadata": {},
   "outputs": [],
   "source": [
    "#df_02[-(df_02['縣市']+df_02['行政區']+df_02['村里']).isin(gdf['縣市']+gdf['行政區']+gdf['村里'])].groupby(['行政區','村里']).count().sort_values(by='id',ascending=False).head(15)"
   ]
  },
  {
   "cell_type": "code",
   "execution_count": 21,
   "metadata": {},
   "outputs": [],
   "source": [
    "#gdf[gdf['村里']=='三廍村']"
   ]
  },
  {
   "cell_type": "code",
   "execution_count": 22,
   "metadata": {},
   "outputs": [],
   "source": [
    "#df_02[df_02['村里']=='五?里']['行政區'].unique()"
   ]
  },
  {
   "cell_type": "code",
   "execution_count": null,
   "metadata": {},
   "outputs": [],
   "source": []
  },
  {
   "cell_type": "code",
   "execution_count": null,
   "metadata": {},
   "outputs": [],
   "source": []
  },
  {
   "cell_type": "markdown",
   "metadata": {},
   "source": [
    "### 第一次抓取 村里 與 geo data 合不合"
   ]
  },
  {
   "cell_type": "code",
   "execution_count": 23,
   "metadata": {},
   "outputs": [
    {
     "name": "stdout",
     "output_type": "stream",
     "text": [
      "(8642, 7)\n",
      "(2, 7)\n"
     ]
    }
   ],
   "source": [
    "#合\n",
    "df_02_1=df_02[(df_02['縣市']+df_02['行政區']+df_02['村里']).isin(gdf['縣市']+gdf['行政區']+gdf['村里'])].reset_index(drop=True)\n",
    "\n",
    "#不合\n",
    "df_02_2=df_02[-(df_02['縣市']+df_02['行政區']+df_02['村里']).isin(gdf['縣市']+gdf['行政區']+gdf['村里'])].reset_index(drop=True)\n",
    "print(df_02_1.shape)\n",
    "print(df_02_2.shape)"
   ]
  },
  {
   "cell_type": "markdown",
   "metadata": {},
   "source": [
    "### 不合的資料用經緯度 與村里邊界資料mapping"
   ]
  },
  {
   "cell_type": "code",
   "execution_count": 24,
   "metadata": {},
   "outputs": [
    {
     "name": "stdout",
     "output_type": "stream",
     "text": [
      "(2, 8)\n",
      "(2, 12)\n",
      "               id                                               addr  \\\n",
      "0  20180116000456  高雄市左營區?北里5鄰海平路60號                             ...   \n",
      "1  19991027004557  新竹縣竹東鎮上里18鄰和江街330巷6號                         ...   \n",
      "\n",
      "          lon        lat   縣市  行政區   村里  \n",
      "0  120.288192  22.686029  高雄市  左營區  廍北里  \n",
      "1  121.089348  24.723878  新竹縣  竹東鎮  上館里  \n",
      "合併成功 (8644, 7)\n"
     ]
    }
   ],
   "source": [
    "if df_02_2.shape[0]>0:\n",
    "    df_02_2.lon=df_02_2.lon.apply(lambda x:float(x))\n",
    "    df_02_2.lat=df_02_2.lat.apply(lambda x:float(x))\n",
    "    geom=[Point(data.lon,data.lat) for idx, data in df_02_2.iterrows()]\n",
    "    crs = {'init': 'epsg:4326'}\n",
    "    df_02_2 = gpd.GeoDataFrame(df_02_2, crs=crs, geometry=geom)\n",
    "    print(df_02_2.shape) \n",
    "    df_02_3 = gpd.tools.sjoin(df_02_2,gdf, how=\"inner\", op='intersects')\n",
    "    print(df_02_3.shape)\n",
    "    df_02_3=df_02_3.iloc[:,[0,1,2,3,9,10,11]].reset_index(drop=True)\n",
    "    df_02_3.columns=['id','addr','lon','lat','縣市','行政區','村里']\n",
    "    print(df_02_3.head(9))\n",
    "    \n",
    "    df_02=pd.concat([df_02_1,df_02_3]).reset_index(drop=True)\n",
    "    print('合併成功',df_02.shape)\n",
    "else:\n",
    "    print('不須合併',df_02_2.shape)\n",
    "    df_02=df_02_1.reset_index(drop=True)\n",
    "    print(df_02.shape)"
   ]
  },
  {
   "cell_type": "markdown",
   "metadata": {},
   "source": [
    "## 合併 合與不合的資料\n",
    "## 獲得完整的第一次抓取 村里"
   ]
  },
  {
   "cell_type": "code",
   "execution_count": null,
   "metadata": {},
   "outputs": [],
   "source": []
  },
  {
   "cell_type": "markdown",
   "metadata": {},
   "source": [
    "## 第一次抓取 無村里的資料"
   ]
  },
  {
   "cell_type": "code",
   "execution_count": 25,
   "metadata": {},
   "outputs": [
    {
     "data": {
      "text/plain": [
       "(2, 7)"
      ]
     },
     "execution_count": 25,
     "metadata": {},
     "output_type": "execute_result"
    }
   ],
   "source": [
    "df_03=df_01[-df_01.id.isin(df_02.id)].dropna(subset=['lon'])\n",
    "df_03.shape"
   ]
  },
  {
   "cell_type": "markdown",
   "metadata": {},
   "source": [
    "### 第二次抓取 村里"
   ]
  },
  {
   "cell_type": "code",
   "execution_count": 26,
   "metadata": {},
   "outputs": [],
   "source": [
    "pattern = re.compile(r'(..[市,縣])(.{2,3}[市,區,鄉,鎮])(.{1,2}[里,村])')\n",
    "location=df_03.addr.apply(lambda x:pattern.findall(x))\n",
    "\n",
    "addr01=[]\n",
    "addr02=[]\n",
    "addr03=[]\n",
    "for i in location:\n",
    "    if len(i)==1:\n",
    "        addr01.append(i[0][0])\n",
    "        addr02.append(i[0][1])\n",
    "        addr03.append(i[0][2])        \n",
    "    else:\n",
    "        addr01.append(np.nan)\n",
    "        addr02.append(np.nan)\n",
    "        addr03.append(np.nan)  "
   ]
  },
  {
   "cell_type": "code",
   "execution_count": 27,
   "metadata": {},
   "outputs": [],
   "source": [
    "df_03['縣市']=addr01\n",
    "df_03['行政區']=addr02\n",
    "df_03['村里']=addr03"
   ]
  },
  {
   "cell_type": "markdown",
   "metadata": {},
   "source": [
    "### 第二次抓取 村里 與 geo data 合不合"
   ]
  },
  {
   "cell_type": "code",
   "execution_count": 28,
   "metadata": {},
   "outputs": [
    {
     "name": "stdout",
     "output_type": "stream",
     "text": [
      "(0, 7)\n",
      "(2, 7)\n"
     ]
    }
   ],
   "source": [
    "#合\n",
    "df_03_1=df_03[(df_03['縣市']+df_03['行政區']+df_03['村里']).isin(gdf['縣市']+gdf['行政區']+gdf['村里'])].reset_index(drop=True)\n",
    "print(df_03_1.shape)\n",
    "\n",
    "#不合\n",
    "df_03_2=df_03[-(df_03['縣市']+df_03['行政區']+df_03['村里']).isin(gdf['縣市']+gdf['行政區']+gdf['村里'])].reset_index(drop=True)\n",
    "print(df_03_2.shape)\n"
   ]
  },
  {
   "cell_type": "markdown",
   "metadata": {},
   "source": [
    "### 不合的資料用經緯度 與村里邊界資料mapping"
   ]
  },
  {
   "cell_type": "code",
   "execution_count": 29,
   "metadata": {},
   "outputs": [],
   "source": [
    "def to_float(x):\n",
    "    try:\n",
    "        return float(x)\n",
    "    except:\n",
    "        return 0"
   ]
  },
  {
   "cell_type": "code",
   "execution_count": 30,
   "metadata": {},
   "outputs": [],
   "source": [
    "df_03_2.lon=df_03_2.lon.apply(to_float)\n",
    "df_03_2.lat=df_03_2.lat.apply(to_float)"
   ]
  },
  {
   "cell_type": "code",
   "execution_count": 31,
   "metadata": {},
   "outputs": [
    {
     "name": "stdout",
     "output_type": "stream",
     "text": [
      "(2, 8)\n",
      "(2, 12)\n",
      "(2, 7)\n"
     ]
    }
   ],
   "source": [
    "if df_03_2.shape[0]>0:\n",
    "    geom=[Point(data.lon,data.lat) for idx, data in df_03_2.iterrows()]\n",
    "    crs = {'init': 'epsg:4326'}\n",
    "    df_03_2 = gpd.GeoDataFrame(df_03_2, crs=crs, geometry=geom)\n",
    "    print(df_03_2.shape)\n",
    "    df_03_3 = gpd.tools.sjoin(df_03_2,gdf, how=\"inner\", op='intersects')\n",
    "    print(df_03_3.shape)\n",
    "    df_03_3=df_03_3.iloc[:,[0,1,2,3,9,10,11]].reset_index(drop=True)\n",
    "    df_03_3.columns=['id','addr','lon','lat','縣市','行政區','村里']\n",
    "    print(df_03_3.shape)\n",
    "else:\n",
    "    df_03_3=df_03_2.copy()"
   ]
  },
  {
   "cell_type": "code",
   "execution_count": 32,
   "metadata": {},
   "outputs": [
    {
     "data": {
      "text/html": [
       "<div>\n",
       "<style scoped>\n",
       "    .dataframe tbody tr th:only-of-type {\n",
       "        vertical-align: middle;\n",
       "    }\n",
       "\n",
       "    .dataframe tbody tr th {\n",
       "        vertical-align: top;\n",
       "    }\n",
       "\n",
       "    .dataframe thead th {\n",
       "        text-align: right;\n",
       "    }\n",
       "</style>\n",
       "<table border=\"1\" class=\"dataframe\">\n",
       "  <thead>\n",
       "    <tr style=\"text-align: right;\">\n",
       "      <th></th>\n",
       "      <th>id</th>\n",
       "      <th>addr</th>\n",
       "      <th>lon</th>\n",
       "      <th>lat</th>\n",
       "      <th>縣市</th>\n",
       "      <th>行政區</th>\n",
       "      <th>村里</th>\n",
       "    </tr>\n",
       "  </thead>\n",
       "  <tbody>\n",
       "    <tr>\n",
       "      <th>0</th>\n",
       "      <td>20040409000169</td>\n",
       "      <td>臺南市新化區(那)拔里9鄰牧場1之20號                          ...</td>\n",
       "      <td>120.331038</td>\n",
       "      <td>23.061009</td>\n",
       "      <td>台南市</td>\n",
       "      <td>新化區</td>\n",
       "      <td>[那]拔里</td>\n",
       "    </tr>\n",
       "    <tr>\n",
       "      <th>1</th>\n",
       "      <td>19990829000715</td>\n",
       "      <td>台北市內湖區                                        ...</td>\n",
       "      <td>121.588470</td>\n",
       "      <td>25.069090</td>\n",
       "      <td>台北市</td>\n",
       "      <td>內湖區</td>\n",
       "      <td>湖興里</td>\n",
       "    </tr>\n",
       "  </tbody>\n",
       "</table>\n",
       "</div>"
      ],
      "text/plain": [
       "               id                                               addr  \\\n",
       "0  20040409000169  臺南市新化區(那)拔里9鄰牧場1之20號                          ...   \n",
       "1  19990829000715  台北市內湖區                                        ...   \n",
       "\n",
       "          lon        lat   縣市  行政區     村里  \n",
       "0  120.331038  23.061009  台南市  新化區  [那]拔里  \n",
       "1  121.588470  25.069090  台北市  內湖區    湖興里  "
      ]
     },
     "execution_count": 32,
     "metadata": {},
     "output_type": "execute_result"
    }
   ],
   "source": [
    "df_03_3.head(5)"
   ]
  },
  {
   "cell_type": "code",
   "execution_count": 33,
   "metadata": {},
   "outputs": [
    {
     "name": "stdout",
     "output_type": "stream",
     "text": [
      "df_03_4 (0, 7)\n",
      "df_03 (2, 7)\n",
      "df_03_1 (0, 7)\n",
      "df_03_3 (2, 7)\n",
      "df_03 (2, 7)\n",
      "df_03 (2, 7)\n"
     ]
    }
   ],
   "source": [
    "df_03_4=df_03_2[-df_03_2.id.isin(df_03_3.id)].loc[:,['id','addr','lon','lat','縣市','行政區','村里']]\n",
    "print('df_03_4',df_03_4.shape)\n",
    "print('df_03',df_03.shape)\n",
    "df_03=pd.concat([df_03_1,df_03_3]).reset_index(drop=True)\n",
    "print('df_03_1',df_03_1.shape)\n",
    "print('df_03_3',df_03_3.shape)\n",
    "print('df_03',df_03.shape)\n",
    "df_03=pd.concat([df_03,df_03_4]).reset_index(drop=True)\n",
    "print('df_03',df_03.shape)"
   ]
  },
  {
   "cell_type": "markdown",
   "metadata": {},
   "source": [
    "## 合併 合與不合的資料\n",
    "## 獲得完整的第二次抓取 村里"
   ]
  },
  {
   "cell_type": "code",
   "execution_count": null,
   "metadata": {},
   "outputs": [],
   "source": []
  },
  {
   "cell_type": "markdown",
   "metadata": {},
   "source": [
    "## 合併 第一次抓取 有村里 與 無村里 資料，獲得SLQ有正確地址的資料"
   ]
  },
  {
   "cell_type": "code",
   "execution_count": 34,
   "metadata": {},
   "outputs": [
    {
     "data": {
      "text/plain": [
       "(8646, 7)"
      ]
     },
     "execution_count": 34,
     "metadata": {},
     "output_type": "execute_result"
    }
   ],
   "source": [
    "df_01=pd.concat([df_02,df_03]).reset_index(drop=True)\n",
    "df_01.shape"
   ]
  },
  {
   "cell_type": "code",
   "execution_count": null,
   "metadata": {},
   "outputs": [],
   "source": []
  },
  {
   "cell_type": "markdown",
   "metadata": {},
   "source": [
    "# 存檔"
   ]
  },
  {
   "cell_type": "code",
   "execution_count": 35,
   "metadata": {},
   "outputs": [],
   "source": [
    "df_01.to_csv('C:/Users/RT009223/TestriteGroup/滲透率專案/02_adjusted data/'+save_file+'會員位置(經整理_配對村里)_一般卡_'+save_year+'.txt',index=0)"
   ]
  },
  {
   "cell_type": "code",
   "execution_count": null,
   "metadata": {},
   "outputs": [],
   "source": []
  },
  {
   "cell_type": "code",
   "execution_count": null,
   "metadata": {},
   "outputs": [],
   "source": []
  },
  {
   "cell_type": "markdown",
   "metadata": {},
   "source": [
    "# SLQ無正確地址的資料"
   ]
  },
  {
   "cell_type": "code",
   "execution_count": 36,
   "metadata": {},
   "outputs": [
    {
     "data": {
      "text/plain": [
       "(1928, 3)"
      ]
     },
     "execution_count": 36,
     "metadata": {},
     "output_type": "execute_result"
    }
   ],
   "source": [
    "df_04=pd.read_excel(filename+'一般卡會員(無完整地址).xlsx')\n",
    "df_04.shape"
   ]
  },
  {
   "cell_type": "code",
   "execution_count": 37,
   "metadata": {},
   "outputs": [],
   "source": [
    "df_04['addr']=df_04.addr.apply(lambda x:str(x))"
   ]
  },
  {
   "cell_type": "markdown",
   "metadata": {},
   "source": [
    "# 區分有可用的地址 與 無可用的地址\n",
    "## 有可用的地址"
   ]
  },
  {
   "cell_type": "code",
   "execution_count": 38,
   "metadata": {},
   "outputs": [
    {
     "data": {
      "text/plain": [
       "(802, 3)"
      ]
     },
     "execution_count": 38,
     "metadata": {},
     "output_type": "execute_result"
    }
   ],
   "source": [
    "df_04_1=df_04[df_04.addr.apply(lambda x:len(x)>9)].reset_index(drop=True)\n",
    "df_04_1.shape"
   ]
  },
  {
   "cell_type": "code",
   "execution_count": 39,
   "metadata": {},
   "outputs": [],
   "source": [
    "pattern = re.compile(r'..[市,縣].+[路,街].+')\n",
    "location=df_04_1.addr.apply(lambda x:pattern.findall((x)))\n",
    "\n",
    "addr01=[]\n",
    "for i in location:\n",
    "    if len(i)==1:\n",
    "        addr01.append(i[0])      \n",
    "    else:\n",
    "        addr01.append(np.nan)"
   ]
  },
  {
   "cell_type": "code",
   "execution_count": 40,
   "metadata": {},
   "outputs": [
    {
     "data": {
      "text/plain": [
       "(666, 3)"
      ]
     },
     "execution_count": 40,
     "metadata": {},
     "output_type": "execute_result"
    }
   ],
   "source": [
    "df_04_1.addr=addr01\n",
    "df_04_1=df_04_1.dropna(subset=['addr']).reset_index(drop=True)\n",
    "df_04_1.shape"
   ]
  },
  {
   "cell_type": "code",
   "execution_count": 41,
   "metadata": {},
   "outputs": [
    {
     "data": {
      "text/html": [
       "<div>\n",
       "<style scoped>\n",
       "    .dataframe tbody tr th:only-of-type {\n",
       "        vertical-align: middle;\n",
       "    }\n",
       "\n",
       "    .dataframe tbody tr th {\n",
       "        vertical-align: top;\n",
       "    }\n",
       "\n",
       "    .dataframe thead th {\n",
       "        text-align: right;\n",
       "    }\n",
       "</style>\n",
       "<table border=\"1\" class=\"dataframe\">\n",
       "  <thead>\n",
       "    <tr style=\"text-align: right;\">\n",
       "      <th></th>\n",
       "      <th>id</th>\n",
       "      <th>addr</th>\n",
       "      <th>zone</th>\n",
       "      <th>lon</th>\n",
       "      <th>lat</th>\n",
       "      <th>check</th>\n",
       "    </tr>\n",
       "  </thead>\n",
       "  <tbody>\n",
       "    <tr>\n",
       "      <th>0</th>\n",
       "      <td>20200116000105</td>\n",
       "      <td>台北市士林區基河路22號5樓</td>\n",
       "      <td>111.0</td>\n",
       "      <td>0.0</td>\n",
       "      <td>0.0</td>\n",
       "      <td>0</td>\n",
       "    </tr>\n",
       "    <tr>\n",
       "      <th>1</th>\n",
       "      <td>20100619000186</td>\n",
       "      <td>新竹市新竹市香山區海山里大湖路71巷3弄78號</td>\n",
       "      <td>300.0</td>\n",
       "      <td>0.0</td>\n",
       "      <td>0.0</td>\n",
       "      <td>0</td>\n",
       "    </tr>\n",
       "    <tr>\n",
       "      <th>2</th>\n",
       "      <td>20151018000209</td>\n",
       "      <td>桃園市桃園區永安街403巷32號9樓</td>\n",
       "      <td>330.0</td>\n",
       "      <td>0.0</td>\n",
       "      <td>0.0</td>\n",
       "      <td>0</td>\n",
       "    </tr>\n",
       "    <tr>\n",
       "      <th>3</th>\n",
       "      <td>20020412000065</td>\n",
       "      <td>台中市南屯區工業區３８路１００巷３號５Ｆ</td>\n",
       "      <td>408.0</td>\n",
       "      <td>0.0</td>\n",
       "      <td>0.0</td>\n",
       "      <td>0</td>\n",
       "    </tr>\n",
       "    <tr>\n",
       "      <th>4</th>\n",
       "      <td>20000101004187</td>\n",
       "      <td>台中市北屯區崇德11路41之1號1樓</td>\n",
       "      <td>406.0</td>\n",
       "      <td>0.0</td>\n",
       "      <td>0.0</td>\n",
       "      <td>0</td>\n",
       "    </tr>\n",
       "  </tbody>\n",
       "</table>\n",
       "</div>"
      ],
      "text/plain": [
       "               id                     addr   zone  lon  lat  check\n",
       "0  20200116000105           台北市士林區基河路22號5樓  111.0  0.0  0.0      0\n",
       "1  20100619000186  新竹市新竹市香山區海山里大湖路71巷3弄78號  300.0  0.0  0.0      0\n",
       "2  20151018000209       桃園市桃園區永安街403巷32號9樓  330.0  0.0  0.0      0\n",
       "3  20020412000065     台中市南屯區工業區３８路１００巷３號５Ｆ  408.0  0.0  0.0      0\n",
       "4  20000101004187       台中市北屯區崇德11路41之1號1樓  406.0  0.0  0.0      0"
      ]
     },
     "execution_count": 41,
     "metadata": {},
     "output_type": "execute_result"
    }
   ],
   "source": [
    "df_04_1['lon']=float(0)\n",
    "df_04_1['lat']=float(0)\n",
    "df_04_1['check']=0\n",
    "df_04_1.head()"
   ]
  },
  {
   "cell_type": "markdown",
   "metadata": {},
   "source": [
    "## 與現有 搜尋過 經緯度的資料 比對"
   ]
  },
  {
   "cell_type": "code",
   "execution_count": 42,
   "metadata": {},
   "outputs": [
    {
     "name": "stdout",
     "output_type": "stream",
     "text": [
      "(133014, 6)\n"
     ]
    },
    {
     "data": {
      "text/html": [
       "<div>\n",
       "<style scoped>\n",
       "    .dataframe tbody tr th:only-of-type {\n",
       "        vertical-align: middle;\n",
       "    }\n",
       "\n",
       "    .dataframe tbody tr th {\n",
       "        vertical-align: top;\n",
       "    }\n",
       "\n",
       "    .dataframe thead th {\n",
       "        text-align: right;\n",
       "    }\n",
       "</style>\n",
       "<table border=\"1\" class=\"dataframe\">\n",
       "  <thead>\n",
       "    <tr style=\"text-align: right;\">\n",
       "      <th></th>\n",
       "      <th>id</th>\n",
       "      <th>addr</th>\n",
       "      <th>zone</th>\n",
       "      <th>lon</th>\n",
       "      <th>lat</th>\n",
       "      <th>check</th>\n",
       "    </tr>\n",
       "  </thead>\n",
       "  <tbody>\n",
       "    <tr>\n",
       "      <th>0</th>\n",
       "      <td>30012476701000</td>\n",
       "      <td>新北市貢寮區鳥崗街13號</td>\n",
       "      <td>228.0</td>\n",
       "      <td>122.00193</td>\n",
       "      <td>25.01326</td>\n",
       "      <td>1</td>\n",
       "    </tr>\n",
       "    <tr>\n",
       "      <th>1</th>\n",
       "      <td>20051030000358</td>\n",
       "      <td>新北市貢寮區福興村東興街４７號</td>\n",
       "      <td>228.0</td>\n",
       "      <td>121.99057</td>\n",
       "      <td>25.01205</td>\n",
       "      <td>1</td>\n",
       "    </tr>\n",
       "    <tr>\n",
       "      <th>2</th>\n",
       "      <td>20011022000749</td>\n",
       "      <td>新北市貢寮區春福連村臉香蘭街９號</td>\n",
       "      <td>228.0</td>\n",
       "      <td>121.98674</td>\n",
       "      <td>25.01985</td>\n",
       "      <td>1</td>\n",
       "    </tr>\n",
       "    <tr>\n",
       "      <th>3</th>\n",
       "      <td>20051219001868</td>\n",
       "      <td>新北市新店區東興街22號3樓DM退件</td>\n",
       "      <td>231.0</td>\n",
       "      <td>121.94981</td>\n",
       "      <td>25.01872</td>\n",
       "      <td>1</td>\n",
       "    </tr>\n",
       "    <tr>\n",
       "      <th>4</th>\n",
       "      <td>19980808000468</td>\n",
       "      <td>新北市貢寮區惠牴街25-2號</td>\n",
       "      <td>228.0</td>\n",
       "      <td>121.94576</td>\n",
       "      <td>25.01659</td>\n",
       "      <td>1</td>\n",
       "    </tr>\n",
       "  </tbody>\n",
       "</table>\n",
       "</div>"
      ],
      "text/plain": [
       "               id                addr   zone        lon       lat  check\n",
       "0  30012476701000        新北市貢寮區鳥崗街13號  228.0  122.00193  25.01326      1\n",
       "1  20051030000358     新北市貢寮區福興村東興街４７號  228.0  121.99057  25.01205      1\n",
       "2  20011022000749    新北市貢寮區春福連村臉香蘭街９號  228.0  121.98674  25.01985      1\n",
       "3  20051219001868  新北市新店區東興街22號3樓DM退件  231.0  121.94981  25.01872      1\n",
       "4  19980808000468      新北市貢寮區惠牴街25-2號  228.0  121.94576  25.01659      1"
      ]
     },
     "execution_count": 42,
     "metadata": {},
     "output_type": "execute_result"
    }
   ],
   "source": [
    "df_get_back=pd.read_excel(r'C:\\Users\\RT009223\\TestriteGroup\\滲透率專案\\02_adjusted data\\get back.xlsx')\n",
    "print(df_get_back.shape)\n",
    "df_get_back.head()"
   ]
  },
  {
   "cell_type": "code",
   "execution_count": 43,
   "metadata": {},
   "outputs": [],
   "source": [
    "df_get_back=df_get_back=df_get_back.loc[:,['id','lon','lat','check']]"
   ]
  },
  {
   "cell_type": "code",
   "execution_count": 44,
   "metadata": {},
   "outputs": [],
   "source": [
    "df_04_1=pd.merge(df_04_1.loc[:,['id','addr','zone']],df_get_back,on='id',how='left')"
   ]
  },
  {
   "cell_type": "code",
   "execution_count": 45,
   "metadata": {},
   "outputs": [],
   "source": [
    "df_04_1.lon[df_04_1.lon.isna()]=0\n",
    "df_04_1.lat[df_04_1.lat.isna()]=0\n",
    "df_04_1.check[df_04_1.check.isna()]=0"
   ]
  },
  {
   "cell_type": "code",
   "execution_count": 46,
   "metadata": {},
   "outputs": [
    {
     "data": {
      "text/html": [
       "<div>\n",
       "<style scoped>\n",
       "    .dataframe tbody tr th:only-of-type {\n",
       "        vertical-align: middle;\n",
       "    }\n",
       "\n",
       "    .dataframe tbody tr th {\n",
       "        vertical-align: top;\n",
       "    }\n",
       "\n",
       "    .dataframe thead th {\n",
       "        text-align: right;\n",
       "    }\n",
       "</style>\n",
       "<table border=\"1\" class=\"dataframe\">\n",
       "  <thead>\n",
       "    <tr style=\"text-align: right;\">\n",
       "      <th></th>\n",
       "      <th>id</th>\n",
       "      <th>addr</th>\n",
       "      <th>zone</th>\n",
       "      <th>lon</th>\n",
       "      <th>lat</th>\n",
       "      <th>check</th>\n",
       "    </tr>\n",
       "  </thead>\n",
       "  <tbody>\n",
       "    <tr>\n",
       "      <th>0</th>\n",
       "      <td>20200116000105</td>\n",
       "      <td>台北市士林區基河路22號5樓</td>\n",
       "      <td>111.0</td>\n",
       "      <td>0.00000</td>\n",
       "      <td>0.00000</td>\n",
       "      <td>0.0</td>\n",
       "    </tr>\n",
       "    <tr>\n",
       "      <th>1</th>\n",
       "      <td>20100619000186</td>\n",
       "      <td>新竹市新竹市香山區海山里大湖路71巷3弄78號</td>\n",
       "      <td>300.0</td>\n",
       "      <td>120.91935</td>\n",
       "      <td>24.76185</td>\n",
       "      <td>1.0</td>\n",
       "    </tr>\n",
       "    <tr>\n",
       "      <th>2</th>\n",
       "      <td>20151018000209</td>\n",
       "      <td>桃園市桃園區永安街403巷32號9樓</td>\n",
       "      <td>330.0</td>\n",
       "      <td>0.00000</td>\n",
       "      <td>0.00000</td>\n",
       "      <td>0.0</td>\n",
       "    </tr>\n",
       "    <tr>\n",
       "      <th>3</th>\n",
       "      <td>20020412000065</td>\n",
       "      <td>台中市南屯區工業區３８路１００巷３號５Ｆ</td>\n",
       "      <td>408.0</td>\n",
       "      <td>120.58976</td>\n",
       "      <td>24.17659</td>\n",
       "      <td>1.0</td>\n",
       "    </tr>\n",
       "    <tr>\n",
       "      <th>4</th>\n",
       "      <td>20000101004187</td>\n",
       "      <td>台中市北屯區崇德11路41之1號1樓</td>\n",
       "      <td>406.0</td>\n",
       "      <td>0.00000</td>\n",
       "      <td>0.00000</td>\n",
       "      <td>0.0</td>\n",
       "    </tr>\n",
       "  </tbody>\n",
       "</table>\n",
       "</div>"
      ],
      "text/plain": [
       "               id                     addr   zone        lon       lat  check\n",
       "0  20200116000105           台北市士林區基河路22號5樓  111.0    0.00000   0.00000    0.0\n",
       "1  20100619000186  新竹市新竹市香山區海山里大湖路71巷3弄78號  300.0  120.91935  24.76185    1.0\n",
       "2  20151018000209       桃園市桃園區永安街403巷32號9樓  330.0    0.00000   0.00000    0.0\n",
       "3  20020412000065     台中市南屯區工業區３８路１００巷３號５Ｆ  408.0  120.58976  24.17659    1.0\n",
       "4  20000101004187       台中市北屯區崇德11路41之1號1樓  406.0    0.00000   0.00000    0.0"
      ]
     },
     "execution_count": 46,
     "metadata": {},
     "output_type": "execute_result"
    }
   ],
   "source": [
    "df_04_1.head()"
   ]
  },
  {
   "cell_type": "markdown",
   "metadata": {},
   "source": [
    "## 與郵遞區號配對"
   ]
  },
  {
   "cell_type": "code",
   "execution_count": 47,
   "metadata": {},
   "outputs": [],
   "source": [
    "df_zone=pd.read_excel(r'C:\\Users\\RT009223\\TestriteGroup\\滲透率專案\\02_adjusted data\\郵遞區代碼.xlsx')"
   ]
  },
  {
   "cell_type": "code",
   "execution_count": 48,
   "metadata": {},
   "outputs": [],
   "source": [
    "df_04_1=pd.merge(df_04_1,df_zone,on='zone',how='left')"
   ]
  },
  {
   "cell_type": "code",
   "execution_count": 49,
   "metadata": {},
   "outputs": [
    {
     "data": {
      "text/plain": [
       "(666, 9)"
      ]
     },
     "execution_count": 49,
     "metadata": {},
     "output_type": "execute_result"
    }
   ],
   "source": [
    "geom=[Point(data.lon,data.lat) for idx, data in df_04_1.iterrows()]\n",
    "crs = {'init': 'epsg:4326'}\n",
    "df_04_1 = gpd.GeoDataFrame(df_04_1, crs=crs, geometry=geom)\n",
    "df_04_1.shape"
   ]
  },
  {
   "cell_type": "code",
   "execution_count": 50,
   "metadata": {},
   "outputs": [
    {
     "data": {
      "text/plain": [
       "(666, 13)"
      ]
     },
     "execution_count": 50,
     "metadata": {},
     "output_type": "execute_result"
    }
   ],
   "source": [
    "df_04_1= gpd.tools.sjoin(df_04_1,gdf, how=\"left\", op='intersects')\n",
    "df_04_1.shape"
   ]
  },
  {
   "cell_type": "code",
   "execution_count": 51,
   "metadata": {},
   "outputs": [
    {
     "data": {
      "text/html": [
       "<div>\n",
       "<style scoped>\n",
       "    .dataframe tbody tr th:only-of-type {\n",
       "        vertical-align: middle;\n",
       "    }\n",
       "\n",
       "    .dataframe tbody tr th {\n",
       "        vertical-align: top;\n",
       "    }\n",
       "\n",
       "    .dataframe thead th {\n",
       "        text-align: right;\n",
       "    }\n",
       "</style>\n",
       "<table border=\"1\" class=\"dataframe\">\n",
       "  <thead>\n",
       "    <tr style=\"text-align: right;\">\n",
       "      <th></th>\n",
       "      <th>id</th>\n",
       "      <th>addr</th>\n",
       "      <th>zone</th>\n",
       "      <th>lon</th>\n",
       "      <th>lat</th>\n",
       "      <th>check</th>\n",
       "      <th>縣市_left</th>\n",
       "      <th>行政區_left</th>\n",
       "      <th>geometry</th>\n",
       "      <th>index_right</th>\n",
       "      <th>縣市_right</th>\n",
       "      <th>行政區_right</th>\n",
       "      <th>村里</th>\n",
       "    </tr>\n",
       "  </thead>\n",
       "  <tbody>\n",
       "    <tr>\n",
       "      <th>0</th>\n",
       "      <td>20200116000105</td>\n",
       "      <td>台北市士林區基河路22號5樓</td>\n",
       "      <td>111.0</td>\n",
       "      <td>0.00000</td>\n",
       "      <td>0.00000</td>\n",
       "      <td>0.0</td>\n",
       "      <td>台北市</td>\n",
       "      <td>士林區</td>\n",
       "      <td>POINT (0.00000 0.00000)</td>\n",
       "      <td>NaN</td>\n",
       "      <td>NaN</td>\n",
       "      <td>NaN</td>\n",
       "      <td>NaN</td>\n",
       "    </tr>\n",
       "    <tr>\n",
       "      <th>1</th>\n",
       "      <td>20100619000186</td>\n",
       "      <td>新竹市新竹市香山區海山里大湖路71巷3弄78號</td>\n",
       "      <td>300.0</td>\n",
       "      <td>120.91935</td>\n",
       "      <td>24.76185</td>\n",
       "      <td>1.0</td>\n",
       "      <td>NaN</td>\n",
       "      <td>NaN</td>\n",
       "      <td>POINT (120.91935 24.76185)</td>\n",
       "      <td>2388.0</td>\n",
       "      <td>新竹市</td>\n",
       "      <td>香山區</td>\n",
       "      <td>海山里</td>\n",
       "    </tr>\n",
       "    <tr>\n",
       "      <th>2</th>\n",
       "      <td>20151018000209</td>\n",
       "      <td>桃園市桃園區永安街403巷32號9樓</td>\n",
       "      <td>330.0</td>\n",
       "      <td>0.00000</td>\n",
       "      <td>0.00000</td>\n",
       "      <td>0.0</td>\n",
       "      <td>桃園市</td>\n",
       "      <td>桃園區</td>\n",
       "      <td>POINT (0.00000 0.00000)</td>\n",
       "      <td>NaN</td>\n",
       "      <td>NaN</td>\n",
       "      <td>NaN</td>\n",
       "      <td>NaN</td>\n",
       "    </tr>\n",
       "    <tr>\n",
       "      <th>3</th>\n",
       "      <td>20020412000065</td>\n",
       "      <td>台中市南屯區工業區３８路１００巷３號５Ｆ</td>\n",
       "      <td>408.0</td>\n",
       "      <td>120.58976</td>\n",
       "      <td>24.17659</td>\n",
       "      <td>1.0</td>\n",
       "      <td>台中市</td>\n",
       "      <td>南屯區</td>\n",
       "      <td>POINT (120.58976 24.17659)</td>\n",
       "      <td>2149.0</td>\n",
       "      <td>台中市</td>\n",
       "      <td>西屯區</td>\n",
       "      <td>協和里</td>\n",
       "    </tr>\n",
       "    <tr>\n",
       "      <th>4</th>\n",
       "      <td>20000101004187</td>\n",
       "      <td>台中市北屯區崇德11路41之1號1樓</td>\n",
       "      <td>406.0</td>\n",
       "      <td>0.00000</td>\n",
       "      <td>0.00000</td>\n",
       "      <td>0.0</td>\n",
       "      <td>台中市</td>\n",
       "      <td>北屯區</td>\n",
       "      <td>POINT (0.00000 0.00000)</td>\n",
       "      <td>NaN</td>\n",
       "      <td>NaN</td>\n",
       "      <td>NaN</td>\n",
       "      <td>NaN</td>\n",
       "    </tr>\n",
       "  </tbody>\n",
       "</table>\n",
       "</div>"
      ],
      "text/plain": [
       "               id                     addr   zone        lon       lat  check  \\\n",
       "0  20200116000105           台北市士林區基河路22號5樓  111.0    0.00000   0.00000    0.0   \n",
       "1  20100619000186  新竹市新竹市香山區海山里大湖路71巷3弄78號  300.0  120.91935  24.76185    1.0   \n",
       "2  20151018000209       桃園市桃園區永安街403巷32號9樓  330.0    0.00000   0.00000    0.0   \n",
       "3  20020412000065     台中市南屯區工業區３８路１００巷３號５Ｆ  408.0  120.58976  24.17659    1.0   \n",
       "4  20000101004187       台中市北屯區崇德11路41之1號1樓  406.0    0.00000   0.00000    0.0   \n",
       "\n",
       "  縣市_left 行政區_left                    geometry  index_right 縣市_right  \\\n",
       "0     台北市      士林區     POINT (0.00000 0.00000)          NaN      NaN   \n",
       "1     NaN      NaN  POINT (120.91935 24.76185)       2388.0      新竹市   \n",
       "2     桃園市      桃園區     POINT (0.00000 0.00000)          NaN      NaN   \n",
       "3     台中市      南屯區  POINT (120.58976 24.17659)       2149.0      台中市   \n",
       "4     台中市      北屯區     POINT (0.00000 0.00000)          NaN      NaN   \n",
       "\n",
       "  行政區_right   村里  \n",
       "0       NaN  NaN  \n",
       "1       香山區  海山里  \n",
       "2       NaN  NaN  \n",
       "3       西屯區  協和里  \n",
       "4       NaN  NaN  "
      ]
     },
     "execution_count": 51,
     "metadata": {},
     "output_type": "execute_result"
    }
   ],
   "source": [
    "df_04_1.head()"
   ]
  },
  {
   "cell_type": "code",
   "execution_count": 52,
   "metadata": {},
   "outputs": [
    {
     "name": "stdout",
     "output_type": "stream",
     "text": [
      "(16, 13)\n",
      "(423, 13)\n",
      "(74, 13)\n",
      "(153, 13)\n"
     ]
    }
   ],
   "source": [
    "# 無 map 無 zone\n",
    "df_04_1_1=df_04_1[(df_04_1['行政區_left'].isna()&df_04_1['村里'].isna())]\n",
    "print(df_04_1_1.shape)\n",
    "\n",
    "# 無 map 有 zone\n",
    "df_04_1_2=df_04_1[(-(df_04_1['行政區_left'].isna())&(df_04_1['村里'].isna()))]\n",
    "print(df_04_1_2.shape)\n",
    "\n",
    "# 有 map 無有 zone\n",
    "df_04_1_3=df_04_1[(df_04_1['行政區_left'].isna()&(-df_04_1['村里'].isna()))]\n",
    "print(df_04_1_3.shape)\n",
    "\n",
    "# 有 map 有 zone\n",
    "df_04_1_4=df_04_1[(-(df_04_1['行政區_left'].isna())&(-df_04_1['村里'].isna()))]\n",
    "print(df_04_1_4.shape)"
   ]
  },
  {
   "cell_type": "markdown",
   "metadata": {},
   "source": [
    "###  有 map 有 zone 合不合"
   ]
  },
  {
   "cell_type": "code",
   "execution_count": 53,
   "metadata": {},
   "outputs": [
    {
     "name": "stdout",
     "output_type": "stream",
     "text": [
      "(125, 13)\n",
      "(28, 13)\n"
     ]
    }
   ],
   "source": [
    "df_04_1_4_1=df_04_1_4[(df_04_1_4['行政區_left']==df_04_1_4['行政區_right'])]\n",
    "print(df_04_1_4_1.shape)\n",
    "\n",
    "df_04_1_4_2=df_04_1_4[-(df_04_1_4['行政區_left']==df_04_1_4['行政區_right'])]\n",
    "print(df_04_1_4_2.shape)"
   ]
  },
  {
   "cell_type": "markdown",
   "metadata": {},
   "source": [
    "### 調整各組資料"
   ]
  },
  {
   "cell_type": "code",
   "execution_count": 54,
   "metadata": {},
   "outputs": [],
   "source": [
    "df_04_1_1=df_04_1_1.loc[:,['id']]\n",
    "\n",
    "df_04_1_2=df_04_1_2.loc[:,['id','縣市_left','行政區_left']]\n",
    "df_04_1_2.columns=['id','縣市','行政區']\n",
    "\n",
    "df_04_1_3=df_04_1_3.loc[:,['id','縣市_right','行政區_right','村里']]\n",
    "df_04_1_3.columns=['id','縣市','行政區','村里']\n",
    "\n",
    "df_04_1_4_1=df_04_1_4_1.loc[:,['id','縣市_right','行政區_right','村里']]\n",
    "df_04_1_4_1.columns=['id','縣市','行政區','村里']\n",
    "\n",
    "df_04_1_4_2=df_04_1_4_2.loc[:,['id','縣市_left','行政區_left']]\n",
    "df_04_1_4_2.columns=['id','縣市','行政區']"
   ]
  },
  {
   "cell_type": "code",
   "execution_count": 55,
   "metadata": {},
   "outputs": [
    {
     "data": {
      "text/plain": [
       "(666, 4)"
      ]
     },
     "execution_count": 55,
     "metadata": {},
     "output_type": "execute_result"
    }
   ],
   "source": [
    "df_04_2=pd.concat([df_04_1_4_1,df_04_1_3,df_04_1_4_2,df_04_1_2,df_04_1_1])\n",
    "df_04_2.shape"
   ]
  },
  {
   "cell_type": "code",
   "execution_count": 56,
   "metadata": {},
   "outputs": [
    {
     "data": {
      "text/plain": [
       "(666, 4)"
      ]
     },
     "execution_count": 56,
     "metadata": {},
     "output_type": "execute_result"
    }
   ],
   "source": [
    "df_04_2.drop_duplicates(subset=['id']).shape"
   ]
  },
  {
   "cell_type": "code",
   "execution_count": null,
   "metadata": {},
   "outputs": [],
   "source": []
  },
  {
   "cell_type": "markdown",
   "metadata": {},
   "source": [
    "## 無可用地址"
   ]
  },
  {
   "cell_type": "code",
   "execution_count": 57,
   "metadata": {},
   "outputs": [
    {
     "data": {
      "text/plain": [
       "(1262, 3)"
      ]
     },
     "execution_count": 57,
     "metadata": {},
     "output_type": "execute_result"
    }
   ],
   "source": [
    "df_04_3=df_04[-df_04.id.isin(df_04_2.id)]\n",
    "df_04_3.shape"
   ]
  },
  {
   "cell_type": "code",
   "execution_count": 58,
   "metadata": {},
   "outputs": [],
   "source": [
    "df_04_3=pd.merge(df_04_3,df_zone,on='zone',how='left')"
   ]
  },
  {
   "cell_type": "code",
   "execution_count": 59,
   "metadata": {},
   "outputs": [
    {
     "name": "stdout",
     "output_type": "stream",
     "text": [
      "(167, 5)\n",
      "(1095, 5)\n"
     ]
    }
   ],
   "source": [
    "df_04_3_1=df_04_3[-df_04_3['行政區'].isna()]\n",
    "print(df_04_3_1.shape)\n",
    "\n",
    "df_04_3_2=df_04_3[df_04_3['行政區'].isna()]\n",
    "print(df_04_3_2.shape)"
   ]
  },
  {
   "cell_type": "code",
   "execution_count": 60,
   "metadata": {},
   "outputs": [],
   "source": [
    "df_04_3_1=df_04_3_1.loc[:,['id','縣市','行政區']]\n",
    "df_04_3_2=df_04_3_2.loc[:,['id']]"
   ]
  },
  {
   "cell_type": "markdown",
   "metadata": {},
   "source": [
    "# 完整 SLQ無正確地址的資料"
   ]
  },
  {
   "cell_type": "code",
   "execution_count": 61,
   "metadata": {},
   "outputs": [
    {
     "name": "stdout",
     "output_type": "stream",
     "text": [
      "(1928, 4)\n",
      "(1928, 4)\n"
     ]
    }
   ],
   "source": [
    "df_04=pd.concat([df_04_2,df_04_3_1,df_04_3_2])\n",
    "print(df_04.shape)\n",
    "print(df_04.drop_duplicates(subset=['id']).shape)"
   ]
  },
  {
   "cell_type": "markdown",
   "metadata": {},
   "source": [
    "# 存檔"
   ]
  },
  {
   "cell_type": "code",
   "execution_count": 62,
   "metadata": {},
   "outputs": [],
   "source": [
    "df_04.to_csv('C:/Users/RT009223/TestriteGroup/滲透率專案/02_adjusted data/'+save_file+'會員位置(無正確地址的資料)_一般卡_'+save_year+'.txt',index=0)"
   ]
  },
  {
   "cell_type": "code",
   "execution_count": null,
   "metadata": {},
   "outputs": [],
   "source": []
  },
  {
   "cell_type": "code",
   "execution_count": null,
   "metadata": {},
   "outputs": [],
   "source": []
  }
 ],
 "metadata": {
  "kernelspec": {
   "display_name": "Python 3",
   "language": "python",
   "name": "python3"
  },
  "language_info": {
   "codemirror_mode": {
    "name": "ipython",
    "version": 3
   },
   "file_extension": ".py",
   "mimetype": "text/x-python",
   "name": "python",
   "nbconvert_exporter": "python",
   "pygments_lexer": "ipython3",
   "version": "3.7.6"
  }
 },
 "nbformat": 4,
 "nbformat_minor": 4
}

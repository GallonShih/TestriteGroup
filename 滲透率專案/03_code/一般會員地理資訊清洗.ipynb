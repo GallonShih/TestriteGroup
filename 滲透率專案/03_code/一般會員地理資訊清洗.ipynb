{
 "cells": [
  {
   "cell_type": "code",
   "execution_count": 1,
   "metadata": {},
   "outputs": [],
   "source": [
    "%matplotlib inline\n",
    "import numpy as np\n",
    "import pandas as pd\n",
    "import matplotlib.pyplot as plt"
   ]
  },
  {
   "cell_type": "code",
   "execution_count": 2,
   "metadata": {},
   "outputs": [],
   "source": [
    "import re\n",
    "\n",
    "import geopandas as gpd\n",
    "import requests,json\n",
    "\n",
    "\n",
    "from shapely import geos\n",
    "from shapely.geometry import Point\n",
    "import fiona\n",
    "from fiona.crs import from_epsg,from_string\n",
    "\n",
    "from geopandas import GeoDataFrame\n",
    "from shapely.geometry import Polygon\n",
    "from geopandas import GeoSeries\n",
    "\n",
    "\n",
    "from shapely import geometry\n",
    "from shapely.geometry import shape,LineString,Point,Polygon\n",
    "\n",
    "import osmnx as ox\n",
    "import networkx as nx\n",
    "\n",
    "import folium\n",
    "\n",
    "from folium import IFrame"
   ]
  },
  {
   "cell_type": "code",
   "execution_count": 3,
   "metadata": {},
   "outputs": [],
   "source": [
    "def rest(address):\n",
    "    try:\n",
    "        url = 'https://api.tomtom.com/search/2/geocode/{}.json?&key=h2n93GznJsnsDHtv2vPpdT9GmJijp9o9&countrySet=TWN&language=zh-TW&limit=1'.format(address)\n",
    "        response = requests.get(url)\n",
    "        data = response.text\n",
    "        js = json.loads(str(data))\n",
    "        return js['results'][0]['position']\n",
    "    except Exception as e:\n",
    "        print(f'An Error occurred: {e}')\n",
    "        return {'lat':0,'lon':0}\n",
    "    \n",
    "def trans(gdf):\n",
    "    gdf.crs = {'init' :'epsg:3824'} # 避免資料沒設，這邊再重新給一次\n",
    "    gdf=gdf.to_crs({'init' :'epsg:4326'})\n",
    "    return gdf\n",
    "\n",
    "def utf2asc(s):\n",
    "    return str(str(s).encode('ascii', 'xmlcharrefreplace'))[2:-1]\n",
    "\n",
    "heading3 = \"\"\"<h3>{}</h3>\"\"\".format"
   ]
  },
  {
   "cell_type": "code",
   "execution_count": 4,
   "metadata": {},
   "outputs": [],
   "source": [
    "import warnings\n",
    "warnings.filterwarnings(\"ignore\")"
   ]
  },
  {
   "cell_type": "markdown",
   "metadata": {},
   "source": [
    "# 設定row data的資料夾"
   ]
  },
  {
   "cell_type": "code",
   "execution_count": 94,
   "metadata": {},
   "outputs": [],
   "source": [
    "import os\n",
    "os.chdir(r'C:\\Users\\RT009223\\TestriteGroup\\滲透率專案\\01_raw data')"
   ]
  },
  {
   "cell_type": "code",
   "execution_count": 156,
   "metadata": {},
   "outputs": [],
   "source": [
    "filename='HOLA2019'\n",
    "save_file='HOLA'\n",
    "save_year='2019'"
   ]
  },
  {
   "cell_type": "markdown",
   "metadata": {},
   "source": [
    "# SQL有正確地址的資料"
   ]
  },
  {
   "cell_type": "code",
   "execution_count": 157,
   "metadata": {},
   "outputs": [
    {
     "data": {
      "text/plain": [
       "(800257, 4)"
      ]
     },
     "execution_count": 157,
     "metadata": {},
     "output_type": "execute_result"
    }
   ],
   "source": [
    "df_01=pd.read_csv(filename+\"一般卡會員(有完整地址).csv\",error_bad_lines=False,header=None)\n",
    "df_01.columns=['id','addr','lon','lat']\n",
    "df_01.shape"
   ]
  },
  {
   "cell_type": "markdown",
   "metadata": {},
   "source": [
    "## 第一次抓取 村里"
   ]
  },
  {
   "cell_type": "code",
   "execution_count": 158,
   "metadata": {},
   "outputs": [],
   "source": [
    "pattern = re.compile(r'(..[市,縣])(.{1,2}[市,區,鄉,鎮])(.{2,3}[里,村])')\n",
    "location=df_01.addr.apply(lambda x:pattern.findall(x))\n",
    "\n",
    "addr01=[]\n",
    "addr02=[]\n",
    "addr03=[]\n",
    "for i in location:\n",
    "    if len(i)==1:\n",
    "        addr01.append(i[0][0])\n",
    "        addr02.append(i[0][1])\n",
    "        addr03.append(i[0][2])        \n",
    "    else:\n",
    "        addr01.append(np.nan)\n",
    "        addr02.append(np.nan)\n",
    "        addr03.append(np.nan)  "
   ]
  },
  {
   "cell_type": "code",
   "execution_count": 159,
   "metadata": {},
   "outputs": [],
   "source": [
    "df_01['縣市']=addr01\n",
    "df_01['行政區']=addr02\n",
    "df_01['村里']=addr03"
   ]
  },
  {
   "cell_type": "markdown",
   "metadata": {},
   "source": [
    "### 第一次 有村里 資料"
   ]
  },
  {
   "cell_type": "code",
   "execution_count": 160,
   "metadata": {},
   "outputs": [
    {
     "data": {
      "text/plain": [
       "(800057, 7)"
      ]
     },
     "execution_count": 160,
     "metadata": {},
     "output_type": "execute_result"
    }
   ],
   "source": [
    "df_02=df_01.dropna()\n",
    "df_02.shape"
   ]
  },
  {
   "cell_type": "code",
   "execution_count": null,
   "metadata": {},
   "outputs": [],
   "source": []
  },
  {
   "cell_type": "markdown",
   "metadata": {},
   "source": [
    "### 村里邊界資料"
   ]
  },
  {
   "cell_type": "code",
   "execution_count": 161,
   "metadata": {},
   "outputs": [
    {
     "name": "stdout",
     "output_type": "stream",
     "text": [
      "(7760, 4)\n"
     ]
    },
    {
     "data": {
      "text/html": [
       "<div>\n",
       "<style scoped>\n",
       "    .dataframe tbody tr th:only-of-type {\n",
       "        vertical-align: middle;\n",
       "    }\n",
       "\n",
       "    .dataframe tbody tr th {\n",
       "        vertical-align: top;\n",
       "    }\n",
       "\n",
       "    .dataframe thead th {\n",
       "        text-align: right;\n",
       "    }\n",
       "</style>\n",
       "<table border=\"1\" class=\"dataframe\">\n",
       "  <thead>\n",
       "    <tr style=\"text-align: right;\">\n",
       "      <th></th>\n",
       "      <th>縣市</th>\n",
       "      <th>行政區</th>\n",
       "      <th>村里</th>\n",
       "      <th>geometry</th>\n",
       "    </tr>\n",
       "  </thead>\n",
       "  <tbody>\n",
       "    <tr>\n",
       "      <th>0</th>\n",
       "      <td>高雄市</td>\n",
       "      <td>林園區</td>\n",
       "      <td>中門里</td>\n",
       "      <td>POLYGON ((120.36772 22.49564, 120.36427 22.498...</td>\n",
       "    </tr>\n",
       "    <tr>\n",
       "      <th>1</th>\n",
       "      <td>高雄市</td>\n",
       "      <td>林園區</td>\n",
       "      <td>港埔里</td>\n",
       "      <td>POLYGON ((120.37325 22.49123, 120.37147 22.492...</td>\n",
       "    </tr>\n",
       "    <tr>\n",
       "      <th>2</th>\n",
       "      <td>高雄市</td>\n",
       "      <td>旗津區</td>\n",
       "      <td>上竹里</td>\n",
       "      <td>POLYGON ((120.28976 22.57317, 120.28577 22.577...</td>\n",
       "    </tr>\n",
       "    <tr>\n",
       "      <th>3</th>\n",
       "      <td>高雄市</td>\n",
       "      <td>旗津區</td>\n",
       "      <td>中興里</td>\n",
       "      <td>POLYGON ((120.30320 22.55568, 120.30284 22.557...</td>\n",
       "    </tr>\n",
       "    <tr>\n",
       "      <th>4</th>\n",
       "      <td>連江縣</td>\n",
       "      <td>南竿鄉</td>\n",
       "      <td>津沙村</td>\n",
       "      <td>POLYGON ((119.91684 26.14109, 119.91683 26.141...</td>\n",
       "    </tr>\n",
       "  </tbody>\n",
       "</table>\n",
       "</div>"
      ],
      "text/plain": [
       "    縣市  行政區   村里                                           geometry\n",
       "0  高雄市  林園區  中門里  POLYGON ((120.36772 22.49564, 120.36427 22.498...\n",
       "1  高雄市  林園區  港埔里  POLYGON ((120.37325 22.49123, 120.37147 22.492...\n",
       "2  高雄市  旗津區  上竹里  POLYGON ((120.28976 22.57317, 120.28577 22.577...\n",
       "3  高雄市  旗津區  中興里  POLYGON ((120.30320 22.55568, 120.30284 22.557...\n",
       "4  連江縣  南竿鄉  津沙村  POLYGON ((119.91684 26.14109, 119.91683 26.141..."
      ]
     },
     "execution_count": 161,
     "metadata": {},
     "output_type": "execute_result"
    }
   ],
   "source": [
    "gdf=gpd.read_file(r'C:\\Users\\RT009223\\TestriteGroup\\滲透率專案\\02_adjusted data\\geo data\\VILLAGE_MOI_1090423.shp',encoding='utf-8')\n",
    "gdf=gdf.loc[:,['COUNTYNAME','TOWNNAME','VILLNAME','geometry']]\n",
    "gdf=trans(gdf)\n",
    "gdf=gdf.dropna().reset_index(drop=True)\n",
    "print(gdf.shape)\n",
    "\n",
    "gdf.columns=['縣市','行政區','村里','geometry']\n",
    "gdf['縣市']=list(gdf['縣市'].apply(lambda x:x.replace('臺','台')))\n",
    "gdf['行政區']=list(gdf['行政區'].apply(lambda x:x.replace('臺','台')))\n",
    "gdf['村里']=list(gdf['村里'].apply(lambda x:x.replace('臺','台')))\n",
    "\n",
    "df_02['縣市']=list(df_02['縣市'].apply(lambda x:x.replace('臺','台')))\n",
    "df_02['行政區']=list(df_02['行政區'].apply(lambda x:x.replace('臺','台')))\n",
    "df_02['村里']=list(df_02['村里'].apply(lambda x:x.replace('臺','台')))\n",
    "\n",
    "gdf['村里']=gdf['村里'].apply(lambda x:x.replace('舘','館'))\n",
    "df_02['村里']=df_02['村里'].apply(lambda x:x.replace('舘','館'))\n",
    "gdf['村里']=gdf['村里'].apply(lambda x:x.replace('双','雙'))\n",
    "df_02['村里']=df_02['村里'].apply(lambda x:x.replace('双','雙'))\n",
    "gdf['村里']=gdf['村里'].apply(lambda x:x.replace('石[曹]里','石𥕢里'))\n",
    "gdf['村里']=gdf['村里'].apply(lambda x:x.replace('鷄林里','雞林里'))\n",
    "gdf['村里']=gdf['村里'].apply(lambda x:x.replace('水磜村','水祭村'))\n",
    "gdf['村里']=gdf['村里'].apply(lambda x:x.replace('珊湖里','珊瑚里'))\n",
    "\n",
    "gdf['村里']=gdf['村里'].apply(lambda x:x.replace('欍','瓊'))\n",
    "df_02['村里']=df_02['村里'].apply(lambda x:x.replace('溝垻里','溝埧里'))\n",
    "df_02['村里']=df_02['村里'].apply(lambda x:x.replace('崙峰里','崙峯里'))\n",
    "gdf.head()"
   ]
  },
  {
   "cell_type": "markdown",
   "metadata": {},
   "source": [
    "### 檢查1"
   ]
  },
  {
   "cell_type": "code",
   "execution_count": 162,
   "metadata": {},
   "outputs": [
    {
     "data": {
      "text/html": [
       "<div>\n",
       "<style scoped>\n",
       "    .dataframe tbody tr th:only-of-type {\n",
       "        vertical-align: middle;\n",
       "    }\n",
       "\n",
       "    .dataframe tbody tr th {\n",
       "        vertical-align: top;\n",
       "    }\n",
       "\n",
       "    .dataframe thead th {\n",
       "        text-align: right;\n",
       "    }\n",
       "</style>\n",
       "<table border=\"1\" class=\"dataframe\">\n",
       "  <thead>\n",
       "    <tr style=\"text-align: right;\">\n",
       "      <th></th>\n",
       "      <th>村里</th>\n",
       "      <th>n</th>\n",
       "    </tr>\n",
       "  </thead>\n",
       "  <tbody>\n",
       "    <tr>\n",
       "      <th>0</th>\n",
       "      <td>公?里</td>\n",
       "      <td>5</td>\n",
       "    </tr>\n",
       "    <tr>\n",
       "      <th>1</th>\n",
       "      <td>瓦?村</td>\n",
       "      <td>4</td>\n",
       "    </tr>\n",
       "    <tr>\n",
       "      <th>2</th>\n",
       "      <td>?林里</td>\n",
       "      <td>2</td>\n",
       "    </tr>\n",
       "    <tr>\n",
       "      <th>3</th>\n",
       "      <td>下?里</td>\n",
       "      <td>2</td>\n",
       "    </tr>\n",
       "    <tr>\n",
       "      <th>4</th>\n",
       "      <td>磚?里</td>\n",
       "      <td>2</td>\n",
       "    </tr>\n",
       "  </tbody>\n",
       "</table>\n",
       "</div>"
      ],
      "text/plain": [
       "    村里  n\n",
       "0  公?里  5\n",
       "1  瓦?村  4\n",
       "2  ?林里  2\n",
       "3  下?里  2\n",
       "4  磚?里  2"
      ]
     },
     "execution_count": 162,
     "metadata": {},
     "output_type": "execute_result"
    }
   ],
   "source": [
    "site1=df_02[-(df_02['縣市']+df_02['行政區']+df_02['村里']).isin(gdf['縣市']+gdf['行政區']+gdf['村里'])].groupby(['村里'])['行政區'].nunique().reset_index(name='n').sort_values(by='n',ascending=False).reset_index(drop=True)\n",
    "site1.head(5)"
   ]
  },
  {
   "cell_type": "code",
   "execution_count": 163,
   "metadata": {},
   "outputs": [
    {
     "name": "stdout",
     "output_type": "stream",
     "text": [
      "0 公?里 ['板橋區' '北港鎮' '西區' '湖內區' '西螺鎮']\n",
      "1 瓦?村 ['埔鹽鄉' '元長鄉' '麥寮鄉' '新園鄉']\n",
      "2 ?林里 ['竹東鎮' '大園區']\n",
      "3 下?里 ['彰化市' '東港鎮']\n",
      "4 磚?里 ['西區' '彰化市']\n",
      "5 ?子里 ['北屯區' '外埔區']\n",
      "6 南?里 ['彰化市' '官田區']\n",
      "7 ?榔里 ['清水區' '新屋區']\n",
      "8 忠興里 ['將軍區' '湖內區']\n",
      "9 珊湖里 ['頭份市']\n",
      "10 玉?里 ['山上區']\n",
      "11 爪峰里 ['瑞芳區']\n",
      "12 爪?里 ['瑞芳區']\n",
      "13 灰?里 ['中和區']\n",
      "14 海風里 ['鳳山區' '清水區']\n",
      "15 慈佑里 ['松山區']\n",
      "16 瑞?村 ['梅山鄉']\n",
      "17 永?里 ['三峽區']\n",
      "18 水？村 ['北埔鄉']\n",
      "19 水?村 ['北埔鄉']\n",
      "20 新部里 ['永和區']\n",
      "21 新?里 ['永和區']\n",
      "22 文?村 ['竹崎鄉']\n",
      "23 ??村 ['中埔鄉']\n",
      "24 瓦?里 ['中和區']\n",
      "25 瑪東里 ['七堵區' '安樂區']\n",
      "26 萬昌里 ['中西區']\n",
      "27 雙溪里 ['寶山鄉' '雙溪區']\n",
      "28 里?里 ['關山鎮']\n",
      "29 那拔里 ['新化區']\n",
      "30 詔安里 ['和美鎮' '鹿港鎮' '白河區' '西螺鎮']\n",
      "31 西和里 ['中西區' '將軍區']\n",
      "32 蜣寮里 ['樹林區']\n",
      "33 蔗?里 ['大肚區']\n",
      "34 舊?村 ['埔心鄉']\n",
      "35 崙?里 ['斗六市']\n",
      "36 自治里 ['中壢區' '西區']\n",
      "37 糖部里 ['萬華區']\n",
      "38 糖?里 ['萬華區']\n",
      "39 福松里 ['西區']\n",
      "40 磚瑤里 ['彰化市']\n",
      "41 石?村 ['中埔鄉']\n",
      "42 白雪里 ['南區']\n",
      "43 廈南村 ['萬丹鄉']\n",
      "44 山?里 ['新化區']\n",
      "45 崎?村 ['林邊鄉']\n",
      "46 ?山里 ['阿蓮區']\n",
      "47 ?田里 ['安南區']\n",
      "48 ?溪村 ['梅山鄉']\n",
      "49 ?洲里 ['永康區']\n",
      "50 ?洞里 ['瑞芳區']\n",
      "51 ?江里 ['麻豆區']\n",
      "52 ?林村 ['滿州鄉']\n",
      "53 ?廷里 ['土城區']\n",
      "54 ?寮里 ['樹林區']\n",
      "55 峰廷里 ['土城區']\n",
      "56 ?子村 ['埔鹽鄉']\n",
      "57 ?埔里 ['鳥松區']\n",
      "58 ?南里 ['左營區']\n",
      "59 ?南村 ['萬丹鄉']\n",
      "60 ?北里 ['左營區']\n",
      "61 ?北村 ['萬丹鄉']\n",
      "62 ?下村 ['名間鄉']\n",
      "63 ?福村 ['民雄鄉']\n",
      "64 ?興里 ['永康區']\n",
      "65 ?行里 ['永康區']\n",
      "66 ?龍里 ['西區']\n",
      "67 山腳里 ['泰山區' '苑裡鎮' '蘆竹區' '龍井區' '草屯鎮' '恆春鎮']\n",
      "68 ??里 ['竹山鎮']\n",
      "69 寶?里 ['彰化市']\n",
      "70 寮?里 ['麻豆區']\n",
      "71 大?里 ['員林市']\n",
      "72 埤?村 ['埔心鄉']\n",
      "73 和興里 ['鳳山區' '中和區' '中埔鄉' '屏東市']\n",
      "74 南?村 ['埔心鄉']\n",
      "75 公?村 ['綠島鄉']\n",
      "76 保安里 ['大同區' '永和區' '西區' '樹林區' '大社區' '鳳山區' '汐止區' '仁德區' '麻豆區']\n",
      "77 五?里 ['新店區']\n",
      "78 中營里 ['新營區' '下營區']\n",
      "79 上里 ['竹東鎮']\n",
      "80 上?里 ['竹東鎮']\n",
      "81 三?村 ['里港鄉']\n",
      "82 鹽行里 ['永康區']\n"
     ]
    }
   ],
   "source": [
    "number=0\n",
    "for i in site1[site1.n>0]['村里']:\n",
    "    print(number,i, df_02[df_02['村里']==i]['行政區'].unique())\n",
    "    number+=1"
   ]
  },
  {
   "cell_type": "code",
   "execution_count": 164,
   "metadata": {},
   "outputs": [
    {
     "name": "stdout",
     "output_type": "stream",
     "text": [
      "和美鎮 []\n",
      "鹿港鎮 []\n",
      "白河區 []\n",
      "西螺鎮 []\n"
     ]
    }
   ],
   "source": [
    "site2=site1[site1.n>0]['村里'][30]\n",
    "site3=df_02[df_02['村里']==site2]['行政區'].unique()\n",
    "\n",
    "for i in site3:\n",
    "    print(i,list(gdf[gdf['行政區']==i]['村里'][gdf[gdf['行政區']==i]['村里'].str.contains('山腳里')]))"
   ]
  },
  {
   "cell_type": "code",
   "execution_count": null,
   "metadata": {},
   "outputs": [],
   "source": []
  },
  {
   "cell_type": "code",
   "execution_count": 165,
   "metadata": {},
   "outputs": [
    {
     "data": {
      "text/html": [
       "<div>\n",
       "<style scoped>\n",
       "    .dataframe tbody tr th:only-of-type {\n",
       "        vertical-align: middle;\n",
       "    }\n",
       "\n",
       "    .dataframe tbody tr th {\n",
       "        vertical-align: top;\n",
       "    }\n",
       "\n",
       "    .dataframe thead th {\n",
       "        text-align: right;\n",
       "    }\n",
       "</style>\n",
       "<table border=\"1\" class=\"dataframe\">\n",
       "  <thead>\n",
       "    <tr style=\"text-align: right;\">\n",
       "      <th></th>\n",
       "      <th></th>\n",
       "      <th>id</th>\n",
       "      <th>addr</th>\n",
       "      <th>lon</th>\n",
       "      <th>lat</th>\n",
       "      <th>縣市</th>\n",
       "    </tr>\n",
       "    <tr>\n",
       "      <th>行政區</th>\n",
       "      <th>村里</th>\n",
       "      <th></th>\n",
       "      <th></th>\n",
       "      <th></th>\n",
       "      <th></th>\n",
       "      <th></th>\n",
       "    </tr>\n",
       "  </thead>\n",
       "  <tbody>\n",
       "    <tr>\n",
       "      <th>新店區</th>\n",
       "      <th>五?里</th>\n",
       "      <td>736</td>\n",
       "      <td>736</td>\n",
       "      <td>736</td>\n",
       "      <td>736</td>\n",
       "      <td>736</td>\n",
       "    </tr>\n",
       "    <tr>\n",
       "      <th>北屯區</th>\n",
       "      <th>?子里</th>\n",
       "      <td>643</td>\n",
       "      <td>643</td>\n",
       "      <td>643</td>\n",
       "      <td>643</td>\n",
       "      <td>643</td>\n",
       "    </tr>\n",
       "    <tr>\n",
       "      <th>竹東鎮</th>\n",
       "      <th>上?里</th>\n",
       "      <td>501</td>\n",
       "      <td>501</td>\n",
       "      <td>501</td>\n",
       "      <td>501</td>\n",
       "      <td>501</td>\n",
       "    </tr>\n",
       "    <tr>\n",
       "      <th>永康區</th>\n",
       "      <th>?行里</th>\n",
       "      <td>425</td>\n",
       "      <td>425</td>\n",
       "      <td>425</td>\n",
       "      <td>425</td>\n",
       "      <td>425</td>\n",
       "    </tr>\n",
       "    <tr>\n",
       "      <th>三峽區</th>\n",
       "      <th>永?里</th>\n",
       "      <td>419</td>\n",
       "      <td>419</td>\n",
       "      <td>419</td>\n",
       "      <td>419</td>\n",
       "      <td>419</td>\n",
       "    </tr>\n",
       "    <tr>\n",
       "      <th>彰化市</th>\n",
       "      <th>南?里</th>\n",
       "      <td>394</td>\n",
       "      <td>394</td>\n",
       "      <td>394</td>\n",
       "      <td>394</td>\n",
       "      <td>394</td>\n",
       "    </tr>\n",
       "    <tr>\n",
       "      <th>土城區</th>\n",
       "      <th>?廷里</th>\n",
       "      <td>344</td>\n",
       "      <td>344</td>\n",
       "      <td>344</td>\n",
       "      <td>344</td>\n",
       "      <td>344</td>\n",
       "    </tr>\n",
       "    <tr>\n",
       "      <th>彰化市</th>\n",
       "      <th>下?里</th>\n",
       "      <td>265</td>\n",
       "      <td>265</td>\n",
       "      <td>265</td>\n",
       "      <td>265</td>\n",
       "      <td>265</td>\n",
       "    </tr>\n",
       "    <tr>\n",
       "      <th>中和區</th>\n",
       "      <th>瓦?里</th>\n",
       "      <td>243</td>\n",
       "      <td>243</td>\n",
       "      <td>243</td>\n",
       "      <td>243</td>\n",
       "      <td>243</td>\n",
       "    </tr>\n",
       "    <tr>\n",
       "      <th>永康區</th>\n",
       "      <th>?興里</th>\n",
       "      <td>241</td>\n",
       "      <td>241</td>\n",
       "      <td>241</td>\n",
       "      <td>241</td>\n",
       "      <td>241</td>\n",
       "    </tr>\n",
       "    <tr>\n",
       "      <th>西區</th>\n",
       "      <th>公?里</th>\n",
       "      <td>240</td>\n",
       "      <td>240</td>\n",
       "      <td>240</td>\n",
       "      <td>240</td>\n",
       "      <td>240</td>\n",
       "    </tr>\n",
       "    <tr>\n",
       "      <th>竹東鎮</th>\n",
       "      <th>?林里</th>\n",
       "      <td>216</td>\n",
       "      <td>216</td>\n",
       "      <td>216</td>\n",
       "      <td>216</td>\n",
       "      <td>216</td>\n",
       "    </tr>\n",
       "    <tr>\n",
       "      <th rowspan=\"2\" valign=\"top\">西區</th>\n",
       "      <th>?龍里</th>\n",
       "      <td>164</td>\n",
       "      <td>164</td>\n",
       "      <td>164</td>\n",
       "      <td>164</td>\n",
       "      <td>164</td>\n",
       "    </tr>\n",
       "    <tr>\n",
       "      <th>磚?里</th>\n",
       "      <td>164</td>\n",
       "      <td>164</td>\n",
       "      <td>164</td>\n",
       "      <td>164</td>\n",
       "      <td>164</td>\n",
       "    </tr>\n",
       "    <tr>\n",
       "      <th>永康區</th>\n",
       "      <th>?洲里</th>\n",
       "      <td>151</td>\n",
       "      <td>151</td>\n",
       "      <td>151</td>\n",
       "      <td>151</td>\n",
       "      <td>151</td>\n",
       "    </tr>\n",
       "  </tbody>\n",
       "</table>\n",
       "</div>"
      ],
      "text/plain": [
       "          id  addr  lon  lat   縣市\n",
       "行政區 村里                           \n",
       "新店區 五?里  736   736  736  736  736\n",
       "北屯區 ?子里  643   643  643  643  643\n",
       "竹東鎮 上?里  501   501  501  501  501\n",
       "永康區 ?行里  425   425  425  425  425\n",
       "三峽區 永?里  419   419  419  419  419\n",
       "彰化市 南?里  394   394  394  394  394\n",
       "土城區 ?廷里  344   344  344  344  344\n",
       "彰化市 下?里  265   265  265  265  265\n",
       "中和區 瓦?里  243   243  243  243  243\n",
       "永康區 ?興里  241   241  241  241  241\n",
       "西區  公?里  240   240  240  240  240\n",
       "竹東鎮 ?林里  216   216  216  216  216\n",
       "西區  ?龍里  164   164  164  164  164\n",
       "    磚?里  164   164  164  164  164\n",
       "永康區 ?洲里  151   151  151  151  151"
      ]
     },
     "execution_count": 165,
     "metadata": {},
     "output_type": "execute_result"
    }
   ],
   "source": [
    "df_02[-(df_02['縣市']+df_02['行政區']+df_02['村里']).isin(gdf['縣市']+gdf['行政區']+gdf['村里'])].groupby(['行政區','村里']).count().sort_values(by='id',ascending=False).head(15)"
   ]
  },
  {
   "cell_type": "code",
   "execution_count": 166,
   "metadata": {},
   "outputs": [
    {
     "data": {
      "text/html": [
       "<div>\n",
       "<style scoped>\n",
       "    .dataframe tbody tr th:only-of-type {\n",
       "        vertical-align: middle;\n",
       "    }\n",
       "\n",
       "    .dataframe tbody tr th {\n",
       "        vertical-align: top;\n",
       "    }\n",
       "\n",
       "    .dataframe thead th {\n",
       "        text-align: right;\n",
       "    }\n",
       "</style>\n",
       "<table border=\"1\" class=\"dataframe\">\n",
       "  <thead>\n",
       "    <tr style=\"text-align: right;\">\n",
       "      <th></th>\n",
       "      <th>縣市</th>\n",
       "      <th>行政區</th>\n",
       "      <th>村里</th>\n",
       "      <th>geometry</th>\n",
       "    </tr>\n",
       "  </thead>\n",
       "  <tbody>\n",
       "    <tr>\n",
       "      <th>119</th>\n",
       "      <td>屏東縣</td>\n",
       "      <td>里港鄉</td>\n",
       "      <td>三廍村</td>\n",
       "      <td>POLYGON ((120.52497 22.79960, 120.52385 22.799...</td>\n",
       "    </tr>\n",
       "  </tbody>\n",
       "</table>\n",
       "</div>"
      ],
      "text/plain": [
       "      縣市  行政區   村里                                           geometry\n",
       "119  屏東縣  里港鄉  三廍村  POLYGON ((120.52497 22.79960, 120.52385 22.799..."
      ]
     },
     "execution_count": 166,
     "metadata": {},
     "output_type": "execute_result"
    }
   ],
   "source": [
    "gdf[gdf['村里']=='三廍村']"
   ]
  },
  {
   "cell_type": "code",
   "execution_count": 167,
   "metadata": {},
   "outputs": [
    {
     "data": {
      "text/plain": [
       "array(['新店區'], dtype=object)"
      ]
     },
     "execution_count": 167,
     "metadata": {},
     "output_type": "execute_result"
    }
   ],
   "source": [
    "df_02[df_02['村里']=='五?里']['行政區'].unique()"
   ]
  },
  {
   "cell_type": "code",
   "execution_count": null,
   "metadata": {},
   "outputs": [],
   "source": []
  },
  {
   "cell_type": "markdown",
   "metadata": {},
   "source": [
    "### 字元調整"
   ]
  },
  {
   "cell_type": "code",
   "execution_count": 168,
   "metadata": {},
   "outputs": [],
   "source": [
    "df_02['村里']=df_02['村里'].apply(lambda x:x.replace('糖部里','糖廍里'))\n",
    "df_02['村里']=df_02['村里'].apply(lambda x:x.replace('糖?里','糖廍里'))\n",
    "df_02['村里']=df_02['村里'].apply(lambda x:x.replace('磚?里','磚磘里'))\n",
    "df_02['村里']=df_02['村里'].apply(lambda x:x.replace('磚瑤里','磚磘里'))\n",
    "df_02['村里']=df_02['村里'].apply(lambda x:x.replace('珊湖里','珊瑚里'))\n",
    "df_02['村里']=df_02['村里'].apply(lambda x:x.replace('下?里','下廍里'))\n",
    "\n",
    "df_02.loc[df_02['行政區']=='彰化市',['村里']]=df_02.loc[df_02['行政區']=='彰化市',['村里']].apply(lambda x:x.replace('南?里','南瑶里'))\n",
    "df_02.loc[df_02['行政區']=='官田區',['村里']]=df_02.loc[df_02['行政區']=='官田區',['村里']].apply(lambda x:x.replace('南?里','南廍里'))\n",
    "#df_02['村里']=df_02['村里'].apply(lambda x:x.replace('南?里','南瑶里'))\n",
    "\n",
    "\n",
    "df_02['村里']=df_02['村里'].apply(lambda x:x.replace('崙?里','崙峯里'))\n",
    "df_02['村里']=df_02['村里'].apply(lambda x:x.replace('?子里','廍子里'))\n",
    "\n",
    "df_02['村里']=df_02['村里'].apply(lambda x:x.replace('石?村','石硦村'))\n",
    "df_02['村里']=df_02['村里'].apply(lambda x:x.replace('上?里','上館里'))\n",
    "df_02['村里']=df_02['村里'].apply(lambda x:x.replace('永?里','永館里'))\n",
    "\n",
    "df_02['村里']=df_02['村里'].apply(lambda x:x.replace('瓦?村','瓦磘村'))\n",
    "df_02['村里']=df_02['村里'].apply(lambda x:x.replace('瓦?里','瓦磘里'))\n",
    "df_02['村里']=df_02['村里'].apply(lambda x:x.replace('五?里','五峯里'))\n",
    "df_02['村里']=df_02['村里'].apply(lambda x:x.replace('?行里','塩行里'))\n",
    "df_02['村里']=df_02['村里'].apply(lambda x:x.replace('?廷里','峯廷里'))\n",
    "\n",
    "df_02['村里']=df_02['村里'].apply(lambda x:x.replace('?興里','塩興里'))\n",
    "df_02['村里']=df_02['村里'].apply(lambda x:x.replace('?廷里','峯廷里'))\n",
    "\n",
    "df_02['村里']=df_02['村里'].apply(lambda x:x.replace('公?里','公館里'))\n",
    "\n",
    "df_02['村里']=df_02['村里'].apply(lambda x:x.replace('?洲里','塩洲里'))\n",
    "df_02['村里']=df_02['村里'].apply(lambda x:x.replace('?龍里','雙龍里'))\n",
    "\n",
    "#df_02['村里']=df_02['村里'].apply(lambda x:x.replace('?林里','雞林里'))\n",
    "df_02.loc[df_02['行政區']=='竹東鎮',['村里']]=df_02.loc[df_02['行政區']=='竹東鎮',['村里']].apply(lambda x:x.replace('?林里','雞林里'))\n",
    "\n",
    "df_02.loc[df_02['行政區']=='大園區',['村里']]=df_02.loc[df_02['行政區']=='大園區',['村里']].apply(lambda x:x.replace('?林里','菓林里'))\n",
    "\n",
    "df_02['村里']=df_02['村里'].apply(lambda x:x.replace('?寮里','獇寮里'))\n",
    "df_02['村里']=df_02['村里'].apply(lambda x:x.replace('新?里','新廍里'))\n",
    "\n",
    "df_02['村里']=df_02['村里'].apply(lambda x:x.replace('蔗?里','蔗廍里'))\n",
    "df_02['村里']=df_02['村里'].apply(lambda x:x.replace('?埔里','坔埔里'))\n",
    "df_02['村里']=df_02['村里'].apply(lambda x:x.replace('?榔里','槺榔里'))\n",
    "df_02['村里']=df_02['村里'].apply(lambda x:x.replace('?江里','晋江里'))\n",
    "df_02['村里']=df_02['村里'].apply(lambda x:x.replace('?福村','雙福村'))\n",
    "df_02['村里']=df_02['村里'].apply(lambda x:x.replace('爪?里','爪峯里'))\n",
    "\n",
    "df_02['村里']=df_02['村里'].apply(lambda x:x.replace('舊?村','舊館村'))\n",
    "df_02['村里']=df_02['村里'].apply(lambda x:x.replace('南?村','南館村'))\n",
    "\n",
    "df_02['村里']=df_02['村里'].apply(lambda x:x.replace('灰?里','灰磘里'))\n",
    "df_02['村里']=df_02['村里'].apply(lambda x:x.replace('三?村','三廍村'))\n",
    "\n",
    "\n",
    "df_02.loc[df_02['行政區']=='將軍區',['村里']]=df_02.loc[df_02['行政區']=='將軍區',['村里']].apply(lambda x:x.replace('忠興里','忠嘉里'))\n",
    "\n",
    "df_02['村里']=df_02['村里'].apply(lambda x:x.replace('下部里','下廍里'))\n",
    "df_02.loc[df_02['行政區']=='埔鹽鄉',['村里']]=df_02.loc[df_02['行政區']=='埔鹽鄉',['村里']].apply(lambda x:x.replace('?子村','廍子村'))\n",
    "df_02.loc[df_02['行政區']=='四湖鄉',['村里']]=df_02.loc[df_02['行政區']=='四湖鄉',['村里']].apply(lambda x:x.replace('?子村','萡子村'))\n",
    "\n",
    "df_02['村里']=df_02['村里'].apply(lambda x:x.replace('?田里','塩田里'))\n",
    "df_02['村里']=df_02['村里'].apply(lambda x:x.replace('山?里','山脚里'))"
   ]
  },
  {
   "cell_type": "code",
   "execution_count": null,
   "metadata": {},
   "outputs": [],
   "source": []
  },
  {
   "cell_type": "markdown",
   "metadata": {},
   "source": [
    "### 第一次抓取 村里 與 geo data 合不合"
   ]
  },
  {
   "cell_type": "code",
   "execution_count": 169,
   "metadata": {},
   "outputs": [
    {
     "name": "stdout",
     "output_type": "stream",
     "text": [
      "(799853, 7)\n",
      "(204, 7)\n"
     ]
    }
   ],
   "source": [
    "#合\n",
    "df_02_1=df_02[(df_02['縣市']+df_02['行政區']+df_02['村里']).isin(gdf['縣市']+gdf['行政區']+gdf['村里'])].reset_index(drop=True)\n",
    "\n",
    "#不合\n",
    "df_02_2=df_02[-(df_02['縣市']+df_02['行政區']+df_02['村里']).isin(gdf['縣市']+gdf['行政區']+gdf['村里'])].reset_index(drop=True)\n",
    "print(df_02_1.shape)\n",
    "print(df_02_2.shape)"
   ]
  },
  {
   "cell_type": "markdown",
   "metadata": {},
   "source": [
    "### 不合的資料用經緯度 與村里邊界資料mapping"
   ]
  },
  {
   "cell_type": "code",
   "execution_count": 170,
   "metadata": {},
   "outputs": [],
   "source": [
    "df_02_2.lon=df_02_2.lon.apply(lambda x:float(x))\n",
    "df_02_2.lat=df_02_2.lat.apply(lambda x:float(x))"
   ]
  },
  {
   "cell_type": "code",
   "execution_count": 171,
   "metadata": {},
   "outputs": [
    {
     "name": "stdout",
     "output_type": "stream",
     "text": [
      "(204, 8)\n"
     ]
    }
   ],
   "source": [
    "geom=[Point(data.lon,data.lat) for idx, data in df_02_2.iterrows()]\n",
    "crs = {'init': 'epsg:4326'}\n",
    "df_02_2 = gpd.GeoDataFrame(df_02_2, crs=crs, geometry=geom)\n",
    "print(df_02_2.shape)"
   ]
  },
  {
   "cell_type": "code",
   "execution_count": 172,
   "metadata": {},
   "outputs": [
    {
     "data": {
      "text/plain": [
       "(204, 12)"
      ]
     },
     "execution_count": 172,
     "metadata": {},
     "output_type": "execute_result"
    }
   ],
   "source": [
    "df_02_3 = gpd.tools.sjoin(df_02_2,gdf, how=\"inner\", op='intersects')\n",
    "df_02_3.shape"
   ]
  },
  {
   "cell_type": "code",
   "execution_count": 173,
   "metadata": {},
   "outputs": [
    {
     "data": {
      "text/html": [
       "<div>\n",
       "<style scoped>\n",
       "    .dataframe tbody tr th:only-of-type {\n",
       "        vertical-align: middle;\n",
       "    }\n",
       "\n",
       "    .dataframe tbody tr th {\n",
       "        vertical-align: top;\n",
       "    }\n",
       "\n",
       "    .dataframe thead th {\n",
       "        text-align: right;\n",
       "    }\n",
       "</style>\n",
       "<table border=\"1\" class=\"dataframe\">\n",
       "  <thead>\n",
       "    <tr style=\"text-align: right;\">\n",
       "      <th></th>\n",
       "      <th>id</th>\n",
       "      <th>addr</th>\n",
       "      <th>lon</th>\n",
       "      <th>lat</th>\n",
       "      <th>縣市</th>\n",
       "      <th>行政區</th>\n",
       "      <th>村里</th>\n",
       "    </tr>\n",
       "  </thead>\n",
       "  <tbody>\n",
       "    <tr>\n",
       "      <th>0</th>\n",
       "      <td>20181013000650</td>\n",
       "      <td>苗栗縣苑裡鎮山腳里17鄰錦山25號                             ...</td>\n",
       "      <td>120.690862</td>\n",
       "      <td>24.418408</td>\n",
       "      <td>苗栗縣</td>\n",
       "      <td>苑裡鎮</td>\n",
       "      <td>山脚里</td>\n",
       "    </tr>\n",
       "    <tr>\n",
       "      <th>1</th>\n",
       "      <td>20051002000442</td>\n",
       "      <td>苗栗縣苑裡鎮山腳里4鄰山腳109號                             ...</td>\n",
       "      <td>120.687331</td>\n",
       "      <td>24.413711</td>\n",
       "      <td>苗栗縣</td>\n",
       "      <td>苑裡鎮</td>\n",
       "      <td>山脚里</td>\n",
       "    </tr>\n",
       "    <tr>\n",
       "      <th>2</th>\n",
       "      <td>20180504000105</td>\n",
       "      <td>苗栗縣苑裡鎮山腳里5鄰山腳137號                             ...</td>\n",
       "      <td>120.686868</td>\n",
       "      <td>24.414172</td>\n",
       "      <td>苗栗縣</td>\n",
       "      <td>苑裡鎮</td>\n",
       "      <td>山脚里</td>\n",
       "    </tr>\n",
       "    <tr>\n",
       "      <th>3</th>\n",
       "      <td>20030517002267</td>\n",
       "      <td>苗栗縣苑裡鎮山腳里10鄰山腳236號                            ...</td>\n",
       "      <td>120.685573</td>\n",
       "      <td>24.415383</td>\n",
       "      <td>苗栗縣</td>\n",
       "      <td>苑裡鎮</td>\n",
       "      <td>山脚里</td>\n",
       "    </tr>\n",
       "    <tr>\n",
       "      <th>4</th>\n",
       "      <td>20010727000403</td>\n",
       "      <td>苗栗縣苑裡鎮山腳里20鄰錦山74之2號                           ...</td>\n",
       "      <td>120.688963</td>\n",
       "      <td>24.419965</td>\n",
       "      <td>苗栗縣</td>\n",
       "      <td>苑裡鎮</td>\n",
       "      <td>山脚里</td>\n",
       "    </tr>\n",
       "  </tbody>\n",
       "</table>\n",
       "</div>"
      ],
      "text/plain": [
       "               id                                               addr  \\\n",
       "0  20181013000650  苗栗縣苑裡鎮山腳里17鄰錦山25號                             ...   \n",
       "1  20051002000442  苗栗縣苑裡鎮山腳里4鄰山腳109號                             ...   \n",
       "2  20180504000105  苗栗縣苑裡鎮山腳里5鄰山腳137號                             ...   \n",
       "3  20030517002267  苗栗縣苑裡鎮山腳里10鄰山腳236號                            ...   \n",
       "4  20010727000403  苗栗縣苑裡鎮山腳里20鄰錦山74之2號                           ...   \n",
       "\n",
       "          lon        lat   縣市  行政區   村里  \n",
       "0  120.690862  24.418408  苗栗縣  苑裡鎮  山脚里  \n",
       "1  120.687331  24.413711  苗栗縣  苑裡鎮  山脚里  \n",
       "2  120.686868  24.414172  苗栗縣  苑裡鎮  山脚里  \n",
       "3  120.685573  24.415383  苗栗縣  苑裡鎮  山脚里  \n",
       "4  120.688963  24.419965  苗栗縣  苑裡鎮  山脚里  "
      ]
     },
     "execution_count": 173,
     "metadata": {},
     "output_type": "execute_result"
    }
   ],
   "source": [
    "df_02_3=df_02_3.iloc[:,[0,1,2,3,9,10,11]].reset_index(drop=True)\n",
    "df_02_3.columns=['id','addr','lon','lat','縣市','行政區','村里']\n",
    "df_02_3.head()"
   ]
  },
  {
   "cell_type": "markdown",
   "metadata": {},
   "source": [
    "## 合併 合與不合的資料\n",
    "## 獲得完整的第一次抓取 村里"
   ]
  },
  {
   "cell_type": "code",
   "execution_count": 174,
   "metadata": {},
   "outputs": [
    {
     "data": {
      "text/plain": [
       "(800057, 7)"
      ]
     },
     "execution_count": 174,
     "metadata": {},
     "output_type": "execute_result"
    }
   ],
   "source": [
    "df_02=pd.concat([df_02_1,df_02_3]).reset_index(drop=True)\n",
    "df_02.shape"
   ]
  },
  {
   "cell_type": "code",
   "execution_count": null,
   "metadata": {},
   "outputs": [],
   "source": []
  },
  {
   "cell_type": "markdown",
   "metadata": {},
   "source": [
    "## 第一次抓取 無村里的資料"
   ]
  },
  {
   "cell_type": "code",
   "execution_count": 175,
   "metadata": {},
   "outputs": [
    {
     "data": {
      "text/plain": [
       "(200, 7)"
      ]
     },
     "execution_count": 175,
     "metadata": {},
     "output_type": "execute_result"
    }
   ],
   "source": [
    "df_03=df_01[-df_01.id.isin(df_02.id)].dropna(subset=['lon'])\n",
    "df_03.shape"
   ]
  },
  {
   "cell_type": "markdown",
   "metadata": {},
   "source": [
    "### 第二次抓取 村里"
   ]
  },
  {
   "cell_type": "code",
   "execution_count": 176,
   "metadata": {},
   "outputs": [],
   "source": [
    "pattern = re.compile(r'(..[市,縣])(.{2,3}[市,區,鄉,鎮])(.{1,2}[里,村])')\n",
    "location=df_03.addr.apply(lambda x:pattern.findall(x))\n",
    "\n",
    "addr01=[]\n",
    "addr02=[]\n",
    "addr03=[]\n",
    "for i in location:\n",
    "    if len(i)==1:\n",
    "        addr01.append(i[0][0])\n",
    "        addr02.append(i[0][1])\n",
    "        addr03.append(i[0][2])        \n",
    "    else:\n",
    "        addr01.append(np.nan)\n",
    "        addr02.append(np.nan)\n",
    "        addr03.append(np.nan)  "
   ]
  },
  {
   "cell_type": "code",
   "execution_count": 177,
   "metadata": {},
   "outputs": [],
   "source": [
    "df_03['縣市']=addr01\n",
    "df_03['行政區']=addr02\n",
    "df_03['村里']=addr03"
   ]
  },
  {
   "cell_type": "markdown",
   "metadata": {},
   "source": [
    "### 第二次抓取 村里 與 geo data 合不合"
   ]
  },
  {
   "cell_type": "code",
   "execution_count": 178,
   "metadata": {},
   "outputs": [
    {
     "name": "stdout",
     "output_type": "stream",
     "text": [
      "(94, 7)\n",
      "(106, 7)\n"
     ]
    }
   ],
   "source": [
    "#合\n",
    "df_03_1=df_03[(df_03['縣市']+df_03['行政區']+df_03['村里']).isin(gdf['縣市']+gdf['行政區']+gdf['村里'])].reset_index(drop=True)\n",
    "print(df_03_1.shape)\n",
    "\n",
    "#不合\n",
    "df_03_2=df_03[-(df_03['縣市']+df_03['行政區']+df_03['村里']).isin(gdf['縣市']+gdf['行政區']+gdf['村里'])].reset_index(drop=True)\n",
    "print(df_03_2.shape)\n"
   ]
  },
  {
   "cell_type": "markdown",
   "metadata": {},
   "source": [
    "### 不合的資料用經緯度 與村里邊界資料mapping"
   ]
  },
  {
   "cell_type": "code",
   "execution_count": 179,
   "metadata": {},
   "outputs": [],
   "source": [
    "def to_float(x):\n",
    "    try:\n",
    "        return float(x)\n",
    "    except:\n",
    "        return 0"
   ]
  },
  {
   "cell_type": "code",
   "execution_count": 180,
   "metadata": {},
   "outputs": [],
   "source": [
    "df_03_2.lon=df_03_2.lon.apply(to_float)\n",
    "df_03_2.lat=df_03_2.lat.apply(to_float)"
   ]
  },
  {
   "cell_type": "code",
   "execution_count": 181,
   "metadata": {},
   "outputs": [
    {
     "name": "stdout",
     "output_type": "stream",
     "text": [
      "(106, 8)\n"
     ]
    }
   ],
   "source": [
    "geom=[Point(data.lon,data.lat) for idx, data in df_03_2.iterrows()]\n",
    "crs = {'init': 'epsg:4326'}\n",
    "df_03_2 = gpd.GeoDataFrame(df_03_2, crs=crs, geometry=geom)\n",
    "print(df_03_2.shape)"
   ]
  },
  {
   "cell_type": "code",
   "execution_count": 182,
   "metadata": {},
   "outputs": [
    {
     "data": {
      "text/plain": [
       "(103, 12)"
      ]
     },
     "execution_count": 182,
     "metadata": {},
     "output_type": "execute_result"
    }
   ],
   "source": [
    "df_03_3 = gpd.tools.sjoin(df_03_2,gdf, how=\"inner\", op='intersects')\n",
    "df_03_3.shape"
   ]
  },
  {
   "cell_type": "code",
   "execution_count": 183,
   "metadata": {},
   "outputs": [
    {
     "data": {
      "text/html": [
       "<div>\n",
       "<style scoped>\n",
       "    .dataframe tbody tr th:only-of-type {\n",
       "        vertical-align: middle;\n",
       "    }\n",
       "\n",
       "    .dataframe tbody tr th {\n",
       "        vertical-align: top;\n",
       "    }\n",
       "\n",
       "    .dataframe thead th {\n",
       "        text-align: right;\n",
       "    }\n",
       "</style>\n",
       "<table border=\"1\" class=\"dataframe\">\n",
       "  <thead>\n",
       "    <tr style=\"text-align: right;\">\n",
       "      <th></th>\n",
       "      <th>id</th>\n",
       "      <th>addr</th>\n",
       "      <th>lon</th>\n",
       "      <th>lat</th>\n",
       "      <th>縣市</th>\n",
       "      <th>行政區</th>\n",
       "      <th>村里</th>\n",
       "      <th>geometry</th>\n",
       "    </tr>\n",
       "  </thead>\n",
       "  <tbody>\n",
       "    <tr>\n",
       "      <th>20</th>\n",
       "      <td>20180204000965</td>\n",
       "      <td>埼玉?入間郡越生町如意                                   ...</td>\n",
       "      <td>139.313597</td>\n",
       "      <td>35.961175</td>\n",
       "      <td>NaN</td>\n",
       "      <td>NaN</td>\n",
       "      <td>NaN</td>\n",
       "      <td>POINT (139.31360 35.96117)</td>\n",
       "    </tr>\n",
       "    <tr>\n",
       "      <th>34</th>\n",
       "      <td>20180124000269</td>\n",
       "      <td>愛知?西尾市田貫町新明                                   ...</td>\n",
       "      <td>137.027095</td>\n",
       "      <td>34.872646</td>\n",
       "      <td>NaN</td>\n",
       "      <td>NaN</td>\n",
       "      <td>NaN</td>\n",
       "      <td>POINT (137.02709 34.87265)</td>\n",
       "    </tr>\n",
       "    <tr>\n",
       "      <th>59</th>\n",
       "      <td>20020410000073</td>\n",
       "      <td>A Choshimachi Kanazawa Ishikawa               ...</td>\n",
       "      <td>136.702196</td>\n",
       "      <td>36.520963</td>\n",
       "      <td>NaN</td>\n",
       "      <td>NaN</td>\n",
       "      <td>NaN</td>\n",
       "      <td>POINT (136.70220 36.52096)</td>\n",
       "    </tr>\n",
       "  </tbody>\n",
       "</table>\n",
       "</div>"
      ],
      "text/plain": [
       "                id                                               addr  \\\n",
       "20  20180204000965  埼玉?入間郡越生町如意                                   ...   \n",
       "34  20180124000269  愛知?西尾市田貫町新明                                   ...   \n",
       "59  20020410000073  A Choshimachi Kanazawa Ishikawa               ...   \n",
       "\n",
       "           lon        lat   縣市  行政區   村里                    geometry  \n",
       "20  139.313597  35.961175  NaN  NaN  NaN  POINT (139.31360 35.96117)  \n",
       "34  137.027095  34.872646  NaN  NaN  NaN  POINT (137.02709 34.87265)  \n",
       "59  136.702196  36.520963  NaN  NaN  NaN  POINT (136.70220 36.52096)  "
      ]
     },
     "execution_count": 183,
     "metadata": {},
     "output_type": "execute_result"
    }
   ],
   "source": [
    "df_03_2[-df_03_2.id.isin(df_03_3.id)]"
   ]
  },
  {
   "cell_type": "code",
   "execution_count": 184,
   "metadata": {},
   "outputs": [
    {
     "data": {
      "text/plain": [
       "(103, 7)"
      ]
     },
     "execution_count": 184,
     "metadata": {},
     "output_type": "execute_result"
    }
   ],
   "source": [
    "df_03_3=df_03_3.iloc[:,[0,1,2,3,9,10,11]].reset_index(drop=True)\n",
    "df_03_3.columns=['id','addr','lon','lat','縣市','行政區','村里']\n",
    "df_03_3.shape"
   ]
  },
  {
   "cell_type": "markdown",
   "metadata": {},
   "source": [
    "## 合併 合與不合的資料\n",
    "## 獲得完整的第二次抓取 村里"
   ]
  },
  {
   "cell_type": "code",
   "execution_count": 185,
   "metadata": {},
   "outputs": [],
   "source": [
    "df_03=pd.concat([df_03_1,df_03_3]).reset_index(drop=True)"
   ]
  },
  {
   "cell_type": "markdown",
   "metadata": {},
   "source": [
    "## 合併 第一次抓取 有村里 與 無村里 資料，獲得SLQ有正確地址的資料"
   ]
  },
  {
   "cell_type": "code",
   "execution_count": 186,
   "metadata": {},
   "outputs": [
    {
     "data": {
      "text/plain": [
       "(800254, 7)"
      ]
     },
     "execution_count": 186,
     "metadata": {},
     "output_type": "execute_result"
    }
   ],
   "source": [
    "df_01=pd.concat([df_02,df_03]).reset_index(drop=True)\n",
    "df_01.shape"
   ]
  },
  {
   "cell_type": "code",
   "execution_count": null,
   "metadata": {},
   "outputs": [],
   "source": []
  },
  {
   "cell_type": "markdown",
   "metadata": {},
   "source": [
    "# 存檔"
   ]
  },
  {
   "cell_type": "code",
   "execution_count": 187,
   "metadata": {},
   "outputs": [],
   "source": [
    "df_01.to_csv('C:/Users/RT009223/TestriteGroup/滲透率專案/02_adjusted data/'+save_file+'會員位置(經整理_配對村里)_一般卡_'+save_year+'.txt',index=0)"
   ]
  },
  {
   "cell_type": "code",
   "execution_count": null,
   "metadata": {},
   "outputs": [],
   "source": []
  },
  {
   "cell_type": "code",
   "execution_count": null,
   "metadata": {},
   "outputs": [],
   "source": []
  },
  {
   "cell_type": "markdown",
   "metadata": {},
   "source": [
    "# SLQ無正確地址的資料"
   ]
  },
  {
   "cell_type": "code",
   "execution_count": 188,
   "metadata": {},
   "outputs": [
    {
     "data": {
      "text/plain": [
       "(117599, 3)"
      ]
     },
     "execution_count": 188,
     "metadata": {},
     "output_type": "execute_result"
    }
   ],
   "source": [
    "df_04=pd.read_excel(filename+'一般卡會員(無完整地址).xlsx')\n",
    "df_04.shape"
   ]
  },
  {
   "cell_type": "code",
   "execution_count": 189,
   "metadata": {},
   "outputs": [],
   "source": [
    "df_04['addr']=df_04.addr.apply(lambda x:str(x))"
   ]
  },
  {
   "cell_type": "markdown",
   "metadata": {},
   "source": [
    "# 區分有可用的地址 與 無可用的地址\n",
    "## 有可用的地址"
   ]
  },
  {
   "cell_type": "code",
   "execution_count": 190,
   "metadata": {},
   "outputs": [
    {
     "data": {
      "text/plain": [
       "(66729, 3)"
      ]
     },
     "execution_count": 190,
     "metadata": {},
     "output_type": "execute_result"
    }
   ],
   "source": [
    "df_04_1=df_04[df_04.addr.apply(lambda x:len(x)>9)].reset_index(drop=True)\n",
    "df_04_1.shape"
   ]
  },
  {
   "cell_type": "code",
   "execution_count": 191,
   "metadata": {},
   "outputs": [],
   "source": [
    "pattern = re.compile(r'..[市,縣].+[路,街].+')\n",
    "location=df_04_1.addr.apply(lambda x:pattern.findall((x)))\n",
    "\n",
    "addr01=[]\n",
    "for i in location:\n",
    "    if len(i)==1:\n",
    "        addr01.append(i[0])      \n",
    "    else:\n",
    "        addr01.append(np.nan)"
   ]
  },
  {
   "cell_type": "code",
   "execution_count": 192,
   "metadata": {},
   "outputs": [
    {
     "data": {
      "text/plain": [
       "(53315, 3)"
      ]
     },
     "execution_count": 192,
     "metadata": {},
     "output_type": "execute_result"
    }
   ],
   "source": [
    "df_04_1.addr=addr01\n",
    "df_04_1=df_04_1.dropna(subset=['addr']).reset_index(drop=True)\n",
    "df_04_1.shape"
   ]
  },
  {
   "cell_type": "code",
   "execution_count": 193,
   "metadata": {},
   "outputs": [
    {
     "data": {
      "text/html": [
       "<div>\n",
       "<style scoped>\n",
       "    .dataframe tbody tr th:only-of-type {\n",
       "        vertical-align: middle;\n",
       "    }\n",
       "\n",
       "    .dataframe tbody tr th {\n",
       "        vertical-align: top;\n",
       "    }\n",
       "\n",
       "    .dataframe thead th {\n",
       "        text-align: right;\n",
       "    }\n",
       "</style>\n",
       "<table border=\"1\" class=\"dataframe\">\n",
       "  <thead>\n",
       "    <tr style=\"text-align: right;\">\n",
       "      <th></th>\n",
       "      <th>id</th>\n",
       "      <th>addr</th>\n",
       "      <th>zone</th>\n",
       "      <th>lon</th>\n",
       "      <th>lat</th>\n",
       "      <th>check</th>\n",
       "    </tr>\n",
       "  </thead>\n",
       "  <tbody>\n",
       "    <tr>\n",
       "      <th>0</th>\n",
       "      <td>19991114000176</td>\n",
       "      <td>新北市永和區連城路469巷70弄9號</td>\n",
       "      <td>234.0</td>\n",
       "      <td>0.0</td>\n",
       "      <td>0.0</td>\n",
       "      <td>0</td>\n",
       "    </tr>\n",
       "    <tr>\n",
       "      <th>1</th>\n",
       "      <td>20010526000780</td>\n",
       "      <td>新北市新莊區後庄里育英街5巷7號復興路二段139號七樓之3</td>\n",
       "      <td>242.0</td>\n",
       "      <td>0.0</td>\n",
       "      <td>0.0</td>\n",
       "      <td>0</td>\n",
       "    </tr>\n",
       "    <tr>\n",
       "      <th>2</th>\n",
       "      <td>20090912000061</td>\n",
       "      <td>高雄市鳳山區830新康街166號11F</td>\n",
       "      <td>830.0</td>\n",
       "      <td>0.0</td>\n",
       "      <td>0.0</td>\n",
       "      <td>0</td>\n",
       "    </tr>\n",
       "    <tr>\n",
       "      <th>3</th>\n",
       "      <td>20100341347677</td>\n",
       "      <td>宜蘭縣宜蘭市頭城鎮頂埔路二段193巷12號</td>\n",
       "      <td>260.0</td>\n",
       "      <td>0.0</td>\n",
       "      <td>0.0</td>\n",
       "      <td>0</td>\n",
       "    </tr>\n",
       "    <tr>\n",
       "      <th>4</th>\n",
       "      <td>20040113000028</td>\n",
       "      <td>新北市新店區民安街３２８巷３號２樓</td>\n",
       "      <td>231.0</td>\n",
       "      <td>0.0</td>\n",
       "      <td>0.0</td>\n",
       "      <td>0</td>\n",
       "    </tr>\n",
       "  </tbody>\n",
       "</table>\n",
       "</div>"
      ],
      "text/plain": [
       "               id                           addr   zone  lon  lat  check\n",
       "0  19991114000176             新北市永和區連城路469巷70弄9號  234.0  0.0  0.0      0\n",
       "1  20010526000780  新北市新莊區後庄里育英街5巷7號復興路二段139號七樓之3  242.0  0.0  0.0      0\n",
       "2  20090912000061            高雄市鳳山區830新康街166號11F  830.0  0.0  0.0      0\n",
       "3  20100341347677          宜蘭縣宜蘭市頭城鎮頂埔路二段193巷12號  260.0  0.0  0.0      0\n",
       "4  20040113000028              新北市新店區民安街３２８巷３號２樓  231.0  0.0  0.0      0"
      ]
     },
     "execution_count": 193,
     "metadata": {},
     "output_type": "execute_result"
    }
   ],
   "source": [
    "df_04_1['lon']=float(0)\n",
    "df_04_1['lat']=float(0)\n",
    "df_04_1['check']=0\n",
    "df_04_1.head()"
   ]
  },
  {
   "cell_type": "markdown",
   "metadata": {},
   "source": [
    "## 與現有 搜尋過 經緯度的資料 比對"
   ]
  },
  {
   "cell_type": "code",
   "execution_count": 194,
   "metadata": {},
   "outputs": [
    {
     "name": "stdout",
     "output_type": "stream",
     "text": [
      "(133014, 6)\n"
     ]
    },
    {
     "data": {
      "text/html": [
       "<div>\n",
       "<style scoped>\n",
       "    .dataframe tbody tr th:only-of-type {\n",
       "        vertical-align: middle;\n",
       "    }\n",
       "\n",
       "    .dataframe tbody tr th {\n",
       "        vertical-align: top;\n",
       "    }\n",
       "\n",
       "    .dataframe thead th {\n",
       "        text-align: right;\n",
       "    }\n",
       "</style>\n",
       "<table border=\"1\" class=\"dataframe\">\n",
       "  <thead>\n",
       "    <tr style=\"text-align: right;\">\n",
       "      <th></th>\n",
       "      <th>id</th>\n",
       "      <th>addr</th>\n",
       "      <th>zone</th>\n",
       "      <th>lon</th>\n",
       "      <th>lat</th>\n",
       "      <th>check</th>\n",
       "    </tr>\n",
       "  </thead>\n",
       "  <tbody>\n",
       "    <tr>\n",
       "      <th>0</th>\n",
       "      <td>30012476701000</td>\n",
       "      <td>新北市貢寮區鳥崗街13號</td>\n",
       "      <td>228.0</td>\n",
       "      <td>122.00193</td>\n",
       "      <td>25.01326</td>\n",
       "      <td>1</td>\n",
       "    </tr>\n",
       "    <tr>\n",
       "      <th>1</th>\n",
       "      <td>20051030000358</td>\n",
       "      <td>新北市貢寮區福興村東興街４７號</td>\n",
       "      <td>228.0</td>\n",
       "      <td>121.99057</td>\n",
       "      <td>25.01205</td>\n",
       "      <td>1</td>\n",
       "    </tr>\n",
       "    <tr>\n",
       "      <th>2</th>\n",
       "      <td>20011022000749</td>\n",
       "      <td>新北市貢寮區春福連村臉香蘭街９號</td>\n",
       "      <td>228.0</td>\n",
       "      <td>121.98674</td>\n",
       "      <td>25.01985</td>\n",
       "      <td>1</td>\n",
       "    </tr>\n",
       "    <tr>\n",
       "      <th>3</th>\n",
       "      <td>20051219001868</td>\n",
       "      <td>新北市新店區東興街22號3樓DM退件</td>\n",
       "      <td>231.0</td>\n",
       "      <td>121.94981</td>\n",
       "      <td>25.01872</td>\n",
       "      <td>1</td>\n",
       "    </tr>\n",
       "    <tr>\n",
       "      <th>4</th>\n",
       "      <td>19980808000468</td>\n",
       "      <td>新北市貢寮區惠牴街25-2號</td>\n",
       "      <td>228.0</td>\n",
       "      <td>121.94576</td>\n",
       "      <td>25.01659</td>\n",
       "      <td>1</td>\n",
       "    </tr>\n",
       "  </tbody>\n",
       "</table>\n",
       "</div>"
      ],
      "text/plain": [
       "               id                addr   zone        lon       lat  check\n",
       "0  30012476701000        新北市貢寮區鳥崗街13號  228.0  122.00193  25.01326      1\n",
       "1  20051030000358     新北市貢寮區福興村東興街４７號  228.0  121.99057  25.01205      1\n",
       "2  20011022000749    新北市貢寮區春福連村臉香蘭街９號  228.0  121.98674  25.01985      1\n",
       "3  20051219001868  新北市新店區東興街22號3樓DM退件  231.0  121.94981  25.01872      1\n",
       "4  19980808000468      新北市貢寮區惠牴街25-2號  228.0  121.94576  25.01659      1"
      ]
     },
     "execution_count": 194,
     "metadata": {},
     "output_type": "execute_result"
    }
   ],
   "source": [
    "df_get_back=pd.read_excel(r'C:\\Users\\RT009223\\TestriteGroup\\滲透率專案\\02_adjusted data\\get back.xlsx')\n",
    "print(df_get_back.shape)\n",
    "df_get_back.head()"
   ]
  },
  {
   "cell_type": "code",
   "execution_count": 195,
   "metadata": {},
   "outputs": [],
   "source": [
    "df_get_back=df_get_back=df_get_back.loc[:,['id','lon','lat','check']]"
   ]
  },
  {
   "cell_type": "code",
   "execution_count": 196,
   "metadata": {},
   "outputs": [],
   "source": [
    "df_04_1=pd.merge(df_04_1.loc[:,['id','addr','zone']],df_get_back,on='id',how='left')"
   ]
  },
  {
   "cell_type": "code",
   "execution_count": 197,
   "metadata": {},
   "outputs": [],
   "source": [
    "df_04_1.lon[df_04_1.lon.isna()]=0\n",
    "df_04_1.lat[df_04_1.lat.isna()]=0\n",
    "df_04_1.check[df_04_1.check.isna()]=0"
   ]
  },
  {
   "cell_type": "code",
   "execution_count": 198,
   "metadata": {},
   "outputs": [
    {
     "data": {
      "text/html": [
       "<div>\n",
       "<style scoped>\n",
       "    .dataframe tbody tr th:only-of-type {\n",
       "        vertical-align: middle;\n",
       "    }\n",
       "\n",
       "    .dataframe tbody tr th {\n",
       "        vertical-align: top;\n",
       "    }\n",
       "\n",
       "    .dataframe thead th {\n",
       "        text-align: right;\n",
       "    }\n",
       "</style>\n",
       "<table border=\"1\" class=\"dataframe\">\n",
       "  <thead>\n",
       "    <tr style=\"text-align: right;\">\n",
       "      <th></th>\n",
       "      <th>id</th>\n",
       "      <th>addr</th>\n",
       "      <th>zone</th>\n",
       "      <th>lon</th>\n",
       "      <th>lat</th>\n",
       "      <th>check</th>\n",
       "    </tr>\n",
       "  </thead>\n",
       "  <tbody>\n",
       "    <tr>\n",
       "      <th>0</th>\n",
       "      <td>19991114000176</td>\n",
       "      <td>新北市永和區連城路469巷70弄9號</td>\n",
       "      <td>234.0</td>\n",
       "      <td>0.0</td>\n",
       "      <td>0.0</td>\n",
       "      <td>0.0</td>\n",
       "    </tr>\n",
       "    <tr>\n",
       "      <th>1</th>\n",
       "      <td>20010526000780</td>\n",
       "      <td>新北市新莊區後庄里育英街5巷7號復興路二段139號七樓之3</td>\n",
       "      <td>242.0</td>\n",
       "      <td>0.0</td>\n",
       "      <td>0.0</td>\n",
       "      <td>0.0</td>\n",
       "    </tr>\n",
       "    <tr>\n",
       "      <th>2</th>\n",
       "      <td>20090912000061</td>\n",
       "      <td>高雄市鳳山區830新康街166號11F</td>\n",
       "      <td>830.0</td>\n",
       "      <td>0.0</td>\n",
       "      <td>0.0</td>\n",
       "      <td>0.0</td>\n",
       "    </tr>\n",
       "    <tr>\n",
       "      <th>3</th>\n",
       "      <td>20100341347677</td>\n",
       "      <td>宜蘭縣宜蘭市頭城鎮頂埔路二段193巷12號</td>\n",
       "      <td>260.0</td>\n",
       "      <td>0.0</td>\n",
       "      <td>0.0</td>\n",
       "      <td>0.0</td>\n",
       "    </tr>\n",
       "    <tr>\n",
       "      <th>4</th>\n",
       "      <td>20040113000028</td>\n",
       "      <td>新北市新店區民安街３２８巷３號２樓</td>\n",
       "      <td>231.0</td>\n",
       "      <td>0.0</td>\n",
       "      <td>0.0</td>\n",
       "      <td>0.0</td>\n",
       "    </tr>\n",
       "  </tbody>\n",
       "</table>\n",
       "</div>"
      ],
      "text/plain": [
       "               id                           addr   zone  lon  lat  check\n",
       "0  19991114000176             新北市永和區連城路469巷70弄9號  234.0  0.0  0.0    0.0\n",
       "1  20010526000780  新北市新莊區後庄里育英街5巷7號復興路二段139號七樓之3  242.0  0.0  0.0    0.0\n",
       "2  20090912000061            高雄市鳳山區830新康街166號11F  830.0  0.0  0.0    0.0\n",
       "3  20100341347677          宜蘭縣宜蘭市頭城鎮頂埔路二段193巷12號  260.0  0.0  0.0    0.0\n",
       "4  20040113000028              新北市新店區民安街３２８巷３號２樓  231.0  0.0  0.0    0.0"
      ]
     },
     "execution_count": 198,
     "metadata": {},
     "output_type": "execute_result"
    }
   ],
   "source": [
    "df_04_1.head()"
   ]
  },
  {
   "cell_type": "markdown",
   "metadata": {},
   "source": [
    "## 與郵遞區號配對"
   ]
  },
  {
   "cell_type": "code",
   "execution_count": 199,
   "metadata": {},
   "outputs": [],
   "source": [
    "df_zone=pd.read_excel(r'C:\\Users\\RT009223\\TestriteGroup\\滲透率專案\\02_adjusted data\\郵遞區代碼.xlsx')"
   ]
  },
  {
   "cell_type": "code",
   "execution_count": 200,
   "metadata": {},
   "outputs": [],
   "source": [
    "df_04_1=pd.merge(df_04_1,df_zone,on='zone',how='left')"
   ]
  },
  {
   "cell_type": "code",
   "execution_count": 201,
   "metadata": {},
   "outputs": [
    {
     "data": {
      "text/plain": [
       "(53315, 9)"
      ]
     },
     "execution_count": 201,
     "metadata": {},
     "output_type": "execute_result"
    }
   ],
   "source": [
    "geom=[Point(data.lon,data.lat) for idx, data in df_04_1.iterrows()]\n",
    "crs = {'init': 'epsg:4326'}\n",
    "df_04_1 = gpd.GeoDataFrame(df_04_1, crs=crs, geometry=geom)\n",
    "df_04_1.shape"
   ]
  },
  {
   "cell_type": "code",
   "execution_count": 202,
   "metadata": {},
   "outputs": [
    {
     "data": {
      "text/plain": [
       "(53315, 13)"
      ]
     },
     "execution_count": 202,
     "metadata": {},
     "output_type": "execute_result"
    }
   ],
   "source": [
    "df_04_1= gpd.tools.sjoin(df_04_1,gdf, how=\"left\", op='intersects')\n",
    "df_04_1.shape"
   ]
  },
  {
   "cell_type": "code",
   "execution_count": 203,
   "metadata": {},
   "outputs": [
    {
     "data": {
      "text/html": [
       "<div>\n",
       "<style scoped>\n",
       "    .dataframe tbody tr th:only-of-type {\n",
       "        vertical-align: middle;\n",
       "    }\n",
       "\n",
       "    .dataframe tbody tr th {\n",
       "        vertical-align: top;\n",
       "    }\n",
       "\n",
       "    .dataframe thead th {\n",
       "        text-align: right;\n",
       "    }\n",
       "</style>\n",
       "<table border=\"1\" class=\"dataframe\">\n",
       "  <thead>\n",
       "    <tr style=\"text-align: right;\">\n",
       "      <th></th>\n",
       "      <th>id</th>\n",
       "      <th>addr</th>\n",
       "      <th>zone</th>\n",
       "      <th>lon</th>\n",
       "      <th>lat</th>\n",
       "      <th>check</th>\n",
       "      <th>縣市_left</th>\n",
       "      <th>行政區_left</th>\n",
       "      <th>geometry</th>\n",
       "      <th>index_right</th>\n",
       "      <th>縣市_right</th>\n",
       "      <th>行政區_right</th>\n",
       "      <th>村里</th>\n",
       "    </tr>\n",
       "  </thead>\n",
       "  <tbody>\n",
       "    <tr>\n",
       "      <th>0</th>\n",
       "      <td>19991114000176</td>\n",
       "      <td>新北市永和區連城路469巷70弄9號</td>\n",
       "      <td>234.0</td>\n",
       "      <td>0.0</td>\n",
       "      <td>0.0</td>\n",
       "      <td>0.0</td>\n",
       "      <td>新北市</td>\n",
       "      <td>永和區</td>\n",
       "      <td>POINT (0.00000 0.00000)</td>\n",
       "      <td>NaN</td>\n",
       "      <td>NaN</td>\n",
       "      <td>NaN</td>\n",
       "      <td>NaN</td>\n",
       "    </tr>\n",
       "    <tr>\n",
       "      <th>1</th>\n",
       "      <td>20010526000780</td>\n",
       "      <td>新北市新莊區後庄里育英街5巷7號復興路二段139號七樓之3</td>\n",
       "      <td>242.0</td>\n",
       "      <td>0.0</td>\n",
       "      <td>0.0</td>\n",
       "      <td>0.0</td>\n",
       "      <td>新北市</td>\n",
       "      <td>新莊區</td>\n",
       "      <td>POINT (0.00000 0.00000)</td>\n",
       "      <td>NaN</td>\n",
       "      <td>NaN</td>\n",
       "      <td>NaN</td>\n",
       "      <td>NaN</td>\n",
       "    </tr>\n",
       "    <tr>\n",
       "      <th>2</th>\n",
       "      <td>20090912000061</td>\n",
       "      <td>高雄市鳳山區830新康街166號11F</td>\n",
       "      <td>830.0</td>\n",
       "      <td>0.0</td>\n",
       "      <td>0.0</td>\n",
       "      <td>0.0</td>\n",
       "      <td>高雄市</td>\n",
       "      <td>鳳山區</td>\n",
       "      <td>POINT (0.00000 0.00000)</td>\n",
       "      <td>NaN</td>\n",
       "      <td>NaN</td>\n",
       "      <td>NaN</td>\n",
       "      <td>NaN</td>\n",
       "    </tr>\n",
       "    <tr>\n",
       "      <th>3</th>\n",
       "      <td>20100341347677</td>\n",
       "      <td>宜蘭縣宜蘭市頭城鎮頂埔路二段193巷12號</td>\n",
       "      <td>260.0</td>\n",
       "      <td>0.0</td>\n",
       "      <td>0.0</td>\n",
       "      <td>0.0</td>\n",
       "      <td>宜蘭縣</td>\n",
       "      <td>宜蘭市</td>\n",
       "      <td>POINT (0.00000 0.00000)</td>\n",
       "      <td>NaN</td>\n",
       "      <td>NaN</td>\n",
       "      <td>NaN</td>\n",
       "      <td>NaN</td>\n",
       "    </tr>\n",
       "    <tr>\n",
       "      <th>4</th>\n",
       "      <td>20040113000028</td>\n",
       "      <td>新北市新店區民安街３２８巷３號２樓</td>\n",
       "      <td>231.0</td>\n",
       "      <td>0.0</td>\n",
       "      <td>0.0</td>\n",
       "      <td>0.0</td>\n",
       "      <td>新北市</td>\n",
       "      <td>新店區</td>\n",
       "      <td>POINT (0.00000 0.00000)</td>\n",
       "      <td>NaN</td>\n",
       "      <td>NaN</td>\n",
       "      <td>NaN</td>\n",
       "      <td>NaN</td>\n",
       "    </tr>\n",
       "  </tbody>\n",
       "</table>\n",
       "</div>"
      ],
      "text/plain": [
       "               id                           addr   zone  lon  lat  check  \\\n",
       "0  19991114000176             新北市永和區連城路469巷70弄9號  234.0  0.0  0.0    0.0   \n",
       "1  20010526000780  新北市新莊區後庄里育英街5巷7號復興路二段139號七樓之3  242.0  0.0  0.0    0.0   \n",
       "2  20090912000061            高雄市鳳山區830新康街166號11F  830.0  0.0  0.0    0.0   \n",
       "3  20100341347677          宜蘭縣宜蘭市頭城鎮頂埔路二段193巷12號  260.0  0.0  0.0    0.0   \n",
       "4  20040113000028              新北市新店區民安街３２８巷３號２樓  231.0  0.0  0.0    0.0   \n",
       "\n",
       "  縣市_left 行政區_left                 geometry  index_right 縣市_right 行政區_right  \\\n",
       "0     新北市      永和區  POINT (0.00000 0.00000)          NaN      NaN       NaN   \n",
       "1     新北市      新莊區  POINT (0.00000 0.00000)          NaN      NaN       NaN   \n",
       "2     高雄市      鳳山區  POINT (0.00000 0.00000)          NaN      NaN       NaN   \n",
       "3     宜蘭縣      宜蘭市  POINT (0.00000 0.00000)          NaN      NaN       NaN   \n",
       "4     新北市      新店區  POINT (0.00000 0.00000)          NaN      NaN       NaN   \n",
       "\n",
       "    村里  \n",
       "0  NaN  \n",
       "1  NaN  \n",
       "2  NaN  \n",
       "3  NaN  \n",
       "4  NaN  "
      ]
     },
     "execution_count": 203,
     "metadata": {},
     "output_type": "execute_result"
    }
   ],
   "source": [
    "df_04_1.head()"
   ]
  },
  {
   "cell_type": "code",
   "execution_count": 204,
   "metadata": {},
   "outputs": [
    {
     "name": "stdout",
     "output_type": "stream",
     "text": [
      "(2553, 13)\n",
      "(36591, 13)\n",
      "(3594, 13)\n",
      "(10577, 13)\n"
     ]
    }
   ],
   "source": [
    "# 無 map 無 zone\n",
    "df_04_1_1=df_04_1[(df_04_1['行政區_left'].isna()&df_04_1['村里'].isna())]\n",
    "print(df_04_1_1.shape)\n",
    "\n",
    "# 無 map 有 zone\n",
    "df_04_1_2=df_04_1[(-(df_04_1['行政區_left'].isna())&(df_04_1['村里'].isna()))]\n",
    "print(df_04_1_2.shape)\n",
    "\n",
    "# 有 map 無有 zone\n",
    "df_04_1_3=df_04_1[(df_04_1['行政區_left'].isna()&(-df_04_1['村里'].isna()))]\n",
    "print(df_04_1_3.shape)\n",
    "\n",
    "# 有 map 有 zone\n",
    "df_04_1_4=df_04_1[(-(df_04_1['行政區_left'].isna())&(-df_04_1['村里'].isna()))]\n",
    "print(df_04_1_4.shape)"
   ]
  },
  {
   "cell_type": "markdown",
   "metadata": {},
   "source": [
    "###  有 map 有 zone 合不合"
   ]
  },
  {
   "cell_type": "code",
   "execution_count": 205,
   "metadata": {},
   "outputs": [
    {
     "name": "stdout",
     "output_type": "stream",
     "text": [
      "(8719, 13)\n",
      "(1858, 13)\n"
     ]
    }
   ],
   "source": [
    "df_04_1_4_1=df_04_1_4[(df_04_1_4['行政區_left']==df_04_1_4['行政區_right'])]\n",
    "print(df_04_1_4_1.shape)\n",
    "\n",
    "df_04_1_4_2=df_04_1_4[-(df_04_1_4['行政區_left']==df_04_1_4['行政區_right'])]\n",
    "print(df_04_1_4_2.shape)"
   ]
  },
  {
   "cell_type": "markdown",
   "metadata": {},
   "source": [
    "### 調整各組資料"
   ]
  },
  {
   "cell_type": "code",
   "execution_count": 206,
   "metadata": {},
   "outputs": [],
   "source": [
    "df_04_1_1=df_04_1_1.loc[:,['id']]\n",
    "\n",
    "df_04_1_2=df_04_1_2.loc[:,['id','縣市_left','行政區_left']]\n",
    "df_04_1_2.columns=['id','縣市','行政區']\n",
    "\n",
    "df_04_1_3=df_04_1_3.loc[:,['id','縣市_right','行政區_right','村里']]\n",
    "df_04_1_3.columns=['id','縣市','行政區','村里']\n",
    "\n",
    "df_04_1_4_1=df_04_1_4_1.loc[:,['id','縣市_right','行政區_right','村里']]\n",
    "df_04_1_4_1.columns=['id','縣市','行政區','村里']\n",
    "\n",
    "df_04_1_4_2=df_04_1_4_2.loc[:,['id','縣市_left','行政區_left']]\n",
    "df_04_1_4_2.columns=['id','縣市','行政區']"
   ]
  },
  {
   "cell_type": "code",
   "execution_count": 207,
   "metadata": {},
   "outputs": [
    {
     "data": {
      "text/plain": [
       "(53315, 4)"
      ]
     },
     "execution_count": 207,
     "metadata": {},
     "output_type": "execute_result"
    }
   ],
   "source": [
    "df_04_2=pd.concat([df_04_1_4_1,df_04_1_3,df_04_1_4_2,df_04_1_2,df_04_1_1])\n",
    "df_04_2.shape"
   ]
  },
  {
   "cell_type": "code",
   "execution_count": 208,
   "metadata": {},
   "outputs": [
    {
     "data": {
      "text/plain": [
       "(53315, 4)"
      ]
     },
     "execution_count": 208,
     "metadata": {},
     "output_type": "execute_result"
    }
   ],
   "source": [
    "df_04_2.drop_duplicates(subset=['id']).shape"
   ]
  },
  {
   "cell_type": "code",
   "execution_count": null,
   "metadata": {},
   "outputs": [],
   "source": []
  },
  {
   "cell_type": "markdown",
   "metadata": {},
   "source": [
    "## 無可用地址"
   ]
  },
  {
   "cell_type": "code",
   "execution_count": 209,
   "metadata": {},
   "outputs": [
    {
     "data": {
      "text/plain": [
       "(64284, 3)"
      ]
     },
     "execution_count": 209,
     "metadata": {},
     "output_type": "execute_result"
    }
   ],
   "source": [
    "df_04_3=df_04[-df_04.id.isin(df_04_2.id)]\n",
    "df_04_3.shape"
   ]
  },
  {
   "cell_type": "code",
   "execution_count": 210,
   "metadata": {},
   "outputs": [],
   "source": [
    "df_04_3=pd.merge(df_04_3,df_zone,on='zone',how='left')"
   ]
  },
  {
   "cell_type": "code",
   "execution_count": 211,
   "metadata": {},
   "outputs": [
    {
     "name": "stdout",
     "output_type": "stream",
     "text": [
      "(17922, 5)\n",
      "(46362, 5)\n"
     ]
    }
   ],
   "source": [
    "df_04_3_1=df_04_3[-df_04_3['行政區'].isna()]\n",
    "print(df_04_3_1.shape)\n",
    "\n",
    "df_04_3_2=df_04_3[df_04_3['行政區'].isna()]\n",
    "print(df_04_3_2.shape)"
   ]
  },
  {
   "cell_type": "code",
   "execution_count": 212,
   "metadata": {},
   "outputs": [],
   "source": [
    "df_04_3_1=df_04_3_1.loc[:,['id','縣市','行政區']]\n",
    "df_04_3_2=df_04_3_2.loc[:,['id']]"
   ]
  },
  {
   "cell_type": "markdown",
   "metadata": {},
   "source": [
    "# 完整 SLQ無正確地址的資料"
   ]
  },
  {
   "cell_type": "code",
   "execution_count": 213,
   "metadata": {},
   "outputs": [
    {
     "name": "stdout",
     "output_type": "stream",
     "text": [
      "(117599, 4)\n",
      "(117599, 4)\n"
     ]
    }
   ],
   "source": [
    "df_04=pd.concat([df_04_2,df_04_3_1,df_04_3_2])\n",
    "print(df_04.shape)\n",
    "print(df_04.drop_duplicates(subset=['id']).shape)"
   ]
  },
  {
   "cell_type": "markdown",
   "metadata": {},
   "source": [
    "# 存檔"
   ]
  },
  {
   "cell_type": "code",
   "execution_count": 214,
   "metadata": {},
   "outputs": [],
   "source": [
    "df_04.to_csv('C:/Users/RT009223/TestriteGroup/滲透率專案/02_adjusted data/'+save_file+'會員位置(無正確地址的資料)_一般卡_'+save_year+'.txt',index=0)"
   ]
  },
  {
   "cell_type": "code",
   "execution_count": null,
   "metadata": {},
   "outputs": [],
   "source": []
  }
 ],
 "metadata": {
  "kernelspec": {
   "display_name": "Python 3",
   "language": "python",
   "name": "python3"
  },
  "language_info": {
   "codemirror_mode": {
    "name": "ipython",
    "version": 3
   },
   "file_extension": ".py",
   "mimetype": "text/x-python",
   "name": "python",
   "nbconvert_exporter": "python",
   "pygments_lexer": "ipython3",
   "version": "3.7.6"
  }
 },
 "nbformat": 4,
 "nbformat_minor": 4
}

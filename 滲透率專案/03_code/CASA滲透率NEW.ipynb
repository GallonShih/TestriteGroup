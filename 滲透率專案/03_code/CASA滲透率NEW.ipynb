{
 "cells": [
  {
   "cell_type": "code",
   "execution_count": 1,
   "metadata": {},
   "outputs": [],
   "source": [
    "%matplotlib inline\n",
    "import numpy as np\n",
    "import pandas as pd\n",
    "import matplotlib.pyplot as plt"
   ]
  },
  {
   "cell_type": "code",
   "execution_count": 2,
   "metadata": {},
   "outputs": [],
   "source": [
    "import re\n",
    "\n",
    "import geopandas as gpd\n",
    "import requests,json\n",
    "\n",
    "\n",
    "from shapely import geos\n",
    "from shapely.geometry import Point\n",
    "import fiona\n",
    "from fiona.crs import from_epsg,from_string\n",
    "\n",
    "from geopandas import GeoDataFrame\n",
    "from shapely.geometry import Polygon\n",
    "from geopandas import GeoSeries\n",
    "\n",
    "\n",
    "from shapely import geometry\n",
    "from shapely.geometry import shape,LineString,Point,Polygon\n",
    "\n",
    "import osmnx as ox\n",
    "import networkx as nx\n",
    "\n",
    "import folium\n",
    "\n",
    "from folium import IFrame\n",
    "\n",
    "import seaborn as sns\n",
    "import branca"
   ]
  },
  {
   "cell_type": "code",
   "execution_count": 3,
   "metadata": {},
   "outputs": [],
   "source": [
    "def rest(address):\n",
    "    try:\n",
    "        url = 'https://api.tomtom.com/search/2/geocode/{}.json?&key=h2n93GznJsnsDHtv2vPpdT9GmJijp9o9&countrySet=TWN&language=zh-TW&limit=1'.format(address)\n",
    "        response = requests.get(url)\n",
    "        data = response.text\n",
    "        js = json.loads(str(data))\n",
    "        return js['results'][0]['position']\n",
    "    except Exception as e:\n",
    "        print(f'An Error occurred: {e}')\n",
    "        return {'lat':0,'lon':0}\n",
    "    \n",
    "def trans(gdf):\n",
    "    gdf.crs = {'init' :'epsg:3824'} # 避免資料沒設，這邊再重新給一次\n",
    "    gdf=gdf.to_crs({'init' :'epsg:4326'})\n",
    "    return gdf\n",
    "\n",
    "def utf2asc(s):\n",
    "    return str(str(s).encode('ascii', 'xmlcharrefreplace'))[2:-1]\n",
    "\n",
    "heading3 = \"\"\"<h3>{}</h3>\"\"\".format"
   ]
  },
  {
   "cell_type": "code",
   "execution_count": 4,
   "metadata": {},
   "outputs": [],
   "source": [
    "import warnings\n",
    "warnings.filterwarnings(\"ignore\")"
   ]
  },
  {
   "cell_type": "code",
   "execution_count": 5,
   "metadata": {},
   "outputs": [],
   "source": [
    "import os\n",
    "os.chdir(r'C:\\Users\\RT009223\\TestriteGroup\\滲透率專案\\02_adjusted data')"
   ]
  },
  {
   "cell_type": "code",
   "execution_count": null,
   "metadata": {},
   "outputs": [],
   "source": []
  },
  {
   "cell_type": "markdown",
   "metadata": {},
   "source": [
    "# 村里邊界資料整理"
   ]
  },
  {
   "cell_type": "code",
   "execution_count": 6,
   "metadata": {},
   "outputs": [
    {
     "name": "stdout",
     "output_type": "stream",
     "text": [
      "(7965, 4)\n"
     ]
    }
   ],
   "source": [
    "gdf=gpd.read_file(r'C:/Users/RT009223/GIS/村里/VILLAGE_MOI_1090423.shp',encoding='utf-8')\n",
    "gdf=gdf.loc[:,['COUNTYNAME','TOWNNAME','VILLNAME','geometry']]\n",
    "gdf=trans(gdf)\n",
    "print(gdf.shape)"
   ]
  },
  {
   "cell_type": "code",
   "execution_count": 7,
   "metadata": {},
   "outputs": [
    {
     "data": {
      "text/html": [
       "<div>\n",
       "<style scoped>\n",
       "    .dataframe tbody tr th:only-of-type {\n",
       "        vertical-align: middle;\n",
       "    }\n",
       "\n",
       "    .dataframe tbody tr th {\n",
       "        vertical-align: top;\n",
       "    }\n",
       "\n",
       "    .dataframe thead th {\n",
       "        text-align: right;\n",
       "    }\n",
       "</style>\n",
       "<table border=\"1\" class=\"dataframe\">\n",
       "  <thead>\n",
       "    <tr style=\"text-align: right;\">\n",
       "      <th></th>\n",
       "      <th>COUNTYNAME</th>\n",
       "      <th>TOWNNAME</th>\n",
       "      <th>VILLNAME</th>\n",
       "      <th>geometry</th>\n",
       "    </tr>\n",
       "  </thead>\n",
       "  <tbody>\n",
       "    <tr>\n",
       "      <th>0</th>\n",
       "      <td>屏東縣</td>\n",
       "      <td>東港鎮</td>\n",
       "      <td>None</td>\n",
       "      <td>POLYGON ((120.48059 22.42686, 120.47641 22.428...</td>\n",
       "    </tr>\n",
       "    <tr>\n",
       "      <th>214</th>\n",
       "      <td>連江縣</td>\n",
       "      <td>莒光鄉</td>\n",
       "      <td>None</td>\n",
       "      <td>POLYGON ((119.96615 25.97504, 119.96612 25.975...</td>\n",
       "    </tr>\n",
       "    <tr>\n",
       "      <th>215</th>\n",
       "      <td>連江縣</td>\n",
       "      <td>莒光鄉</td>\n",
       "      <td>None</td>\n",
       "      <td>POLYGON ((119.96638 25.97522, 119.96636 25.975...</td>\n",
       "    </tr>\n",
       "    <tr>\n",
       "      <th>216</th>\n",
       "      <td>連江縣</td>\n",
       "      <td>莒光鄉</td>\n",
       "      <td>None</td>\n",
       "      <td>POLYGON ((119.96641 25.97532, 119.96641 25.975...</td>\n",
       "    </tr>\n",
       "    <tr>\n",
       "      <th>217</th>\n",
       "      <td>連江縣</td>\n",
       "      <td>莒光鄉</td>\n",
       "      <td>None</td>\n",
       "      <td>POLYGON ((119.96627 25.97487, 119.96626 25.974...</td>\n",
       "    </tr>\n",
       "    <tr>\n",
       "      <th>...</th>\n",
       "      <td>...</td>\n",
       "      <td>...</td>\n",
       "      <td>...</td>\n",
       "      <td>...</td>\n",
       "    </tr>\n",
       "    <tr>\n",
       "      <th>7346</th>\n",
       "      <td>新北市</td>\n",
       "      <td>萬里區</td>\n",
       "      <td>None</td>\n",
       "      <td>POLYGON ((121.69211 25.20408, 121.69217 25.203...</td>\n",
       "    </tr>\n",
       "    <tr>\n",
       "      <th>7347</th>\n",
       "      <td>新北市</td>\n",
       "      <td>萬里區</td>\n",
       "      <td>None</td>\n",
       "      <td>POLYGON ((121.68692 25.20635, 121.68702 25.204...</td>\n",
       "    </tr>\n",
       "    <tr>\n",
       "      <th>7366</th>\n",
       "      <td>新北市</td>\n",
       "      <td>金山區</td>\n",
       "      <td>None</td>\n",
       "      <td>POLYGON ((121.65137 25.22593, 121.65152 25.225...</td>\n",
       "    </tr>\n",
       "    <tr>\n",
       "      <th>7392</th>\n",
       "      <td>新北市</td>\n",
       "      <td>石門區</td>\n",
       "      <td>None</td>\n",
       "      <td>POLYGON ((121.50943 25.28444, 121.50950 25.284...</td>\n",
       "    </tr>\n",
       "    <tr>\n",
       "      <th>7400</th>\n",
       "      <td>新北市</td>\n",
       "      <td>石門區</td>\n",
       "      <td>None</td>\n",
       "      <td>POLYGON ((121.56763 25.29532, 121.56764 25.295...</td>\n",
       "    </tr>\n",
       "  </tbody>\n",
       "</table>\n",
       "<p>205 rows × 4 columns</p>\n",
       "</div>"
      ],
      "text/plain": [
       "     COUNTYNAME TOWNNAME VILLNAME  \\\n",
       "0           屏東縣      東港鎮     None   \n",
       "214         連江縣      莒光鄉     None   \n",
       "215         連江縣      莒光鄉     None   \n",
       "216         連江縣      莒光鄉     None   \n",
       "217         連江縣      莒光鄉     None   \n",
       "...         ...      ...      ...   \n",
       "7346        新北市      萬里區     None   \n",
       "7347        新北市      萬里區     None   \n",
       "7366        新北市      金山區     None   \n",
       "7392        新北市      石門區     None   \n",
       "7400        新北市      石門區     None   \n",
       "\n",
       "                                               geometry  \n",
       "0     POLYGON ((120.48059 22.42686, 120.47641 22.428...  \n",
       "214   POLYGON ((119.96615 25.97504, 119.96612 25.975...  \n",
       "215   POLYGON ((119.96638 25.97522, 119.96636 25.975...  \n",
       "216   POLYGON ((119.96641 25.97532, 119.96641 25.975...  \n",
       "217   POLYGON ((119.96627 25.97487, 119.96626 25.974...  \n",
       "...                                                 ...  \n",
       "7346  POLYGON ((121.69211 25.20408, 121.69217 25.203...  \n",
       "7347  POLYGON ((121.68692 25.20635, 121.68702 25.204...  \n",
       "7366  POLYGON ((121.65137 25.22593, 121.65152 25.225...  \n",
       "7392  POLYGON ((121.50943 25.28444, 121.50950 25.284...  \n",
       "7400  POLYGON ((121.56763 25.29532, 121.56764 25.295...  \n",
       "\n",
       "[205 rows x 4 columns]"
      ]
     },
     "execution_count": 7,
     "metadata": {},
     "output_type": "execute_result"
    }
   ],
   "source": [
    "gdf[gdf['VILLNAME'].isna()]"
   ]
  },
  {
   "cell_type": "code",
   "execution_count": 8,
   "metadata": {},
   "outputs": [],
   "source": [
    "gdf=gdf.dropna().reset_index(drop=True)"
   ]
  },
  {
   "cell_type": "code",
   "execution_count": 9,
   "metadata": {},
   "outputs": [],
   "source": [
    "gdf.COUNTYNAME=list(gdf.COUNTYNAME.apply(lambda x:x.replace('臺','台')))"
   ]
  },
  {
   "cell_type": "code",
   "execution_count": 10,
   "metadata": {},
   "outputs": [
    {
     "name": "stdout",
     "output_type": "stream",
     "text": [
      "(7760, 4)\n"
     ]
    },
    {
     "data": {
      "text/html": [
       "<div>\n",
       "<style scoped>\n",
       "    .dataframe tbody tr th:only-of-type {\n",
       "        vertical-align: middle;\n",
       "    }\n",
       "\n",
       "    .dataframe tbody tr th {\n",
       "        vertical-align: top;\n",
       "    }\n",
       "\n",
       "    .dataframe thead th {\n",
       "        text-align: right;\n",
       "    }\n",
       "</style>\n",
       "<table border=\"1\" class=\"dataframe\">\n",
       "  <thead>\n",
       "    <tr style=\"text-align: right;\">\n",
       "      <th></th>\n",
       "      <th>縣市</th>\n",
       "      <th>行政區</th>\n",
       "      <th>村里</th>\n",
       "      <th>geometry</th>\n",
       "    </tr>\n",
       "  </thead>\n",
       "  <tbody>\n",
       "    <tr>\n",
       "      <th>0</th>\n",
       "      <td>高雄市</td>\n",
       "      <td>林園區</td>\n",
       "      <td>中門里</td>\n",
       "      <td>POLYGON ((120.36772 22.49564, 120.36427 22.498...</td>\n",
       "    </tr>\n",
       "    <tr>\n",
       "      <th>1</th>\n",
       "      <td>高雄市</td>\n",
       "      <td>林園區</td>\n",
       "      <td>港埔里</td>\n",
       "      <td>POLYGON ((120.37325 22.49123, 120.37147 22.492...</td>\n",
       "    </tr>\n",
       "    <tr>\n",
       "      <th>2</th>\n",
       "      <td>高雄市</td>\n",
       "      <td>旗津區</td>\n",
       "      <td>上竹里</td>\n",
       "      <td>POLYGON ((120.28976 22.57317, 120.28577 22.577...</td>\n",
       "    </tr>\n",
       "    <tr>\n",
       "      <th>3</th>\n",
       "      <td>高雄市</td>\n",
       "      <td>旗津區</td>\n",
       "      <td>中興里</td>\n",
       "      <td>POLYGON ((120.30320 22.55568, 120.30284 22.557...</td>\n",
       "    </tr>\n",
       "    <tr>\n",
       "      <th>4</th>\n",
       "      <td>連江縣</td>\n",
       "      <td>南竿鄉</td>\n",
       "      <td>津沙村</td>\n",
       "      <td>POLYGON ((119.91684 26.14109, 119.91683 26.141...</td>\n",
       "    </tr>\n",
       "  </tbody>\n",
       "</table>\n",
       "</div>"
      ],
      "text/plain": [
       "    縣市  行政區   村里                                           geometry\n",
       "0  高雄市  林園區  中門里  POLYGON ((120.36772 22.49564, 120.36427 22.498...\n",
       "1  高雄市  林園區  港埔里  POLYGON ((120.37325 22.49123, 120.37147 22.492...\n",
       "2  高雄市  旗津區  上竹里  POLYGON ((120.28976 22.57317, 120.28577 22.577...\n",
       "3  高雄市  旗津區  中興里  POLYGON ((120.30320 22.55568, 120.30284 22.557...\n",
       "4  連江縣  南竿鄉  津沙村  POLYGON ((119.91684 26.14109, 119.91683 26.141..."
      ]
     },
     "execution_count": 10,
     "metadata": {},
     "output_type": "execute_result"
    }
   ],
   "source": [
    "print(gdf.shape)\n",
    "gdf.columns=['縣市','行政區','村里','geometry']\n",
    "gdf.head()\n"
   ]
  },
  {
   "cell_type": "code",
   "execution_count": null,
   "metadata": {},
   "outputs": [],
   "source": []
  },
  {
   "cell_type": "markdown",
   "metadata": {},
   "source": [
    "# 會員資料整理"
   ]
  },
  {
   "cell_type": "code",
   "execution_count": 11,
   "metadata": {},
   "outputs": [
    {
     "name": "stdout",
     "output_type": "stream",
     "text": [
      "(2766, 4)\n"
     ]
    }
   ],
   "source": [
    "df_get_back=pd.read_table(r'C:\\Users\\RT009223\\TestriteGroup\\滲透率專案\\02_adjusted data\\1C會員位置(無正確地址的資料)_一般卡_2020H1.txt',sep=',')\n",
    "print(df_get_back.shape)"
   ]
  },
  {
   "cell_type": "code",
   "execution_count": 12,
   "metadata": {},
   "outputs": [
    {
     "name": "stdout",
     "output_type": "stream",
     "text": [
      "(2766, 4)\n"
     ]
    }
   ],
   "source": [
    "df_get_back=df_get_back.drop_duplicates(subset=['id']).reset_index(drop=True)\n",
    "print(df_get_back.shape)\n",
    "unsure=df_get_back.shape[0]"
   ]
  },
  {
   "cell_type": "code",
   "execution_count": 13,
   "metadata": {},
   "outputs": [
    {
     "name": "stdout",
     "output_type": "stream",
     "text": [
      "(211, 4)\n"
     ]
    }
   ],
   "source": [
    "df_get_back=df_get_back[-df_get_back['村里'].isna()].reset_index(drop=True)\n",
    "print(df_get_back.shape)\n",
    "unsure_get_back=df_get_back.shape[0]"
   ]
  },
  {
   "cell_type": "code",
   "execution_count": 14,
   "metadata": {},
   "outputs": [
    {
     "data": {
      "text/html": [
       "<div>\n",
       "<style scoped>\n",
       "    .dataframe tbody tr th:only-of-type {\n",
       "        vertical-align: middle;\n",
       "    }\n",
       "\n",
       "    .dataframe tbody tr th {\n",
       "        vertical-align: top;\n",
       "    }\n",
       "\n",
       "    .dataframe thead th {\n",
       "        text-align: right;\n",
       "    }\n",
       "</style>\n",
       "<table border=\"1\" class=\"dataframe\">\n",
       "  <thead>\n",
       "    <tr style=\"text-align: right;\">\n",
       "      <th></th>\n",
       "      <th>id</th>\n",
       "      <th>縣市</th>\n",
       "      <th>行政區</th>\n",
       "      <th>村里</th>\n",
       "    </tr>\n",
       "  </thead>\n",
       "  <tbody>\n",
       "    <tr>\n",
       "      <th>0</th>\n",
       "      <td>19961117000134</td>\n",
       "      <td>台北市</td>\n",
       "      <td>中正區</td>\n",
       "      <td>永功里</td>\n",
       "    </tr>\n",
       "    <tr>\n",
       "      <th>1</th>\n",
       "      <td>20090708000406</td>\n",
       "      <td>新北市</td>\n",
       "      <td>淡水區</td>\n",
       "      <td>大庄里</td>\n",
       "    </tr>\n",
       "    <tr>\n",
       "      <th>2</th>\n",
       "      <td>19990817000461</td>\n",
       "      <td>新北市</td>\n",
       "      <td>新莊區</td>\n",
       "      <td>雙鳳里</td>\n",
       "    </tr>\n",
       "    <tr>\n",
       "      <th>3</th>\n",
       "      <td>20010619000171</td>\n",
       "      <td>新竹縣</td>\n",
       "      <td>竹北市</td>\n",
       "      <td>東平里</td>\n",
       "    </tr>\n",
       "    <tr>\n",
       "      <th>4</th>\n",
       "      <td>20050918000367</td>\n",
       "      <td>新竹縣</td>\n",
       "      <td>湖口鄉</td>\n",
       "      <td>中興村</td>\n",
       "    </tr>\n",
       "  </tbody>\n",
       "</table>\n",
       "</div>"
      ],
      "text/plain": [
       "               id   縣市  行政區   村里\n",
       "0  19961117000134  台北市  中正區  永功里\n",
       "1  20090708000406  新北市  淡水區  大庄里\n",
       "2  19990817000461  新北市  新莊區  雙鳳里\n",
       "3  20010619000171  新竹縣  竹北市  東平里\n",
       "4  20050918000367  新竹縣  湖口鄉  中興村"
      ]
     },
     "execution_count": 14,
     "metadata": {},
     "output_type": "execute_result"
    }
   ],
   "source": [
    "df_get_back.head()"
   ]
  },
  {
   "cell_type": "markdown",
   "metadata": {},
   "source": [
    "# Mapping資料"
   ]
  },
  {
   "cell_type": "code",
   "execution_count": 15,
   "metadata": {},
   "outputs": [],
   "source": [
    "#geom=[Point(data.lon,data.lat) for idx, data in df_get_back.iterrows()]"
   ]
  },
  {
   "cell_type": "code",
   "execution_count": 16,
   "metadata": {},
   "outputs": [],
   "source": [
    "#crs = {'init': 'epsg:4326'}\n",
    "#df_get_back = gpd.GeoDataFrame(df_get_back, crs=crs, geometry=geom)"
   ]
  },
  {
   "cell_type": "code",
   "execution_count": 17,
   "metadata": {},
   "outputs": [],
   "source": [
    "#df_get_back.shape"
   ]
  },
  {
   "cell_type": "code",
   "execution_count": 18,
   "metadata": {},
   "outputs": [],
   "source": [
    "#df_get_back = gpd.tools.sjoin(df_get_back,gdf, how=\"inner\", op='intersects')\n",
    "#df_get_back.head()"
   ]
  },
  {
   "cell_type": "code",
   "execution_count": 19,
   "metadata": {},
   "outputs": [],
   "source": [
    "#df_get_back.columns=['id','addr','zone','lon','lat','geometry','index_right','縣市','行政區','村里']\n",
    "#df_get_back=df_get_back.loc[:,['id','addr','lon','lat','縣市','行政區','村里']]\n",
    "#df_get_back.head()"
   ]
  },
  {
   "cell_type": "code",
   "execution_count": 20,
   "metadata": {},
   "outputs": [],
   "source": [
    "#result.columns=['id','addr','lon','lat','geometry','index_right','縣市','行政區','村里']\n",
    "#result=result.copy().reset_index(drop=True)"
   ]
  },
  {
   "cell_type": "code",
   "execution_count": 21,
   "metadata": {},
   "outputs": [],
   "source": [
    "#result2=result.copy()"
   ]
  },
  {
   "cell_type": "code",
   "execution_count": 22,
   "metadata": {},
   "outputs": [],
   "source": [
    "#result=result.iloc[:,1:]\n",
    "#result.head()"
   ]
  },
  {
   "cell_type": "code",
   "execution_count": 23,
   "metadata": {},
   "outputs": [],
   "source": [
    "#result.to_csv('TLW會員位置(經整理_配對村里)_一般卡.txt',index=0)"
   ]
  },
  {
   "cell_type": "code",
   "execution_count": 24,
   "metadata": {},
   "outputs": [
    {
     "name": "stdout",
     "output_type": "stream",
     "text": [
      "(17538, 7)\n"
     ]
    }
   ],
   "source": [
    "result=pd.read_table(r'C:\\Users\\RT009223\\TestriteGroup\\滲透率專案\\02_adjusted data\\1C會員位置(經整理_配對村里)_一般卡_2020H1.txt',sep=',')\n",
    "print(result.shape)"
   ]
  },
  {
   "cell_type": "code",
   "execution_count": 25,
   "metadata": {},
   "outputs": [
    {
     "name": "stdout",
     "output_type": "stream",
     "text": [
      "(17538, 7)\n"
     ]
    }
   ],
   "source": [
    "result=result.drop_duplicates(subset=['id']).reset_index(drop=True)\n",
    "print(result.shape)"
   ]
  },
  {
   "cell_type": "code",
   "execution_count": 26,
   "metadata": {},
   "outputs": [
    {
     "data": {
      "text/html": [
       "<div>\n",
       "<style scoped>\n",
       "    .dataframe tbody tr th:only-of-type {\n",
       "        vertical-align: middle;\n",
       "    }\n",
       "\n",
       "    .dataframe tbody tr th {\n",
       "        vertical-align: top;\n",
       "    }\n",
       "\n",
       "    .dataframe thead th {\n",
       "        text-align: right;\n",
       "    }\n",
       "</style>\n",
       "<table border=\"1\" class=\"dataframe\">\n",
       "  <thead>\n",
       "    <tr style=\"text-align: right;\">\n",
       "      <th></th>\n",
       "      <th>id</th>\n",
       "      <th>addr</th>\n",
       "      <th>lon</th>\n",
       "      <th>lat</th>\n",
       "      <th>縣市</th>\n",
       "      <th>行政區</th>\n",
       "      <th>村里</th>\n",
       "    </tr>\n",
       "  </thead>\n",
       "  <tbody>\n",
       "    <tr>\n",
       "      <th>0</th>\n",
       "      <td>20060109000513</td>\n",
       "      <td>宜蘭縣宜蘭市北門里3鄰同興街36號                             ...</td>\n",
       "      <td>121.753268</td>\n",
       "      <td>24.761595</td>\n",
       "      <td>宜蘭縣</td>\n",
       "      <td>宜蘭市</td>\n",
       "      <td>北門里</td>\n",
       "    </tr>\n",
       "    <tr>\n",
       "      <th>1</th>\n",
       "      <td>30014365501000</td>\n",
       "      <td>新北市中和區正南里2鄰興南路二段67巷1之6號                       ...</td>\n",
       "      <td>121.507015</td>\n",
       "      <td>24.984890</td>\n",
       "      <td>新北市</td>\n",
       "      <td>中和區</td>\n",
       "      <td>正南里</td>\n",
       "    </tr>\n",
       "    <tr>\n",
       "      <th>2</th>\n",
       "      <td>20081127000448</td>\n",
       "      <td>新北市板橋區福壽里13鄰三民路二段居仁巷40號                       ...</td>\n",
       "      <td>121.480497</td>\n",
       "      <td>25.013251</td>\n",
       "      <td>新北市</td>\n",
       "      <td>板橋區</td>\n",
       "      <td>福壽里</td>\n",
       "    </tr>\n",
       "    <tr>\n",
       "      <th>3</th>\n",
       "      <td>20191013001052</td>\n",
       "      <td>新北市板橋區居仁里15鄰三民路二段153巷32弄10號                   ...</td>\n",
       "      <td>121.480618</td>\n",
       "      <td>25.014554</td>\n",
       "      <td>新北市</td>\n",
       "      <td>板橋區</td>\n",
       "      <td>居仁里</td>\n",
       "    </tr>\n",
       "    <tr>\n",
       "      <th>4</th>\n",
       "      <td>20180803000553</td>\n",
       "      <td>臺中市南屯區惠中里19鄰大墩十一街301號                         ...</td>\n",
       "      <td>120.647378</td>\n",
       "      <td>24.148680</td>\n",
       "      <td>台中市</td>\n",
       "      <td>南屯區</td>\n",
       "      <td>惠中里</td>\n",
       "    </tr>\n",
       "  </tbody>\n",
       "</table>\n",
       "</div>"
      ],
      "text/plain": [
       "               id                                               addr  \\\n",
       "0  20060109000513  宜蘭縣宜蘭市北門里3鄰同興街36號                             ...   \n",
       "1  30014365501000  新北市中和區正南里2鄰興南路二段67巷1之6號                       ...   \n",
       "2  20081127000448  新北市板橋區福壽里13鄰三民路二段居仁巷40號                       ...   \n",
       "3  20191013001052  新北市板橋區居仁里15鄰三民路二段153巷32弄10號                   ...   \n",
       "4  20180803000553  臺中市南屯區惠中里19鄰大墩十一街301號                         ...   \n",
       "\n",
       "          lon        lat   縣市  行政區   村里  \n",
       "0  121.753268  24.761595  宜蘭縣  宜蘭市  北門里  \n",
       "1  121.507015  24.984890  新北市  中和區  正南里  \n",
       "2  121.480497  25.013251  新北市  板橋區  福壽里  \n",
       "3  121.480618  25.014554  新北市  板橋區  居仁里  \n",
       "4  120.647378  24.148680  台中市  南屯區  惠中里  "
      ]
     },
     "execution_count": 26,
     "metadata": {},
     "output_type": "execute_result"
    }
   ],
   "source": [
    "result.head()"
   ]
  },
  {
   "cell_type": "code",
   "execution_count": 27,
   "metadata": {},
   "outputs": [
    {
     "name": "stdout",
     "output_type": "stream",
     "text": [
      "(211, 4)\n"
     ]
    }
   ],
   "source": [
    "df_get_back=df_get_back[-df_get_back.id.isin(result.id)]\n",
    "print(df_get_back.shape)"
   ]
  },
  {
   "cell_type": "code",
   "execution_count": 28,
   "metadata": {},
   "outputs": [],
   "source": [
    "result=pd.concat([result,df_get_back]).reset_index(drop=True)"
   ]
  },
  {
   "cell_type": "code",
   "execution_count": 29,
   "metadata": {},
   "outputs": [
    {
     "data": {
      "text/plain": [
       "(17749, 7)"
      ]
     },
     "execution_count": 29,
     "metadata": {},
     "output_type": "execute_result"
    }
   ],
   "source": [
    "result.shape"
   ]
  },
  {
   "cell_type": "code",
   "execution_count": 30,
   "metadata": {},
   "outputs": [
    {
     "data": {
      "text/plain": [
       "0.12583727344365642"
      ]
     },
     "execution_count": 30,
     "metadata": {},
     "output_type": "execute_result"
    }
   ],
   "source": [
    "used=result.shape[0]\n",
    "new_total=used+(unsure-unsure_get_back)\n",
    "new_loss=(unsure-unsure_get_back)/(used+(unsure-unsure_get_back))\n",
    "new_loss"
   ]
  },
  {
   "cell_type": "code",
   "execution_count": 31,
   "metadata": {},
   "outputs": [
    {
     "data": {
      "text/plain": [
       "20304"
      ]
     },
     "execution_count": 31,
     "metadata": {},
     "output_type": "execute_result"
    }
   ],
   "source": [
    "(used+(unsure-unsure_get_back))"
   ]
  },
  {
   "cell_type": "code",
   "execution_count": null,
   "metadata": {},
   "outputs": [],
   "source": []
  },
  {
   "cell_type": "markdown",
   "metadata": {},
   "source": [
    "# 會員消費額"
   ]
  },
  {
   "cell_type": "code",
   "execution_count": 32,
   "metadata": {},
   "outputs": [],
   "source": [
    "#sales=pd.read_csv(r'C:\\Users\\RT009223\\TestriteGroup\\滲透率專案\\01_raw data\\TLW2020H1一般卡會員消費金額.csv',error_bad_lines=False,header=None)\n",
    "#sales.columns=['id','sale']\n",
    "#sales.shape"
   ]
  },
  {
   "cell_type": "code",
   "execution_count": 33,
   "metadata": {},
   "outputs": [
    {
     "name": "stdout",
     "output_type": "stream",
     "text": [
      "(20304, 2)\n"
     ]
    }
   ],
   "source": [
    "sales=pd.read_csv(r'C:\\Users\\RT009223\\TestriteGroup\\滲透率專案\\01_raw data\\1C2020H1一般卡會員消費金額.csv',error_bad_lines=False,header=None)\n",
    "sales.columns=['id','sale']\n",
    "print(sales.shape)"
   ]
  },
  {
   "cell_type": "code",
   "execution_count": 34,
   "metadata": {},
   "outputs": [],
   "source": [
    "sales=sales.groupby(['id'])['sale'].sum().reset_index()"
   ]
  },
  {
   "cell_type": "code",
   "execution_count": 35,
   "metadata": {},
   "outputs": [
    {
     "data": {
      "text/html": [
       "<div>\n",
       "<style scoped>\n",
       "    .dataframe tbody tr th:only-of-type {\n",
       "        vertical-align: middle;\n",
       "    }\n",
       "\n",
       "    .dataframe tbody tr th {\n",
       "        vertical-align: top;\n",
       "    }\n",
       "\n",
       "    .dataframe thead th {\n",
       "        text-align: right;\n",
       "    }\n",
       "</style>\n",
       "<table border=\"1\" class=\"dataframe\">\n",
       "  <thead>\n",
       "    <tr style=\"text-align: right;\">\n",
       "      <th></th>\n",
       "      <th>id</th>\n",
       "      <th>sale</th>\n",
       "    </tr>\n",
       "  </thead>\n",
       "  <tbody>\n",
       "    <tr>\n",
       "      <th>0</th>\n",
       "      <td>18991230000288</td>\n",
       "      <td>43808.57</td>\n",
       "    </tr>\n",
       "    <tr>\n",
       "      <th>1</th>\n",
       "      <td>18991230000390</td>\n",
       "      <td>6760.95</td>\n",
       "    </tr>\n",
       "    <tr>\n",
       "      <th>2</th>\n",
       "      <td>19960101001326</td>\n",
       "      <td>1895.23</td>\n",
       "    </tr>\n",
       "    <tr>\n",
       "      <th>3</th>\n",
       "      <td>19960102000297</td>\n",
       "      <td>105591.41</td>\n",
       "    </tr>\n",
       "    <tr>\n",
       "      <th>4</th>\n",
       "      <td>19960102000328</td>\n",
       "      <td>70628.52</td>\n",
       "    </tr>\n",
       "  </tbody>\n",
       "</table>\n",
       "</div>"
      ],
      "text/plain": [
       "               id       sale\n",
       "0  18991230000288   43808.57\n",
       "1  18991230000390    6760.95\n",
       "2  19960101001326    1895.23\n",
       "3  19960102000297  105591.41\n",
       "4  19960102000328   70628.52"
      ]
     },
     "execution_count": 35,
     "metadata": {},
     "output_type": "execute_result"
    }
   ],
   "source": [
    "sales.head()"
   ]
  },
  {
   "cell_type": "code",
   "execution_count": 36,
   "metadata": {},
   "outputs": [
    {
     "data": {
      "text/plain": [
       "535619920.67999995"
      ]
     },
     "execution_count": 36,
     "metadata": {},
     "output_type": "execute_result"
    }
   ],
   "source": [
    "sales.sale.sum()"
   ]
  },
  {
   "cell_type": "code",
   "execution_count": 37,
   "metadata": {},
   "outputs": [
    {
     "data": {
      "text/plain": [
       "17749"
      ]
     },
     "execution_count": 37,
     "metadata": {},
     "output_type": "execute_result"
    }
   ],
   "source": [
    "sales.id.isin(result.id).sum()"
   ]
  },
  {
   "cell_type": "code",
   "execution_count": 38,
   "metadata": {},
   "outputs": [],
   "source": [
    "result=pd.merge(result,sales).reset_index(drop=True)"
   ]
  },
  {
   "cell_type": "code",
   "execution_count": 39,
   "metadata": {},
   "outputs": [
    {
     "data": {
      "text/plain": [
       "(17749, 8)"
      ]
     },
     "execution_count": 39,
     "metadata": {},
     "output_type": "execute_result"
    }
   ],
   "source": [
    "result.shape"
   ]
  },
  {
   "cell_type": "markdown",
   "metadata": {},
   "source": [
    "# 人口資料整理"
   ]
  },
  {
   "cell_type": "code",
   "execution_count": 40,
   "metadata": {},
   "outputs": [],
   "source": [
    "pop=pd.read_excel(r'台灣202006年村里人口.xlsx')"
   ]
  },
  {
   "cell_type": "code",
   "execution_count": 41,
   "metadata": {},
   "outputs": [],
   "source": [
    "pop['縣市']=pop['縣市'].str.replace('\\xa0','')\n",
    "pop['行政區']=pop['行政區'].str.replace('\\xa0','')\n",
    "pop['村里']=pop['村里'].str.replace('\\xa0','')"
   ]
  },
  {
   "cell_type": "code",
   "execution_count": 42,
   "metadata": {},
   "outputs": [],
   "source": [
    "\n",
    "#公舘里~公館里\n",
    "#上舘里~上館里\n",
    "#石[曹]里~石𥕢里\n",
    "#鷄林里~雞林里\n",
    "#水磜村~水祭村\n",
    "#珊湖里~珊瑚里"
   ]
  },
  {
   "cell_type": "code",
   "execution_count": 43,
   "metadata": {},
   "outputs": [],
   "source": [
    "gdf.columns=['縣市','行政區','村里','geometry']"
   ]
  },
  {
   "cell_type": "code",
   "execution_count": 44,
   "metadata": {},
   "outputs": [],
   "source": [
    "gdf['縣市']=list(gdf['縣市'].apply(lambda x:x.replace('臺','台')))\n",
    "gdf['行政區']=list(gdf['行政區'].apply(lambda x:x.replace('臺','台')))\n",
    "gdf['村里']=list(gdf['村里'].apply(lambda x:x.replace('臺','台')))\n",
    "pop['縣市']=list(pop['縣市'].apply(lambda x:x.replace('臺','台')))\n",
    "pop['行政區']=list(pop['行政區'].apply(lambda x:x.replace('臺','台')))\n",
    "pop['村里']=list(pop['村里'].apply(lambda x:x.replace('臺','台')))\n",
    "\n",
    "gdf['村里']=gdf['村里'].apply(lambda x:x.replace('舘','館'))\n",
    "pop['村里']=pop['村里'].apply(lambda x:x.replace('舘','館'))\n",
    "gdf['村里']=gdf['村里'].apply(lambda x:x.replace('双','雙'))\n",
    "pop['村里']=pop['村里'].apply(lambda x:x.replace('双','雙'))\n",
    "gdf['村里']=gdf['村里'].apply(lambda x:x.replace('石[曹]里','石𥕢里'))\n",
    "gdf['村里']=gdf['村里'].apply(lambda x:x.replace('鷄林里','雞林里'))\n",
    "gdf['村里']=gdf['村里'].apply(lambda x:x.replace('水磜村','水祭村'))\n",
    "gdf['村里']=gdf['村里'].apply(lambda x:x.replace('珊湖里','珊瑚里'))\n",
    "\n",
    "gdf['村里']=gdf['村里'].apply(lambda x:x.replace('欍','瓊'))\n",
    "\n",
    "pop['村里']=pop['村里'].apply(lambda x:x.replace('石[曹]里','石𥕢里'))\n",
    "pop['村里']=pop['村里'].apply(lambda x:x.replace('鷄林里','雞林里'))\n",
    "pop['村里']=pop['村里'].apply(lambda x:x.replace('水磜村','水祭村'))\n",
    "pop['村里']=pop['村里'].apply(lambda x:x.replace('珊湖里','珊瑚里'))\n",
    "\n",
    "pop['村里']=pop['村里'].apply(lambda x:x.replace('欍','瓊'))\n",
    "\n",
    "\n",
    "pop['村里']=pop['村里'].apply(lambda x:x.replace('溝垻里','溝埧里'))\n",
    "pop['村里']=pop['村里'].apply(lambda x:x.replace('崙峰里','崙峯里'))"
   ]
  },
  {
   "cell_type": "code",
   "execution_count": 45,
   "metadata": {},
   "outputs": [],
   "source": [
    "result['村里']=result['村里'].apply(lambda x:x.replace('舘','館'))\n",
    "result['村里']=result['村里'].apply(lambda x:x.replace('石[曹]里','石𥕢里'))\n",
    "result['村里']=result['村里'].apply(lambda x:x.replace('双','雙'))\n",
    "result['村里']=result['村里'].apply(lambda x:x.replace('鷄林里','雞林里'))\n",
    "result['村里']=result['村里'].apply(lambda x:x.replace('水磜村','水祭村'))\n",
    "result['村里']=result['村里'].apply(lambda x:x.replace('珊湖里','珊瑚里'))\n",
    "result['村里']=result['村里'].apply(lambda x:x.replace('欍','瓊'))"
   ]
  },
  {
   "cell_type": "code",
   "execution_count": 46,
   "metadata": {},
   "outputs": [
    {
     "data": {
      "text/plain": [
       "(4209, 5)"
      ]
     },
     "execution_count": 46,
     "metadata": {},
     "output_type": "execute_result"
    }
   ],
   "source": [
    "#result2=result.groupby(['縣市','行政區','村里'])['id'].count().reset_index()\n",
    "result2=result.groupby(['縣市','行政區','村里']).agg({'id':'count', 'sale': 'sum'}).reset_index()\n",
    "result2.columns=['縣市','行政區','村里','會員數','消費額']\n",
    "result2.shape"
   ]
  },
  {
   "cell_type": "code",
   "execution_count": 47,
   "metadata": {},
   "outputs": [],
   "source": [
    "result2['平均消費額']=round(result2['消費額']/result2['會員數'])"
   ]
  },
  {
   "cell_type": "code",
   "execution_count": 48,
   "metadata": {},
   "outputs": [
    {
     "data": {
      "text/plain": [
       "(7760, 8)"
      ]
     },
     "execution_count": 48,
     "metadata": {},
     "output_type": "execute_result"
    }
   ],
   "source": [
    "result2=pd.merge(pop,result2,how='left')\n",
    "result2.shape"
   ]
  },
  {
   "cell_type": "code",
   "execution_count": 49,
   "metadata": {},
   "outputs": [
    {
     "data": {
      "text/plain": [
       "array([], dtype=object)"
      ]
     },
     "execution_count": 49,
     "metadata": {},
     "output_type": "execute_result"
    }
   ],
   "source": [
    "result2[-(result2['縣市']+result2['行政區']+result2['村里']).isin(pop['縣市']+pop['行政區']+pop['村里'])]['縣市'].unique()"
   ]
  },
  {
   "cell_type": "code",
   "execution_count": 50,
   "metadata": {},
   "outputs": [
    {
     "data": {
      "text/html": [
       "<div>\n",
       "<style scoped>\n",
       "    .dataframe tbody tr th:only-of-type {\n",
       "        vertical-align: middle;\n",
       "    }\n",
       "\n",
       "    .dataframe tbody tr th {\n",
       "        vertical-align: top;\n",
       "    }\n",
       "\n",
       "    .dataframe thead th {\n",
       "        text-align: right;\n",
       "    }\n",
       "</style>\n",
       "<table border=\"1\" class=\"dataframe\">\n",
       "  <thead>\n",
       "    <tr style=\"text-align: right;\">\n",
       "      <th></th>\n",
       "      <th>縣市</th>\n",
       "      <th>行政區</th>\n",
       "      <th>村里</th>\n",
       "      <th>戶口</th>\n",
       "      <th>人口</th>\n",
       "    </tr>\n",
       "  </thead>\n",
       "  <tbody>\n",
       "  </tbody>\n",
       "</table>\n",
       "</div>"
      ],
      "text/plain": [
       "Empty DataFrame\n",
       "Columns: [縣市, 行政區, 村里, 戶口, 人口]\n",
       "Index: []"
      ]
     },
     "execution_count": 50,
     "metadata": {},
     "output_type": "execute_result"
    }
   ],
   "source": [
    "pop[-(pop['行政區']+pop['村里']).isin(gdf['行政區']+gdf['村里'])]"
   ]
  },
  {
   "cell_type": "code",
   "execution_count": 51,
   "metadata": {},
   "outputs": [],
   "source": [
    "#gdf[gdf['村里']=='好茶村']"
   ]
  },
  {
   "cell_type": "code",
   "execution_count": 52,
   "metadata": {},
   "outputs": [
    {
     "data": {
      "text/plain": [
       "17749.0"
      ]
     },
     "execution_count": 52,
     "metadata": {},
     "output_type": "execute_result"
    }
   ],
   "source": [
    "result2['會員數'].sum()"
   ]
  },
  {
   "cell_type": "code",
   "execution_count": 53,
   "metadata": {},
   "outputs": [],
   "source": [
    "gdf_final=pd.merge(gdf,result2,how='right')"
   ]
  },
  {
   "cell_type": "code",
   "execution_count": 54,
   "metadata": {},
   "outputs": [],
   "source": [
    "gdf_final['會員數'][gdf_final['會員數'].isna()]=0"
   ]
  },
  {
   "cell_type": "code",
   "execution_count": 55,
   "metadata": {},
   "outputs": [
    {
     "data": {
      "text/html": [
       "<div>\n",
       "<style scoped>\n",
       "    .dataframe tbody tr th:only-of-type {\n",
       "        vertical-align: middle;\n",
       "    }\n",
       "\n",
       "    .dataframe tbody tr th {\n",
       "        vertical-align: top;\n",
       "    }\n",
       "\n",
       "    .dataframe thead th {\n",
       "        text-align: right;\n",
       "    }\n",
       "</style>\n",
       "<table border=\"1\" class=\"dataframe\">\n",
       "  <thead>\n",
       "    <tr style=\"text-align: right;\">\n",
       "      <th></th>\n",
       "      <th>縣市</th>\n",
       "      <th>行政區</th>\n",
       "      <th>村里</th>\n",
       "      <th>geometry</th>\n",
       "      <th>戶口</th>\n",
       "      <th>人口</th>\n",
       "      <th>會員數</th>\n",
       "      <th>消費額</th>\n",
       "      <th>平均消費額</th>\n",
       "      <th>site</th>\n",
       "    </tr>\n",
       "  </thead>\n",
       "  <tbody>\n",
       "    <tr>\n",
       "      <th>0</th>\n",
       "      <td>高雄市</td>\n",
       "      <td>林園區</td>\n",
       "      <td>中門里</td>\n",
       "      <td>POLYGON ((120.36772 22.49564, 120.36427 22.498...</td>\n",
       "      <td>1124</td>\n",
       "      <td>2884</td>\n",
       "      <td>0.0</td>\n",
       "      <td>NaN</td>\n",
       "      <td>NaN</td>\n",
       "      <td>高雄市林園區中門里</td>\n",
       "    </tr>\n",
       "    <tr>\n",
       "      <th>1</th>\n",
       "      <td>高雄市</td>\n",
       "      <td>林園區</td>\n",
       "      <td>港埔里</td>\n",
       "      <td>POLYGON ((120.37325 22.49123, 120.37147 22.492...</td>\n",
       "      <td>822</td>\n",
       "      <td>2054</td>\n",
       "      <td>1.0</td>\n",
       "      <td>41788.56</td>\n",
       "      <td>41789.0</td>\n",
       "      <td>高雄市林園區港埔里</td>\n",
       "    </tr>\n",
       "    <tr>\n",
       "      <th>2</th>\n",
       "      <td>高雄市</td>\n",
       "      <td>旗津區</td>\n",
       "      <td>上竹里</td>\n",
       "      <td>POLYGON ((120.28976 22.57317, 120.28577 22.577...</td>\n",
       "      <td>1386</td>\n",
       "      <td>3228</td>\n",
       "      <td>1.0</td>\n",
       "      <td>1902.85</td>\n",
       "      <td>1903.0</td>\n",
       "      <td>高雄市旗津區上竹里</td>\n",
       "    </tr>\n",
       "    <tr>\n",
       "      <th>3</th>\n",
       "      <td>高雄市</td>\n",
       "      <td>旗津區</td>\n",
       "      <td>中興里</td>\n",
       "      <td>POLYGON ((120.30320 22.55568, 120.30284 22.557...</td>\n",
       "      <td>1069</td>\n",
       "      <td>2886</td>\n",
       "      <td>1.0</td>\n",
       "      <td>0.00</td>\n",
       "      <td>0.0</td>\n",
       "      <td>高雄市旗津區中興里</td>\n",
       "    </tr>\n",
       "    <tr>\n",
       "      <th>4</th>\n",
       "      <td>連江縣</td>\n",
       "      <td>南竿鄉</td>\n",
       "      <td>津沙村</td>\n",
       "      <td>POLYGON ((119.91684 26.14109, 119.91683 26.141...</td>\n",
       "      <td>111</td>\n",
       "      <td>441</td>\n",
       "      <td>0.0</td>\n",
       "      <td>NaN</td>\n",
       "      <td>NaN</td>\n",
       "      <td>連江縣南竿鄉津沙村</td>\n",
       "    </tr>\n",
       "    <tr>\n",
       "      <th>...</th>\n",
       "      <td>...</td>\n",
       "      <td>...</td>\n",
       "      <td>...</td>\n",
       "      <td>...</td>\n",
       "      <td>...</td>\n",
       "      <td>...</td>\n",
       "      <td>...</td>\n",
       "      <td>...</td>\n",
       "      <td>...</td>\n",
       "      <td>...</td>\n",
       "    </tr>\n",
       "    <tr>\n",
       "      <th>7755</th>\n",
       "      <td>基隆市</td>\n",
       "      <td>七堵區</td>\n",
       "      <td>實踐里</td>\n",
       "      <td>POLYGON ((121.70123 25.08284, 121.70167 25.081...</td>\n",
       "      <td>1683</td>\n",
       "      <td>4434</td>\n",
       "      <td>1.0</td>\n",
       "      <td>1902.84</td>\n",
       "      <td>1903.0</td>\n",
       "      <td>基隆市七堵區實踐里</td>\n",
       "    </tr>\n",
       "    <tr>\n",
       "      <th>7756</th>\n",
       "      <td>基隆市</td>\n",
       "      <td>七堵區</td>\n",
       "      <td>堵北里</td>\n",
       "      <td>MULTIPOLYGON (((121.69626 25.08189, 121.69423 ...</td>\n",
       "      <td>1616</td>\n",
       "      <td>4256</td>\n",
       "      <td>2.0</td>\n",
       "      <td>73866.64</td>\n",
       "      <td>36933.0</td>\n",
       "      <td>基隆市七堵區堵北里</td>\n",
       "    </tr>\n",
       "    <tr>\n",
       "      <th>7757</th>\n",
       "      <td>基隆市</td>\n",
       "      <td>七堵區</td>\n",
       "      <td>堵南里</td>\n",
       "      <td>POLYGON ((121.69469 25.08739, 121.69373 25.086...</td>\n",
       "      <td>934</td>\n",
       "      <td>2357</td>\n",
       "      <td>2.0</td>\n",
       "      <td>51904.75</td>\n",
       "      <td>25952.0</td>\n",
       "      <td>基隆市七堵區堵南里</td>\n",
       "    </tr>\n",
       "    <tr>\n",
       "      <th>7758</th>\n",
       "      <td>基隆市</td>\n",
       "      <td>暖暖區</td>\n",
       "      <td>暖東里</td>\n",
       "      <td>POLYGON ((121.74707 25.09037, 121.74748 25.090...</td>\n",
       "      <td>193</td>\n",
       "      <td>459</td>\n",
       "      <td>0.0</td>\n",
       "      <td>NaN</td>\n",
       "      <td>NaN</td>\n",
       "      <td>基隆市暖暖區暖東里</td>\n",
       "    </tr>\n",
       "    <tr>\n",
       "      <th>7759</th>\n",
       "      <td>基隆市</td>\n",
       "      <td>七堵區</td>\n",
       "      <td>百福里</td>\n",
       "      <td>POLYGON ((121.69794 25.09004, 121.69838 25.089...</td>\n",
       "      <td>2688</td>\n",
       "      <td>7183</td>\n",
       "      <td>5.0</td>\n",
       "      <td>194252.35</td>\n",
       "      <td>38850.0</td>\n",
       "      <td>基隆市七堵區百福里</td>\n",
       "    </tr>\n",
       "  </tbody>\n",
       "</table>\n",
       "<p>7760 rows × 10 columns</p>\n",
       "</div>"
      ],
      "text/plain": [
       "       縣市  行政區   村里                                           geometry    戶口  \\\n",
       "0     高雄市  林園區  中門里  POLYGON ((120.36772 22.49564, 120.36427 22.498...  1124   \n",
       "1     高雄市  林園區  港埔里  POLYGON ((120.37325 22.49123, 120.37147 22.492...   822   \n",
       "2     高雄市  旗津區  上竹里  POLYGON ((120.28976 22.57317, 120.28577 22.577...  1386   \n",
       "3     高雄市  旗津區  中興里  POLYGON ((120.30320 22.55568, 120.30284 22.557...  1069   \n",
       "4     連江縣  南竿鄉  津沙村  POLYGON ((119.91684 26.14109, 119.91683 26.141...   111   \n",
       "...   ...  ...  ...                                                ...   ...   \n",
       "7755  基隆市  七堵區  實踐里  POLYGON ((121.70123 25.08284, 121.70167 25.081...  1683   \n",
       "7756  基隆市  七堵區  堵北里  MULTIPOLYGON (((121.69626 25.08189, 121.69423 ...  1616   \n",
       "7757  基隆市  七堵區  堵南里  POLYGON ((121.69469 25.08739, 121.69373 25.086...   934   \n",
       "7758  基隆市  暖暖區  暖東里  POLYGON ((121.74707 25.09037, 121.74748 25.090...   193   \n",
       "7759  基隆市  七堵區  百福里  POLYGON ((121.69794 25.09004, 121.69838 25.089...  2688   \n",
       "\n",
       "        人口  會員數        消費額    平均消費額       site  \n",
       "0     2884  0.0        NaN      NaN  高雄市林園區中門里  \n",
       "1     2054  1.0   41788.56  41789.0  高雄市林園區港埔里  \n",
       "2     3228  1.0    1902.85   1903.0  高雄市旗津區上竹里  \n",
       "3     2886  1.0       0.00      0.0  高雄市旗津區中興里  \n",
       "4      441  0.0        NaN      NaN  連江縣南竿鄉津沙村  \n",
       "...    ...  ...        ...      ...        ...  \n",
       "7755  4434  1.0    1902.84   1903.0  基隆市七堵區實踐里  \n",
       "7756  4256  2.0   73866.64  36933.0  基隆市七堵區堵北里  \n",
       "7757  2357  2.0   51904.75  25952.0  基隆市七堵區堵南里  \n",
       "7758   459  0.0        NaN      NaN  基隆市暖暖區暖東里  \n",
       "7759  7183  5.0  194252.35  38850.0  基隆市七堵區百福里  \n",
       "\n",
       "[7760 rows x 10 columns]"
      ]
     },
     "execution_count": 55,
     "metadata": {},
     "output_type": "execute_result"
    }
   ],
   "source": [
    "gdf_final['site']=gdf_final['縣市']+gdf_final['行政區']+gdf_final['村里']\n",
    "gdf_final"
   ]
  },
  {
   "cell_type": "code",
   "execution_count": 56,
   "metadata": {},
   "outputs": [],
   "source": [
    "gdf_final['ratio']=gdf_final['會員數']/gdf_final['戶口']\n",
    "gdf_final['ratio2']=gdf_final['ratio']\n",
    "gdf_final.loc[gdf_final['ratio2']>0.6,'ratio2']=0.02\n",
    "gdf_final['percent']=gdf_final['ratio'].map(lambda x:str(round(x*100,1))+'%')\n",
    "#gdf_final=gdf_final.set_index(gdf_final.site)\n",
    "gdf_final['MarketPotential']=(gdf_final['戶口']-gdf_final['會員數']).astype('int')"
   ]
  },
  {
   "cell_type": "code",
   "execution_count": 57,
   "metadata": {},
   "outputs": [],
   "source": [
    "gdf_final['平均消費額2']=gdf_final['平均消費額']\n",
    "gdf_final['平均消費額2'][gdf_final['平均消費額']>10000]=10000"
   ]
  },
  {
   "cell_type": "code",
   "execution_count": 58,
   "metadata": {},
   "outputs": [],
   "source": [
    "gdf_final['會員數2']=gdf_final['會員數']\n",
    "gdf_final['會員數2']=np.log(gdf_final['會員數2']+1)"
   ]
  },
  {
   "cell_type": "code",
   "execution_count": 59,
   "metadata": {},
   "outputs": [
    {
     "data": {
      "text/plain": [
       "0.0"
      ]
     },
     "execution_count": 59,
     "metadata": {},
     "output_type": "execute_result"
    }
   ],
   "source": [
    "np.log(1)"
   ]
  },
  {
   "cell_type": "code",
   "execution_count": 60,
   "metadata": {},
   "outputs": [
    {
     "data": {
      "text/plain": [
       "32.602499999999964"
      ]
     },
     "execution_count": 60,
     "metadata": {},
     "output_type": "execute_result"
    }
   ],
   "source": [
    "np.percentile(gdf_final['會員數'],99.75)"
   ]
  },
  {
   "cell_type": "code",
   "execution_count": 61,
   "metadata": {},
   "outputs": [
    {
     "data": {
      "text/plain": [
       "count    7760.000000\n",
       "mean        2.287242\n",
       "std         4.258328\n",
       "min         0.000000\n",
       "25%         0.000000\n",
       "50%         1.000000\n",
       "75%         3.000000\n",
       "max        58.000000\n",
       "Name: 會員數, dtype: float64"
      ]
     },
     "execution_count": 61,
     "metadata": {},
     "output_type": "execute_result"
    }
   ],
   "source": [
    "gdf_final['會員數'].describe()"
   ]
  },
  {
   "cell_type": "code",
   "execution_count": 62,
   "metadata": {},
   "outputs": [
    {
     "data": {
      "text/plain": [
       "{'whiskers': [<matplotlib.lines.Line2D at 0x153d5d60188>,\n",
       "  <matplotlib.lines.Line2D at 0x153d3926b48>],\n",
       " 'caps': [<matplotlib.lines.Line2D at 0x153d3926c88>,\n",
       "  <matplotlib.lines.Line2D at 0x153d3926d88>],\n",
       " 'boxes': [<matplotlib.lines.Line2D at 0x153d3916e48>],\n",
       " 'medians': [<matplotlib.lines.Line2D at 0x153d3911b88>],\n",
       " 'fliers': [<matplotlib.lines.Line2D at 0x153d3911d08>],\n",
       " 'means': []}"
      ]
     },
     "execution_count": 62,
     "metadata": {},
     "output_type": "execute_result"
    },
    {
     "data": {
      "image/png": "[encoded data removed]",
      "text/plain": [
       "<Figure size 432x288 with 1 Axes>"
      ]
     },
     "metadata": {
      "needs_background": "light"
     },
     "output_type": "display_data"
    }
   ],
   "source": [
    "plt.boxplot(gdf_final['會員數'])"
   ]
  },
  {
   "cell_type": "code",
   "execution_count": 63,
   "metadata": {},
   "outputs": [],
   "source": [
    "#gdf_final.sort_values(by='ratio',ascending=False).head(10)"
   ]
  },
  {
   "cell_type": "code",
   "execution_count": 64,
   "metadata": {},
   "outputs": [],
   "source": [
    "#(result.addr.str.contains('營盤里')&result.addr.str.contains('新莊區')).sum()"
   ]
  },
  {
   "cell_type": "code",
   "execution_count": 65,
   "metadata": {},
   "outputs": [],
   "source": [
    "#gdf_final.sort_values(by=['ratio','戶口'],ascending=[True,False]).head(10)"
   ]
  },
  {
   "cell_type": "code",
   "execution_count": 66,
   "metadata": {},
   "outputs": [],
   "source": [
    "gdf_final['MarketPotential_normalization']=(gdf_final['MarketPotential']-gdf_final['MarketPotential'].min())/(gdf_final['MarketPotential'].max()-gdf_final['MarketPotential'].min())\n",
    "gdf_final['MarketPotential_density']=(gdf_final['MarketPotential'])/(gdf_final.to_crs({'init': 'epsg:3395'}).area/ 10**6)\n",
    "gdf_final['MarketPotential_density_normalization']=(gdf_final['MarketPotential_density']-gdf_final['MarketPotential_density'].min())/(gdf_final['MarketPotential_density'].max()-gdf_final['MarketPotential_density'].min())\n",
    "gdf_final['percent']=gdf_final['ratio'].map(lambda x:str(round(x*100,1))+'%')"
   ]
  },
  {
   "cell_type": "code",
   "execution_count": 67,
   "metadata": {},
   "outputs": [],
   "source": [
    "gdf_final['平均消費額_normalization']=(gdf_final['平均消費額2']-gdf_final['平均消費額2'].min())/(gdf_final['平均消費額2'].max()-gdf_final['平均消費額2'].min())"
   ]
  },
  {
   "cell_type": "code",
   "execution_count": 68,
   "metadata": {},
   "outputs": [],
   "source": [
    "gdf_final.loc[gdf_final['平均消費額_normalization'].isna(),['平均消費額_normalization']]=0"
   ]
  },
  {
   "cell_type": "code",
   "execution_count": 69,
   "metadata": {},
   "outputs": [
    {
     "data": {
      "text/html": [
       "<div>\n",
       "<style scoped>\n",
       "    .dataframe tbody tr th:only-of-type {\n",
       "        vertical-align: middle;\n",
       "    }\n",
       "\n",
       "    .dataframe tbody tr th {\n",
       "        vertical-align: top;\n",
       "    }\n",
       "\n",
       "    .dataframe thead th {\n",
       "        text-align: right;\n",
       "    }\n",
       "</style>\n",
       "<table border=\"1\" class=\"dataframe\">\n",
       "  <thead>\n",
       "    <tr style=\"text-align: right;\">\n",
       "      <th></th>\n",
       "      <th>縣市</th>\n",
       "      <th>行政區</th>\n",
       "      <th>村里</th>\n",
       "      <th>geometry</th>\n",
       "      <th>戶口</th>\n",
       "      <th>人口</th>\n",
       "      <th>會員數</th>\n",
       "      <th>消費額</th>\n",
       "      <th>平均消費額</th>\n",
       "      <th>site</th>\n",
       "      <th>ratio</th>\n",
       "      <th>ratio2</th>\n",
       "      <th>percent</th>\n",
       "      <th>MarketPotential</th>\n",
       "      <th>平均消費額2</th>\n",
       "      <th>會員數2</th>\n",
       "      <th>MarketPotential_normalization</th>\n",
       "      <th>MarketPotential_density</th>\n",
       "      <th>MarketPotential_density_normalization</th>\n",
       "      <th>平均消費額_normalization</th>\n",
       "    </tr>\n",
       "  </thead>\n",
       "  <tbody>\n",
       "    <tr>\n",
       "      <th>0</th>\n",
       "      <td>高雄市</td>\n",
       "      <td>林園區</td>\n",
       "      <td>中門里</td>\n",
       "      <td>POLYGON ((120.36772 22.49564, 120.36427 22.498...</td>\n",
       "      <td>1124</td>\n",
       "      <td>2884</td>\n",
       "      <td>0.0</td>\n",
       "      <td>NaN</td>\n",
       "      <td>NaN</td>\n",
       "      <td>高雄市林園區中門里</td>\n",
       "      <td>0.000000</td>\n",
       "      <td>0.000000</td>\n",
       "      <td>0.0%</td>\n",
       "      <td>1124</td>\n",
       "      <td>NaN</td>\n",
       "      <td>0.000000</td>\n",
       "      <td>0.064309</td>\n",
       "      <td>456.988078</td>\n",
       "      <td>0.010838</td>\n",
       "      <td>0.000000</td>\n",
       "    </tr>\n",
       "    <tr>\n",
       "      <th>1</th>\n",
       "      <td>高雄市</td>\n",
       "      <td>林園區</td>\n",
       "      <td>港埔里</td>\n",
       "      <td>POLYGON ((120.37325 22.49123, 120.37147 22.492...</td>\n",
       "      <td>822</td>\n",
       "      <td>2054</td>\n",
       "      <td>1.0</td>\n",
       "      <td>41788.56</td>\n",
       "      <td>41789.0</td>\n",
       "      <td>高雄市林園區港埔里</td>\n",
       "      <td>0.001217</td>\n",
       "      <td>0.001217</td>\n",
       "      <td>0.1%</td>\n",
       "      <td>821</td>\n",
       "      <td>10000.0</td>\n",
       "      <td>0.693147</td>\n",
       "      <td>0.046627</td>\n",
       "      <td>536.987761</td>\n",
       "      <td>0.012736</td>\n",
       "      <td>1.000000</td>\n",
       "    </tr>\n",
       "    <tr>\n",
       "      <th>2</th>\n",
       "      <td>高雄市</td>\n",
       "      <td>旗津區</td>\n",
       "      <td>上竹里</td>\n",
       "      <td>POLYGON ((120.28976 22.57317, 120.28577 22.577...</td>\n",
       "      <td>1386</td>\n",
       "      <td>3228</td>\n",
       "      <td>1.0</td>\n",
       "      <td>1902.85</td>\n",
       "      <td>1903.0</td>\n",
       "      <td>高雄市旗津區上竹里</td>\n",
       "      <td>0.000722</td>\n",
       "      <td>0.000722</td>\n",
       "      <td>0.1%</td>\n",
       "      <td>1385</td>\n",
       "      <td>1903.0</td>\n",
       "      <td>0.693147</td>\n",
       "      <td>0.079540</td>\n",
       "      <td>1045.080300</td>\n",
       "      <td>0.024789</td>\n",
       "      <td>0.886337</td>\n",
       "    </tr>\n",
       "    <tr>\n",
       "      <th>3</th>\n",
       "      <td>高雄市</td>\n",
       "      <td>旗津區</td>\n",
       "      <td>中興里</td>\n",
       "      <td>POLYGON ((120.30320 22.55568, 120.30284 22.557...</td>\n",
       "      <td>1069</td>\n",
       "      <td>2886</td>\n",
       "      <td>1.0</td>\n",
       "      <td>0.00</td>\n",
       "      <td>0.0</td>\n",
       "      <td>高雄市旗津區中興里</td>\n",
       "      <td>0.000935</td>\n",
       "      <td>0.000935</td>\n",
       "      <td>0.1%</td>\n",
       "      <td>1068</td>\n",
       "      <td>0.0</td>\n",
       "      <td>0.693147</td>\n",
       "      <td>0.061041</td>\n",
       "      <td>343.567510</td>\n",
       "      <td>0.008147</td>\n",
       "      <td>0.859624</td>\n",
       "    </tr>\n",
       "    <tr>\n",
       "      <th>4</th>\n",
       "      <td>連江縣</td>\n",
       "      <td>南竿鄉</td>\n",
       "      <td>津沙村</td>\n",
       "      <td>POLYGON ((119.91684 26.14109, 119.91683 26.141...</td>\n",
       "      <td>111</td>\n",
       "      <td>441</td>\n",
       "      <td>0.0</td>\n",
       "      <td>NaN</td>\n",
       "      <td>NaN</td>\n",
       "      <td>連江縣南竿鄉津沙村</td>\n",
       "      <td>0.000000</td>\n",
       "      <td>0.000000</td>\n",
       "      <td>0.0%</td>\n",
       "      <td>111</td>\n",
       "      <td>NaN</td>\n",
       "      <td>0.000000</td>\n",
       "      <td>0.005194</td>\n",
       "      <td>80.140670</td>\n",
       "      <td>0.001898</td>\n",
       "      <td>0.000000</td>\n",
       "    </tr>\n",
       "  </tbody>\n",
       "</table>\n",
       "</div>"
      ],
      "text/plain": [
       "    縣市  行政區   村里                                           geometry    戶口  \\\n",
       "0  高雄市  林園區  中門里  POLYGON ((120.36772 22.49564, 120.36427 22.498...  1124   \n",
       "1  高雄市  林園區  港埔里  POLYGON ((120.37325 22.49123, 120.37147 22.492...   822   \n",
       "2  高雄市  旗津區  上竹里  POLYGON ((120.28976 22.57317, 120.28577 22.577...  1386   \n",
       "3  高雄市  旗津區  中興里  POLYGON ((120.30320 22.55568, 120.30284 22.557...  1069   \n",
       "4  連江縣  南竿鄉  津沙村  POLYGON ((119.91684 26.14109, 119.91683 26.141...   111   \n",
       "\n",
       "     人口  會員數       消費額    平均消費額       site     ratio    ratio2 percent  \\\n",
       "0  2884  0.0       NaN      NaN  高雄市林園區中門里  0.000000  0.000000    0.0%   \n",
       "1  2054  1.0  41788.56  41789.0  高雄市林園區港埔里  0.001217  0.001217    0.1%   \n",
       "2  3228  1.0   1902.85   1903.0  高雄市旗津區上竹里  0.000722  0.000722    0.1%   \n",
       "3  2886  1.0      0.00      0.0  高雄市旗津區中興里  0.000935  0.000935    0.1%   \n",
       "4   441  0.0       NaN      NaN  連江縣南竿鄉津沙村  0.000000  0.000000    0.0%   \n",
       "\n",
       "   MarketPotential   平均消費額2      會員數2  MarketPotential_normalization  \\\n",
       "0             1124      NaN  0.000000                       0.064309   \n",
       "1              821  10000.0  0.693147                       0.046627   \n",
       "2             1385   1903.0  0.693147                       0.079540   \n",
       "3             1068      0.0  0.693147                       0.061041   \n",
       "4              111      NaN  0.000000                       0.005194   \n",
       "\n",
       "   MarketPotential_density  MarketPotential_density_normalization  \\\n",
       "0               456.988078                               0.010838   \n",
       "1               536.987761                               0.012736   \n",
       "2              1045.080300                               0.024789   \n",
       "3               343.567510                               0.008147   \n",
       "4                80.140670                               0.001898   \n",
       "\n",
       "   平均消費額_normalization  \n",
       "0             0.000000  \n",
       "1             1.000000  \n",
       "2             0.886337  \n",
       "3             0.859624  \n",
       "4             0.000000  "
      ]
     },
     "execution_count": 69,
     "metadata": {},
     "output_type": "execute_result"
    }
   ],
   "source": [
    "gdf_final.head()"
   ]
  },
  {
   "cell_type": "code",
   "execution_count": 64,
   "metadata": {},
   "outputs": [],
   "source": [
    "gdf_final.to_excel(r'C:\\Users\\RT009223\\TestriteGroup\\滲透率專案\\08_CASA\\result\\CASA_2020H1台灣.xlsx',index=0)"
   ]
  },
  {
   "cell_type": "code",
   "execution_count": null,
   "metadata": {},
   "outputs": [],
   "source": []
  },
  {
   "cell_type": "markdown",
   "metadata": {},
   "source": [
    "# CASA店點(部分) "
   ]
  },
  {
   "cell_type": "code",
   "execution_count": 71,
   "metadata": {},
   "outputs": [
    {
     "data": {
      "text/html": [
       "<div>\n",
       "<style scoped>\n",
       "    .dataframe tbody tr th:only-of-type {\n",
       "        vertical-align: middle;\n",
       "    }\n",
       "\n",
       "    .dataframe tbody tr th {\n",
       "        vertical-align: top;\n",
       "    }\n",
       "\n",
       "    .dataframe thead th {\n",
       "        text-align: right;\n",
       "    }\n",
       "</style>\n",
       "<table border=\"1\" class=\"dataframe\">\n",
       "  <thead>\n",
       "    <tr style=\"text-align: right;\">\n",
       "      <th></th>\n",
       "      <th>name</th>\n",
       "      <th>addr</th>\n",
       "      <th>type</th>\n",
       "      <th>lat</th>\n",
       "      <th>lon</th>\n",
       "    </tr>\n",
       "  </thead>\n",
       "  <tbody>\n",
       "    <tr>\n",
       "      <th>0</th>\n",
       "      <td>CASA 永康家具店</td>\n",
       "      <td>台南市永康區中華路143號</td>\n",
       "      <td>0</td>\n",
       "      <td>23.003074</td>\n",
       "      <td>120.235028</td>\n",
       "    </tr>\n",
       "    <tr>\n",
       "      <th>1</th>\n",
       "      <td>CASA 士林家具店</td>\n",
       "      <td>台北市士林區基河路258號B1</td>\n",
       "      <td>0</td>\n",
       "      <td>25.092449</td>\n",
       "      <td>121.520136</td>\n",
       "    </tr>\n",
       "    <tr>\n",
       "      <th>2</th>\n",
       "      <td>CASA 中和家具店</td>\n",
       "      <td>新北市中和區中山路二段291號2 F</td>\n",
       "      <td>0</td>\n",
       "      <td>25.001770</td>\n",
       "      <td>121.495829</td>\n",
       "    </tr>\n",
       "    <tr>\n",
       "      <th>3</th>\n",
       "      <td>CASA 仁德家具店</td>\n",
       "      <td>台南市仁德區仁德村中山路 779號</td>\n",
       "      <td>0</td>\n",
       "      <td>22.972691</td>\n",
       "      <td>120.245974</td>\n",
       "    </tr>\n",
       "    <tr>\n",
       "      <th>4</th>\n",
       "      <td>CASA 羅東家具店</td>\n",
       "      <td>宜蘭縣羅東鎮民生路6號 4 F</td>\n",
       "      <td>0</td>\n",
       "      <td>24.676612</td>\n",
       "      <td>121.770937</td>\n",
       "    </tr>\n",
       "    <tr>\n",
       "      <th>5</th>\n",
       "      <td>CASA 竹北家具店</td>\n",
       "      <td>新竹縣竹北市光明六路89號3樓</td>\n",
       "      <td>0</td>\n",
       "      <td>24.826437</td>\n",
       "      <td>121.009023</td>\n",
       "    </tr>\n",
       "    <tr>\n",
       "      <th>6</th>\n",
       "      <td>CASA 土城家具店</td>\n",
       "      <td>新北市土城區青雲路152號三樓</td>\n",
       "      <td>0</td>\n",
       "      <td>24.983359</td>\n",
       "      <td>121.458923</td>\n",
       "    </tr>\n",
       "    <tr>\n",
       "      <th>7</th>\n",
       "      <td>CASA 中壢家具店</td>\n",
       "      <td>桃園市中壢區中山東路2段510號B1</td>\n",
       "      <td>0</td>\n",
       "      <td>24.946604</td>\n",
       "      <td>121.244573</td>\n",
       "    </tr>\n",
       "    <tr>\n",
       "      <th>8</th>\n",
       "      <td>CASA 新竹家具店</td>\n",
       "      <td>新竹市公道五路二段469號2F</td>\n",
       "      <td>0</td>\n",
       "      <td>24.804446</td>\n",
       "      <td>120.992982</td>\n",
       "    </tr>\n",
       "    <tr>\n",
       "      <th>9</th>\n",
       "      <td>CASA 新店家具店</td>\n",
       "      <td>新北市新店區中興路三段1號4樓</td>\n",
       "      <td>0</td>\n",
       "      <td>24.976205</td>\n",
       "      <td>121.546708</td>\n",
       "    </tr>\n",
       "    <tr>\n",
       "      <th>10</th>\n",
       "      <td>CASA 內湖店</td>\n",
       "      <td>台北市內湖區新湖三路23號2樓</td>\n",
       "      <td>0</td>\n",
       "      <td>25.062268</td>\n",
       "      <td>121.574347</td>\n",
       "    </tr>\n",
       "    <tr>\n",
       "      <th>11</th>\n",
       "      <td>CASA 左營店</td>\n",
       "      <td>高雄市左營區民族一路948-2號</td>\n",
       "      <td>0</td>\n",
       "      <td>22.675279</td>\n",
       "      <td>120.319441</td>\n",
       "    </tr>\n",
       "    <tr>\n",
       "      <th>12</th>\n",
       "      <td>CASA 八德家具店</td>\n",
       "      <td>桃園市八德區介壽路一段479號2F</td>\n",
       "      <td>0</td>\n",
       "      <td>24.968809</td>\n",
       "      <td>121.301555</td>\n",
       "    </tr>\n",
       "    <tr>\n",
       "      <th>13</th>\n",
       "      <td>CASA 南崁店</td>\n",
       "      <td>桃園市蘆竹區中正路1號3樓</td>\n",
       "      <td>0</td>\n",
       "      <td>25.040192</td>\n",
       "      <td>121.294722</td>\n",
       "    </tr>\n",
       "    <tr>\n",
       "      <th>14</th>\n",
       "      <td>CASA 高雄夢時代店</td>\n",
       "      <td>高雄市前鎮區中華五路789號B2</td>\n",
       "      <td>0</td>\n",
       "      <td>22.594998</td>\n",
       "      <td>120.306665</td>\n",
       "    </tr>\n",
       "    <tr>\n",
       "      <th>15</th>\n",
       "      <td>CASA 北屯店</td>\n",
       "      <td>台中市北屯區北屯路407號1、2樓</td>\n",
       "      <td>0</td>\n",
       "      <td>24.173757</td>\n",
       "      <td>120.697857</td>\n",
       "    </tr>\n",
       "    <tr>\n",
       "      <th>16</th>\n",
       "      <td>CASA 三峽家具店</td>\n",
       "      <td>新北市樹林區大成路85號地下1樓之1、之2、之3</td>\n",
       "      <td>0</td>\n",
       "      <td>24.946415</td>\n",
       "      <td>121.382045</td>\n",
       "    </tr>\n",
       "    <tr>\n",
       "      <th>17</th>\n",
       "      <td>CASA 嘉義家具店</td>\n",
       "      <td>嘉義市東區忠孝路549號</td>\n",
       "      <td>0</td>\n",
       "      <td>23.501209</td>\n",
       "      <td>120.448723</td>\n",
       "    </tr>\n",
       "    <tr>\n",
       "      <th>18</th>\n",
       "      <td>CASA 花蓮家具店</td>\n",
       "      <td>花蓮縣新城鄉嘉里村嘉里路15號 (B1)</td>\n",
       "      <td>0</td>\n",
       "      <td>24.014652</td>\n",
       "      <td>121.610055</td>\n",
       "    </tr>\n",
       "    <tr>\n",
       "      <th>19</th>\n",
       "      <td>CASA 苗栗家具店</td>\n",
       "      <td>苗栗縣頭份市中央路105號(4樓)</td>\n",
       "      <td>0</td>\n",
       "      <td>24.689329</td>\n",
       "      <td>120.904291</td>\n",
       "    </tr>\n",
       "    <tr>\n",
       "      <th>20</th>\n",
       "      <td>CASA 屏東家具店</td>\n",
       "      <td>屏東市一心里台糖街3號</td>\n",
       "      <td>0</td>\n",
       "      <td>22.663327</td>\n",
       "      <td>120.489069</td>\n",
       "    </tr>\n",
       "    <tr>\n",
       "      <th>21</th>\n",
       "      <td>CASA 西屯家具店</td>\n",
       "      <td>台中市西屯區台灣大道四段528號</td>\n",
       "      <td>0</td>\n",
       "      <td>24.178658</td>\n",
       "      <td>120.624878</td>\n",
       "    </tr>\n",
       "    <tr>\n",
       "      <th>22</th>\n",
       "      <td>CASA 新莊家具店</td>\n",
       "      <td>新北市新莊區新莊區中正路620號</td>\n",
       "      <td>0</td>\n",
       "      <td>25.029174</td>\n",
       "      <td>121.422780</td>\n",
       "    </tr>\n",
       "    <tr>\n",
       "      <th>23</th>\n",
       "      <td>CASA 大墩家具店</td>\n",
       "      <td>台中市南屯區大墩路533號</td>\n",
       "      <td>0</td>\n",
       "      <td>24.149572</td>\n",
       "      <td>120.649650</td>\n",
       "    </tr>\n",
       "  </tbody>\n",
       "</table>\n",
       "</div>"
      ],
      "text/plain": [
       "           name                      addr  type        lat         lon\n",
       "0    CASA 永康家具店             台南市永康區中華路143號     0  23.003074  120.235028\n",
       "1    CASA 士林家具店           台北市士林區基河路258號B1     0  25.092449  121.520136\n",
       "2    CASA 中和家具店        新北市中和區中山路二段291號2 F     0  25.001770  121.495829\n",
       "3    CASA 仁德家具店         台南市仁德區仁德村中山路 779號     0  22.972691  120.245974\n",
       "4    CASA 羅東家具店           宜蘭縣羅東鎮民生路6號 4 F     0  24.676612  121.770937\n",
       "5    CASA 竹北家具店           新竹縣竹北市光明六路89號3樓     0  24.826437  121.009023\n",
       "6    CASA 土城家具店           新北市土城區青雲路152號三樓     0  24.983359  121.458923\n",
       "7    CASA 中壢家具店        桃園市中壢區中山東路2段510號B1     0  24.946604  121.244573\n",
       "8    CASA 新竹家具店           新竹市公道五路二段469號2F     0  24.804446  120.992982\n",
       "9    CASA 新店家具店           新北市新店區中興路三段1號4樓     0  24.976205  121.546708\n",
       "10     CASA 內湖店           台北市內湖區新湖三路23號2樓     0  25.062268  121.574347\n",
       "11     CASA 左營店          高雄市左營區民族一路948-2號     0  22.675279  120.319441\n",
       "12   CASA 八德家具店         桃園市八德區介壽路一段479號2F     0  24.968809  121.301555\n",
       "13     CASA 南崁店             桃園市蘆竹區中正路1號3樓     0  25.040192  121.294722\n",
       "14  CASA 高雄夢時代店          高雄市前鎮區中華五路789號B2     0  22.594998  120.306665\n",
       "15     CASA 北屯店         台中市北屯區北屯路407號1、2樓     0  24.173757  120.697857\n",
       "16   CASA 三峽家具店  新北市樹林區大成路85號地下1樓之1、之2、之3     0  24.946415  121.382045\n",
       "17   CASA 嘉義家具店              嘉義市東區忠孝路549號     0  23.501209  120.448723\n",
       "18   CASA 花蓮家具店      花蓮縣新城鄉嘉里村嘉里路15號 (B1)     0  24.014652  121.610055\n",
       "19   CASA 苗栗家具店         苗栗縣頭份市中央路105號(4樓)     0  24.689329  120.904291\n",
       "20   CASA 屏東家具店               屏東市一心里台糖街3號     0  22.663327  120.489069\n",
       "21   CASA 西屯家具店          台中市西屯區台灣大道四段528號     0  24.178658  120.624878\n",
       "22   CASA 新莊家具店          新北市新莊區新莊區中正路620號     0  25.029174  121.422780\n",
       "23   CASA 大墩家具店             台中市南屯區大墩路533號     0  24.149572  120.649650"
      ]
     },
     "execution_count": 71,
     "metadata": {},
     "output_type": "execute_result"
    }
   ],
   "source": [
    "CASA=pd.read_excel('CASA店點.xlsx')\n",
    "CASA"
   ]
  },
  {
   "cell_type": "code",
   "execution_count": null,
   "metadata": {},
   "outputs": [],
   "source": []
  },
  {
   "cell_type": "code",
   "execution_count": null,
   "metadata": {},
   "outputs": [],
   "source": []
  },
  {
   "cell_type": "markdown",
   "metadata": {},
   "source": [
    "# 畫圖"
   ]
  },
  {
   "cell_type": "code",
   "execution_count": 72,
   "metadata": {},
   "outputs": [
    {
     "name": "stdout",
     "output_type": "stream",
     "text": [
      "['高雄市' '連江縣' '屏東縣' '花蓮縣' '新竹市' '台東縣' '台中市' '嘉義縣' '桃園市' '南投縣' '雲林縣' '新竹縣'\n",
      " '嘉義市' '台南市' '基隆市' '澎湖縣' '金門縣' '苗栗縣' '宜蘭縣' '彰化縣' '新北市' '台北市']\n",
      "7.25\n"
     ]
    },
    {
     "data": {
      "text/html": [
       "<svg height=\"50\" width=\"500\"><line x1=\"0\" y1=\"0\" x2=\"0\" y2=\"20\" style=\"stroke:#ffffffff;stroke-width:3;\" /><line x1=\"1\" y1=\"0\" x2=\"1\" y2=\"20\" style=\"stroke:#fffdfaff;stroke-width:3;\" /><line x1=\"2\" y1=\"0\" x2=\"2\" y2=\"20\" style=\"stroke:#fffbf4ff;stroke-width:3;\" /><line x1=\"3\" y1=\"0\" x2=\"3\" y2=\"20\" style=\"stroke:#fff9eeff;stroke-width:3;\" /><line x1=\"4\" y1=\"0\" x2=\"4\" y2=\"20\" style=\"stroke:#fff7e8ff;stroke-width:3;\" /><line x1=\"5\" y1=\"0\" x2=\"5\" y2=\"20\" style=\"stroke:#fff5e2ff;stroke-width:3;\" /><line x1=\"6\" y1=\"0\" x2=\"6\" y2=\"20\" style=\"stroke:#fff3dcff;stroke-width:3;\" /><line x1=\"7\" y1=\"0\" x2=\"7\" y2=\"20\" style=\"stroke:#fff1d6ff;stroke-width:3;\" /><line x1=\"8\" y1=\"0\" x2=\"8\" y2=\"20\" style=\"stroke:#ffefd0ff;stroke-width:3;\" /><line x1=\"9\" y1=\"0\" x2=\"9\" y2=\"20\" style=\"stroke:#ffedcaff;stroke-width:3;\" /><line x1=\"10\" y1=\"0\" x2=\"10\" y2=\"20\" style=\"stroke:#ffeac4ff;stroke-width:3;\" /><line x1=\"11\" y1=\"0\" x2=\"11\" y2=\"20\" style=\"stroke:#ffe8beff;stroke-width:3;\" /><line x1=\"12\" y1=\"0\" x2=\"12\" y2=\"20\" style=\"stroke:#ffe6b8ff;stroke-width:3;\" /><line x1=\"13\" y1=\"0\" x2=\"13\" y2=\"20\" style=\"stroke:#ffe4b2ff;stroke-width:3;\" /><line x1=\"14\" y1=\"0\" x2=\"14\" y2=\"20\" style=\"stroke:#ffe2acff;stroke-width:3;\" /><line x1=\"15\" y1=\"0\" x2=\"15\" y2=\"20\" style=\"stroke:#ffe0a6ff;stroke-width:3;\" /><line x1=\"16\" y1=\"0\" x2=\"16\" y2=\"20\" style=\"stroke:#ffdea0ff;stroke-width:3;\" /><line x1=\"17\" y1=\"0\" x2=\"17\" y2=\"20\" style=\"stroke:#ffdc9aff;stroke-width:3;\" /><line x1=\"18\" y1=\"0\" x2=\"18\" y2=\"20\" style=\"stroke:#ffda94ff;stroke-width:3;\" /><line x1=\"19\" y1=\"0\" x2=\"19\" y2=\"20\" style=\"stroke:#ffd88eff;stroke-width:3;\" /><line x1=\"20\" y1=\"0\" x2=\"20\" y2=\"20\" style=\"stroke:#ffd588ff;stroke-width:3;\" /><line x1=\"21\" y1=\"0\" x2=\"21\" y2=\"20\" style=\"stroke:#ffd383ff;stroke-width:3;\" /><line x1=\"22\" y1=\"0\" x2=\"22\" y2=\"20\" style=\"stroke:#ffd17dff;stroke-width:3;\" /><line x1=\"23\" y1=\"0\" x2=\"23\" y2=\"20\" style=\"stroke:#ffcf77ff;stroke-width:3;\" /><line x1=\"24\" y1=\"0\" x2=\"24\" y2=\"20\" style=\"stroke:#ffcd71ff;stroke-width:3;\" /><line x1=\"25\" y1=\"0\" x2=\"25\" y2=\"20\" style=\"stroke:#ffcb6bff;stroke-width:3;\" /><line x1=\"26\" y1=\"0\" x2=\"26\" y2=\"20\" style=\"stroke:#ffc965ff;stroke-width:3;\" /><line x1=\"27\" y1=\"0\" x2=\"27\" y2=\"20\" style=\"stroke:#ffc75fff;stroke-width:3;\" /><line x1=\"28\" y1=\"0\" x2=\"28\" y2=\"20\" style=\"stroke:#ffc559ff;stroke-width:3;\" /><line x1=\"29\" y1=\"0\" x2=\"29\" y2=\"20\" style=\"stroke:#ffc353ff;stroke-width:3;\" /><line x1=\"30\" y1=\"0\" x2=\"30\" y2=\"20\" style=\"stroke:#ffc04dff;stroke-width:3;\" /><line x1=\"31\" y1=\"0\" x2=\"31\" y2=\"20\" style=\"stroke:#ffbe47ff;stroke-width:3;\" /><line x1=\"32\" y1=\"0\" x2=\"32\" y2=\"20\" style=\"stroke:#ffbc41ff;stroke-width:3;\" /><line x1=\"33\" y1=\"0\" x2=\"33\" y2=\"20\" style=\"stroke:#ffba3bff;stroke-width:3;\" /><line x1=\"34\" y1=\"0\" x2=\"34\" y2=\"20\" style=\"stroke:#ffb835ff;stroke-width:3;\" /><line x1=\"35\" y1=\"0\" x2=\"35\" y2=\"20\" style=\"stroke:#ffb62fff;stroke-width:3;\" /><line x1=\"36\" y1=\"0\" x2=\"36\" y2=\"20\" style=\"stroke:#ffb429ff;stroke-width:3;\" /><line x1=\"37\" y1=\"0\" x2=\"37\" y2=\"20\" style=\"stroke:#ffb223ff;stroke-width:3;\" /><line x1=\"38\" y1=\"0\" x2=\"38\" y2=\"20\" style=\"stroke:#ffb01dff;stroke-width:3;\" /><line x1=\"39\" y1=\"0\" x2=\"39\" y2=\"20\" style=\"stroke:#ffae17ff;stroke-width:3;\" /><line x1=\"40\" y1=\"0\" x2=\"40\" y2=\"20\" style=\"stroke:#ffab11ff;stroke-width:3;\" /><line x1=\"41\" y1=\"0\" x2=\"41\" y2=\"20\" style=\"stroke:#ffa90cff;stroke-width:3;\" /><line x1=\"42\" y1=\"0\" x2=\"42\" y2=\"20\" style=\"stroke:#ffa706ff;stroke-width:3;\" /><line x1=\"43\" y1=\"0\" x2=\"43\" y2=\"20\" style=\"stroke:#ffa500ff;stroke-width:3;\" /><line x1=\"44\" y1=\"0\" x2=\"44\" y2=\"20\" style=\"stroke:#ffa400ff;stroke-width:3;\" /><line x1=\"45\" y1=\"0\" x2=\"45\" y2=\"20\" style=\"stroke:#ffa300ff;stroke-width:3;\" /><line x1=\"46\" y1=\"0\" x2=\"46\" y2=\"20\" style=\"stroke:#ffa200ff;stroke-width:3;\" /><line x1=\"47\" y1=\"0\" x2=\"47\" y2=\"20\" style=\"stroke:#ffa100ff;stroke-width:3;\" /><line x1=\"48\" y1=\"0\" x2=\"48\" y2=\"20\" style=\"stroke:#ffa000ff;stroke-width:3;\" /><line x1=\"49\" y1=\"0\" x2=\"49\" y2=\"20\" style=\"stroke:#ff9f00ff;stroke-width:3;\" /><line x1=\"50\" y1=\"0\" x2=\"50\" y2=\"20\" style=\"stroke:#ff9e00ff;stroke-width:3;\" /><line x1=\"51\" y1=\"0\" x2=\"51\" y2=\"20\" style=\"stroke:#ff9d00ff;stroke-width:3;\" /><line x1=\"52\" y1=\"0\" x2=\"52\" y2=\"20\" style=\"stroke:#ff9c00ff;stroke-width:3;\" /><line x1=\"53\" y1=\"0\" x2=\"53\" y2=\"20\" style=\"stroke:#ff9c00ff;stroke-width:3;\" /><line x1=\"54\" y1=\"0\" x2=\"54\" y2=\"20\" style=\"stroke:#ff9b00ff;stroke-width:3;\" /><line x1=\"55\" y1=\"0\" x2=\"55\" y2=\"20\" style=\"stroke:#ff9a00ff;stroke-width:3;\" /><line x1=\"56\" y1=\"0\" x2=\"56\" y2=\"20\" style=\"stroke:#ff9900ff;stroke-width:3;\" /><line x1=\"57\" y1=\"0\" x2=\"57\" y2=\"20\" style=\"stroke:#ff9800ff;stroke-width:3;\" /><line x1=\"58\" y1=\"0\" x2=\"58\" y2=\"20\" style=\"stroke:#ff9700ff;stroke-width:3;\" /><line x1=\"59\" y1=\"0\" x2=\"59\" y2=\"20\" style=\"stroke:#ff9600ff;stroke-width:3;\" /><line x1=\"60\" y1=\"0\" x2=\"60\" y2=\"20\" style=\"stroke:#ff9500ff;stroke-width:3;\" /><line x1=\"61\" y1=\"0\" x2=\"61\" y2=\"20\" style=\"stroke:#ff9400ff;stroke-width:3;\" /><line x1=\"62\" y1=\"0\" x2=\"62\" y2=\"20\" style=\"stroke:#ff9300ff;stroke-width:3;\" /><line x1=\"63\" y1=\"0\" x2=\"63\" y2=\"20\" style=\"stroke:#ff9200ff;stroke-width:3;\" /><line x1=\"64\" y1=\"0\" x2=\"64\" y2=\"20\" style=\"stroke:#ff9100ff;stroke-width:3;\" /><line x1=\"65\" y1=\"0\" x2=\"65\" y2=\"20\" style=\"stroke:#ff9000ff;stroke-width:3;\" /><line x1=\"66\" y1=\"0\" x2=\"66\" y2=\"20\" style=\"stroke:#ff8f00ff;stroke-width:3;\" /><line x1=\"67\" y1=\"0\" x2=\"67\" y2=\"20\" style=\"stroke:#ff8e00ff;stroke-width:3;\" /><line x1=\"68\" y1=\"0\" x2=\"68\" y2=\"20\" style=\"stroke:#ff8d00ff;stroke-width:3;\" /><line x1=\"69\" y1=\"0\" x2=\"69\" y2=\"20\" style=\"stroke:#ff8c00ff;stroke-width:3;\" /><line x1=\"70\" y1=\"0\" x2=\"70\" y2=\"20\" style=\"stroke:#ff8b00ff;stroke-width:3;\" /><line x1=\"71\" y1=\"0\" x2=\"71\" y2=\"20\" style=\"stroke:#ff8a00ff;stroke-width:3;\" /><line x1=\"72\" y1=\"0\" x2=\"72\" y2=\"20\" style=\"stroke:#ff8900ff;stroke-width:3;\" /><line x1=\"73\" y1=\"0\" x2=\"73\" y2=\"20\" style=\"stroke:#ff8800ff;stroke-width:3;\" /><line x1=\"74\" y1=\"0\" x2=\"74\" y2=\"20\" style=\"stroke:#ff8700ff;stroke-width:3;\" /><line x1=\"75\" y1=\"0\" x2=\"75\" y2=\"20\" style=\"stroke:#ff8600ff;stroke-width:3;\" /><line x1=\"76\" y1=\"0\" x2=\"76\" y2=\"20\" style=\"stroke:#ff8500ff;stroke-width:3;\" /><line x1=\"77\" y1=\"0\" x2=\"77\" y2=\"20\" style=\"stroke:#ff8400ff;stroke-width:3;\" /><line x1=\"78\" y1=\"0\" x2=\"78\" y2=\"20\" style=\"stroke:#ff8300ff;stroke-width:3;\" /><line x1=\"79\" y1=\"0\" x2=\"79\" y2=\"20\" style=\"stroke:#ff8300ff;stroke-width:3;\" /><line x1=\"80\" y1=\"0\" x2=\"80\" y2=\"20\" style=\"stroke:#ff8200ff;stroke-width:3;\" /><line x1=\"81\" y1=\"0\" x2=\"81\" y2=\"20\" style=\"stroke:#ff8100ff;stroke-width:3;\" /><line x1=\"82\" y1=\"0\" x2=\"82\" y2=\"20\" style=\"stroke:#ff8000ff;stroke-width:3;\" /><line x1=\"83\" y1=\"0\" x2=\"83\" y2=\"20\" style=\"stroke:#ff7f00ff;stroke-width:3;\" /><line x1=\"84\" y1=\"0\" x2=\"84\" y2=\"20\" style=\"stroke:#ff7e00ff;stroke-width:3;\" /><line x1=\"85\" y1=\"0\" x2=\"85\" y2=\"20\" style=\"stroke:#ff7d00ff;stroke-width:3;\" /><line x1=\"86\" y1=\"0\" x2=\"86\" y2=\"20\" style=\"stroke:#ff7c00ff;stroke-width:3;\" /><line x1=\"87\" y1=\"0\" x2=\"87\" y2=\"20\" style=\"stroke:#ff7b00ff;stroke-width:3;\" /><line x1=\"88\" y1=\"0\" x2=\"88\" y2=\"20\" style=\"stroke:#ff7a00ff;stroke-width:3;\" /><line x1=\"89\" y1=\"0\" x2=\"89\" y2=\"20\" style=\"stroke:#ff7900ff;stroke-width:3;\" /><line x1=\"90\" y1=\"0\" x2=\"90\" y2=\"20\" style=\"stroke:#ff7800ff;stroke-width:3;\" /><line x1=\"91\" y1=\"0\" x2=\"91\" y2=\"20\" style=\"stroke:#ff7700ff;stroke-width:3;\" /><line x1=\"92\" y1=\"0\" x2=\"92\" y2=\"20\" style=\"stroke:#ff7600ff;stroke-width:3;\" /><line x1=\"93\" y1=\"0\" x2=\"93\" y2=\"20\" style=\"stroke:#ff7500ff;stroke-width:3;\" /><line x1=\"94\" y1=\"0\" x2=\"94\" y2=\"20\" style=\"stroke:#ff7400ff;stroke-width:3;\" /><line x1=\"95\" y1=\"0\" x2=\"95\" y2=\"20\" style=\"stroke:#ff7300ff;stroke-width:3;\" /><line x1=\"96\" y1=\"0\" x2=\"96\" y2=\"20\" style=\"stroke:#ff7200ff;stroke-width:3;\" /><line x1=\"97\" y1=\"0\" x2=\"97\" y2=\"20\" style=\"stroke:#ff7100ff;stroke-width:3;\" /><line x1=\"98\" y1=\"0\" x2=\"98\" y2=\"20\" style=\"stroke:#ff7000ff;stroke-width:3;\" /><line x1=\"99\" y1=\"0\" x2=\"99\" y2=\"20\" style=\"stroke:#ff6f00ff;stroke-width:3;\" /><line x1=\"100\" y1=\"0\" x2=\"100\" y2=\"20\" style=\"stroke:#ff6e00ff;stroke-width:3;\" /><line x1=\"101\" y1=\"0\" x2=\"101\" y2=\"20\" style=\"stroke:#ff6d00ff;stroke-width:3;\" /><line x1=\"102\" y1=\"0\" x2=\"102\" y2=\"20\" style=\"stroke:#ff6c00ff;stroke-width:3;\" /><line x1=\"103\" y1=\"0\" x2=\"103\" y2=\"20\" style=\"stroke:#ff6b00ff;stroke-width:3;\" /><line x1=\"104\" y1=\"0\" x2=\"104\" y2=\"20\" style=\"stroke:#ff6a00ff;stroke-width:3;\" /><line x1=\"105\" y1=\"0\" x2=\"105\" y2=\"20\" style=\"stroke:#ff6900ff;stroke-width:3;\" /><line x1=\"106\" y1=\"0\" x2=\"106\" y2=\"20\" style=\"stroke:#ff6900ff;stroke-width:3;\" /><line x1=\"107\" y1=\"0\" x2=\"107\" y2=\"20\" style=\"stroke:#ff6800ff;stroke-width:3;\" /><line x1=\"108\" y1=\"0\" x2=\"108\" y2=\"20\" style=\"stroke:#ff6700ff;stroke-width:3;\" /><line x1=\"109\" y1=\"0\" x2=\"109\" y2=\"20\" style=\"stroke:#ff6600ff;stroke-width:3;\" /><line x1=\"110\" y1=\"0\" x2=\"110\" y2=\"20\" style=\"stroke:#ff6500ff;stroke-width:3;\" /><line x1=\"111\" y1=\"0\" x2=\"111\" y2=\"20\" style=\"stroke:#ff6400ff;stroke-width:3;\" /><line x1=\"112\" y1=\"0\" x2=\"112\" y2=\"20\" style=\"stroke:#ff6300ff;stroke-width:3;\" /><line x1=\"113\" y1=\"0\" x2=\"113\" y2=\"20\" style=\"stroke:#ff6200ff;stroke-width:3;\" /><line x1=\"114\" y1=\"0\" x2=\"114\" y2=\"20\" style=\"stroke:#ff6100ff;stroke-width:3;\" /><line x1=\"115\" y1=\"0\" x2=\"115\" y2=\"20\" style=\"stroke:#ff6000ff;stroke-width:3;\" /><line x1=\"116\" y1=\"0\" x2=\"116\" y2=\"20\" style=\"stroke:#ff5f00ff;stroke-width:3;\" /><line x1=\"117\" y1=\"0\" x2=\"117\" y2=\"20\" style=\"stroke:#ff5e00ff;stroke-width:3;\" /><line x1=\"118\" y1=\"0\" x2=\"118\" y2=\"20\" style=\"stroke:#ff5d00ff;stroke-width:3;\" /><line x1=\"119\" y1=\"0\" x2=\"119\" y2=\"20\" style=\"stroke:#ff5c00ff;stroke-width:3;\" /><line x1=\"120\" y1=\"0\" x2=\"120\" y2=\"20\" style=\"stroke:#ff5b00ff;stroke-width:3;\" /><line x1=\"121\" y1=\"0\" x2=\"121\" y2=\"20\" style=\"stroke:#ff5a00ff;stroke-width:3;\" /><line x1=\"122\" y1=\"0\" x2=\"122\" y2=\"20\" style=\"stroke:#ff5900ff;stroke-width:3;\" /><line x1=\"123\" y1=\"0\" x2=\"123\" y2=\"20\" style=\"stroke:#ff5800ff;stroke-width:3;\" /><line x1=\"124\" y1=\"0\" x2=\"124\" y2=\"20\" style=\"stroke:#ff5700ff;stroke-width:3;\" /><line x1=\"125\" y1=\"0\" x2=\"125\" y2=\"20\" style=\"stroke:#ff5600ff;stroke-width:3;\" /><line x1=\"126\" y1=\"0\" x2=\"126\" y2=\"20\" style=\"stroke:#ff5500ff;stroke-width:3;\" /><line x1=\"127\" y1=\"0\" x2=\"127\" y2=\"20\" style=\"stroke:#ff5400ff;stroke-width:3;\" /><line x1=\"128\" y1=\"0\" x2=\"128\" y2=\"20\" style=\"stroke:#ff5300ff;stroke-width:3;\" /><line x1=\"129\" y1=\"0\" x2=\"129\" y2=\"20\" style=\"stroke:#ff5200ff;stroke-width:3;\" /><line x1=\"130\" y1=\"0\" x2=\"130\" y2=\"20\" style=\"stroke:#ff5100ff;stroke-width:3;\" /><line x1=\"131\" y1=\"0\" x2=\"131\" y2=\"20\" style=\"stroke:#ff5000ff;stroke-width:3;\" /><line x1=\"132\" y1=\"0\" x2=\"132\" y2=\"20\" style=\"stroke:#ff4f00ff;stroke-width:3;\" /><line x1=\"133\" y1=\"0\" x2=\"133\" y2=\"20\" style=\"stroke:#ff4f00ff;stroke-width:3;\" /><line x1=\"134\" y1=\"0\" x2=\"134\" y2=\"20\" style=\"stroke:#ff4e00ff;stroke-width:3;\" /><line x1=\"135\" y1=\"0\" x2=\"135\" y2=\"20\" style=\"stroke:#ff4d00ff;stroke-width:3;\" /><line x1=\"136\" y1=\"0\" x2=\"136\" y2=\"20\" style=\"stroke:#ff4c00ff;stroke-width:3;\" /><line x1=\"137\" y1=\"0\" x2=\"137\" y2=\"20\" style=\"stroke:#ff4b00ff;stroke-width:3;\" /><line x1=\"138\" y1=\"0\" x2=\"138\" y2=\"20\" style=\"stroke:#ff4a00ff;stroke-width:3;\" /><line x1=\"139\" y1=\"0\" x2=\"139\" y2=\"20\" style=\"stroke:#ff4900ff;stroke-width:3;\" /><line x1=\"140\" y1=\"0\" x2=\"140\" y2=\"20\" style=\"stroke:#ff4800ff;stroke-width:3;\" /><line x1=\"141\" y1=\"0\" x2=\"141\" y2=\"20\" style=\"stroke:#ff4700ff;stroke-width:3;\" /><line x1=\"142\" y1=\"0\" x2=\"142\" y2=\"20\" style=\"stroke:#ff4600ff;stroke-width:3;\" /><line x1=\"143\" y1=\"0\" x2=\"143\" y2=\"20\" style=\"stroke:#ff4500ff;stroke-width:3;\" /><line x1=\"144\" y1=\"0\" x2=\"144\" y2=\"20\" style=\"stroke:#ff4400ff;stroke-width:3;\" /><line x1=\"145\" y1=\"0\" x2=\"145\" y2=\"20\" style=\"stroke:#ff4300ff;stroke-width:3;\" /><line x1=\"146\" y1=\"0\" x2=\"146\" y2=\"20\" style=\"stroke:#ff4200ff;stroke-width:3;\" /><line x1=\"147\" y1=\"0\" x2=\"147\" y2=\"20\" style=\"stroke:#ff4100ff;stroke-width:3;\" /><line x1=\"148\" y1=\"0\" x2=\"148\" y2=\"20\" style=\"stroke:#ff4000ff;stroke-width:3;\" /><line x1=\"149\" y1=\"0\" x2=\"149\" y2=\"20\" style=\"stroke:#ff3f00ff;stroke-width:3;\" /><line x1=\"150\" y1=\"0\" x2=\"150\" y2=\"20\" style=\"stroke:#ff3e00ff;stroke-width:3;\" /><line x1=\"151\" y1=\"0\" x2=\"151\" y2=\"20\" style=\"stroke:#ff3d00ff;stroke-width:3;\" /><line x1=\"152\" y1=\"0\" x2=\"152\" y2=\"20\" style=\"stroke:#ff3c00ff;stroke-width:3;\" /><line x1=\"153\" y1=\"0\" x2=\"153\" y2=\"20\" style=\"stroke:#ff3b00ff;stroke-width:3;\" /><line x1=\"154\" y1=\"0\" x2=\"154\" y2=\"20\" style=\"stroke:#ff3a00ff;stroke-width:3;\" /><line x1=\"155\" y1=\"0\" x2=\"155\" y2=\"20\" style=\"stroke:#ff3900ff;stroke-width:3;\" /><line x1=\"156\" y1=\"0\" x2=\"156\" y2=\"20\" style=\"stroke:#ff3800ff;stroke-width:3;\" /><line x1=\"157\" y1=\"0\" x2=\"157\" y2=\"20\" style=\"stroke:#ff3700ff;stroke-width:3;\" /><line x1=\"158\" y1=\"0\" x2=\"158\" y2=\"20\" style=\"stroke:#ff3600ff;stroke-width:3;\" /><line x1=\"159\" y1=\"0\" x2=\"159\" y2=\"20\" style=\"stroke:#ff3500ff;stroke-width:3;\" /><line x1=\"160\" y1=\"0\" x2=\"160\" y2=\"20\" style=\"stroke:#ff3500ff;stroke-width:3;\" /><line x1=\"161\" y1=\"0\" x2=\"161\" y2=\"20\" style=\"stroke:#ff3400ff;stroke-width:3;\" /><line x1=\"162\" y1=\"0\" x2=\"162\" y2=\"20\" style=\"stroke:#ff3300ff;stroke-width:3;\" /><line x1=\"163\" y1=\"0\" x2=\"163\" y2=\"20\" style=\"stroke:#ff3200ff;stroke-width:3;\" /><line x1=\"164\" y1=\"0\" x2=\"164\" y2=\"20\" style=\"stroke:#ff3100ff;stroke-width:3;\" /><line x1=\"165\" y1=\"0\" x2=\"165\" y2=\"20\" style=\"stroke:#ff3000ff;stroke-width:3;\" /><line x1=\"166\" y1=\"0\" x2=\"166\" y2=\"20\" style=\"stroke:#ff2f00ff;stroke-width:3;\" /><line x1=\"167\" y1=\"0\" x2=\"167\" y2=\"20\" style=\"stroke:#ff2e00ff;stroke-width:3;\" /><line x1=\"168\" y1=\"0\" x2=\"168\" y2=\"20\" style=\"stroke:#ff2d00ff;stroke-width:3;\" /><line x1=\"169\" y1=\"0\" x2=\"169\" y2=\"20\" style=\"stroke:#ff2c00ff;stroke-width:3;\" /><line x1=\"170\" y1=\"0\" x2=\"170\" y2=\"20\" style=\"stroke:#ff2b00ff;stroke-width:3;\" /><line x1=\"171\" y1=\"0\" x2=\"171\" y2=\"20\" style=\"stroke:#ff2a00ff;stroke-width:3;\" /><line x1=\"172\" y1=\"0\" x2=\"172\" y2=\"20\" style=\"stroke:#ff2900ff;stroke-width:3;\" /><line x1=\"173\" y1=\"0\" x2=\"173\" y2=\"20\" style=\"stroke:#ff2800ff;stroke-width:3;\" /><line x1=\"174\" y1=\"0\" x2=\"174\" y2=\"20\" style=\"stroke:#ff2700ff;stroke-width:3;\" /><line x1=\"175\" y1=\"0\" x2=\"175\" y2=\"20\" style=\"stroke:#ff2600ff;stroke-width:3;\" /><line x1=\"176\" y1=\"0\" x2=\"176\" y2=\"20\" style=\"stroke:#ff2500ff;stroke-width:3;\" /><line x1=\"177\" y1=\"0\" x2=\"177\" y2=\"20\" style=\"stroke:#ff2400ff;stroke-width:3;\" /><line x1=\"178\" y1=\"0\" x2=\"178\" y2=\"20\" style=\"stroke:#ff2300ff;stroke-width:3;\" /><line x1=\"179\" y1=\"0\" x2=\"179\" y2=\"20\" style=\"stroke:#ff2200ff;stroke-width:3;\" /><line x1=\"180\" y1=\"0\" x2=\"180\" y2=\"20\" style=\"stroke:#ff2100ff;stroke-width:3;\" /><line x1=\"181\" y1=\"0\" x2=\"181\" y2=\"20\" style=\"stroke:#ff2000ff;stroke-width:3;\" /><line x1=\"182\" y1=\"0\" x2=\"182\" y2=\"20\" style=\"stroke:#ff1f00ff;stroke-width:3;\" /><line x1=\"183\" y1=\"0\" x2=\"183\" y2=\"20\" style=\"stroke:#ff1e00ff;stroke-width:3;\" /><line x1=\"184\" y1=\"0\" x2=\"184\" y2=\"20\" style=\"stroke:#ff1d00ff;stroke-width:3;\" /><line x1=\"185\" y1=\"0\" x2=\"185\" y2=\"20\" style=\"stroke:#ff1c00ff;stroke-width:3;\" /><line x1=\"186\" y1=\"0\" x2=\"186\" y2=\"20\" style=\"stroke:#ff1c00ff;stroke-width:3;\" /><line x1=\"187\" y1=\"0\" x2=\"187\" y2=\"20\" style=\"stroke:#ff1b00ff;stroke-width:3;\" /><line x1=\"188\" y1=\"0\" x2=\"188\" y2=\"20\" style=\"stroke:#ff1a00ff;stroke-width:3;\" /><line x1=\"189\" y1=\"0\" x2=\"189\" y2=\"20\" style=\"stroke:#ff1900ff;stroke-width:3;\" /><line x1=\"190\" y1=\"0\" x2=\"190\" y2=\"20\" style=\"stroke:#ff1800ff;stroke-width:3;\" /><line x1=\"191\" y1=\"0\" x2=\"191\" y2=\"20\" style=\"stroke:#ff1700ff;stroke-width:3;\" /><line x1=\"192\" y1=\"0\" x2=\"192\" y2=\"20\" style=\"stroke:#ff1600ff;stroke-width:3;\" /><line x1=\"193\" y1=\"0\" x2=\"193\" y2=\"20\" style=\"stroke:#ff1500ff;stroke-width:3;\" /><line x1=\"194\" y1=\"0\" x2=\"194\" y2=\"20\" style=\"stroke:#ff1400ff;stroke-width:3;\" /><line x1=\"195\" y1=\"0\" x2=\"195\" y2=\"20\" style=\"stroke:#ff1300ff;stroke-width:3;\" /><line x1=\"196\" y1=\"0\" x2=\"196\" y2=\"20\" style=\"stroke:#ff1200ff;stroke-width:3;\" /><line x1=\"197\" y1=\"0\" x2=\"197\" y2=\"20\" style=\"stroke:#ff1100ff;stroke-width:3;\" /><line x1=\"198\" y1=\"0\" x2=\"198\" y2=\"20\" style=\"stroke:#ff1000ff;stroke-width:3;\" /><line x1=\"199\" y1=\"0\" x2=\"199\" y2=\"20\" style=\"stroke:#ff0f00ff;stroke-width:3;\" /><line x1=\"200\" y1=\"0\" x2=\"200\" y2=\"20\" style=\"stroke:#ff0e00ff;stroke-width:3;\" /><line x1=\"201\" y1=\"0\" x2=\"201\" y2=\"20\" style=\"stroke:#ff0d00ff;stroke-width:3;\" /><line x1=\"202\" y1=\"0\" x2=\"202\" y2=\"20\" style=\"stroke:#ff0c00ff;stroke-width:3;\" /><line x1=\"203\" y1=\"0\" x2=\"203\" y2=\"20\" style=\"stroke:#ff0b00ff;stroke-width:3;\" /><line x1=\"204\" y1=\"0\" x2=\"204\" y2=\"20\" style=\"stroke:#ff0a00ff;stroke-width:3;\" /><line x1=\"205\" y1=\"0\" x2=\"205\" y2=\"20\" style=\"stroke:#ff0900ff;stroke-width:3;\" /><line x1=\"206\" y1=\"0\" x2=\"206\" y2=\"20\" style=\"stroke:#ff0800ff;stroke-width:3;\" /><line x1=\"207\" y1=\"0\" x2=\"207\" y2=\"20\" style=\"stroke:#ff0700ff;stroke-width:3;\" /><line x1=\"208\" y1=\"0\" x2=\"208\" y2=\"20\" style=\"stroke:#ff0600ff;stroke-width:3;\" /><line x1=\"209\" y1=\"0\" x2=\"209\" y2=\"20\" style=\"stroke:#ff0500ff;stroke-width:3;\" /><line x1=\"210\" y1=\"0\" x2=\"210\" y2=\"20\" style=\"stroke:#ff0400ff;stroke-width:3;\" /><line x1=\"211\" y1=\"0\" x2=\"211\" y2=\"20\" style=\"stroke:#ff0300ff;stroke-width:3;\" /><line x1=\"212\" y1=\"0\" x2=\"212\" y2=\"20\" style=\"stroke:#ff0200ff;stroke-width:3;\" /><line x1=\"213\" y1=\"0\" x2=\"213\" y2=\"20\" style=\"stroke:#ff0200ff;stroke-width:3;\" /><line x1=\"214\" y1=\"0\" x2=\"214\" y2=\"20\" style=\"stroke:#ff0100ff;stroke-width:3;\" /><line x1=\"215\" y1=\"0\" x2=\"215\" y2=\"20\" style=\"stroke:#ff0000ff;stroke-width:3;\" /><line x1=\"216\" y1=\"0\" x2=\"216\" y2=\"20\" style=\"stroke:#ff0000ff;stroke-width:3;\" /><line x1=\"217\" y1=\"0\" x2=\"217\" y2=\"20\" style=\"stroke:#fe0000ff;stroke-width:3;\" /><line x1=\"218\" y1=\"0\" x2=\"218\" y2=\"20\" style=\"stroke:#fe0000ff;stroke-width:3;\" /><line x1=\"219\" y1=\"0\" x2=\"219\" y2=\"20\" style=\"stroke:#fd0000ff;stroke-width:3;\" /><line x1=\"220\" y1=\"0\" x2=\"220\" y2=\"20\" style=\"stroke:#fd0000ff;stroke-width:3;\" /><line x1=\"221\" y1=\"0\" x2=\"221\" y2=\"20\" style=\"stroke:#fc0000ff;stroke-width:3;\" /><line x1=\"222\" y1=\"0\" x2=\"222\" y2=\"20\" style=\"stroke:#fb0000ff;stroke-width:3;\" /><line x1=\"223\" y1=\"0\" x2=\"223\" y2=\"20\" style=\"stroke:#fb0000ff;stroke-width:3;\" /><line x1=\"224\" y1=\"0\" x2=\"224\" y2=\"20\" style=\"stroke:#fa0000ff;stroke-width:3;\" /><line x1=\"225\" y1=\"0\" x2=\"225\" y2=\"20\" style=\"stroke:#fa0000ff;stroke-width:3;\" /><line x1=\"226\" y1=\"0\" x2=\"226\" y2=\"20\" style=\"stroke:#f90000ff;stroke-width:3;\" /><line x1=\"227\" y1=\"0\" x2=\"227\" y2=\"20\" style=\"stroke:#f80000ff;stroke-width:3;\" /><line x1=\"228\" y1=\"0\" x2=\"228\" y2=\"20\" style=\"stroke:#f80000ff;stroke-width:3;\" /><line x1=\"229\" y1=\"0\" x2=\"229\" y2=\"20\" style=\"stroke:#f70000ff;stroke-width:3;\" /><line x1=\"230\" y1=\"0\" x2=\"230\" y2=\"20\" style=\"stroke:#f70000ff;stroke-width:3;\" /><line x1=\"231\" y1=\"0\" x2=\"231\" y2=\"20\" style=\"stroke:#f60000ff;stroke-width:3;\" /><line x1=\"232\" y1=\"0\" x2=\"232\" y2=\"20\" style=\"stroke:#f50000ff;stroke-width:3;\" /><line x1=\"233\" y1=\"0\" x2=\"233\" y2=\"20\" style=\"stroke:#f50000ff;stroke-width:3;\" /><line x1=\"234\" y1=\"0\" x2=\"234\" y2=\"20\" style=\"stroke:#f40000ff;stroke-width:3;\" /><line x1=\"235\" y1=\"0\" x2=\"235\" y2=\"20\" style=\"stroke:#f40000ff;stroke-width:3;\" /><line x1=\"236\" y1=\"0\" x2=\"236\" y2=\"20\" style=\"stroke:#f30000ff;stroke-width:3;\" /><line x1=\"237\" y1=\"0\" x2=\"237\" y2=\"20\" style=\"stroke:#f30000ff;stroke-width:3;\" /><line x1=\"238\" y1=\"0\" x2=\"238\" y2=\"20\" style=\"stroke:#f20000ff;stroke-width:3;\" /><line x1=\"239\" y1=\"0\" x2=\"239\" y2=\"20\" style=\"stroke:#f10000ff;stroke-width:3;\" /><line x1=\"240\" y1=\"0\" x2=\"240\" y2=\"20\" style=\"stroke:#f10000ff;stroke-width:3;\" /><line x1=\"241\" y1=\"0\" x2=\"241\" y2=\"20\" style=\"stroke:#f00000ff;stroke-width:3;\" /><line x1=\"242\" y1=\"0\" x2=\"242\" y2=\"20\" style=\"stroke:#f00000ff;stroke-width:3;\" /><line x1=\"243\" y1=\"0\" x2=\"243\" y2=\"20\" style=\"stroke:#ef0000ff;stroke-width:3;\" /><line x1=\"244\" y1=\"0\" x2=\"244\" y2=\"20\" style=\"stroke:#ee0000ff;stroke-width:3;\" /><line x1=\"245\" y1=\"0\" x2=\"245\" y2=\"20\" style=\"stroke:#ee0000ff;stroke-width:3;\" /><line x1=\"246\" y1=\"0\" x2=\"246\" y2=\"20\" style=\"stroke:#ed0000ff;stroke-width:3;\" /><line x1=\"247\" y1=\"0\" x2=\"247\" y2=\"20\" style=\"stroke:#ed0000ff;stroke-width:3;\" /><line x1=\"248\" y1=\"0\" x2=\"248\" y2=\"20\" style=\"stroke:#ec0000ff;stroke-width:3;\" /><line x1=\"249\" y1=\"0\" x2=\"249\" y2=\"20\" style=\"stroke:#eb0000ff;stroke-width:3;\" /><line x1=\"250\" y1=\"0\" x2=\"250\" y2=\"20\" style=\"stroke:#eb0000ff;stroke-width:3;\" /><line x1=\"251\" y1=\"0\" x2=\"251\" y2=\"20\" style=\"stroke:#ea0000ff;stroke-width:3;\" /><line x1=\"252\" y1=\"0\" x2=\"252\" y2=\"20\" style=\"stroke:#ea0000ff;stroke-width:3;\" /><line x1=\"253\" y1=\"0\" x2=\"253\" y2=\"20\" style=\"stroke:#e90000ff;stroke-width:3;\" /><line x1=\"254\" y1=\"0\" x2=\"254\" y2=\"20\" style=\"stroke:#e80000ff;stroke-width:3;\" /><line x1=\"255\" y1=\"0\" x2=\"255\" y2=\"20\" style=\"stroke:#e80000ff;stroke-width:3;\" /><line x1=\"256\" y1=\"0\" x2=\"256\" y2=\"20\" style=\"stroke:#e70000ff;stroke-width:3;\" /><line x1=\"257\" y1=\"0\" x2=\"257\" y2=\"20\" style=\"stroke:#e70000ff;stroke-width:3;\" /><line x1=\"258\" y1=\"0\" x2=\"258\" y2=\"20\" style=\"stroke:#e60000ff;stroke-width:3;\" /><line x1=\"259\" y1=\"0\" x2=\"259\" y2=\"20\" style=\"stroke:#e50000ff;stroke-width:3;\" /><line x1=\"260\" y1=\"0\" x2=\"260\" y2=\"20\" style=\"stroke:#e50000ff;stroke-width:3;\" /><line x1=\"261\" y1=\"0\" x2=\"261\" y2=\"20\" style=\"stroke:#e40000ff;stroke-width:3;\" /><line x1=\"262\" y1=\"0\" x2=\"262\" y2=\"20\" style=\"stroke:#e40000ff;stroke-width:3;\" /><line x1=\"263\" y1=\"0\" x2=\"263\" y2=\"20\" style=\"stroke:#e30000ff;stroke-width:3;\" /><line x1=\"264\" y1=\"0\" x2=\"264\" y2=\"20\" style=\"stroke:#e30000ff;stroke-width:3;\" /><line x1=\"265\" y1=\"0\" x2=\"265\" y2=\"20\" style=\"stroke:#e20000ff;stroke-width:3;\" /><line x1=\"266\" y1=\"0\" x2=\"266\" y2=\"20\" style=\"stroke:#e10000ff;stroke-width:3;\" /><line x1=\"267\" y1=\"0\" x2=\"267\" y2=\"20\" style=\"stroke:#e10000ff;stroke-width:3;\" /><line x1=\"268\" y1=\"0\" x2=\"268\" y2=\"20\" style=\"stroke:#e00000ff;stroke-width:3;\" /><line x1=\"269\" y1=\"0\" x2=\"269\" y2=\"20\" style=\"stroke:#e00000ff;stroke-width:3;\" /><line x1=\"270\" y1=\"0\" x2=\"270\" y2=\"20\" style=\"stroke:#df0000ff;stroke-width:3;\" /><line x1=\"271\" y1=\"0\" x2=\"271\" y2=\"20\" style=\"stroke:#de0000ff;stroke-width:3;\" /><line x1=\"272\" y1=\"0\" x2=\"272\" y2=\"20\" style=\"stroke:#de0000ff;stroke-width:3;\" /><line x1=\"273\" y1=\"0\" x2=\"273\" y2=\"20\" style=\"stroke:#dd0000ff;stroke-width:3;\" /><line x1=\"274\" y1=\"0\" x2=\"274\" y2=\"20\" style=\"stroke:#dd0000ff;stroke-width:3;\" /><line x1=\"275\" y1=\"0\" x2=\"275\" y2=\"20\" style=\"stroke:#dc0000ff;stroke-width:3;\" /><line x1=\"276\" y1=\"0\" x2=\"276\" y2=\"20\" style=\"stroke:#db0000ff;stroke-width:3;\" /><line x1=\"277\" y1=\"0\" x2=\"277\" y2=\"20\" style=\"stroke:#db0000ff;stroke-width:3;\" /><line x1=\"278\" y1=\"0\" x2=\"278\" y2=\"20\" style=\"stroke:#da0000ff;stroke-width:3;\" /><line x1=\"279\" y1=\"0\" x2=\"279\" y2=\"20\" style=\"stroke:#da0000ff;stroke-width:3;\" /><line x1=\"280\" y1=\"0\" x2=\"280\" y2=\"20\" style=\"stroke:#d90000ff;stroke-width:3;\" /><line x1=\"281\" y1=\"0\" x2=\"281\" y2=\"20\" style=\"stroke:#d80000ff;stroke-width:3;\" /><line x1=\"282\" y1=\"0\" x2=\"282\" y2=\"20\" style=\"stroke:#d80000ff;stroke-width:3;\" /><line x1=\"283\" y1=\"0\" x2=\"283\" y2=\"20\" style=\"stroke:#d70000ff;stroke-width:3;\" /><line x1=\"284\" y1=\"0\" x2=\"284\" y2=\"20\" style=\"stroke:#d70000ff;stroke-width:3;\" /><line x1=\"285\" y1=\"0\" x2=\"285\" y2=\"20\" style=\"stroke:#d60000ff;stroke-width:3;\" /><line x1=\"286\" y1=\"0\" x2=\"286\" y2=\"20\" style=\"stroke:#d50000ff;stroke-width:3;\" /><line x1=\"287\" y1=\"0\" x2=\"287\" y2=\"20\" style=\"stroke:#d50000ff;stroke-width:3;\" /><line x1=\"288\" y1=\"0\" x2=\"288\" y2=\"20\" style=\"stroke:#d40000ff;stroke-width:3;\" /><line x1=\"289\" y1=\"0\" x2=\"289\" y2=\"20\" style=\"stroke:#d40000ff;stroke-width:3;\" /><line x1=\"290\" y1=\"0\" x2=\"290\" y2=\"20\" style=\"stroke:#d30000ff;stroke-width:3;\" /><line x1=\"291\" y1=\"0\" x2=\"291\" y2=\"20\" style=\"stroke:#d30000ff;stroke-width:3;\" /><line x1=\"292\" y1=\"0\" x2=\"292\" y2=\"20\" style=\"stroke:#d20000ff;stroke-width:3;\" /><line x1=\"293\" y1=\"0\" x2=\"293\" y2=\"20\" style=\"stroke:#d10000ff;stroke-width:3;\" /><line x1=\"294\" y1=\"0\" x2=\"294\" y2=\"20\" style=\"stroke:#d10000ff;stroke-width:3;\" /><line x1=\"295\" y1=\"0\" x2=\"295\" y2=\"20\" style=\"stroke:#d00000ff;stroke-width:3;\" /><line x1=\"296\" y1=\"0\" x2=\"296\" y2=\"20\" style=\"stroke:#d00000ff;stroke-width:3;\" /><line x1=\"297\" y1=\"0\" x2=\"297\" y2=\"20\" style=\"stroke:#cf0000ff;stroke-width:3;\" /><line x1=\"298\" y1=\"0\" x2=\"298\" y2=\"20\" style=\"stroke:#ce0000ff;stroke-width:3;\" /><line x1=\"299\" y1=\"0\" x2=\"299\" y2=\"20\" style=\"stroke:#ce0000ff;stroke-width:3;\" /><line x1=\"300\" y1=\"0\" x2=\"300\" y2=\"20\" style=\"stroke:#cd0000ff;stroke-width:3;\" /><line x1=\"301\" y1=\"0\" x2=\"301\" y2=\"20\" style=\"stroke:#cd0000ff;stroke-width:3;\" /><line x1=\"302\" y1=\"0\" x2=\"302\" y2=\"20\" style=\"stroke:#cc0000ff;stroke-width:3;\" /><line x1=\"303\" y1=\"0\" x2=\"303\" y2=\"20\" style=\"stroke:#cb0000ff;stroke-width:3;\" /><line x1=\"304\" y1=\"0\" x2=\"304\" y2=\"20\" style=\"stroke:#cb0000ff;stroke-width:3;\" /><line x1=\"305\" y1=\"0\" x2=\"305\" y2=\"20\" style=\"stroke:#ca0000ff;stroke-width:3;\" /><line x1=\"306\" y1=\"0\" x2=\"306\" y2=\"20\" style=\"stroke:#ca0000ff;stroke-width:3;\" /><line x1=\"307\" y1=\"0\" x2=\"307\" y2=\"20\" style=\"stroke:#c90000ff;stroke-width:3;\" /><line x1=\"308\" y1=\"0\" x2=\"308\" y2=\"20\" style=\"stroke:#c80000ff;stroke-width:3;\" /><line x1=\"309\" y1=\"0\" x2=\"309\" y2=\"20\" style=\"stroke:#c80000ff;stroke-width:3;\" /><line x1=\"310\" y1=\"0\" x2=\"310\" y2=\"20\" style=\"stroke:#c70000ff;stroke-width:3;\" /><line x1=\"311\" y1=\"0\" x2=\"311\" y2=\"20\" style=\"stroke:#c70000ff;stroke-width:3;\" /><line x1=\"312\" y1=\"0\" x2=\"312\" y2=\"20\" style=\"stroke:#c60000ff;stroke-width:3;\" /><line x1=\"313\" y1=\"0\" x2=\"313\" y2=\"20\" style=\"stroke:#c50000ff;stroke-width:3;\" /><line x1=\"314\" y1=\"0\" x2=\"314\" y2=\"20\" style=\"stroke:#c50000ff;stroke-width:3;\" /><line x1=\"315\" y1=\"0\" x2=\"315\" y2=\"20\" style=\"stroke:#c40000ff;stroke-width:3;\" /><line x1=\"316\" y1=\"0\" x2=\"316\" y2=\"20\" style=\"stroke:#c40000ff;stroke-width:3;\" /><line x1=\"317\" y1=\"0\" x2=\"317\" y2=\"20\" style=\"stroke:#c30000ff;stroke-width:3;\" /><line x1=\"318\" y1=\"0\" x2=\"318\" y2=\"20\" style=\"stroke:#c20000ff;stroke-width:3;\" /><line x1=\"319\" y1=\"0\" x2=\"319\" y2=\"20\" style=\"stroke:#c20000ff;stroke-width:3;\" /><line x1=\"320\" y1=\"0\" x2=\"320\" y2=\"20\" style=\"stroke:#c10000ff;stroke-width:3;\" /><line x1=\"321\" y1=\"0\" x2=\"321\" y2=\"20\" style=\"stroke:#c10000ff;stroke-width:3;\" /><line x1=\"322\" y1=\"0\" x2=\"322\" y2=\"20\" style=\"stroke:#c00000ff;stroke-width:3;\" /><line x1=\"323\" y1=\"0\" x2=\"323\" y2=\"20\" style=\"stroke:#c00000ff;stroke-width:3;\" /><line x1=\"324\" y1=\"0\" x2=\"324\" y2=\"20\" style=\"stroke:#bf0000ff;stroke-width:3;\" /><line x1=\"325\" y1=\"0\" x2=\"325\" y2=\"20\" style=\"stroke:#be0000ff;stroke-width:3;\" /><line x1=\"326\" y1=\"0\" x2=\"326\" y2=\"20\" style=\"stroke:#be0000ff;stroke-width:3;\" /><line x1=\"327\" y1=\"0\" x2=\"327\" y2=\"20\" style=\"stroke:#bd0000ff;stroke-width:3;\" /><line x1=\"328\" y1=\"0\" x2=\"328\" y2=\"20\" style=\"stroke:#bd0000ff;stroke-width:3;\" /><line x1=\"329\" y1=\"0\" x2=\"329\" y2=\"20\" style=\"stroke:#bc0000ff;stroke-width:3;\" /><line x1=\"330\" y1=\"0\" x2=\"330\" y2=\"20\" style=\"stroke:#bb0000ff;stroke-width:3;\" /><line x1=\"331\" y1=\"0\" x2=\"331\" y2=\"20\" style=\"stroke:#bb0000ff;stroke-width:3;\" /><line x1=\"332\" y1=\"0\" x2=\"332\" y2=\"20\" style=\"stroke:#ba0000ff;stroke-width:3;\" /><line x1=\"333\" y1=\"0\" x2=\"333\" y2=\"20\" style=\"stroke:#ba0000ff;stroke-width:3;\" /><line x1=\"334\" y1=\"0\" x2=\"334\" y2=\"20\" style=\"stroke:#b90000ff;stroke-width:3;\" /><line x1=\"335\" y1=\"0\" x2=\"335\" y2=\"20\" style=\"stroke:#b80000ff;stroke-width:3;\" /><line x1=\"336\" y1=\"0\" x2=\"336\" y2=\"20\" style=\"stroke:#b80000ff;stroke-width:3;\" /><line x1=\"337\" y1=\"0\" x2=\"337\" y2=\"20\" style=\"stroke:#b70000ff;stroke-width:3;\" /><line x1=\"338\" y1=\"0\" x2=\"338\" y2=\"20\" style=\"stroke:#b70000ff;stroke-width:3;\" /><line x1=\"339\" y1=\"0\" x2=\"339\" y2=\"20\" style=\"stroke:#b60000ff;stroke-width:3;\" /><line x1=\"340\" y1=\"0\" x2=\"340\" y2=\"20\" style=\"stroke:#b50000ff;stroke-width:3;\" /><line x1=\"341\" y1=\"0\" x2=\"341\" y2=\"20\" style=\"stroke:#b50000ff;stroke-width:3;\" /><line x1=\"342\" y1=\"0\" x2=\"342\" y2=\"20\" style=\"stroke:#b40000ff;stroke-width:3;\" /><line x1=\"343\" y1=\"0\" x2=\"343\" y2=\"20\" style=\"stroke:#b40000ff;stroke-width:3;\" /><line x1=\"344\" y1=\"0\" x2=\"344\" y2=\"20\" style=\"stroke:#b30000ff;stroke-width:3;\" /><line x1=\"345\" y1=\"0\" x2=\"345\" y2=\"20\" style=\"stroke:#b20000ff;stroke-width:3;\" /><line x1=\"346\" y1=\"0\" x2=\"346\" y2=\"20\" style=\"stroke:#b20000ff;stroke-width:3;\" /><line x1=\"347\" y1=\"0\" x2=\"347\" y2=\"20\" style=\"stroke:#b10000ff;stroke-width:3;\" /><line x1=\"348\" y1=\"0\" x2=\"348\" y2=\"20\" style=\"stroke:#b10000ff;stroke-width:3;\" /><line x1=\"349\" y1=\"0\" x2=\"349\" y2=\"20\" style=\"stroke:#b00000ff;stroke-width:3;\" /><line x1=\"350\" y1=\"0\" x2=\"350\" y2=\"20\" style=\"stroke:#b00000ff;stroke-width:3;\" /><line x1=\"351\" y1=\"0\" x2=\"351\" y2=\"20\" style=\"stroke:#af0000ff;stroke-width:3;\" /><line x1=\"352\" y1=\"0\" x2=\"352\" y2=\"20\" style=\"stroke:#ae0000ff;stroke-width:3;\" /><line x1=\"353\" y1=\"0\" x2=\"353\" y2=\"20\" style=\"stroke:#ae0000ff;stroke-width:3;\" /><line x1=\"354\" y1=\"0\" x2=\"354\" y2=\"20\" style=\"stroke:#ad0000ff;stroke-width:3;\" /><line x1=\"355\" y1=\"0\" x2=\"355\" y2=\"20\" style=\"stroke:#ad0000ff;stroke-width:3;\" /><line x1=\"356\" y1=\"0\" x2=\"356\" y2=\"20\" style=\"stroke:#ac0000ff;stroke-width:3;\" /><line x1=\"357\" y1=\"0\" x2=\"357\" y2=\"20\" style=\"stroke:#ab0000ff;stroke-width:3;\" /><line x1=\"358\" y1=\"0\" x2=\"358\" y2=\"20\" style=\"stroke:#ab0000ff;stroke-width:3;\" /><line x1=\"359\" y1=\"0\" x2=\"359\" y2=\"20\" style=\"stroke:#aa0000ff;stroke-width:3;\" /><line x1=\"360\" y1=\"0\" x2=\"360\" y2=\"20\" style=\"stroke:#aa0000ff;stroke-width:3;\" /><line x1=\"361\" y1=\"0\" x2=\"361\" y2=\"20\" style=\"stroke:#a90000ff;stroke-width:3;\" /><line x1=\"362\" y1=\"0\" x2=\"362\" y2=\"20\" style=\"stroke:#a80000ff;stroke-width:3;\" /><line x1=\"363\" y1=\"0\" x2=\"363\" y2=\"20\" style=\"stroke:#a80000ff;stroke-width:3;\" /><line x1=\"364\" y1=\"0\" x2=\"364\" y2=\"20\" style=\"stroke:#a70000ff;stroke-width:3;\" /><line x1=\"365\" y1=\"0\" x2=\"365\" y2=\"20\" style=\"stroke:#a70000ff;stroke-width:3;\" /><line x1=\"366\" y1=\"0\" x2=\"366\" y2=\"20\" style=\"stroke:#a60000ff;stroke-width:3;\" /><line x1=\"367\" y1=\"0\" x2=\"367\" y2=\"20\" style=\"stroke:#a50000ff;stroke-width:3;\" /><line x1=\"368\" y1=\"0\" x2=\"368\" y2=\"20\" style=\"stroke:#a50000ff;stroke-width:3;\" /><line x1=\"369\" y1=\"0\" x2=\"369\" y2=\"20\" style=\"stroke:#a40000ff;stroke-width:3;\" /><line x1=\"370\" y1=\"0\" x2=\"370\" y2=\"20\" style=\"stroke:#a40000ff;stroke-width:3;\" /><line x1=\"371\" y1=\"0\" x2=\"371\" y2=\"20\" style=\"stroke:#a30000ff;stroke-width:3;\" /><line x1=\"372\" y1=\"0\" x2=\"372\" y2=\"20\" style=\"stroke:#a20000ff;stroke-width:3;\" /><line x1=\"373\" y1=\"0\" x2=\"373\" y2=\"20\" style=\"stroke:#a20000ff;stroke-width:3;\" /><line x1=\"374\" y1=\"0\" x2=\"374\" y2=\"20\" style=\"stroke:#a10000ff;stroke-width:3;\" /><line x1=\"375\" y1=\"0\" x2=\"375\" y2=\"20\" style=\"stroke:#a10000ff;stroke-width:3;\" /><line x1=\"376\" y1=\"0\" x2=\"376\" y2=\"20\" style=\"stroke:#a00000ff;stroke-width:3;\" /><line x1=\"377\" y1=\"0\" x2=\"377\" y2=\"20\" style=\"stroke:#a00000ff;stroke-width:3;\" /><line x1=\"378\" y1=\"0\" x2=\"378\" y2=\"20\" style=\"stroke:#9f0000ff;stroke-width:3;\" /><line x1=\"379\" y1=\"0\" x2=\"379\" y2=\"20\" style=\"stroke:#9e0000ff;stroke-width:3;\" /><line x1=\"380\" y1=\"0\" x2=\"380\" y2=\"20\" style=\"stroke:#9e0000ff;stroke-width:3;\" /><line x1=\"381\" y1=\"0\" x2=\"381\" y2=\"20\" style=\"stroke:#9d0000ff;stroke-width:3;\" /><line x1=\"382\" y1=\"0\" x2=\"382\" y2=\"20\" style=\"stroke:#9d0000ff;stroke-width:3;\" /><line x1=\"383\" y1=\"0\" x2=\"383\" y2=\"20\" style=\"stroke:#9c0000ff;stroke-width:3;\" /><line x1=\"384\" y1=\"0\" x2=\"384\" y2=\"20\" style=\"stroke:#9b0000ff;stroke-width:3;\" /><line x1=\"385\" y1=\"0\" x2=\"385\" y2=\"20\" style=\"stroke:#9b0000ff;stroke-width:3;\" /><line x1=\"386\" y1=\"0\" x2=\"386\" y2=\"20\" style=\"stroke:#9a0000ff;stroke-width:3;\" /><line x1=\"387\" y1=\"0\" x2=\"387\" y2=\"20\" style=\"stroke:#9a0000ff;stroke-width:3;\" /><line x1=\"388\" y1=\"0\" x2=\"388\" y2=\"20\" style=\"stroke:#990000ff;stroke-width:3;\" /><line x1=\"389\" y1=\"0\" x2=\"389\" y2=\"20\" style=\"stroke:#980000ff;stroke-width:3;\" /><line x1=\"390\" y1=\"0\" x2=\"390\" y2=\"20\" style=\"stroke:#980000ff;stroke-width:3;\" /><line x1=\"391\" y1=\"0\" x2=\"391\" y2=\"20\" style=\"stroke:#970000ff;stroke-width:3;\" /><line x1=\"392\" y1=\"0\" x2=\"392\" y2=\"20\" style=\"stroke:#970000ff;stroke-width:3;\" /><line x1=\"393\" y1=\"0\" x2=\"393\" y2=\"20\" style=\"stroke:#960000ff;stroke-width:3;\" /><line x1=\"394\" y1=\"0\" x2=\"394\" y2=\"20\" style=\"stroke:#950000ff;stroke-width:3;\" /><line x1=\"395\" y1=\"0\" x2=\"395\" y2=\"20\" style=\"stroke:#950000ff;stroke-width:3;\" /><line x1=\"396\" y1=\"0\" x2=\"396\" y2=\"20\" style=\"stroke:#940000ff;stroke-width:3;\" /><line x1=\"397\" y1=\"0\" x2=\"397\" y2=\"20\" style=\"stroke:#940000ff;stroke-width:3;\" /><line x1=\"398\" y1=\"0\" x2=\"398\" y2=\"20\" style=\"stroke:#930000ff;stroke-width:3;\" /><line x1=\"399\" y1=\"0\" x2=\"399\" y2=\"20\" style=\"stroke:#920000ff;stroke-width:3;\" /><line x1=\"400\" y1=\"0\" x2=\"400\" y2=\"20\" style=\"stroke:#920000ff;stroke-width:3;\" /><line x1=\"401\" y1=\"0\" x2=\"401\" y2=\"20\" style=\"stroke:#910000ff;stroke-width:3;\" /><line x1=\"402\" y1=\"0\" x2=\"402\" y2=\"20\" style=\"stroke:#910000ff;stroke-width:3;\" /><line x1=\"403\" y1=\"0\" x2=\"403\" y2=\"20\" style=\"stroke:#900000ff;stroke-width:3;\" /><line x1=\"404\" y1=\"0\" x2=\"404\" y2=\"20\" style=\"stroke:#900000ff;stroke-width:3;\" /><line x1=\"405\" y1=\"0\" x2=\"405\" y2=\"20\" style=\"stroke:#8f0000ff;stroke-width:3;\" /><line x1=\"406\" y1=\"0\" x2=\"406\" y2=\"20\" style=\"stroke:#8e0000ff;stroke-width:3;\" /><line x1=\"407\" y1=\"0\" x2=\"407\" y2=\"20\" style=\"stroke:#8e0000ff;stroke-width:3;\" /><line x1=\"408\" y1=\"0\" x2=\"408\" y2=\"20\" style=\"stroke:#8d0000ff;stroke-width:3;\" /><line x1=\"409\" y1=\"0\" x2=\"409\" y2=\"20\" style=\"stroke:#8d0000ff;stroke-width:3;\" /><line x1=\"410\" y1=\"0\" x2=\"410\" y2=\"20\" style=\"stroke:#8c0000ff;stroke-width:3;\" /><line x1=\"411\" y1=\"0\" x2=\"411\" y2=\"20\" style=\"stroke:#8b0000ff;stroke-width:3;\" /><line x1=\"412\" y1=\"0\" x2=\"412\" y2=\"20\" style=\"stroke:#8b0000ff;stroke-width:3;\" /><line x1=\"413\" y1=\"0\" x2=\"413\" y2=\"20\" style=\"stroke:#8a0000ff;stroke-width:3;\" /><line x1=\"414\" y1=\"0\" x2=\"414\" y2=\"20\" style=\"stroke:#8a0000ff;stroke-width:3;\" /><line x1=\"415\" y1=\"0\" x2=\"415\" y2=\"20\" style=\"stroke:#890000ff;stroke-width:3;\" /><line x1=\"416\" y1=\"0\" x2=\"416\" y2=\"20\" style=\"stroke:#880000ff;stroke-width:3;\" /><line x1=\"417\" y1=\"0\" x2=\"417\" y2=\"20\" style=\"stroke:#880000ff;stroke-width:3;\" /><line x1=\"418\" y1=\"0\" x2=\"418\" y2=\"20\" style=\"stroke:#870000ff;stroke-width:3;\" /><line x1=\"419\" y1=\"0\" x2=\"419\" y2=\"20\" style=\"stroke:#870000ff;stroke-width:3;\" /><line x1=\"420\" y1=\"0\" x2=\"420\" y2=\"20\" style=\"stroke:#860000ff;stroke-width:3;\" /><line x1=\"421\" y1=\"0\" x2=\"421\" y2=\"20\" style=\"stroke:#850000ff;stroke-width:3;\" /><line x1=\"422\" y1=\"0\" x2=\"422\" y2=\"20\" style=\"stroke:#850000ff;stroke-width:3;\" /><line x1=\"423\" y1=\"0\" x2=\"423\" y2=\"20\" style=\"stroke:#840000ff;stroke-width:3;\" /><line x1=\"424\" y1=\"0\" x2=\"424\" y2=\"20\" style=\"stroke:#840000ff;stroke-width:3;\" /><line x1=\"425\" y1=\"0\" x2=\"425\" y2=\"20\" style=\"stroke:#830000ff;stroke-width:3;\" /><line x1=\"426\" y1=\"0\" x2=\"426\" y2=\"20\" style=\"stroke:#820000ff;stroke-width:3;\" /><line x1=\"427\" y1=\"0\" x2=\"427\" y2=\"20\" style=\"stroke:#820000ff;stroke-width:3;\" /><line x1=\"428\" y1=\"0\" x2=\"428\" y2=\"20\" style=\"stroke:#810000ff;stroke-width:3;\" /><line x1=\"429\" y1=\"0\" x2=\"429\" y2=\"20\" style=\"stroke:#810000ff;stroke-width:3;\" /><line x1=\"430\" y1=\"0\" x2=\"430\" y2=\"20\" style=\"stroke:#800000ff;stroke-width:3;\" /><line x1=\"431\" y1=\"0\" x2=\"431\" y2=\"20\" style=\"stroke:#800000ff;stroke-width:3;\" /><line x1=\"432\" y1=\"0\" x2=\"432\" y2=\"20\" style=\"stroke:#800000ff;stroke-width:3;\" /><line x1=\"433\" y1=\"0\" x2=\"433\" y2=\"20\" style=\"stroke:#800000ff;stroke-width:3;\" /><line x1=\"434\" y1=\"0\" x2=\"434\" y2=\"20\" style=\"stroke:#800000ff;stroke-width:3;\" /><line x1=\"435\" y1=\"0\" x2=\"435\" y2=\"20\" style=\"stroke:#800000ff;stroke-width:3;\" /><line x1=\"436\" y1=\"0\" x2=\"436\" y2=\"20\" style=\"stroke:#800000ff;stroke-width:3;\" /><line x1=\"437\" y1=\"0\" x2=\"437\" y2=\"20\" style=\"stroke:#800000ff;stroke-width:3;\" /><line x1=\"438\" y1=\"0\" x2=\"438\" y2=\"20\" style=\"stroke:#800000ff;stroke-width:3;\" /><line x1=\"439\" y1=\"0\" x2=\"439\" y2=\"20\" style=\"stroke:#800000ff;stroke-width:3;\" /><line x1=\"440\" y1=\"0\" x2=\"440\" y2=\"20\" style=\"stroke:#800000ff;stroke-width:3;\" /><line x1=\"441\" y1=\"0\" x2=\"441\" y2=\"20\" style=\"stroke:#800000ff;stroke-width:3;\" /><line x1=\"442\" y1=\"0\" x2=\"442\" y2=\"20\" style=\"stroke:#800000ff;stroke-width:3;\" /><line x1=\"443\" y1=\"0\" x2=\"443\" y2=\"20\" style=\"stroke:#800000ff;stroke-width:3;\" /><line x1=\"444\" y1=\"0\" x2=\"444\" y2=\"20\" style=\"stroke:#800000ff;stroke-width:3;\" /><line x1=\"445\" y1=\"0\" x2=\"445\" y2=\"20\" style=\"stroke:#800000ff;stroke-width:3;\" /><line x1=\"446\" y1=\"0\" x2=\"446\" y2=\"20\" style=\"stroke:#800000ff;stroke-width:3;\" /><line x1=\"447\" y1=\"0\" x2=\"447\" y2=\"20\" style=\"stroke:#800000ff;stroke-width:3;\" /><line x1=\"448\" y1=\"0\" x2=\"448\" y2=\"20\" style=\"stroke:#800000ff;stroke-width:3;\" /><line x1=\"449\" y1=\"0\" x2=\"449\" y2=\"20\" style=\"stroke:#800000ff;stroke-width:3;\" /><line x1=\"450\" y1=\"0\" x2=\"450\" y2=\"20\" style=\"stroke:#800000ff;stroke-width:3;\" /><line x1=\"451\" y1=\"0\" x2=\"451\" y2=\"20\" style=\"stroke:#800000ff;stroke-width:3;\" /><line x1=\"452\" y1=\"0\" x2=\"452\" y2=\"20\" style=\"stroke:#800000ff;stroke-width:3;\" /><line x1=\"453\" y1=\"0\" x2=\"453\" y2=\"20\" style=\"stroke:#800000ff;stroke-width:3;\" /><line x1=\"454\" y1=\"0\" x2=\"454\" y2=\"20\" style=\"stroke:#800000ff;stroke-width:3;\" /><line x1=\"455\" y1=\"0\" x2=\"455\" y2=\"20\" style=\"stroke:#800000ff;stroke-width:3;\" /><line x1=\"456\" y1=\"0\" x2=\"456\" y2=\"20\" style=\"stroke:#800000ff;stroke-width:3;\" /><line x1=\"457\" y1=\"0\" x2=\"457\" y2=\"20\" style=\"stroke:#800000ff;stroke-width:3;\" /><line x1=\"458\" y1=\"0\" x2=\"458\" y2=\"20\" style=\"stroke:#800000ff;stroke-width:3;\" /><line x1=\"459\" y1=\"0\" x2=\"459\" y2=\"20\" style=\"stroke:#800000ff;stroke-width:3;\" /><line x1=\"460\" y1=\"0\" x2=\"460\" y2=\"20\" style=\"stroke:#800000ff;stroke-width:3;\" /><line x1=\"461\" y1=\"0\" x2=\"461\" y2=\"20\" style=\"stroke:#800000ff;stroke-width:3;\" /><line x1=\"462\" y1=\"0\" x2=\"462\" y2=\"20\" style=\"stroke:#800000ff;stroke-width:3;\" /><line x1=\"463\" y1=\"0\" x2=\"463\" y2=\"20\" style=\"stroke:#800000ff;stroke-width:3;\" /><line x1=\"464\" y1=\"0\" x2=\"464\" y2=\"20\" style=\"stroke:#800000ff;stroke-width:3;\" /><line x1=\"465\" y1=\"0\" x2=\"465\" y2=\"20\" style=\"stroke:#800000ff;stroke-width:3;\" /><line x1=\"466\" y1=\"0\" x2=\"466\" y2=\"20\" style=\"stroke:#800000ff;stroke-width:3;\" /><line x1=\"467\" y1=\"0\" x2=\"467\" y2=\"20\" style=\"stroke:#800000ff;stroke-width:3;\" /><line x1=\"468\" y1=\"0\" x2=\"468\" y2=\"20\" style=\"stroke:#800000ff;stroke-width:3;\" /><line x1=\"469\" y1=\"0\" x2=\"469\" y2=\"20\" style=\"stroke:#800000ff;stroke-width:3;\" /><line x1=\"470\" y1=\"0\" x2=\"470\" y2=\"20\" style=\"stroke:#800000ff;stroke-width:3;\" /><line x1=\"471\" y1=\"0\" x2=\"471\" y2=\"20\" style=\"stroke:#800000ff;stroke-width:3;\" /><line x1=\"472\" y1=\"0\" x2=\"472\" y2=\"20\" style=\"stroke:#800000ff;stroke-width:3;\" /><line x1=\"473\" y1=\"0\" x2=\"473\" y2=\"20\" style=\"stroke:#800000ff;stroke-width:3;\" /><line x1=\"474\" y1=\"0\" x2=\"474\" y2=\"20\" style=\"stroke:#800000ff;stroke-width:3;\" /><line x1=\"475\" y1=\"0\" x2=\"475\" y2=\"20\" style=\"stroke:#800000ff;stroke-width:3;\" /><line x1=\"476\" y1=\"0\" x2=\"476\" y2=\"20\" style=\"stroke:#800000ff;stroke-width:3;\" /><line x1=\"477\" y1=\"0\" x2=\"477\" y2=\"20\" style=\"stroke:#800000ff;stroke-width:3;\" /><line x1=\"478\" y1=\"0\" x2=\"478\" y2=\"20\" style=\"stroke:#800000ff;stroke-width:3;\" /><line x1=\"479\" y1=\"0\" x2=\"479\" y2=\"20\" style=\"stroke:#800000ff;stroke-width:3;\" /><line x1=\"480\" y1=\"0\" x2=\"480\" y2=\"20\" style=\"stroke:#800000ff;stroke-width:3;\" /><line x1=\"481\" y1=\"0\" x2=\"481\" y2=\"20\" style=\"stroke:#800000ff;stroke-width:3;\" /><line x1=\"482\" y1=\"0\" x2=\"482\" y2=\"20\" style=\"stroke:#800000ff;stroke-width:3;\" /><line x1=\"483\" y1=\"0\" x2=\"483\" y2=\"20\" style=\"stroke:#800000ff;stroke-width:3;\" /><line x1=\"484\" y1=\"0\" x2=\"484\" y2=\"20\" style=\"stroke:#800000ff;stroke-width:3;\" /><line x1=\"485\" y1=\"0\" x2=\"485\" y2=\"20\" style=\"stroke:#800000ff;stroke-width:3;\" /><line x1=\"486\" y1=\"0\" x2=\"486\" y2=\"20\" style=\"stroke:#800000ff;stroke-width:3;\" /><line x1=\"487\" y1=\"0\" x2=\"487\" y2=\"20\" style=\"stroke:#800000ff;stroke-width:3;\" /><line x1=\"488\" y1=\"0\" x2=\"488\" y2=\"20\" style=\"stroke:#800000ff;stroke-width:3;\" /><line x1=\"489\" y1=\"0\" x2=\"489\" y2=\"20\" style=\"stroke:#800000ff;stroke-width:3;\" /><line x1=\"490\" y1=\"0\" x2=\"490\" y2=\"20\" style=\"stroke:#800000ff;stroke-width:3;\" /><line x1=\"491\" y1=\"0\" x2=\"491\" y2=\"20\" style=\"stroke:#800000ff;stroke-width:3;\" /><line x1=\"492\" y1=\"0\" x2=\"492\" y2=\"20\" style=\"stroke:#800000ff;stroke-width:3;\" /><line x1=\"493\" y1=\"0\" x2=\"493\" y2=\"20\" style=\"stroke:#800000ff;stroke-width:3;\" /><line x1=\"494\" y1=\"0\" x2=\"494\" y2=\"20\" style=\"stroke:#800000ff;stroke-width:3;\" /><line x1=\"495\" y1=\"0\" x2=\"495\" y2=\"20\" style=\"stroke:#800000ff;stroke-width:3;\" /><line x1=\"496\" y1=\"0\" x2=\"496\" y2=\"20\" style=\"stroke:#800000ff;stroke-width:3;\" /><line x1=\"497\" y1=\"0\" x2=\"497\" y2=\"20\" style=\"stroke:#800000ff;stroke-width:3;\" /><line x1=\"498\" y1=\"0\" x2=\"498\" y2=\"20\" style=\"stroke:#800000ff;stroke-width:3;\" /><line x1=\"499\" y1=\"0\" x2=\"499\" y2=\"20\" style=\"stroke:#800000ff;stroke-width:3;\" /><text x=\"0\" y=\"35\">0.0</text><text x=\"500\" y=\"35\" style=\"text-anchor:end;\">58.0</text></svg>"
      ],
      "text/plain": [
       "<branca.colormap.LinearColormap at 0x153d3691888>"
      ]
     },
     "execution_count": 72,
     "metadata": {},
     "output_type": "execute_result"
    }
   ],
   "source": [
    "# 各車站定位\n",
    "台北車站=[25.047741, 121.517384]\n",
    "中壢車站=[24.953737, 121.225607]\n",
    "台中車站=[24.137264, 120.686669]\n",
    "嘉義車站=[23.479119, 120.441138]\n",
    "\n",
    "#各縣市邊框顏色, '澎湖縣','金門縣','連江縣' '澎湖縣':'#00896C','金門縣':'#00896C','連江縣':'#00896C',\n",
    "# '基隆市':'#F17C67','新北市':'#F17C67', '台北市':'#F17C67',\n",
    "print(gdf_final['縣市'].unique())\n",
    "site=['基隆市','新北市', '台北市','桃園市','新竹縣','新竹市','苗栗縣','台中市','彰化縣','南投縣',\n",
    "      '雲林縣','嘉義縣','嘉義市','台南市',\n",
    "      '高雄市','屏東縣','宜蘭縣','花蓮縣','台東縣',\n",
    "      '澎湖縣','金門縣','連江縣']\n",
    "\n",
    "site_colors={'基隆市':'#00896C','新北市':'#00896C', '台北市':'#00896C',\n",
    "            '桃園市':'#33A6B8','新竹縣':'#33A6B8','新竹市':'#33A6B8','苗栗縣':'#33A6B8',\n",
    "            '台中市':'#00896C','彰化縣':'#00896C','南投縣':'#00896C','澎湖縣':'#00896C','金門縣':'#00896C','連江縣':'#00896C',\n",
    "            '雲林縣':'#33A6B8','嘉義縣':'#33A6B8','嘉義市':'#33A6B8','台南市':'#33A6B8',\n",
    "            '高雄市':'#00896C','屏東縣':'#00896C',\n",
    "            '宜蘭縣':'#33A6B8','花蓮縣':'#33A6B8','台東縣':'#33A6B8'}\n",
    "\n",
    "#想畫顏色的變數\n",
    "variable='會員數'\n",
    "\n",
    "#設定色階\n",
    "gdf_final['id']=gdf_final.index\n",
    "color=gdf_final.set_index('id')[variable]\n",
    "\n",
    "high=color.max()\n",
    "low=color.min()\n",
    "p=high/8\n",
    "print(p)\n",
    "\n",
    "#colorscale = branca.colormap.linear.YlOrRd_09.scale(low, round(high,2))\n",
    "#colorscale\n",
    "colorscale = branca.colormap.LinearColormap(colors=['white','orange','red','Maroon'], index=[0,5,25,50],vmin=round(low,2),vmax=round(high,2))\n",
    "colorscale\n",
    "\n"
   ]
  },
  {
   "cell_type": "code",
   "execution_count": 73,
   "metadata": {},
   "outputs": [
    {
     "data": {
      "text/plain": [
       "0"
      ]
     },
     "execution_count": 73,
     "metadata": {},
     "output_type": "execute_result"
    }
   ],
   "source": [
    "color.isna().sum()"
   ]
  },
  {
   "cell_type": "code",
   "execution_count": 74,
   "metadata": {},
   "outputs": [
    {
     "data": {
      "text/html": [
       "<svg height=\"50\" width=\"500\"><line x1=\"0\" y1=\"0\" x2=\"0\" y2=\"20\" style=\"stroke:#ffffffff;stroke-width:3;\" /><line x1=\"1\" y1=\"0\" x2=\"1\" y2=\"20\" style=\"stroke:#fffdfaff;stroke-width:3;\" /><line x1=\"2\" y1=\"0\" x2=\"2\" y2=\"20\" style=\"stroke:#fffbf4ff;stroke-width:3;\" /><line x1=\"3\" y1=\"0\" x2=\"3\" y2=\"20\" style=\"stroke:#fff9eeff;stroke-width:3;\" /><line x1=\"4\" y1=\"0\" x2=\"4\" y2=\"20\" style=\"stroke:#fff7e8ff;stroke-width:3;\" /><line x1=\"5\" y1=\"0\" x2=\"5\" y2=\"20\" style=\"stroke:#fff5e2ff;stroke-width:3;\" /><line x1=\"6\" y1=\"0\" x2=\"6\" y2=\"20\" style=\"stroke:#fff3dcff;stroke-width:3;\" /><line x1=\"7\" y1=\"0\" x2=\"7\" y2=\"20\" style=\"stroke:#fff1d6ff;stroke-width:3;\" /><line x1=\"8\" y1=\"0\" x2=\"8\" y2=\"20\" style=\"stroke:#ffefd0ff;stroke-width:3;\" /><line x1=\"9\" y1=\"0\" x2=\"9\" y2=\"20\" style=\"stroke:#ffedcaff;stroke-width:3;\" /><line x1=\"10\" y1=\"0\" x2=\"10\" y2=\"20\" style=\"stroke:#ffeac4ff;stroke-width:3;\" /><line x1=\"11\" y1=\"0\" x2=\"11\" y2=\"20\" style=\"stroke:#ffe8beff;stroke-width:3;\" /><line x1=\"12\" y1=\"0\" x2=\"12\" y2=\"20\" style=\"stroke:#ffe6b8ff;stroke-width:3;\" /><line x1=\"13\" y1=\"0\" x2=\"13\" y2=\"20\" style=\"stroke:#ffe4b2ff;stroke-width:3;\" /><line x1=\"14\" y1=\"0\" x2=\"14\" y2=\"20\" style=\"stroke:#ffe2acff;stroke-width:3;\" /><line x1=\"15\" y1=\"0\" x2=\"15\" y2=\"20\" style=\"stroke:#ffe0a6ff;stroke-width:3;\" /><line x1=\"16\" y1=\"0\" x2=\"16\" y2=\"20\" style=\"stroke:#ffdea0ff;stroke-width:3;\" /><line x1=\"17\" y1=\"0\" x2=\"17\" y2=\"20\" style=\"stroke:#ffdc9aff;stroke-width:3;\" /><line x1=\"18\" y1=\"0\" x2=\"18\" y2=\"20\" style=\"stroke:#ffda94ff;stroke-width:3;\" /><line x1=\"19\" y1=\"0\" x2=\"19\" y2=\"20\" style=\"stroke:#ffd88eff;stroke-width:3;\" /><line x1=\"20\" y1=\"0\" x2=\"20\" y2=\"20\" style=\"stroke:#ffd588ff;stroke-width:3;\" /><line x1=\"21\" y1=\"0\" x2=\"21\" y2=\"20\" style=\"stroke:#ffd383ff;stroke-width:3;\" /><line x1=\"22\" y1=\"0\" x2=\"22\" y2=\"20\" style=\"stroke:#ffd17dff;stroke-width:3;\" /><line x1=\"23\" y1=\"0\" x2=\"23\" y2=\"20\" style=\"stroke:#ffcf77ff;stroke-width:3;\" /><line x1=\"24\" y1=\"0\" x2=\"24\" y2=\"20\" style=\"stroke:#ffcd71ff;stroke-width:3;\" /><line x1=\"25\" y1=\"0\" x2=\"25\" y2=\"20\" style=\"stroke:#ffcb6bff;stroke-width:3;\" /><line x1=\"26\" y1=\"0\" x2=\"26\" y2=\"20\" style=\"stroke:#ffc965ff;stroke-width:3;\" /><line x1=\"27\" y1=\"0\" x2=\"27\" y2=\"20\" style=\"stroke:#ffc75fff;stroke-width:3;\" /><line x1=\"28\" y1=\"0\" x2=\"28\" y2=\"20\" style=\"stroke:#ffc559ff;stroke-width:3;\" /><line x1=\"29\" y1=\"0\" x2=\"29\" y2=\"20\" style=\"stroke:#ffc353ff;stroke-width:3;\" /><line x1=\"30\" y1=\"0\" x2=\"30\" y2=\"20\" style=\"stroke:#ffc04dff;stroke-width:3;\" /><line x1=\"31\" y1=\"0\" x2=\"31\" y2=\"20\" style=\"stroke:#ffbe47ff;stroke-width:3;\" /><line x1=\"32\" y1=\"0\" x2=\"32\" y2=\"20\" style=\"stroke:#ffbc41ff;stroke-width:3;\" /><line x1=\"33\" y1=\"0\" x2=\"33\" y2=\"20\" style=\"stroke:#ffba3bff;stroke-width:3;\" /><line x1=\"34\" y1=\"0\" x2=\"34\" y2=\"20\" style=\"stroke:#ffb835ff;stroke-width:3;\" /><line x1=\"35\" y1=\"0\" x2=\"35\" y2=\"20\" style=\"stroke:#ffb62fff;stroke-width:3;\" /><line x1=\"36\" y1=\"0\" x2=\"36\" y2=\"20\" style=\"stroke:#ffb429ff;stroke-width:3;\" /><line x1=\"37\" y1=\"0\" x2=\"37\" y2=\"20\" style=\"stroke:#ffb223ff;stroke-width:3;\" /><line x1=\"38\" y1=\"0\" x2=\"38\" y2=\"20\" style=\"stroke:#ffb01dff;stroke-width:3;\" /><line x1=\"39\" y1=\"0\" x2=\"39\" y2=\"20\" style=\"stroke:#ffae17ff;stroke-width:3;\" /><line x1=\"40\" y1=\"0\" x2=\"40\" y2=\"20\" style=\"stroke:#ffab11ff;stroke-width:3;\" /><line x1=\"41\" y1=\"0\" x2=\"41\" y2=\"20\" style=\"stroke:#ffa90cff;stroke-width:3;\" /><line x1=\"42\" y1=\"0\" x2=\"42\" y2=\"20\" style=\"stroke:#ffa706ff;stroke-width:3;\" /><line x1=\"43\" y1=\"0\" x2=\"43\" y2=\"20\" style=\"stroke:#ffa500ff;stroke-width:3;\" /><line x1=\"44\" y1=\"0\" x2=\"44\" y2=\"20\" style=\"stroke:#ffa400ff;stroke-width:3;\" /><line x1=\"45\" y1=\"0\" x2=\"45\" y2=\"20\" style=\"stroke:#ffa300ff;stroke-width:3;\" /><line x1=\"46\" y1=\"0\" x2=\"46\" y2=\"20\" style=\"stroke:#ffa200ff;stroke-width:3;\" /><line x1=\"47\" y1=\"0\" x2=\"47\" y2=\"20\" style=\"stroke:#ffa100ff;stroke-width:3;\" /><line x1=\"48\" y1=\"0\" x2=\"48\" y2=\"20\" style=\"stroke:#ffa000ff;stroke-width:3;\" /><line x1=\"49\" y1=\"0\" x2=\"49\" y2=\"20\" style=\"stroke:#ff9f00ff;stroke-width:3;\" /><line x1=\"50\" y1=\"0\" x2=\"50\" y2=\"20\" style=\"stroke:#ff9e00ff;stroke-width:3;\" /><line x1=\"51\" y1=\"0\" x2=\"51\" y2=\"20\" style=\"stroke:#ff9d00ff;stroke-width:3;\" /><line x1=\"52\" y1=\"0\" x2=\"52\" y2=\"20\" style=\"stroke:#ff9c00ff;stroke-width:3;\" /><line x1=\"53\" y1=\"0\" x2=\"53\" y2=\"20\" style=\"stroke:#ff9c00ff;stroke-width:3;\" /><line x1=\"54\" y1=\"0\" x2=\"54\" y2=\"20\" style=\"stroke:#ff9b00ff;stroke-width:3;\" /><line x1=\"55\" y1=\"0\" x2=\"55\" y2=\"20\" style=\"stroke:#ff9a00ff;stroke-width:3;\" /><line x1=\"56\" y1=\"0\" x2=\"56\" y2=\"20\" style=\"stroke:#ff9900ff;stroke-width:3;\" /><line x1=\"57\" y1=\"0\" x2=\"57\" y2=\"20\" style=\"stroke:#ff9800ff;stroke-width:3;\" /><line x1=\"58\" y1=\"0\" x2=\"58\" y2=\"20\" style=\"stroke:#ff9700ff;stroke-width:3;\" /><line x1=\"59\" y1=\"0\" x2=\"59\" y2=\"20\" style=\"stroke:#ff9600ff;stroke-width:3;\" /><line x1=\"60\" y1=\"0\" x2=\"60\" y2=\"20\" style=\"stroke:#ff9500ff;stroke-width:3;\" /><line x1=\"61\" y1=\"0\" x2=\"61\" y2=\"20\" style=\"stroke:#ff9400ff;stroke-width:3;\" /><line x1=\"62\" y1=\"0\" x2=\"62\" y2=\"20\" style=\"stroke:#ff9300ff;stroke-width:3;\" /><line x1=\"63\" y1=\"0\" x2=\"63\" y2=\"20\" style=\"stroke:#ff9200ff;stroke-width:3;\" /><line x1=\"64\" y1=\"0\" x2=\"64\" y2=\"20\" style=\"stroke:#ff9100ff;stroke-width:3;\" /><line x1=\"65\" y1=\"0\" x2=\"65\" y2=\"20\" style=\"stroke:#ff9000ff;stroke-width:3;\" /><line x1=\"66\" y1=\"0\" x2=\"66\" y2=\"20\" style=\"stroke:#ff8f00ff;stroke-width:3;\" /><line x1=\"67\" y1=\"0\" x2=\"67\" y2=\"20\" style=\"stroke:#ff8e00ff;stroke-width:3;\" /><line x1=\"68\" y1=\"0\" x2=\"68\" y2=\"20\" style=\"stroke:#ff8d00ff;stroke-width:3;\" /><line x1=\"69\" y1=\"0\" x2=\"69\" y2=\"20\" style=\"stroke:#ff8c00ff;stroke-width:3;\" /><line x1=\"70\" y1=\"0\" x2=\"70\" y2=\"20\" style=\"stroke:#ff8b00ff;stroke-width:3;\" /><line x1=\"71\" y1=\"0\" x2=\"71\" y2=\"20\" style=\"stroke:#ff8a00ff;stroke-width:3;\" /><line x1=\"72\" y1=\"0\" x2=\"72\" y2=\"20\" style=\"stroke:#ff8900ff;stroke-width:3;\" /><line x1=\"73\" y1=\"0\" x2=\"73\" y2=\"20\" style=\"stroke:#ff8800ff;stroke-width:3;\" /><line x1=\"74\" y1=\"0\" x2=\"74\" y2=\"20\" style=\"stroke:#ff8700ff;stroke-width:3;\" /><line x1=\"75\" y1=\"0\" x2=\"75\" y2=\"20\" style=\"stroke:#ff8600ff;stroke-width:3;\" /><line x1=\"76\" y1=\"0\" x2=\"76\" y2=\"20\" style=\"stroke:#ff8500ff;stroke-width:3;\" /><line x1=\"77\" y1=\"0\" x2=\"77\" y2=\"20\" style=\"stroke:#ff8400ff;stroke-width:3;\" /><line x1=\"78\" y1=\"0\" x2=\"78\" y2=\"20\" style=\"stroke:#ff8300ff;stroke-width:3;\" /><line x1=\"79\" y1=\"0\" x2=\"79\" y2=\"20\" style=\"stroke:#ff8300ff;stroke-width:3;\" /><line x1=\"80\" y1=\"0\" x2=\"80\" y2=\"20\" style=\"stroke:#ff8200ff;stroke-width:3;\" /><line x1=\"81\" y1=\"0\" x2=\"81\" y2=\"20\" style=\"stroke:#ff8100ff;stroke-width:3;\" /><line x1=\"82\" y1=\"0\" x2=\"82\" y2=\"20\" style=\"stroke:#ff8000ff;stroke-width:3;\" /><line x1=\"83\" y1=\"0\" x2=\"83\" y2=\"20\" style=\"stroke:#ff7f00ff;stroke-width:3;\" /><line x1=\"84\" y1=\"0\" x2=\"84\" y2=\"20\" style=\"stroke:#ff7e00ff;stroke-width:3;\" /><line x1=\"85\" y1=\"0\" x2=\"85\" y2=\"20\" style=\"stroke:#ff7d00ff;stroke-width:3;\" /><line x1=\"86\" y1=\"0\" x2=\"86\" y2=\"20\" style=\"stroke:#ff7c00ff;stroke-width:3;\" /><line x1=\"87\" y1=\"0\" x2=\"87\" y2=\"20\" style=\"stroke:#ff7b00ff;stroke-width:3;\" /><line x1=\"88\" y1=\"0\" x2=\"88\" y2=\"20\" style=\"stroke:#ff7a00ff;stroke-width:3;\" /><line x1=\"89\" y1=\"0\" x2=\"89\" y2=\"20\" style=\"stroke:#ff7900ff;stroke-width:3;\" /><line x1=\"90\" y1=\"0\" x2=\"90\" y2=\"20\" style=\"stroke:#ff7800ff;stroke-width:3;\" /><line x1=\"91\" y1=\"0\" x2=\"91\" y2=\"20\" style=\"stroke:#ff7700ff;stroke-width:3;\" /><line x1=\"92\" y1=\"0\" x2=\"92\" y2=\"20\" style=\"stroke:#ff7600ff;stroke-width:3;\" /><line x1=\"93\" y1=\"0\" x2=\"93\" y2=\"20\" style=\"stroke:#ff7500ff;stroke-width:3;\" /><line x1=\"94\" y1=\"0\" x2=\"94\" y2=\"20\" style=\"stroke:#ff7400ff;stroke-width:3;\" /><line x1=\"95\" y1=\"0\" x2=\"95\" y2=\"20\" style=\"stroke:#ff7300ff;stroke-width:3;\" /><line x1=\"96\" y1=\"0\" x2=\"96\" y2=\"20\" style=\"stroke:#ff7200ff;stroke-width:3;\" /><line x1=\"97\" y1=\"0\" x2=\"97\" y2=\"20\" style=\"stroke:#ff7100ff;stroke-width:3;\" /><line x1=\"98\" y1=\"0\" x2=\"98\" y2=\"20\" style=\"stroke:#ff7000ff;stroke-width:3;\" /><line x1=\"99\" y1=\"0\" x2=\"99\" y2=\"20\" style=\"stroke:#ff6f00ff;stroke-width:3;\" /><line x1=\"100\" y1=\"0\" x2=\"100\" y2=\"20\" style=\"stroke:#ff6e00ff;stroke-width:3;\" /><line x1=\"101\" y1=\"0\" x2=\"101\" y2=\"20\" style=\"stroke:#ff6d00ff;stroke-width:3;\" /><line x1=\"102\" y1=\"0\" x2=\"102\" y2=\"20\" style=\"stroke:#ff6c00ff;stroke-width:3;\" /><line x1=\"103\" y1=\"0\" x2=\"103\" y2=\"20\" style=\"stroke:#ff6b00ff;stroke-width:3;\" /><line x1=\"104\" y1=\"0\" x2=\"104\" y2=\"20\" style=\"stroke:#ff6a00ff;stroke-width:3;\" /><line x1=\"105\" y1=\"0\" x2=\"105\" y2=\"20\" style=\"stroke:#ff6900ff;stroke-width:3;\" /><line x1=\"106\" y1=\"0\" x2=\"106\" y2=\"20\" style=\"stroke:#ff6900ff;stroke-width:3;\" /><line x1=\"107\" y1=\"0\" x2=\"107\" y2=\"20\" style=\"stroke:#ff6800ff;stroke-width:3;\" /><line x1=\"108\" y1=\"0\" x2=\"108\" y2=\"20\" style=\"stroke:#ff6700ff;stroke-width:3;\" /><line x1=\"109\" y1=\"0\" x2=\"109\" y2=\"20\" style=\"stroke:#ff6600ff;stroke-width:3;\" /><line x1=\"110\" y1=\"0\" x2=\"110\" y2=\"20\" style=\"stroke:#ff6500ff;stroke-width:3;\" /><line x1=\"111\" y1=\"0\" x2=\"111\" y2=\"20\" style=\"stroke:#ff6400ff;stroke-width:3;\" /><line x1=\"112\" y1=\"0\" x2=\"112\" y2=\"20\" style=\"stroke:#ff6300ff;stroke-width:3;\" /><line x1=\"113\" y1=\"0\" x2=\"113\" y2=\"20\" style=\"stroke:#ff6200ff;stroke-width:3;\" /><line x1=\"114\" y1=\"0\" x2=\"114\" y2=\"20\" style=\"stroke:#ff6100ff;stroke-width:3;\" /><line x1=\"115\" y1=\"0\" x2=\"115\" y2=\"20\" style=\"stroke:#ff6000ff;stroke-width:3;\" /><line x1=\"116\" y1=\"0\" x2=\"116\" y2=\"20\" style=\"stroke:#ff5f00ff;stroke-width:3;\" /><line x1=\"117\" y1=\"0\" x2=\"117\" y2=\"20\" style=\"stroke:#ff5e00ff;stroke-width:3;\" /><line x1=\"118\" y1=\"0\" x2=\"118\" y2=\"20\" style=\"stroke:#ff5d00ff;stroke-width:3;\" /><line x1=\"119\" y1=\"0\" x2=\"119\" y2=\"20\" style=\"stroke:#ff5c00ff;stroke-width:3;\" /><line x1=\"120\" y1=\"0\" x2=\"120\" y2=\"20\" style=\"stroke:#ff5b00ff;stroke-width:3;\" /><line x1=\"121\" y1=\"0\" x2=\"121\" y2=\"20\" style=\"stroke:#ff5a00ff;stroke-width:3;\" /><line x1=\"122\" y1=\"0\" x2=\"122\" y2=\"20\" style=\"stroke:#ff5900ff;stroke-width:3;\" /><line x1=\"123\" y1=\"0\" x2=\"123\" y2=\"20\" style=\"stroke:#ff5800ff;stroke-width:3;\" /><line x1=\"124\" y1=\"0\" x2=\"124\" y2=\"20\" style=\"stroke:#ff5700ff;stroke-width:3;\" /><line x1=\"125\" y1=\"0\" x2=\"125\" y2=\"20\" style=\"stroke:#ff5600ff;stroke-width:3;\" /><line x1=\"126\" y1=\"0\" x2=\"126\" y2=\"20\" style=\"stroke:#ff5500ff;stroke-width:3;\" /><line x1=\"127\" y1=\"0\" x2=\"127\" y2=\"20\" style=\"stroke:#ff5400ff;stroke-width:3;\" /><line x1=\"128\" y1=\"0\" x2=\"128\" y2=\"20\" style=\"stroke:#ff5300ff;stroke-width:3;\" /><line x1=\"129\" y1=\"0\" x2=\"129\" y2=\"20\" style=\"stroke:#ff5200ff;stroke-width:3;\" /><line x1=\"130\" y1=\"0\" x2=\"130\" y2=\"20\" style=\"stroke:#ff5100ff;stroke-width:3;\" /><line x1=\"131\" y1=\"0\" x2=\"131\" y2=\"20\" style=\"stroke:#ff5000ff;stroke-width:3;\" /><line x1=\"132\" y1=\"0\" x2=\"132\" y2=\"20\" style=\"stroke:#ff4f00ff;stroke-width:3;\" /><line x1=\"133\" y1=\"0\" x2=\"133\" y2=\"20\" style=\"stroke:#ff4f00ff;stroke-width:3;\" /><line x1=\"134\" y1=\"0\" x2=\"134\" y2=\"20\" style=\"stroke:#ff4e00ff;stroke-width:3;\" /><line x1=\"135\" y1=\"0\" x2=\"135\" y2=\"20\" style=\"stroke:#ff4d00ff;stroke-width:3;\" /><line x1=\"136\" y1=\"0\" x2=\"136\" y2=\"20\" style=\"stroke:#ff4c00ff;stroke-width:3;\" /><line x1=\"137\" y1=\"0\" x2=\"137\" y2=\"20\" style=\"stroke:#ff4b00ff;stroke-width:3;\" /><line x1=\"138\" y1=\"0\" x2=\"138\" y2=\"20\" style=\"stroke:#ff4a00ff;stroke-width:3;\" /><line x1=\"139\" y1=\"0\" x2=\"139\" y2=\"20\" style=\"stroke:#ff4900ff;stroke-width:3;\" /><line x1=\"140\" y1=\"0\" x2=\"140\" y2=\"20\" style=\"stroke:#ff4800ff;stroke-width:3;\" /><line x1=\"141\" y1=\"0\" x2=\"141\" y2=\"20\" style=\"stroke:#ff4700ff;stroke-width:3;\" /><line x1=\"142\" y1=\"0\" x2=\"142\" y2=\"20\" style=\"stroke:#ff4600ff;stroke-width:3;\" /><line x1=\"143\" y1=\"0\" x2=\"143\" y2=\"20\" style=\"stroke:#ff4500ff;stroke-width:3;\" /><line x1=\"144\" y1=\"0\" x2=\"144\" y2=\"20\" style=\"stroke:#ff4400ff;stroke-width:3;\" /><line x1=\"145\" y1=\"0\" x2=\"145\" y2=\"20\" style=\"stroke:#ff4300ff;stroke-width:3;\" /><line x1=\"146\" y1=\"0\" x2=\"146\" y2=\"20\" style=\"stroke:#ff4200ff;stroke-width:3;\" /><line x1=\"147\" y1=\"0\" x2=\"147\" y2=\"20\" style=\"stroke:#ff4100ff;stroke-width:3;\" /><line x1=\"148\" y1=\"0\" x2=\"148\" y2=\"20\" style=\"stroke:#ff4000ff;stroke-width:3;\" /><line x1=\"149\" y1=\"0\" x2=\"149\" y2=\"20\" style=\"stroke:#ff3f00ff;stroke-width:3;\" /><line x1=\"150\" y1=\"0\" x2=\"150\" y2=\"20\" style=\"stroke:#ff3e00ff;stroke-width:3;\" /><line x1=\"151\" y1=\"0\" x2=\"151\" y2=\"20\" style=\"stroke:#ff3d00ff;stroke-width:3;\" /><line x1=\"152\" y1=\"0\" x2=\"152\" y2=\"20\" style=\"stroke:#ff3c00ff;stroke-width:3;\" /><line x1=\"153\" y1=\"0\" x2=\"153\" y2=\"20\" style=\"stroke:#ff3b00ff;stroke-width:3;\" /><line x1=\"154\" y1=\"0\" x2=\"154\" y2=\"20\" style=\"stroke:#ff3a00ff;stroke-width:3;\" /><line x1=\"155\" y1=\"0\" x2=\"155\" y2=\"20\" style=\"stroke:#ff3900ff;stroke-width:3;\" /><line x1=\"156\" y1=\"0\" x2=\"156\" y2=\"20\" style=\"stroke:#ff3800ff;stroke-width:3;\" /><line x1=\"157\" y1=\"0\" x2=\"157\" y2=\"20\" style=\"stroke:#ff3700ff;stroke-width:3;\" /><line x1=\"158\" y1=\"0\" x2=\"158\" y2=\"20\" style=\"stroke:#ff3600ff;stroke-width:3;\" /><line x1=\"159\" y1=\"0\" x2=\"159\" y2=\"20\" style=\"stroke:#ff3500ff;stroke-width:3;\" /><line x1=\"160\" y1=\"0\" x2=\"160\" y2=\"20\" style=\"stroke:#ff3500ff;stroke-width:3;\" /><line x1=\"161\" y1=\"0\" x2=\"161\" y2=\"20\" style=\"stroke:#ff3400ff;stroke-width:3;\" /><line x1=\"162\" y1=\"0\" x2=\"162\" y2=\"20\" style=\"stroke:#ff3300ff;stroke-width:3;\" /><line x1=\"163\" y1=\"0\" x2=\"163\" y2=\"20\" style=\"stroke:#ff3200ff;stroke-width:3;\" /><line x1=\"164\" y1=\"0\" x2=\"164\" y2=\"20\" style=\"stroke:#ff3100ff;stroke-width:3;\" /><line x1=\"165\" y1=\"0\" x2=\"165\" y2=\"20\" style=\"stroke:#ff3000ff;stroke-width:3;\" /><line x1=\"166\" y1=\"0\" x2=\"166\" y2=\"20\" style=\"stroke:#ff2f00ff;stroke-width:3;\" /><line x1=\"167\" y1=\"0\" x2=\"167\" y2=\"20\" style=\"stroke:#ff2e00ff;stroke-width:3;\" /><line x1=\"168\" y1=\"0\" x2=\"168\" y2=\"20\" style=\"stroke:#ff2d00ff;stroke-width:3;\" /><line x1=\"169\" y1=\"0\" x2=\"169\" y2=\"20\" style=\"stroke:#ff2c00ff;stroke-width:3;\" /><line x1=\"170\" y1=\"0\" x2=\"170\" y2=\"20\" style=\"stroke:#ff2b00ff;stroke-width:3;\" /><line x1=\"171\" y1=\"0\" x2=\"171\" y2=\"20\" style=\"stroke:#ff2a00ff;stroke-width:3;\" /><line x1=\"172\" y1=\"0\" x2=\"172\" y2=\"20\" style=\"stroke:#ff2900ff;stroke-width:3;\" /><line x1=\"173\" y1=\"0\" x2=\"173\" y2=\"20\" style=\"stroke:#ff2800ff;stroke-width:3;\" /><line x1=\"174\" y1=\"0\" x2=\"174\" y2=\"20\" style=\"stroke:#ff2700ff;stroke-width:3;\" /><line x1=\"175\" y1=\"0\" x2=\"175\" y2=\"20\" style=\"stroke:#ff2600ff;stroke-width:3;\" /><line x1=\"176\" y1=\"0\" x2=\"176\" y2=\"20\" style=\"stroke:#ff2500ff;stroke-width:3;\" /><line x1=\"177\" y1=\"0\" x2=\"177\" y2=\"20\" style=\"stroke:#ff2400ff;stroke-width:3;\" /><line x1=\"178\" y1=\"0\" x2=\"178\" y2=\"20\" style=\"stroke:#ff2300ff;stroke-width:3;\" /><line x1=\"179\" y1=\"0\" x2=\"179\" y2=\"20\" style=\"stroke:#ff2200ff;stroke-width:3;\" /><line x1=\"180\" y1=\"0\" x2=\"180\" y2=\"20\" style=\"stroke:#ff2100ff;stroke-width:3;\" /><line x1=\"181\" y1=\"0\" x2=\"181\" y2=\"20\" style=\"stroke:#ff2000ff;stroke-width:3;\" /><line x1=\"182\" y1=\"0\" x2=\"182\" y2=\"20\" style=\"stroke:#ff1f00ff;stroke-width:3;\" /><line x1=\"183\" y1=\"0\" x2=\"183\" y2=\"20\" style=\"stroke:#ff1e00ff;stroke-width:3;\" /><line x1=\"184\" y1=\"0\" x2=\"184\" y2=\"20\" style=\"stroke:#ff1d00ff;stroke-width:3;\" /><line x1=\"185\" y1=\"0\" x2=\"185\" y2=\"20\" style=\"stroke:#ff1c00ff;stroke-width:3;\" /><line x1=\"186\" y1=\"0\" x2=\"186\" y2=\"20\" style=\"stroke:#ff1c00ff;stroke-width:3;\" /><line x1=\"187\" y1=\"0\" x2=\"187\" y2=\"20\" style=\"stroke:#ff1b00ff;stroke-width:3;\" /><line x1=\"188\" y1=\"0\" x2=\"188\" y2=\"20\" style=\"stroke:#ff1a00ff;stroke-width:3;\" /><line x1=\"189\" y1=\"0\" x2=\"189\" y2=\"20\" style=\"stroke:#ff1900ff;stroke-width:3;\" /><line x1=\"190\" y1=\"0\" x2=\"190\" y2=\"20\" style=\"stroke:#ff1800ff;stroke-width:3;\" /><line x1=\"191\" y1=\"0\" x2=\"191\" y2=\"20\" style=\"stroke:#ff1700ff;stroke-width:3;\" /><line x1=\"192\" y1=\"0\" x2=\"192\" y2=\"20\" style=\"stroke:#ff1600ff;stroke-width:3;\" /><line x1=\"193\" y1=\"0\" x2=\"193\" y2=\"20\" style=\"stroke:#ff1500ff;stroke-width:3;\" /><line x1=\"194\" y1=\"0\" x2=\"194\" y2=\"20\" style=\"stroke:#ff1400ff;stroke-width:3;\" /><line x1=\"195\" y1=\"0\" x2=\"195\" y2=\"20\" style=\"stroke:#ff1300ff;stroke-width:3;\" /><line x1=\"196\" y1=\"0\" x2=\"196\" y2=\"20\" style=\"stroke:#ff1200ff;stroke-width:3;\" /><line x1=\"197\" y1=\"0\" x2=\"197\" y2=\"20\" style=\"stroke:#ff1100ff;stroke-width:3;\" /><line x1=\"198\" y1=\"0\" x2=\"198\" y2=\"20\" style=\"stroke:#ff1000ff;stroke-width:3;\" /><line x1=\"199\" y1=\"0\" x2=\"199\" y2=\"20\" style=\"stroke:#ff0f00ff;stroke-width:3;\" /><line x1=\"200\" y1=\"0\" x2=\"200\" y2=\"20\" style=\"stroke:#ff0e00ff;stroke-width:3;\" /><line x1=\"201\" y1=\"0\" x2=\"201\" y2=\"20\" style=\"stroke:#ff0d00ff;stroke-width:3;\" /><line x1=\"202\" y1=\"0\" x2=\"202\" y2=\"20\" style=\"stroke:#ff0c00ff;stroke-width:3;\" /><line x1=\"203\" y1=\"0\" x2=\"203\" y2=\"20\" style=\"stroke:#ff0b00ff;stroke-width:3;\" /><line x1=\"204\" y1=\"0\" x2=\"204\" y2=\"20\" style=\"stroke:#ff0a00ff;stroke-width:3;\" /><line x1=\"205\" y1=\"0\" x2=\"205\" y2=\"20\" style=\"stroke:#ff0900ff;stroke-width:3;\" /><line x1=\"206\" y1=\"0\" x2=\"206\" y2=\"20\" style=\"stroke:#ff0800ff;stroke-width:3;\" /><line x1=\"207\" y1=\"0\" x2=\"207\" y2=\"20\" style=\"stroke:#ff0700ff;stroke-width:3;\" /><line x1=\"208\" y1=\"0\" x2=\"208\" y2=\"20\" style=\"stroke:#ff0600ff;stroke-width:3;\" /><line x1=\"209\" y1=\"0\" x2=\"209\" y2=\"20\" style=\"stroke:#ff0500ff;stroke-width:3;\" /><line x1=\"210\" y1=\"0\" x2=\"210\" y2=\"20\" style=\"stroke:#ff0400ff;stroke-width:3;\" /><line x1=\"211\" y1=\"0\" x2=\"211\" y2=\"20\" style=\"stroke:#ff0300ff;stroke-width:3;\" /><line x1=\"212\" y1=\"0\" x2=\"212\" y2=\"20\" style=\"stroke:#ff0200ff;stroke-width:3;\" /><line x1=\"213\" y1=\"0\" x2=\"213\" y2=\"20\" style=\"stroke:#ff0200ff;stroke-width:3;\" /><line x1=\"214\" y1=\"0\" x2=\"214\" y2=\"20\" style=\"stroke:#ff0100ff;stroke-width:3;\" /><line x1=\"215\" y1=\"0\" x2=\"215\" y2=\"20\" style=\"stroke:#ff0000ff;stroke-width:3;\" /><line x1=\"216\" y1=\"0\" x2=\"216\" y2=\"20\" style=\"stroke:#ff0000ff;stroke-width:3;\" /><line x1=\"217\" y1=\"0\" x2=\"217\" y2=\"20\" style=\"stroke:#fe0000ff;stroke-width:3;\" /><line x1=\"218\" y1=\"0\" x2=\"218\" y2=\"20\" style=\"stroke:#fe0000ff;stroke-width:3;\" /><line x1=\"219\" y1=\"0\" x2=\"219\" y2=\"20\" style=\"stroke:#fd0000ff;stroke-width:3;\" /><line x1=\"220\" y1=\"0\" x2=\"220\" y2=\"20\" style=\"stroke:#fd0000ff;stroke-width:3;\" /><line x1=\"221\" y1=\"0\" x2=\"221\" y2=\"20\" style=\"stroke:#fc0000ff;stroke-width:3;\" /><line x1=\"222\" y1=\"0\" x2=\"222\" y2=\"20\" style=\"stroke:#fb0000ff;stroke-width:3;\" /><line x1=\"223\" y1=\"0\" x2=\"223\" y2=\"20\" style=\"stroke:#fb0000ff;stroke-width:3;\" /><line x1=\"224\" y1=\"0\" x2=\"224\" y2=\"20\" style=\"stroke:#fa0000ff;stroke-width:3;\" /><line x1=\"225\" y1=\"0\" x2=\"225\" y2=\"20\" style=\"stroke:#fa0000ff;stroke-width:3;\" /><line x1=\"226\" y1=\"0\" x2=\"226\" y2=\"20\" style=\"stroke:#f90000ff;stroke-width:3;\" /><line x1=\"227\" y1=\"0\" x2=\"227\" y2=\"20\" style=\"stroke:#f80000ff;stroke-width:3;\" /><line x1=\"228\" y1=\"0\" x2=\"228\" y2=\"20\" style=\"stroke:#f80000ff;stroke-width:3;\" /><line x1=\"229\" y1=\"0\" x2=\"229\" y2=\"20\" style=\"stroke:#f70000ff;stroke-width:3;\" /><line x1=\"230\" y1=\"0\" x2=\"230\" y2=\"20\" style=\"stroke:#f70000ff;stroke-width:3;\" /><line x1=\"231\" y1=\"0\" x2=\"231\" y2=\"20\" style=\"stroke:#f60000ff;stroke-width:3;\" /><line x1=\"232\" y1=\"0\" x2=\"232\" y2=\"20\" style=\"stroke:#f50000ff;stroke-width:3;\" /><line x1=\"233\" y1=\"0\" x2=\"233\" y2=\"20\" style=\"stroke:#f50000ff;stroke-width:3;\" /><line x1=\"234\" y1=\"0\" x2=\"234\" y2=\"20\" style=\"stroke:#f40000ff;stroke-width:3;\" /><line x1=\"235\" y1=\"0\" x2=\"235\" y2=\"20\" style=\"stroke:#f40000ff;stroke-width:3;\" /><line x1=\"236\" y1=\"0\" x2=\"236\" y2=\"20\" style=\"stroke:#f30000ff;stroke-width:3;\" /><line x1=\"237\" y1=\"0\" x2=\"237\" y2=\"20\" style=\"stroke:#f30000ff;stroke-width:3;\" /><line x1=\"238\" y1=\"0\" x2=\"238\" y2=\"20\" style=\"stroke:#f20000ff;stroke-width:3;\" /><line x1=\"239\" y1=\"0\" x2=\"239\" y2=\"20\" style=\"stroke:#f10000ff;stroke-width:3;\" /><line x1=\"240\" y1=\"0\" x2=\"240\" y2=\"20\" style=\"stroke:#f10000ff;stroke-width:3;\" /><line x1=\"241\" y1=\"0\" x2=\"241\" y2=\"20\" style=\"stroke:#f00000ff;stroke-width:3;\" /><line x1=\"242\" y1=\"0\" x2=\"242\" y2=\"20\" style=\"stroke:#f00000ff;stroke-width:3;\" /><line x1=\"243\" y1=\"0\" x2=\"243\" y2=\"20\" style=\"stroke:#ef0000ff;stroke-width:3;\" /><line x1=\"244\" y1=\"0\" x2=\"244\" y2=\"20\" style=\"stroke:#ee0000ff;stroke-width:3;\" /><line x1=\"245\" y1=\"0\" x2=\"245\" y2=\"20\" style=\"stroke:#ee0000ff;stroke-width:3;\" /><line x1=\"246\" y1=\"0\" x2=\"246\" y2=\"20\" style=\"stroke:#ed0000ff;stroke-width:3;\" /><line x1=\"247\" y1=\"0\" x2=\"247\" y2=\"20\" style=\"stroke:#ed0000ff;stroke-width:3;\" /><line x1=\"248\" y1=\"0\" x2=\"248\" y2=\"20\" style=\"stroke:#ec0000ff;stroke-width:3;\" /><line x1=\"249\" y1=\"0\" x2=\"249\" y2=\"20\" style=\"stroke:#eb0000ff;stroke-width:3;\" /><line x1=\"250\" y1=\"0\" x2=\"250\" y2=\"20\" style=\"stroke:#eb0000ff;stroke-width:3;\" /><line x1=\"251\" y1=\"0\" x2=\"251\" y2=\"20\" style=\"stroke:#ea0000ff;stroke-width:3;\" /><line x1=\"252\" y1=\"0\" x2=\"252\" y2=\"20\" style=\"stroke:#ea0000ff;stroke-width:3;\" /><line x1=\"253\" y1=\"0\" x2=\"253\" y2=\"20\" style=\"stroke:#e90000ff;stroke-width:3;\" /><line x1=\"254\" y1=\"0\" x2=\"254\" y2=\"20\" style=\"stroke:#e80000ff;stroke-width:3;\" /><line x1=\"255\" y1=\"0\" x2=\"255\" y2=\"20\" style=\"stroke:#e80000ff;stroke-width:3;\" /><line x1=\"256\" y1=\"0\" x2=\"256\" y2=\"20\" style=\"stroke:#e70000ff;stroke-width:3;\" /><line x1=\"257\" y1=\"0\" x2=\"257\" y2=\"20\" style=\"stroke:#e70000ff;stroke-width:3;\" /><line x1=\"258\" y1=\"0\" x2=\"258\" y2=\"20\" style=\"stroke:#e60000ff;stroke-width:3;\" /><line x1=\"259\" y1=\"0\" x2=\"259\" y2=\"20\" style=\"stroke:#e50000ff;stroke-width:3;\" /><line x1=\"260\" y1=\"0\" x2=\"260\" y2=\"20\" style=\"stroke:#e50000ff;stroke-width:3;\" /><line x1=\"261\" y1=\"0\" x2=\"261\" y2=\"20\" style=\"stroke:#e40000ff;stroke-width:3;\" /><line x1=\"262\" y1=\"0\" x2=\"262\" y2=\"20\" style=\"stroke:#e40000ff;stroke-width:3;\" /><line x1=\"263\" y1=\"0\" x2=\"263\" y2=\"20\" style=\"stroke:#e30000ff;stroke-width:3;\" /><line x1=\"264\" y1=\"0\" x2=\"264\" y2=\"20\" style=\"stroke:#e30000ff;stroke-width:3;\" /><line x1=\"265\" y1=\"0\" x2=\"265\" y2=\"20\" style=\"stroke:#e20000ff;stroke-width:3;\" /><line x1=\"266\" y1=\"0\" x2=\"266\" y2=\"20\" style=\"stroke:#e10000ff;stroke-width:3;\" /><line x1=\"267\" y1=\"0\" x2=\"267\" y2=\"20\" style=\"stroke:#e10000ff;stroke-width:3;\" /><line x1=\"268\" y1=\"0\" x2=\"268\" y2=\"20\" style=\"stroke:#e00000ff;stroke-width:3;\" /><line x1=\"269\" y1=\"0\" x2=\"269\" y2=\"20\" style=\"stroke:#e00000ff;stroke-width:3;\" /><line x1=\"270\" y1=\"0\" x2=\"270\" y2=\"20\" style=\"stroke:#df0000ff;stroke-width:3;\" /><line x1=\"271\" y1=\"0\" x2=\"271\" y2=\"20\" style=\"stroke:#de0000ff;stroke-width:3;\" /><line x1=\"272\" y1=\"0\" x2=\"272\" y2=\"20\" style=\"stroke:#de0000ff;stroke-width:3;\" /><line x1=\"273\" y1=\"0\" x2=\"273\" y2=\"20\" style=\"stroke:#dd0000ff;stroke-width:3;\" /><line x1=\"274\" y1=\"0\" x2=\"274\" y2=\"20\" style=\"stroke:#dd0000ff;stroke-width:3;\" /><line x1=\"275\" y1=\"0\" x2=\"275\" y2=\"20\" style=\"stroke:#dc0000ff;stroke-width:3;\" /><line x1=\"276\" y1=\"0\" x2=\"276\" y2=\"20\" style=\"stroke:#db0000ff;stroke-width:3;\" /><line x1=\"277\" y1=\"0\" x2=\"277\" y2=\"20\" style=\"stroke:#db0000ff;stroke-width:3;\" /><line x1=\"278\" y1=\"0\" x2=\"278\" y2=\"20\" style=\"stroke:#da0000ff;stroke-width:3;\" /><line x1=\"279\" y1=\"0\" x2=\"279\" y2=\"20\" style=\"stroke:#da0000ff;stroke-width:3;\" /><line x1=\"280\" y1=\"0\" x2=\"280\" y2=\"20\" style=\"stroke:#d90000ff;stroke-width:3;\" /><line x1=\"281\" y1=\"0\" x2=\"281\" y2=\"20\" style=\"stroke:#d80000ff;stroke-width:3;\" /><line x1=\"282\" y1=\"0\" x2=\"282\" y2=\"20\" style=\"stroke:#d80000ff;stroke-width:3;\" /><line x1=\"283\" y1=\"0\" x2=\"283\" y2=\"20\" style=\"stroke:#d70000ff;stroke-width:3;\" /><line x1=\"284\" y1=\"0\" x2=\"284\" y2=\"20\" style=\"stroke:#d70000ff;stroke-width:3;\" /><line x1=\"285\" y1=\"0\" x2=\"285\" y2=\"20\" style=\"stroke:#d60000ff;stroke-width:3;\" /><line x1=\"286\" y1=\"0\" x2=\"286\" y2=\"20\" style=\"stroke:#d50000ff;stroke-width:3;\" /><line x1=\"287\" y1=\"0\" x2=\"287\" y2=\"20\" style=\"stroke:#d50000ff;stroke-width:3;\" /><line x1=\"288\" y1=\"0\" x2=\"288\" y2=\"20\" style=\"stroke:#d40000ff;stroke-width:3;\" /><line x1=\"289\" y1=\"0\" x2=\"289\" y2=\"20\" style=\"stroke:#d40000ff;stroke-width:3;\" /><line x1=\"290\" y1=\"0\" x2=\"290\" y2=\"20\" style=\"stroke:#d30000ff;stroke-width:3;\" /><line x1=\"291\" y1=\"0\" x2=\"291\" y2=\"20\" style=\"stroke:#d30000ff;stroke-width:3;\" /><line x1=\"292\" y1=\"0\" x2=\"292\" y2=\"20\" style=\"stroke:#d20000ff;stroke-width:3;\" /><line x1=\"293\" y1=\"0\" x2=\"293\" y2=\"20\" style=\"stroke:#d10000ff;stroke-width:3;\" /><line x1=\"294\" y1=\"0\" x2=\"294\" y2=\"20\" style=\"stroke:#d10000ff;stroke-width:3;\" /><line x1=\"295\" y1=\"0\" x2=\"295\" y2=\"20\" style=\"stroke:#d00000ff;stroke-width:3;\" /><line x1=\"296\" y1=\"0\" x2=\"296\" y2=\"20\" style=\"stroke:#d00000ff;stroke-width:3;\" /><line x1=\"297\" y1=\"0\" x2=\"297\" y2=\"20\" style=\"stroke:#cf0000ff;stroke-width:3;\" /><line x1=\"298\" y1=\"0\" x2=\"298\" y2=\"20\" style=\"stroke:#ce0000ff;stroke-width:3;\" /><line x1=\"299\" y1=\"0\" x2=\"299\" y2=\"20\" style=\"stroke:#ce0000ff;stroke-width:3;\" /><line x1=\"300\" y1=\"0\" x2=\"300\" y2=\"20\" style=\"stroke:#cd0000ff;stroke-width:3;\" /><line x1=\"301\" y1=\"0\" x2=\"301\" y2=\"20\" style=\"stroke:#cd0000ff;stroke-width:3;\" /><line x1=\"302\" y1=\"0\" x2=\"302\" y2=\"20\" style=\"stroke:#cc0000ff;stroke-width:3;\" /><line x1=\"303\" y1=\"0\" x2=\"303\" y2=\"20\" style=\"stroke:#cb0000ff;stroke-width:3;\" /><line x1=\"304\" y1=\"0\" x2=\"304\" y2=\"20\" style=\"stroke:#cb0000ff;stroke-width:3;\" /><line x1=\"305\" y1=\"0\" x2=\"305\" y2=\"20\" style=\"stroke:#ca0000ff;stroke-width:3;\" /><line x1=\"306\" y1=\"0\" x2=\"306\" y2=\"20\" style=\"stroke:#ca0000ff;stroke-width:3;\" /><line x1=\"307\" y1=\"0\" x2=\"307\" y2=\"20\" style=\"stroke:#c90000ff;stroke-width:3;\" /><line x1=\"308\" y1=\"0\" x2=\"308\" y2=\"20\" style=\"stroke:#c80000ff;stroke-width:3;\" /><line x1=\"309\" y1=\"0\" x2=\"309\" y2=\"20\" style=\"stroke:#c80000ff;stroke-width:3;\" /><line x1=\"310\" y1=\"0\" x2=\"310\" y2=\"20\" style=\"stroke:#c70000ff;stroke-width:3;\" /><line x1=\"311\" y1=\"0\" x2=\"311\" y2=\"20\" style=\"stroke:#c70000ff;stroke-width:3;\" /><line x1=\"312\" y1=\"0\" x2=\"312\" y2=\"20\" style=\"stroke:#c60000ff;stroke-width:3;\" /><line x1=\"313\" y1=\"0\" x2=\"313\" y2=\"20\" style=\"stroke:#c50000ff;stroke-width:3;\" /><line x1=\"314\" y1=\"0\" x2=\"314\" y2=\"20\" style=\"stroke:#c50000ff;stroke-width:3;\" /><line x1=\"315\" y1=\"0\" x2=\"315\" y2=\"20\" style=\"stroke:#c40000ff;stroke-width:3;\" /><line x1=\"316\" y1=\"0\" x2=\"316\" y2=\"20\" style=\"stroke:#c40000ff;stroke-width:3;\" /><line x1=\"317\" y1=\"0\" x2=\"317\" y2=\"20\" style=\"stroke:#c30000ff;stroke-width:3;\" /><line x1=\"318\" y1=\"0\" x2=\"318\" y2=\"20\" style=\"stroke:#c20000ff;stroke-width:3;\" /><line x1=\"319\" y1=\"0\" x2=\"319\" y2=\"20\" style=\"stroke:#c20000ff;stroke-width:3;\" /><line x1=\"320\" y1=\"0\" x2=\"320\" y2=\"20\" style=\"stroke:#c10000ff;stroke-width:3;\" /><line x1=\"321\" y1=\"0\" x2=\"321\" y2=\"20\" style=\"stroke:#c10000ff;stroke-width:3;\" /><line x1=\"322\" y1=\"0\" x2=\"322\" y2=\"20\" style=\"stroke:#c00000ff;stroke-width:3;\" /><line x1=\"323\" y1=\"0\" x2=\"323\" y2=\"20\" style=\"stroke:#c00000ff;stroke-width:3;\" /><line x1=\"324\" y1=\"0\" x2=\"324\" y2=\"20\" style=\"stroke:#bf0000ff;stroke-width:3;\" /><line x1=\"325\" y1=\"0\" x2=\"325\" y2=\"20\" style=\"stroke:#be0000ff;stroke-width:3;\" /><line x1=\"326\" y1=\"0\" x2=\"326\" y2=\"20\" style=\"stroke:#be0000ff;stroke-width:3;\" /><line x1=\"327\" y1=\"0\" x2=\"327\" y2=\"20\" style=\"stroke:#bd0000ff;stroke-width:3;\" /><line x1=\"328\" y1=\"0\" x2=\"328\" y2=\"20\" style=\"stroke:#bd0000ff;stroke-width:3;\" /><line x1=\"329\" y1=\"0\" x2=\"329\" y2=\"20\" style=\"stroke:#bc0000ff;stroke-width:3;\" /><line x1=\"330\" y1=\"0\" x2=\"330\" y2=\"20\" style=\"stroke:#bb0000ff;stroke-width:3;\" /><line x1=\"331\" y1=\"0\" x2=\"331\" y2=\"20\" style=\"stroke:#bb0000ff;stroke-width:3;\" /><line x1=\"332\" y1=\"0\" x2=\"332\" y2=\"20\" style=\"stroke:#ba0000ff;stroke-width:3;\" /><line x1=\"333\" y1=\"0\" x2=\"333\" y2=\"20\" style=\"stroke:#ba0000ff;stroke-width:3;\" /><line x1=\"334\" y1=\"0\" x2=\"334\" y2=\"20\" style=\"stroke:#b90000ff;stroke-width:3;\" /><line x1=\"335\" y1=\"0\" x2=\"335\" y2=\"20\" style=\"stroke:#b80000ff;stroke-width:3;\" /><line x1=\"336\" y1=\"0\" x2=\"336\" y2=\"20\" style=\"stroke:#b80000ff;stroke-width:3;\" /><line x1=\"337\" y1=\"0\" x2=\"337\" y2=\"20\" style=\"stroke:#b70000ff;stroke-width:3;\" /><line x1=\"338\" y1=\"0\" x2=\"338\" y2=\"20\" style=\"stroke:#b70000ff;stroke-width:3;\" /><line x1=\"339\" y1=\"0\" x2=\"339\" y2=\"20\" style=\"stroke:#b60000ff;stroke-width:3;\" /><line x1=\"340\" y1=\"0\" x2=\"340\" y2=\"20\" style=\"stroke:#b50000ff;stroke-width:3;\" /><line x1=\"341\" y1=\"0\" x2=\"341\" y2=\"20\" style=\"stroke:#b50000ff;stroke-width:3;\" /><line x1=\"342\" y1=\"0\" x2=\"342\" y2=\"20\" style=\"stroke:#b40000ff;stroke-width:3;\" /><line x1=\"343\" y1=\"0\" x2=\"343\" y2=\"20\" style=\"stroke:#b40000ff;stroke-width:3;\" /><line x1=\"344\" y1=\"0\" x2=\"344\" y2=\"20\" style=\"stroke:#b30000ff;stroke-width:3;\" /><line x1=\"345\" y1=\"0\" x2=\"345\" y2=\"20\" style=\"stroke:#b20000ff;stroke-width:3;\" /><line x1=\"346\" y1=\"0\" x2=\"346\" y2=\"20\" style=\"stroke:#b20000ff;stroke-width:3;\" /><line x1=\"347\" y1=\"0\" x2=\"347\" y2=\"20\" style=\"stroke:#b10000ff;stroke-width:3;\" /><line x1=\"348\" y1=\"0\" x2=\"348\" y2=\"20\" style=\"stroke:#b10000ff;stroke-width:3;\" /><line x1=\"349\" y1=\"0\" x2=\"349\" y2=\"20\" style=\"stroke:#b00000ff;stroke-width:3;\" /><line x1=\"350\" y1=\"0\" x2=\"350\" y2=\"20\" style=\"stroke:#b00000ff;stroke-width:3;\" /><line x1=\"351\" y1=\"0\" x2=\"351\" y2=\"20\" style=\"stroke:#af0000ff;stroke-width:3;\" /><line x1=\"352\" y1=\"0\" x2=\"352\" y2=\"20\" style=\"stroke:#ae0000ff;stroke-width:3;\" /><line x1=\"353\" y1=\"0\" x2=\"353\" y2=\"20\" style=\"stroke:#ae0000ff;stroke-width:3;\" /><line x1=\"354\" y1=\"0\" x2=\"354\" y2=\"20\" style=\"stroke:#ad0000ff;stroke-width:3;\" /><line x1=\"355\" y1=\"0\" x2=\"355\" y2=\"20\" style=\"stroke:#ad0000ff;stroke-width:3;\" /><line x1=\"356\" y1=\"0\" x2=\"356\" y2=\"20\" style=\"stroke:#ac0000ff;stroke-width:3;\" /><line x1=\"357\" y1=\"0\" x2=\"357\" y2=\"20\" style=\"stroke:#ab0000ff;stroke-width:3;\" /><line x1=\"358\" y1=\"0\" x2=\"358\" y2=\"20\" style=\"stroke:#ab0000ff;stroke-width:3;\" /><line x1=\"359\" y1=\"0\" x2=\"359\" y2=\"20\" style=\"stroke:#aa0000ff;stroke-width:3;\" /><line x1=\"360\" y1=\"0\" x2=\"360\" y2=\"20\" style=\"stroke:#aa0000ff;stroke-width:3;\" /><line x1=\"361\" y1=\"0\" x2=\"361\" y2=\"20\" style=\"stroke:#a90000ff;stroke-width:3;\" /><line x1=\"362\" y1=\"0\" x2=\"362\" y2=\"20\" style=\"stroke:#a80000ff;stroke-width:3;\" /><line x1=\"363\" y1=\"0\" x2=\"363\" y2=\"20\" style=\"stroke:#a80000ff;stroke-width:3;\" /><line x1=\"364\" y1=\"0\" x2=\"364\" y2=\"20\" style=\"stroke:#a70000ff;stroke-width:3;\" /><line x1=\"365\" y1=\"0\" x2=\"365\" y2=\"20\" style=\"stroke:#a70000ff;stroke-width:3;\" /><line x1=\"366\" y1=\"0\" x2=\"366\" y2=\"20\" style=\"stroke:#a60000ff;stroke-width:3;\" /><line x1=\"367\" y1=\"0\" x2=\"367\" y2=\"20\" style=\"stroke:#a50000ff;stroke-width:3;\" /><line x1=\"368\" y1=\"0\" x2=\"368\" y2=\"20\" style=\"stroke:#a50000ff;stroke-width:3;\" /><line x1=\"369\" y1=\"0\" x2=\"369\" y2=\"20\" style=\"stroke:#a40000ff;stroke-width:3;\" /><line x1=\"370\" y1=\"0\" x2=\"370\" y2=\"20\" style=\"stroke:#a40000ff;stroke-width:3;\" /><line x1=\"371\" y1=\"0\" x2=\"371\" y2=\"20\" style=\"stroke:#a30000ff;stroke-width:3;\" /><line x1=\"372\" y1=\"0\" x2=\"372\" y2=\"20\" style=\"stroke:#a20000ff;stroke-width:3;\" /><line x1=\"373\" y1=\"0\" x2=\"373\" y2=\"20\" style=\"stroke:#a20000ff;stroke-width:3;\" /><line x1=\"374\" y1=\"0\" x2=\"374\" y2=\"20\" style=\"stroke:#a10000ff;stroke-width:3;\" /><line x1=\"375\" y1=\"0\" x2=\"375\" y2=\"20\" style=\"stroke:#a10000ff;stroke-width:3;\" /><line x1=\"376\" y1=\"0\" x2=\"376\" y2=\"20\" style=\"stroke:#a00000ff;stroke-width:3;\" /><line x1=\"377\" y1=\"0\" x2=\"377\" y2=\"20\" style=\"stroke:#a00000ff;stroke-width:3;\" /><line x1=\"378\" y1=\"0\" x2=\"378\" y2=\"20\" style=\"stroke:#9f0000ff;stroke-width:3;\" /><line x1=\"379\" y1=\"0\" x2=\"379\" y2=\"20\" style=\"stroke:#9e0000ff;stroke-width:3;\" /><line x1=\"380\" y1=\"0\" x2=\"380\" y2=\"20\" style=\"stroke:#9e0000ff;stroke-width:3;\" /><line x1=\"381\" y1=\"0\" x2=\"381\" y2=\"20\" style=\"stroke:#9d0000ff;stroke-width:3;\" /><line x1=\"382\" y1=\"0\" x2=\"382\" y2=\"20\" style=\"stroke:#9d0000ff;stroke-width:3;\" /><line x1=\"383\" y1=\"0\" x2=\"383\" y2=\"20\" style=\"stroke:#9c0000ff;stroke-width:3;\" /><line x1=\"384\" y1=\"0\" x2=\"384\" y2=\"20\" style=\"stroke:#9b0000ff;stroke-width:3;\" /><line x1=\"385\" y1=\"0\" x2=\"385\" y2=\"20\" style=\"stroke:#9b0000ff;stroke-width:3;\" /><line x1=\"386\" y1=\"0\" x2=\"386\" y2=\"20\" style=\"stroke:#9a0000ff;stroke-width:3;\" /><line x1=\"387\" y1=\"0\" x2=\"387\" y2=\"20\" style=\"stroke:#9a0000ff;stroke-width:3;\" /><line x1=\"388\" y1=\"0\" x2=\"388\" y2=\"20\" style=\"stroke:#990000ff;stroke-width:3;\" /><line x1=\"389\" y1=\"0\" x2=\"389\" y2=\"20\" style=\"stroke:#980000ff;stroke-width:3;\" /><line x1=\"390\" y1=\"0\" x2=\"390\" y2=\"20\" style=\"stroke:#980000ff;stroke-width:3;\" /><line x1=\"391\" y1=\"0\" x2=\"391\" y2=\"20\" style=\"stroke:#970000ff;stroke-width:3;\" /><line x1=\"392\" y1=\"0\" x2=\"392\" y2=\"20\" style=\"stroke:#970000ff;stroke-width:3;\" /><line x1=\"393\" y1=\"0\" x2=\"393\" y2=\"20\" style=\"stroke:#960000ff;stroke-width:3;\" /><line x1=\"394\" y1=\"0\" x2=\"394\" y2=\"20\" style=\"stroke:#950000ff;stroke-width:3;\" /><line x1=\"395\" y1=\"0\" x2=\"395\" y2=\"20\" style=\"stroke:#950000ff;stroke-width:3;\" /><line x1=\"396\" y1=\"0\" x2=\"396\" y2=\"20\" style=\"stroke:#940000ff;stroke-width:3;\" /><line x1=\"397\" y1=\"0\" x2=\"397\" y2=\"20\" style=\"stroke:#940000ff;stroke-width:3;\" /><line x1=\"398\" y1=\"0\" x2=\"398\" y2=\"20\" style=\"stroke:#930000ff;stroke-width:3;\" /><line x1=\"399\" y1=\"0\" x2=\"399\" y2=\"20\" style=\"stroke:#920000ff;stroke-width:3;\" /><line x1=\"400\" y1=\"0\" x2=\"400\" y2=\"20\" style=\"stroke:#920000ff;stroke-width:3;\" /><line x1=\"401\" y1=\"0\" x2=\"401\" y2=\"20\" style=\"stroke:#910000ff;stroke-width:3;\" /><line x1=\"402\" y1=\"0\" x2=\"402\" y2=\"20\" style=\"stroke:#910000ff;stroke-width:3;\" /><line x1=\"403\" y1=\"0\" x2=\"403\" y2=\"20\" style=\"stroke:#900000ff;stroke-width:3;\" /><line x1=\"404\" y1=\"0\" x2=\"404\" y2=\"20\" style=\"stroke:#900000ff;stroke-width:3;\" /><line x1=\"405\" y1=\"0\" x2=\"405\" y2=\"20\" style=\"stroke:#8f0000ff;stroke-width:3;\" /><line x1=\"406\" y1=\"0\" x2=\"406\" y2=\"20\" style=\"stroke:#8e0000ff;stroke-width:3;\" /><line x1=\"407\" y1=\"0\" x2=\"407\" y2=\"20\" style=\"stroke:#8e0000ff;stroke-width:3;\" /><line x1=\"408\" y1=\"0\" x2=\"408\" y2=\"20\" style=\"stroke:#8d0000ff;stroke-width:3;\" /><line x1=\"409\" y1=\"0\" x2=\"409\" y2=\"20\" style=\"stroke:#8d0000ff;stroke-width:3;\" /><line x1=\"410\" y1=\"0\" x2=\"410\" y2=\"20\" style=\"stroke:#8c0000ff;stroke-width:3;\" /><line x1=\"411\" y1=\"0\" x2=\"411\" y2=\"20\" style=\"stroke:#8b0000ff;stroke-width:3;\" /><line x1=\"412\" y1=\"0\" x2=\"412\" y2=\"20\" style=\"stroke:#8b0000ff;stroke-width:3;\" /><line x1=\"413\" y1=\"0\" x2=\"413\" y2=\"20\" style=\"stroke:#8a0000ff;stroke-width:3;\" /><line x1=\"414\" y1=\"0\" x2=\"414\" y2=\"20\" style=\"stroke:#8a0000ff;stroke-width:3;\" /><line x1=\"415\" y1=\"0\" x2=\"415\" y2=\"20\" style=\"stroke:#890000ff;stroke-width:3;\" /><line x1=\"416\" y1=\"0\" x2=\"416\" y2=\"20\" style=\"stroke:#880000ff;stroke-width:3;\" /><line x1=\"417\" y1=\"0\" x2=\"417\" y2=\"20\" style=\"stroke:#880000ff;stroke-width:3;\" /><line x1=\"418\" y1=\"0\" x2=\"418\" y2=\"20\" style=\"stroke:#870000ff;stroke-width:3;\" /><line x1=\"419\" y1=\"0\" x2=\"419\" y2=\"20\" style=\"stroke:#870000ff;stroke-width:3;\" /><line x1=\"420\" y1=\"0\" x2=\"420\" y2=\"20\" style=\"stroke:#860000ff;stroke-width:3;\" /><line x1=\"421\" y1=\"0\" x2=\"421\" y2=\"20\" style=\"stroke:#850000ff;stroke-width:3;\" /><line x1=\"422\" y1=\"0\" x2=\"422\" y2=\"20\" style=\"stroke:#850000ff;stroke-width:3;\" /><line x1=\"423\" y1=\"0\" x2=\"423\" y2=\"20\" style=\"stroke:#840000ff;stroke-width:3;\" /><line x1=\"424\" y1=\"0\" x2=\"424\" y2=\"20\" style=\"stroke:#840000ff;stroke-width:3;\" /><line x1=\"425\" y1=\"0\" x2=\"425\" y2=\"20\" style=\"stroke:#830000ff;stroke-width:3;\" /><line x1=\"426\" y1=\"0\" x2=\"426\" y2=\"20\" style=\"stroke:#820000ff;stroke-width:3;\" /><line x1=\"427\" y1=\"0\" x2=\"427\" y2=\"20\" style=\"stroke:#820000ff;stroke-width:3;\" /><line x1=\"428\" y1=\"0\" x2=\"428\" y2=\"20\" style=\"stroke:#810000ff;stroke-width:3;\" /><line x1=\"429\" y1=\"0\" x2=\"429\" y2=\"20\" style=\"stroke:#810000ff;stroke-width:3;\" /><line x1=\"430\" y1=\"0\" x2=\"430\" y2=\"20\" style=\"stroke:#800000ff;stroke-width:3;\" /><line x1=\"431\" y1=\"0\" x2=\"431\" y2=\"20\" style=\"stroke:#800000ff;stroke-width:3;\" /><line x1=\"432\" y1=\"0\" x2=\"432\" y2=\"20\" style=\"stroke:#800000ff;stroke-width:3;\" /><line x1=\"433\" y1=\"0\" x2=\"433\" y2=\"20\" style=\"stroke:#800000ff;stroke-width:3;\" /><line x1=\"434\" y1=\"0\" x2=\"434\" y2=\"20\" style=\"stroke:#800000ff;stroke-width:3;\" /><line x1=\"435\" y1=\"0\" x2=\"435\" y2=\"20\" style=\"stroke:#800000ff;stroke-width:3;\" /><line x1=\"436\" y1=\"0\" x2=\"436\" y2=\"20\" style=\"stroke:#800000ff;stroke-width:3;\" /><line x1=\"437\" y1=\"0\" x2=\"437\" y2=\"20\" style=\"stroke:#800000ff;stroke-width:3;\" /><line x1=\"438\" y1=\"0\" x2=\"438\" y2=\"20\" style=\"stroke:#800000ff;stroke-width:3;\" /><line x1=\"439\" y1=\"0\" x2=\"439\" y2=\"20\" style=\"stroke:#800000ff;stroke-width:3;\" /><line x1=\"440\" y1=\"0\" x2=\"440\" y2=\"20\" style=\"stroke:#800000ff;stroke-width:3;\" /><line x1=\"441\" y1=\"0\" x2=\"441\" y2=\"20\" style=\"stroke:#800000ff;stroke-width:3;\" /><line x1=\"442\" y1=\"0\" x2=\"442\" y2=\"20\" style=\"stroke:#800000ff;stroke-width:3;\" /><line x1=\"443\" y1=\"0\" x2=\"443\" y2=\"20\" style=\"stroke:#800000ff;stroke-width:3;\" /><line x1=\"444\" y1=\"0\" x2=\"444\" y2=\"20\" style=\"stroke:#800000ff;stroke-width:3;\" /><line x1=\"445\" y1=\"0\" x2=\"445\" y2=\"20\" style=\"stroke:#800000ff;stroke-width:3;\" /><line x1=\"446\" y1=\"0\" x2=\"446\" y2=\"20\" style=\"stroke:#800000ff;stroke-width:3;\" /><line x1=\"447\" y1=\"0\" x2=\"447\" y2=\"20\" style=\"stroke:#800000ff;stroke-width:3;\" /><line x1=\"448\" y1=\"0\" x2=\"448\" y2=\"20\" style=\"stroke:#800000ff;stroke-width:3;\" /><line x1=\"449\" y1=\"0\" x2=\"449\" y2=\"20\" style=\"stroke:#800000ff;stroke-width:3;\" /><line x1=\"450\" y1=\"0\" x2=\"450\" y2=\"20\" style=\"stroke:#800000ff;stroke-width:3;\" /><line x1=\"451\" y1=\"0\" x2=\"451\" y2=\"20\" style=\"stroke:#800000ff;stroke-width:3;\" /><line x1=\"452\" y1=\"0\" x2=\"452\" y2=\"20\" style=\"stroke:#800000ff;stroke-width:3;\" /><line x1=\"453\" y1=\"0\" x2=\"453\" y2=\"20\" style=\"stroke:#800000ff;stroke-width:3;\" /><line x1=\"454\" y1=\"0\" x2=\"454\" y2=\"20\" style=\"stroke:#800000ff;stroke-width:3;\" /><line x1=\"455\" y1=\"0\" x2=\"455\" y2=\"20\" style=\"stroke:#800000ff;stroke-width:3;\" /><line x1=\"456\" y1=\"0\" x2=\"456\" y2=\"20\" style=\"stroke:#800000ff;stroke-width:3;\" /><line x1=\"457\" y1=\"0\" x2=\"457\" y2=\"20\" style=\"stroke:#800000ff;stroke-width:3;\" /><line x1=\"458\" y1=\"0\" x2=\"458\" y2=\"20\" style=\"stroke:#800000ff;stroke-width:3;\" /><line x1=\"459\" y1=\"0\" x2=\"459\" y2=\"20\" style=\"stroke:#800000ff;stroke-width:3;\" /><line x1=\"460\" y1=\"0\" x2=\"460\" y2=\"20\" style=\"stroke:#800000ff;stroke-width:3;\" /><line x1=\"461\" y1=\"0\" x2=\"461\" y2=\"20\" style=\"stroke:#800000ff;stroke-width:3;\" /><line x1=\"462\" y1=\"0\" x2=\"462\" y2=\"20\" style=\"stroke:#800000ff;stroke-width:3;\" /><line x1=\"463\" y1=\"0\" x2=\"463\" y2=\"20\" style=\"stroke:#800000ff;stroke-width:3;\" /><line x1=\"464\" y1=\"0\" x2=\"464\" y2=\"20\" style=\"stroke:#800000ff;stroke-width:3;\" /><line x1=\"465\" y1=\"0\" x2=\"465\" y2=\"20\" style=\"stroke:#800000ff;stroke-width:3;\" /><line x1=\"466\" y1=\"0\" x2=\"466\" y2=\"20\" style=\"stroke:#800000ff;stroke-width:3;\" /><line x1=\"467\" y1=\"0\" x2=\"467\" y2=\"20\" style=\"stroke:#800000ff;stroke-width:3;\" /><line x1=\"468\" y1=\"0\" x2=\"468\" y2=\"20\" style=\"stroke:#800000ff;stroke-width:3;\" /><line x1=\"469\" y1=\"0\" x2=\"469\" y2=\"20\" style=\"stroke:#800000ff;stroke-width:3;\" /><line x1=\"470\" y1=\"0\" x2=\"470\" y2=\"20\" style=\"stroke:#800000ff;stroke-width:3;\" /><line x1=\"471\" y1=\"0\" x2=\"471\" y2=\"20\" style=\"stroke:#800000ff;stroke-width:3;\" /><line x1=\"472\" y1=\"0\" x2=\"472\" y2=\"20\" style=\"stroke:#800000ff;stroke-width:3;\" /><line x1=\"473\" y1=\"0\" x2=\"473\" y2=\"20\" style=\"stroke:#800000ff;stroke-width:3;\" /><line x1=\"474\" y1=\"0\" x2=\"474\" y2=\"20\" style=\"stroke:#800000ff;stroke-width:3;\" /><line x1=\"475\" y1=\"0\" x2=\"475\" y2=\"20\" style=\"stroke:#800000ff;stroke-width:3;\" /><line x1=\"476\" y1=\"0\" x2=\"476\" y2=\"20\" style=\"stroke:#800000ff;stroke-width:3;\" /><line x1=\"477\" y1=\"0\" x2=\"477\" y2=\"20\" style=\"stroke:#800000ff;stroke-width:3;\" /><line x1=\"478\" y1=\"0\" x2=\"478\" y2=\"20\" style=\"stroke:#800000ff;stroke-width:3;\" /><line x1=\"479\" y1=\"0\" x2=\"479\" y2=\"20\" style=\"stroke:#800000ff;stroke-width:3;\" /><line x1=\"480\" y1=\"0\" x2=\"480\" y2=\"20\" style=\"stroke:#800000ff;stroke-width:3;\" /><line x1=\"481\" y1=\"0\" x2=\"481\" y2=\"20\" style=\"stroke:#800000ff;stroke-width:3;\" /><line x1=\"482\" y1=\"0\" x2=\"482\" y2=\"20\" style=\"stroke:#800000ff;stroke-width:3;\" /><line x1=\"483\" y1=\"0\" x2=\"483\" y2=\"20\" style=\"stroke:#800000ff;stroke-width:3;\" /><line x1=\"484\" y1=\"0\" x2=\"484\" y2=\"20\" style=\"stroke:#800000ff;stroke-width:3;\" /><line x1=\"485\" y1=\"0\" x2=\"485\" y2=\"20\" style=\"stroke:#800000ff;stroke-width:3;\" /><line x1=\"486\" y1=\"0\" x2=\"486\" y2=\"20\" style=\"stroke:#800000ff;stroke-width:3;\" /><line x1=\"487\" y1=\"0\" x2=\"487\" y2=\"20\" style=\"stroke:#800000ff;stroke-width:3;\" /><line x1=\"488\" y1=\"0\" x2=\"488\" y2=\"20\" style=\"stroke:#800000ff;stroke-width:3;\" /><line x1=\"489\" y1=\"0\" x2=\"489\" y2=\"20\" style=\"stroke:#800000ff;stroke-width:3;\" /><line x1=\"490\" y1=\"0\" x2=\"490\" y2=\"20\" style=\"stroke:#800000ff;stroke-width:3;\" /><line x1=\"491\" y1=\"0\" x2=\"491\" y2=\"20\" style=\"stroke:#800000ff;stroke-width:3;\" /><line x1=\"492\" y1=\"0\" x2=\"492\" y2=\"20\" style=\"stroke:#800000ff;stroke-width:3;\" /><line x1=\"493\" y1=\"0\" x2=\"493\" y2=\"20\" style=\"stroke:#800000ff;stroke-width:3;\" /><line x1=\"494\" y1=\"0\" x2=\"494\" y2=\"20\" style=\"stroke:#800000ff;stroke-width:3;\" /><line x1=\"495\" y1=\"0\" x2=\"495\" y2=\"20\" style=\"stroke:#800000ff;stroke-width:3;\" /><line x1=\"496\" y1=\"0\" x2=\"496\" y2=\"20\" style=\"stroke:#800000ff;stroke-width:3;\" /><line x1=\"497\" y1=\"0\" x2=\"497\" y2=\"20\" style=\"stroke:#800000ff;stroke-width:3;\" /><line x1=\"498\" y1=\"0\" x2=\"498\" y2=\"20\" style=\"stroke:#800000ff;stroke-width:3;\" /><line x1=\"499\" y1=\"0\" x2=\"499\" y2=\"20\" style=\"stroke:#800000ff;stroke-width:3;\" /><text x=\"0\" y=\"35\">0.0</text><text x=\"500\" y=\"35\" style=\"text-anchor:end;\">58.0</text></svg>"
      ],
      "text/plain": [
       "<branca.colormap.LinearColormap at 0x153d3691888>"
      ]
     },
     "execution_count": 74,
     "metadata": {},
     "output_type": "execute_result"
    }
   ],
   "source": [
    "colorscale"
   ]
  },
  {
   "cell_type": "code",
   "execution_count": 75,
   "metadata": {},
   "outputs": [],
   "source": [
    "# 顏色 style\n",
    "def style_function(feature):\n",
    "    colors = color.get(int(feature['id']), None)\n",
    "    site_color=site_colors.get(feature['properties']['縣市'])\n",
    "    return {\n",
    "        'fillOpacity': 0.5,\n",
    "        'weight': 1,\n",
    "        'color':site_color,\n",
    "        'fillColor': '#fff' if colors is None else colorscale(colors)\n",
    "    }"
   ]
  },
  {
   "cell_type": "code",
   "execution_count": 76,
   "metadata": {},
   "outputs": [],
   "source": [
    "# 設定圖例\n",
    "#colormap=colorscale.to_step(index=[0, p*1, p*2, p*3, p*4,p*5,p*6,p*7,p*8])\n",
    "#colormap=colorscale.to_step(index=[0, p*1, p*2, p*3, p*4,p*5,p*6,p*7,p*8])\n",
    "colormap=colorscale\n",
    "colormap.caption ='Number of Members'\n",
    "#colormap.caption ='Average Consumption'"
   ]
  },
  {
   "cell_type": "code",
   "execution_count": 77,
   "metadata": {},
   "outputs": [
    {
     "data": {
      "text/plain": [
       "<folium.map.LayerControl at 0x153d370e608>"
      ]
     },
     "execution_count": 77,
     "metadata": {},
     "output_type": "execute_result"
    }
   ],
   "source": [
    "mm=folium.Map(location=台北車站,zoom_start=14)\n",
    "for s in site:\n",
    "    folium.GeoJson(\n",
    "        gdf_final[gdf_final['縣市']==s][['geometry','縣市','行政區','村里','戶口','人口','會員數','ratio','percent','MarketPotential','MarketPotential_density','平均消費額','平均消費額_normalization']],\n",
    "        name=s, \n",
    "        style_function=style_function,\n",
    "        highlight_function=lambda x: {'weight':3, \n",
    "                                        'color':site_colors.get(x['properties']['縣市']),\n",
    "                                        'fillOpacity':0.75},\n",
    "        smooth_factor=2.0,\n",
    "        tooltip=folium.features.GeoJsonTooltip(fields=['縣市','行政區','村里','會員數','戶口','percent','平均消費額',],\n",
    "                                                  aliases=['縣市','行政區','村里','會員數','戶數','滲透率','平均消費額'], \n",
    "                                                  labels=True, \n",
    "                                                  sticky=True,\n",
    "                                                  toLocaleString=True\n",
    "                                                 )\n",
    "    ).add_to(mm)\n",
    "\n",
    "for i in range(CASA.shape[0]):\n",
    "    if CASA.type[i]==0:\n",
    "        iframe = IFrame(html=heading3(utf2asc(HOI.name[i])),width=250,height=50)\n",
    "        popup = folium.Popup(iframe)\n",
    "        folium.Marker(location=[CASA.lat[i], CASA.lon[i]],\n",
    "                       popup=popup,\n",
    "                       icon=folium.Icon(icon='info-sign',\n",
    "                                        color='orange')).add_to(mm)\n",
    "'''        \n",
    "    elif HOI.type[i]==2:\n",
    "        iframe = IFrame(html=heading3(utf2asc(HOI.name[i])),width=250,height=50)\n",
    "        popup = folium.Popup(iframe)\n",
    "        folium.Marker(location=[HOI.lat[i], HOI.lon[i]],\n",
    "                       popup=popup,\n",
    "                       icon=folium.Icon(icon='info-sign',\n",
    "                                        color='pink')).add_to(mm)\n",
    "    else:  \n",
    "        iframe = IFrame(html=heading3(utf2asc(HOI.name[i])),width=250,height=50)\n",
    "        popup = folium.Popup(iframe)\n",
    "        folium.Marker(location=[HOI.lat[i], HOI.lon[i]],\n",
    "                       popup=popup,\n",
    "                       icon=folium.Icon(icon='info-sign',\n",
    "                                        color='gray')).add_to(mm)\n",
    "'''\n",
    "colormap.add_to(mm)\n",
    "\n",
    "folium.LayerControl().add_to(mm)\n"
   ]
  },
  {
   "cell_type": "code",
   "execution_count": 78,
   "metadata": {},
   "outputs": [],
   "source": [
    "#mm"
   ]
  },
  {
   "cell_type": "code",
   "execution_count": 79,
   "metadata": {},
   "outputs": [],
   "source": [
    "mm.save(r'C:\\Users\\RT009223\\TestriteGroup\\滲透率專案\\08_CASA\\result\\台灣2020H1年CASA村里會員數.html')"
   ]
  },
  {
   "cell_type": "code",
   "execution_count": null,
   "metadata": {},
   "outputs": [],
   "source": []
  },
  {
   "cell_type": "code",
   "execution_count": null,
   "metadata": {},
   "outputs": [],
   "source": []
  }
 ],
 "metadata": {
  "kernelspec": {
   "display_name": "Python 3",
   "language": "python",
   "name": "python3"
  },
  "language_info": {
   "codemirror_mode": {
    "name": "ipython",
    "version": 3
   },
   "file_extension": ".py",
   "mimetype": "text/x-python",
   "name": "python",
   "nbconvert_exporter": "python",
   "pygments_lexer": "ipython3",
   "version": "3.7.6"
  }
 },
 "nbformat": 4,
 "nbformat_minor": 4
}

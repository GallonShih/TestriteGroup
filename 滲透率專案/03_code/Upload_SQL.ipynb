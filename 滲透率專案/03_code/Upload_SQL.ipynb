{
 "cells": [
  {
   "cell_type": "code",
   "execution_count": 1,
   "metadata": {},
   "outputs": [],
   "source": [
    "%matplotlib inline\n",
    "import numpy as np\n",
    "import pandas as pd\n",
    "import matplotlib.pyplot as plt"
   ]
  },
  {
   "cell_type": "code",
   "execution_count": 2,
   "metadata": {},
   "outputs": [
    {
     "data": {
      "text/plain": [
       "'20200814'"
      ]
     },
     "execution_count": 2,
     "metadata": {},
     "output_type": "execute_result"
    }
   ],
   "source": [
    "import warnings\n",
    "warnings.filterwarnings(\"ignore\")\n",
    "import os\n",
    "os.chdir(r'C:\\Users\\RT009223\\TestriteGroup\\滲透率專案\\01_raw data\\TOGS\\TGOS_download\\rawdata\\new')\n",
    "import datetime\n",
    "datetime.date.today().strftime('%Y%m%d')"
   ]
  },
  {
   "cell_type": "code",
   "execution_count": 3,
   "metadata": {},
   "outputs": [
    {
     "data": {
      "text/plain": [
       "'20200814'"
      ]
     },
     "execution_count": 3,
     "metadata": {},
     "output_type": "execute_result"
    }
   ],
   "source": [
    "#note='ABG_20H1'\n",
    "#t=(datetime.date.today()-datetime.timedelta(days=1)).strftime('%Y%m%d')\n",
    "t=datetime.date.today().strftime('%Y%m%d')\n",
    "t"
   ]
  },
  {
   "cell_type": "code",
   "execution_count": 4,
   "metadata": {},
   "outputs": [
    {
     "data": {
      "text/plain": [
       "['1WZ9_1S_20H1_00.csv', '1WZ9_1S_20H1_01.csv', '1WZ9_1S_20H1_02.csv']"
      ]
     },
     "execution_count": 4,
     "metadata": {},
     "output_type": "execute_result"
    }
   ],
   "source": [
    "files=os.listdir(r'C:\\Users\\RT009223\\TestriteGroup\\滲透率專案\\01_raw data\\TOGS\\TGOS_download\\rawdata\\new')\n",
    "files= [n for n in files if n !='finished' ]\n",
    "files"
   ]
  },
  {
   "cell_type": "code",
   "execution_count": 5,
   "metadata": {},
   "outputs": [
    {
     "name": "stdout",
     "output_type": "stream",
     "text": [
      "1WZ9_1S_20H1_00.csv\n",
      "(10000, 5)\n",
      "(5164, 7)\n",
      "(5164, 7)\n",
      "----------------------------------------\n",
      "1WZ9_1S_20H1_01.csv\n",
      "(10000, 5)\n",
      "(8001, 7)\n",
      "(13165, 7)\n",
      "----------------------------------------\n",
      "1WZ9_1S_20H1_02.csv\n",
      "(385, 5)\n",
      "(306, 7)\n",
      "(13471, 7)\n",
      "----------------------------------------\n",
      "(13471, 7)\n",
      "(13471, 7)\n"
     ]
    }
   ],
   "source": [
    "df01=pd.DataFrame(columns=['id', 'Address', 'Response_Address', 'Response_X', 'Response_Y', 'date','process_id'])\n",
    "for i in files:\n",
    "    print(i)\n",
    "    df02=pd.read_csv(i)\n",
    "    print(df02.shape)\n",
    "    df02=df02[df02.id.apply(lambda x:len(str(x))==14)].dropna().reset_index(drop=True)\n",
    "    df02['date']=datetime.datetime.today()\n",
    "    df02['process_id']=i[:-4]\n",
    "    print(df02.shape)\n",
    "    df01=pd.concat([df01,df02]).reset_index(drop=True)\n",
    "    print(df01.shape)\n",
    "    print('----------------------------------------')\n",
    "print(df01.shape)\n",
    "\n",
    "df03=df01.drop_duplicates(subset=['id'],keep='first').reset_index(drop=True)\n",
    "print(df03.shape)"
   ]
  },
  {
   "cell_type": "code",
   "execution_count": null,
   "metadata": {},
   "outputs": [],
   "source": []
  },
  {
   "cell_type": "code",
   "execution_count": 6,
   "metadata": {},
   "outputs": [
    {
     "data": {
      "text/plain": [
       "(13471, 7)"
      ]
     },
     "execution_count": 6,
     "metadata": {},
     "output_type": "execute_result"
    }
   ],
   "source": [
    "df03.drop_duplicates(subset=['id'],keep='first').shape"
   ]
  },
  {
   "cell_type": "code",
   "execution_count": 7,
   "metadata": {},
   "outputs": [
    {
     "data": {
      "text/html": [
       "<div>\n",
       "<style scoped>\n",
       "    .dataframe tbody tr th:only-of-type {\n",
       "        vertical-align: middle;\n",
       "    }\n",
       "\n",
       "    .dataframe tbody tr th {\n",
       "        vertical-align: top;\n",
       "    }\n",
       "\n",
       "    .dataframe thead th {\n",
       "        text-align: right;\n",
       "    }\n",
       "</style>\n",
       "<table border=\"1\" class=\"dataframe\">\n",
       "  <thead>\n",
       "    <tr style=\"text-align: right;\">\n",
       "      <th></th>\n",
       "      <th>id</th>\n",
       "      <th>Address</th>\n",
       "      <th>Response_Address</th>\n",
       "      <th>Response_X</th>\n",
       "      <th>Response_Y</th>\n",
       "      <th>date</th>\n",
       "      <th>process_id</th>\n",
       "    </tr>\n",
       "  </thead>\n",
       "  <tbody>\n",
       "    <tr>\n",
       "      <th>0</th>\n",
       "      <td>20000625001571</td>\n",
       "      <td>彰化縣員林鎮員水路二段四一一號</td>\n",
       "      <td>彰化縣員林市萬年里16鄰員水路二段411號</td>\n",
       "      <td>120.579387</td>\n",
       "      <td>23.955584</td>\n",
       "      <td>2020-08-14 16:21:08.576641</td>\n",
       "      <td>1WZ9_1S_20H1_00</td>\n",
       "    </tr>\n",
       "    <tr>\n",
       "      <th>1</th>\n",
       "      <td>20001116000259</td>\n",
       "      <td>桃園市蘆竹區新莊村大新路814巷42號</td>\n",
       "      <td>桃園市蘆竹區新莊里12鄰大新路814巷43號</td>\n",
       "      <td>121.243317</td>\n",
       "      <td>25.024004</td>\n",
       "      <td>2020-08-14 16:21:08.576641</td>\n",
       "      <td>1WZ9_1S_20H1_00</td>\n",
       "    </tr>\n",
       "    <tr>\n",
       "      <th>2</th>\n",
       "      <td>20010509000134</td>\n",
       "      <td>新北市新莊區中榮街47號5F</td>\n",
       "      <td>新北市新莊區中信里28鄰中榮街47號</td>\n",
       "      <td>121.449547</td>\n",
       "      <td>25.052716</td>\n",
       "      <td>2020-08-14 16:21:08.576641</td>\n",
       "      <td>1WZ9_1S_20H1_00</td>\n",
       "    </tr>\n",
       "    <tr>\n",
       "      <th>3</th>\n",
       "      <td>20030521041124</td>\n",
       "      <td>新北市三重區三和路四段167巷154號</td>\n",
       "      <td>新北市三重區慈生里6鄰三和路四段167巷154號</td>\n",
       "      <td>121.487392</td>\n",
       "      <td>25.080193</td>\n",
       "      <td>2020-08-14 16:21:08.576641</td>\n",
       "      <td>1WZ9_1S_20H1_00</td>\n",
       "    </tr>\n",
       "    <tr>\n",
       "      <th>4</th>\n",
       "      <td>20040112000558</td>\n",
       "      <td>新北市板橋區三民路２段１５９號４樓</td>\n",
       "      <td>新北市板橋區居仁里1鄰三民路二段159號</td>\n",
       "      <td>121.479266</td>\n",
       "      <td>25.014779</td>\n",
       "      <td>2020-08-14 16:21:08.576641</td>\n",
       "      <td>1WZ9_1S_20H1_00</td>\n",
       "    </tr>\n",
       "    <tr>\n",
       "      <th>...</th>\n",
       "      <td>...</td>\n",
       "      <td>...</td>\n",
       "      <td>...</td>\n",
       "      <td>...</td>\n",
       "      <td>...</td>\n",
       "      <td>...</td>\n",
       "      <td>...</td>\n",
       "    </tr>\n",
       "    <tr>\n",
       "      <th>13466</th>\n",
       "      <td>20200627001522</td>\n",
       "      <td>宜蘭縣冬山鄉中城路202號</td>\n",
       "      <td>宜蘭縣冬山鄉中山村7鄰中城路202號</td>\n",
       "      <td>121.746110</td>\n",
       "      <td>24.627274</td>\n",
       "      <td>2020-08-14 16:21:08.664213</td>\n",
       "      <td>1WZ9_1S_20H1_02</td>\n",
       "    </tr>\n",
       "    <tr>\n",
       "      <th>13467</th>\n",
       "      <td>20200629000047</td>\n",
       "      <td>桃園市蘆竹區南崁路1段328號B11-1A</td>\n",
       "      <td>桃園市蘆竹區長興里14鄰南崁路一段328號</td>\n",
       "      <td>121.283050</td>\n",
       "      <td>25.054777</td>\n",
       "      <td>2020-08-14 16:21:08.664213</td>\n",
       "      <td>1WZ9_1S_20H1_02</td>\n",
       "    </tr>\n",
       "    <tr>\n",
       "      <th>13468</th>\n",
       "      <td>20200629000078</td>\n",
       "      <td>桃園市桃園區中山路169號</td>\n",
       "      <td>桃園市桃園區文昌里4鄰中山路169號</td>\n",
       "      <td>121.309158</td>\n",
       "      <td>24.993244</td>\n",
       "      <td>2020-08-14 16:21:08.664213</td>\n",
       "      <td>1WZ9_1S_20H1_02</td>\n",
       "    </tr>\n",
       "    <tr>\n",
       "      <th>13469</th>\n",
       "      <td>20200629000713</td>\n",
       "      <td>基隆市中正區正義路29巷12號2樓</td>\n",
       "      <td>基隆市中正區正義里6鄰正義路29巷12號</td>\n",
       "      <td>121.747562</td>\n",
       "      <td>25.133545</td>\n",
       "      <td>2020-08-14 16:21:08.664213</td>\n",
       "      <td>1WZ9_1S_20H1_02</td>\n",
       "    </tr>\n",
       "    <tr>\n",
       "      <th>13470</th>\n",
       "      <td>30011423702000</td>\n",
       "      <td>高雄市鳳山區龍成路175巷40-4號</td>\n",
       "      <td>高雄市鳳山區龍成里9鄰龍成路175巷40之4號</td>\n",
       "      <td>120.329725</td>\n",
       "      <td>22.599661</td>\n",
       "      <td>2020-08-14 16:21:08.664213</td>\n",
       "      <td>1WZ9_1S_20H1_02</td>\n",
       "    </tr>\n",
       "  </tbody>\n",
       "</table>\n",
       "<p>13471 rows × 7 columns</p>\n",
       "</div>"
      ],
      "text/plain": [
       "                   id                Address          Response_Address  \\\n",
       "0      20000625001571        彰化縣員林鎮員水路二段四一一號     彰化縣員林市萬年里16鄰員水路二段411號   \n",
       "1      20001116000259    桃園市蘆竹區新莊村大新路814巷42號    桃園市蘆竹區新莊里12鄰大新路814巷43號   \n",
       "2      20010509000134         新北市新莊區中榮街47號5F        新北市新莊區中信里28鄰中榮街47號   \n",
       "3      20030521041124    新北市三重區三和路四段167巷154號  新北市三重區慈生里6鄰三和路四段167巷154號   \n",
       "4      20040112000558      新北市板橋區三民路２段１５９號４樓      新北市板橋區居仁里1鄰三民路二段159號   \n",
       "...               ...                    ...                       ...   \n",
       "13466  20200627001522          宜蘭縣冬山鄉中城路202號        宜蘭縣冬山鄉中山村7鄰中城路202號   \n",
       "13467  20200629000047  桃園市蘆竹區南崁路1段328號B11-1A     桃園市蘆竹區長興里14鄰南崁路一段328號   \n",
       "13468  20200629000078          桃園市桃園區中山路169號        桃園市桃園區文昌里4鄰中山路169號   \n",
       "13469  20200629000713      基隆市中正區正義路29巷12號2樓      基隆市中正區正義里6鄰正義路29巷12號   \n",
       "13470  30011423702000     高雄市鳳山區龍成路175巷40-4號   高雄市鳳山區龍成里9鄰龍成路175巷40之4號   \n",
       "\n",
       "       Response_X  Response_Y                       date       process_id  \n",
       "0      120.579387   23.955584 2020-08-14 16:21:08.576641  1WZ9_1S_20H1_00  \n",
       "1      121.243317   25.024004 2020-08-14 16:21:08.576641  1WZ9_1S_20H1_00  \n",
       "2      121.449547   25.052716 2020-08-14 16:21:08.576641  1WZ9_1S_20H1_00  \n",
       "3      121.487392   25.080193 2020-08-14 16:21:08.576641  1WZ9_1S_20H1_00  \n",
       "4      121.479266   25.014779 2020-08-14 16:21:08.576641  1WZ9_1S_20H1_00  \n",
       "...           ...         ...                        ...              ...  \n",
       "13466  121.746110   24.627274 2020-08-14 16:21:08.664213  1WZ9_1S_20H1_02  \n",
       "13467  121.283050   25.054777 2020-08-14 16:21:08.664213  1WZ9_1S_20H1_02  \n",
       "13468  121.309158   24.993244 2020-08-14 16:21:08.664213  1WZ9_1S_20H1_02  \n",
       "13469  121.747562   25.133545 2020-08-14 16:21:08.664213  1WZ9_1S_20H1_02  \n",
       "13470  120.329725   22.599661 2020-08-14 16:21:08.664213  1WZ9_1S_20H1_02  \n",
       "\n",
       "[13471 rows x 7 columns]"
      ]
     },
     "execution_count": 7,
     "metadata": {},
     "output_type": "execute_result"
    }
   ],
   "source": [
    "df03"
   ]
  },
  {
   "cell_type": "code",
   "execution_count": 8,
   "metadata": {},
   "outputs": [],
   "source": [
    "df03.to_excel('C:/Users/RT009223/TestriteGroup/滲透率專案/01_raw data/TOGS/TGOS_download/up_to_SQL/'+t+'new.xlsx',index=0,encoding='utf-8-sig')"
   ]
  },
  {
   "cell_type": "code",
   "execution_count": null,
   "metadata": {},
   "outputs": [],
   "source": []
  }
 ],
 "metadata": {
  "kernelspec": {
   "display_name": "Python 3",
   "language": "python",
   "name": "python3"
  },
  "language_info": {
   "codemirror_mode": {
    "name": "ipython",
    "version": 3
   },
   "file_extension": ".py",
   "mimetype": "text/x-python",
   "name": "python",
   "nbconvert_exporter": "python",
   "pygments_lexer": "ipython3",
   "version": "3.7.6"
  }
 },
 "nbformat": 4,
 "nbformat_minor": 4
}

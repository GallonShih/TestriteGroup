{
 "cells": [
  {
   "cell_type": "code",
   "execution_count": 1,
   "metadata": {},
   "outputs": [],
   "source": [
    "%matplotlib inline\n",
    "import numpy as np\n",
    "import pandas as pd\n",
    "import matplotlib.pyplot as plt"
   ]
  },
  {
   "cell_type": "code",
   "execution_count": 2,
   "metadata": {},
   "outputs": [
    {
     "data": {
      "text/plain": [
       "'20210310'"
      ]
     },
     "execution_count": 2,
     "metadata": {},
     "output_type": "execute_result"
    }
   ],
   "source": [
    "import warnings\n",
    "warnings.filterwarnings(\"ignore\")\n",
    "import os\n",
    "os.chdir(r'C:\\Users\\RT009223\\TestriteGroup\\滲透率專案\\01_raw data\\TOGS\\TGOS_download\\rawdata\\old')\n",
    "import datetime\n",
    "datetime.date.today().strftime('%Y%m%d')"
   ]
  },
  {
   "cell_type": "code",
   "execution_count": 3,
   "metadata": {},
   "outputs": [
    {
     "data": {
      "text/plain": [
       "'20210310'"
      ]
     },
     "execution_count": 3,
     "metadata": {},
     "output_type": "execute_result"
    }
   ],
   "source": [
    "#note='ABG_20H1'\n",
    "#t=(datetime.date.today()-datetime.timedelta(days=1)).strftime('%Y%m%d')\n",
    "t=datetime.date.today().strftime('%Y%m%d')\n",
    "t"
   ]
  },
  {
   "cell_type": "code",
   "execution_count": 4,
   "metadata": {},
   "outputs": [
    {
     "data": {
      "text/plain": [
       "['old_20210308_00.csv']"
      ]
     },
     "execution_count": 4,
     "metadata": {},
     "output_type": "execute_result"
    }
   ],
   "source": [
    "files=os.listdir(r'C:\\Users\\RT009223\\TestriteGroup\\滲透率專案\\01_raw data\\TOGS\\TGOS_download\\rawdata\\old')\n",
    "files= [n for n in files if n not in ['finished','finished_adjusted'] ]\n",
    "files"
   ]
  },
  {
   "cell_type": "code",
   "execution_count": 5,
   "metadata": {},
   "outputs": [
    {
     "name": "stdout",
     "output_type": "stream",
     "text": [
      "(6311, 5)\n"
     ]
    }
   ],
   "source": [
    "check=pd.read_excel(r'C:\\Users\\RT009223\\TestriteGroup\\滲透率專案\\01_raw data\\TOGS\\TGOS_upload\\upload_data\\old_20210308.xlsx',dtype='str')\n",
    "print(check.shape)"
   ]
  },
  {
   "cell_type": "code",
   "execution_count": 6,
   "metadata": {},
   "outputs": [
    {
     "name": "stdout",
     "output_type": "stream",
     "text": [
      "old_20210308_00.csv\n",
      "(6084, 5)\n",
      "(70, 7)\n",
      "(70, 7)\n",
      "----------------------------------------\n",
      "(70, 7)\n",
      "(70, 7)\n"
     ]
    }
   ],
   "source": [
    "df01=pd.DataFrame(columns=['id', 'Address', 'Response_Address', 'Response_X', 'Response_Y', 'date','process_id'])\n",
    "for i in files:\n",
    "    print(i)\n",
    "    df02=pd.read_csv(i,error_bad_lines=False)\n",
    "    print(df02.shape)\n",
    "    df02=df02[df02.id.apply(lambda x:len(str(x))==14)].dropna().reset_index(drop=True)\n",
    "    df02['date']=datetime.datetime.today()\n",
    "    df02['process_id']=i[:-4]\n",
    "    print(df02.shape)\n",
    "    df01=pd.concat([df01,df02]).reset_index(drop=True)\n",
    "    print(df01.shape)\n",
    "    print('----------------------------------------')\n",
    "print(df01.shape)\n",
    "\n",
    "df03=df01.drop_duplicates(subset=['id'],keep='first').reset_index(drop=True)\n",
    "print(df03.shape)"
   ]
  },
  {
   "cell_type": "code",
   "execution_count": 7,
   "metadata": {},
   "outputs": [],
   "source": [
    "check.id=check.id.astype('str')\n",
    "df03.id=df03.id.astype('str')\n",
    "df03=df03.drop(['Address'],1)\n",
    "check=check.drop(['Response_Address', 'Response_X', 'Response_Y'],1)\n",
    "df03=pd.merge(df03,check,how='left')"
   ]
  },
  {
   "cell_type": "code",
   "execution_count": 8,
   "metadata": {},
   "outputs": [],
   "source": [
    "df03=df03.loc[:,['id', 'Address', 'Response_Address', 'Response_X', 'Response_Y', 'date','process_id']]"
   ]
  },
  {
   "cell_type": "code",
   "execution_count": 9,
   "metadata": {},
   "outputs": [
    {
     "data": {
      "text/plain": [
       "(70, 7)"
      ]
     },
     "execution_count": 9,
     "metadata": {},
     "output_type": "execute_result"
    }
   ],
   "source": [
    "df03.drop_duplicates(subset=['id'],keep='first').shape"
   ]
  },
  {
   "cell_type": "code",
   "execution_count": 10,
   "metadata": {},
   "outputs": [],
   "source": [
    "df03.id=df03.id.astype('str')"
   ]
  },
  {
   "cell_type": "code",
   "execution_count": 11,
   "metadata": {
    "scrolled": true
   },
   "outputs": [
    {
     "data": {
      "text/html": [
       "<div>\n",
       "<style scoped>\n",
       "    .dataframe tbody tr th:only-of-type {\n",
       "        vertical-align: middle;\n",
       "    }\n",
       "\n",
       "    .dataframe tbody tr th {\n",
       "        vertical-align: top;\n",
       "    }\n",
       "\n",
       "    .dataframe thead th {\n",
       "        text-align: right;\n",
       "    }\n",
       "</style>\n",
       "<table border=\"1\" class=\"dataframe\">\n",
       "  <thead>\n",
       "    <tr style=\"text-align: right;\">\n",
       "      <th></th>\n",
       "      <th>id</th>\n",
       "      <th>Address</th>\n",
       "      <th>Response_Address</th>\n",
       "      <th>Response_X</th>\n",
       "      <th>Response_Y</th>\n",
       "      <th>date</th>\n",
       "      <th>process_id</th>\n",
       "    </tr>\n",
       "  </thead>\n",
       "  <tbody>\n",
       "    <tr>\n",
       "      <th>0</th>\n",
       "      <td>20010316004405</td>\n",
       "      <td>桃園市龜山區文青里41鄰文青路355號21樓之3</td>\n",
       "      <td>桃園市龜山區文青里41鄰文青路355號</td>\n",
       "      <td>121.391822</td>\n",
       "      <td>25.039867</td>\n",
       "      <td>2021-03-10 11:54:00.563718</td>\n",
       "      <td>old_20210308_00</td>\n",
       "    </tr>\n",
       "    <tr>\n",
       "      <th>1</th>\n",
       "      <td>20020424001188</td>\n",
       "      <td>新北市淡水區竹圍里9鄰民族路65巷40號5樓</td>\n",
       "      <td>新北市淡水區竹圍里9鄰民族路65巷40號</td>\n",
       "      <td>121.463552</td>\n",
       "      <td>25.135500</td>\n",
       "      <td>2021-03-10 11:54:00.563718</td>\n",
       "      <td>old_20210308_00</td>\n",
       "    </tr>\n",
       "    <tr>\n",
       "      <th>2</th>\n",
       "      <td>20030412000554</td>\n",
       "      <td>新竹縣竹北市竹北里5鄰新瀧三街11號4樓之3</td>\n",
       "      <td>新竹縣竹北市竹北里5鄰新瀧三街11號</td>\n",
       "      <td>121.025684</td>\n",
       "      <td>24.833907</td>\n",
       "      <td>2021-03-10 11:54:00.563718</td>\n",
       "      <td>old_20210308_00</td>\n",
       "    </tr>\n",
       "    <tr>\n",
       "      <th>3</th>\n",
       "      <td>20021010001118</td>\n",
       "      <td>台中市烏日區烏日里44鄰建國路397號</td>\n",
       "      <td>臺中市烏日區烏日里44鄰建國路397號</td>\n",
       "      <td>120.628030</td>\n",
       "      <td>24.108965</td>\n",
       "      <td>2021-03-10 11:54:00.563718</td>\n",
       "      <td>old_20210308_00</td>\n",
       "    </tr>\n",
       "    <tr>\n",
       "      <th>4</th>\n",
       "      <td>20010617000289</td>\n",
       "      <td>台南市北　區元寶里3鄰開元路519號三樓之11</td>\n",
       "      <td>臺南市北區元寶里3鄰開元路519號</td>\n",
       "      <td>120.225638</td>\n",
       "      <td>23.011389</td>\n",
       "      <td>2021-03-10 11:54:00.563718</td>\n",
       "      <td>old_20210308_00</td>\n",
       "    </tr>\n",
       "  </tbody>\n",
       "</table>\n",
       "</div>"
      ],
      "text/plain": [
       "               id                   Address      Response_Address  Response_X  \\\n",
       "0  20010316004405  桃園市龜山區文青里41鄰文青路355號21樓之3   桃園市龜山區文青里41鄰文青路355號  121.391822   \n",
       "1  20020424001188    新北市淡水區竹圍里9鄰民族路65巷40號5樓  新北市淡水區竹圍里9鄰民族路65巷40號  121.463552   \n",
       "2  20030412000554    新竹縣竹北市竹北里5鄰新瀧三街11號4樓之3    新竹縣竹北市竹北里5鄰新瀧三街11號  121.025684   \n",
       "3  20021010001118       台中市烏日區烏日里44鄰建國路397號   臺中市烏日區烏日里44鄰建國路397號  120.628030   \n",
       "4  20010617000289   台南市北　區元寶里3鄰開元路519號三樓之11     臺南市北區元寶里3鄰開元路519號  120.225638   \n",
       "\n",
       "   Response_Y                       date       process_id  \n",
       "0   25.039867 2021-03-10 11:54:00.563718  old_20210308_00  \n",
       "1   25.135500 2021-03-10 11:54:00.563718  old_20210308_00  \n",
       "2   24.833907 2021-03-10 11:54:00.563718  old_20210308_00  \n",
       "3   24.108965 2021-03-10 11:54:00.563718  old_20210308_00  \n",
       "4   23.011389 2021-03-10 11:54:00.563718  old_20210308_00  "
      ]
     },
     "execution_count": 11,
     "metadata": {},
     "output_type": "execute_result"
    }
   ],
   "source": [
    "df03=df03.drop_duplicates(subset=['id'],keep='first').reset_index(drop=True)\n",
    "df03.head()"
   ]
  },
  {
   "cell_type": "code",
   "execution_count": 12,
   "metadata": {},
   "outputs": [],
   "source": [
    "df03.to_excel('C:/Users/RT009223/TestriteGroup/滲透率專案/01_raw data/TOGS/TGOS_download/up_to_SQL/'+t+'old.xlsx',index=0,encoding='utf-8-sig')"
   ]
  },
  {
   "cell_type": "code",
   "execution_count": null,
   "metadata": {},
   "outputs": [],
   "source": []
  }
 ],
 "metadata": {
  "kernelspec": {
   "display_name": "Python 3",
   "language": "python",
   "name": "python3"
  },
  "language_info": {
   "codemirror_mode": {
    "name": "ipython",
    "version": 3
   },
   "file_extension": ".py",
   "mimetype": "text/x-python",
   "name": "python",
   "nbconvert_exporter": "python",
   "pygments_lexer": "ipython3",
   "version": "3.7.6"
  }
 },
 "nbformat": 4,
 "nbformat_minor": 4
}

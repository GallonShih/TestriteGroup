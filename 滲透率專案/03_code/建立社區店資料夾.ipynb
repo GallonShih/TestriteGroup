{
 "cells": [
  {
   "cell_type": "code",
   "execution_count": 1,
   "metadata": {},
   "outputs": [],
   "source": [
    "%matplotlib inline\n",
    "import numpy as np\n",
    "import pandas as pd\n",
    "import matplotlib.pyplot as plt\n",
    "import warnings\n",
    "warnings.filterwarnings('ignore')\n",
    "import datetime\n",
    "import os\n",
    "import shutil"
   ]
  },
  {
   "cell_type": "code",
   "execution_count": 2,
   "metadata": {},
   "outputs": [],
   "source": [
    "os.chdir(r'C:\\Users\\RT009223\\TestriteGroup\\滲透率專案\\01_raw data\\TLW社區店')"
   ]
  },
  {
   "cell_type": "code",
   "execution_count": 3,
   "metadata": {},
   "outputs": [],
   "source": [
    "Old_Month='\\\\202101'\n",
    "Latest_Month='\\\\202102'"
   ]
  },
  {
   "cell_type": "code",
   "execution_count": 4,
   "metadata": {},
   "outputs": [
    {
     "data": {
      "text/plain": [
       "['1G30林口中山店',\n",
       " '1G32桃園大業店',\n",
       " '1G33竹北文興店',\n",
       " '1G34蘆洲集賢店',\n",
       " '1G35板橋新埔店',\n",
       " '1G36新營金華店',\n",
       " '1G37永康復國店',\n",
       " '1G38大安安和店',\n",
       " '1G39頭份中央店',\n",
       " '1G40三民澄清店',\n",
       " '1G41岡山大仁店',\n",
       " '1G42永和得和店',\n",
       " '1G43三重集美店',\n",
       " '1G44嘉義興業西店',\n",
       " '1G45基隆義一店',\n",
       " '1G46台中復興店',\n",
       " '1G47龍潭北龍店']"
      ]
     },
     "execution_count": 4,
     "metadata": {},
     "output_type": "execute_result"
    }
   ],
   "source": [
    "files=[i for i in os.listdir(r'C:\\Users\\RT009223\\TestriteGroup\\滲透率專案\\01_raw data\\TLW社區店') if i not in ['互蝕分析.xlsx','大分類中文名稱.xlsx']]\n",
    "files"
   ]
  },
  {
   "cell_type": "code",
   "execution_count": 5,
   "metadata": {},
   "outputs": [
    {
     "name": "stdout",
     "output_type": "stream",
     "text": [
      "我建立了 : 1G30林口中山店\\202102\n",
      "我建立了 : 1G32桃園大業店\\202102\n",
      "我建立了 : 1G33竹北文興店\\202102\n",
      "我建立了 : 1G34蘆洲集賢店\\202102\n",
      "我建立了 : 1G35板橋新埔店\\202102\n",
      "我建立了 : 1G36新營金華店\\202102\n",
      "我建立了 : 1G37永康復國店\\202102\n",
      "我建立了 : 1G38大安安和店\\202102\n",
      "我建立了 : 1G39頭份中央店\\202102\n",
      "我建立了 : 1G40三民澄清店\\202102\n",
      "我建立了 : 1G41岡山大仁店\\202102\n",
      "我建立了 : 1G42永和得和店\\202102\n",
      "我建立了 : 1G43三重集美店\\202102\n",
      "我建立了 : 1G44嘉義興業西店\\202102\n",
      "我建立了 : 1G45基隆義一店\\202102\n",
      "我建立了 : 1G46台中復興店\\202102\n",
      "我建立了 : 1G47龍潭北龍店\\202102\n"
     ]
    }
   ],
   "source": [
    "for i in files:\n",
    "    try:\n",
    "        site_dir=os.path.join(os.getcwd(),i)\n",
    "        shutil.copytree(os.path.join(site_dir+Old_Month), os.path.join(site_dir+Latest_Month))\n",
    "        print('我建立了 : '+i+Latest_Month)\n",
    "    except:\n",
    "        try:\n",
    "            shutil.rmtree(os.path.join(site_dir+Latest_Month))\n",
    "            print('我移除了 : '+i+Latest_Month)\n",
    "            site_dir=os.path.join(os.getcwd(),i)\n",
    "            shutil.copytree(os.path.join(site_dir+Old_Month), os.path.join(site_dir+Latest_Month))\n",
    "            print('我建立了 : '+i+Latest_Month)\n",
    "        except:\n",
    "            print('其實我連上個月的資料都沒有XD '+i)\n",
    "            os.mkdir(os.path.join(site_dir+Latest_Month))"
   ]
  },
  {
   "cell_type": "code",
   "execution_count": null,
   "metadata": {},
   "outputs": [],
   "source": []
  },
  {
   "cell_type": "code",
   "execution_count": null,
   "metadata": {},
   "outputs": [],
   "source": []
  }
 ],
 "metadata": {
  "kernelspec": {
   "display_name": "Python 3",
   "language": "python",
   "name": "python3"
  },
  "language_info": {
   "codemirror_mode": {
    "name": "ipython",
    "version": 3
   },
   "file_extension": ".py",
   "mimetype": "text/x-python",
   "name": "python",
   "nbconvert_exporter": "python",
   "pygments_lexer": "ipython3",
   "version": "3.7.6"
  }
 },
 "nbformat": 4,
 "nbformat_minor": 4
}

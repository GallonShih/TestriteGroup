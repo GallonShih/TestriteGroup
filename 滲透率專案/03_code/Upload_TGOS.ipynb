{
 "cells": [
  {
   "cell_type": "code",
   "execution_count": 1,
   "metadata": {},
   "outputs": [],
   "source": [
    "%matplotlib inline\n",
    "import numpy as np\n",
    "import pandas as pd\n",
    "import matplotlib.pyplot as plt"
   ]
  },
  {
   "cell_type": "code",
   "execution_count": 2,
   "metadata": {},
   "outputs": [
    {
     "data": {
      "text/plain": [
       "'20200812'"
      ]
     },
     "execution_count": 2,
     "metadata": {},
     "output_type": "execute_result"
    }
   ],
   "source": [
    "import warnings\n",
    "warnings.filterwarnings(\"ignore\")\n",
    "import os\n",
    "os.chdir(r'C:\\Users\\RT009223\\TestriteGroup\\滲透率專案\\01_raw data\\TOGS\\TGOS_upload\\rawdata\\new')\n",
    "import datetime\n",
    "datetime.date.today().strftime('%Y%m%d')"
   ]
  },
  {
   "cell_type": "code",
   "execution_count": 3,
   "metadata": {},
   "outputs": [],
   "source": [
    "note='1WZ9_1S_20H1'\n",
    "t=datetime.date.today().strftime('%Y%m%d')"
   ]
  },
  {
   "cell_type": "code",
   "execution_count": 5,
   "metadata": {},
   "outputs": [
    {
     "data": {
      "text/plain": [
       "['1S_1907_2006.csv', '1WZ9_1907_1912.csv', '1WZ9_2001_2006.csv']"
      ]
     },
     "execution_count": 5,
     "metadata": {},
     "output_type": "execute_result"
    }
   ],
   "source": [
    "files=os.listdir(r'C:\\Users\\RT009223\\TestriteGroup\\滲透率專案\\01_raw data\\TOGS\\TGOS_upload\\rawdata\\new')\n",
    "files= [n for n in files if n !='finished' ]\n",
    "files"
   ]
  },
  {
   "cell_type": "code",
   "execution_count": 6,
   "metadata": {},
   "outputs": [
    {
     "name": "stdout",
     "output_type": "stream",
     "text": [
      "1S_1907_2006.csv\n",
      "(138, 2)\n",
      "(138, 5)\n",
      "----------------------------------------\n",
      "1WZ9_1907_1912.csv\n",
      "(3389, 2)\n",
      "(3527, 5)\n",
      "----------------------------------------\n",
      "1WZ9_2001_2006.csv\n",
      "(17331, 2)\n",
      "(20858, 5)\n",
      "----------------------------------------\n",
      "(20858, 5)\n",
      "(20385, 5)\n"
     ]
    }
   ],
   "source": [
    "df01=pd.DataFrame(columns=['id','Address','Response_Address','Response_X','Response_Y'])\n",
    "for i in files:\n",
    "    print(i)\n",
    "    df02=pd.read_csv(i,error_bad_lines=False,header=None)\n",
    "    df02.columns=['id','Address']\n",
    "    print(df02.shape)\n",
    "    df01=pd.concat([df01,df02]).reset_index(drop=True)\n",
    "    print(df01.shape)\n",
    "    print('----------------------------------------')\n",
    "print(df01.shape)\n",
    "\n",
    "df03=df01.drop_duplicates(subset=['id'],keep='first').reset_index(drop=True)\n",
    "print(df03.shape)\n"
   ]
  },
  {
   "cell_type": "code",
   "execution_count": 7,
   "metadata": {},
   "outputs": [
    {
     "data": {
      "text/html": [
       "<div>\n",
       "<style scoped>\n",
       "    .dataframe tbody tr th:only-of-type {\n",
       "        vertical-align: middle;\n",
       "    }\n",
       "\n",
       "    .dataframe tbody tr th {\n",
       "        vertical-align: top;\n",
       "    }\n",
       "\n",
       "    .dataframe thead th {\n",
       "        text-align: right;\n",
       "    }\n",
       "</style>\n",
       "<table border=\"1\" class=\"dataframe\">\n",
       "  <thead>\n",
       "    <tr style=\"text-align: right;\">\n",
       "      <th></th>\n",
       "      <th>id</th>\n",
       "      <th>Address</th>\n",
       "      <th>Response_Address</th>\n",
       "      <th>Response_X</th>\n",
       "      <th>Response_Y</th>\n",
       "    </tr>\n",
       "  </thead>\n",
       "  <tbody>\n",
       "    <tr>\n",
       "      <th>0</th>\n",
       "      <td>19970114000024</td>\n",
       "      <td>桃園市龜山區大崗村頂湖路50之2</td>\n",
       "      <td>NaN</td>\n",
       "      <td>NaN</td>\n",
       "      <td>NaN</td>\n",
       "    </tr>\n",
       "    <tr>\n",
       "      <th>1</th>\n",
       "      <td>19990527000176</td>\n",
       "      <td>台北市內湖區麗園街42巷25號</td>\n",
       "      <td>NaN</td>\n",
       "      <td>NaN</td>\n",
       "      <td>NaN</td>\n",
       "    </tr>\n",
       "    <tr>\n",
       "      <th>2</th>\n",
       "      <td>19991025003999</td>\n",
       "      <td>台南市東　區崇德15街66號</td>\n",
       "      <td>NaN</td>\n",
       "      <td>NaN</td>\n",
       "      <td>NaN</td>\n",
       "    </tr>\n",
       "    <tr>\n",
       "      <th>3</th>\n",
       "      <td>20000625001571</td>\n",
       "      <td>彰化縣員林鎮員水路二段四一一號</td>\n",
       "      <td>NaN</td>\n",
       "      <td>NaN</td>\n",
       "      <td>NaN</td>\n",
       "    </tr>\n",
       "    <tr>\n",
       "      <th>4</th>\n",
       "      <td>20001110000513</td>\n",
       "      <td>嘉義市嘉義市西區世賢路一段３６０之１號</td>\n",
       "      <td>NaN</td>\n",
       "      <td>NaN</td>\n",
       "      <td>NaN</td>\n",
       "    </tr>\n",
       "  </tbody>\n",
       "</table>\n",
       "</div>"
      ],
      "text/plain": [
       "               id              Address Response_Address Response_X Response_Y\n",
       "0  19970114000024     桃園市龜山區大崗村頂湖路50之2              NaN        NaN        NaN\n",
       "1  19990527000176      台北市內湖區麗園街42巷25號              NaN        NaN        NaN\n",
       "2  19991025003999       台南市東　區崇德15街66號              NaN        NaN        NaN\n",
       "3  20000625001571      彰化縣員林鎮員水路二段四一一號              NaN        NaN        NaN\n",
       "4  20001110000513  嘉義市嘉義市西區世賢路一段３６０之１號              NaN        NaN        NaN"
      ]
     },
     "execution_count": 7,
     "metadata": {},
     "output_type": "execute_result"
    }
   ],
   "source": [
    "df03.head()"
   ]
  },
  {
   "cell_type": "code",
   "execution_count": 8,
   "metadata": {},
   "outputs": [
    {
     "name": "stdout",
     "output_type": "stream",
     "text": [
      "(10000, 5)\n",
      "(10000, 5)\n",
      "(385, 5)\n"
     ]
    }
   ],
   "source": [
    "os.chdir(r'C:\\Users\\RT009223\\TestriteGroup\\滲透率專案\\01_raw data\\TOGS\\TGOS_upload\\upload_data')\n",
    "for i in range((df03.shape[0]//10000)+1):\n",
    "    df04=df03.iloc[i*10000:(i+1)*10000,:]\n",
    "    print(df04.shape)\n",
    "    df04.to_csv(note+'_'+str(i).zfill(2)+'.csv',index=False,encoding='utf-8-sig')"
   ]
  },
  {
   "cell_type": "code",
   "execution_count": null,
   "metadata": {},
   "outputs": [],
   "source": []
  }
 ],
 "metadata": {
  "kernelspec": {
   "display_name": "Python 3",
   "language": "python",
   "name": "python3"
  },
  "language_info": {
   "codemirror_mode": {
    "name": "ipython",
    "version": 3
   },
   "file_extension": ".py",
   "mimetype": "text/x-python",
   "name": "python",
   "nbconvert_exporter": "python",
   "pygments_lexer": "ipython3",
   "version": "3.7.6"
  }
 },
 "nbformat": 4,
 "nbformat_minor": 4
}

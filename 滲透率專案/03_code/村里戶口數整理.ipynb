{
 "cells": [
  {
   "cell_type": "code",
   "execution_count": 1,
   "metadata": {},
   "outputs": [],
   "source": [
    "%matplotlib inline\n",
    "import numpy as np\n",
    "import pandas as pd\n",
    "import matplotlib.pyplot as plt"
   ]
  },
  {
   "cell_type": "code",
   "execution_count": 2,
   "metadata": {},
   "outputs": [],
   "source": [
    "import geopandas as gpd\n",
    "import warnings\n",
    "warnings.filterwarnings(\"ignore\")"
   ]
  },
  {
   "cell_type": "code",
   "execution_count": 3,
   "metadata": {},
   "outputs": [
    {
     "name": "stdout",
     "output_type": "stream",
     "text": [
      "(7760, 4)\n"
     ]
    }
   ],
   "source": [
    "gdf=gpd.read_file(r'C:\\Users\\RT009223\\TestriteGroup\\滲透率專案\\02_adjusted data\\geo data\\VILLAGE_MOI_1090423.shp',encoding='utf-8',dtype={'VILLCODE':'str'})\n",
    "gdf=gdf.loc[:,['COUNTYNAME','TOWNNAME','VILLNAME','VILLCODE']]\n",
    "gdf=gdf.dropna().reset_index(drop=True)\n",
    "print(gdf.shape)\n",
    "\n",
    "gdf.columns=['縣市','行政區','村里','code']\n",
    "gdf['site']=gdf['縣市']+gdf['行政區']+gdf['村里']"
   ]
  },
  {
   "cell_type": "code",
   "execution_count": 4,
   "metadata": {},
   "outputs": [],
   "source": [
    "pop=pd.read_csv(r'C:\\Users\\RT009223\\TestriteGroup\\滲透率專案\\02_adjusted data\\政府村里戶口資料\\opendata10912M030.csv',dtype={'district_code':'str'})\n",
    "pop=pop[1:].reset_index(drop=True)\n",
    "pop=pop.rename(columns={'district_code':'code','site_id':'縣市行政區',\"village\":'村里','household_no':'戶口','people_total':'人口'})\n",
    "pop=pop.loc[:,['code','縣市行政區','村里','戶口','人口']]\n",
    "pop['site']=pop['縣市行政區']+pop['村里']\n",
    "pop['site']=pop['site'].apply(lambda x:x.replace('\\u3000',''))"
   ]
  },
  {
   "cell_type": "code",
   "execution_count": 5,
   "metadata": {},
   "outputs": [
    {
     "data": {
      "text/html": [
       "<div>\n",
       "<style scoped>\n",
       "    .dataframe tbody tr th:only-of-type {\n",
       "        vertical-align: middle;\n",
       "    }\n",
       "\n",
       "    .dataframe tbody tr th {\n",
       "        vertical-align: top;\n",
       "    }\n",
       "\n",
       "    .dataframe thead th {\n",
       "        text-align: right;\n",
       "    }\n",
       "</style>\n",
       "<table border=\"1\" class=\"dataframe\">\n",
       "  <thead>\n",
       "    <tr style=\"text-align: right;\">\n",
       "      <th></th>\n",
       "      <th>code</th>\n",
       "      <th>縣市行政區</th>\n",
       "      <th>村里</th>\n",
       "      <th>戶口</th>\n",
       "      <th>人口</th>\n",
       "      <th>site</th>\n",
       "    </tr>\n",
       "  </thead>\n",
       "  <tbody>\n",
       "    <tr>\n",
       "      <th>0</th>\n",
       "      <td>65000010001</td>\n",
       "      <td>新北市板橋區</td>\n",
       "      <td>留侯里</td>\n",
       "      <td>694</td>\n",
       "      <td>1696</td>\n",
       "      <td>新北市板橋區留侯里</td>\n",
       "    </tr>\n",
       "    <tr>\n",
       "      <th>1</th>\n",
       "      <td>65000010002</td>\n",
       "      <td>新北市板橋區</td>\n",
       "      <td>流芳里</td>\n",
       "      <td>635</td>\n",
       "      <td>1518</td>\n",
       "      <td>新北市板橋區流芳里</td>\n",
       "    </tr>\n",
       "    <tr>\n",
       "      <th>2</th>\n",
       "      <td>65000010003</td>\n",
       "      <td>新北市板橋區</td>\n",
       "      <td>赤松里</td>\n",
       "      <td>456</td>\n",
       "      <td>996</td>\n",
       "      <td>新北市板橋區赤松里</td>\n",
       "    </tr>\n",
       "    <tr>\n",
       "      <th>3</th>\n",
       "      <td>65000010004</td>\n",
       "      <td>新北市板橋區</td>\n",
       "      <td>黃石里</td>\n",
       "      <td>523</td>\n",
       "      <td>1281</td>\n",
       "      <td>新北市板橋區黃石里</td>\n",
       "    </tr>\n",
       "    <tr>\n",
       "      <th>4</th>\n",
       "      <td>65000010005</td>\n",
       "      <td>新北市板橋區</td>\n",
       "      <td>挹秀里</td>\n",
       "      <td>871</td>\n",
       "      <td>2009</td>\n",
       "      <td>新北市板橋區挹秀里</td>\n",
       "    </tr>\n",
       "    <tr>\n",
       "      <th>...</th>\n",
       "      <td>...</td>\n",
       "      <td>...</td>\n",
       "      <td>...</td>\n",
       "      <td>...</td>\n",
       "      <td>...</td>\n",
       "      <td>...</td>\n",
       "    </tr>\n",
       "    <tr>\n",
       "      <th>7755</th>\n",
       "      <td>09007030003</td>\n",
       "      <td>連江縣莒光鄉</td>\n",
       "      <td>西坵村</td>\n",
       "      <td>22</td>\n",
       "      <td>67</td>\n",
       "      <td>連江縣莒光鄉西坵村</td>\n",
       "    </tr>\n",
       "    <tr>\n",
       "      <th>7756</th>\n",
       "      <td>09007030004</td>\n",
       "      <td>連江縣莒光鄉</td>\n",
       "      <td>福正村</td>\n",
       "      <td>50</td>\n",
       "      <td>248</td>\n",
       "      <td>連江縣莒光鄉福正村</td>\n",
       "    </tr>\n",
       "    <tr>\n",
       "      <th>7757</th>\n",
       "      <td>09007030005</td>\n",
       "      <td>連江縣莒光鄉</td>\n",
       "      <td>大坪村</td>\n",
       "      <td>116</td>\n",
       "      <td>520</td>\n",
       "      <td>連江縣莒光鄉大坪村</td>\n",
       "    </tr>\n",
       "    <tr>\n",
       "      <th>7758</th>\n",
       "      <td>09007040001</td>\n",
       "      <td>連江縣東引鄉</td>\n",
       "      <td>中柳村</td>\n",
       "      <td>167</td>\n",
       "      <td>642</td>\n",
       "      <td>連江縣東引鄉中柳村</td>\n",
       "    </tr>\n",
       "    <tr>\n",
       "      <th>7759</th>\n",
       "      <td>09007040002</td>\n",
       "      <td>連江縣東引鄉</td>\n",
       "      <td>樂華村</td>\n",
       "      <td>187</td>\n",
       "      <td>793</td>\n",
       "      <td>連江縣東引鄉樂華村</td>\n",
       "    </tr>\n",
       "  </tbody>\n",
       "</table>\n",
       "<p>7760 rows × 6 columns</p>\n",
       "</div>"
      ],
      "text/plain": [
       "             code   縣市行政區   村里   戶口    人口       site\n",
       "0     65000010001  新北市板橋區  留侯里  694  1696  新北市板橋區留侯里\n",
       "1     65000010002  新北市板橋區  流芳里  635  1518  新北市板橋區流芳里\n",
       "2     65000010003  新北市板橋區  赤松里  456   996  新北市板橋區赤松里\n",
       "3     65000010004  新北市板橋區  黃石里  523  1281  新北市板橋區黃石里\n",
       "4     65000010005  新北市板橋區  挹秀里  871  2009  新北市板橋區挹秀里\n",
       "...           ...     ...  ...  ...   ...        ...\n",
       "7755  09007030003  連江縣莒光鄉  西坵村   22    67  連江縣莒光鄉西坵村\n",
       "7756  09007030004  連江縣莒光鄉  福正村   50   248  連江縣莒光鄉福正村\n",
       "7757  09007030005  連江縣莒光鄉  大坪村  116   520  連江縣莒光鄉大坪村\n",
       "7758  09007040001  連江縣東引鄉  中柳村  167   642  連江縣東引鄉中柳村\n",
       "7759  09007040002  連江縣東引鄉  樂華村  187   793  連江縣東引鄉樂華村\n",
       "\n",
       "[7760 rows x 6 columns]"
      ]
     },
     "execution_count": 5,
     "metadata": {},
     "output_type": "execute_result"
    }
   ],
   "source": [
    "pop"
   ]
  },
  {
   "cell_type": "code",
   "execution_count": 6,
   "metadata": {},
   "outputs": [],
   "source": [
    "df1=pd.merge(gdf.drop(['code'] , axis=1),pop.drop(['code','村里'] , axis=1),on='site').loc[:,['縣市','行政區','村里','戶口','人口']]"
   ]
  },
  {
   "cell_type": "code",
   "execution_count": 7,
   "metadata": {},
   "outputs": [],
   "source": [
    "df2=pd.merge(gdf.drop(['site'] , axis=1),pop.drop(['site','村里'] , axis=1),on='code').loc[:,['縣市','行政區','村里','戶口','人口']]"
   ]
  },
  {
   "cell_type": "code",
   "execution_count": 8,
   "metadata": {},
   "outputs": [
    {
     "name": "stdout",
     "output_type": "stream",
     "text": [
      "(7760, 5)\n",
      "True\n"
     ]
    }
   ],
   "source": [
    "pop=pd.concat([df1,df2]).drop_duplicates().reset_index(drop=True)\n",
    "print(pop.shape)\n",
    "print(pop.shape==(7760, 5))"
   ]
  },
  {
   "cell_type": "code",
   "execution_count": 9,
   "metadata": {},
   "outputs": [],
   "source": [
    "pop['戶口']=pop['戶口'].astype('int')\n",
    "pop['人口']=pop['人口'].astype('int')"
   ]
  },
  {
   "cell_type": "code",
   "execution_count": 10,
   "metadata": {},
   "outputs": [],
   "source": [
    "\n",
    "pop['縣市']=list(pop['縣市'].apply(lambda x:x.replace('臺','台')))\n",
    "pop['行政區']=list(pop['行政區'].apply(lambda x:x.replace('臺','台')))\n",
    "pop['村里']=list(pop['村里'].apply(lambda x:x.replace('臺','台')))\n",
    "\n",
    "pop['村里']=pop['村里'].apply(lambda x:x.replace('舘','館'))\n",
    "\n",
    "pop['村里']=pop['村里'].apply(lambda x:x.replace('双','雙'))\n",
    "\n",
    "pop['村里']=pop['村里'].apply(lambda x:x.replace('石[曹]里','石𥕢里'))\n",
    "pop['村里']=pop['村里'].apply(lambda x:x.replace('鷄林里','雞林里'))\n",
    "pop['村里']=pop['村里'].apply(lambda x:x.replace('水磜村','水祭村'))\n",
    "pop['村里']=pop['村里'].apply(lambda x:x.replace('珊湖里','珊瑚里'))\n",
    "\n",
    "pop['村里']=pop['村里'].apply(lambda x:x.replace('欍','瓊'))\n"
   ]
  },
  {
   "cell_type": "code",
   "execution_count": 11,
   "metadata": {},
   "outputs": [],
   "source": [
    "#pop.to_excel('C:/Users/RT009223/TestriteGroup/滲透率專案/02_adjusted data/台灣202006年村里人口.xlsx',index=0)"
   ]
  },
  {
   "cell_type": "code",
   "execution_count": null,
   "metadata": {},
   "outputs": [],
   "source": []
  },
  {
   "cell_type": "code",
   "execution_count": null,
   "metadata": {},
   "outputs": [],
   "source": []
  },
  {
   "cell_type": "code",
   "execution_count": 12,
   "metadata": {},
   "outputs": [],
   "source": [
    "pop['村里']=pop['村里'].apply(lambda x:x.replace('石[曹]里','石𥕢里'))\n",
    "pop['村里']=pop['村里'].apply(lambda x:x.replace('鷄林里','雞林里'))\n",
    "pop['村里']=pop['村里'].apply(lambda x:x.replace('水磜村','水祭村'))\n",
    "pop['村里']=pop['村里'].apply(lambda x:x.replace('珊湖里','珊瑚里'))\n",
    "\n",
    "pop['村里']=pop['村里'].apply(lambda x:x.replace('欍','瓊'))\n"
   ]
  },
  {
   "cell_type": "code",
   "execution_count": 13,
   "metadata": {},
   "outputs": [],
   "source": [
    "gdf['縣市']=list(gdf['縣市'].apply(lambda x:x.replace('臺','台')))\n",
    "gdf['行政區']=list(gdf['行政區'].apply(lambda x:x.replace('臺','台')))\n",
    "gdf['村里']=list(gdf['村里'].apply(lambda x:x.replace('臺','台')))\n",
    "pop['縣市']=list(pop['縣市'].apply(lambda x:x.replace('臺','台')))\n",
    "pop['行政區']=list(pop['行政區'].apply(lambda x:x.replace('臺','台')))\n",
    "pop['村里']=list(pop['村里'].apply(lambda x:x.replace('臺','台')))\n",
    "\n",
    "gdf['村里']=gdf['村里'].apply(lambda x:x.replace('舘','館'))\n",
    "pop['村里']=pop['村里'].apply(lambda x:x.replace('舘','館'))\n",
    "gdf['村里']=gdf['村里'].apply(lambda x:x.replace('双','雙'))\n",
    "pop['村里']=pop['村里'].apply(lambda x:x.replace('双','雙'))\n",
    "gdf['村里']=gdf['村里'].apply(lambda x:x.replace('石[曹]里','石𥕢里'))\n",
    "gdf['村里']=gdf['村里'].apply(lambda x:x.replace('鷄林里','雞林里'))\n",
    "gdf['村里']=gdf['村里'].apply(lambda x:x.replace('水磜村','水祭村'))\n",
    "gdf['村里']=gdf['村里'].apply(lambda x:x.replace('珊湖里','珊瑚里'))\n",
    "\n",
    "gdf['村里']=gdf['村里'].apply(lambda x:x.replace('欍','瓊'))\n",
    "pop['村里']=pop['村里'].apply(lambda x:x.replace('溝垻里','溝埧里'))\n",
    "pop['村里']=pop['村里'].apply(lambda x:x.replace('崙峰里','崙峯里'))"
   ]
  },
  {
   "cell_type": "code",
   "execution_count": 14,
   "metadata": {},
   "outputs": [
    {
     "data": {
      "text/plain": [
       "array([], dtype=object)"
      ]
     },
     "execution_count": 14,
     "metadata": {},
     "output_type": "execute_result"
    }
   ],
   "source": [
    "pop[-(pop['行政區']+pop['村里']).isin(gdf['行政區']+gdf['村里'])]['村里'].unique()"
   ]
  },
  {
   "cell_type": "code",
   "execution_count": 15,
   "metadata": {},
   "outputs": [],
   "source": [
    "pop.to_excel('C:/Users/RT009223/TestriteGroup/滲透率專案/02_adjusted data/台灣202012年村里人口.xlsx',index=0)"
   ]
  },
  {
   "cell_type": "code",
   "execution_count": 16,
   "metadata": {},
   "outputs": [
    {
     "data": {
      "text/plain": [
       "(7760, 5)"
      ]
     },
     "execution_count": 16,
     "metadata": {},
     "output_type": "execute_result"
    }
   ],
   "source": [
    "pop.shape"
   ]
  },
  {
   "cell_type": "code",
   "execution_count": null,
   "metadata": {},
   "outputs": [],
   "source": []
  }
 ],
 "metadata": {
  "kernelspec": {
   "display_name": "Python 3",
   "language": "python",
   "name": "python3"
  },
  "language_info": {
   "codemirror_mode": {
    "name": "ipython",
    "version": 3
   },
   "file_extension": ".py",
   "mimetype": "text/x-python",
   "name": "python",
   "nbconvert_exporter": "python",
   "pygments_lexer": "ipython3",
   "version": "3.7.6"
  }
 },
 "nbformat": 4,
 "nbformat_minor": 4
}

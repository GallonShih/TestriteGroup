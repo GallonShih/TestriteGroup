{
 "cells": [
  {
   "cell_type": "code",
   "execution_count": 1,
   "metadata": {},
   "outputs": [],
   "source": [
    "%matplotlib inline\n",
    "import numpy as np\n",
    "import pandas as pd\n",
    "import matplotlib.pyplot as plt"
   ]
  },
  {
   "cell_type": "code",
   "execution_count": 2,
   "metadata": {},
   "outputs": [],
   "source": [
    "import warnings\n",
    "warnings.filterwarnings(\"ignore\")"
   ]
  },
  {
   "cell_type": "code",
   "execution_count": 3,
   "metadata": {},
   "outputs": [],
   "source": [
    "site='1A09'\n",
    "time=[2019,2020]"
   ]
  },
  {
   "cell_type": "code",
   "execution_count": 4,
   "metadata": {},
   "outputs": [
    {
     "name": "stdout",
     "output_type": "stream",
     "text": [
      "2019\n",
      "(12596, 4)\n",
      "(145268, 7)\n",
      "(157864, 2)\n",
      "(12596, 4)\n",
      "(157864, 7)\n",
      "2020\n",
      "(17479, 4)\n",
      "(133667, 7)\n",
      "(151146, 2)\n",
      "(17479, 4)\n",
      "(151146, 7)\n"
     ]
    }
   ],
   "source": [
    "for i in time:\n",
    "    print(i)\n",
    "    df_get_back=pd.read_table('C:/Users/RT009223/TestriteGroup/滲透率專案/02_adjusted data/'+site+'會員位置(無正確地址的資料)_一般卡_'+str(i)+'Q4.txt',sep=',')\n",
    "    print(df_get_back.shape)\n",
    "    result=pd.read_table('C:/Users/RT009223/TestriteGroup/滲透率專案/02_adjusted data/'+site+'會員位置(經整理_配對村里)_一般卡_'+str(i)+'Q4.txt',sep=',')\n",
    "    print(result.shape)\n",
    "    sales=pd.read_csv('C:/Users/RT009223/TestriteGroup/滲透率專案/01_raw data/'+site+'_'+str(i)+'Q4一般卡會員消費金額.csv',error_bad_lines=False,header=None)\n",
    "    sales.columns=['id','sale']\n",
    "    sales=sales.groupby(['id'])['sale'].sum().reset_index()\n",
    "    print(sales.shape)\n",
    "\n",
    "    df_get_back=df_get_back[-df_get_back.id.isin(result.id)]\n",
    "    print(df_get_back.shape)\n",
    "    result=pd.concat([result,df_get_back]).reset_index(drop=True)\n",
    "    print(result.shape)\n",
    "    result=pd.merge(result,sales,how='outer')\n",
    "    result['year']=str(i)\n",
    "    locals()['result_%s' %(i)]=result"
   ]
  },
  {
   "cell_type": "code",
   "execution_count": 6,
   "metadata": {},
   "outputs": [],
   "source": [
    "df_now=result_2020.copy()\n",
    "df_past=result_2019.copy()"
   ]
  },
  {
   "cell_type": "code",
   "execution_count": 7,
   "metadata": {},
   "outputs": [
    {
     "name": "stdout",
     "output_type": "stream",
     "text": [
      "now_loss: 0.10964894869860929 past_loss: 0.06789388334262403\n"
     ]
    }
   ],
   "source": [
    "now_loss=df_now['村里'].isna().sum()/df_now.shape[0]\n",
    "past_loss=df_past['村里'].isna().sum()/df_past.shape[0]\n",
    "\n",
    "print('now_loss:',now_loss,'past_loss:',past_loss)"
   ]
  },
  {
   "cell_type": "code",
   "execution_count": null,
   "metadata": {},
   "outputs": [],
   "source": []
  },
  {
   "cell_type": "code",
   "execution_count": 8,
   "metadata": {},
   "outputs": [],
   "source": [
    "ref=pd.read_excel(r'D:\\Users\\RT009223\\Desktop\\TLW社區店滲透率推導業績目標1030.xlsx',sheet_name='01_A0+G0_滲透率估計')"
   ]
  },
  {
   "cell_type": "code",
   "execution_count": 9,
   "metadata": {},
   "outputs": [
    {
     "name": "stdout",
     "output_type": "stream",
     "text": [
      "['新北市蘆洲區恆德里', '新北市蘆洲區仁德里', '新北市蘆洲區仁義里', '新北市蘆洲區溪墘里', '新北市三重區仁華里', '新北市蘆洲區樹德里', '新北市蘆洲區民和里', '新北市蘆洲區仁復里', '新北市蘆洲區鷺江里', '新北市蘆洲區玉清里', '新北市三重區永清里', '新北市三重區慈愛里', '新北市三重區碧華里', '新北市蘆洲區保和里', '新北市蘆洲區福安里', '新北市蘆洲區樓厝里', '新北市蘆洲區得仁里', '新北市蘆洲區得勝里']\n"
     ]
    }
   ],
   "source": [
    "ref_01=ref.loc[(ref['site_store']=='1G34')&ref['weight']==1,['index']]\n",
    "#ref_02=ref.loc[(ref['site_store']=='1G32')&ref['weight']==1,['index']]\n",
    "\n",
    "\n",
    "ref_01=[x[4:] for x in ref_01['index']]\n",
    "#ref_02=[x[4:] for x in ref_02['index']]\n",
    "\n",
    "print(ref_01)\n",
    "#print(ref_02)"
   ]
  },
  {
   "cell_type": "code",
   "execution_count": 10,
   "metadata": {},
   "outputs": [],
   "source": [
    "df_now['site']=df_now['縣市']+df_now['行政區']+df_now['村里']\n",
    "df_past['site']=df_past['縣市']+df_past['行政區']+df_past['村里']"
   ]
  },
  {
   "cell_type": "code",
   "execution_count": 11,
   "metadata": {},
   "outputs": [
    {
     "data": {
      "text/plain": [
       "0.9613953513587413"
      ]
     },
     "execution_count": 11,
     "metadata": {},
     "output_type": "execute_result"
    }
   ],
   "source": [
    "#r=(df_now.loc[(-df_now.site.isin(ref_01+ref_02))&(-df_now['村里'].isna()),:].shape[0]/(1-now_loss)) / (df_past.loc[(-df_past.site.isin(ref_01+ref_02))&(-df_past['村里'].isna()),:].shape[0]/(1-past_loss) )\n",
    "\n",
    "r=(df_now.loc[(-df_now.site.isin(ref_01))&(-df_now['村里'].isna()),:].shape[0]/(1-now_loss)) / (df_past.loc[(-df_past.site.isin(ref_01))&(-df_past['村里'].isna()),:].shape[0]/(1-past_loss) )\n",
    "r"
   ]
  },
  {
   "cell_type": "code",
   "execution_count": 12,
   "metadata": {},
   "outputs": [],
   "source": [
    "pred=df_past[df_past.site.isin(ref_01)].shape[0]/(1-past_loss)*r\n",
    "real=df_now[df_now.site.isin(ref_01)].shape[0]/(1-now_loss)"
   ]
  },
  {
   "cell_type": "code",
   "execution_count": 13,
   "metadata": {},
   "outputs": [
    {
     "data": {
      "text/plain": [
       "624.0"
      ]
     },
     "execution_count": 13,
     "metadata": {},
     "output_type": "execute_result"
    }
   ],
   "source": [
    "round(pred-real)"
   ]
  },
  {
   "cell_type": "code",
   "execution_count": null,
   "metadata": {},
   "outputs": [],
   "source": []
  },
  {
   "cell_type": "code",
   "execution_count": 14,
   "metadata": {},
   "outputs": [
    {
     "data": {
      "text/plain": [
       "146911.71511373008"
      ]
     },
     "execution_count": 14,
     "metadata": {},
     "output_type": "execute_result"
    }
   ],
   "source": [
    "(df_now.loc[(-df_now.site.isin(ref_01))&(-df_now['村里'].isna()),:].shape[0]/(1-now_loss))"
   ]
  },
  {
   "cell_type": "code",
   "execution_count": 15,
   "metadata": {},
   "outputs": [
    {
     "data": {
      "text/plain": [
       "152810.92726951462"
      ]
     },
     "execution_count": 15,
     "metadata": {},
     "output_type": "execute_result"
    }
   ],
   "source": [
    "(df_past.loc[(-df_past.site.isin(ref_01))&(-df_past['村里'].isna()),:].shape[0]/(1-past_loss) )"
   ]
  },
  {
   "cell_type": "code",
   "execution_count": 16,
   "metadata": {},
   "outputs": [
    {
     "data": {
      "text/plain": [
       "5053.072730485368"
      ]
     },
     "execution_count": 16,
     "metadata": {},
     "output_type": "execute_result"
    }
   ],
   "source": [
    "df_past[df_past.site.isin(ref_01)].shape[0]/(1-past_loss)"
   ]
  },
  {
   "cell_type": "code",
   "execution_count": 17,
   "metadata": {},
   "outputs": [
    {
     "data": {
      "text/plain": [
       "4234.284886269906"
      ]
     },
     "execution_count": 17,
     "metadata": {},
     "output_type": "execute_result"
    }
   ],
   "source": [
    "real"
   ]
  },
  {
   "cell_type": "code",
   "execution_count": 18,
   "metadata": {},
   "outputs": [
    {
     "data": {
      "text/plain": [
       "4858.000633166255"
      ]
     },
     "execution_count": 18,
     "metadata": {},
     "output_type": "execute_result"
    }
   ],
   "source": [
    "pred"
   ]
  },
  {
   "cell_type": "code",
   "execution_count": null,
   "metadata": {},
   "outputs": [],
   "source": []
  }
 ],
 "metadata": {
  "kernelspec": {
   "display_name": "Python 3",
   "language": "python",
   "name": "python3"
  },
  "language_info": {
   "codemirror_mode": {
    "name": "ipython",
    "version": 3
   },
   "file_extension": ".py",
   "mimetype": "text/x-python",
   "name": "python",
   "nbconvert_exporter": "python",
   "pygments_lexer": "ipython3",
   "version": "3.7.6"
  }
 },
 "nbformat": 4,
 "nbformat_minor": 4
}

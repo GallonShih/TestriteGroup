{
 "cells": [
  {
   "cell_type": "code",
   "execution_count": 147,
   "metadata": {},
   "outputs": [],
   "source": [
    "%matplotlib inline\n",
    "import numpy as np\n",
    "import pandas as pd\n",
    "import matplotlib.pyplot as plt\n",
    "\n",
    "import datetime"
   ]
  },
  {
   "cell_type": "markdown",
   "metadata": {},
   "source": [
    "# 原本 raw data的位置"
   ]
  },
  {
   "cell_type": "code",
   "execution_count": 148,
   "metadata": {},
   "outputs": [],
   "source": [
    "import os\n",
    "os.chdir(r'D:\\Users\\RT009223\\Desktop\\Gallon工作用\\07_全集團滿意度(CS)\\02_每月 Raw data\\202007\\raw data')"
   ]
  },
  {
   "cell_type": "markdown",
   "metadata": {},
   "source": [
    "# Peter 給的Mapping data"
   ]
  },
  {
   "cell_type": "code",
   "execution_count": 149,
   "metadata": {},
   "outputs": [],
   "source": [
    "mp_data=\"D:/Users/RT009223/Desktop/Gallon工作用/07_全集團滿意度(CS)/03_每月完整資料檔 Update/7月/滿意度 Mapping 資料_2020.7月.xlsx\""
   ]
  },
  {
   "cell_type": "markdown",
   "metadata": {},
   "source": [
    "# 設定月份"
   ]
  },
  {
   "cell_type": "code",
   "execution_count": 150,
   "metadata": {},
   "outputs": [
    {
     "name": "stdout",
     "output_type": "stream",
     "text": [
      "2007 2006\n"
     ]
    }
   ],
   "source": [
    "import datetime\n",
    "datetime.date.today().month\n",
    "month=[datetime.date.today().month-1]\n",
    "st_name='20'+str(month[0]).zfill(2)\n",
    "st_name_BA='20'+str(month[0]-1).zfill(2)\n",
    "print(st_name,st_name_BA)"
   ]
  },
  {
   "cell_type": "markdown",
   "metadata": {},
   "source": [
    "# 設定檔案存放位置及檔名"
   ]
  },
  {
   "cell_type": "code",
   "execution_count": 151,
   "metadata": {},
   "outputs": [],
   "source": [
    "writer = pd.ExcelWriter(r'D:\\Users\\RT009223\\Desktop\\Gallon工作用\\07_全集團滿意度(CS)\\03_每月完整資料檔 Update\\7月\\滿意度test.xlsx', engine='xlsxwriter')\n"
   ]
  },
  {
   "cell_type": "code",
   "execution_count": null,
   "metadata": {},
   "outputs": [],
   "source": []
  },
  {
   "cell_type": "code",
   "execution_count": 152,
   "metadata": {},
   "outputs": [
    {
     "name": "stdout",
     "output_type": "stream",
     "text": [
      "(12, 82)\n",
      "(12, 5)\n",
      "(12, 88)\n"
     ]
    }
   ],
   "source": [
    "dt=pd.read_excel(\"CASA.xlsx\",dtype= {'感謝您的寶貴意見! 為確保您的權益，請完整填入您的手機號碼，以利HOLA做點數的匯入。' : str} )\n",
    "mp=pd.read_excel(mp_data,sheet_name='CASA',dtype='str')\n",
    "mp=mp.replace(np.nan,'NULL')\n",
    "first_col=pd.DataFrame(data={'月份':month*len(dt.index),'NO':dt.index+1})\n",
    "dt_new=pd.concat([first_col,dt,mp.iloc[:,list(range(1,len(mp.columns)))]],axis=1)\n",
    "dt_new.to_excel(writer, sheet_name='CASA'+' '+st_name,index=0)\n",
    "\n",
    "print(dt.shape)\n",
    "print(mp.shape)\n",
    "print(dt_new.shape)"
   ]
  },
  {
   "cell_type": "code",
   "execution_count": null,
   "metadata": {},
   "outputs": [],
   "source": []
  },
  {
   "cell_type": "code",
   "execution_count": null,
   "metadata": {},
   "outputs": [],
   "source": []
  },
  {
   "cell_type": "code",
   "execution_count": 153,
   "metadata": {},
   "outputs": [
    {
     "name": "stdout",
     "output_type": "stream",
     "text": [
      "(29, 95)\n",
      "(29, 5)\n",
      "(29, 101)\n"
     ]
    }
   ],
   "source": [
    "dt=pd.read_excel(\"CASA(app).xlsx\")\n",
    "mp=pd.read_excel(mp_data,sheet_name='CASA(APP)',dtype='str')\n",
    "mp=mp.replace(np.nan,'NULL')\n",
    "first_col=pd.DataFrame(data={'月份':month*len(dt.index),'NO':dt.index+1})\n",
    "dt_new=pd.concat([first_col,dt,mp.iloc[:,list(range(1,len(mp.columns)))]],axis=1)\n",
    "dt_new.to_excel(writer, sheet_name='CASA(APP)'+' '+st_name,index=0)\n",
    "\n",
    "print(dt.shape)\n",
    "print(mp.shape)\n",
    "print(dt_new.shape)"
   ]
  },
  {
   "cell_type": "code",
   "execution_count": null,
   "metadata": {},
   "outputs": [],
   "source": []
  },
  {
   "cell_type": "code",
   "execution_count": null,
   "metadata": {},
   "outputs": [],
   "source": []
  },
  {
   "cell_type": "code",
   "execution_count": 154,
   "metadata": {},
   "outputs": [
    {
     "name": "stdout",
     "output_type": "stream",
     "text": [
      "(24, 62)\n",
      "(24, 5)\n",
      "(24, 68)\n"
     ]
    }
   ],
   "source": [
    "dt=pd.read_excel(\"CB.xlsx\",dtype= {'感謝您的寶貴意見! 歡迎您填入手機號碼，可享有最新的優惠訊息通知。 ' : str})\n",
    "mp=pd.read_excel(mp_data,sheet_name='CB',dtype='str')\n",
    "mp=mp.replace(np.nan,'NULL')\n",
    "first_col=pd.DataFrame(data={'月份':month*len(dt.index),'NO':dt.index+1})\n",
    "dt_new=pd.concat([first_col,dt,mp.iloc[:,list(range(1,len(mp.columns)))]],axis=1)\n",
    "dt_new.to_excel(writer, sheet_name='C&B'+' '+st_name,index=0)\n",
    "\n",
    "print(dt.shape)\n",
    "print(mp.shape)\n",
    "print(dt_new.shape)"
   ]
  },
  {
   "cell_type": "code",
   "execution_count": null,
   "metadata": {},
   "outputs": [],
   "source": []
  },
  {
   "cell_type": "code",
   "execution_count": 155,
   "metadata": {},
   "outputs": [
    {
     "name": "stdout",
     "output_type": "stream",
     "text": [
      "(11, 65)\n",
      "(11, 7)\n",
      "(11, 73)\n"
     ]
    }
   ],
   "source": [
    "dt=pd.read_excel(\"hoi!.xlsx\",dtype= {'感謝您的寶貴意見! 為確保您的權益，請完整填入您的手機號碼，以利 hoi! 做點數的匯入。' : str})\n",
    "mp=pd.read_excel(mp_data,sheet_name='HOI',dtype='str')\n",
    "mp=mp.replace(np.nan,'NULL')\n",
    "first_col=pd.DataFrame(data={'月份':month*len(dt.index),'NO':dt.index+1})\n",
    "dt_new=pd.concat([first_col,dt,mp.iloc[:,list(range(1,len(mp.columns)))]],axis=1)\n",
    "dt_new.to_excel(writer, sheet_name='hoi!'+st_name,index=0)\n",
    "\n",
    "print(dt.shape)\n",
    "print(mp.shape)\n",
    "print(dt_new.shape)"
   ]
  },
  {
   "cell_type": "code",
   "execution_count": null,
   "metadata": {},
   "outputs": [],
   "source": []
  },
  {
   "cell_type": "code",
   "execution_count": 156,
   "metadata": {},
   "outputs": [
    {
     "name": "stdout",
     "output_type": "stream",
     "text": [
      "(453, 83)\n",
      "(453, 5)\n",
      "(453, 89)\n"
     ]
    }
   ],
   "source": [
    "dt=pd.read_excel(\"HOLA.xlsx\",dtype= {'感謝您的寶貴意見! 為確保您的權益，請完整填入您的手機號碼，以利 HOLA特力和樂做點數的匯入。' : str})\n",
    "mp=pd.read_excel(mp_data,sheet_name='HOLA',dtype='str')\n",
    "mp=mp.replace(np.nan,'NULL')\n",
    "first_col=pd.DataFrame(data={'月份':month*len(dt.index),'NO':dt.index+1})\n",
    "dt_new=pd.concat([first_col,dt,mp.iloc[:,list(range(1,len(mp.columns)))]],axis=1)\n",
    "dt_new.to_excel(writer, sheet_name='HOLA'+' '+st_name,index=0)\n",
    "\n",
    "print(dt.shape)\n",
    "print(mp.shape)\n",
    "print(dt_new.shape)"
   ]
  },
  {
   "cell_type": "code",
   "execution_count": null,
   "metadata": {},
   "outputs": [],
   "source": []
  },
  {
   "cell_type": "code",
   "execution_count": 157,
   "metadata": {},
   "outputs": [
    {
     "name": "stdout",
     "output_type": "stream",
     "text": [
      "(314, 97)\n",
      "(314, 5)\n",
      "(314, 103)\n"
     ]
    }
   ],
   "source": [
    "dt=pd.read_excel(\"HOLA(app).xlsx\")\n",
    "mp=pd.read_excel(mp_data,sheet_name='HOLA(APP)',dtype='str')\n",
    "mp=mp.replace(np.nan,'NULL')\n",
    "first_col=pd.DataFrame(data={'月份':month*len(dt.index),'NO':dt.index+1})\n",
    "dt_new=pd.concat([first_col,dt,mp.iloc[:,list(range(1,len(mp.columns)))]],axis=1)\n",
    "dt_new.to_excel(writer, sheet_name='HOLA(APP)'+' '+st_name,index=0)\n",
    "\n",
    "print(dt.shape)\n",
    "print(mp.shape)\n",
    "print(dt_new.shape)"
   ]
  },
  {
   "cell_type": "code",
   "execution_count": null,
   "metadata": {},
   "outputs": [],
   "source": []
  },
  {
   "cell_type": "code",
   "execution_count": 158,
   "metadata": {},
   "outputs": [
    {
     "name": "stdout",
     "output_type": "stream",
     "text": [
      "(0, 101)\n",
      "(0, 5)\n",
      "(0, 107)\n"
     ]
    }
   ],
   "source": [
    "dt=pd.read_excel(\"PETITE.xlsx\",dtype= {'感謝您的寶貴意見! 為確保您的權益，請完整填入您的手機號碼，以利HOLA做點數的匯入。' : str})\n",
    "mp=pd.read_excel(mp_data,sheet_name='Petite',dtype='str')\n",
    "mp=mp.replace(np.nan,'NULL')\n",
    "first_col=pd.DataFrame(data={'月份':month*len(dt.index),'NO':dt.index+1})\n",
    "dt_new=pd.concat([first_col,dt,mp.iloc[:,list(range(1,len(mp.columns)))]],axis=1)\n",
    "dt_new.to_excel(writer, sheet_name='Petite'+' '+st_name,index=0)\n",
    "\n",
    "print(dt.shape)\n",
    "print(mp.shape)\n",
    "print(dt_new.shape)"
   ]
  },
  {
   "cell_type": "code",
   "execution_count": null,
   "metadata": {},
   "outputs": [],
   "source": []
  },
  {
   "cell_type": "code",
   "execution_count": 159,
   "metadata": {},
   "outputs": [
    {
     "name": "stdout",
     "output_type": "stream",
     "text": [
      "(4, 114)\n",
      "(4, 5)\n",
      "(4, 120)\n"
     ]
    }
   ],
   "source": [
    "dt=pd.read_excel(\"PETITE(app).xlsx\")\n",
    "mp=pd.read_excel(mp_data,sheet_name='Petite(APP)',dtype='str')\n",
    "mp=mp.replace(np.nan,'NULL')\n",
    "first_col=pd.DataFrame(data={'月份':month*len(dt.index),'NO':dt.index+1})\n",
    "dt_new=pd.concat([first_col,dt,mp.iloc[:,list(range(1,len(mp.columns)))]],axis=1)\n",
    "dt_new.to_excel(writer, sheet_name='Petite(APP)'+' '+st_name,index=0)\n",
    "\n",
    "print(dt.shape)\n",
    "print(mp.shape)\n",
    "print(dt_new.shape)"
   ]
  },
  {
   "cell_type": "code",
   "execution_count": null,
   "metadata": {},
   "outputs": [],
   "source": []
  },
  {
   "cell_type": "code",
   "execution_count": 160,
   "metadata": {},
   "outputs": [
    {
     "name": "stdout",
     "output_type": "stream",
     "text": [
      "(526, 53)\n",
      "(526, 10)\n",
      "(526, 64)\n"
     ]
    }
   ],
   "source": [
    "dt=pd.read_excel(\"TLW.xlsx\",dtype= {'感謝您的寶貴意見! 為確保您的權益，請完整填入您的手機號碼，以利特力屋做點數的匯入。' : str})\n",
    "mp=pd.read_excel(mp_data,sheet_name='TLW',dtype='str')\n",
    "mp=mp.replace(np.nan,'NULL')\n",
    "first_col=pd.DataFrame(data={'月份':month*len(dt.index),'NO':dt.index+1})\n",
    "dt_new=pd.concat([first_col,dt,mp.iloc[:,list(range(1,len(mp.columns)))]],axis=1)\n",
    "dt_new.to_excel(writer, sheet_name='TLW'+' '+st_name,index=0)\n",
    "\n",
    "print(dt.shape)\n",
    "print(mp.shape)\n",
    "print(dt_new.shape)"
   ]
  },
  {
   "cell_type": "code",
   "execution_count": null,
   "metadata": {},
   "outputs": [],
   "source": []
  },
  {
   "cell_type": "code",
   "execution_count": 161,
   "metadata": {},
   "outputs": [
    {
     "name": "stdout",
     "output_type": "stream",
     "text": [
      "(321, 67)\n",
      "(321, 11)\n",
      "(321, 79)\n"
     ]
    }
   ],
   "source": [
    "dt=pd.read_excel(\"TLW(app).xlsx\")\n",
    "mp=pd.read_excel(mp_data,sheet_name='TLW(APP)',dtype='str')\n",
    "mp=mp.replace(np.nan,'NULL')\n",
    "first_col=pd.DataFrame(data={'月份':month*len(dt.index),'NO':dt.index+1})\n",
    "dt_new=pd.concat([first_col,dt,mp.iloc[:,list(range(1,len(mp.columns)))]],axis=1)\n",
    "dt_new.to_excel(writer, sheet_name='TLW(APP)'+' '+st_name,index=0)\n",
    "\n",
    "print(dt.shape)\n",
    "print(mp.shape)\n",
    "print(dt_new.shape)"
   ]
  },
  {
   "cell_type": "code",
   "execution_count": null,
   "metadata": {},
   "outputs": [],
   "source": []
  },
  {
   "cell_type": "code",
   "execution_count": 162,
   "metadata": {},
   "outputs": [
    {
     "name": "stdout",
     "output_type": "stream",
     "text": [
      "(17, 48)\n",
      "(17, 10)\n",
      "(17, 59)\n"
     ]
    }
   ],
   "source": [
    "dt=pd.read_excel(\"TLW社區店.xlsx\",dtype= {'感謝您的寶貴意見! 為確保您的權益，請完整填入您的手機號碼，以利特力屋做點數的匯入。' : str})\n",
    "mp=pd.read_excel(mp_data,sheet_name='TLW社區店',dtype='str')\n",
    "mp=mp.replace(np.nan,'NULL')\n",
    "first_col=pd.DataFrame(data={'月份':month*len(dt.index),'NO':dt.index+1})\n",
    "dt_new=pd.concat([first_col,dt,mp.iloc[:,list(range(1,len(mp.columns)))]],axis=1)\n",
    "dt_new.to_excel(writer, sheet_name='TLW社區店'+' '+st_name,index=0)\n",
    "\n",
    "print(dt.shape)\n",
    "print(mp.shape)\n",
    "print(dt_new.shape)"
   ]
  },
  {
   "cell_type": "code",
   "execution_count": null,
   "metadata": {},
   "outputs": [],
   "source": []
  },
  {
   "cell_type": "code",
   "execution_count": 163,
   "metadata": {},
   "outputs": [
    {
     "name": "stdout",
     "output_type": "stream",
     "text": [
      "(83, 70)\n",
      "(83, 11)\n",
      "(83, 82)\n"
     ]
    }
   ],
   "source": [
    "dt=pd.read_excel(\"TLW社區店(app).xlsx\")\n",
    "mp=pd.read_excel(mp_data,sheet_name='TLW社區店(APP)',dtype='str')\n",
    "mp=mp.replace(np.nan,'NULL')\n",
    "first_col=pd.DataFrame(data={'月份':month*len(dt.index),'NO':dt.index+1})\n",
    "dt_new=pd.concat([first_col,dt,mp.iloc[:,list(range(1,len(mp.columns)))]],axis=1)\n",
    "dt_new.to_excel(writer, sheet_name='TLW社區店(APP)'+' '+st_name,index=0)\n",
    "\n",
    "print(dt.shape)\n",
    "print(mp.shape)\n",
    "print(dt_new.shape)"
   ]
  },
  {
   "cell_type": "code",
   "execution_count": null,
   "metadata": {},
   "outputs": [],
   "source": []
  },
  {
   "cell_type": "code",
   "execution_count": 164,
   "metadata": {},
   "outputs": [
    {
     "name": "stdout",
     "output_type": "stream",
     "text": [
      "(2, 73)\n",
      "(2, 2)\n",
      "(2, 76)\n"
     ]
    }
   ],
   "source": [
    "dt=pd.read_excel(\"DH.xlsx\",dtype= {'請填入您的手機號碼' : str})\n",
    "mp=pd.read_excel(mp_data,sheet_name='DH',dtype='str')\n",
    "mp=mp.replace(np.nan,'NULL')\n",
    "first_col=pd.DataFrame(data={'月份':month*len(dt.index),'NO':dt.index+1})\n",
    "dt_new=pd.concat([first_col,dt,mp.iloc[:,list(range(1,len(mp.columns)))]],axis=1)\n",
    "dt_new.to_excel(writer, sheet_name='DH'+' '+st_name,index=0)\n",
    "\n",
    "print(dt.shape)\n",
    "print(mp.shape)\n",
    "print(dt_new.shape)"
   ]
  },
  {
   "cell_type": "code",
   "execution_count": null,
   "metadata": {},
   "outputs": [],
   "source": []
  },
  {
   "cell_type": "code",
   "execution_count": 165,
   "metadata": {},
   "outputs": [
    {
     "name": "stdout",
     "output_type": "stream",
     "text": [
      "(2, 31)\n",
      "(2, 1)\n",
      "(2, 34)\n"
     ]
    }
   ],
   "source": [
    "dt=pd.read_excel(\"FR.xlsx\",dtype= {'手機' : str})\n",
    "mp=pd.read_excel(mp_data,sheet_name='BA',dtype='str')\n",
    "mp=mp.replace(np.nan,'NULL')\n",
    "mp=pd.DataFrame(mp.loc[:,'Staff'][mp['Channel']=='FR'])\n",
    "first_col=pd.DataFrame(data={'月份':[month[0]-1]*len(dt.index),'NO':dt.index+1})\n",
    "dt_new=pd.concat([first_col,dt,mp],axis=1)\n",
    "dt_new.to_excel(writer, sheet_name='FR'+' '+st_name_BA,index=0)\n",
    "\n",
    "print(dt.shape)\n",
    "print(mp.shape)\n",
    "print(dt_new.shape)"
   ]
  },
  {
   "cell_type": "code",
   "execution_count": null,
   "metadata": {},
   "outputs": [],
   "source": []
  },
  {
   "cell_type": "code",
   "execution_count": 166,
   "metadata": {},
   "outputs": [
    {
     "name": "stdout",
     "output_type": "stream",
     "text": [
      "(0, 39)\n",
      "(0, 1)\n",
      "(0, 42)\n"
     ]
    }
   ],
   "source": [
    "dt=pd.read_excel(\"WMF.xlsx\",dtype= {'手機' : str})\n",
    "mp=pd.read_excel(mp_data,sheet_name='BA',dtype='str')\n",
    "mp=mp.replace(np.nan,'NULL')\n",
    "mp=pd.DataFrame(mp.loc[:,'Staff'][mp['Channel']=='WMF'])\n",
    "mp.index=dt.index\n",
    "first_col=pd.DataFrame(data={'月份':[month[0]-1]*len(dt.index),'NO':dt.index+1})\n",
    "dt_new=pd.concat([first_col,dt,mp],axis=1)\n",
    "dt_new.to_excel(writer, sheet_name='WMF'+' '+st_name_BA,index=0)\n",
    "\n",
    "print(dt.shape)\n",
    "print(mp.shape)\n",
    "print(dt_new.shape)"
   ]
  },
  {
   "cell_type": "code",
   "execution_count": null,
   "metadata": {},
   "outputs": [],
   "source": []
  },
  {
   "cell_type": "code",
   "execution_count": 167,
   "metadata": {},
   "outputs": [
    {
     "name": "stdout",
     "output_type": "stream",
     "text": [
      "(27, 31)\n",
      "(27, 1)\n",
      "(27, 34)\n"
     ]
    }
   ],
   "source": [
    "dt=pd.read_excel(\"WW.xlsx\",dtype= {'手機' : str})\n",
    "mp=pd.read_excel(mp_data,sheet_name='BA',dtype='str')\n",
    "mp=mp.replace(np.nan,'NULL')\n",
    "mp=pd.DataFrame(mp.loc[:,'Staff'][mp['Channel']=='WW'])\n",
    "mp.index=dt.index\n",
    "first_col=pd.DataFrame(data={'月份':[month[0]-1]*len(dt.index),'NO':dt.index+1})\n",
    "dt_new=pd.concat([first_col,dt,mp],axis=1)\n",
    "dt_new.to_excel(writer, sheet_name='WW'+' '+st_name_BA,index=0)\n",
    "\n",
    "print(dt.shape)\n",
    "print(mp.shape)\n",
    "print(dt_new.shape)"
   ]
  },
  {
   "cell_type": "code",
   "execution_count": null,
   "metadata": {},
   "outputs": [],
   "source": []
  },
  {
   "cell_type": "code",
   "execution_count": 168,
   "metadata": {},
   "outputs": [],
   "source": [
    "dotdot=pd.DataFrame(columns=['通路','TYPE','MON.','CARD_NO','Staff'])\n",
    "mp=pd.read_excel(mp_data,sheet_name='TLW',dtype='str')\n",
    "QR_APP=mp.loc[:,['Card_No','Staff']].reset_index(drop=True)\n",
    "QR_APP.columns=['CARD_NO','Staff']\n",
    "QR_APP['通路']='TLW'\n",
    "QR_APP['TYPE']='QRcode'\n",
    "dotdot=pd.concat([dotdot,QR_APP])\n",
    "\n",
    "mp=pd.read_excel(mp_data,sheet_name='TLW(APP)',dtype='str')\n",
    "QR_APP=mp.loc[:,['Card_no','Staff']].reset_index(drop=True)\n",
    "QR_APP.columns=['CARD_NO','Staff']\n",
    "QR_APP['通路']='TLW'\n",
    "QR_APP['TYPE']='App'\n",
    "dotdot=pd.concat([dotdot,QR_APP])\n",
    "\n",
    "mp=pd.read_excel(mp_data,sheet_name='TLW社區店',dtype='str')\n",
    "QR_APP=mp.loc[:,['Card_No','Staff']].reset_index(drop=True)\n",
    "QR_APP.columns=['CARD_NO','Staff']\n",
    "QR_APP['通路']='TLW社區店'\n",
    "QR_APP['TYPE']='QRcode'\n",
    "dotdot=pd.concat([dotdot,QR_APP])\n",
    "\n",
    "mp=pd.read_excel(mp_data,sheet_name='TLW社區店(APP)',dtype='str')\n",
    "QR_APP=mp.loc[:,['Card_no','Staff']].reset_index(drop=True)\n",
    "QR_APP.columns=['CARD_NO','Staff']\n",
    "QR_APP['通路']='TLW社區店'\n",
    "QR_APP['TYPE']='App'\n",
    "dotdot=pd.concat([dotdot,QR_APP])\n",
    "\n",
    "dotdot['MON.']=st_name\n",
    "dotdot=dotdot[(-dotdot.CARD_NO.isna())&(dotdot.Staff.isna())].reset_index(drop=True)\n",
    "dotdot=dotdot.drop_duplicates(subset=['CARD_NO'],keep='first').reset_index(drop=True)\n",
    "\n",
    "TLW=dotdot.copy()\n",
    "TLW['']=''\n",
    "TLW=TLW.set_index('').reset_index()"
   ]
  },
  {
   "cell_type": "code",
   "execution_count": 169,
   "metadata": {},
   "outputs": [],
   "source": [
    "dotdot=pd.DataFrame(columns=['通路','TYPE','MON.','CARD_NO','Staff'])\n",
    "mp=pd.read_excel(mp_data,sheet_name='HOLA',dtype='str')\n",
    "QR_APP=mp.loc[:,['Card_No','Staff']].reset_index(drop=True)\n",
    "QR_APP.columns=['CARD_NO','Staff']\n",
    "QR_APP['通路']='HOLA'\n",
    "QR_APP['TYPE']='QRcode'\n",
    "dotdot=pd.concat([dotdot,QR_APP])\n",
    "\n",
    "mp=pd.read_excel(mp_data,sheet_name='HOLA(APP)',dtype='str')\n",
    "QR_APP=mp.loc[:,['Card_No','Staff']].reset_index(drop=True)\n",
    "QR_APP.columns=['CARD_NO','Staff']\n",
    "QR_APP['通路']='HOLA'\n",
    "QR_APP['TYPE']='App'\n",
    "dotdot=pd.concat([dotdot,QR_APP])\n",
    "\n",
    "\n",
    "dotdot['MON.']=st_name\n",
    "dotdot=dotdot[(-dotdot.CARD_NO.isna())&(dotdot.Staff.isna())].reset_index(drop=True)\n",
    "dotdot=dotdot.drop_duplicates(subset=['CARD_NO'],keep='first').reset_index(drop=True)\n",
    "\n",
    "HOLA=dotdot.copy()\n",
    "HOLA['']=''\n",
    "HOLA=HOLA.set_index('').reset_index()"
   ]
  },
  {
   "cell_type": "code",
   "execution_count": 170,
   "metadata": {},
   "outputs": [],
   "source": [
    "dotdot=pd.DataFrame(columns=['通路','TYPE','MON.','CARD_NO','Staff'])\n",
    "mp=pd.read_excel(mp_data,sheet_name='CASA',dtype='str')\n",
    "QR_APP=mp.loc[:,['Card_no','Staff']].reset_index(drop=True)\n",
    "QR_APP.columns=['CARD_NO','Staff']\n",
    "QR_APP['通路']='CASA'\n",
    "QR_APP['TYPE']='QRcode'\n",
    "dotdot=pd.concat([dotdot,QR_APP])\n",
    "\n",
    "mp=pd.read_excel(mp_data,sheet_name='CASA(APP)',dtype='str')\n",
    "QR_APP=mp.loc[:,['Card_No','Staff']].reset_index(drop=True)\n",
    "QR_APP.columns=['CARD_NO','Staff']\n",
    "QR_APP['通路']='CASA'\n",
    "QR_APP['TYPE']='App'\n",
    "dotdot=pd.concat([dotdot,QR_APP])\n",
    "\n",
    "\n",
    "dotdot['MON.']=st_name\n",
    "dotdot=dotdot[(-dotdot.CARD_NO.isna())&(dotdot.Staff.isna())].reset_index(drop=True)\n",
    "dotdot=dotdot.drop_duplicates(subset=['CARD_NO'],keep='first').reset_index(drop=True)\n",
    "\n",
    "CASA=dotdot.copy()\n",
    "CASA['']=''\n",
    "CASA=CASA.set_index('').reset_index()"
   ]
  },
  {
   "cell_type": "code",
   "execution_count": 171,
   "metadata": {},
   "outputs": [],
   "source": [
    "dotdot=pd.DataFrame(columns=['通路','TYPE','MON.','CARD_NO','Staff'])\n",
    "mp=pd.read_excel(mp_data,sheet_name='Petite',dtype='str')\n",
    "QR_APP=mp.loc[:,['Card_No','Staff']].reset_index(drop=True)\n",
    "QR_APP.columns=['CARD_NO','Staff']\n",
    "QR_APP['通路']='Petite'\n",
    "QR_APP['TYPE']='QRcode'\n",
    "dotdot=pd.concat([dotdot,QR_APP])\n",
    "\n",
    "mp=pd.read_excel(mp_data,sheet_name='Petite(APP)',dtype='str')\n",
    "QR_APP=mp.loc[:,['Card_No','Staff']].reset_index(drop=True)\n",
    "QR_APP.columns=['CARD_NO','Staff']\n",
    "QR_APP['通路']='Petite'\n",
    "QR_APP['TYPE']='App'\n",
    "dotdot=pd.concat([dotdot,QR_APP])\n",
    "\n",
    "\n",
    "dotdot['MON.']=st_name\n",
    "dotdot=dotdot[(-dotdot.CARD_NO.isna())&(dotdot.Staff.isna())].reset_index(drop=True)\n",
    "dotdot=dotdot.drop_duplicates(subset=['CARD_NO'],keep='first').reset_index(drop=True)\n",
    "\n",
    "Petite=dotdot.copy()\n",
    "Petite['']=''\n",
    "Petite=Petite.set_index('').reset_index()"
   ]
  },
  {
   "cell_type": "code",
   "execution_count": 172,
   "metadata": {},
   "outputs": [],
   "source": [
    "dotdot=pd.DataFrame(columns=['通路','TYPE','MON.','CARD_NO','Staff'])\n",
    "mp=pd.read_excel(mp_data,sheet_name='HOI',dtype='str')\n",
    "QR_APP=mp.loc[:,['Card_No','Staff']].reset_index(drop=True)\n",
    "QR_APP.columns=['CARD_NO','Staff']\n",
    "QR_APP['通路']='hoi!'\n",
    "QR_APP['TYPE']='QRcode'\n",
    "dotdot=pd.concat([dotdot,QR_APP])\n",
    "\n",
    "\n",
    "dotdot['MON.']=st_name\n",
    "dotdot=dotdot[(-dotdot.CARD_NO.isna())&(dotdot.Staff.isna())].reset_index(drop=True)\n",
    "dotdot=dotdot.drop_duplicates(subset=['CARD_NO'],keep='first').reset_index(drop=True)\n",
    "\n",
    "HOI=dotdot.copy()\n",
    "HOI['']=''\n",
    "HOI=HOI.set_index('').reset_index()"
   ]
  },
  {
   "cell_type": "code",
   "execution_count": 173,
   "metadata": {},
   "outputs": [],
   "source": [
    "dotdot=pd.concat([TLW,HOLA,CASA,Petite,HOI], axis=1)\n",
    "dotdot.to_excel(writer, sheet_name='匯點'+' '+st_name,index=0)"
   ]
  },
  {
   "cell_type": "code",
   "execution_count": null,
   "metadata": {},
   "outputs": [],
   "source": []
  },
  {
   "cell_type": "code",
   "execution_count": null,
   "metadata": {},
   "outputs": [],
   "source": []
  },
  {
   "cell_type": "code",
   "execution_count": null,
   "metadata": {},
   "outputs": [],
   "source": []
  },
  {
   "cell_type": "code",
   "execution_count": 174,
   "metadata": {},
   "outputs": [],
   "source": [
    "writer.save()"
   ]
  },
  {
   "cell_type": "code",
   "execution_count": null,
   "metadata": {},
   "outputs": [],
   "source": []
  },
  {
   "cell_type": "markdown",
   "metadata": {},
   "source": [
    "# EC~~~~"
   ]
  },
  {
   "cell_type": "code",
   "execution_count": 5,
   "metadata": {},
   "outputs": [],
   "source": [
    "import os\n",
    "os.chdir(r'D:\\Users\\RT009223\\Desktop\\Gallon工作用\\07_全集團滿意度(CS)\\02_每月 Raw data\\202007\\EC\\raw data')"
   ]
  },
  {
   "cell_type": "code",
   "execution_count": 6,
   "metadata": {},
   "outputs": [],
   "source": [
    "mp_data=\"D:/Users/RT009223/Desktop/Gallon工作用/07_全集團滿意度(CS)/03_每月完整資料檔 Update/7月/滿意度 Mapping 資料_2020.7月.xlsx\""
   ]
  },
  {
   "cell_type": "code",
   "execution_count": 30,
   "metadata": {},
   "outputs": [
    {
     "name": "stdout",
     "output_type": "stream",
     "text": [
      "2007\n"
     ]
    }
   ],
   "source": [
    "import datetime\n",
    "datetime.date.today().month\n",
    "month=[datetime.date.today().month-1]\n",
    "st_name='20'+str(month[0]).zfill(2)\n",
    "print(st_name)"
   ]
  },
  {
   "cell_type": "markdown",
   "metadata": {},
   "source": [
    "# 設定檔案存放位置和檔名(檔名和之前的不要重複)"
   ]
  },
  {
   "cell_type": "code",
   "execution_count": 8,
   "metadata": {},
   "outputs": [],
   "source": [
    "writer = pd.ExcelWriter(r'D:\\Users\\RT009223\\Desktop\\Gallon工作用\\07_全集團滿意度(CS)\\03_每月完整資料檔 Update\\7月\\滿意度test(EC).xlsx', engine='xlsxwriter')"
   ]
  },
  {
   "cell_type": "code",
   "execution_count": null,
   "metadata": {},
   "outputs": [],
   "source": []
  },
  {
   "cell_type": "code",
   "execution_count": 9,
   "metadata": {},
   "outputs": [],
   "source": [
    "dt=pd.read_excel(\"EC(蛋黃).xlsx\")\n",
    "mp=pd.read_excel(mp_data,sheet_name='TR+(蛋黃 ALL)',dtype='str')\n",
    "mp=mp.replace(np.nan,'NULL')\n",
    "first_col=pd.DataFrame(data={'月份':month*len(dt.index),'NO':dt.index+1})\n",
    "dt_new=pd.concat([first_col,dt,mp.iloc[:,list(range(1,len(mp.columns)))]],axis=1)\n",
    "dt_new.to_excel(writer, sheet_name='EC (蛋黃)'+' '+st_name,index=0)\n",
    "\n",
    "print(dt.shape)\n",
    "print(mp.shape)\n",
    "print(dt_new.shape)"
   ]
  },
  {
   "cell_type": "code",
   "execution_count": null,
   "metadata": {},
   "outputs": [],
   "source": []
  },
  {
   "cell_type": "code",
   "execution_count": 10,
   "metadata": {},
   "outputs": [],
   "source": [
    "dt=pd.read_excel(\"EC(蛋白).xlsx\",dtype= {'會員手機' : str})\n",
    "mp=pd.read_excel(mp_data,sheet_name='TR+(蛋白)',dtype='str')\n",
    "mp=mp.replace(np.nan,'NULL')\n",
    "first_col=pd.DataFrame(data={'月份':month*len(dt.index),'NO':dt.index+1})\n",
    "dt_new=pd.concat([first_col,dt,mp.iloc[:,list(range(1,len(mp.columns)))]],axis=1)\n",
    "dt_new.to_excel(writer, sheet_name='EC (蛋白)'+' '+st_name,index=0)\n",
    "\n",
    "print(dt.shape)\n",
    "print(mp.shape)\n",
    "print(dt_new.shape)"
   ]
  },
  {
   "cell_type": "code",
   "execution_count": null,
   "metadata": {},
   "outputs": [],
   "source": []
  },
  {
   "cell_type": "code",
   "execution_count": 11,
   "metadata": {},
   "outputs": [],
   "source": [
    "dt=pd.read_excel(\"EC(蛋殼).xlsx\",dtype= {'會員手機' : str})\n",
    "mp=pd.read_excel(mp_data,sheet_name='TR+(蛋殼)',dtype='str')\n",
    "mp=mp.replace(np.nan,'NULL')\n",
    "first_col=pd.DataFrame(data={'月份':month*len(dt.index),'NO':dt.index+1})\n",
    "dt_new=pd.concat([first_col,dt,mp.iloc[:,list(range(1,len(mp.columns)))]],axis=1)\n",
    "dt_new.to_excel(writer, sheet_name='EC (蛋殼)'+' '+st_name,index=0)\n",
    "\n",
    "print(dt.shape)\n",
    "print(mp.shape)\n",
    "print(dt_new.shape)"
   ]
  },
  {
   "cell_type": "code",
   "execution_count": null,
   "metadata": {},
   "outputs": [],
   "source": []
  },
  {
   "cell_type": "code",
   "execution_count": 12,
   "metadata": {},
   "outputs": [],
   "source": [
    "writer.save()"
   ]
  },
  {
   "cell_type": "code",
   "execution_count": null,
   "metadata": {},
   "outputs": [],
   "source": []
  }
 ],
 "metadata": {
  "kernelspec": {
   "display_name": "Python 3",
   "language": "python",
   "name": "python3"
  },
  "language_info": {
   "codemirror_mode": {
    "name": "ipython",
    "version": 3
   },
   "file_extension": ".py",
   "mimetype": "text/x-python",
   "name": "python",
   "nbconvert_exporter": "python",
   "pygments_lexer": "ipython3",
   "version": "3.7.6"
  }
 },
 "nbformat": 4,
 "nbformat_minor": 4
}

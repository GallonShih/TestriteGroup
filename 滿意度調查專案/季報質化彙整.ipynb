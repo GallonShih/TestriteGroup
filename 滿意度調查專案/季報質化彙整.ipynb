{
 "cells": [
  {
   "cell_type": "code",
   "execution_count": 1,
   "metadata": {},
   "outputs": [],
   "source": [
    "%matplotlib inline\n",
    "import numpy as np\n",
    "import pandas as pd\n",
    "import matplotlib.pyplot as plt"
   ]
  },
  {
   "cell_type": "markdown",
   "metadata": {},
   "source": [
    "# 設定工作環境為質化月報的資料夾"
   ]
  },
  {
   "cell_type": "code",
   "execution_count": 2,
   "metadata": {},
   "outputs": [],
   "source": [
    "import os\n",
    "os.chdir(r'D:\\Users\\RT009223\\Desktop\\Gallon工作用\\07_全集團滿意度(CS)\\05_質化月報\\6月')"
   ]
  },
  {
   "cell_type": "code",
   "execution_count": 3,
   "metadata": {},
   "outputs": [],
   "source": [
    "files=os.listdir(r'D:\\Users\\RT009223\\Desktop\\Gallon工作用\\07_全集團滿意度(CS)\\05_質化月報\\6月')"
   ]
  },
  {
   "cell_type": "markdown",
   "metadata": {},
   "source": [
    "# 設定季度的起迄月"
   ]
  },
  {
   "cell_type": "code",
   "execution_count": 4,
   "metadata": {},
   "outputs": [],
   "source": [
    "start_Month=4\n",
    "end_Month=6"
   ]
  },
  {
   "cell_type": "code",
   "execution_count": 5,
   "metadata": {},
   "outputs": [],
   "source": [
    "select_m=range(start_Month-1,end_Month)"
   ]
  },
  {
   "cell_type": "code",
   "execution_count": null,
   "metadata": {},
   "outputs": [],
   "source": []
  },
  {
   "cell_type": "code",
   "execution_count": 6,
   "metadata": {},
   "outputs": [
    {
     "name": "stdout",
     "output_type": "stream",
     "text": [
      "Index(['相關面向 ', '門店', '客人建議之處', '填答時間'], dtype='object')\n",
      "5\n",
      "2020_C&B CS_消費者質化回饋(每月追蹤).xlsx\n",
      "Index(['相關面向 ', '門店 ', '客人建議之處', '填答時間'], dtype='object')\n",
      "5\n",
      "2020_CASA CS_消費者質化回饋(每月追蹤).xlsx\n",
      "Index(['相關面向 ', '門店 ', '客人建議之處', '填答時間'], dtype='object')\n",
      "5\n",
      "2020_CASA(APP) CS_消費者質化回饋(每月追蹤).xlsx\n",
      "Index(['相關面向 ', '門店 ', '客人建議之處', '填答時間'], dtype='object')\n",
      "5\n",
      "2020_Frette CS_消費者質化回饋(每月追蹤).xlsx\n",
      "Index(['相關面向 ', '門店 ', '客人建議之處', '填答時間'], dtype='object')\n",
      "5\n",
      "2020_hoi! CS_消費者質化回饋(每月追蹤).xlsx\n",
      "Index(['相關面向 ', '門店 ', '客人建議之處', '填答時間'], dtype='object')\n",
      "5\n",
      "2020_HOLA CS_消費者質化回饋(每月追蹤).xlsx\n",
      "Index(['相關面向 ', '門店 ', '客人建議之處', '填答時間'], dtype='object')\n",
      "5\n",
      "2020_HOLA(APP) CS_消費者質化回饋(每月追蹤).xlsx\n",
      "Index(['相關面向 ', '門店 ', '客人建議之處', '填答時間'], dtype='object')\n",
      "5\n",
      "2020_Petite CS_消費者質化回饋(每月追蹤).xlsx\n",
      "Index(['相關面向 ', '門店 ', '客人建議之處', '填答時間'], dtype='object')\n",
      "5\n",
      "2020_Petite(APP) CS_消費者質化回饋(每月追蹤).xlsx\n",
      "Index(['相關面向 ', '門店', '客人建議之處', '填答時間'], dtype='object')\n",
      "5\n",
      "2020_TLW CS_消費者質化回饋(每月追蹤).xlsx\n",
      "Index(['相關面向 ', '門店 ', '客人建議之處', '填答時間'], dtype='object')\n",
      "5\n",
      "2020_TLW(APP) CS_消費者質化回饋(每月追蹤).xlsx\n",
      "Index(['相關面向 ', '門店', '客人建議之處', '填答時間'], dtype='object')\n",
      "5\n",
      "2020_TLW社區店 CS_消費者質化回饋(每月追蹤).xlsx\n",
      "Index(['相關面向 ', '門店 ', '客人建議之處', '填答時間'], dtype='object')\n",
      "5\n",
      "2020_TLW社區店(APP) CS_消費者質化回饋(每月追蹤).xlsx\n",
      "Index(['相關面向 ', '門店 ', '客人建議之處', '填答時間'], dtype='object')\n",
      "5\n",
      "2020_WMF CS_消費者質化回饋(每月追蹤).xlsx\n",
      "Index(['相關面向 ', '門店 ', '客人建議之處', '填答時間'], dtype='object')\n",
      "5\n",
      "2020_WW CS_消費者質化回饋(每月追蹤).xlsx\n",
      "Index(['相關面向 ', '客人建議之處', '填答時間', '訂單編號'], dtype='object')\n",
      "Index(['相關面向 ', '客人建議之處', '填答時間', '訂單編號'], dtype='object')\n",
      "Index(['相關面向 ', '客人建議之處', '填答時間', '訂單編號'], dtype='object')\n",
      "Index(['相關面向 ', '門店 ', '客人建議之處', '填答時間'], dtype='object')\n",
      "5\n",
      "2020_特力家居 CS 消費者質化回饋(每月追蹤).xlsx\n"
     ]
    }
   ],
   "source": [
    "mp_dt=pd.DataFrame(columns=['相關面向','門店','客人建議之處','填答時間','Channel'])\n",
    "for i in files:\n",
    "    xl = pd.ExcelFile(i)\n",
    "    df1,df2,df3=pd.read_excel(i,sheet_name=xl.sheet_names[select_m[0]]),pd.read_excel(i,sheet_name=xl.sheet_names[select_m[1]]),pd.read_excel(i,sheet_name=xl.sheet_names[select_m[2]])\n",
    "    df1=df1.iloc[:,:4]\n",
    "    df2=df2.iloc[:,:4]\n",
    "    df3=df3.iloc[:,:4]\n",
    "    print(df1.columns)\n",
    "    if i in files[15:18]:\n",
    "        continue\n",
    "    df1.columns=['相關面向','門店','客人建議之處','填答時間']\n",
    "    df2.columns=['相關面向','門店','客人建議之處','填答時間']\n",
    "    df3.columns=['相關面向','門店','客人建議之處','填答時間']\n",
    "    df=pd.concat([df1,df2,df3])\n",
    "    df['Channel']=i[5:len(i)-22]\n",
    "    mp_dt=pd.concat([mp_dt,df],axis=0)\n",
    "    print(len(mp_dt.columns))\n",
    "    print(i)"
   ]
  },
  {
   "cell_type": "code",
   "execution_count": 7,
   "metadata": {},
   "outputs": [
    {
     "name": "stdout",
     "output_type": "stream",
     "text": [
      "Index(['相關面向 ', '客人建議之處', '填答時間', '訂單編號'], dtype='object')\n",
      "5\n",
      "2020_特力+(蛋殼) CS_消費者質化回饋(每月追蹤).xlsx\n",
      "Index(['相關面向 ', '客人建議之處', '填答時間', '訂單編號'], dtype='object')\n",
      "5\n",
      "2020_特力+(蛋白) CS_消費者質化回饋(每月追蹤).xlsx\n",
      "Index(['相關面向 ', '客人建議之處', '填答時間', '訂單編號'], dtype='object')\n",
      "5\n",
      "2020_特力+(蛋黃) CS_消費者質化回饋(每月追蹤).xlsx\n"
     ]
    }
   ],
   "source": [
    "EC_dt=pd.DataFrame(columns=['相關面向','客人建議之處','填答時間','訂單編號','Channel'])\n",
    "for i in files[15:18]:\n",
    "    xl = pd.ExcelFile(i)\n",
    "    df1,df2,df3=pd.read_excel(i,sheet_name=xl.sheet_names[select_m[0]]),pd.read_excel(i,sheet_name=xl.sheet_names[select_m[1]]),pd.read_excel(i,sheet_name=xl.sheet_names[select_m[2]])\n",
    "    df1=df1.iloc[:,:4]\n",
    "    df2=df2.iloc[:,:4]\n",
    "    df3=df3.iloc[:,:4]\n",
    "    print(df1.columns)\n",
    "    \n",
    "    df1.columns=['相關面向','客人建議之處','填答時間','訂單編號']\n",
    "    df2.columns=['相關面向','客人建議之處','填答時間','訂單編號']\n",
    "    df3.columns=['相關面向','客人建議之處','填答時間','訂單編號']\n",
    "    df=pd.concat([df1,df2,df3])\n",
    "    df['Channel']=i[5:len(i)-22]\n",
    "    EC_dt=pd.concat([EC_dt,df],axis=0)\n",
    "    print(len(EC_dt.columns))\n",
    "    print(i)"
   ]
  },
  {
   "cell_type": "code",
   "execution_count": 8,
   "metadata": {},
   "outputs": [],
   "source": [
    "mp_dt.dropna(inplace=True)\n",
    "EC_dt.dropna(inplace=True)"
   ]
  },
  {
   "cell_type": "code",
   "execution_count": null,
   "metadata": {},
   "outputs": [],
   "source": []
  },
  {
   "cell_type": "code",
   "execution_count": 9,
   "metadata": {},
   "outputs": [],
   "source": [
    "writer = pd.ExcelWriter(r'D:\\Users\\RT009223\\Desktop\\Gallon工作用\\07_全集團滿意度(CS)\\07_季報\\Q2\\質化test.xlsx', engine='xlsxwriter')"
   ]
  },
  {
   "cell_type": "code",
   "execution_count": 10,
   "metadata": {},
   "outputs": [],
   "source": [
    "mp_dt.to_excel(writer, sheet_name='各通路(除EC)',index=0)\n",
    "EC_dt.to_excel(writer, sheet_name='EC',index=0)"
   ]
  },
  {
   "cell_type": "code",
   "execution_count": 11,
   "metadata": {},
   "outputs": [],
   "source": [
    "writer.save()"
   ]
  },
  {
   "cell_type": "code",
   "execution_count": null,
   "metadata": {},
   "outputs": [],
   "source": []
  }
 ],
 "metadata": {
  "kernelspec": {
   "display_name": "Python 3",
   "language": "python",
   "name": "python3"
  },
  "language_info": {
   "codemirror_mode": {
    "name": "ipython",
    "version": 3
   },
   "file_extension": ".py",
   "mimetype": "text/x-python",
   "name": "python",
   "nbconvert_exporter": "python",
   "pygments_lexer": "ipython3",
   "version": "3.7.6"
  }
 },
 "nbformat": 4,
 "nbformat_minor": 4
}

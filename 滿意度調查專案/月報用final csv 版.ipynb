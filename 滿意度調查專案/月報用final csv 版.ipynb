{
 "cells": [
  {
   "cell_type": "code",
   "execution_count": 1,
   "metadata": {},
   "outputs": [],
   "source": [
    "%matplotlib inline\n",
    "import numpy as np\n",
    "import pandas as pd\n",
    "import matplotlib.pyplot as plt"
   ]
  },
  {
   "cell_type": "markdown",
   "metadata": {},
   "source": [
    "# 將工作環境設置在SurveyCake的資料夾"
   ]
  },
  {
   "cell_type": "code",
   "execution_count": 2,
   "metadata": {},
   "outputs": [],
   "source": [
    "import os\n",
    "os.chdir(r'D:\\Users\\RT009223\\Desktop\\Gallon工作用\\SurveyCake row data')"
   ]
  },
  {
   "cell_type": "markdown",
   "metadata": {},
   "source": [
    "# 設置存放row data 和 upload data的位置"
   ]
  },
  {
   "cell_type": "code",
   "execution_count": 3,
   "metadata": {},
   "outputs": [],
   "source": [
    "target_path='D:/Users/RT009223/Desktop/Gallon工作用/07_全集團滿意度(CS)/02_每月 Raw data/202007/raw data/'\n",
    "target_path_egg='D:/Users/RT009223/Desktop/Gallon工作用/07_全集團滿意度(CS)/02_每月 Raw data/202007/EC/raw data/'\n",
    "upload_path='D:/Users/RT009223/Desktop/Gallon工作用/07_全集團滿意度(CS)/02_每月 Raw data/202007/'\n",
    "upload_path_egg='D:/Users/RT009223/Desktop/Gallon工作用/07_全集團滿意度(CS)/02_每月 Raw data/202007/EC/'"
   ]
  },
  {
   "cell_type": "markdown",
   "metadata": {},
   "source": [
    "# 設定起迄時間"
   ]
  },
  {
   "cell_type": "code",
   "execution_count": 4,
   "metadata": {},
   "outputs": [],
   "source": [
    "stardate=\"07-01\"\n",
    "enddate=\"07-31\"\n",
    "stardate_EC=\"08-01\"\n",
    "enddate_EC=\"08-31\""
   ]
  },
  {
   "cell_type": "markdown",
   "metadata": {},
   "source": [
    "# 設定upload檔名中的月份"
   ]
  },
  {
   "cell_type": "code",
   "execution_count": 5,
   "metadata": {},
   "outputs": [],
   "source": [
    "upload_Month='202007'\n",
    "upload_Month_BA='202006'"
   ]
  },
  {
   "cell_type": "markdown",
   "metadata": {},
   "source": [
    "# TLW "
   ]
  },
  {
   "cell_type": "markdown",
   "metadata": {},
   "source": [
    "## QR code"
   ]
  },
  {
   "cell_type": "code",
   "execution_count": 9,
   "metadata": {},
   "outputs": [],
   "source": [
    "QRsurvey_1M=pd.read_csv('2020_TLW_QRcode滿意度調查6月.csv')\n",
    "QRsurvey_2M=pd.read_csv('2020_TLW_QRcode滿意度調查7月.csv')\n",
    "QRsurvey_3M=pd.read_csv('2020_TLW_QRcode滿意度調查8月.csv')\n",
    "QRsurvey_2M=pd.concat([QRsurvey_1M,QRsurvey_2M,QRsurvey_3M])"
   ]
  },
  {
   "cell_type": "code",
   "execution_count": 10,
   "metadata": {},
   "outputs": [
    {
     "name": "stderr",
     "output_type": "stream",
     "text": [
      "C:\\ProgramData\\Anaconda3\\lib\\site-packages\\pandas\\core\\indexing.py:965: SettingWithCopyWarning: \n",
      "A value is trying to be set on a copy of a slice from a DataFrame.\n",
      "Try using .loc[row_indexer,col_indexer] = value instead\n",
      "\n",
      "See the caveats in the documentation: https://pandas.pydata.org/pandas-docs/stable/user_guide/indexing.html#returning-a-view-versus-a-copy\n",
      "  self.obj[item] = s\n"
     ]
    }
   ],
   "source": [
    "QRsurvey_2M.index=pd.to_datetime(QRsurvey_2M.填答時間)\n",
    "QRsurvey_2M.填答時間=pd.to_datetime(QRsurvey_2M.填答時間)\n",
    "QRsurvey_2M=QRsurvey_2M.loc['2020-'+stardate:'2020-'+enddate]\n",
    "\n",
    "QRsurvey_2M['date']=QRsurvey_2M['填答時間'].map(lambda x:x.date())\n",
    "QRsurvey_2M['想讚揚之處 ( 人、事、時、地、物)']=QRsurvey_2M['想讚揚之處 ( 人、事、時、地、物)'].astype(str)\n",
    "QRsurvey_2M['想抱怨之處 ( 人、事、時、地、物)']=QRsurvey_2M['想抱怨之處 ( 人、事、時、地、物)'].astype(str)\n",
    "QRsurvey_2M['其他改善建議之處 ( 人、事、時、地、物)']=QRsurvey_2M['其他改善建議之處 ( 人、事、時、地、物)'].astype(str)\n",
    "QRsurvey_2M=QRsurvey_2M.replace('nan','')\n",
    "QRsurvey_2M['resp']=QRsurvey_2M['想讚揚之處 ( 人、事、時、地、物)'].map(lambda x:len(x))+QRsurvey_2M['想抱怨之處 ( 人、事、時、地、物)'].map(lambda x:len(x))+QRsurvey_2M['其他改善建議之處 ( 人、事、時、地、物)'].map(lambda x:len(x))\n",
    "\n",
    "\n",
    "QRsurvey_2M_notna=QRsurvey_2M.loc[-np.isnan(QRsurvey_2M.loc[:,'感謝您的寶貴意見! 為確保您的權益，請完整填入您的手機號碼，以利特力屋做點數的匯入。']),:]\n",
    "QRsurvey_2M_na=QRsurvey_2M.loc[np.isnan(QRsurvey_2M.loc[:,'感謝您的寶貴意見! 為確保您的權益，請完整填入您的手機號碼，以利特力屋做點數的匯入。']),:]\n",
    "\n",
    "\n",
    "QRsurvey_2M_notna.loc[:,'感謝您的寶貴意見! 為確保您的權益，請完整填入您的手機號碼，以利特力屋做點數的匯入。']='0'+QRsurvey_2M_notna['感謝您的寶貴意見! 為確保您的權益，請完整填入您的手機號碼，以利特力屋做點數的匯入。'].map(lambda x:('%.0f')%x)\n",
    "\n",
    "QRsurvey_2M_notna=QRsurvey_2M_notna.sort_values(by=['感謝您的寶貴意見! 為確保您的權益，請完整填入您的手機號碼，以利特力屋做點數的匯入。','date','resp'],ascending=False)\n",
    "\n",
    "QRsurvey_2M_new=QRsurvey_2M_notna.drop_duplicates(subset=['感謝您的寶貴意見! 為確保您的權益，請完整填入您的手機號碼，以利特力屋做點數的匯入。','date'],keep='first')\n",
    "\n",
    "QRsurvey_2M_na.loc[:,'感謝您的寶貴意見! 為確保您的權益，請完整填入您的手機號碼，以利特力屋做點數的匯入。']=0\n",
    "QRsurvey_2M_new=pd.concat([QRsurvey_2M_new,QRsurvey_2M_na])\n",
    "QRsurvey_2M_new=QRsurvey_2M_new.iloc[:,0:-6]\n",
    "\n",
    "writer = pd.ExcelWriter(target_path+'TLW.xlsx', engine='xlsxwriter')\n",
    "QRsurvey_2M_new.to_excel(writer, sheet_name='TLW',index=0)\n",
    "writer.save()"
   ]
  },
  {
   "cell_type": "code",
   "execution_count": 11,
   "metadata": {},
   "outputs": [],
   "source": [
    "QRsurvey_2M_new_upload=QRsurvey_2M_new.loc[:,['填答時間','感謝您的寶貴意見! 為確保您的權益，請完整填入您的手機號碼，以利特力屋做點數的匯入。']]\n",
    "\n",
    "\n",
    "QRsurvey_2M_new_upload.columns=['NO','MOBILE_NO']\n",
    "QRsurvey_2M_new_upload.loc[:,'NO']=range(1,len(QRsurvey_2M_new_upload.loc[:,'NO'])+1)\n",
    "\n",
    "\n",
    "QRsurvey_2M_new_upload.to_csv(upload_path+upload_Month+' TLW 滿意度調查 Upload.csv',index=0)"
   ]
  },
  {
   "cell_type": "markdown",
   "metadata": {},
   "source": [
    "## APP"
   ]
  },
  {
   "cell_type": "code",
   "execution_count": 32,
   "metadata": {},
   "outputs": [],
   "source": [
    "APPsurvey_2M=pd.read_csv('2020_TLW_app滿意度調查.csv')\n",
    "APPsurvey_3M=pd.read_csv('2020_TLW_app滿意度調查old.csv')\n",
    "APPsurvey_3M=APPsurvey_3M.rename(columns={APPsurvey_3M.columns[-7]:APPsurvey_2M.columns[-7]})\n",
    "APPsurvey_2M=pd.concat([APPsurvey_3M,APPsurvey_2M])\n",
    "\n",
    "APPsurvey_2M.index=pd.to_datetime(APPsurvey_2M.填答時間)\n",
    "APPsurvey_2M.填答時間=pd.to_datetime(APPsurvey_2M.填答時間)\n",
    "APPsurvey_2M=APPsurvey_2M.loc['2020-'+stardate:'2020-'+enddate]\n",
    "\n",
    "APPsurvey_2M_new=APPsurvey_2M.iloc[:,0:-4]\n",
    "APPsurvey_2M_new['Mem_ID']=APPsurvey_2M_new.iloc[:,-3].str.slice(start=0,stop=14)\n",
    "APPsurvey_2M_new['Invoice_NO']=APPsurvey_2M_new.iloc[:,-4].str.slice(start=14)\n",
    "APPsurvey_2M_new=APPsurvey_2M_new.iloc[:,list(range(len(APPsurvey_2M_new.columns)-4))+list([len(APPsurvey_2M_new.columns)-2,len(APPsurvey_2M_new.columns)-1,len(APPsurvey_2M_new.columns)-4,len(APPsurvey_2M_new.columns)-3])]\n",
    "\n",
    "writer = pd.ExcelWriter(target_path+'TLW(app).xlsx', engine='xlsxwriter')\n",
    "APPsurvey_2M_new.to_excel(writer, sheet_name='TLW(app)',index=0)\n",
    "writer.save()"
   ]
  },
  {
   "cell_type": "code",
   "execution_count": 33,
   "metadata": {},
   "outputs": [],
   "source": [
    "APPsurvey_2M_new_upload=APPsurvey_2M_new.loc[:,['填答時間','Mem_ID','Invoice_NO']]\n",
    "\n",
    "\n",
    "APPsurvey_2M_new_upload.columns=['NO','MEM_ID','INVOICE_NO']\n",
    "APPsurvey_2M_new_upload.loc[:,'NO']=range(1,len(APPsurvey_2M_new_upload.loc[:,'NO'])+1)\n",
    "\n",
    "\n",
    "APPsurvey_2M_new_upload.to_csv(upload_path+upload_Month+' TLW(APP) 滿意度調查 Upload.csv',index=0)\n"
   ]
  },
  {
   "cell_type": "markdown",
   "metadata": {},
   "source": [
    "# TLW 社區店\n",
    "\n",
    "## QR code "
   ]
  },
  {
   "cell_type": "code",
   "execution_count": 34,
   "metadata": {},
   "outputs": [],
   "source": [
    "QRsurvey_1M=pd.read_csv('2020_TLW社區店_QRcode滿意度調查6月.csv')\n",
    "QRsurvey_2M=pd.read_csv('2020_TLW社區店_QRcode滿意度調查7月.csv')\n",
    "#QRsurvey_3M=pd.read_csv('2020_TLW社區店_QRcode滿意度調查5月.csv')\n",
    "QRsurvey_2M=pd.concat([QRsurvey_1M,QRsurvey_2M])"
   ]
  },
  {
   "cell_type": "code",
   "execution_count": 35,
   "metadata": {},
   "outputs": [],
   "source": [
    "QRsurvey_2M.index=pd.to_datetime(QRsurvey_2M.填答時間)\n",
    "QRsurvey_2M.填答時間=pd.to_datetime(QRsurvey_2M.填答時間)\n",
    "QRsurvey_2M=QRsurvey_2M.loc['2020-'+stardate:'2020-'+enddate]\n",
    "QRsurvey_2M.loc[:,'感謝您的寶貴意見! 為確保您的權益，請完整填入您的手機號碼，以利特力屋做點數的匯入。'][(-np.isnan(QRsurvey_2M.loc[:,'請填寫您的手機']) & np.isnan(QRsurvey_2M.loc[:,'感謝您的寶貴意見! 為確保您的權益，請完整填入您的手機號碼，以利特力屋做點數的匯入。']))]=QRsurvey_2M.loc[:,'請填寫您的手機'][(-np.isnan(QRsurvey_2M.loc[:,'請填寫您的手機']) & np.isnan(QRsurvey_2M.loc[:,'感謝您的寶貴意見! 為確保您的權益，請完整填入您的手機號碼，以利特力屋做點數的匯入。']))]\n",
    "\n",
    "QRsurvey_2M['date']=QRsurvey_2M['填答時間'].map(lambda x:x.date())\n",
    "QRsurvey_2M['想讚揚之處 ( 人、事、時、地、物)']=QRsurvey_2M['想讚揚之處 ( 人、事、時、地、物)'].astype(str)\n",
    "QRsurvey_2M['想抱怨之處 ( 人、事、時、地、物)']=QRsurvey_2M['想抱怨之處 ( 人、事、時、地、物)'].astype(str)\n",
    "QRsurvey_2M['其他改善建議之處 ( 人、事、時、地、物)']=QRsurvey_2M['其他改善建議之處 ( 人、事、時、地、物)'].astype(str)\n",
    "QRsurvey_2M=QRsurvey_2M.replace('nan','')\n",
    "QRsurvey_2M['resp']=QRsurvey_2M['想讚揚之處 ( 人、事、時、地、物)'].map(lambda x:len(x))+QRsurvey_2M['想抱怨之處 ( 人、事、時、地、物)'].map(lambda x:len(x))+QRsurvey_2M['其他改善建議之處 ( 人、事、時、地、物)'].map(lambda x:len(x))\n",
    "\n",
    "\n",
    "QRsurvey_2M_notna=QRsurvey_2M.loc[-np.isnan(QRsurvey_2M.loc[:,'感謝您的寶貴意見! 為確保您的權益，請完整填入您的手機號碼，以利特力屋做點數的匯入。']),:]\n",
    "QRsurvey_2M_na=QRsurvey_2M.loc[np.isnan(QRsurvey_2M.loc[:,'感謝您的寶貴意見! 為確保您的權益，請完整填入您的手機號碼，以利特力屋做點數的匯入。']),:]\n",
    "\n",
    "\n",
    "QRsurvey_2M_notna.loc[:,'感謝您的寶貴意見! 為確保您的權益，請完整填入您的手機號碼，以利特力屋做點數的匯入。']='0'+QRsurvey_2M_notna['感謝您的寶貴意見! 為確保您的權益，請完整填入您的手機號碼，以利特力屋做點數的匯入。'].map(lambda x:('%.0f')%x)\n",
    "\n",
    "QRsurvey_2M_notna=QRsurvey_2M_notna.sort_values(by=['感謝您的寶貴意見! 為確保您的權益，請完整填入您的手機號碼，以利特力屋做點數的匯入。','date','resp'],ascending=False)\n",
    "\n",
    "QRsurvey_2M_new=QRsurvey_2M_notna.drop_duplicates(subset=['感謝您的寶貴意見! 為確保您的權益，請完整填入您的手機號碼，以利特力屋做點數的匯入。','date'],keep='first')\n",
    "\n",
    "QRsurvey_2M_na.loc[:,'感謝您的寶貴意見! 為確保您的權益，請完整填入您的手機號碼，以利特力屋做點數的匯入。']=0\n",
    "QRsurvey_2M_new=pd.concat([QRsurvey_2M_new,QRsurvey_2M_na])\n",
    "QRsurvey_2M_new=QRsurvey_2M_new.iloc[:,0:-6]\n",
    "\n",
    "writer = pd.ExcelWriter(target_path+'TLW社區店.xlsx', engine='xlsxwriter')\n",
    "QRsurvey_2M_new.to_excel(writer, sheet_name='TLW社區店',index=0)\n",
    "writer.save()"
   ]
  },
  {
   "cell_type": "code",
   "execution_count": 36,
   "metadata": {},
   "outputs": [],
   "source": [
    "QRsurvey_2M_new_upload=QRsurvey_2M_new.loc[:,['填答時間','感謝您的寶貴意見! 為確保您的權益，請完整填入您的手機號碼，以利特力屋做點數的匯入。']]\n",
    "\n",
    "\n",
    "QRsurvey_2M_new_upload.columns=['NO','MOBILE_NO']\n",
    "QRsurvey_2M_new_upload.loc[:,'NO']=range(1,len(QRsurvey_2M_new_upload.loc[:,'NO'])+1)\n",
    "\n",
    "\n",
    "QRsurvey_2M_new_upload.to_csv(upload_path+upload_Month+' TLW社區店 滿意度調查 Upload.csv',index=0)\n"
   ]
  },
  {
   "cell_type": "markdown",
   "metadata": {},
   "source": [
    "## APP"
   ]
  },
  {
   "cell_type": "code",
   "execution_count": 37,
   "metadata": {},
   "outputs": [],
   "source": [
    "APPsurvey_2M=pd.read_csv('2020_TLW社區店_app滿意度調查.csv')\n",
    "APPsurvey_3M=pd.read_csv('2020_TLW社區店_app滿意度調查old.csv')\n",
    "APPsurvey_3M=APPsurvey_3M.rename(columns={APPsurvey_3M.columns[-7]:APPsurvey_2M.columns[-7]})\n",
    "APPsurvey_2M=pd.concat([APPsurvey_3M,APPsurvey_2M])\n",
    "\n",
    "\n",
    "\n",
    "APPsurvey_2M.index=pd.to_datetime(APPsurvey_2M.填答時間)\n",
    "APPsurvey_2M.填答時間=pd.to_datetime(APPsurvey_2M.填答時間)\n",
    "APPsurvey_2M=APPsurvey_2M.loc['2020-'+stardate:'2020-'+enddate]\n",
    "\n",
    "APPsurvey_2M_new=APPsurvey_2M.iloc[:,0:-4]\n",
    "APPsurvey_2M_new['Mem_ID']=APPsurvey_2M_new.iloc[:,-3].str.slice(start=0,stop=14)\n",
    "APPsurvey_2M_new['Invoice_NO']=APPsurvey_2M_new.iloc[:,-4].str.slice(start=14)\n",
    "APPsurvey_2M_new=APPsurvey_2M_new.iloc[:,list(range(len(APPsurvey_2M_new.columns)-4))+list([len(APPsurvey_2M_new.columns)-2,len(APPsurvey_2M_new.columns)-1,len(APPsurvey_2M_new.columns)-4,len(APPsurvey_2M_new.columns)-3])]\n",
    "\n",
    "\n",
    "writer = pd.ExcelWriter(target_path+'TLW社區店(app).xlsx', engine='xlsxwriter')\n",
    "APPsurvey_2M_new.to_excel(writer, sheet_name='TLW社區店(app)',index=0)\n",
    "writer.save()"
   ]
  },
  {
   "cell_type": "code",
   "execution_count": 38,
   "metadata": {},
   "outputs": [],
   "source": [
    "APPsurvey_2M_new_upload=APPsurvey_2M_new.loc[:,['填答時間','Mem_ID','Invoice_NO']]\n",
    "\n",
    "\n",
    "APPsurvey_2M_new_upload.columns=['NO','MEM_ID','INVOICE_NO']\n",
    "APPsurvey_2M_new_upload.loc[:,'NO']=range(1,len(APPsurvey_2M_new_upload.loc[:,'NO'])+1)\n",
    "\n",
    "\n",
    "APPsurvey_2M_new_upload.to_csv(upload_path+upload_Month+' TLW社區店(APP) 滿意度調查 Upload.csv',index=0)\n"
   ]
  },
  {
   "cell_type": "code",
   "execution_count": null,
   "metadata": {},
   "outputs": [],
   "source": []
  },
  {
   "cell_type": "markdown",
   "metadata": {},
   "source": [
    "# HOLA\n",
    "\n",
    "## QR code"
   ]
  },
  {
   "cell_type": "code",
   "execution_count": 39,
   "metadata": {},
   "outputs": [],
   "source": [
    "QRsurvey_1M=pd.read_csv('2020_HOLA_QRcode滿意度調查6月.csv')\n",
    "QRsurvey_2M=pd.read_csv('2020_HOLA_QRcode滿意度調查7月.csv')\n",
    "QRsurvey_3M=pd.read_csv('2020_HOLA_QRcode滿意度調查8月.csv')\n",
    "QRsurvey_2M=pd.concat([QRsurvey_1M,QRsurvey_2M,QRsurvey_3M])"
   ]
  },
  {
   "cell_type": "code",
   "execution_count": 40,
   "metadata": {},
   "outputs": [],
   "source": [
    "QRsurvey_2M.index=pd.to_datetime(QRsurvey_2M.填答時間)\n",
    "QRsurvey_2M.填答時間=pd.to_datetime(QRsurvey_2M.填答時間)\n",
    "QRsurvey_2M=QRsurvey_2M.loc['2020-'+stardate:'2020-'+enddate]\n",
    "QRsurvey_2M.loc[:,'感謝您的寶貴意見! 為確保您的權益，請完整填入您的手機號碼，以利 HOLA特力和樂做點數的匯入。'][(-np.isnan(QRsurvey_2M.loc[:,'請填寫您的手機']) & np.isnan(QRsurvey_2M.loc[:,'感謝您的寶貴意見! 為確保您的權益，請完整填入您的手機號碼，以利 HOLA特力和樂做點數的匯入。']))]=QRsurvey_2M.loc[:,'請填寫您的手機'][(-np.isnan(QRsurvey_2M.loc[:,'請填寫您的手機']) & np.isnan(QRsurvey_2M.loc[:,'感謝您的寶貴意見! 為確保您的權益，請完整填入您的手機號碼，以利 HOLA特力和樂做點數的匯入。']))]\n",
    "\n",
    "QRsurvey_2M['date']=QRsurvey_2M['填答時間'].map(lambda x:x.date())\n",
    "QRsurvey_2M['想讚揚之處 ( 人、事、時、地、物)']=QRsurvey_2M['想讚揚之處 ( 人、事、時、地、物)'].astype(str)\n",
    "QRsurvey_2M['想抱怨之處 ( 人、事、時、地、物)']=QRsurvey_2M['想抱怨之處 ( 人、事、時、地、物)'].astype(str)\n",
    "QRsurvey_2M['其他改善建議之處 ( 人、事、時、地、物)']=QRsurvey_2M['其他改善建議之處 ( 人、事、時、地、物)'].astype(str)\n",
    "QRsurvey_2M=QRsurvey_2M.replace('nan','')\n",
    "QRsurvey_2M['resp']=QRsurvey_2M['想讚揚之處 ( 人、事、時、地、物)'].map(lambda x:len(x))+QRsurvey_2M['想抱怨之處 ( 人、事、時、地、物)'].map(lambda x:len(x))+QRsurvey_2M['其他改善建議之處 ( 人、事、時、地、物)'].map(lambda x:len(x))\n",
    "\n",
    "\n",
    "QRsurvey_2M_notna=QRsurvey_2M.loc[-np.isnan(QRsurvey_2M.loc[:,'感謝您的寶貴意見! 為確保您的權益，請完整填入您的手機號碼，以利 HOLA特力和樂做點數的匯入。']),:]\n",
    "QRsurvey_2M_na=QRsurvey_2M.loc[np.isnan(QRsurvey_2M.loc[:,'感謝您的寶貴意見! 為確保您的權益，請完整填入您的手機號碼，以利 HOLA特力和樂做點數的匯入。']),:]\n",
    "\n",
    "\n",
    "QRsurvey_2M_notna.loc[:,'感謝您的寶貴意見! 為確保您的權益，請完整填入您的手機號碼，以利 HOLA特力和樂做點數的匯入。']='0'+QRsurvey_2M_notna['感謝您的寶貴意見! 為確保您的權益，請完整填入您的手機號碼，以利 HOLA特力和樂做點數的匯入。'].map(lambda x:('%.0f')%x)\n",
    "\n",
    "QRsurvey_2M_notna=QRsurvey_2M_notna.sort_values(by=['感謝您的寶貴意見! 為確保您的權益，請完整填入您的手機號碼，以利 HOLA特力和樂做點數的匯入。','date','resp'],ascending=False)\n",
    "\n",
    "QRsurvey_2M_new=QRsurvey_2M_notna.drop_duplicates(subset=['感謝您的寶貴意見! 為確保您的權益，請完整填入您的手機號碼，以利 HOLA特力和樂做點數的匯入。','date'],keep='first')\n",
    "\n",
    "QRsurvey_2M_na.loc[:,'感謝您的寶貴意見! 為確保您的權益，請完整填入您的手機號碼，以利 HOLA特力和樂做點數的匯入。']=0\n",
    "QRsurvey_2M_new=pd.concat([QRsurvey_2M_new,QRsurvey_2M_na])\n",
    "QRsurvey_2M_new=QRsurvey_2M_new.iloc[:,0:-6]\n",
    "\n",
    "writer = pd.ExcelWriter(target_path+'HOLA.xlsx', engine='xlsxwriter')\n",
    "QRsurvey_2M_new.to_excel(writer, sheet_name='HOLA',index=0)\n",
    "writer.save()"
   ]
  },
  {
   "cell_type": "code",
   "execution_count": 41,
   "metadata": {},
   "outputs": [],
   "source": [
    "QRsurvey_2M_new_upload=QRsurvey_2M_new.loc[:,['填答時間','感謝您的寶貴意見! 為確保您的權益，請完整填入您的手機號碼，以利 HOLA特力和樂做點數的匯入。']]\n",
    "\n",
    "\n",
    "QRsurvey_2M_new_upload.columns=['NO','MOBILE_NO']\n",
    "QRsurvey_2M_new_upload.loc[:,'NO']=range(1,len(QRsurvey_2M_new_upload.loc[:,'NO'])+1)\n",
    "\n",
    "\n",
    "QRsurvey_2M_new_upload.to_csv(upload_path+upload_Month+' HOLA 滿意度調查 Upload.csv',index=0)\n"
   ]
  },
  {
   "cell_type": "markdown",
   "metadata": {},
   "source": [
    "## APP"
   ]
  },
  {
   "cell_type": "code",
   "execution_count": 42,
   "metadata": {},
   "outputs": [],
   "source": [
    "APPsurvey_2M=pd.read_csv('2020_HOLA_app滿意度調查.csv')\n",
    "APPsurvey_3M=pd.read_csv('2020_HOLA_app滿意度調查old.csv')\n",
    "APPsurvey_3M=APPsurvey_3M.rename(columns={APPsurvey_3M.columns[-7]:APPsurvey_2M.columns[-7]})\n",
    "APPsurvey_2M=pd.concat([APPsurvey_3M,APPsurvey_2M])\n",
    "\n",
    "APPsurvey_2M.index=pd.to_datetime(APPsurvey_2M.填答時間)\n",
    "APPsurvey_2M.填答時間=pd.to_datetime(APPsurvey_2M.填答時間)\n",
    "APPsurvey_2M=APPsurvey_2M.loc['2020-'+stardate:'2020-'+enddate]\n",
    "\n",
    "APPsurvey_2M_new=APPsurvey_2M.iloc[:,0:-4]\n",
    "APPsurvey_2M_new['Mem_ID']=APPsurvey_2M_new.iloc[:,-3].str.slice(start=0,stop=14)\n",
    "APPsurvey_2M_new['Invoice_NO']=APPsurvey_2M_new.iloc[:,-4].str.slice(start=14)\n",
    "APPsurvey_2M_new=APPsurvey_2M_new.iloc[:,list(range(len(APPsurvey_2M_new.columns)-4))+list([len(APPsurvey_2M_new.columns)-2,len(APPsurvey_2M_new.columns)-1,len(APPsurvey_2M_new.columns)-4,len(APPsurvey_2M_new.columns)-3])]\n",
    "\n",
    "\n",
    "writer = pd.ExcelWriter(target_path+'HOLA(app).xlsx', engine='xlsxwriter')\n",
    "APPsurvey_2M_new.to_excel(writer, sheet_name='HOLA(app)',index=0)\n",
    "writer.save()"
   ]
  },
  {
   "cell_type": "code",
   "execution_count": 43,
   "metadata": {},
   "outputs": [],
   "source": [
    "APPsurvey_2M_new_upload=APPsurvey_2M_new.loc[:,['填答時間','Mem_ID']]\n",
    "\n",
    "\n",
    "APPsurvey_2M_new_upload.columns=['NO','MEM_ID']\n",
    "APPsurvey_2M_new_upload.loc[:,'NO']=range(1,len(APPsurvey_2M_new_upload.loc[:,'NO'])+1)\n",
    "\n",
    "\n",
    "APPsurvey_2M_new_upload.to_csv(upload_path+upload_Month+' HOLA(APP) 滿意度調查 Upload.csv',index=0)"
   ]
  },
  {
   "cell_type": "code",
   "execution_count": null,
   "metadata": {},
   "outputs": [],
   "source": []
  },
  {
   "cell_type": "markdown",
   "metadata": {},
   "source": [
    "# Petite\n",
    "## QR code"
   ]
  },
  {
   "cell_type": "code",
   "execution_count": 63,
   "metadata": {},
   "outputs": [],
   "source": [
    "QRsurvey_1M=pd.read_csv('2020_Petite_QRcode滿意度調查6月.csv')\n",
    "QRsurvey_2M=pd.read_csv('2020_Petite_QRcode滿意度調查7月.csv')\n",
    "#QRsurvey_3M=pd.read_csv('2020_Petite_QRcode滿意度調查3月.csv')\n",
    "QRsurvey_2M=pd.concat([QRsurvey_1M,QRsurvey_2M])"
   ]
  },
  {
   "cell_type": "code",
   "execution_count": 64,
   "metadata": {},
   "outputs": [],
   "source": [
    "QRsurvey_2M.index=pd.to_datetime(QRsurvey_2M.填答時間)\n",
    "QRsurvey_2M.填答時間=pd.to_datetime(QRsurvey_2M.填答時間)\n",
    "QRsurvey_2M=QRsurvey_2M.loc['2020-'+stardate:'2020-'+enddate]\n",
    "QRsurvey_2M.loc[:,'感謝您的寶貴意見! 為確保您的權益，請完整填入您的手機號碼，以利HOLA做點數的匯入。'][(-np.isnan(QRsurvey_2M.loc[:,'請填寫您的手機']) & np.isnan(QRsurvey_2M.loc[:,'感謝您的寶貴意見! 為確保您的權益，請完整填入您的手機號碼，以利HOLA做點數的匯入。']))]=QRsurvey_2M.loc[:,'請填寫您的手機'][(-np.isnan(QRsurvey_2M.loc[:,'請填寫您的手機']) & np.isnan(QRsurvey_2M.loc[:,'感謝您的寶貴意見! 為確保您的權益，請完整填入您的手機號碼，以利HOLA做點數的匯入。']))]\n",
    "\n",
    "QRsurvey_2M['date']=QRsurvey_2M['填答時間'].map(lambda x:x.date())\n",
    "QRsurvey_2M['想讚揚之處 ( 人、事、時、地、物)']=QRsurvey_2M['想讚揚之處 ( 人、事、時、地、物)'].astype(str)\n",
    "QRsurvey_2M['想抱怨之處 ( 人、事、時、地、物)']=QRsurvey_2M['想抱怨之處 ( 人、事、時、地、物)'].astype(str)\n",
    "QRsurvey_2M['其他改善建議之處 ( 人、事、時、地、物)']=QRsurvey_2M['其他改善建議之處 ( 人、事、時、地、物)'].astype(str)\n",
    "QRsurvey_2M=QRsurvey_2M.replace('nan','')\n",
    "QRsurvey_2M['resp']=QRsurvey_2M['想讚揚之處 ( 人、事、時、地、物)'].map(lambda x:len(x))+QRsurvey_2M['想抱怨之處 ( 人、事、時、地、物)'].map(lambda x:len(x))+QRsurvey_2M['其他改善建議之處 ( 人、事、時、地、物)'].map(lambda x:len(x))\n",
    "\n",
    "\n",
    "QRsurvey_2M_notna=QRsurvey_2M.loc[-np.isnan(QRsurvey_2M.loc[:,'感謝您的寶貴意見! 為確保您的權益，請完整填入您的手機號碼，以利HOLA做點數的匯入。']),:]\n",
    "QRsurvey_2M_na=QRsurvey_2M.loc[np.isnan(QRsurvey_2M.loc[:,'感謝您的寶貴意見! 為確保您的權益，請完整填入您的手機號碼，以利HOLA做點數的匯入。']),:]\n",
    "\n",
    "\n",
    "QRsurvey_2M_notna.loc[:,'感謝您的寶貴意見! 為確保您的權益，請完整填入您的手機號碼，以利HOLA做點數的匯入。']='0'+QRsurvey_2M_notna['感謝您的寶貴意見! 為確保您的權益，請完整填入您的手機號碼，以利HOLA做點數的匯入。'].map(lambda x:('%.0f')%x)\n",
    "\n",
    "QRsurvey_2M_notna=QRsurvey_2M_notna.sort_values(by=['感謝您的寶貴意見! 為確保您的權益，請完整填入您的手機號碼，以利HOLA做點數的匯入。','date','resp'],ascending=False)\n",
    "\n",
    "QRsurvey_2M_new=QRsurvey_2M_notna.drop_duplicates(subset=['感謝您的寶貴意見! 為確保您的權益，請完整填入您的手機號碼，以利HOLA做點數的匯入。','date'],keep='first')\n",
    "\n",
    "QRsurvey_2M_na.loc[:,'感謝您的寶貴意見! 為確保您的權益，請完整填入您的手機號碼，以利HOLA做點數的匯入。']=0\n",
    "QRsurvey_2M_new=pd.concat([QRsurvey_2M_new,QRsurvey_2M_na])\n",
    "QRsurvey_2M_new=QRsurvey_2M_new.iloc[:,0:-6]\n",
    "\n",
    "writer = pd.ExcelWriter(target_path+'PETITE.xlsx', engine='xlsxwriter')\n",
    "QRsurvey_2M_new.to_excel(writer, sheet_name='PETITE',index=0)\n",
    "writer.save()"
   ]
  },
  {
   "cell_type": "code",
   "execution_count": 65,
   "metadata": {},
   "outputs": [],
   "source": [
    "QRsurvey_2M_new_upload=QRsurvey_2M_new.loc[:,['填答時間','感謝您的寶貴意見! 為確保您的權益，請完整填入您的手機號碼，以利HOLA做點數的匯入。']]\n",
    "\n",
    "\n",
    "QRsurvey_2M_new_upload.columns=['NO','MOBILE_NO']\n",
    "QRsurvey_2M_new_upload.loc[:,'NO']=range(1,len(QRsurvey_2M_new_upload.loc[:,'NO'])+1)\n",
    "\n",
    "QRsurvey_2M_new_upload.to_csv(upload_path+upload_Month+' Petite 滿意度調查 Upload.csv',index=0)\n"
   ]
  },
  {
   "cell_type": "code",
   "execution_count": null,
   "metadata": {},
   "outputs": [],
   "source": []
  },
  {
   "cell_type": "markdown",
   "metadata": {},
   "source": [
    "## APP"
   ]
  },
  {
   "cell_type": "code",
   "execution_count": 66,
   "metadata": {},
   "outputs": [],
   "source": [
    "APPsurvey_2M=pd.read_csv('2020_Petite_app滿意度調查.csv')\n",
    "APPsurvey_3M=pd.read_csv('2020_Petite_app滿意度調查old.csv')\n",
    "APPsurvey_3M=APPsurvey_3M.rename(columns={APPsurvey_3M.columns[-7]:APPsurvey_2M.columns[-7]})\n",
    "APPsurvey_2M=pd.concat([APPsurvey_3M,APPsurvey_2M])\n",
    "\n",
    "APPsurvey_2M.index=pd.to_datetime(APPsurvey_2M.填答時間)\n",
    "APPsurvey_2M.填答時間=pd.to_datetime(APPsurvey_2M.填答時間)\n",
    "APPsurvey_2M=APPsurvey_2M.loc['2020-'+stardate:'2020-'+enddate]\n",
    "\n",
    "APPsurvey_2M_new=APPsurvey_2M.iloc[:,0:-4]\n",
    "APPsurvey_2M_new['Mem_ID']=APPsurvey_2M_new.iloc[:,-3].str.slice(start=0,stop=14)\n",
    "APPsurvey_2M_new['Invoice_NO']=APPsurvey_2M_new.iloc[:,-4].str.slice(start=14)\n",
    "APPsurvey_2M_new=APPsurvey_2M_new.iloc[:,list(range(len(APPsurvey_2M_new.columns)-4))+list([len(APPsurvey_2M_new.columns)-2,len(APPsurvey_2M_new.columns)-1,len(APPsurvey_2M_new.columns)-4,len(APPsurvey_2M_new.columns)-3])]\n",
    "\n",
    "\n",
    "writer = pd.ExcelWriter(target_path+'PETITE(app).xlsx', engine='xlsxwriter')\n",
    "APPsurvey_2M_new.to_excel(writer, sheet_name='PETITE(app)',index=0)\n",
    "writer.save()"
   ]
  },
  {
   "cell_type": "code",
   "execution_count": 67,
   "metadata": {},
   "outputs": [],
   "source": [
    "APPsurvey_2M_new_upload=APPsurvey_2M_new.loc[:,['填答時間','Mem_ID']]\n",
    "\n",
    "\n",
    "APPsurvey_2M_new_upload.columns=['NO','MEM_ID']\n",
    "APPsurvey_2M_new_upload.loc[:,'NO']=range(1,len(APPsurvey_2M_new_upload.loc[:,'NO'])+1)\n",
    "\n",
    "APPsurvey_2M_new_upload.to_csv(upload_path+upload_Month+' Petite(APP) 滿意度調查 Upload.csv',index=0)\n"
   ]
  },
  {
   "cell_type": "code",
   "execution_count": null,
   "metadata": {},
   "outputs": [],
   "source": []
  },
  {
   "cell_type": "markdown",
   "metadata": {},
   "source": [
    "# CASA"
   ]
  },
  {
   "cell_type": "markdown",
   "metadata": {},
   "source": [
    "## QR code"
   ]
  },
  {
   "cell_type": "code",
   "execution_count": 68,
   "metadata": {},
   "outputs": [],
   "source": [
    "QRsurvey_1M=pd.read_csv('2020_CASA_QRcode滿意度調查6月.csv')\n",
    "QRsurvey_2M=pd.read_csv('2020_CASA_QRcode滿意度調查7月.csv')\n",
    "QRsurvey_3M=pd.read_csv('2020_CASA_QRcode滿意度調查8月.csv')\n",
    "QRsurvey_2M=pd.concat([QRsurvey_1M,QRsurvey_2M,QRsurvey_3M])"
   ]
  },
  {
   "cell_type": "code",
   "execution_count": 69,
   "metadata": {},
   "outputs": [],
   "source": [
    "QRsurvey_2M.index=pd.to_datetime(QRsurvey_2M.填答時間)\n",
    "QRsurvey_2M.填答時間=pd.to_datetime(QRsurvey_2M.填答時間)\n",
    "QRsurvey_2M=QRsurvey_2M.loc['2020-'+stardate:'2020-'+enddate]\n",
    "QRsurvey_2M.loc[:,'感謝您的寶貴意見! 為確保您的權益，請完整填入您的手機號碼，以利HOLA做點數的匯入。'][(-np.isnan(QRsurvey_2M.loc[:,'請留下您的手機']) & np.isnan(QRsurvey_2M.loc[:,'感謝您的寶貴意見! 為確保您的權益，請完整填入您的手機號碼，以利HOLA做點數的匯入。']))]=QRsurvey_2M.loc[:,'請留下您的手機'][(-np.isnan(QRsurvey_2M.loc[:,'請留下您的手機']) & np.isnan(QRsurvey_2M.loc[:,'感謝您的寶貴意見! 為確保您的權益，請完整填入您的手機號碼，以利HOLA做點數的匯入。']))]\n",
    "\n",
    "QRsurvey_2M['date']=QRsurvey_2M['填答時間'].map(lambda x:x.date())\n",
    "QRsurvey_2M['想讚揚之處 ( 人、事、時、地、物)']=QRsurvey_2M['想讚揚之處 ( 人、事、時、地、物)'].astype(str)\n",
    "QRsurvey_2M['想抱怨之處 ( 人、事、時、地、物)']=QRsurvey_2M['想抱怨之處 ( 人、事、時、地、物)'].astype(str)\n",
    "QRsurvey_2M['其他改善建議之處 ( 人、事、時、地、物)']=QRsurvey_2M['其他改善建議之處 ( 人、事、時、地、物)'].astype(str)\n",
    "QRsurvey_2M=QRsurvey_2M.replace('nan','')\n",
    "QRsurvey_2M['resp']=QRsurvey_2M['想讚揚之處 ( 人、事、時、地、物)'].map(lambda x:len(x))+QRsurvey_2M['想抱怨之處 ( 人、事、時、地、物)'].map(lambda x:len(x))+QRsurvey_2M['其他改善建議之處 ( 人、事、時、地、物)'].map(lambda x:len(x))\n",
    "\n",
    "\n",
    "QRsurvey_2M_notna=QRsurvey_2M.loc[-np.isnan(QRsurvey_2M.loc[:,'感謝您的寶貴意見! 為確保您的權益，請完整填入您的手機號碼，以利HOLA做點數的匯入。']),:]\n",
    "QRsurvey_2M_na=QRsurvey_2M.loc[np.isnan(QRsurvey_2M.loc[:,'感謝您的寶貴意見! 為確保您的權益，請完整填入您的手機號碼，以利HOLA做點數的匯入。']),:]\n",
    "\n",
    "\n",
    "QRsurvey_2M_notna.loc[:,'感謝您的寶貴意見! 為確保您的權益，請完整填入您的手機號碼，以利HOLA做點數的匯入。']='0'+QRsurvey_2M_notna['感謝您的寶貴意見! 為確保您的權益，請完整填入您的手機號碼，以利HOLA做點數的匯入。'].map(lambda x:('%.0f')%x)\n",
    "\n",
    "QRsurvey_2M_notna=QRsurvey_2M_notna.sort_values(by=['感謝您的寶貴意見! 為確保您的權益，請完整填入您的手機號碼，以利HOLA做點數的匯入。','date','resp'],ascending=False)\n",
    "\n",
    "QRsurvey_2M_new=QRsurvey_2M_notna.drop_duplicates(subset=['感謝您的寶貴意見! 為確保您的權益，請完整填入您的手機號碼，以利HOLA做點數的匯入。','date'],keep='first')\n",
    "\n",
    "QRsurvey_2M_na.loc[:,'感謝您的寶貴意見! 為確保您的權益，請完整填入您的手機號碼，以利HOLA做點數的匯入。']=0\n",
    "QRsurvey_2M_new=pd.concat([QRsurvey_2M_new,QRsurvey_2M_na])\n",
    "QRsurvey_2M_new=QRsurvey_2M_new.iloc[:,0:-6]\n",
    "\n",
    "writer = pd.ExcelWriter(target_path+'CASA.xlsx', engine='xlsxwriter')\n",
    "QRsurvey_2M_new.to_excel(writer, sheet_name='CASA',index=0)\n",
    "writer.save()"
   ]
  },
  {
   "cell_type": "code",
   "execution_count": 70,
   "metadata": {},
   "outputs": [],
   "source": [
    "QRsurvey_2M_new_upload=QRsurvey_2M_new.loc[:,['填答時間','感謝您的寶貴意見! 為確保您的權益，請完整填入您的手機號碼，以利HOLA做點數的匯入。']]\n",
    "\n",
    "\n",
    "QRsurvey_2M_new_upload.columns=['NO','MOBILE_NO']\n",
    "QRsurvey_2M_new_upload.loc[:,'NO']=range(1,len(QRsurvey_2M_new_upload.loc[:,'NO'])+1)\n",
    "\n",
    "QRsurvey_2M_new_upload.to_csv(upload_path+upload_Month+' CASA 滿意度調查 Upload.csv',index=0)\n"
   ]
  },
  {
   "cell_type": "markdown",
   "metadata": {},
   "source": [
    "## APP"
   ]
  },
  {
   "cell_type": "code",
   "execution_count": 71,
   "metadata": {},
   "outputs": [],
   "source": [
    "APPsurvey_2M=pd.read_csv('2020_CASA_app滿意度調查.csv')\n",
    "APPsurvey_3M=pd.read_csv('2020_CASA_app滿意度調查old.csv')\n",
    "APPsurvey_3M=APPsurvey_3M.rename(columns={APPsurvey_3M.columns[-7]:APPsurvey_2M.columns[-7]})\n",
    "APPsurvey_2M=pd.concat([APPsurvey_3M,APPsurvey_2M])\n",
    "\n",
    "APPsurvey_2M.index=pd.to_datetime(APPsurvey_2M.填答時間)\n",
    "APPsurvey_2M.填答時間=pd.to_datetime(APPsurvey_2M.填答時間)\n",
    "APPsurvey_2M=APPsurvey_2M.loc['2020-'+stardate:'2020-'+enddate]\n",
    "\n",
    "APPsurvey_2M_new=APPsurvey_2M.iloc[:,0:-4]\n",
    "APPsurvey_2M_new['Mem_ID']=APPsurvey_2M_new.iloc[:,-3].str.slice(start=0,stop=14)\n",
    "APPsurvey_2M_new['Invoice_NO']=APPsurvey_2M_new.iloc[:,-4].str.slice(start=14)\n",
    "APPsurvey_2M_new=APPsurvey_2M_new.iloc[:,list(range(len(APPsurvey_2M_new.columns)-4))+list([len(APPsurvey_2M_new.columns)-2,len(APPsurvey_2M_new.columns)-1,len(APPsurvey_2M_new.columns)-4,len(APPsurvey_2M_new.columns)-3])]\n",
    "\n",
    "\n",
    "writer = pd.ExcelWriter(target_path+'CASA(APP).xlsx', engine='xlsxwriter')\n",
    "APPsurvey_2M_new.to_excel(writer, sheet_name='CASA(app)',index=0)\n",
    "writer.save()"
   ]
  },
  {
   "cell_type": "code",
   "execution_count": 72,
   "metadata": {},
   "outputs": [],
   "source": [
    "APPsurvey_2M_new_upload=APPsurvey_2M_new.loc[:,['填答時間','Mem_ID']]\n",
    "\n",
    "\n",
    "APPsurvey_2M_new_upload.columns=['NO','MEM_ID']\n",
    "APPsurvey_2M_new_upload.loc[:,'NO']=range(1,len(APPsurvey_2M_new_upload.loc[:,'NO'])+1)\n",
    "\n",
    "APPsurvey_2M_new_upload.to_csv(upload_path+upload_Month+' CASA(APP) 滿意度調查 Upload.csv',index=0)\n"
   ]
  },
  {
   "cell_type": "code",
   "execution_count": null,
   "metadata": {},
   "outputs": [],
   "source": []
  },
  {
   "cell_type": "markdown",
   "metadata": {},
   "source": [
    "# Crate and Barrel"
   ]
  },
  {
   "cell_type": "code",
   "execution_count": 73,
   "metadata": {},
   "outputs": [],
   "source": [
    "QRsurvey_1M=pd.read_csv('2020_Crate&Barrel_滿意度調查old.csv')\n",
    "QRsurvey_2M=pd.read_csv('2020_Crate&Barrel_滿意度調查.csv')\n",
    "#QRsurvey_3M=pd.read_csv('2020_TLW_QRcode滿意度調查3月.csv')\n",
    "QRsurvey_2M=pd.concat([QRsurvey_1M,QRsurvey_2M])"
   ]
  },
  {
   "cell_type": "code",
   "execution_count": 74,
   "metadata": {},
   "outputs": [],
   "source": [
    "QRsurvey_2M.index=pd.to_datetime(QRsurvey_2M.填答時間)\n",
    "QRsurvey_2M.填答時間=pd.to_datetime(QRsurvey_2M.填答時間)\n",
    "QRsurvey_2M=QRsurvey_2M.loc['2020-'+stardate:'2020-'+enddate]\n",
    "QRsurvey_2M.loc[:,'感謝您的寶貴意見! 歡迎您填入手機號碼，可享有最新的優惠訊息通知。 '][(-np.isnan(QRsurvey_2M.loc[:,'請填寫您的手機']) & np.isnan(QRsurvey_2M.loc[:,'感謝您的寶貴意見! 歡迎您填入手機號碼，可享有最新的優惠訊息通知。 ']))]=QRsurvey_2M.loc[:,'請填寫您的手機'][(-np.isnan(QRsurvey_2M.loc[:,'請填寫您的手機']) & np.isnan(QRsurvey_2M.loc[:,'感謝您的寶貴意見! 歡迎您填入手機號碼，可享有最新的優惠訊息通知。 ']))]\n",
    "\n",
    "QRsurvey_2M['date']=QRsurvey_2M['填答時間'].map(lambda x:x.date())\n",
    "QRsurvey_2M['想讚揚之處 ( 人、事、時、地、物)']=QRsurvey_2M['想讚揚之處 ( 人、事、時、地、物)'].astype(str)\n",
    "QRsurvey_2M['想抱怨之處 ( 人、事、時、地、物)']=QRsurvey_2M['想抱怨之處 ( 人、事、時、地、物)'].astype(str)\n",
    "QRsurvey_2M['其他改善建議之處 ( 人、事、時、地、物)']=QRsurvey_2M['其他改善建議之處 ( 人、事、時、地、物)'].astype(str)\n",
    "QRsurvey_2M=QRsurvey_2M.replace('nan','')\n",
    "QRsurvey_2M['resp']=QRsurvey_2M['想讚揚之處 ( 人、事、時、地、物)'].map(lambda x:len(x))+QRsurvey_2M['想抱怨之處 ( 人、事、時、地、物)'].map(lambda x:len(x))+QRsurvey_2M['其他改善建議之處 ( 人、事、時、地、物)'].map(lambda x:len(x))\n",
    "\n",
    "\n",
    "QRsurvey_2M_notna=QRsurvey_2M.loc[-np.isnan(QRsurvey_2M.loc[:,'感謝您的寶貴意見! 歡迎您填入手機號碼，可享有最新的優惠訊息通知。 ']),:]\n",
    "QRsurvey_2M_na=QRsurvey_2M.loc[np.isnan(QRsurvey_2M.loc[:,'感謝您的寶貴意見! 歡迎您填入手機號碼，可享有最新的優惠訊息通知。 ']),:]\n",
    "\n",
    "\n",
    "QRsurvey_2M_notna.loc[:,'感謝您的寶貴意見! 歡迎您填入手機號碼，可享有最新的優惠訊息通知。 ']='0'+QRsurvey_2M_notna['感謝您的寶貴意見! 歡迎您填入手機號碼，可享有最新的優惠訊息通知。 '].map(lambda x:('%.0f')%x)\n",
    "\n",
    "QRsurvey_2M_notna=QRsurvey_2M_notna.sort_values(by=['感謝您的寶貴意見! 歡迎您填入手機號碼，可享有最新的優惠訊息通知。 ','date','resp'],ascending=False)\n",
    "\n",
    "QRsurvey_2M_new=QRsurvey_2M_notna.drop_duplicates(subset=['感謝您的寶貴意見! 歡迎您填入手機號碼，可享有最新的優惠訊息通知。 ','date'],keep='first')\n",
    "\n",
    "QRsurvey_2M_na.loc[:,'感謝您的寶貴意見! 歡迎您填入手機號碼，可享有最新的優惠訊息通知。 ']=0\n",
    "QRsurvey_2M_new=pd.concat([QRsurvey_2M_new,QRsurvey_2M_na])\n",
    "QRsurvey_2M_new=QRsurvey_2M_new.iloc[:,0:-6]\n",
    "\n",
    "writer = pd.ExcelWriter(target_path+'CB.xlsx', engine='xlsxwriter')\n",
    "QRsurvey_2M_new.to_excel(writer, sheet_name='CB',index=0)\n",
    "writer.save()"
   ]
  },
  {
   "cell_type": "code",
   "execution_count": 75,
   "metadata": {},
   "outputs": [],
   "source": [
    "QRsurvey_2M_new_upload=QRsurvey_2M_new.loc[:,['填答時間','感謝您的寶貴意見! 歡迎您填入手機號碼，可享有最新的優惠訊息通知。 ']]\n",
    "\n",
    "\n",
    "QRsurvey_2M_new_upload.columns=['NO','MOBILE_NO']\n",
    "QRsurvey_2M_new_upload.loc[:,'NO']=range(1,len(QRsurvey_2M_new_upload.loc[:,'NO'])+1)\n",
    "\n",
    "QRsurvey_2M_new_upload.to_csv(upload_path+upload_Month+' CB 滿意度調查 Upload.csv',index=0)\n"
   ]
  },
  {
   "cell_type": "code",
   "execution_count": null,
   "metadata": {},
   "outputs": [],
   "source": []
  },
  {
   "cell_type": "markdown",
   "metadata": {},
   "source": [
    "# Hoi"
   ]
  },
  {
   "cell_type": "code",
   "execution_count": 77,
   "metadata": {},
   "outputs": [],
   "source": [
    "QRsurvey_1M=pd.read_csv('2020_hoi_滿意度調查6月.csv')\n",
    "QRsurvey_2M=pd.read_csv('2020_hoi_滿意度調查7月.csv')\n",
    "#QRsurvey_3M=pd.read_csv('2020_hoi_滿意度調查8月.csv')\n",
    "QRsurvey_2M=pd.concat([QRsurvey_1M,QRsurvey_2M])"
   ]
  },
  {
   "cell_type": "code",
   "execution_count": 78,
   "metadata": {},
   "outputs": [],
   "source": [
    "QRsurvey_2M.index=pd.to_datetime(QRsurvey_2M.填答時間)\n",
    "QRsurvey_2M.填答時間=pd.to_datetime(QRsurvey_2M.填答時間)\n",
    "QRsurvey_2M=QRsurvey_2M.loc['2020-'+stardate:'2020-'+enddate]\n",
    "QRsurvey_2M.loc[:,'感謝您的寶貴意見! 為確保您的權益，請完整填入您的手機號碼，以利 hoi! 做點數的匯入。'][(-np.isnan(QRsurvey_2M.loc[:,'請填寫您的手機']) & np.isnan(QRsurvey_2M.loc[:,'感謝您的寶貴意見! 為確保您的權益，請完整填入您的手機號碼，以利 hoi! 做點數的匯入。']))]=QRsurvey_2M.loc[:,'請填寫您的手機'][(-np.isnan(QRsurvey_2M.loc[:,'請填寫您的手機']) & np.isnan(QRsurvey_2M.loc[:,'感謝您的寶貴意見! 為確保您的權益，請完整填入您的手機號碼，以利 hoi! 做點數的匯入。']))]\n",
    "\n",
    "QRsurvey_2M['date']=QRsurvey_2M['填答時間'].map(lambda x:x.date())\n",
    "QRsurvey_2M['想讚揚之處 ( 人、事、時、地、物)']=QRsurvey_2M['想讚揚之處 ( 人、事、時、地、物)'].astype(str)\n",
    "QRsurvey_2M['想抱怨之處 ( 人、事、時、地、物)']=QRsurvey_2M['想抱怨之處 ( 人、事、時、地、物)'].astype(str)\n",
    "QRsurvey_2M['其他改善建議之處 ( 人、事、時、地、物)']=QRsurvey_2M['其他改善建議之處 ( 人、事、時、地、物)'].astype(str)\n",
    "QRsurvey_2M=QRsurvey_2M.replace('nan','')\n",
    "QRsurvey_2M['resp']=QRsurvey_2M['想讚揚之處 ( 人、事、時、地、物)'].map(lambda x:len(x))+QRsurvey_2M['想抱怨之處 ( 人、事、時、地、物)'].map(lambda x:len(x))+QRsurvey_2M['其他改善建議之處 ( 人、事、時、地、物)'].map(lambda x:len(x))\n",
    "\n",
    "\n",
    "QRsurvey_2M_notna=QRsurvey_2M.loc[-np.isnan(QRsurvey_2M.loc[:,'感謝您的寶貴意見! 為確保您的權益，請完整填入您的手機號碼，以利 hoi! 做點數的匯入。']),:]\n",
    "QRsurvey_2M_na=QRsurvey_2M.loc[np.isnan(QRsurvey_2M.loc[:,'感謝您的寶貴意見! 為確保您的權益，請完整填入您的手機號碼，以利 hoi! 做點數的匯入。']),:]\n",
    "\n",
    "\n",
    "QRsurvey_2M_notna.loc[:,'感謝您的寶貴意見! 為確保您的權益，請完整填入您的手機號碼，以利 hoi! 做點數的匯入。']='0'+QRsurvey_2M_notna['感謝您的寶貴意見! 為確保您的權益，請完整填入您的手機號碼，以利 hoi! 做點數的匯入。'].map(lambda x:('%.0f')%x)\n",
    "\n",
    "QRsurvey_2M_notna=QRsurvey_2M_notna.sort_values(by=['感謝您的寶貴意見! 為確保您的權益，請完整填入您的手機號碼，以利 hoi! 做點數的匯入。','date','resp'],ascending=False)\n",
    "\n",
    "QRsurvey_2M_new=QRsurvey_2M_notna.drop_duplicates(subset=['感謝您的寶貴意見! 為確保您的權益，請完整填入您的手機號碼，以利 hoi! 做點數的匯入。','date'],keep='first')\n",
    "\n",
    "QRsurvey_2M_na.loc[:,'感謝您的寶貴意見! 為確保您的權益，請完整填入您的手機號碼，以利 hoi! 做點數的匯入。']=0\n",
    "QRsurvey_2M_new=pd.concat([QRsurvey_2M_new,QRsurvey_2M_na])\n",
    "QRsurvey_2M_new=QRsurvey_2M_new.iloc[:,0:-6]\n",
    "\n",
    "writer = pd.ExcelWriter(target_path+'hoi!.xlsx', engine='xlsxwriter')\n",
    "QRsurvey_2M_new.to_excel(writer, sheet_name='hoi!',index=0)\n",
    "writer.save()"
   ]
  },
  {
   "cell_type": "code",
   "execution_count": 79,
   "metadata": {},
   "outputs": [],
   "source": [
    "QRsurvey_2M_new_upload=QRsurvey_2M_new.loc[:,['填答時間','感謝您的寶貴意見! 為確保您的權益，請完整填入您的手機號碼，以利 hoi! 做點數的匯入。']]\n",
    "\n",
    "\n",
    "QRsurvey_2M_new_upload.columns=['NO','MOBILE_NO']\n",
    "QRsurvey_2M_new_upload.loc[:,'NO']=range(1,len(QRsurvey_2M_new_upload.loc[:,'NO'])+1)\n",
    "\n",
    "QRsurvey_2M_new_upload.to_csv(upload_path+upload_Month+' hoi! 滿意度調查 Upload.csv',index=0)\n"
   ]
  },
  {
   "cell_type": "code",
   "execution_count": null,
   "metadata": {},
   "outputs": [],
   "source": []
  },
  {
   "cell_type": "markdown",
   "metadata": {},
   "source": [
    "# DH"
   ]
  },
  {
   "cell_type": "code",
   "execution_count": 80,
   "metadata": {},
   "outputs": [],
   "source": [
    "#QRsurvey_1M=pd.read_csv('2020_TLW_QRcode滿意度調查1月.csv')\n",
    "QRsurvey_2M=pd.read_csv('2020_DH_滿意度調查.csv')\n",
    "#QRsurvey_3M=pd.read_csv('2020_TLW_QRcode滿意度調查3月.csv')\n",
    "#QRsurvey_2M=pd.concat([QRsurvey_1M,QRsurvey_2M,QRsurvey_3M])"
   ]
  },
  {
   "cell_type": "code",
   "execution_count": 81,
   "metadata": {},
   "outputs": [],
   "source": [
    "QRsurvey_2M.index=pd.to_datetime(QRsurvey_2M.填答時間)\n",
    "QRsurvey_2M.填答時間=pd.to_datetime(QRsurvey_2M.填答時間)\n",
    "QRsurvey_2M=QRsurvey_2M.loc['2020-'+stardate:'2020-'+enddate]\n",
    "QRsurvey_2M.loc[:,'請填入您的手機號碼'][(-np.isnan(QRsurvey_2M.loc[:,'請填寫您的手機']) & np.isnan(QRsurvey_2M.loc[:,'請填入您的手機號碼']))]=QRsurvey_2M.loc[:,'請填寫您的手機'][(-np.isnan(QRsurvey_2M.loc[:,'請填寫您的手機']) & np.isnan(QRsurvey_2M.loc[:,'請填入您的手機號碼']))]\n",
    "\n",
    "QRsurvey_2M['date']=QRsurvey_2M['填答時間'].map(lambda x:x.date())\n",
    "QRsurvey_2M['想讚揚之處 ( 人、事、時、地、物)']=QRsurvey_2M['想讚揚之處 ( 人、事、時、地、物)'].astype(str)\n",
    "QRsurvey_2M['想抱怨之處 ( 人、事、時、地、物)']=QRsurvey_2M['想抱怨之處 ( 人、事、時、地、物)'].astype(str)\n",
    "QRsurvey_2M['其他改善建議之處 ( 人、事、時、地、物)']=QRsurvey_2M['其他改善建議之處 ( 人、事、時、地、物)'].astype(str)\n",
    "QRsurvey_2M=QRsurvey_2M.replace('nan','')\n",
    "QRsurvey_2M['resp']=QRsurvey_2M['想讚揚之處 ( 人、事、時、地、物)'].map(lambda x:len(x))+QRsurvey_2M['想抱怨之處 ( 人、事、時、地、物)'].map(lambda x:len(x))+QRsurvey_2M['其他改善建議之處 ( 人、事、時、地、物)'].map(lambda x:len(x))\n",
    "\n",
    "\n",
    "QRsurvey_2M_notna=QRsurvey_2M.loc[-np.isnan(QRsurvey_2M.loc[:,'請填入您的手機號碼']),:]\n",
    "QRsurvey_2M_na=QRsurvey_2M.loc[np.isnan(QRsurvey_2M.loc[:,'請填入您的手機號碼']),:]\n",
    "\n",
    "\n",
    "QRsurvey_2M_notna.loc[:,'請填入您的手機號碼']='0'+QRsurvey_2M_notna['請填入您的手機號碼'].map(lambda x:('%.0f')%x)\n",
    "\n",
    "QRsurvey_2M_notna=QRsurvey_2M_notna.sort_values(by=['請填入您的手機號碼','date','resp'],ascending=False)\n",
    "\n",
    "QRsurvey_2M_new=QRsurvey_2M_notna.drop_duplicates(subset=['請填入您的手機號碼','date'],keep='first')\n",
    "\n",
    "QRsurvey_2M_na.loc[:,'請填入您的手機號碼']=0\n",
    "QRsurvey_2M_new=pd.concat([QRsurvey_2M_new,QRsurvey_2M_na])\n",
    "QRsurvey_2M_new=QRsurvey_2M_new.iloc[:,0:-6]\n",
    "\n",
    "writer = pd.ExcelWriter(target_path+'DH.xlsx', engine='xlsxwriter')\n",
    "QRsurvey_2M_new.to_excel(writer, sheet_name='DH',index=0)\n",
    "writer.save()"
   ]
  },
  {
   "cell_type": "code",
   "execution_count": 82,
   "metadata": {},
   "outputs": [],
   "source": [
    "QRsurvey_2M_new_upload=QRsurvey_2M_new.loc[:,['填答時間','請填入您的姓名','請填入您的手機號碼']]\n",
    "\n",
    "\n",
    "QRsurvey_2M_new_upload.columns=['NO','MEM_NAME','MOBILE_NO']\n",
    "QRsurvey_2M_new_upload.loc[:,'NO']=range(1,len(QRsurvey_2M_new_upload.loc[:,'NO'])+1)\n",
    "\n",
    "QRsurvey_2M_new_upload.to_csv(upload_path+upload_Month+' DH 滿意度調查 Upload.csv',index=0)\n"
   ]
  },
  {
   "cell_type": "code",
   "execution_count": null,
   "metadata": {},
   "outputs": [],
   "source": []
  },
  {
   "cell_type": "markdown",
   "metadata": {},
   "source": [
    "# WW"
   ]
  },
  {
   "cell_type": "code",
   "execution_count": 6,
   "metadata": {},
   "outputs": [],
   "source": [
    "#QRsurvey_1M=pd.read_csv('2020_TLW_QRcode滿意度調查1月.csv')\n",
    "QRsurvey_2M=pd.read_csv('2020_Wedgwood_滿意度調查6月.csv')\n",
    "#QRsurvey_3M=pd.read_csv('2020_TLW_QRcode滿意度調查3月.csv')\n",
    "#QRsurvey_2M=pd.concat([QRsurvey_1M,QRsurvey_2M,QRsurvey_3M])"
   ]
  },
  {
   "cell_type": "code",
   "execution_count": 12,
   "metadata": {},
   "outputs": [],
   "source": [
    "QRsurvey_2M.index=pd.to_datetime(QRsurvey_2M.填答時間)\n",
    "QRsurvey_2M.填答時間=pd.to_datetime(QRsurvey_2M.填答時間)\n",
    "QRsurvey_2M=QRsurvey_2M.loc['2020-'+stardate:'2020-'+enddate]\n",
    "\n",
    "QRsurvey_2M['date']=QRsurvey_2M['填答時間'].map(lambda x:x.date())\n",
    "#QRsurvey_2M['想讚揚之處 ( 人、事、時、地、物)']=QRsurvey_2M['想讚揚之處 ( 人、事、時、地、物)'].astype(str)\n",
    "#QRsurvey_2M['想抱怨之處 ( 人、事、時、地、物)']=QRsurvey_2M['想抱怨之處 ( 人、事、時、地、物)'].astype(str)\n",
    "#QRsurvey_2M['其他改善建議之處 ( 人、事、時、地、物)']=QRsurvey_2M['其他改善建議之處 ( 人、事、時、地、物)'].astype(str)\n",
    "QRsurvey_2M=QRsurvey_2M.replace('nan','')\n",
    "#QRsurvey_2M['resp']=QRsurvey_2M['想讚揚之處 ( 人、事、時、地、物)'].map(lambda x:len(x))+QRsurvey_2M['想抱怨之處 ( 人、事、時、地、物)'].map(lambda x:len(x))+QRsurvey_2M['其他改善建議之處 ( 人、事、時、地、物)'].map(lambda x:len(x))\n",
    "\n",
    "\n",
    "QRsurvey_2M_notna=QRsurvey_2M.loc[-np.isnan(QRsurvey_2M.loc[:,'手機']),:]\n",
    "QRsurvey_2M_na=QRsurvey_2M.loc[np.isnan(QRsurvey_2M.loc[:,'手機']),:]\n",
    "\n",
    "\n",
    "QRsurvey_2M_notna.loc[:,'手機']='0'+QRsurvey_2M_notna['手機'].map(lambda x:('%.0f')%x)\n",
    "\n",
    "QRsurvey_2M_notna=QRsurvey_2M_notna.sort_values(by=['手機','date'],ascending=False)\n",
    "\n",
    "QRsurvey_2M_new=QRsurvey_2M_notna.drop_duplicates(subset=['手機','date'],keep='first')\n",
    "\n",
    "QRsurvey_2M_na.loc[:,'手機']=0\n",
    "QRsurvey_2M_new=pd.concat([QRsurvey_2M_new,QRsurvey_2M_na])\n",
    "QRsurvey_2M_new=QRsurvey_2M_new.iloc[:,0:-5]\n",
    "\n",
    "writer = pd.ExcelWriter(target_path+'WW.xlsx', engine='xlsxwriter')\n",
    "QRsurvey_2M_new.to_excel(writer, sheet_name='WW',index=0)\n",
    "writer.save()"
   ]
  },
  {
   "cell_type": "code",
   "execution_count": 13,
   "metadata": {},
   "outputs": [],
   "source": [
    "QRsurvey_2M.index=pd.to_datetime(QRsurvey_2M.填答時間)\n",
    "QRsurvey_2M.填答時間=pd.to_datetime(QRsurvey_2M.填答時間)\n",
    "QRsurvey_2M=QRsurvey_2M.loc['2020-'+stardate:'2020-'+enddate]\n",
    "\n",
    "QRsurvey_2M['date']=QRsurvey_2M['填答時間'].map(lambda x:x.date())\n",
    "#QRsurvey_2M['想讚揚之處 ( 人、事、時、地、物)']=QRsurvey_2M['想讚揚之處 ( 人、事、時、地、物)'].astype(str)\n",
    "#QRsurvey_2M['想抱怨之處 ( 人、事、時、地、物)']=QRsurvey_2M['想抱怨之處 ( 人、事、時、地、物)'].astype(str)\n",
    "#QRsurvey_2M['其他改善建議之處 ( 人、事、時、地、物)']=QRsurvey_2M['其他改善建議之處 ( 人、事、時、地、物)'].astype(str)\n",
    "QRsurvey_2M=QRsurvey_2M.replace('nan','')\n",
    "#QRsurvey_2M['resp']=QRsurvey_2M['想讚揚之處 ( 人、事、時、地、物)'].map(lambda x:len(x))+QRsurvey_2M['想抱怨之處 ( 人、事、時、地、物)'].map(lambda x:len(x))+QRsurvey_2M['其他改善建議之處 ( 人、事、時、地、物)'].map(lambda x:len(x))\n",
    "\n",
    "\n",
    "QRsurvey_2M_notna=QRsurvey_2M.loc[-np.isnan(QRsurvey_2M.loc[:,'手機']),:]\n",
    "QRsurvey_2M_na=QRsurvey_2M.loc[np.isnan(QRsurvey_2M.loc[:,'手機']),:]\n",
    "\n",
    "\n",
    "QRsurvey_2M_notna.loc[:,'手機']='0'+QRsurvey_2M_notna['手機'].map(lambda x:('%.0f')%x)\n"
   ]
  },
  {
   "cell_type": "code",
   "execution_count": null,
   "metadata": {},
   "outputs": [],
   "source": []
  },
  {
   "cell_type": "markdown",
   "metadata": {},
   "source": [
    "# WMF"
   ]
  },
  {
   "cell_type": "code",
   "execution_count": 18,
   "metadata": {},
   "outputs": [],
   "source": [
    "#QRsurvey_1M=pd.read_csv('2020_TLW_QRcode滿意度調查1月.csv')\n",
    "QRsurvey_2M=pd.read_csv('2020_WMF_滿意度調查5月.csv')\n",
    "#QRsurvey_3M=pd.read_csv('2020_TLW_QRcode滿意度調查3月.csv')\n",
    "#QRsurvey_2M=pd.concat([QRsurvey_1M,QRsurvey_2M,QRsurvey_3M])"
   ]
  },
  {
   "cell_type": "code",
   "execution_count": 19,
   "metadata": {},
   "outputs": [],
   "source": [
    "QRsurvey_2M.index=pd.to_datetime(QRsurvey_2M.填答時間)\n",
    "QRsurvey_2M.填答時間=pd.to_datetime(QRsurvey_2M.填答時間)\n",
    "QRsurvey_2M=QRsurvey_2M.loc['2020-'+stardate:'2020-'+enddate]\n",
    "\n",
    "QRsurvey_2M['date']=QRsurvey_2M['填答時間'].map(lambda x:x.date())\n",
    "QRsurvey_2M['想讚揚之處 ( 人、事、時、地、物)']=QRsurvey_2M['想讚揚之處 ( 人、事、時、地、物)'].astype(str)\n",
    "QRsurvey_2M['想抱怨之處 ( 人、事、時、地、物)']=QRsurvey_2M['想抱怨之處 ( 人、事、時、地、物)'].astype(str)\n",
    "QRsurvey_2M['其他改善建議之處 ( 人、事、時、地、物)']=QRsurvey_2M['其他改善建議之處 ( 人、事、時、地、物)'].astype(str)\n",
    "QRsurvey_2M=QRsurvey_2M.replace('nan','')\n",
    "QRsurvey_2M['resp']=QRsurvey_2M['想讚揚之處 ( 人、事、時、地、物)'].map(lambda x:len(x))+QRsurvey_2M['想抱怨之處 ( 人、事、時、地、物)'].map(lambda x:len(x))+QRsurvey_2M['其他改善建議之處 ( 人、事、時、地、物)'].map(lambda x:len(x))\n",
    "\n",
    "\n",
    "QRsurvey_2M_notna=QRsurvey_2M.loc[-np.isnan(QRsurvey_2M.loc[:,'手機']),:]\n",
    "QRsurvey_2M_na=QRsurvey_2M.loc[np.isnan(QRsurvey_2M.loc[:,'手機']),:]\n",
    "\n",
    "\n",
    "QRsurvey_2M_notna.loc[:,'手機']='0'+QRsurvey_2M_notna['手機'].map(lambda x:('%.0f')%x)\n",
    "\n",
    "QRsurvey_2M_notna=QRsurvey_2M_notna.sort_values(by=['手機','date','resp'],ascending=False)\n",
    "\n",
    "QRsurvey_2M_new=QRsurvey_2M_notna.drop_duplicates(subset=['手機','date'],keep='first')\n",
    "\n",
    "QRsurvey_2M_na.loc[:,'手機']=0\n",
    "QRsurvey_2M_new=pd.concat([QRsurvey_2M_new,QRsurvey_2M_na])\n",
    "QRsurvey_2M_new=QRsurvey_2M_new.iloc[:,0:-6]\n",
    "\n",
    "writer = pd.ExcelWriter(target_path+'WMF.xlsx', engine='xlsxwriter')\n",
    "QRsurvey_2M_new.to_excel(writer, sheet_name='WMF',index=0)\n",
    "writer.save()"
   ]
  },
  {
   "cell_type": "code",
   "execution_count": null,
   "metadata": {},
   "outputs": [],
   "source": []
  },
  {
   "cell_type": "markdown",
   "metadata": {},
   "source": [
    "# FR"
   ]
  },
  {
   "cell_type": "code",
   "execution_count": 16,
   "metadata": {},
   "outputs": [],
   "source": [
    "#QRsurvey_1M=pd.read_csv('2020_TLW_QRcode滿意度調查1月.csv')\n",
    "QRsurvey_2M=pd.read_csv('2020_FR_滿意度調查6月.csv')\n",
    "#QRsurvey_3M=pd.read_csv('2020_TLW_QRcode滿意度調查3月.csv')\n",
    "#QRsurvey_2M=pd.concat([QRsurvey_1M,QRsurvey_2M,QRsurvey_3M])"
   ]
  },
  {
   "cell_type": "code",
   "execution_count": 17,
   "metadata": {},
   "outputs": [],
   "source": [
    "QRsurvey_2M.index=pd.to_datetime(QRsurvey_2M.填答時間)\n",
    "QRsurvey_2M.填答時間=pd.to_datetime(QRsurvey_2M.填答時間)\n",
    "QRsurvey_2M=QRsurvey_2M.loc['2020-'+stardate:'2020-'+enddate]\n",
    "\n",
    "QRsurvey_2M['date']=QRsurvey_2M['填答時間'].map(lambda x:x.date())\n",
    "#QRsurvey_2M['想讚揚之處 ( 人、事、時、地、物)']=QRsurvey_2M['想讚揚之處 ( 人、事、時、地、物)'].astype(str)\n",
    "#QRsurvey_2M['想抱怨之處 ( 人、事、時、地、物)']=QRsurvey_2M['想抱怨之處 ( 人、事、時、地、物)'].astype(str)\n",
    "#QRsurvey_2M['其他改善建議之處 ( 人、事、時、地、物)']=QRsurvey_2M['其他改善建議之處 ( 人、事、時、地、物)'].astype(str)\n",
    "QRsurvey_2M=QRsurvey_2M.replace('nan','')\n",
    "#QRsurvey_2M['resp']=QRsurvey_2M['想讚揚之處 ( 人、事、時、地、物)'].map(lambda x:len(x))+QRsurvey_2M['想抱怨之處 ( 人、事、時、地、物)'].map(lambda x:len(x))+QRsurvey_2M['其他改善建議之處 ( 人、事、時、地、物)'].map(lambda x:len(x))\n",
    "\n",
    "\n",
    "QRsurvey_2M_notna=QRsurvey_2M.loc[-np.isnan(QRsurvey_2M.loc[:,'手機']),:]\n",
    "QRsurvey_2M_na=QRsurvey_2M.loc[np.isnan(QRsurvey_2M.loc[:,'手機']),:]\n",
    "\n",
    "\n",
    "QRsurvey_2M_notna.loc[:,'手機']='0'+QRsurvey_2M_notna['手機'].map(lambda x:('%.0f')%x)\n",
    "\n",
    "QRsurvey_2M_notna=QRsurvey_2M_notna.sort_values(by=['手機','date'],ascending=False)\n",
    "\n",
    "QRsurvey_2M_new=QRsurvey_2M_notna.drop_duplicates(subset=['手機','date'],keep='first')\n",
    "\n",
    "QRsurvey_2M_na.loc[:,'手機']=0\n",
    "QRsurvey_2M_new=pd.concat([QRsurvey_2M_new,QRsurvey_2M_na])\n",
    "QRsurvey_2M_new=QRsurvey_2M_new.iloc[:,0:-5]\n",
    "\n",
    "writer = pd.ExcelWriter(target_path+'FR.xlsx', engine='xlsxwriter')\n",
    "QRsurvey_2M_new.to_excel(writer, sheet_name='FR',index=0)\n",
    "writer.save()"
   ]
  },
  {
   "cell_type": "code",
   "execution_count": null,
   "metadata": {},
   "outputs": [],
   "source": []
  },
  {
   "cell_type": "markdown",
   "metadata": {},
   "source": [
    "# 蛋黃"
   ]
  },
  {
   "cell_type": "code",
   "execution_count": 6,
   "metadata": {},
   "outputs": [],
   "source": [
    "QRsurvey_1M=pd.read_csv('蛋黃隨貨_滿意度調查.csv')\n",
    "QRsurvey_2M=pd.read_csv('2020_蛋黃_滿意度調查6月.csv')\n",
    "#QRsurvey_3M=pd.read_csv('2020_TLW_QRcode滿意度調查3月.csv')\n",
    "#QRsurvey_2M=pd.concat([QRsurvey_1M,QRsurvey_2M,QRsurvey_3M])\n",
    "QRsurvey_2M=QRsurvey_2M.iloc[:,list([0])+list(range(3,len(QRsurvey_2M.columns)))]\n",
    "QRsurvey_1M.columns=QRsurvey_2M.columns\n"
   ]
  },
  {
   "cell_type": "code",
   "execution_count": 7,
   "metadata": {},
   "outputs": [],
   "source": [
    "QRsurvey_1M.index=pd.to_datetime(QRsurvey_1M.填答時間)\n",
    "QRsurvey_1M.填答時間=pd.to_datetime(QRsurvey_1M.填答時間)\n",
    "QRsurvey_1M=QRsurvey_1M.loc['2020-'+stardate:'2020-'+enddate]\n",
    "\n",
    "QRsurvey_2M.index=pd.to_datetime(QRsurvey_2M.填答時間)\n",
    "QRsurvey_2M.填答時間=pd.to_datetime(QRsurvey_2M.填答時間)\n",
    "QRsurvey_2M=QRsurvey_2M.loc['2020-'+stardate_EC:'2020-'+enddate_EC]\n",
    "\n",
    "QRsurvey_2M=pd.concat([QRsurvey_1M,QRsurvey_2M])\n",
    "QRsurvey_2M.replace(np.nan,\"\",inplace=True)"
   ]
  },
  {
   "cell_type": "code",
   "execution_count": 8,
   "metadata": {},
   "outputs": [],
   "source": [
    "\n",
    "\n",
    "QRsurvey_2M['date']=QRsurvey_2M['填答時間'].map(lambda x:x.date())\n",
    "#QRsurvey_2M['想讚揚之處 ( 人、事、時、地、物)']=QRsurvey_2M['想讚揚之處 ( 人、事、時、地、物)'].astype(str)\n",
    "#QRsurvey_2M['想抱怨之處 ( 人、事、時、地、物)']=QRsurvey_2M['想抱怨之處 ( 人、事、時、地、物)'].astype(str)\n",
    "#QRsurvey_2M['其他改善建議之處 ( 人、事、時、地、物)']=QRsurvey_2M['其他改善建議之處 ( 人、事、時、地、物)'].astype(str)\n",
    "#QRsurvey_2M['resp']=QRsurvey_2M['想讚揚之處 ( 人、事、時、地、物)'].map(lambda x:len(x))+QRsurvey_2M['想抱怨之處 ( 人、事、時、地、物)'].map(lambda x:len(x))+QRsurvey_2M['其他改善建議之處 ( 人、事、時、地、物)'].map(lambda x:len(x))\n",
    "\n",
    "\n",
    "\n",
    "QRsurvey_2M=QRsurvey_2M.sort_values(by=['訂單編號'],ascending=False)\n",
    "\n",
    "QRsurvey_2M_new=QRsurvey_2M.drop_duplicates(subset=['訂單編號'],keep='first')\n",
    "\n",
    "QRsurvey_2M_new=QRsurvey_2M_new.iloc[:,0:-5]\n",
    "\n",
    "writer = pd.ExcelWriter(target_path_egg+'EC(蛋黃).xlsx', engine='xlsxwriter')\n",
    "QRsurvey_2M_new.to_excel(writer, sheet_name='EC(蛋黃)',index=0)\n",
    "writer.save()\n"
   ]
  },
  {
   "cell_type": "code",
   "execution_count": 9,
   "metadata": {},
   "outputs": [],
   "source": [
    "QRsurvey_2M_new_upload=QRsurvey_2M_new.loc[:,['填答時間','訂單編號']]\n",
    "\n",
    "\n",
    "QRsurvey_2M_new_upload.columns=['NO','SONO']\n",
    "QRsurvey_2M_new_upload.loc[:,'NO']=range(1,len(QRsurvey_2M_new_upload.loc[:,'NO'])+1)\n",
    "\n",
    "QRsurvey_2M_new_upload.to_csv(upload_path_egg+upload_Month+' EC(蛋黃) 滿意度調查 Upload.csv',index=0)\n"
   ]
  },
  {
   "cell_type": "code",
   "execution_count": null,
   "metadata": {},
   "outputs": [],
   "source": []
  },
  {
   "cell_type": "markdown",
   "metadata": {},
   "source": [
    "# 蛋白"
   ]
  },
  {
   "cell_type": "code",
   "execution_count": 10,
   "metadata": {},
   "outputs": [],
   "source": [
    "#QRsurvey_1M=pd.read_csv('2020_TLW_QRcode滿意度調查1月.csv')\n",
    "QRsurvey_2M=pd.read_csv('2020_蛋白_滿意度調查6月.csv')\n",
    "#QRsurvey_3M=pd.read_csv('2020_TLW_QRcode滿意度調查3月.csv')\n",
    "#QRsurvey_2M=pd.concat([QRsurvey_1M,QRsurvey_2M,QRsurvey_3M])"
   ]
  },
  {
   "cell_type": "code",
   "execution_count": 11,
   "metadata": {},
   "outputs": [],
   "source": [
    "QRsurvey_2M.index=pd.to_datetime(QRsurvey_2M.填答時間)\n",
    "QRsurvey_2M.填答時間=pd.to_datetime(QRsurvey_2M.填答時間)\n",
    "QRsurvey_2M=QRsurvey_2M.loc['2020-'+stardate_EC:'2020-'+enddate_EC]\n",
    "\n",
    "QRsurvey_2M['date']=QRsurvey_2M['填答時間'].map(lambda x:x.date())\n",
    "#QRsurvey_2M['想讚揚之處 ( 人、事、時、地、物)']=QRsurvey_2M['想讚揚之處 ( 人、事、時、地、物)'].astype(str)\n",
    "#QRsurvey_2M['想抱怨之處 ( 人、事、時、地、物)']=QRsurvey_2M['想抱怨之處 ( 人、事、時、地、物)'].astype(str)\n",
    "#QRsurvey_2M['其他改善建議之處 ( 人、事、時、地、物)']=QRsurvey_2M['其他改善建議之處 ( 人、事、時、地、物)'].astype(str)\n",
    "QRsurvey_2M=QRsurvey_2M.replace('nan','')\n",
    "#QRsurvey_2M['resp']=QRsurvey_2M['想讚揚之處 ( 人、事、時、地、物)'].map(lambda x:len(x))+QRsurvey_2M['想抱怨之處 ( 人、事、時、地、物)'].map(lambda x:len(x))+QRsurvey_2M['其他改善建議之處 ( 人、事、時、地、物)'].map(lambda x:len(x))\n",
    "\n",
    "\n",
    "QRsurvey_2M_notna=QRsurvey_2M.loc[-np.isnan(QRsurvey_2M.loc[:,'會員手機']),:]\n",
    "QRsurvey_2M_na=QRsurvey_2M.loc[np.isnan(QRsurvey_2M.loc[:,'會員手機']),:]\n",
    "\n",
    "\n",
    "QRsurvey_2M_notna.loc[:,'會員手機']='0'+QRsurvey_2M_notna['會員手機'].map(lambda x:('%.0f')%x)\n",
    "\n",
    "QRsurvey_2M_notna=QRsurvey_2M_notna.sort_values(by=['會員手機','date'],ascending=False)\n",
    "\n",
    "QRsurvey_2M_new=QRsurvey_2M_notna.drop_duplicates(subset=['會員手機','date'],keep='first')\n",
    "\n",
    "QRsurvey_2M_na.loc[:,'會員手機']=0\n",
    "QRsurvey_2M_new=pd.concat([QRsurvey_2M_new,QRsurvey_2M_na])\n",
    "QRsurvey_2M_new=QRsurvey_2M_new.iloc[:,0:-5]\n",
    "\n",
    "writer = pd.ExcelWriter(target_path_egg+'EC(蛋白).xlsx', engine='xlsxwriter')\n",
    "QRsurvey_2M_new.to_excel(writer, sheet_name='EC(蛋白)',index=0)\n",
    "writer.save()"
   ]
  },
  {
   "cell_type": "code",
   "execution_count": 12,
   "metadata": {},
   "outputs": [],
   "source": [
    "QRsurvey_2M_new_upload=QRsurvey_2M_new.loc[:,['填答時間','訂單編號','會員姓名','會員手機']]\n",
    "\n",
    "\n",
    "QRsurvey_2M_new_upload.columns=['NO','SONO','MEM_NAME','MOBILE_NO']\n",
    "QRsurvey_2M_new_upload.loc[:,'NO']=range(1,len(QRsurvey_2M_new_upload.loc[:,'NO'])+1)\n",
    "\n",
    "QRsurvey_2M_new_upload.to_csv(upload_path_egg+upload_Month+' EC(蛋白) 滿意度調查 Upload.csv',index=0)\n"
   ]
  },
  {
   "cell_type": "code",
   "execution_count": null,
   "metadata": {},
   "outputs": [],
   "source": []
  },
  {
   "cell_type": "markdown",
   "metadata": {},
   "source": [
    "# 蛋殼"
   ]
  },
  {
   "cell_type": "code",
   "execution_count": 13,
   "metadata": {},
   "outputs": [],
   "source": [
    "#QRsurvey_1M=pd.read_csv('2020_TLW_QRcode滿意度調查1月.csv')\n",
    "QRsurvey_2M=pd.read_csv('2020_蛋殼_滿意度調查6月.csv')\n",
    "#QRsurvey_3M=pd.read_csv('2020_TLW_QRcode滿意度調查3月.csv')\n",
    "#QRsurvey_2M=pd.concat([QRsurvey_1M,QRsurvey_2M,QRsurvey_3M])"
   ]
  },
  {
   "cell_type": "code",
   "execution_count": 14,
   "metadata": {},
   "outputs": [],
   "source": [
    "QRsurvey_2M.index=pd.to_datetime(QRsurvey_2M.填答時間)\n",
    "QRsurvey_2M.填答時間=pd.to_datetime(QRsurvey_2M.填答時間)\n",
    "QRsurvey_2M=QRsurvey_2M.loc['2020-'+stardate_EC:'2020-'+enddate_EC]\n",
    "\n",
    "QRsurvey_2M['date']=QRsurvey_2M['填答時間'].map(lambda x:x.date())\n",
    "#QRsurvey_2M['想讚揚之處 ( 人、事、時、地、物)']=QRsurvey_2M['想讚揚之處 ( 人、事、時、地、物)'].astype(str)\n",
    "#QRsurvey_2M['想抱怨之處 ( 人、事、時、地、物)']=QRsurvey_2M['想抱怨之處 ( 人、事、時、地、物)'].astype(str)\n",
    "#QRsurvey_2M['其他改善建議之處 ( 人、事、時、地、物)']=QRsurvey_2M['其他改善建議之處 ( 人、事、時、地、物)'].astype(str)\n",
    "QRsurvey_2M=QRsurvey_2M.replace('nan','')\n",
    "#QRsurvey_2M['resp']=QRsurvey_2M['想讚揚之處 ( 人、事、時、地、物)'].map(lambda x:len(x))+QRsurvey_2M['想抱怨之處 ( 人、事、時、地、物)'].map(lambda x:len(x))+QRsurvey_2M['其他改善建議之處 ( 人、事、時、地、物)'].map(lambda x:len(x))\n",
    "\n",
    "\n",
    "QRsurvey_2M_notna=QRsurvey_2M.loc[-np.isnan(QRsurvey_2M.loc[:,'會員手機']),:]\n",
    "QRsurvey_2M_na=QRsurvey_2M.loc[np.isnan(QRsurvey_2M.loc[:,'會員手機']),:]\n",
    "\n",
    "\n",
    "QRsurvey_2M_notna.loc[:,'會員手機']='0'+QRsurvey_2M_notna['會員手機'].map(lambda x:('%.0f')%x)\n",
    "\n",
    "QRsurvey_2M_notna=QRsurvey_2M_notna.sort_values(by=['會員手機','date'],ascending=False)\n",
    "\n",
    "QRsurvey_2M_new=QRsurvey_2M_notna.drop_duplicates(subset=['會員手機','date'],keep='first')\n",
    "\n",
    "QRsurvey_2M_na.loc[:,'會員手機']=0\n",
    "QRsurvey_2M_new=pd.concat([QRsurvey_2M_new,QRsurvey_2M_na])\n",
    "QRsurvey_2M_new=QRsurvey_2M_new.iloc[:,0:-5]\n",
    "\n",
    "writer = pd.ExcelWriter(target_path_egg+'EC(蛋殼).xlsx', engine='xlsxwriter')\n",
    "QRsurvey_2M_new.to_excel(writer, sheet_name='EC(蛋殼)',index=0)\n",
    "writer.save()"
   ]
  },
  {
   "cell_type": "code",
   "execution_count": 15,
   "metadata": {},
   "outputs": [],
   "source": [
    "QRsurvey_2M_new_upload=QRsurvey_2M_new.loc[:,['填答時間','訂單編號','會員姓名','會員手機']]\n",
    "\n",
    "\n",
    "QRsurvey_2M_new_upload.columns=['NO','SONO','MEM_NAME','MOBILE_NO']\n",
    "QRsurvey_2M_new_upload.loc[:,'NO']=range(1,len(QRsurvey_2M_new_upload.loc[:,'NO'])+1)\n",
    "\n",
    "QRsurvey_2M_new_upload.to_csv(upload_path_egg+upload_Month+' EC(蛋殼) 滿意度調查 Upload.csv',index=0)\n"
   ]
  },
  {
   "cell_type": "code",
   "execution_count": null,
   "metadata": {},
   "outputs": [],
   "source": []
  },
  {
   "cell_type": "markdown",
   "metadata": {},
   "source": [
    "# BA upload"
   ]
  },
  {
   "cell_type": "code",
   "execution_count": 20,
   "metadata": {},
   "outputs": [],
   "source": [
    "WW=pd.read_excel(target_path+'WW.xlsx')\n",
    "WMF=pd.read_excel(target_path+'WMF.xlsx')\n",
    "FR=pd.read_excel(target_path+'FR.xlsx')\n"
   ]
  },
  {
   "cell_type": "code",
   "execution_count": 21,
   "metadata": {},
   "outputs": [],
   "source": [
    "WW=WW.iloc[:,[0,1,2]]\n",
    "WW['Channel']='WW'\n",
    "WMF=WMF.iloc[:,[0,1,2]]\n",
    "WMF['Channel']='WMF'\n",
    "FR=FR.iloc[:,[0,1,2]]\n",
    "FR['Channel']='FR'\n",
    "BA=pd.concat([WW,WMF,FR])"
   ]
  },
  {
   "cell_type": "code",
   "execution_count": 22,
   "metadata": {},
   "outputs": [],
   "source": [
    "BA['NO']=BA.index+1\n",
    "BA.columns=['MEM_Name','Mobile_No','當月最後消費店','Channel','NO']\n",
    "BA=BA.iloc[:,[3,4,0,1,2]]\n",
    "BA.loc[:,'Mobile_No']='0'+BA['Mobile_No'].map(lambda x:('%.0f')%x)\n",
    "BA.to_csv(upload_path+upload_Month_BA+' BA 滿意度調查 Upload.csv',index=0)\n"
   ]
  },
  {
   "cell_type": "code",
   "execution_count": null,
   "metadata": {},
   "outputs": [],
   "source": []
  },
  {
   "cell_type": "code",
   "execution_count": null,
   "metadata": {},
   "outputs": [],
   "source": []
  }
 ],
 "metadata": {
  "kernelspec": {
   "display_name": "Python 3",
   "language": "python",
   "name": "python3"
  },
  "language_info": {
   "codemirror_mode": {
    "name": "ipython",
    "version": 3
   },
   "file_extension": ".py",
   "mimetype": "text/x-python",
   "name": "python",
   "nbconvert_exporter": "python",
   "pygments_lexer": "ipython3",
   "version": "3.7.6"
  }
 },
 "nbformat": 4,
 "nbformat_minor": 4
}
